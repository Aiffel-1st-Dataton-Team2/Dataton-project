{
  "nbformat": 4,
  "nbformat_minor": 0,
  "metadata": {
    "colab": {
      "name": "김보성.ipynb",
      "provenance": [],
      "collapsed_sections": [
        "3ERiYEuR_ZKt",
        "H91Hkf7vcfsF",
        "_wqMrfFMv812",
        "-m0B2VVP0zCP",
        "Hfog9E9p1C6m",
        "yVlxQd351H_V",
        "Mfy2vkXJzfGW",
        "mGJ_GvdIzH8Z",
        "fvyzkCROy9gd",
        "kDESxzG_yh6K",
        "jMsq6fyqyRaO",
        "ed7DqbkC0ofH",
        "iC0nkOWGlezK",
        "IBDgBA85562E",
        "7rVh1HM8voAR",
        "x1djpsbzsUVk",
        "68O2KOsuuezt",
        "kblHce7yqrQB",
        "LSAOcEEfqARZ",
        "HUII4N7tqILW",
        "gFJfpDseqPBr",
        "qXzlw9zDqYK1",
        "xojhrbXZwTMc",
        "JafCGIwY-JQu",
        "xPxSt2f0-Yy8"
      ],
      "toc_visible": true
    },
    "kernelspec": {
      "name": "python3",
      "display_name": "Python 3"
    },
    "language_info": {
      "name": "python"
    }
  },
  "cells": [
    {
      "cell_type": "code",
      "execution_count": null,
      "metadata": {
        "colab": {
          "base_uri": "https://localhost:8080/"
        },
        "id": "5VnMpXghgx7x",
        "outputId": "e678b619-7b1f-4d0a-d86a-24f2da8a1a78"
      },
      "outputs": [
        {
          "output_type": "stream",
          "name": "stdout",
          "text": [
            "Requirement already satisfied: plotly-express==0.4.1 in /usr/local/lib/python3.7/dist-packages (0.4.1)\n",
            "Requirement already satisfied: pandas>=0.20.0 in /usr/local/lib/python3.7/dist-packages (from plotly-express==0.4.1) (1.3.5)\n",
            "Requirement already satisfied: plotly>=4.1.0 in /usr/local/lib/python3.7/dist-packages (from plotly-express==0.4.1) (5.5.0)\n",
            "Requirement already satisfied: scipy>=0.18 in /usr/local/lib/python3.7/dist-packages (from plotly-express==0.4.1) (1.4.1)\n",
            "Requirement already satisfied: patsy>=0.5 in /usr/local/lib/python3.7/dist-packages (from plotly-express==0.4.1) (0.5.2)\n",
            "Requirement already satisfied: numpy>=1.11 in /usr/local/lib/python3.7/dist-packages (from plotly-express==0.4.1) (1.21.5)\n",
            "Requirement already satisfied: statsmodels>=0.9.0 in /usr/local/lib/python3.7/dist-packages (from plotly-express==0.4.1) (0.10.2)\n",
            "Requirement already satisfied: python-dateutil>=2.7.3 in /usr/local/lib/python3.7/dist-packages (from pandas>=0.20.0->plotly-express==0.4.1) (2.8.2)\n",
            "Requirement already satisfied: pytz>=2017.3 in /usr/local/lib/python3.7/dist-packages (from pandas>=0.20.0->plotly-express==0.4.1) (2018.9)\n",
            "Requirement already satisfied: six in /usr/local/lib/python3.7/dist-packages (from patsy>=0.5->plotly-express==0.4.1) (1.15.0)\n",
            "Requirement already satisfied: tenacity>=6.2.0 in /usr/local/lib/python3.7/dist-packages (from plotly>=4.1.0->plotly-express==0.4.1) (8.0.1)\n"
          ]
        }
      ],
      "source": [
        "!pip install plotly-express==0.4.1"
      ]
    },
    {
      "cell_type": "markdown",
      "source": [
        "# Netflix Movies and TV Shows\n",
        "***"
      ],
      "metadata": {
        "id": "3CuKqPF0dK3O"
      }
    },
    {
      "cell_type": "markdown",
      "source": [
        "#### import"
      ],
      "metadata": {
        "id": "3ERiYEuR_ZKt"
      }
    },
    {
      "cell_type": "code",
      "source": [
        "from google.colab import drive\n",
        "drive.mount('/content/drive')"
      ],
      "metadata": {
        "colab": {
          "base_uri": "https://localhost:8080/"
        },
        "id": "i414d1Rz-_Tt",
        "outputId": "90b24820-a4a0-4fb8-a7cb-6568b3c61ec2"
      },
      "execution_count": null,
      "outputs": [
        {
          "output_type": "stream",
          "name": "stdout",
          "text": [
            "Drive already mounted at /content/drive; to attempt to forcibly remount, call drive.mount(\"/content/drive\", force_remount=True).\n"
          ]
        }
      ]
    },
    {
      "cell_type": "code",
      "source": [
        "import pandas as pd\n",
        "import numpy as np\n",
        "import matplotlib.pyplot as plt\n",
        "import seaborn as sns\n",
        "import plotly.express as px\n",
        "import plotly.graph_objects as go\n",
        "from plotly.offline import init_notebook_mode, iplot\n",
        "from wordcloud import WordCloud, STOPWORDS\n",
        "import warnings\n",
        "warnings.filterwarnings(\"ignore\")"
      ],
      "metadata": {
        "id": "OfQc6xSfASI8"
      },
      "execution_count": null,
      "outputs": []
    },
    {
      "cell_type": "markdown",
      "source": [
        "### Load Data"
      ],
      "metadata": {
        "id": "H91Hkf7vcfsF"
      }
    },
    {
      "cell_type": "code",
      "source": [
        "# 캐글 넷플릭스 데이터\n",
        "path = '/content/drive/MyDrive/해커톤 1/넷플릭스/'\n",
        "path_1 = path + 'netflix_titles.csv'\n",
        "netflix = pd.read_csv(path_1)\n",
        "netflix.head()"
      ],
      "metadata": {
        "colab": {
          "base_uri": "https://localhost:8080/"
        },
        "id": "xXOmHfPoAOQW",
        "outputId": "c7b655e5-34c7-4a95-d3d1-1e04184a6407"
      },
      "execution_count": null,
      "outputs": [
        {
          "output_type": "execute_result",
          "data": {
            "text/html": [
              "\n",
              "  <div id=\"df-7a50a640-1152-4d48-ab9f-b2b2fbb59253\">\n",
              "    <div class=\"colab-df-container\">\n",
              "      <div>\n",
              "<style scoped>\n",
              "    .dataframe tbody tr th:only-of-type {\n",
              "        vertical-align: middle;\n",
              "    }\n",
              "\n",
              "    .dataframe tbody tr th {\n",
              "        vertical-align: top;\n",
              "    }\n",
              "\n",
              "    .dataframe thead th {\n",
              "        text-align: right;\n",
              "    }\n",
              "</style>\n",
              "<table border=\"1\" class=\"dataframe\">\n",
              "  <thead>\n",
              "    <tr style=\"text-align: right;\">\n",
              "      <th></th>\n",
              "      <th>show_id</th>\n",
              "      <th>type</th>\n",
              "      <th>title</th>\n",
              "      <th>director</th>\n",
              "      <th>cast</th>\n",
              "      <th>country</th>\n",
              "      <th>date_added</th>\n",
              "      <th>release_year</th>\n",
              "      <th>rating</th>\n",
              "      <th>duration</th>\n",
              "      <th>listed_in</th>\n",
              "      <th>description</th>\n",
              "    </tr>\n",
              "  </thead>\n",
              "  <tbody>\n",
              "    <tr>\n",
              "      <th>0</th>\n",
              "      <td>s1</td>\n",
              "      <td>Movie</td>\n",
              "      <td>Dick Johnson Is Dead</td>\n",
              "      <td>Kirsten Johnson</td>\n",
              "      <td>NaN</td>\n",
              "      <td>United States</td>\n",
              "      <td>September 25, 2021</td>\n",
              "      <td>2020</td>\n",
              "      <td>PG-13</td>\n",
              "      <td>90 min</td>\n",
              "      <td>Documentaries</td>\n",
              "      <td>As her father nears the end of his life, filmm...</td>\n",
              "    </tr>\n",
              "    <tr>\n",
              "      <th>1</th>\n",
              "      <td>s2</td>\n",
              "      <td>TV Show</td>\n",
              "      <td>Blood &amp; Water</td>\n",
              "      <td>NaN</td>\n",
              "      <td>Ama Qamata, Khosi Ngema, Gail Mabalane, Thaban...</td>\n",
              "      <td>South Africa</td>\n",
              "      <td>September 24, 2021</td>\n",
              "      <td>2021</td>\n",
              "      <td>TV-MA</td>\n",
              "      <td>2 Seasons</td>\n",
              "      <td>International TV Shows, TV Dramas, TV Mysteries</td>\n",
              "      <td>After crossing paths at a party, a Cape Town t...</td>\n",
              "    </tr>\n",
              "    <tr>\n",
              "      <th>2</th>\n",
              "      <td>s3</td>\n",
              "      <td>TV Show</td>\n",
              "      <td>Ganglands</td>\n",
              "      <td>Julien Leclercq</td>\n",
              "      <td>Sami Bouajila, Tracy Gotoas, Samuel Jouy, Nabi...</td>\n",
              "      <td>NaN</td>\n",
              "      <td>September 24, 2021</td>\n",
              "      <td>2021</td>\n",
              "      <td>TV-MA</td>\n",
              "      <td>1 Season</td>\n",
              "      <td>Crime TV Shows, International TV Shows, TV Act...</td>\n",
              "      <td>To protect his family from a powerful drug lor...</td>\n",
              "    </tr>\n",
              "    <tr>\n",
              "      <th>3</th>\n",
              "      <td>s4</td>\n",
              "      <td>TV Show</td>\n",
              "      <td>Jailbirds New Orleans</td>\n",
              "      <td>NaN</td>\n",
              "      <td>NaN</td>\n",
              "      <td>NaN</td>\n",
              "      <td>September 24, 2021</td>\n",
              "      <td>2021</td>\n",
              "      <td>TV-MA</td>\n",
              "      <td>1 Season</td>\n",
              "      <td>Docuseries, Reality TV</td>\n",
              "      <td>Feuds, flirtations and toilet talk go down amo...</td>\n",
              "    </tr>\n",
              "    <tr>\n",
              "      <th>4</th>\n",
              "      <td>s5</td>\n",
              "      <td>TV Show</td>\n",
              "      <td>Kota Factory</td>\n",
              "      <td>NaN</td>\n",
              "      <td>Mayur More, Jitendra Kumar, Ranjan Raj, Alam K...</td>\n",
              "      <td>India</td>\n",
              "      <td>September 24, 2021</td>\n",
              "      <td>2021</td>\n",
              "      <td>TV-MA</td>\n",
              "      <td>2 Seasons</td>\n",
              "      <td>International TV Shows, Romantic TV Shows, TV ...</td>\n",
              "      <td>In a city of coaching centers known to train I...</td>\n",
              "    </tr>\n",
              "  </tbody>\n",
              "</table>\n",
              "</div>\n",
              "      <button class=\"colab-df-convert\" onclick=\"convertToInteractive('df-7a50a640-1152-4d48-ab9f-b2b2fbb59253')\"\n",
              "              title=\"Convert this dataframe to an interactive table.\"\n",
              "              style=\"display:none;\">\n",
              "        \n",
              "  <svg xmlns=\"http://www.w3.org/2000/svg\" height=\"24px\"viewBox=\"0 0 24 24\"\n",
              "       width=\"24px\">\n",
              "    <path d=\"M0 0h24v24H0V0z\" fill=\"none\"/>\n",
              "    <path d=\"M18.56 5.44l.94 2.06.94-2.06 2.06-.94-2.06-.94-.94-2.06-.94 2.06-2.06.94zm-11 1L8.5 8.5l.94-2.06 2.06-.94-2.06-.94L8.5 2.5l-.94 2.06-2.06.94zm10 10l.94 2.06.94-2.06 2.06-.94-2.06-.94-.94-2.06-.94 2.06-2.06.94z\"/><path d=\"M17.41 7.96l-1.37-1.37c-.4-.4-.92-.59-1.43-.59-.52 0-1.04.2-1.43.59L10.3 9.45l-7.72 7.72c-.78.78-.78 2.05 0 2.83L4 21.41c.39.39.9.59 1.41.59.51 0 1.02-.2 1.41-.59l7.78-7.78 2.81-2.81c.8-.78.8-2.07 0-2.86zM5.41 20L4 18.59l7.72-7.72 1.47 1.35L5.41 20z\"/>\n",
              "  </svg>\n",
              "      </button>\n",
              "      \n",
              "  <style>\n",
              "    .colab-df-container {\n",
              "      display:flex;\n",
              "      flex-wrap:wrap;\n",
              "      gap: 12px;\n",
              "    }\n",
              "\n",
              "    .colab-df-convert {\n",
              "      background-color: #E8F0FE;\n",
              "      border: none;\n",
              "      border-radius: 50%;\n",
              "      cursor: pointer;\n",
              "      display: none;\n",
              "      fill: #1967D2;\n",
              "      height: 32px;\n",
              "      padding: 0 0 0 0;\n",
              "      width: 32px;\n",
              "    }\n",
              "\n",
              "    .colab-df-convert:hover {\n",
              "      background-color: #E2EBFA;\n",
              "      box-shadow: 0px 1px 2px rgba(60, 64, 67, 0.3), 0px 1px 3px 1px rgba(60, 64, 67, 0.15);\n",
              "      fill: #174EA6;\n",
              "    }\n",
              "\n",
              "    [theme=dark] .colab-df-convert {\n",
              "      background-color: #3B4455;\n",
              "      fill: #D2E3FC;\n",
              "    }\n",
              "\n",
              "    [theme=dark] .colab-df-convert:hover {\n",
              "      background-color: #434B5C;\n",
              "      box-shadow: 0px 1px 3px 1px rgba(0, 0, 0, 0.15);\n",
              "      filter: drop-shadow(0px 1px 2px rgba(0, 0, 0, 0.3));\n",
              "      fill: #FFFFFF;\n",
              "    }\n",
              "  </style>\n",
              "\n",
              "      <script>\n",
              "        const buttonEl =\n",
              "          document.querySelector('#df-7a50a640-1152-4d48-ab9f-b2b2fbb59253 button.colab-df-convert');\n",
              "        buttonEl.style.display =\n",
              "          google.colab.kernel.accessAllowed ? 'block' : 'none';\n",
              "\n",
              "        async function convertToInteractive(key) {\n",
              "          const element = document.querySelector('#df-7a50a640-1152-4d48-ab9f-b2b2fbb59253');\n",
              "          const dataTable =\n",
              "            await google.colab.kernel.invokeFunction('convertToInteractive',\n",
              "                                                     [key], {});\n",
              "          if (!dataTable) return;\n",
              "\n",
              "          const docLinkHtml = 'Like what you see? Visit the ' +\n",
              "            '<a target=\"_blank\" href=https://colab.research.google.com/notebooks/data_table.ipynb>data table notebook</a>'\n",
              "            + ' to learn more about interactive tables.';\n",
              "          element.innerHTML = '';\n",
              "          dataTable['output_type'] = 'display_data';\n",
              "          await google.colab.output.renderOutput(dataTable, element);\n",
              "          const docLink = document.createElement('div');\n",
              "          docLink.innerHTML = docLinkHtml;\n",
              "          element.appendChild(docLink);\n",
              "        }\n",
              "      </script>\n",
              "    </div>\n",
              "  </div>\n",
              "  "
            ],
            "text/plain": [
              "  show_id     type                  title         director  \\\n",
              "0      s1    Movie   Dick Johnson Is Dead  Kirsten Johnson   \n",
              "1      s2  TV Show          Blood & Water              NaN   \n",
              "2      s3  TV Show              Ganglands  Julien Leclercq   \n",
              "3      s4  TV Show  Jailbirds New Orleans              NaN   \n",
              "4      s5  TV Show           Kota Factory              NaN   \n",
              "\n",
              "                                                cast        country  \\\n",
              "0                                                NaN  United States   \n",
              "1  Ama Qamata, Khosi Ngema, Gail Mabalane, Thaban...   South Africa   \n",
              "2  Sami Bouajila, Tracy Gotoas, Samuel Jouy, Nabi...            NaN   \n",
              "3                                                NaN            NaN   \n",
              "4  Mayur More, Jitendra Kumar, Ranjan Raj, Alam K...          India   \n",
              "\n",
              "           date_added  release_year rating   duration  \\\n",
              "0  September 25, 2021          2020  PG-13     90 min   \n",
              "1  September 24, 2021          2021  TV-MA  2 Seasons   \n",
              "2  September 24, 2021          2021  TV-MA   1 Season   \n",
              "3  September 24, 2021          2021  TV-MA   1 Season   \n",
              "4  September 24, 2021          2021  TV-MA  2 Seasons   \n",
              "\n",
              "                                           listed_in  \\\n",
              "0                                      Documentaries   \n",
              "1    International TV Shows, TV Dramas, TV Mysteries   \n",
              "2  Crime TV Shows, International TV Shows, TV Act...   \n",
              "3                             Docuseries, Reality TV   \n",
              "4  International TV Shows, Romantic TV Shows, TV ...   \n",
              "\n",
              "                                         description  \n",
              "0  As her father nears the end of his life, filmm...  \n",
              "1  After crossing paths at a party, a Cape Town t...  \n",
              "2  To protect his family from a powerful drug lor...  \n",
              "3  Feuds, flirtations and toilet talk go down amo...  \n",
              "4  In a city of coaching centers known to train I...  "
            ]
          },
          "metadata": {},
          "execution_count": 4
        }
      ]
    },
    {
      "cell_type": "code",
      "source": [
        "# 다른 데이터들 불러오기\n",
        "# 넷플릭스 오리지널\n",
        "path_2 = path + 'NetflixOriginals.csv'\n",
        "netflix_original = pd.read_csv(path_2, encoding='latin1')\n",
        "\n",
        "#넷플릭스 오리지널 두번째 데이터셋\n",
        "path_3= path + 'Netflix Original Content Dataset.csv'\n",
        "netflix_original_2 = pd.read_csv(path_3, encoding='latin1')\n",
        "\n",
        "# 넷플릭스 구독료\n",
        "path_4 = path + 'Netflix subscription fee Dec-2021.csv'\n",
        "netflix_cost = pd.read_csv(path_4, encoding='latin1')\n",
        "\n",
        "# 넷플릭스 주가\n",
        "path_5 = path + 'NFLX_stock_2002to2021.csv'\n",
        "netflix_stock = pd.read_csv(path_5, index_col='Date', parse_dates=True, encoding='latin1')\n",
        "\n",
        "# 디즈니플러스 데이터\n",
        "path_6 = path + 'disney_plus_titles.csv'\n",
        "disney = pd.read_csv(path_6)\n",
        "\n",
        "# 디즈니플러스 주가\n",
        "path_7 = path + 'DIS_stock_2019to2022.csv'\n",
        "disney_stock = pd.read_csv(path_7, index_col='Date', parse_dates=True, encoding='latin1')\n",
        "disney_stock.head()"
      ],
      "metadata": {
        "colab": {
          "base_uri": "https://localhost:8080/"
        },
        "id": "vislKdi3AXIZ",
        "outputId": "42d58883-5865-48d0-83d4-069f329885b0"
      },
      "execution_count": null,
      "outputs": [
        {
          "output_type": "execute_result",
          "data": {
            "text/html": [
              "\n",
              "  <div id=\"df-6d222c91-d399-4bf6-94fe-63f91540333c\">\n",
              "    <div class=\"colab-df-container\">\n",
              "      <div>\n",
              "<style scoped>\n",
              "    .dataframe tbody tr th:only-of-type {\n",
              "        vertical-align: middle;\n",
              "    }\n",
              "\n",
              "    .dataframe tbody tr th {\n",
              "        vertical-align: top;\n",
              "    }\n",
              "\n",
              "    .dataframe thead th {\n",
              "        text-align: right;\n",
              "    }\n",
              "</style>\n",
              "<table border=\"1\" class=\"dataframe\">\n",
              "  <thead>\n",
              "    <tr style=\"text-align: right;\">\n",
              "      <th></th>\n",
              "      <th>Open</th>\n",
              "      <th>High</th>\n",
              "      <th>Low</th>\n",
              "      <th>Close</th>\n",
              "      <th>Adj Close</th>\n",
              "      <th>Volume</th>\n",
              "    </tr>\n",
              "    <tr>\n",
              "      <th>Date</th>\n",
              "      <th></th>\n",
              "      <th></th>\n",
              "      <th></th>\n",
              "      <th></th>\n",
              "      <th></th>\n",
              "      <th></th>\n",
              "    </tr>\n",
              "  </thead>\n",
              "  <tbody>\n",
              "    <tr>\n",
              "      <th>2019-03-11</th>\n",
              "      <td>114.040001</td>\n",
              "      <td>115.000000</td>\n",
              "      <td>114.029999</td>\n",
              "      <td>114.750000</td>\n",
              "      <td>113.364548</td>\n",
              "      <td>6952700</td>\n",
              "    </tr>\n",
              "    <tr>\n",
              "      <th>2019-03-12</th>\n",
              "      <td>114.720001</td>\n",
              "      <td>115.300003</td>\n",
              "      <td>114.040001</td>\n",
              "      <td>114.730003</td>\n",
              "      <td>113.344795</td>\n",
              "      <td>9920300</td>\n",
              "    </tr>\n",
              "    <tr>\n",
              "      <th>2019-03-13</th>\n",
              "      <td>114.839996</td>\n",
              "      <td>114.849998</td>\n",
              "      <td>113.720001</td>\n",
              "      <td>114.089996</td>\n",
              "      <td>112.712509</td>\n",
              "      <td>17994500</td>\n",
              "    </tr>\n",
              "    <tr>\n",
              "      <th>2019-03-14</th>\n",
              "      <td>114.120003</td>\n",
              "      <td>114.769997</td>\n",
              "      <td>113.930000</td>\n",
              "      <td>114.480003</td>\n",
              "      <td>113.097816</td>\n",
              "      <td>17409600</td>\n",
              "    </tr>\n",
              "    <tr>\n",
              "      <th>2019-03-15</th>\n",
              "      <td>114.500000</td>\n",
              "      <td>115.480003</td>\n",
              "      <td>113.680000</td>\n",
              "      <td>114.959999</td>\n",
              "      <td>113.572014</td>\n",
              "      <td>14932700</td>\n",
              "    </tr>\n",
              "  </tbody>\n",
              "</table>\n",
              "</div>\n",
              "      <button class=\"colab-df-convert\" onclick=\"convertToInteractive('df-6d222c91-d399-4bf6-94fe-63f91540333c')\"\n",
              "              title=\"Convert this dataframe to an interactive table.\"\n",
              "              style=\"display:none;\">\n",
              "        \n",
              "  <svg xmlns=\"http://www.w3.org/2000/svg\" height=\"24px\"viewBox=\"0 0 24 24\"\n",
              "       width=\"24px\">\n",
              "    <path d=\"M0 0h24v24H0V0z\" fill=\"none\"/>\n",
              "    <path d=\"M18.56 5.44l.94 2.06.94-2.06 2.06-.94-2.06-.94-.94-2.06-.94 2.06-2.06.94zm-11 1L8.5 8.5l.94-2.06 2.06-.94-2.06-.94L8.5 2.5l-.94 2.06-2.06.94zm10 10l.94 2.06.94-2.06 2.06-.94-2.06-.94-.94-2.06-.94 2.06-2.06.94z\"/><path d=\"M17.41 7.96l-1.37-1.37c-.4-.4-.92-.59-1.43-.59-.52 0-1.04.2-1.43.59L10.3 9.45l-7.72 7.72c-.78.78-.78 2.05 0 2.83L4 21.41c.39.39.9.59 1.41.59.51 0 1.02-.2 1.41-.59l7.78-7.78 2.81-2.81c.8-.78.8-2.07 0-2.86zM5.41 20L4 18.59l7.72-7.72 1.47 1.35L5.41 20z\"/>\n",
              "  </svg>\n",
              "      </button>\n",
              "      \n",
              "  <style>\n",
              "    .colab-df-container {\n",
              "      display:flex;\n",
              "      flex-wrap:wrap;\n",
              "      gap: 12px;\n",
              "    }\n",
              "\n",
              "    .colab-df-convert {\n",
              "      background-color: #E8F0FE;\n",
              "      border: none;\n",
              "      border-radius: 50%;\n",
              "      cursor: pointer;\n",
              "      display: none;\n",
              "      fill: #1967D2;\n",
              "      height: 32px;\n",
              "      padding: 0 0 0 0;\n",
              "      width: 32px;\n",
              "    }\n",
              "\n",
              "    .colab-df-convert:hover {\n",
              "      background-color: #E2EBFA;\n",
              "      box-shadow: 0px 1px 2px rgba(60, 64, 67, 0.3), 0px 1px 3px 1px rgba(60, 64, 67, 0.15);\n",
              "      fill: #174EA6;\n",
              "    }\n",
              "\n",
              "    [theme=dark] .colab-df-convert {\n",
              "      background-color: #3B4455;\n",
              "      fill: #D2E3FC;\n",
              "    }\n",
              "\n",
              "    [theme=dark] .colab-df-convert:hover {\n",
              "      background-color: #434B5C;\n",
              "      box-shadow: 0px 1px 3px 1px rgba(0, 0, 0, 0.15);\n",
              "      filter: drop-shadow(0px 1px 2px rgba(0, 0, 0, 0.3));\n",
              "      fill: #FFFFFF;\n",
              "    }\n",
              "  </style>\n",
              "\n",
              "      <script>\n",
              "        const buttonEl =\n",
              "          document.querySelector('#df-6d222c91-d399-4bf6-94fe-63f91540333c button.colab-df-convert');\n",
              "        buttonEl.style.display =\n",
              "          google.colab.kernel.accessAllowed ? 'block' : 'none';\n",
              "\n",
              "        async function convertToInteractive(key) {\n",
              "          const element = document.querySelector('#df-6d222c91-d399-4bf6-94fe-63f91540333c');\n",
              "          const dataTable =\n",
              "            await google.colab.kernel.invokeFunction('convertToInteractive',\n",
              "                                                     [key], {});\n",
              "          if (!dataTable) return;\n",
              "\n",
              "          const docLinkHtml = 'Like what you see? Visit the ' +\n",
              "            '<a target=\"_blank\" href=https://colab.research.google.com/notebooks/data_table.ipynb>data table notebook</a>'\n",
              "            + ' to learn more about interactive tables.';\n",
              "          element.innerHTML = '';\n",
              "          dataTable['output_type'] = 'display_data';\n",
              "          await google.colab.output.renderOutput(dataTable, element);\n",
              "          const docLink = document.createElement('div');\n",
              "          docLink.innerHTML = docLinkHtml;\n",
              "          element.appendChild(docLink);\n",
              "        }\n",
              "      </script>\n",
              "    </div>\n",
              "  </div>\n",
              "  "
            ],
            "text/plain": [
              "                  Open        High         Low       Close   Adj Close  \\\n",
              "Date                                                                     \n",
              "2019-03-11  114.040001  115.000000  114.029999  114.750000  113.364548   \n",
              "2019-03-12  114.720001  115.300003  114.040001  114.730003  113.344795   \n",
              "2019-03-13  114.839996  114.849998  113.720001  114.089996  112.712509   \n",
              "2019-03-14  114.120003  114.769997  113.930000  114.480003  113.097816   \n",
              "2019-03-15  114.500000  115.480003  113.680000  114.959999  113.572014   \n",
              "\n",
              "              Volume  \n",
              "Date                  \n",
              "2019-03-11   6952700  \n",
              "2019-03-12   9920300  \n",
              "2019-03-13  17994500  \n",
              "2019-03-14  17409600  \n",
              "2019-03-15  14932700  "
            ]
          },
          "metadata": {},
          "execution_count": 5
        }
      ]
    },
    {
      "cell_type": "code",
      "source": [
        "netflix.shape"
      ],
      "metadata": {
        "id": "qDXx-w6jmoSC",
        "colab": {
          "base_uri": "https://localhost:8080/"
        },
        "outputId": "8e4c79b4-622b-4a36-92a5-422a2e86c7f0"
      },
      "execution_count": null,
      "outputs": [
        {
          "output_type": "execute_result",
          "data": {
            "text/plain": [
              "(8807, 12)"
            ]
          },
          "metadata": {},
          "execution_count": 6
        }
      ]
    },
    {
      "cell_type": "code",
      "source": [
        "netflix.info()"
      ],
      "metadata": {
        "id": "mNRXbS_fmHPf",
        "colab": {
          "base_uri": "https://localhost:8080/"
        },
        "outputId": "08c5148a-480f-41dd-ca2d-ade26eb2cb33"
      },
      "execution_count": null,
      "outputs": [
        {
          "output_type": "stream",
          "name": "stdout",
          "text": [
            "<class 'pandas.core.frame.DataFrame'>\n",
            "RangeIndex: 8807 entries, 0 to 8806\n",
            "Data columns (total 12 columns):\n",
            " #   Column        Non-Null Count  Dtype \n",
            "---  ------        --------------  ----- \n",
            " 0   show_id       8807 non-null   object\n",
            " 1   type          8807 non-null   object\n",
            " 2   title         8807 non-null   object\n",
            " 3   director      6173 non-null   object\n",
            " 4   cast          7982 non-null   object\n",
            " 5   country       7976 non-null   object\n",
            " 6   date_added    8797 non-null   object\n",
            " 7   release_year  8807 non-null   int64 \n",
            " 8   rating        8803 non-null   object\n",
            " 9   duration      8804 non-null   object\n",
            " 10  listed_in     8807 non-null   object\n",
            " 11  description   8807 non-null   object\n",
            "dtypes: int64(1), object(11)\n",
            "memory usage: 825.8+ KB\n"
          ]
        }
      ]
    },
    {
      "cell_type": "code",
      "source": [
        "# 결측치가 있는 column이 있는지 확인\n",
        "\n",
        "netflix.isnull().sum()"
      ],
      "metadata": {
        "id": "Rdyf8-XSipIa",
        "colab": {
          "base_uri": "https://localhost:8080/"
        },
        "outputId": "676df272-4479-43ca-f81c-1b4f61f9b453"
      },
      "execution_count": null,
      "outputs": [
        {
          "output_type": "execute_result",
          "data": {
            "text/plain": [
              "show_id            0\n",
              "type               0\n",
              "title              0\n",
              "director        2634\n",
              "cast             825\n",
              "country          831\n",
              "date_added        10\n",
              "release_year       0\n",
              "rating             4\n",
              "duration           3\n",
              "listed_in          0\n",
              "description        0\n",
              "dtype: int64"
            ]
          },
          "metadata": {},
          "execution_count": 8
        }
      ]
    },
    {
      "cell_type": "markdown",
      "source": [
        "\n",
        "\n",
        "* 5개의 column에서 결측치가 발견\n",
        "\n"
      ],
      "metadata": {
        "id": "fpBw-a1WeUKB"
      }
    },
    {
      "cell_type": "markdown",
      "source": [
        "## 시각화"
      ],
      "metadata": {
        "id": "SNtW0lfrqQq5"
      }
    },
    {
      "cell_type": "markdown",
      "source": [
        "### Content Type"
      ],
      "metadata": {
        "id": "_wqMrfFMv812"
      }
    },
    {
      "cell_type": "code",
      "source": [
        "col = \"type\"\n",
        "grouped = netflix[col].value_counts().reset_index() # type의 unique value들을 count 하고, 인덱스를 reset 시킴.\n",
        "grouped = grouped.rename(columns = {col : \"count\", \"index\" : col})\n",
        "\n",
        "grouped"
      ],
      "metadata": {
        "colab": {
          "base_uri": "https://localhost:8080/"
        },
        "id": "dVr0IER6vkSY",
        "outputId": "f66a8557-b2ab-4b3b-e153-20113ee3b461"
      },
      "execution_count": null,
      "outputs": [
        {
          "output_type": "execute_result",
          "data": {
            "text/html": [
              "\n",
              "  <div id=\"df-af9f1b2d-2b2d-46f3-8560-e7572a380b56\">\n",
              "    <div class=\"colab-df-container\">\n",
              "      <div>\n",
              "<style scoped>\n",
              "    .dataframe tbody tr th:only-of-type {\n",
              "        vertical-align: middle;\n",
              "    }\n",
              "\n",
              "    .dataframe tbody tr th {\n",
              "        vertical-align: top;\n",
              "    }\n",
              "\n",
              "    .dataframe thead th {\n",
              "        text-align: right;\n",
              "    }\n",
              "</style>\n",
              "<table border=\"1\" class=\"dataframe\">\n",
              "  <thead>\n",
              "    <tr style=\"text-align: right;\">\n",
              "      <th></th>\n",
              "      <th>type</th>\n",
              "      <th>count</th>\n",
              "    </tr>\n",
              "  </thead>\n",
              "  <tbody>\n",
              "    <tr>\n",
              "      <th>0</th>\n",
              "      <td>Movie</td>\n",
              "      <td>6131</td>\n",
              "    </tr>\n",
              "    <tr>\n",
              "      <th>1</th>\n",
              "      <td>TV Show</td>\n",
              "      <td>2676</td>\n",
              "    </tr>\n",
              "  </tbody>\n",
              "</table>\n",
              "</div>\n",
              "      <button class=\"colab-df-convert\" onclick=\"convertToInteractive('df-af9f1b2d-2b2d-46f3-8560-e7572a380b56')\"\n",
              "              title=\"Convert this dataframe to an interactive table.\"\n",
              "              style=\"display:none;\">\n",
              "        \n",
              "  <svg xmlns=\"http://www.w3.org/2000/svg\" height=\"24px\"viewBox=\"0 0 24 24\"\n",
              "       width=\"24px\">\n",
              "    <path d=\"M0 0h24v24H0V0z\" fill=\"none\"/>\n",
              "    <path d=\"M18.56 5.44l.94 2.06.94-2.06 2.06-.94-2.06-.94-.94-2.06-.94 2.06-2.06.94zm-11 1L8.5 8.5l.94-2.06 2.06-.94-2.06-.94L8.5 2.5l-.94 2.06-2.06.94zm10 10l.94 2.06.94-2.06 2.06-.94-2.06-.94-.94-2.06-.94 2.06-2.06.94z\"/><path d=\"M17.41 7.96l-1.37-1.37c-.4-.4-.92-.59-1.43-.59-.52 0-1.04.2-1.43.59L10.3 9.45l-7.72 7.72c-.78.78-.78 2.05 0 2.83L4 21.41c.39.39.9.59 1.41.59.51 0 1.02-.2 1.41-.59l7.78-7.78 2.81-2.81c.8-.78.8-2.07 0-2.86zM5.41 20L4 18.59l7.72-7.72 1.47 1.35L5.41 20z\"/>\n",
              "  </svg>\n",
              "      </button>\n",
              "      \n",
              "  <style>\n",
              "    .colab-df-container {\n",
              "      display:flex;\n",
              "      flex-wrap:wrap;\n",
              "      gap: 12px;\n",
              "    }\n",
              "\n",
              "    .colab-df-convert {\n",
              "      background-color: #E8F0FE;\n",
              "      border: none;\n",
              "      border-radius: 50%;\n",
              "      cursor: pointer;\n",
              "      display: none;\n",
              "      fill: #1967D2;\n",
              "      height: 32px;\n",
              "      padding: 0 0 0 0;\n",
              "      width: 32px;\n",
              "    }\n",
              "\n",
              "    .colab-df-convert:hover {\n",
              "      background-color: #E2EBFA;\n",
              "      box-shadow: 0px 1px 2px rgba(60, 64, 67, 0.3), 0px 1px 3px 1px rgba(60, 64, 67, 0.15);\n",
              "      fill: #174EA6;\n",
              "    }\n",
              "\n",
              "    [theme=dark] .colab-df-convert {\n",
              "      background-color: #3B4455;\n",
              "      fill: #D2E3FC;\n",
              "    }\n",
              "\n",
              "    [theme=dark] .colab-df-convert:hover {\n",
              "      background-color: #434B5C;\n",
              "      box-shadow: 0px 1px 3px 1px rgba(0, 0, 0, 0.15);\n",
              "      filter: drop-shadow(0px 1px 2px rgba(0, 0, 0, 0.3));\n",
              "      fill: #FFFFFF;\n",
              "    }\n",
              "  </style>\n",
              "\n",
              "      <script>\n",
              "        const buttonEl =\n",
              "          document.querySelector('#df-af9f1b2d-2b2d-46f3-8560-e7572a380b56 button.colab-df-convert');\n",
              "        buttonEl.style.display =\n",
              "          google.colab.kernel.accessAllowed ? 'block' : 'none';\n",
              "\n",
              "        async function convertToInteractive(key) {\n",
              "          const element = document.querySelector('#df-af9f1b2d-2b2d-46f3-8560-e7572a380b56');\n",
              "          const dataTable =\n",
              "            await google.colab.kernel.invokeFunction('convertToInteractive',\n",
              "                                                     [key], {});\n",
              "          if (!dataTable) return;\n",
              "\n",
              "          const docLinkHtml = 'Like what you see? Visit the ' +\n",
              "            '<a target=\"_blank\" href=https://colab.research.google.com/notebooks/data_table.ipynb>data table notebook</a>'\n",
              "            + ' to learn more about interactive tables.';\n",
              "          element.innerHTML = '';\n",
              "          dataTable['output_type'] = 'display_data';\n",
              "          await google.colab.output.renderOutput(dataTable, element);\n",
              "          const docLink = document.createElement('div');\n",
              "          docLink.innerHTML = docLinkHtml;\n",
              "          element.appendChild(docLink);\n",
              "        }\n",
              "      </script>\n",
              "    </div>\n",
              "  </div>\n",
              "  "
            ],
            "text/plain": [
              "      type  count\n",
              "0    Movie   6131\n",
              "1  TV Show   2676"
            ]
          },
          "metadata": {},
          "execution_count": 9
        }
      ]
    },
    {
      "cell_type": "code",
      "source": [
        "## Content Type을 시각화\n",
        "\n",
        "trace = go.Pie(labels=grouped[col], values=grouped['count'], pull=[0.05, 0], marker=dict(colors=['#221f1f', '#b20710']))\n",
        "layout = go.Layout(title=\"\", height=400, legend=dict(x=0.1, y=1.1))\n",
        "fig = go.Figure(data = [trace], layout = layout)\n",
        "iplot(fig)"
      ],
      "metadata": {
        "colab": {
          "base_uri": "https://localhost:8080/"
        },
        "id": "I0wZza6iywqA",
        "outputId": "530451d1-6f47-4e76-ff1f-d42a1aabc11a"
      },
      "execution_count": null,
      "outputs": [
        {
          "output_type": "display_data",
          "data": {
            "text/html": [
              "<html>\n",
              "<head><meta charset=\"utf-8\" /></head>\n",
              "<body>\n",
              "    <div>            <script src=\"https://cdnjs.cloudflare.com/ajax/libs/mathjax/2.7.5/MathJax.js?config=TeX-AMS-MML_SVG\"></script><script type=\"text/javascript\">if (window.MathJax) {MathJax.Hub.Config({SVG: {font: \"STIX-Web\"}});}</script>                <script type=\"text/javascript\">window.PlotlyConfig = {MathJaxConfig: 'local'};</script>\n",
              "        <script src=\"https://cdn.plot.ly/plotly-2.8.3.min.js\"></script>                <div id=\"bbfe122b-84c4-4a79-84a7-53c616dc10af\" class=\"plotly-graph-div\" style=\"height:400px; width:100%;\"></div>            <script type=\"text/javascript\">                                    window.PLOTLYENV=window.PLOTLYENV || {};                                    if (document.getElementById(\"bbfe122b-84c4-4a79-84a7-53c616dc10af\")) {                    Plotly.newPlot(                        \"bbfe122b-84c4-4a79-84a7-53c616dc10af\",                        [{\"labels\":[\"Movie\",\"TV Show\"],\"marker\":{\"colors\":[\"#221f1f\",\"#b20710\"]},\"pull\":[0.05,0],\"values\":[6131,2676],\"type\":\"pie\"}],                        {\"height\":400,\"legend\":{\"x\":0.1,\"y\":1.1},\"template\":{\"data\":{\"barpolar\":[{\"marker\":{\"line\":{\"color\":\"#E5ECF6\",\"width\":0.5},\"pattern\":{\"fillmode\":\"overlay\",\"size\":10,\"solidity\":0.2}},\"type\":\"barpolar\"}],\"bar\":[{\"error_x\":{\"color\":\"#2a3f5f\"},\"error_y\":{\"color\":\"#2a3f5f\"},\"marker\":{\"line\":{\"color\":\"#E5ECF6\",\"width\":0.5},\"pattern\":{\"fillmode\":\"overlay\",\"size\":10,\"solidity\":0.2}},\"type\":\"bar\"}],\"carpet\":[{\"aaxis\":{\"endlinecolor\":\"#2a3f5f\",\"gridcolor\":\"white\",\"linecolor\":\"white\",\"minorgridcolor\":\"white\",\"startlinecolor\":\"#2a3f5f\"},\"baxis\":{\"endlinecolor\":\"#2a3f5f\",\"gridcolor\":\"white\",\"linecolor\":\"white\",\"minorgridcolor\":\"white\",\"startlinecolor\":\"#2a3f5f\"},\"type\":\"carpet\"}],\"choropleth\":[{\"colorbar\":{\"outlinewidth\":0,\"ticks\":\"\"},\"type\":\"choropleth\"}],\"contourcarpet\":[{\"colorbar\":{\"outlinewidth\":0,\"ticks\":\"\"},\"type\":\"contourcarpet\"}],\"contour\":[{\"colorbar\":{\"outlinewidth\":0,\"ticks\":\"\"},\"colorscale\":[[0.0,\"#0d0887\"],[0.1111111111111111,\"#46039f\"],[0.2222222222222222,\"#7201a8\"],[0.3333333333333333,\"#9c179e\"],[0.4444444444444444,\"#bd3786\"],[0.5555555555555556,\"#d8576b\"],[0.6666666666666666,\"#ed7953\"],[0.7777777777777778,\"#fb9f3a\"],[0.8888888888888888,\"#fdca26\"],[1.0,\"#f0f921\"]],\"type\":\"contour\"}],\"heatmapgl\":[{\"colorbar\":{\"outlinewidth\":0,\"ticks\":\"\"},\"colorscale\":[[0.0,\"#0d0887\"],[0.1111111111111111,\"#46039f\"],[0.2222222222222222,\"#7201a8\"],[0.3333333333333333,\"#9c179e\"],[0.4444444444444444,\"#bd3786\"],[0.5555555555555556,\"#d8576b\"],[0.6666666666666666,\"#ed7953\"],[0.7777777777777778,\"#fb9f3a\"],[0.8888888888888888,\"#fdca26\"],[1.0,\"#f0f921\"]],\"type\":\"heatmapgl\"}],\"heatmap\":[{\"colorbar\":{\"outlinewidth\":0,\"ticks\":\"\"},\"colorscale\":[[0.0,\"#0d0887\"],[0.1111111111111111,\"#46039f\"],[0.2222222222222222,\"#7201a8\"],[0.3333333333333333,\"#9c179e\"],[0.4444444444444444,\"#bd3786\"],[0.5555555555555556,\"#d8576b\"],[0.6666666666666666,\"#ed7953\"],[0.7777777777777778,\"#fb9f3a\"],[0.8888888888888888,\"#fdca26\"],[1.0,\"#f0f921\"]],\"type\":\"heatmap\"}],\"histogram2dcontour\":[{\"colorbar\":{\"outlinewidth\":0,\"ticks\":\"\"},\"colorscale\":[[0.0,\"#0d0887\"],[0.1111111111111111,\"#46039f\"],[0.2222222222222222,\"#7201a8\"],[0.3333333333333333,\"#9c179e\"],[0.4444444444444444,\"#bd3786\"],[0.5555555555555556,\"#d8576b\"],[0.6666666666666666,\"#ed7953\"],[0.7777777777777778,\"#fb9f3a\"],[0.8888888888888888,\"#fdca26\"],[1.0,\"#f0f921\"]],\"type\":\"histogram2dcontour\"}],\"histogram2d\":[{\"colorbar\":{\"outlinewidth\":0,\"ticks\":\"\"},\"colorscale\":[[0.0,\"#0d0887\"],[0.1111111111111111,\"#46039f\"],[0.2222222222222222,\"#7201a8\"],[0.3333333333333333,\"#9c179e\"],[0.4444444444444444,\"#bd3786\"],[0.5555555555555556,\"#d8576b\"],[0.6666666666666666,\"#ed7953\"],[0.7777777777777778,\"#fb9f3a\"],[0.8888888888888888,\"#fdca26\"],[1.0,\"#f0f921\"]],\"type\":\"histogram2d\"}],\"histogram\":[{\"marker\":{\"pattern\":{\"fillmode\":\"overlay\",\"size\":10,\"solidity\":0.2}},\"type\":\"histogram\"}],\"mesh3d\":[{\"colorbar\":{\"outlinewidth\":0,\"ticks\":\"\"},\"type\":\"mesh3d\"}],\"parcoords\":[{\"line\":{\"colorbar\":{\"outlinewidth\":0,\"ticks\":\"\"}},\"type\":\"parcoords\"}],\"pie\":[{\"automargin\":true,\"type\":\"pie\"}],\"scatter3d\":[{\"line\":{\"colorbar\":{\"outlinewidth\":0,\"ticks\":\"\"}},\"marker\":{\"colorbar\":{\"outlinewidth\":0,\"ticks\":\"\"}},\"type\":\"scatter3d\"}],\"scattercarpet\":[{\"marker\":{\"colorbar\":{\"outlinewidth\":0,\"ticks\":\"\"}},\"type\":\"scattercarpet\"}],\"scattergeo\":[{\"marker\":{\"colorbar\":{\"outlinewidth\":0,\"ticks\":\"\"}},\"type\":\"scattergeo\"}],\"scattergl\":[{\"marker\":{\"colorbar\":{\"outlinewidth\":0,\"ticks\":\"\"}},\"type\":\"scattergl\"}],\"scattermapbox\":[{\"marker\":{\"colorbar\":{\"outlinewidth\":0,\"ticks\":\"\"}},\"type\":\"scattermapbox\"}],\"scatterpolargl\":[{\"marker\":{\"colorbar\":{\"outlinewidth\":0,\"ticks\":\"\"}},\"type\":\"scatterpolargl\"}],\"scatterpolar\":[{\"marker\":{\"colorbar\":{\"outlinewidth\":0,\"ticks\":\"\"}},\"type\":\"scatterpolar\"}],\"scatter\":[{\"marker\":{\"colorbar\":{\"outlinewidth\":0,\"ticks\":\"\"}},\"type\":\"scatter\"}],\"scatterternary\":[{\"marker\":{\"colorbar\":{\"outlinewidth\":0,\"ticks\":\"\"}},\"type\":\"scatterternary\"}],\"surface\":[{\"colorbar\":{\"outlinewidth\":0,\"ticks\":\"\"},\"colorscale\":[[0.0,\"#0d0887\"],[0.1111111111111111,\"#46039f\"],[0.2222222222222222,\"#7201a8\"],[0.3333333333333333,\"#9c179e\"],[0.4444444444444444,\"#bd3786\"],[0.5555555555555556,\"#d8576b\"],[0.6666666666666666,\"#ed7953\"],[0.7777777777777778,\"#fb9f3a\"],[0.8888888888888888,\"#fdca26\"],[1.0,\"#f0f921\"]],\"type\":\"surface\"}],\"table\":[{\"cells\":{\"fill\":{\"color\":\"#EBF0F8\"},\"line\":{\"color\":\"white\"}},\"header\":{\"fill\":{\"color\":\"#C8D4E3\"},\"line\":{\"color\":\"white\"}},\"type\":\"table\"}]},\"layout\":{\"annotationdefaults\":{\"arrowcolor\":\"#2a3f5f\",\"arrowhead\":0,\"arrowwidth\":1},\"autotypenumbers\":\"strict\",\"coloraxis\":{\"colorbar\":{\"outlinewidth\":0,\"ticks\":\"\"}},\"colorscale\":{\"diverging\":[[0,\"#8e0152\"],[0.1,\"#c51b7d\"],[0.2,\"#de77ae\"],[0.3,\"#f1b6da\"],[0.4,\"#fde0ef\"],[0.5,\"#f7f7f7\"],[0.6,\"#e6f5d0\"],[0.7,\"#b8e186\"],[0.8,\"#7fbc41\"],[0.9,\"#4d9221\"],[1,\"#276419\"]],\"sequential\":[[0.0,\"#0d0887\"],[0.1111111111111111,\"#46039f\"],[0.2222222222222222,\"#7201a8\"],[0.3333333333333333,\"#9c179e\"],[0.4444444444444444,\"#bd3786\"],[0.5555555555555556,\"#d8576b\"],[0.6666666666666666,\"#ed7953\"],[0.7777777777777778,\"#fb9f3a\"],[0.8888888888888888,\"#fdca26\"],[1.0,\"#f0f921\"]],\"sequentialminus\":[[0.0,\"#0d0887\"],[0.1111111111111111,\"#46039f\"],[0.2222222222222222,\"#7201a8\"],[0.3333333333333333,\"#9c179e\"],[0.4444444444444444,\"#bd3786\"],[0.5555555555555556,\"#d8576b\"],[0.6666666666666666,\"#ed7953\"],[0.7777777777777778,\"#fb9f3a\"],[0.8888888888888888,\"#fdca26\"],[1.0,\"#f0f921\"]]},\"colorway\":[\"#636efa\",\"#EF553B\",\"#00cc96\",\"#ab63fa\",\"#FFA15A\",\"#19d3f3\",\"#FF6692\",\"#B6E880\",\"#FF97FF\",\"#FECB52\"],\"font\":{\"color\":\"#2a3f5f\"},\"geo\":{\"bgcolor\":\"white\",\"lakecolor\":\"white\",\"landcolor\":\"#E5ECF6\",\"showlakes\":true,\"showland\":true,\"subunitcolor\":\"white\"},\"hoverlabel\":{\"align\":\"left\"},\"hovermode\":\"closest\",\"mapbox\":{\"style\":\"light\"},\"paper_bgcolor\":\"white\",\"plot_bgcolor\":\"#E5ECF6\",\"polar\":{\"angularaxis\":{\"gridcolor\":\"white\",\"linecolor\":\"white\",\"ticks\":\"\"},\"bgcolor\":\"#E5ECF6\",\"radialaxis\":{\"gridcolor\":\"white\",\"linecolor\":\"white\",\"ticks\":\"\"}},\"scene\":{\"xaxis\":{\"backgroundcolor\":\"#E5ECF6\",\"gridcolor\":\"white\",\"gridwidth\":2,\"linecolor\":\"white\",\"showbackground\":true,\"ticks\":\"\",\"zerolinecolor\":\"white\"},\"yaxis\":{\"backgroundcolor\":\"#E5ECF6\",\"gridcolor\":\"white\",\"gridwidth\":2,\"linecolor\":\"white\",\"showbackground\":true,\"ticks\":\"\",\"zerolinecolor\":\"white\"},\"zaxis\":{\"backgroundcolor\":\"#E5ECF6\",\"gridcolor\":\"white\",\"gridwidth\":2,\"linecolor\":\"white\",\"showbackground\":true,\"ticks\":\"\",\"zerolinecolor\":\"white\"}},\"shapedefaults\":{\"line\":{\"color\":\"#2a3f5f\"}},\"ternary\":{\"aaxis\":{\"gridcolor\":\"white\",\"linecolor\":\"white\",\"ticks\":\"\"},\"baxis\":{\"gridcolor\":\"white\",\"linecolor\":\"white\",\"ticks\":\"\"},\"bgcolor\":\"#E5ECF6\",\"caxis\":{\"gridcolor\":\"white\",\"linecolor\":\"white\",\"ticks\":\"\"}},\"title\":{\"x\":0.05},\"xaxis\":{\"automargin\":true,\"gridcolor\":\"white\",\"linecolor\":\"white\",\"ticks\":\"\",\"title\":{\"standoff\":15},\"zerolinecolor\":\"white\",\"zerolinewidth\":2},\"yaxis\":{\"automargin\":true,\"gridcolor\":\"white\",\"linecolor\":\"white\",\"ticks\":\"\",\"title\":{\"standoff\":15},\"zerolinecolor\":\"white\",\"zerolinewidth\":2}}},\"title\":{\"text\":\"\"}},                        {\"responsive\": true}                    ).then(function(){\n",
              "                            \n",
              "var gd = document.getElementById('bbfe122b-84c4-4a79-84a7-53c616dc10af');\n",
              "var x = new MutationObserver(function (mutations, observer) {{\n",
              "        var display = window.getComputedStyle(gd).display;\n",
              "        if (!display || display === 'none') {{\n",
              "            console.log([gd, 'removed!']);\n",
              "            Plotly.purge(gd);\n",
              "            observer.disconnect();\n",
              "        }}\n",
              "}});\n",
              "\n",
              "// Listen for the removal of the full notebook cells\n",
              "var notebookContainer = gd.closest('#notebook-container');\n",
              "if (notebookContainer) {{\n",
              "    x.observe(notebookContainer, {childList: true});\n",
              "}}\n",
              "\n",
              "// Listen for the clearing of the current output cell\n",
              "var outputEl = gd.closest('.output');\n",
              "if (outputEl) {{\n",
              "    x.observe(outputEl, {childList: true});\n",
              "}}\n",
              "\n",
              "                        })                };                            </script>        </div>\n",
              "</body>\n",
              "</html>"
            ]
          },
          "metadata": {}
        }
      ]
    },
    {
      "cell_type": "markdown",
      "source": [
        "### 국가별"
      ],
      "metadata": {
        "id": "_Qlz2J_E-wM5"
      }
    },
    {
      "cell_type": "markdown",
      "source": [
        "#### country count 셋업"
      ],
      "metadata": {
        "id": "-m0B2VVP0zCP"
      }
    },
    {
      "cell_type": "code",
      "source": [
        "country_count = netflix.copy() # netflix 데이터프레임을 copy하고 country_count에 저장\n",
        "country_count = pd.concat([country_count, netflix[\"country\"].str.split(\",\", expand = True)], axis = 1)\n",
        "country_count"
      ],
      "metadata": {
        "id": "6H1z17AcDnth",
        "colab": {
          "base_uri": "https://localhost:8080/"
        },
        "outputId": "1b0561ab-0898-4011-e84f-779ef6f50560"
      },
      "execution_count": null,
      "outputs": [
        {
          "output_type": "execute_result",
          "data": {
            "text/html": [
              "\n",
              "  <div id=\"df-717a9724-04ea-4656-8f14-ef82e72f8681\">\n",
              "    <div class=\"colab-df-container\">\n",
              "      <div>\n",
              "<style scoped>\n",
              "    .dataframe tbody tr th:only-of-type {\n",
              "        vertical-align: middle;\n",
              "    }\n",
              "\n",
              "    .dataframe tbody tr th {\n",
              "        vertical-align: top;\n",
              "    }\n",
              "\n",
              "    .dataframe thead th {\n",
              "        text-align: right;\n",
              "    }\n",
              "</style>\n",
              "<table border=\"1\" class=\"dataframe\">\n",
              "  <thead>\n",
              "    <tr style=\"text-align: right;\">\n",
              "      <th></th>\n",
              "      <th>show_id</th>\n",
              "      <th>type</th>\n",
              "      <th>title</th>\n",
              "      <th>director</th>\n",
              "      <th>cast</th>\n",
              "      <th>country</th>\n",
              "      <th>date_added</th>\n",
              "      <th>release_year</th>\n",
              "      <th>rating</th>\n",
              "      <th>duration</th>\n",
              "      <th>...</th>\n",
              "      <th>2</th>\n",
              "      <th>3</th>\n",
              "      <th>4</th>\n",
              "      <th>5</th>\n",
              "      <th>6</th>\n",
              "      <th>7</th>\n",
              "      <th>8</th>\n",
              "      <th>9</th>\n",
              "      <th>10</th>\n",
              "      <th>11</th>\n",
              "    </tr>\n",
              "  </thead>\n",
              "  <tbody>\n",
              "    <tr>\n",
              "      <th>0</th>\n",
              "      <td>s1</td>\n",
              "      <td>Movie</td>\n",
              "      <td>Dick Johnson Is Dead</td>\n",
              "      <td>Kirsten Johnson</td>\n",
              "      <td>NaN</td>\n",
              "      <td>United States</td>\n",
              "      <td>September 25, 2021</td>\n",
              "      <td>2020</td>\n",
              "      <td>PG-13</td>\n",
              "      <td>90 min</td>\n",
              "      <td>...</td>\n",
              "      <td>None</td>\n",
              "      <td>None</td>\n",
              "      <td>None</td>\n",
              "      <td>None</td>\n",
              "      <td>None</td>\n",
              "      <td>None</td>\n",
              "      <td>None</td>\n",
              "      <td>None</td>\n",
              "      <td>None</td>\n",
              "      <td>None</td>\n",
              "    </tr>\n",
              "    <tr>\n",
              "      <th>1</th>\n",
              "      <td>s2</td>\n",
              "      <td>TV Show</td>\n",
              "      <td>Blood &amp; Water</td>\n",
              "      <td>NaN</td>\n",
              "      <td>Ama Qamata, Khosi Ngema, Gail Mabalane, Thaban...</td>\n",
              "      <td>South Africa</td>\n",
              "      <td>September 24, 2021</td>\n",
              "      <td>2021</td>\n",
              "      <td>TV-MA</td>\n",
              "      <td>2 Seasons</td>\n",
              "      <td>...</td>\n",
              "      <td>None</td>\n",
              "      <td>None</td>\n",
              "      <td>None</td>\n",
              "      <td>None</td>\n",
              "      <td>None</td>\n",
              "      <td>None</td>\n",
              "      <td>None</td>\n",
              "      <td>None</td>\n",
              "      <td>None</td>\n",
              "      <td>None</td>\n",
              "    </tr>\n",
              "    <tr>\n",
              "      <th>2</th>\n",
              "      <td>s3</td>\n",
              "      <td>TV Show</td>\n",
              "      <td>Ganglands</td>\n",
              "      <td>Julien Leclercq</td>\n",
              "      <td>Sami Bouajila, Tracy Gotoas, Samuel Jouy, Nabi...</td>\n",
              "      <td>NaN</td>\n",
              "      <td>September 24, 2021</td>\n",
              "      <td>2021</td>\n",
              "      <td>TV-MA</td>\n",
              "      <td>1 Season</td>\n",
              "      <td>...</td>\n",
              "      <td>None</td>\n",
              "      <td>None</td>\n",
              "      <td>None</td>\n",
              "      <td>None</td>\n",
              "      <td>None</td>\n",
              "      <td>None</td>\n",
              "      <td>None</td>\n",
              "      <td>None</td>\n",
              "      <td>None</td>\n",
              "      <td>None</td>\n",
              "    </tr>\n",
              "    <tr>\n",
              "      <th>3</th>\n",
              "      <td>s4</td>\n",
              "      <td>TV Show</td>\n",
              "      <td>Jailbirds New Orleans</td>\n",
              "      <td>NaN</td>\n",
              "      <td>NaN</td>\n",
              "      <td>NaN</td>\n",
              "      <td>September 24, 2021</td>\n",
              "      <td>2021</td>\n",
              "      <td>TV-MA</td>\n",
              "      <td>1 Season</td>\n",
              "      <td>...</td>\n",
              "      <td>None</td>\n",
              "      <td>None</td>\n",
              "      <td>None</td>\n",
              "      <td>None</td>\n",
              "      <td>None</td>\n",
              "      <td>None</td>\n",
              "      <td>None</td>\n",
              "      <td>None</td>\n",
              "      <td>None</td>\n",
              "      <td>None</td>\n",
              "    </tr>\n",
              "    <tr>\n",
              "      <th>4</th>\n",
              "      <td>s5</td>\n",
              "      <td>TV Show</td>\n",
              "      <td>Kota Factory</td>\n",
              "      <td>NaN</td>\n",
              "      <td>Mayur More, Jitendra Kumar, Ranjan Raj, Alam K...</td>\n",
              "      <td>India</td>\n",
              "      <td>September 24, 2021</td>\n",
              "      <td>2021</td>\n",
              "      <td>TV-MA</td>\n",
              "      <td>2 Seasons</td>\n",
              "      <td>...</td>\n",
              "      <td>None</td>\n",
              "      <td>None</td>\n",
              "      <td>None</td>\n",
              "      <td>None</td>\n",
              "      <td>None</td>\n",
              "      <td>None</td>\n",
              "      <td>None</td>\n",
              "      <td>None</td>\n",
              "      <td>None</td>\n",
              "      <td>None</td>\n",
              "    </tr>\n",
              "    <tr>\n",
              "      <th>...</th>\n",
              "      <td>...</td>\n",
              "      <td>...</td>\n",
              "      <td>...</td>\n",
              "      <td>...</td>\n",
              "      <td>...</td>\n",
              "      <td>...</td>\n",
              "      <td>...</td>\n",
              "      <td>...</td>\n",
              "      <td>...</td>\n",
              "      <td>...</td>\n",
              "      <td>...</td>\n",
              "      <td>...</td>\n",
              "      <td>...</td>\n",
              "      <td>...</td>\n",
              "      <td>...</td>\n",
              "      <td>...</td>\n",
              "      <td>...</td>\n",
              "      <td>...</td>\n",
              "      <td>...</td>\n",
              "      <td>...</td>\n",
              "      <td>...</td>\n",
              "    </tr>\n",
              "    <tr>\n",
              "      <th>8802</th>\n",
              "      <td>s8803</td>\n",
              "      <td>Movie</td>\n",
              "      <td>Zodiac</td>\n",
              "      <td>David Fincher</td>\n",
              "      <td>Mark Ruffalo, Jake Gyllenhaal, Robert Downey J...</td>\n",
              "      <td>United States</td>\n",
              "      <td>November 20, 2019</td>\n",
              "      <td>2007</td>\n",
              "      <td>R</td>\n",
              "      <td>158 min</td>\n",
              "      <td>...</td>\n",
              "      <td>None</td>\n",
              "      <td>None</td>\n",
              "      <td>None</td>\n",
              "      <td>None</td>\n",
              "      <td>None</td>\n",
              "      <td>None</td>\n",
              "      <td>None</td>\n",
              "      <td>None</td>\n",
              "      <td>None</td>\n",
              "      <td>None</td>\n",
              "    </tr>\n",
              "    <tr>\n",
              "      <th>8803</th>\n",
              "      <td>s8804</td>\n",
              "      <td>TV Show</td>\n",
              "      <td>Zombie Dumb</td>\n",
              "      <td>NaN</td>\n",
              "      <td>NaN</td>\n",
              "      <td>NaN</td>\n",
              "      <td>July 1, 2019</td>\n",
              "      <td>2018</td>\n",
              "      <td>TV-Y7</td>\n",
              "      <td>2 Seasons</td>\n",
              "      <td>...</td>\n",
              "      <td>None</td>\n",
              "      <td>None</td>\n",
              "      <td>None</td>\n",
              "      <td>None</td>\n",
              "      <td>None</td>\n",
              "      <td>None</td>\n",
              "      <td>None</td>\n",
              "      <td>None</td>\n",
              "      <td>None</td>\n",
              "      <td>None</td>\n",
              "    </tr>\n",
              "    <tr>\n",
              "      <th>8804</th>\n",
              "      <td>s8805</td>\n",
              "      <td>Movie</td>\n",
              "      <td>Zombieland</td>\n",
              "      <td>Ruben Fleischer</td>\n",
              "      <td>Jesse Eisenberg, Woody Harrelson, Emma Stone, ...</td>\n",
              "      <td>United States</td>\n",
              "      <td>November 1, 2019</td>\n",
              "      <td>2009</td>\n",
              "      <td>R</td>\n",
              "      <td>88 min</td>\n",
              "      <td>...</td>\n",
              "      <td>None</td>\n",
              "      <td>None</td>\n",
              "      <td>None</td>\n",
              "      <td>None</td>\n",
              "      <td>None</td>\n",
              "      <td>None</td>\n",
              "      <td>None</td>\n",
              "      <td>None</td>\n",
              "      <td>None</td>\n",
              "      <td>None</td>\n",
              "    </tr>\n",
              "    <tr>\n",
              "      <th>8805</th>\n",
              "      <td>s8806</td>\n",
              "      <td>Movie</td>\n",
              "      <td>Zoom</td>\n",
              "      <td>Peter Hewitt</td>\n",
              "      <td>Tim Allen, Courteney Cox, Chevy Chase, Kate Ma...</td>\n",
              "      <td>United States</td>\n",
              "      <td>January 11, 2020</td>\n",
              "      <td>2006</td>\n",
              "      <td>PG</td>\n",
              "      <td>88 min</td>\n",
              "      <td>...</td>\n",
              "      <td>None</td>\n",
              "      <td>None</td>\n",
              "      <td>None</td>\n",
              "      <td>None</td>\n",
              "      <td>None</td>\n",
              "      <td>None</td>\n",
              "      <td>None</td>\n",
              "      <td>None</td>\n",
              "      <td>None</td>\n",
              "      <td>None</td>\n",
              "    </tr>\n",
              "    <tr>\n",
              "      <th>8806</th>\n",
              "      <td>s8807</td>\n",
              "      <td>Movie</td>\n",
              "      <td>Zubaan</td>\n",
              "      <td>Mozez Singh</td>\n",
              "      <td>Vicky Kaushal, Sarah-Jane Dias, Raaghav Chanan...</td>\n",
              "      <td>India</td>\n",
              "      <td>March 2, 2019</td>\n",
              "      <td>2015</td>\n",
              "      <td>TV-14</td>\n",
              "      <td>111 min</td>\n",
              "      <td>...</td>\n",
              "      <td>None</td>\n",
              "      <td>None</td>\n",
              "      <td>None</td>\n",
              "      <td>None</td>\n",
              "      <td>None</td>\n",
              "      <td>None</td>\n",
              "      <td>None</td>\n",
              "      <td>None</td>\n",
              "      <td>None</td>\n",
              "      <td>None</td>\n",
              "    </tr>\n",
              "  </tbody>\n",
              "</table>\n",
              "<p>8807 rows × 24 columns</p>\n",
              "</div>\n",
              "      <button class=\"colab-df-convert\" onclick=\"convertToInteractive('df-717a9724-04ea-4656-8f14-ef82e72f8681')\"\n",
              "              title=\"Convert this dataframe to an interactive table.\"\n",
              "              style=\"display:none;\">\n",
              "        \n",
              "  <svg xmlns=\"http://www.w3.org/2000/svg\" height=\"24px\"viewBox=\"0 0 24 24\"\n",
              "       width=\"24px\">\n",
              "    <path d=\"M0 0h24v24H0V0z\" fill=\"none\"/>\n",
              "    <path d=\"M18.56 5.44l.94 2.06.94-2.06 2.06-.94-2.06-.94-.94-2.06-.94 2.06-2.06.94zm-11 1L8.5 8.5l.94-2.06 2.06-.94-2.06-.94L8.5 2.5l-.94 2.06-2.06.94zm10 10l.94 2.06.94-2.06 2.06-.94-2.06-.94-.94-2.06-.94 2.06-2.06.94z\"/><path d=\"M17.41 7.96l-1.37-1.37c-.4-.4-.92-.59-1.43-.59-.52 0-1.04.2-1.43.59L10.3 9.45l-7.72 7.72c-.78.78-.78 2.05 0 2.83L4 21.41c.39.39.9.59 1.41.59.51 0 1.02-.2 1.41-.59l7.78-7.78 2.81-2.81c.8-.78.8-2.07 0-2.86zM5.41 20L4 18.59l7.72-7.72 1.47 1.35L5.41 20z\"/>\n",
              "  </svg>\n",
              "      </button>\n",
              "      \n",
              "  <style>\n",
              "    .colab-df-container {\n",
              "      display:flex;\n",
              "      flex-wrap:wrap;\n",
              "      gap: 12px;\n",
              "    }\n",
              "\n",
              "    .colab-df-convert {\n",
              "      background-color: #E8F0FE;\n",
              "      border: none;\n",
              "      border-radius: 50%;\n",
              "      cursor: pointer;\n",
              "      display: none;\n",
              "      fill: #1967D2;\n",
              "      height: 32px;\n",
              "      padding: 0 0 0 0;\n",
              "      width: 32px;\n",
              "    }\n",
              "\n",
              "    .colab-df-convert:hover {\n",
              "      background-color: #E2EBFA;\n",
              "      box-shadow: 0px 1px 2px rgba(60, 64, 67, 0.3), 0px 1px 3px 1px rgba(60, 64, 67, 0.15);\n",
              "      fill: #174EA6;\n",
              "    }\n",
              "\n",
              "    [theme=dark] .colab-df-convert {\n",
              "      background-color: #3B4455;\n",
              "      fill: #D2E3FC;\n",
              "    }\n",
              "\n",
              "    [theme=dark] .colab-df-convert:hover {\n",
              "      background-color: #434B5C;\n",
              "      box-shadow: 0px 1px 3px 1px rgba(0, 0, 0, 0.15);\n",
              "      filter: drop-shadow(0px 1px 2px rgba(0, 0, 0, 0.3));\n",
              "      fill: #FFFFFF;\n",
              "    }\n",
              "  </style>\n",
              "\n",
              "      <script>\n",
              "        const buttonEl =\n",
              "          document.querySelector('#df-717a9724-04ea-4656-8f14-ef82e72f8681 button.colab-df-convert');\n",
              "        buttonEl.style.display =\n",
              "          google.colab.kernel.accessAllowed ? 'block' : 'none';\n",
              "\n",
              "        async function convertToInteractive(key) {\n",
              "          const element = document.querySelector('#df-717a9724-04ea-4656-8f14-ef82e72f8681');\n",
              "          const dataTable =\n",
              "            await google.colab.kernel.invokeFunction('convertToInteractive',\n",
              "                                                     [key], {});\n",
              "          if (!dataTable) return;\n",
              "\n",
              "          const docLinkHtml = 'Like what you see? Visit the ' +\n",
              "            '<a target=\"_blank\" href=https://colab.research.google.com/notebooks/data_table.ipynb>data table notebook</a>'\n",
              "            + ' to learn more about interactive tables.';\n",
              "          element.innerHTML = '';\n",
              "          dataTable['output_type'] = 'display_data';\n",
              "          await google.colab.output.renderOutput(dataTable, element);\n",
              "          const docLink = document.createElement('div');\n",
              "          docLink.innerHTML = docLinkHtml;\n",
              "          element.appendChild(docLink);\n",
              "        }\n",
              "      </script>\n",
              "    </div>\n",
              "  </div>\n",
              "  "
            ],
            "text/plain": [
              "     show_id     type                  title         director  \\\n",
              "0         s1    Movie   Dick Johnson Is Dead  Kirsten Johnson   \n",
              "1         s2  TV Show          Blood & Water              NaN   \n",
              "2         s3  TV Show              Ganglands  Julien Leclercq   \n",
              "3         s4  TV Show  Jailbirds New Orleans              NaN   \n",
              "4         s5  TV Show           Kota Factory              NaN   \n",
              "...      ...      ...                    ...              ...   \n",
              "8802   s8803    Movie                 Zodiac    David Fincher   \n",
              "8803   s8804  TV Show            Zombie Dumb              NaN   \n",
              "8804   s8805    Movie             Zombieland  Ruben Fleischer   \n",
              "8805   s8806    Movie                   Zoom     Peter Hewitt   \n",
              "8806   s8807    Movie                 Zubaan      Mozez Singh   \n",
              "\n",
              "                                                   cast        country  \\\n",
              "0                                                   NaN  United States   \n",
              "1     Ama Qamata, Khosi Ngema, Gail Mabalane, Thaban...   South Africa   \n",
              "2     Sami Bouajila, Tracy Gotoas, Samuel Jouy, Nabi...            NaN   \n",
              "3                                                   NaN            NaN   \n",
              "4     Mayur More, Jitendra Kumar, Ranjan Raj, Alam K...          India   \n",
              "...                                                 ...            ...   \n",
              "8802  Mark Ruffalo, Jake Gyllenhaal, Robert Downey J...  United States   \n",
              "8803                                                NaN            NaN   \n",
              "8804  Jesse Eisenberg, Woody Harrelson, Emma Stone, ...  United States   \n",
              "8805  Tim Allen, Courteney Cox, Chevy Chase, Kate Ma...  United States   \n",
              "8806  Vicky Kaushal, Sarah-Jane Dias, Raaghav Chanan...          India   \n",
              "\n",
              "              date_added  release_year rating   duration  ...     2     3  \\\n",
              "0     September 25, 2021          2020  PG-13     90 min  ...  None  None   \n",
              "1     September 24, 2021          2021  TV-MA  2 Seasons  ...  None  None   \n",
              "2     September 24, 2021          2021  TV-MA   1 Season  ...  None  None   \n",
              "3     September 24, 2021          2021  TV-MA   1 Season  ...  None  None   \n",
              "4     September 24, 2021          2021  TV-MA  2 Seasons  ...  None  None   \n",
              "...                  ...           ...    ...        ...  ...   ...   ...   \n",
              "8802   November 20, 2019          2007      R    158 min  ...  None  None   \n",
              "8803        July 1, 2019          2018  TV-Y7  2 Seasons  ...  None  None   \n",
              "8804    November 1, 2019          2009      R     88 min  ...  None  None   \n",
              "8805    January 11, 2020          2006     PG     88 min  ...  None  None   \n",
              "8806       March 2, 2019          2015  TV-14    111 min  ...  None  None   \n",
              "\n",
              "         4     5     6     7     8     9    10    11  \n",
              "0     None  None  None  None  None  None  None  None  \n",
              "1     None  None  None  None  None  None  None  None  \n",
              "2     None  None  None  None  None  None  None  None  \n",
              "3     None  None  None  None  None  None  None  None  \n",
              "4     None  None  None  None  None  None  None  None  \n",
              "...    ...   ...   ...   ...   ...   ...   ...   ...  \n",
              "8802  None  None  None  None  None  None  None  None  \n",
              "8803  None  None  None  None  None  None  None  None  \n",
              "8804  None  None  None  None  None  None  None  None  \n",
              "8805  None  None  None  None  None  None  None  None  \n",
              "8806  None  None  None  None  None  None  None  None  \n",
              "\n",
              "[8807 rows x 24 columns]"
            ]
          },
          "metadata": {},
          "execution_count": 11
        }
      ]
    },
    {
      "cell_type": "code",
      "source": [
        "# pandas의 melt를 사용해서 country_count를 구성\n",
        "# id_vars = [\"type\", \"title\"] -> 기준\n",
        "# value_vars = range(12) -> variable 0 ~ 11\n",
        "# value_name = \"country\"\n",
        "\n",
        "country_count = country_count.melt(id_vars = [\"type\", \"title\"], value_vars = range(12), value_name = \"country\")\n",
        "country_count = country_count[country_count[\"country\"].notna()] # 결측치가 아닌 값\n",
        "country_count"
      ],
      "metadata": {
        "id": "PdrLViIQDs0S",
        "colab": {
          "base_uri": "https://localhost:8080/"
        },
        "outputId": "3aabeac7-64a4-4718-b229-5f7bb5392577"
      },
      "execution_count": null,
      "outputs": [
        {
          "output_type": "execute_result",
          "data": {
            "text/html": [
              "\n",
              "  <div id=\"df-89c6d69a-0cb1-43c0-b062-1b6256a671d3\">\n",
              "    <div class=\"colab-df-container\">\n",
              "      <div>\n",
              "<style scoped>\n",
              "    .dataframe tbody tr th:only-of-type {\n",
              "        vertical-align: middle;\n",
              "    }\n",
              "\n",
              "    .dataframe tbody tr th {\n",
              "        vertical-align: top;\n",
              "    }\n",
              "\n",
              "    .dataframe thead th {\n",
              "        text-align: right;\n",
              "    }\n",
              "</style>\n",
              "<table border=\"1\" class=\"dataframe\">\n",
              "  <thead>\n",
              "    <tr style=\"text-align: right;\">\n",
              "      <th></th>\n",
              "      <th>type</th>\n",
              "      <th>title</th>\n",
              "      <th>variable</th>\n",
              "      <th>country</th>\n",
              "    </tr>\n",
              "  </thead>\n",
              "  <tbody>\n",
              "    <tr>\n",
              "      <th>0</th>\n",
              "      <td>Movie</td>\n",
              "      <td>Dick Johnson Is Dead</td>\n",
              "      <td>0</td>\n",
              "      <td>United States</td>\n",
              "    </tr>\n",
              "    <tr>\n",
              "      <th>1</th>\n",
              "      <td>TV Show</td>\n",
              "      <td>Blood &amp; Water</td>\n",
              "      <td>0</td>\n",
              "      <td>South Africa</td>\n",
              "    </tr>\n",
              "    <tr>\n",
              "      <th>4</th>\n",
              "      <td>TV Show</td>\n",
              "      <td>Kota Factory</td>\n",
              "      <td>0</td>\n",
              "      <td>India</td>\n",
              "    </tr>\n",
              "    <tr>\n",
              "      <th>7</th>\n",
              "      <td>Movie</td>\n",
              "      <td>Sankofa</td>\n",
              "      <td>0</td>\n",
              "      <td>United States</td>\n",
              "    </tr>\n",
              "    <tr>\n",
              "      <th>8</th>\n",
              "      <td>TV Show</td>\n",
              "      <td>The Great British Baking Show</td>\n",
              "      <td>0</td>\n",
              "      <td>United Kingdom</td>\n",
              "    </tr>\n",
              "    <tr>\n",
              "      <th>...</th>\n",
              "      <td>...</td>\n",
              "      <td>...</td>\n",
              "      <td>...</td>\n",
              "      <td>...</td>\n",
              "    </tr>\n",
              "    <tr>\n",
              "      <th>78859</th>\n",
              "      <td>Movie</td>\n",
              "      <td>The Look of Silence</td>\n",
              "      <td>8</td>\n",
              "      <td>Germany</td>\n",
              "    </tr>\n",
              "    <tr>\n",
              "      <th>85496</th>\n",
              "      <td>Movie</td>\n",
              "      <td>Barbecue</td>\n",
              "      <td>9</td>\n",
              "      <td>Sweden</td>\n",
              "    </tr>\n",
              "    <tr>\n",
              "      <th>87666</th>\n",
              "      <td>Movie</td>\n",
              "      <td>The Look of Silence</td>\n",
              "      <td>9</td>\n",
              "      <td>Netherlands</td>\n",
              "    </tr>\n",
              "    <tr>\n",
              "      <th>94303</th>\n",
              "      <td>Movie</td>\n",
              "      <td>Barbecue</td>\n",
              "      <td>10</td>\n",
              "      <td>United States</td>\n",
              "    </tr>\n",
              "    <tr>\n",
              "      <th>103110</th>\n",
              "      <td>Movie</td>\n",
              "      <td>Barbecue</td>\n",
              "      <td>11</td>\n",
              "      <td>Uruguay</td>\n",
              "    </tr>\n",
              "  </tbody>\n",
              "</table>\n",
              "<p>10019 rows × 4 columns</p>\n",
              "</div>\n",
              "      <button class=\"colab-df-convert\" onclick=\"convertToInteractive('df-89c6d69a-0cb1-43c0-b062-1b6256a671d3')\"\n",
              "              title=\"Convert this dataframe to an interactive table.\"\n",
              "              style=\"display:none;\">\n",
              "        \n",
              "  <svg xmlns=\"http://www.w3.org/2000/svg\" height=\"24px\"viewBox=\"0 0 24 24\"\n",
              "       width=\"24px\">\n",
              "    <path d=\"M0 0h24v24H0V0z\" fill=\"none\"/>\n",
              "    <path d=\"M18.56 5.44l.94 2.06.94-2.06 2.06-.94-2.06-.94-.94-2.06-.94 2.06-2.06.94zm-11 1L8.5 8.5l.94-2.06 2.06-.94-2.06-.94L8.5 2.5l-.94 2.06-2.06.94zm10 10l.94 2.06.94-2.06 2.06-.94-2.06-.94-.94-2.06-.94 2.06-2.06.94z\"/><path d=\"M17.41 7.96l-1.37-1.37c-.4-.4-.92-.59-1.43-.59-.52 0-1.04.2-1.43.59L10.3 9.45l-7.72 7.72c-.78.78-.78 2.05 0 2.83L4 21.41c.39.39.9.59 1.41.59.51 0 1.02-.2 1.41-.59l7.78-7.78 2.81-2.81c.8-.78.8-2.07 0-2.86zM5.41 20L4 18.59l7.72-7.72 1.47 1.35L5.41 20z\"/>\n",
              "  </svg>\n",
              "      </button>\n",
              "      \n",
              "  <style>\n",
              "    .colab-df-container {\n",
              "      display:flex;\n",
              "      flex-wrap:wrap;\n",
              "      gap: 12px;\n",
              "    }\n",
              "\n",
              "    .colab-df-convert {\n",
              "      background-color: #E8F0FE;\n",
              "      border: none;\n",
              "      border-radius: 50%;\n",
              "      cursor: pointer;\n",
              "      display: none;\n",
              "      fill: #1967D2;\n",
              "      height: 32px;\n",
              "      padding: 0 0 0 0;\n",
              "      width: 32px;\n",
              "    }\n",
              "\n",
              "    .colab-df-convert:hover {\n",
              "      background-color: #E2EBFA;\n",
              "      box-shadow: 0px 1px 2px rgba(60, 64, 67, 0.3), 0px 1px 3px 1px rgba(60, 64, 67, 0.15);\n",
              "      fill: #174EA6;\n",
              "    }\n",
              "\n",
              "    [theme=dark] .colab-df-convert {\n",
              "      background-color: #3B4455;\n",
              "      fill: #D2E3FC;\n",
              "    }\n",
              "\n",
              "    [theme=dark] .colab-df-convert:hover {\n",
              "      background-color: #434B5C;\n",
              "      box-shadow: 0px 1px 3px 1px rgba(0, 0, 0, 0.15);\n",
              "      filter: drop-shadow(0px 1px 2px rgba(0, 0, 0, 0.3));\n",
              "      fill: #FFFFFF;\n",
              "    }\n",
              "  </style>\n",
              "\n",
              "      <script>\n",
              "        const buttonEl =\n",
              "          document.querySelector('#df-89c6d69a-0cb1-43c0-b062-1b6256a671d3 button.colab-df-convert');\n",
              "        buttonEl.style.display =\n",
              "          google.colab.kernel.accessAllowed ? 'block' : 'none';\n",
              "\n",
              "        async function convertToInteractive(key) {\n",
              "          const element = document.querySelector('#df-89c6d69a-0cb1-43c0-b062-1b6256a671d3');\n",
              "          const dataTable =\n",
              "            await google.colab.kernel.invokeFunction('convertToInteractive',\n",
              "                                                     [key], {});\n",
              "          if (!dataTable) return;\n",
              "\n",
              "          const docLinkHtml = 'Like what you see? Visit the ' +\n",
              "            '<a target=\"_blank\" href=https://colab.research.google.com/notebooks/data_table.ipynb>data table notebook</a>'\n",
              "            + ' to learn more about interactive tables.';\n",
              "          element.innerHTML = '';\n",
              "          dataTable['output_type'] = 'display_data';\n",
              "          await google.colab.output.renderOutput(dataTable, element);\n",
              "          const docLink = document.createElement('div');\n",
              "          docLink.innerHTML = docLinkHtml;\n",
              "          element.appendChild(docLink);\n",
              "        }\n",
              "      </script>\n",
              "    </div>\n",
              "  </div>\n",
              "  "
            ],
            "text/plain": [
              "           type                          title variable         country\n",
              "0         Movie           Dick Johnson Is Dead        0   United States\n",
              "1       TV Show                  Blood & Water        0    South Africa\n",
              "4       TV Show                   Kota Factory        0           India\n",
              "7         Movie                        Sankofa        0   United States\n",
              "8       TV Show  The Great British Baking Show        0  United Kingdom\n",
              "...         ...                            ...      ...             ...\n",
              "78859     Movie            The Look of Silence        8         Germany\n",
              "85496     Movie                       Barbecue        9          Sweden\n",
              "87666     Movie            The Look of Silence        9     Netherlands\n",
              "94303     Movie                       Barbecue       10   United States\n",
              "103110    Movie                       Barbecue       11         Uruguay\n",
              "\n",
              "[10019 rows x 4 columns]"
            ]
          },
          "metadata": {},
          "execution_count": 12
        }
      ]
    },
    {
      "cell_type": "markdown",
      "source": [
        "#### 넷플릭스에 작품을 업로드한 국가의 수"
      ],
      "metadata": {
        "id": "tE4vIeVO04-G"
      }
    },
    {
      "cell_type": "code",
      "source": [
        "# 국가의 수\n",
        "\n",
        "country_count[\"country\"].nunique()"
      ],
      "metadata": {
        "id": "R3-s4MTXDwSe",
        "colab": {
          "base_uri": "https://localhost:8080/"
        },
        "outputId": "befa11b4-ddb8-4329-d4a5-6feeae011b5c"
      },
      "execution_count": null,
      "outputs": [
        {
          "output_type": "execute_result",
          "data": {
            "text/plain": [
              "197"
            ]
          },
          "metadata": {},
          "execution_count": 13
        }
      ]
    },
    {
      "cell_type": "markdown",
      "source": [
        "* \b**197개국**의 작품이 **넷플릭스**에 업로드되어 있다."
      ],
      "metadata": {
        "id": "ER6Hm4ube8vH"
      }
    },
    {
      "cell_type": "markdown",
      "source": [
        "#### 띄어쓰기 삭제"
      ],
      "metadata": {
        "id": "Hfog9E9p1C6m"
      }
    },
    {
      "cell_type": "code",
      "source": [
        "# 국가별 작품 수 Top 10\n",
        "\n",
        "country_count[\"country\"].value_counts()[:10]"
      ],
      "metadata": {
        "id": "VktITNLWDzgg",
        "colab": {
          "base_uri": "https://localhost:8080/"
        },
        "outputId": "e2e49521-9d79-4e59-8099-fddfd2b07380"
      },
      "execution_count": null,
      "outputs": [
        {
          "output_type": "execute_result",
          "data": {
            "text/plain": [
              "United States     3211\n",
              "India             1008\n",
              "United Kingdom     628\n",
              " United States     479\n",
              "Canada             271\n",
              "Japan              259\n",
              "France             212\n",
              "South Korea        211\n",
              "Spain              181\n",
              " France            181\n",
              "Name: country, dtype: int64"
            ]
          },
          "metadata": {},
          "execution_count": 14
        }
      ]
    },
    {
      "cell_type": "markdown",
      "source": [
        "* United States가 두 개 있는 것을 확인\n",
        "* 하나로 합쳐 줌"
      ],
      "metadata": {
        "id": "ccH_vusYIBWH"
      }
    },
    {
      "cell_type": "code",
      "source": [
        "# 두 번째에 있는 United States와 10번 째의 France를 보면 띄어쓰기가 되어있다. 없애주자.\n",
        "\n",
        "country_count[\"country\"] = country_count[\"country\"].str.strip()"
      ],
      "metadata": {
        "id": "AwGTWfnuH_xh"
      },
      "execution_count": null,
      "outputs": []
    },
    {
      "cell_type": "code",
      "source": [
        "# 국가별 작품 수 Top 10\n",
        "\n",
        "country_count[\"country\"].value_counts()[:10]"
      ],
      "metadata": {
        "id": "TISM-pWIH_Ae",
        "colab": {
          "base_uri": "https://localhost:8080/"
        },
        "outputId": "47ea65a1-f703-4dfc-a0fd-cc03a7fd21ca"
      },
      "execution_count": null,
      "outputs": [
        {
          "output_type": "execute_result",
          "data": {
            "text/plain": [
              "United States     3690\n",
              "India             1046\n",
              "United Kingdom     806\n",
              "Canada             445\n",
              "France             393\n",
              "Japan              318\n",
              "Spain              232\n",
              "South Korea        231\n",
              "Germany            226\n",
              "Mexico             169\n",
              "Name: country, dtype: int64"
            ]
          },
          "metadata": {},
          "execution_count": 16
        }
      ]
    },
    {
      "cell_type": "markdown",
      "source": [
        "#### 지도 셋업"
      ],
      "metadata": {
        "id": "yVlxQd351H_V"
      }
    },
    {
      "cell_type": "code",
      "source": [
        "# 지도\n",
        "\n",
        "country_codes = {'afghanistan': 'AFG',\n",
        " 'albania': 'ALB',\n",
        " 'algeria': 'DZA',\n",
        " 'american samoa': 'ASM',\n",
        " 'andorra': 'AND',\n",
        " 'angola': 'AGO',\n",
        " 'anguilla': 'AIA',\n",
        " 'antigua and barbuda': 'ATG',\n",
        " 'argentina': 'ARG',\n",
        " 'armenia': 'ARM',\n",
        " 'aruba': 'ABW',\n",
        " 'australia': 'AUS',\n",
        " 'austria': 'AUT',\n",
        " 'azerbaijan': 'AZE',\n",
        " 'bahamas': 'BHM',\n",
        " 'bahrain': 'BHR',\n",
        " 'bangladesh': 'BGD',\n",
        " 'barbados': 'BRB',\n",
        " 'belarus': 'BLR',\n",
        " 'belgium': 'BEL',\n",
        " 'belize': 'BLZ',\n",
        " 'benin': 'BEN',\n",
        " 'bermuda': 'BMU',\n",
        " 'bhutan': 'BTN',\n",
        " 'bolivia': 'BOL',\n",
        " 'bosnia and herzegovina': 'BIH',\n",
        " 'botswana': 'BWA',\n",
        " 'brazil': 'BRA',\n",
        " 'british virgin islands': 'VGB',\n",
        " 'brunei': 'BRN',\n",
        " 'bulgaria': 'BGR',\n",
        " 'burkina faso': 'BFA',\n",
        " 'burma': 'MMR',\n",
        " 'burundi': 'BDI',\n",
        " 'cabo verde': 'CPV',\n",
        " 'cambodia': 'KHM',\n",
        " 'cameroon': 'CMR',\n",
        " 'canada': 'CAN',\n",
        " 'cayman islands': 'CYM',\n",
        " 'central african republic': 'CAF',\n",
        " 'chad': 'TCD',\n",
        " 'chile': 'CHL',\n",
        " 'china': 'CHN',\n",
        " 'colombia': 'COL',\n",
        " 'comoros': 'COM',\n",
        " 'congo democratic': 'COD',\n",
        " 'Congo republic': 'COG',\n",
        " 'cook islands': 'COK',\n",
        " 'costa rica': 'CRI',\n",
        " \"cote d'ivoire\": 'CIV',\n",
        " 'croatia': 'HRV',\n",
        " 'cuba': 'CUB',\n",
        " 'curacao': 'CUW',\n",
        " 'cyprus': 'CYP',\n",
        " 'czech republic': 'CZE',\n",
        " 'denmark': 'DNK',\n",
        " 'djibouti': 'DJI',\n",
        " 'dominica': 'DMA',\n",
        " 'dominican republic': 'DOM',\n",
        " 'ecuador': 'ECU',\n",
        " 'egypt': 'EGY',\n",
        " 'el salvador': 'SLV',\n",
        " 'equatorial guinea': 'GNQ',\n",
        " 'eritrea': 'ERI',\n",
        " 'estonia': 'EST',\n",
        " 'ethiopia': 'ETH',\n",
        " 'falkland islands': 'FLK',\n",
        " 'faroe islands': 'FRO',\n",
        " 'fiji': 'FJI',\n",
        " 'finland': 'FIN',\n",
        " 'france': 'FRA',\n",
        " 'french polynesia': 'PYF',\n",
        " 'gabon': 'GAB',\n",
        " 'gambia, the': 'GMB',\n",
        " 'georgia': 'GEO',\n",
        " 'germany': 'DEU',\n",
        " 'ghana': 'GHA',\n",
        " 'gibraltar': 'GIB',\n",
        " 'greece': 'GRC',\n",
        " 'greenland': 'GRL',\n",
        " 'grenada': 'GRD',\n",
        " 'guam': 'GUM',\n",
        " 'guatemala': 'GTM',\n",
        " 'guernsey': 'GGY',\n",
        " 'guinea-bissau': 'GNB',\n",
        " 'guinea': 'GIN',\n",
        " 'guyana': 'GUY',\n",
        " 'haiti': 'HTI',\n",
        " 'honduras': 'HND',\n",
        " 'hong kong': 'HKG',\n",
        " 'hungary': 'HUN',\n",
        " 'iceland': 'ISL',\n",
        " 'india': 'IND',\n",
        " 'indonesia': 'IDN',\n",
        " 'iran': 'IRN',\n",
        " 'iraq': 'IRQ',\n",
        " 'ireland': 'IRL',\n",
        " 'isle of man': 'IMN',\n",
        " 'israel': 'ISR',\n",
        " 'italy': 'ITA',\n",
        " 'jamaica': 'JAM',\n",
        " 'japan': 'JPN',\n",
        " 'jersey': 'JEY',\n",
        " 'jordan': 'JOR',\n",
        " 'kazakhstan': 'KAZ',\n",
        " 'kenya': 'KEN',\n",
        " 'kiribati': 'KIR',\n",
        " 'north korea': 'PRK',\n",
        " 'south korea': 'KOR',\n",
        " 'kosovo': 'KSV',\n",
        " 'kuwait': 'KWT',\n",
        " 'kyrgyzstan': 'KGZ',\n",
        " 'laos': 'LAO',\n",
        " 'latvia': 'LVA',\n",
        " 'lebanon': 'LBN',\n",
        " 'lesotho': 'LSO',\n",
        " 'liberia': 'LBR',\n",
        " 'libya': 'LBY',\n",
        " 'liechtenstein': 'LIE',\n",
        " 'lithuania': 'LTU',\n",
        " 'luxembourg': 'LUX',\n",
        " 'macau': 'MAC',\n",
        " 'macedonia': 'MKD',\n",
        " 'madagascar': 'MDG',\n",
        " 'malawi': 'MWI',\n",
        " 'malaysia': 'MYS',\n",
        " 'maldives': 'MDV',\n",
        " 'mali': 'MLI',\n",
        " 'malta': 'MLT',\n",
        " 'marshall islands': 'MHL',\n",
        " 'mauritania': 'MRT',\n",
        " 'mauritius': 'MUS',\n",
        " 'mexico': 'MEX',\n",
        " 'micronesia': 'FSM',\n",
        " 'moldova': 'MDA',\n",
        " 'monaco': 'MCO',\n",
        " 'mongolia': 'MNG',\n",
        " 'montenegro': 'MNE',\n",
        " 'morocco': 'MAR',\n",
        " 'mozambique': 'MOZ',\n",
        " 'namibia': 'NAM',\n",
        " 'nepal': 'NPL',\n",
        " 'netherlands': 'NLD',\n",
        " 'new caledonia': 'NCL',\n",
        " 'new zealand': 'NZL',\n",
        " 'nicaragua': 'NIC',\n",
        " 'nigeria': 'NGA',\n",
        " 'niger': 'NER',\n",
        " 'niue': 'NIU',\n",
        " 'northern mariana islands': 'MNP',\n",
        " 'norway': 'NOR',\n",
        " 'oman': 'OMN',\n",
        " 'pakistan': 'PAK',\n",
        " 'palau': 'PLW',\n",
        " 'panama': 'PAN',\n",
        " 'papua new guinea': 'PNG',\n",
        " 'paraguay': 'PRY',\n",
        " 'peru': 'PER',\n",
        " 'philippines': 'PHL',\n",
        " 'poland': 'POL',\n",
        " 'portugal': 'PRT',\n",
        " 'puerto rico': 'PRI',\n",
        " 'qatar': 'QAT',\n",
        " 'romania': 'ROU',\n",
        " 'russia': 'RUS',\n",
        " 'rwanda': 'RWA',\n",
        " 'saint kitts and nevis': 'KNA',\n",
        " 'saint lucia': 'LCA',\n",
        " 'saint martin': 'MAF',\n",
        " 'saint pierre and miquelon': 'SPM',\n",
        " 'saint vincent and the grenadines': 'VCT',\n",
        " 'samoa': 'WSM',\n",
        " 'san marino': 'SMR',\n",
        " 'sao tome and principe': 'STP',\n",
        " 'saudi arabia': 'SAU',\n",
        " 'senegal': 'SEN',\n",
        " 'serbia': 'SRB',\n",
        " 'seychelles': 'SYC',\n",
        " 'sierra leone': 'SLE',\n",
        " 'singapore': 'SGP',\n",
        " 'sint maarten': 'SXM',\n",
        " 'slovakia': 'SVK',\n",
        " 'slovenia': 'SVN',\n",
        " 'solomon islands': 'SLB',\n",
        " 'somalia': 'SOM',\n",
        " 'south africa': 'ZAF',\n",
        " 'south sudan': 'SSD',\n",
        " 'spain': 'ESP',\n",
        " 'sri lanka': 'LKA',\n",
        " 'sudan': 'SDN',\n",
        " 'suriname': 'SUR',\n",
        " 'swaziland': 'SWZ',\n",
        " 'sweden': 'SWE',\n",
        " 'switzerland': 'CHE',\n",
        " 'syria': 'SYR',\n",
        " 'taiwan': 'TWN',\n",
        " 'tajikistan': 'TJK',\n",
        " 'tanzania': 'TZA',\n",
        " 'thailand': 'THA',\n",
        " 'timor-leste': 'TLS',\n",
        " 'togo': 'TGO',\n",
        " 'tonga': 'TON',\n",
        " 'trinidad and tobago': 'TTO',\n",
        " 'tunisia': 'TUN',\n",
        " 'turkey': 'TUR',\n",
        " 'turkmenistan': 'TKM',\n",
        " 'tuvalu': 'TUV',\n",
        " 'uganda': 'UGA',\n",
        " 'ukraine': 'UKR',\n",
        " 'united arab emirates': 'ARE',\n",
        " 'united kingdom': 'GBR',\n",
        " 'united states': 'USA',\n",
        " 'uruguay': 'URY',\n",
        " 'uzbekistan': 'UZB',\n",
        " 'vanuatu': 'VUT',\n",
        " 'venezuela': 'VEN',\n",
        " 'vietnam': 'VNM',\n",
        " 'virgin islands': 'VGB',\n",
        " 'west bank': 'WBG',\n",
        " 'yemen': 'YEM',\n",
        " 'zambia': 'ZMB',\n",
        " 'zimbabwe': 'ZWE'}\n",
        "\n",
        "## countries \n",
        "from collections import Counter\n",
        "\n",
        "colorscale = [\"#f7fbff\", \"#ebf3fb\", \"#deebf7\", \"#d2e3f3\", \"#c6dbef\", \"#b3d2e9\", \"#9ecae1\",\n",
        "    \"#85bcdb\", \"#6baed6\", \"#57a0ce\", \"#4292c6\", \"#3082be\", \"#2171b5\", \"#1361a9\",\n",
        "    \"#08519c\", \"#0b4083\", \"#08306b\"\n",
        "]\n",
        "    \n",
        "def geoplot(ddf):\n",
        "    country_with_code, country = {}, {}\n",
        "    shows_countries = \", \".join(ddf['country'].dropna()).split(\", \")\n",
        "    for c,v in dict(Counter(shows_countries)).items():\n",
        "        code = \"\"\n",
        "        if c.lower() in country_codes:\n",
        "            code = country_codes[c.lower()]\n",
        "        country_with_code[code] = v\n",
        "        country[c] = v\n",
        "\n",
        "    data = [dict(\n",
        "            type = 'choropleth',\n",
        "            locations = list(country_with_code.keys()),\n",
        "            z = list(country_with_code.values()),\n",
        "            colorscale = [[0,\"rgb(5, 10, 172)\"],[0.65,\"rgb(40, 60, 190)\"],[0.75,\"rgb(70, 100, 245)\"],\\\n",
        "                        [0.80,\"rgb(90, 120, 245)\"],[0.9,\"rgb(106, 137, 247)\"],[1,\"rgb(220, 220, 220)\"]],\n",
        "            autocolorscale = False,\n",
        "            reversescale = True,\n",
        "            marker = dict(\n",
        "                line = dict (\n",
        "                    color = 'gray',\n",
        "                    width = 0.5\n",
        "                ) ),\n",
        "            colorbar = dict(\n",
        "                autotick = False,\n",
        "                title = ''),\n",
        "          ) ]\n",
        "\n",
        "    layout = dict(\n",
        "        title = '',\n",
        "        geo = dict(\n",
        "            showframe = False,\n",
        "            showcoastlines = False,\n",
        "            projection = dict(\n",
        "                type = 'Mercator'\n",
        "            )\n",
        "        )\n",
        "    )\n",
        "\n",
        "    fig = dict( data=data, layout=layout )\n",
        "    iplot( fig, validate=False, filename='d3-world-map' )\n",
        "    return country\n",
        "\n",
        "#country_vals = geoplot(netflix)"
      ],
      "metadata": {
        "id": "KD7079IKhhZH"
      },
      "execution_count": null,
      "outputs": []
    },
    {
      "cell_type": "markdown",
      "source": [
        "#### 지도: 국가별 작품 수(넷플릭스)"
      ],
      "metadata": {
        "id": "0ki3qIfh1Yih"
      }
    },
    {
      "cell_type": "code",
      "source": [
        "country_vals = geoplot(netflix)"
      ],
      "metadata": {
        "colab": {
          "base_uri": "https://localhost:8080/",
          "height": 542
        },
        "id": "VyZPwhN-1Ngd",
        "outputId": "29365aa5-412b-44f6-9290-1b46dfb5ca92"
      },
      "execution_count": null,
      "outputs": [
        {
          "output_type": "display_data",
          "data": {
            "text/html": [
              "<html>\n",
              "<head><meta charset=\"utf-8\" /></head>\n",
              "<body>\n",
              "    <div>            <script src=\"https://cdnjs.cloudflare.com/ajax/libs/mathjax/2.7.5/MathJax.js?config=TeX-AMS-MML_SVG\"></script><script type=\"text/javascript\">if (window.MathJax) {MathJax.Hub.Config({SVG: {font: \"STIX-Web\"}});}</script>                <script type=\"text/javascript\">window.PlotlyConfig = {MathJaxConfig: 'local'};</script>\n",
              "        <script src=\"https://cdn.plot.ly/plotly-2.8.3.min.js\"></script>                <div id=\"520578f7-87d1-491d-80f6-58b0dff89f2c\" class=\"plotly-graph-div\" style=\"height:525px; width:100%;\"></div>            <script type=\"text/javascript\">                                    window.PLOTLYENV=window.PLOTLYENV || {};                                    if (document.getElementById(\"520578f7-87d1-491d-80f6-58b0dff89f2c\")) {                    Plotly.newPlot(                        \"520578f7-87d1-491d-80f6-58b0dff89f2c\",                        [{\"type\":\"choropleth\",\"locations\":[\"USA\",\"ZAF\",\"IND\",\"GHA\",\"BFA\",\"GBR\",\"DEU\",\"ETH\",\"CZE\",\"MEX\",\"TUR\",\"AUS\",\"FRA\",\"FIN\",\"CHN\",\"CAN\",\"JPN\",\"NGA\",\"ESP\",\"BEL\",\"KOR\",\"SGP\",\"ITA\",\"ROU\",\"ARG\",\"VEN\",\"HKG\",\"RUS\",\"\",\"IRL\",\"NPL\",\"NZL\",\"BRA\",\"GRC\",\"JOR\",\"COL\",\"CHE\",\"ISR\",\"TWN\",\"BGR\",\"DZA\",\"POL\",\"SAU\",\"THA\",\"IDN\",\"EGY\",\"DNK\",\"KWT\",\"NLD\",\"MYS\",\"VNM\",\"HUN\",\"SWE\",\"LBN\",\"SYR\",\"PHL\",\"ISL\",\"ARE\",\"NOR\",\"QAT\",\"MUS\",\"AUT\",\"CMR\",\"URY\",\"KEN\",\"CHL\",\"LUX\",\"KHM\",\"BGD\",\"PRT\",\"CYM\",\"SEN\",\"SRB\",\"MLT\",\"NAM\",\"AGO\",\"PER\",\"MOZ\",\"BLR\",\"ZWE\",\"PRI\",\"PAK\",\"CYP\",\"GTM\",\"IRQ\",\"MWI\",\"PRY\",\"HRV\",\"IRN\",\"ALB\",\"GEO\",\"MAR\",\"SVK\",\"UKR\",\"BMU\",\"ECU\",\"ARM\",\"MNG\",\"BHM\",\"LKA\",\"LVA\",\"LIE\",\"CUB\",\"NIC\",\"SVN\",\"DOM\",\"WSM\",\"AZE\",\"BWA\",\"JAM\",\"KAZ\",\"LTU\",\"AFG\",\"SOM\",\"SDN\",\"PAN\",\"UGA\",\"MNE\"],\"z\":[3689,62,1046,5,1,804,226,1,22,169,113,160,393,11,162,445,318,103,232,90,231,41,100,14,91,4,105,27,1,46,2,33,97,11,9,52,19,30,89,10,3,40,13,70,90,117,48,8,50,26,7,11,42,31,3,83,11,37,30,10,2,12,1,14,6,29,12,5,4,6,2,3,7,3,2,1,10,1,1,3,1,24,1,2,2,1,1,4,4,1,2,6,1,3,1,1,1,1,1,1,1,1,1,1,3,1,1,1,1,1,1,1,1,1,1,1,1,1],\"colorscale\":[[0,\"rgb(5, 10, 172)\"],[0.65,\"rgb(40, 60, 190)\"],[0.75,\"rgb(70, 100, 245)\"],[0.8,\"rgb(90, 120, 245)\"],[0.9,\"rgb(106, 137, 247)\"],[1,\"rgb(220, 220, 220)\"]],\"autocolorscale\":false,\"reversescale\":true,\"marker\":{\"line\":{\"color\":\"gray\",\"width\":0.5}},\"colorbar\":{\"autotick\":false,\"title\":\"\"}}],                        {\"title\":\"\",\"geo\":{\"showframe\":false,\"showcoastlines\":false,\"projection\":{\"type\":\"Mercator\"}}},                        {\"responsive\": true}                    ).then(function(){\n",
              "                            \n",
              "var gd = document.getElementById('520578f7-87d1-491d-80f6-58b0dff89f2c');\n",
              "var x = new MutationObserver(function (mutations, observer) {{\n",
              "        var display = window.getComputedStyle(gd).display;\n",
              "        if (!display || display === 'none') {{\n",
              "            console.log([gd, 'removed!']);\n",
              "            Plotly.purge(gd);\n",
              "            observer.disconnect();\n",
              "        }}\n",
              "}});\n",
              "\n",
              "// Listen for the removal of the full notebook cells\n",
              "var notebookContainer = gd.closest('#notebook-container');\n",
              "if (notebookContainer) {{\n",
              "    x.observe(notebookContainer, {childList: true});\n",
              "}}\n",
              "\n",
              "// Listen for the clearing of the current output cell\n",
              "var outputEl = gd.closest('.output');\n",
              "if (outputEl) {{\n",
              "    x.observe(outputEl, {childList: true});\n",
              "}}\n",
              "\n",
              "                        })                };                            </script>        </div>\n",
              "</body>\n",
              "</html>"
            ]
          },
          "metadata": {}
        }
      ]
    },
    {
      "cell_type": "markdown",
      "source": [
        "#### 국가별 작품 수(넷플릭스)"
      ],
      "metadata": {
        "id": "4Z-nJDoZ1iCY"
      }
    },
    {
      "cell_type": "code",
      "source": [
        "tabs = Counter(country_vals).most_common(25)\n",
        "\n",
        "labels = [_[0] for _ in tabs][::-1]\n",
        "values = [_[1] for _ in tabs][::-1]\n",
        "trace1 = go.Bar(y=labels, x=values, orientation=\"h\", name=\"\", marker=dict(color=\"#b20710\"))\n",
        "\n",
        "data = [trace1]\n",
        "layout = go.Layout(title=\"국가별 작품 수\", height=700, legend=dict(x=0.1, y=1.1, orientation=\"h\"))\n",
        "fig = go.Figure(data, layout=layout)\n",
        "fig.show()"
      ],
      "metadata": {
        "colab": {
          "base_uri": "https://localhost:8080/",
          "height": 717
        },
        "id": "FXPJUyuv1Us6",
        "outputId": "30a05c2d-6302-47e5-c6f3-51ed143ffb66"
      },
      "execution_count": null,
      "outputs": [
        {
          "output_type": "display_data",
          "data": {
            "text/html": [
              "<html>\n",
              "<head><meta charset=\"utf-8\" /></head>\n",
              "<body>\n",
              "    <div>            <script src=\"https://cdnjs.cloudflare.com/ajax/libs/mathjax/2.7.5/MathJax.js?config=TeX-AMS-MML_SVG\"></script><script type=\"text/javascript\">if (window.MathJax) {MathJax.Hub.Config({SVG: {font: \"STIX-Web\"}});}</script>                <script type=\"text/javascript\">window.PlotlyConfig = {MathJaxConfig: 'local'};</script>\n",
              "        <script src=\"https://cdn.plot.ly/plotly-2.8.3.min.js\"></script>                <div id=\"95cd16d8-8848-4c8b-a8e8-3126a3b390a7\" class=\"plotly-graph-div\" style=\"height:700px; width:100%;\"></div>            <script type=\"text/javascript\">                                    window.PLOTLYENV=window.PLOTLYENV || {};                                    if (document.getElementById(\"95cd16d8-8848-4c8b-a8e8-3126a3b390a7\")) {                    Plotly.newPlot(                        \"95cd16d8-8848-4c8b-a8e8-3126a3b390a7\",                        [{\"marker\":{\"color\":\"#b20710\"},\"name\":\"\",\"orientation\":\"h\",\"x\":[62,70,83,89,90,90,91,97,100,103,105,113,117,160,162,169,226,231,232,318,393,445,804,1046,3689],\"y\":[\"South Africa\",\"Thailand\",\"Philippines\",\"Taiwan\",\"Indonesia\",\"Belgium\",\"Argentina\",\"Brazil\",\"Italy\",\"Nigeria\",\"Hong Kong\",\"Turkey\",\"Egypt\",\"Australia\",\"China\",\"Mexico\",\"Germany\",\"South Korea\",\"Spain\",\"Japan\",\"France\",\"Canada\",\"United Kingdom\",\"India\",\"United States\"],\"type\":\"bar\"}],                        {\"height\":700,\"legend\":{\"orientation\":\"h\",\"x\":0.1,\"y\":1.1},\"title\":{\"text\":\"\\uad6d\\uac00\\ubcc4 \\uc791\\ud488 \\uc218\"},\"template\":{\"data\":{\"bar\":[{\"error_x\":{\"color\":\"#2a3f5f\"},\"error_y\":{\"color\":\"#2a3f5f\"},\"marker\":{\"line\":{\"color\":\"#E5ECF6\",\"width\":0.5},\"pattern\":{\"fillmode\":\"overlay\",\"size\":10,\"solidity\":0.2}},\"type\":\"bar\"}],\"barpolar\":[{\"marker\":{\"line\":{\"color\":\"#E5ECF6\",\"width\":0.5},\"pattern\":{\"fillmode\":\"overlay\",\"size\":10,\"solidity\":0.2}},\"type\":\"barpolar\"}],\"carpet\":[{\"aaxis\":{\"endlinecolor\":\"#2a3f5f\",\"gridcolor\":\"white\",\"linecolor\":\"white\",\"minorgridcolor\":\"white\",\"startlinecolor\":\"#2a3f5f\"},\"baxis\":{\"endlinecolor\":\"#2a3f5f\",\"gridcolor\":\"white\",\"linecolor\":\"white\",\"minorgridcolor\":\"white\",\"startlinecolor\":\"#2a3f5f\"},\"type\":\"carpet\"}],\"choropleth\":[{\"colorbar\":{\"outlinewidth\":0,\"ticks\":\"\"},\"type\":\"choropleth\"}],\"contour\":[{\"colorbar\":{\"outlinewidth\":0,\"ticks\":\"\"},\"colorscale\":[[0.0,\"#0d0887\"],[0.1111111111111111,\"#46039f\"],[0.2222222222222222,\"#7201a8\"],[0.3333333333333333,\"#9c179e\"],[0.4444444444444444,\"#bd3786\"],[0.5555555555555556,\"#d8576b\"],[0.6666666666666666,\"#ed7953\"],[0.7777777777777778,\"#fb9f3a\"],[0.8888888888888888,\"#fdca26\"],[1.0,\"#f0f921\"]],\"type\":\"contour\"}],\"contourcarpet\":[{\"colorbar\":{\"outlinewidth\":0,\"ticks\":\"\"},\"type\":\"contourcarpet\"}],\"heatmap\":[{\"colorbar\":{\"outlinewidth\":0,\"ticks\":\"\"},\"colorscale\":[[0.0,\"#0d0887\"],[0.1111111111111111,\"#46039f\"],[0.2222222222222222,\"#7201a8\"],[0.3333333333333333,\"#9c179e\"],[0.4444444444444444,\"#bd3786\"],[0.5555555555555556,\"#d8576b\"],[0.6666666666666666,\"#ed7953\"],[0.7777777777777778,\"#fb9f3a\"],[0.8888888888888888,\"#fdca26\"],[1.0,\"#f0f921\"]],\"type\":\"heatmap\"}],\"heatmapgl\":[{\"colorbar\":{\"outlinewidth\":0,\"ticks\":\"\"},\"colorscale\":[[0.0,\"#0d0887\"],[0.1111111111111111,\"#46039f\"],[0.2222222222222222,\"#7201a8\"],[0.3333333333333333,\"#9c179e\"],[0.4444444444444444,\"#bd3786\"],[0.5555555555555556,\"#d8576b\"],[0.6666666666666666,\"#ed7953\"],[0.7777777777777778,\"#fb9f3a\"],[0.8888888888888888,\"#fdca26\"],[1.0,\"#f0f921\"]],\"type\":\"heatmapgl\"}],\"histogram\":[{\"marker\":{\"pattern\":{\"fillmode\":\"overlay\",\"size\":10,\"solidity\":0.2}},\"type\":\"histogram\"}],\"histogram2d\":[{\"colorbar\":{\"outlinewidth\":0,\"ticks\":\"\"},\"colorscale\":[[0.0,\"#0d0887\"],[0.1111111111111111,\"#46039f\"],[0.2222222222222222,\"#7201a8\"],[0.3333333333333333,\"#9c179e\"],[0.4444444444444444,\"#bd3786\"],[0.5555555555555556,\"#d8576b\"],[0.6666666666666666,\"#ed7953\"],[0.7777777777777778,\"#fb9f3a\"],[0.8888888888888888,\"#fdca26\"],[1.0,\"#f0f921\"]],\"type\":\"histogram2d\"}],\"histogram2dcontour\":[{\"colorbar\":{\"outlinewidth\":0,\"ticks\":\"\"},\"colorscale\":[[0.0,\"#0d0887\"],[0.1111111111111111,\"#46039f\"],[0.2222222222222222,\"#7201a8\"],[0.3333333333333333,\"#9c179e\"],[0.4444444444444444,\"#bd3786\"],[0.5555555555555556,\"#d8576b\"],[0.6666666666666666,\"#ed7953\"],[0.7777777777777778,\"#fb9f3a\"],[0.8888888888888888,\"#fdca26\"],[1.0,\"#f0f921\"]],\"type\":\"histogram2dcontour\"}],\"mesh3d\":[{\"colorbar\":{\"outlinewidth\":0,\"ticks\":\"\"},\"type\":\"mesh3d\"}],\"parcoords\":[{\"line\":{\"colorbar\":{\"outlinewidth\":0,\"ticks\":\"\"}},\"type\":\"parcoords\"}],\"pie\":[{\"automargin\":true,\"type\":\"pie\"}],\"scatter\":[{\"marker\":{\"colorbar\":{\"outlinewidth\":0,\"ticks\":\"\"}},\"type\":\"scatter\"}],\"scatter3d\":[{\"line\":{\"colorbar\":{\"outlinewidth\":0,\"ticks\":\"\"}},\"marker\":{\"colorbar\":{\"outlinewidth\":0,\"ticks\":\"\"}},\"type\":\"scatter3d\"}],\"scattercarpet\":[{\"marker\":{\"colorbar\":{\"outlinewidth\":0,\"ticks\":\"\"}},\"type\":\"scattercarpet\"}],\"scattergeo\":[{\"marker\":{\"colorbar\":{\"outlinewidth\":0,\"ticks\":\"\"}},\"type\":\"scattergeo\"}],\"scattergl\":[{\"marker\":{\"colorbar\":{\"outlinewidth\":0,\"ticks\":\"\"}},\"type\":\"scattergl\"}],\"scattermapbox\":[{\"marker\":{\"colorbar\":{\"outlinewidth\":0,\"ticks\":\"\"}},\"type\":\"scattermapbox\"}],\"scatterpolar\":[{\"marker\":{\"colorbar\":{\"outlinewidth\":0,\"ticks\":\"\"}},\"type\":\"scatterpolar\"}],\"scatterpolargl\":[{\"marker\":{\"colorbar\":{\"outlinewidth\":0,\"ticks\":\"\"}},\"type\":\"scatterpolargl\"}],\"scatterternary\":[{\"marker\":{\"colorbar\":{\"outlinewidth\":0,\"ticks\":\"\"}},\"type\":\"scatterternary\"}],\"surface\":[{\"colorbar\":{\"outlinewidth\":0,\"ticks\":\"\"},\"colorscale\":[[0.0,\"#0d0887\"],[0.1111111111111111,\"#46039f\"],[0.2222222222222222,\"#7201a8\"],[0.3333333333333333,\"#9c179e\"],[0.4444444444444444,\"#bd3786\"],[0.5555555555555556,\"#d8576b\"],[0.6666666666666666,\"#ed7953\"],[0.7777777777777778,\"#fb9f3a\"],[0.8888888888888888,\"#fdca26\"],[1.0,\"#f0f921\"]],\"type\":\"surface\"}],\"table\":[{\"cells\":{\"fill\":{\"color\":\"#EBF0F8\"},\"line\":{\"color\":\"white\"}},\"header\":{\"fill\":{\"color\":\"#C8D4E3\"},\"line\":{\"color\":\"white\"}},\"type\":\"table\"}]},\"layout\":{\"annotationdefaults\":{\"arrowcolor\":\"#2a3f5f\",\"arrowhead\":0,\"arrowwidth\":1},\"autotypenumbers\":\"strict\",\"coloraxis\":{\"colorbar\":{\"outlinewidth\":0,\"ticks\":\"\"}},\"colorscale\":{\"diverging\":[[0,\"#8e0152\"],[0.1,\"#c51b7d\"],[0.2,\"#de77ae\"],[0.3,\"#f1b6da\"],[0.4,\"#fde0ef\"],[0.5,\"#f7f7f7\"],[0.6,\"#e6f5d0\"],[0.7,\"#b8e186\"],[0.8,\"#7fbc41\"],[0.9,\"#4d9221\"],[1,\"#276419\"]],\"sequential\":[[0.0,\"#0d0887\"],[0.1111111111111111,\"#46039f\"],[0.2222222222222222,\"#7201a8\"],[0.3333333333333333,\"#9c179e\"],[0.4444444444444444,\"#bd3786\"],[0.5555555555555556,\"#d8576b\"],[0.6666666666666666,\"#ed7953\"],[0.7777777777777778,\"#fb9f3a\"],[0.8888888888888888,\"#fdca26\"],[1.0,\"#f0f921\"]],\"sequentialminus\":[[0.0,\"#0d0887\"],[0.1111111111111111,\"#46039f\"],[0.2222222222222222,\"#7201a8\"],[0.3333333333333333,\"#9c179e\"],[0.4444444444444444,\"#bd3786\"],[0.5555555555555556,\"#d8576b\"],[0.6666666666666666,\"#ed7953\"],[0.7777777777777778,\"#fb9f3a\"],[0.8888888888888888,\"#fdca26\"],[1.0,\"#f0f921\"]]},\"colorway\":[\"#636efa\",\"#EF553B\",\"#00cc96\",\"#ab63fa\",\"#FFA15A\",\"#19d3f3\",\"#FF6692\",\"#B6E880\",\"#FF97FF\",\"#FECB52\"],\"font\":{\"color\":\"#2a3f5f\"},\"geo\":{\"bgcolor\":\"white\",\"lakecolor\":\"white\",\"landcolor\":\"#E5ECF6\",\"showlakes\":true,\"showland\":true,\"subunitcolor\":\"white\"},\"hoverlabel\":{\"align\":\"left\"},\"hovermode\":\"closest\",\"mapbox\":{\"style\":\"light\"},\"paper_bgcolor\":\"white\",\"plot_bgcolor\":\"#E5ECF6\",\"polar\":{\"angularaxis\":{\"gridcolor\":\"white\",\"linecolor\":\"white\",\"ticks\":\"\"},\"bgcolor\":\"#E5ECF6\",\"radialaxis\":{\"gridcolor\":\"white\",\"linecolor\":\"white\",\"ticks\":\"\"}},\"scene\":{\"xaxis\":{\"backgroundcolor\":\"#E5ECF6\",\"gridcolor\":\"white\",\"gridwidth\":2,\"linecolor\":\"white\",\"showbackground\":true,\"ticks\":\"\",\"zerolinecolor\":\"white\"},\"yaxis\":{\"backgroundcolor\":\"#E5ECF6\",\"gridcolor\":\"white\",\"gridwidth\":2,\"linecolor\":\"white\",\"showbackground\":true,\"ticks\":\"\",\"zerolinecolor\":\"white\"},\"zaxis\":{\"backgroundcolor\":\"#E5ECF6\",\"gridcolor\":\"white\",\"gridwidth\":2,\"linecolor\":\"white\",\"showbackground\":true,\"ticks\":\"\",\"zerolinecolor\":\"white\"}},\"shapedefaults\":{\"line\":{\"color\":\"#2a3f5f\"}},\"ternary\":{\"aaxis\":{\"gridcolor\":\"white\",\"linecolor\":\"white\",\"ticks\":\"\"},\"baxis\":{\"gridcolor\":\"white\",\"linecolor\":\"white\",\"ticks\":\"\"},\"bgcolor\":\"#E5ECF6\",\"caxis\":{\"gridcolor\":\"white\",\"linecolor\":\"white\",\"ticks\":\"\"}},\"title\":{\"x\":0.05},\"xaxis\":{\"automargin\":true,\"gridcolor\":\"white\",\"linecolor\":\"white\",\"ticks\":\"\",\"title\":{\"standoff\":15},\"zerolinecolor\":\"white\",\"zerolinewidth\":2},\"yaxis\":{\"automargin\":true,\"gridcolor\":\"white\",\"linecolor\":\"white\",\"ticks\":\"\",\"title\":{\"standoff\":15},\"zerolinecolor\":\"white\",\"zerolinewidth\":2}}}},                        {\"responsive\": true}                    ).then(function(){\n",
              "                            \n",
              "var gd = document.getElementById('95cd16d8-8848-4c8b-a8e8-3126a3b390a7');\n",
              "var x = new MutationObserver(function (mutations, observer) {{\n",
              "        var display = window.getComputedStyle(gd).display;\n",
              "        if (!display || display === 'none') {{\n",
              "            console.log([gd, 'removed!']);\n",
              "            Plotly.purge(gd);\n",
              "            observer.disconnect();\n",
              "        }}\n",
              "}});\n",
              "\n",
              "// Listen for the removal of the full notebook cells\n",
              "var notebookContainer = gd.closest('#notebook-container');\n",
              "if (notebookContainer) {{\n",
              "    x.observe(notebookContainer, {childList: true});\n",
              "}}\n",
              "\n",
              "// Listen for the clearing of the current output cell\n",
              "var outputEl = gd.closest('.output');\n",
              "if (outputEl) {{\n",
              "    x.observe(outputEl, {childList: true});\n",
              "}}\n",
              "\n",
              "                        })                };                            </script>        </div>\n",
              "</body>\n",
              "</html>"
            ]
          },
          "metadata": {}
        }
      ]
    },
    {
      "cell_type": "markdown",
      "source": [
        "* 넷플릭스에 업로드된 작품의 수는 미국이 압도적으로 많음을 확인할 수 있다.\n",
        "* 미국 작품의 수가 많은 이유로는 먼저 넷플릭스 회사 자체가 미국 회사인 이유가 있을 것이다.\n",
        "* 또한 할리우드 작품과 같은 주목 받는 많은 컨텐츠들이 미국에서 만들어지는 것도 한몫 한다고 생각한다.\n",
        "* 미국 다음으로는 인도, 영국, 캐나다, 프랑스 등이 있다."
      ],
      "metadata": {
        "id": "XPLb-VMwfs5G"
      }
    },
    {
      "cell_type": "code",
      "source": [
        "# 국가별 작품수 Movie & TV Show\n",
        "\n",
        "px.histogram(country_count, \"country\", color = \"type\").update_xaxes(categoryorder = \"total descending\")"
      ],
      "metadata": {
        "id": "GJ52FIKtG9rP",
        "colab": {
          "base_uri": "https://localhost:8080/",
          "height": 542
        },
        "outputId": "e2511a91-c2ef-483d-fc75-8c3574b437a2"
      },
      "execution_count": null,
      "outputs": [
        {
          "output_type": "display_data",
          "data": {
            "text/html": [
              "<html>\n",
              "<head><meta charset=\"utf-8\" /></head>\n",
              "<body>\n",
              "    <div>            <script src=\"https://cdnjs.cloudflare.com/ajax/libs/mathjax/2.7.5/MathJax.js?config=TeX-AMS-MML_SVG\"></script><script type=\"text/javascript\">if (window.MathJax) {MathJax.Hub.Config({SVG: {font: \"STIX-Web\"}});}</script>                <script type=\"text/javascript\">window.PlotlyConfig = {MathJaxConfig: 'local'};</script>\n",
              "        <script src=\"https://cdn.plot.ly/plotly-2.8.3.min.js\"></script>                <div id=\"7d6d2b64-b4ce-46b5-940b-042c5f798278\" class=\"plotly-graph-div\" style=\"height:525px; width:100%;\"></div>            <script type=\"text/javascript\">                                    window.PLOTLYENV=window.PLOTLYENV || {};                                    if (document.getElementById(\"7d6d2b64-b4ce-46b5-940b-042c5f798278\")) {                    Plotly.newPlot(                        \"7d6d2b64-b4ce-46b5-940b-042c5f798278\",                        [{\"alignmentgroup\":\"True\",\"bingroup\":\"x\",\"hovertemplate\":\"type=Movie<br>country=%{x}<br>count=%{y}<extra></extra>\",\"legendgroup\":\"Movie\",\"marker\":{\"color\":\"#636efa\",\"pattern\":{\"shape\":\"\"}},\"name\":\"Movie\",\"offsetgroup\":\"Movie\",\"orientation\":\"v\",\"showlegend\":true,\"x\":[\"United States\",\"United States\",\"United States\",\"Germany\",\"India\",\"United States\",\"United States\",\"United States\",\"China\",\"United States\",\"United States\",\"United States\",\"United States\",\"South Africa\",\"United States\",\"Japan\",\"Japan\",\"Japan\",\"Japan\",\"Japan\",\"Japan\",\"Japan\",\"Japan\",\"Japan\",\"Japan\",\"Japan\",\"Japan\",\"Nigeria\",\"United States\",\"Nigeria\",\"Spain\",\"France\",\"United Kingdom\",\"United States\",\"United States\",\"India\",\"United States\",\"India\",\"United Kingdom\",\"India\",\"United Kingdom\",\"India\",\"United Kingdom\",\"India\",\"United States\",\"Germany\",\"United States\",\"South Africa\",\"United States\",\"United States\",\"United States\",\"Australia\",\"United States\",\"United States\",\"Argentina\",\"United States\",\"Germany\",\"United States\",\"United States\",\"United States\",\"United States\",\"United States\",\"United States\",\"China\",\"United States\",\"United Kingdom\",\"United States\",\"Canada\",\"United States\",\"Hong Kong\",\"United States\",\"United States\",\"United States\",\"United States\",\"Italy\",\"United States\",\"United States\",\"United States\",\"United States\",\"United States\",\"United States\",\"United States\",\"United States\",\"United States\",\"United States\",\"United Kingdom\",\"United States\",\"United States\",\"United States\",\"United States\",\"France\",\"India\",\"United Kingdom\",\"India\",\"India\",\"India\",\"India\",\"India\",\"India\",\"India\",\"India\",\"India\",\"India\",\"India\",\"India\",\"India\",\"India\",\"India\",\"India\",\"India\",\"India\",\"United States\",\"United States\",\"United States\",\"United States\",\"United Kingdom\",\"United States\",\"United States\",\"India\",\"India\",\"United States\",\"New Zealand\",\"Italy\",\"Colombia\",\"United States\",\"Nigeria\",\"Mexico\",\"Belgium\",\"United Kingdom\",\"Switzerland\",\"United States\",\"United Kingdom\",\"South Africa\",\"United States\",\"Nigeria\",\"France\",\"Canada\",\"India\",\"Brazil\",\"Argentina\",\"United Kingdom\",\"Argentina\",\"Nigeria\",\"United States\",\"United States\",\"United States\",\"United States\",\"United States\",\"United States\",\"United States\",\"United States\",\"Bulgaria\",\"United States\",\"United States\",\"United States\",\"United States\",\"United States\",\"United States\",\"United States\",\"United States\",\"United States\",\"United States\",\"United States\",\"United States\",\"United States\",\"United States\",\"Spain\",\"United Kingdom\",\"United States\",\"United States\",\"United States\",\"United States\",\"United States\",\"United States\",\"United States\",\"United States\",\"Spain\",\"United States\",\"United States\",\"United States\",\"\",\"Nigeria\",\"Poland\",\"United States\",\"India\",\"France\",\"United States\",\"Australia\",\"United Kingdom\",\"India\",\"India\",\"New Zealand\",\"Nigeria\",\"United States\",\"Saudi Arabia\",\"United States\",\"Thailand\",\"United States\",\"United States\",\"United States\",\"United States\",\"United States\",\"United States\",\"United States\",\"Indonesia\",\"Egypt\",\"United States\",\"United States\",\"Italy\",\"United States\",\"United States\",\"United States\",\"Hong Kong\",\"Kuwait\",\"United States\",\"United States\",\"United States\",\"France\",\"Nigeria\",\"Australia\",\"France\",\"India\",\"India\",\"Egypt\",\"Malaysia\",\"Indonesia\",\"India\",\"India\",\"India\",\"Nigeria\",\"South Korea\",\"South Korea\",\"Australia\",\"United States\",\"United States\",\"United States\",\"United States\",\"United States\",\"United States\",\"United States\",\"United States\",\"United States\",\"Vietnam\",\"United Kingdom\",\"United States\",\"United States\",\"United States\",\"United Kingdom\",\"France\",\"United States\",\"United States\",\"United States\",\"United States\",\"United States\",\"United Kingdom\",\"United Kingdom\",\"United States\",\"United States\",\"United States\",\"United States\",\"Germany\",\"United States\",\"United States\",\"United States\",\"United States\",\"United States\",\"United States\",\"United States\",\"United States\",\"United Kingdom\",\"United States\",\"United Kingdom\",\"United States\",\"United States\",\"United States\",\"United States\",\"United States\",\"United States\",\"Nigeria\",\"United States\",\"United States\",\"United States\",\"United States\",\"United States\",\"France\",\"Lebanon\",\"United States\",\"United States\",\"Brazil\",\"Nigeria\",\"Romania\",\"Romania\",\"Romania\",\"United States\",\"Nigeria\",\"Lebanon\",\"Philippines\",\"Canada\",\"United States\",\"Germany\",\"United States\",\"Italy\",\"United States\",\"United States\",\"United States\",\"United States\",\"United States\",\"United States\",\"United States\",\"India\",\"United States\",\"China\",\"United States\",\"Lebanon\",\"Vietnam\",\"Canada\",\"United Arab Emirates\",\"United States\",\"Nigeria\",\"Mexico\",\"United States\",\"United Kingdom\",\"Netherlands\",\"Nigeria\",\"United States\",\"South Korea\",\"South Africa\",\"Spain\",\"Mexico\",\"Sweden\",\"Argentina\",\"United Arab Emirates\",\"Philippines\",\"United States\",\"United States\",\"United States\",\"United States\",\"United States\",\"Canada\",\"Brazil\",\"United States\",\"United States\",\"United States\",\"United States\",\"United States\",\"United States\",\"United States\",\"United States\",\"Nigeria\",\"United States\",\"United States\",\"United States\",\"United States\",\"United States\",\"United States\",\"Germany\",\"Canada\",\"United States\",\"United States\",\"United States\",\"United States\",\"United States\",\"United Kingdom\",\"United States\",\"United States\",\"United States\",\"United Kingdom\",\"United States\",\"United States\",\"United States\",\"United States\",\"United States\",\"United States\",\"Thailand\",\"Argentina\",\"Syria\",\"Italy\",\"United States\",\"India\",\"United States\",\"Egypt\",\"Australia\",\"United States\",\"United States\",\"United States\",\"United States\",\"United States\",\"India\",\"United States\",\"India\",\"India\",\"Belgium\",\"South Africa\",\"Mauritius\",\"Canada\",\"Austria\",\"United States\",\"United Kingdom\",\"India\",\"Mexico\",\"France\",\"Spain\",\"United States\",\"India\",\"United States\",\"China\",\"Turkey\",\"United States\",\"India\",\"United States\",\"India\",\"United Kingdom\",\"Germany\",\"United States\",\"United States\",\"United States\",\"United States\",\"United States\",\"United States\",\"United States\",\"United States\",\"United Kingdom\",\"United Kingdom\",\"United Kingdom\",\"United States\",\"United States\",\"United States\",\"China\",\"United Kingdom\",\"United States\",\"United States\",\"United States\",\"United States\",\"United States\",\"United States\",\"United States\",\"United States\",\"Canada\",\"France\",\"United States\",\"India\",\"United States\",\"Brazil\",\"United States\",\"United States\",\"Spain\",\"India\",\"India\",\"United States\",\"Turkey\",\"Turkey\",\"Turkey\",\"Turkey\",\"Turkey\",\"Turkey\",\"Turkey\",\"Spain\",\"Turkey\",\"Turkey\",\"Turkey\",\"Turkey\",\"Turkey\",\"Egypt\",\"Nigeria\",\"Turkey\",\"Japan\",\"India\",\"Germany\",\"Canada\",\"Mexico\",\"United States\",\"France\",\"United States\",\"India\",\"India\",\"India\",\"India\",\"India\",\"India\",\"India\",\"India\",\"United States\",\"United States\",\"Canada\",\"United States\",\"Philippines\",\"Germany\",\"United Kingdom\",\"United States\",\"Czech Republic\",\"United States\",\"India\",\"United States\",\"Japan\",\"United States\",\"Japan\",\"United States\",\"United States\",\"United States\",\"China\",\"India\",\"United States\",\"China\",\"United States\",\"South Korea\",\"Nigeria\",\"India\",\"United States\",\"United States\",\"Indonesia\",\"United States\",\"India\",\"Cameroon\",\"United States\",\"United States\",\"United States\",\"China\",\"United States\",\"United Kingdom\",\"United States\",\"Nigeria\",\"India\",\"Netherlands\",\"France\",\"United States\",\"United States\",\"United States\",\"India\",\"India\",\"Lebanon\",\"United States\",\"United States\",\"Japan\",\"United States\",\"India\",\"United States\",\"United States\",\"United States\",\"Japan\",\"United States\",\"United States\",\"United States\",\"Indonesia\",\"Egypt\",\"United Kingdom\",\"United States\",\"United States\",\"India\",\"United States\",\"United States\",\"Ireland\",\"United Kingdom\",\"United States\",\"China\",\"United Kingdom\",\"United States\",\"Nigeria\",\"United States\",\"United States\",\"Ireland\",\"United Kingdom\",\"Turkey\",\"Spain\",\"India\",\"Italy\",\"Russia\",\"United States\",\"South Africa\",\"United Kingdom\",\"Japan\",\"Taiwan\",\"United States\",\"China\",\"Nigeria\",\"United States\",\"Brazil\",\"United States\",\"United Kingdom\",\"United States\",\"United Kingdom\",\"Nigeria\",\"United States\",\"United Kingdom\",\"Germany\",\"United States\",\"India\",\"United States\",\"United States\",\"Turkey\",\"Kenya\",\"Turkey\",\"Turkey\",\"Turkey\",\"Turkey\",\"United States\",\"Turkey\",\"Spain\",\"Indonesia\",\"United States\",\"India\",\"India\",\"Colombia\",\"Nigeria\",\"France\",\"Indonesia\",\"United States\",\"United States\",\"United States\",\"United States\",\"India\",\"United States\",\"United States\",\"Germany\",\"United States\",\"United States\",\"United States\",\"Belgium\",\"United States\",\"Spain\",\"Argentina\",\"United States\",\"United States\",\"India\",\"Chile\",\"Germany\",\"Indonesia\",\"Japan\",\"United States\",\"Canada\",\"United Kingdom\",\"India\",\"United States\",\"Canada\",\"Taiwan\",\"United Kingdom\",\"United States\",\"United Kingdom\",\"India\",\"Uruguay\",\"India\",\"United States\",\"United States\",\"United States\",\"India\",\"United States\",\"United States\",\"Nigeria\",\"United Kingdom\",\"Spain\",\"India\",\"United States\",\"Mexico\",\"Spain\",\"Indonesia\",\"United States\",\"Sweden\",\"Poland\",\"United States\",\"France\",\"United States\",\"United States\",\"China\",\"France\",\"Bangladesh\",\"Taiwan\",\"United States\",\"South Korea\",\"United States\",\"Italy\",\"China\",\"Poland\",\"Spain\",\"Mexico\",\"United States\",\"United Kingdom\",\"United States\",\"United Kingdom\",\"United States\",\"Portugal\",\"United States\",\"Spain\",\"United States\",\"United Kingdom\",\"Indonesia\",\"United States\",\"India\",\"Australia\",\"Nigeria\",\"Portugal\",\"United States\",\"India\",\"United States\",\"United Kingdom\",\"United States\",\"United States\",\"United States\",\"United Kingdom\",\"United States\",\"United States\",\"Brazil\",\"Hungary\",\"United States\",\"United States\",\"United States\",\"India\",\"United States\",\"South Korea\",\"Indonesia\",\"Indonesia\",\"United States\",\"Argentina\",\"United States\",\"France\",\"India\",\"India\",\"Canada\",\"United States\",\"India\",\"India\",\"Turkey\",\"Indonesia\",\"France\",\"Canada\",\"France\",\"India\",\"United States\",\"Norway\",\"United States\",\"United States\",\"United States\",\"United States\",\"United States\",\"United States\",\"United States\",\"United States\",\"United Kingdom\",\"United States\",\"United States\",\"United States\",\"United States\",\"United Kingdom\",\"South Korea\",\"United States\",\"United States\",\"India\",\"Indonesia\",\"Indonesia\",\"Taiwan\",\"United States\",\"United States\",\"United States\",\"France\",\"Canada\",\"India\",\"Philippines\",\"United States\",\"Indonesia\",\"Indonesia\",\"Philippines\",\"United States\",\"United States\",\"Taiwan\",\"United States\",\"United States\",\"Netherlands\",\"United Kingdom\",\"United States\",\"United States\",\"Egypt\",\"United Kingdom\",\"United States\",\"United States\",\"United States\",\"Malaysia\",\"Malaysia\",\"Malaysia\",\"Colombia\",\"Canada\",\"Indonesia\",\"Philippines\",\"Philippines\",\"Philippines\",\"United States\",\"United States\",\"United States\",\"India\",\"Canada\",\"Ireland\",\"United States\",\"United States\",\"United States\",\"United States\",\"United States\",\"India\",\"Canada\",\"Philippines\",\"Philippines\",\"Philippines\",\"Philippines\",\"Italy\",\"Singapore\",\"United States\",\"Brazil\",\"United States\",\"United States\",\"United States\",\"Canada\",\"United States\",\"Germany\",\"Turkey\",\"United States\",\"United States\",\"Philippines\",\"France\",\"Brazil\",\"Philippines\",\"Iceland\",\"Poland\",\"Germany\",\"United States\",\"United States\",\"United States\",\"United States\",\"United Kingdom\",\"United States\",\"United States\",\"Hong Kong\",\"Australia\",\"United States\",\"United States\",\"Philippines\",\"Philippines\",\"United States\",\"United States\",\"United States\",\"United States\",\"United States\",\"Spain\",\"Italy\",\"South Korea\",\"Philippines\",\"United States\",\"United States\",\"Philippines\",\"United Kingdom\",\"United Kingdom\",\"Canada\",\"India\",\"United States\",\"United States\",\"Argentina\",\"United States\",\"United States\",\"Egypt\",\"United States\",\"United States\",\"Kenya\",\"United States\",\"United States\",\"United States\",\"India\",\"India\",\"India\",\"India\",\"Philippines\",\"India\",\"India\",\"India\",\"United States\",\"Philippines\",\"India\",\"United States\",\"United States\",\"United Kingdom\",\"United States\",\"United States\",\"United States\",\"Canada\",\"United States\",\"United States\",\"India\",\"United States\",\"Brazil\",\"Italy\",\"Philippines\",\"Philippines\",\"United States\",\"India\",\"Argentina\",\"United States\",\"Lebanon\",\"Austria\",\"Nigeria\",\"Taiwan\",\"Spain\",\"United States\",\"United States\",\"Philippines\",\"Canada\",\"Philippines\",\"United States\",\"Canada\",\"Canada\",\"India\",\"Germany\",\"Japan\",\"Canada\",\"United States\",\"United States\",\"United States\",\"Canada\",\"United States\",\"United States\",\"United States\",\"United Kingdom\",\"Spain\",\"United States\",\"United States\",\"Norway\",\"United States\",\"United Kingdom\",\"Nigeria\",\"India\",\"France\",\"Mexico\",\"Philippines\",\"United States\",\"United States\",\"Poland\",\"United States\",\"Argentina\",\"United States\",\"India\",\"Ireland\",\"Australia\",\"Brazil\",\"China\",\"United States\",\"United States\",\"Norway\",\"Philippines\",\"United Kingdom\",\"Philippines\",\"Canada\",\"United States\",\"Canada\",\"United Kingdom\",\"Canada\",\"United States\",\"Lebanon\",\"Lebanon\",\"Lebanon\",\"Lebanon\",\"Lebanon\",\"France\",\"Lebanon\",\"Lebanon\",\"Lebanon\",\"France\",\"France\",\"France\",\"Lebanon\",\"Lebanon\",\"Sweden\",\"United States\",\"United Kingdom\",\"Kenya\",\"United States\",\"United States\",\"United States\",\"United States\",\"United States\",\"Egypt\",\"Indonesia\",\"Indonesia\",\"India\",\"Taiwan\",\"United States\",\"Mexico\",\"India\",\"United Kingdom\",\"India\",\"India\",\"India\",\"India\",\"India\",\"United States\",\"India\",\"Turkey\",\"Canada\",\"United States\",\"France\",\"Argentina\",\"United States\",\"United States\",\"United Kingdom\",\"Canada\",\"United States\",\"United States\",\"Canada\",\"Turkey\",\"Turkey\",\"Nigeria\",\"India\",\"Italy\",\"Turkey\",\"United States\",\"Mexico\",\"Malaysia\",\"Serbia\",\"United States\",\"South Africa\",\"United States\",\"United States\",\"New Zealand\",\"United States\",\"United States\",\"Saudi Arabia\",\"United States\",\"United States\",\"United States\",\"Namibia\",\"United Kingdom\",\"United States\",\"United States\",\"United States\",\"United States\",\"United States\",\"South Africa\",\"India\",\"India\",\"India\",\"India\",\"India\",\"India\",\"India\",\"India\",\"India\",\"India\",\"United States\",\"United Kingdom\",\"United States\",\"United States\",\"Japan\",\"Japan\",\"Japan\",\"Japan\",\"Japan\",\"Japan\",\"Egypt\",\"India\",\"India\",\"India\",\"India\",\"India\",\"India\",\"Indonesia\",\"India\",\"France\",\"United Kingdom\",\"United States\",\"United States\",\"Spain\",\"United Kingdom\",\"Thailand\",\"United Kingdom\",\"France\",\"United States\",\"Nigeria\",\"Mexico\",\"United States\",\"Germany\",\"India\",\"India\",\"India\",\"India\",\"India\",\"India\",\"India\",\"Turkey\",\"India\",\"India\",\"Indonesia\",\"Egypt\",\"United States\",\"India\",\"France\",\"Argentina\",\"United States\",\"South Korea\",\"South Africa\",\"Turkey\",\"United States\",\"United Kingdom\",\"United States\",\"South Africa\",\"Nigeria\",\"Philippines\",\"Brazil\",\"Indonesia\",\"United States\",\"Germany\",\"Germany\",\"Vietnam\",\"Hong Kong\",\"Philippines\",\"Netherlands\",\"Japan\",\"Japan\",\"United States\",\"United States\",\"India\",\"Spain\",\"United States\",\"Italy\",\"United States\",\"Canada\",\"India\",\"United States\",\"United States\",\"South Africa\",\"Spain\",\"United States\",\"Taiwan\",\"United States\",\"United States\",\"United States\",\"United Kingdom\",\"United States\",\"India\",\"Mexico\",\"United States\",\"United States\",\"Egypt\",\"Argentina\",\"United States\",\"Nigeria\",\"Indonesia\",\"Indonesia\",\"United Kingdom\",\"United States\",\"India\",\"Canada\",\"United States\",\"United Kingdom\",\"United States\",\"France\",\"United Kingdom\",\"United States\",\"India\",\"United States\",\"United States\",\"United States\",\"United States\",\"Germany\",\"United States\",\"United States\",\"United States\",\"Uruguay\",\"France\",\"United States\",\"United States\",\"United States\",\"United States\",\"United States\",\"Canada\",\"Turkey\",\"Canada\",\"Germany\",\"India\",\"South Africa\",\"United States\",\"Peru\",\"India\",\"Nigeria\",\"Mozambique\",\"Brazil\",\"Poland\",\"United States\",\"United States\",\"United States\",\"India\",\"China\",\"India\",\"China\",\"United States\",\"Nigeria\",\"Spain\",\"Japan\",\"United Kingdom\",\"South Korea\",\"South Africa\",\"United States\",\"Hong Kong\",\"United Kingdom\",\"France\",\"United States\",\"Nigeria\",\"United States\",\"France\",\"Nigeria\",\"Nigeria\",\"Italy\",\"Australia\",\"France\",\"South Africa\",\"Egypt\",\"United States\",\"United States\",\"New Zealand\",\"United States\",\"United States\",\"United States\",\"United States\",\"India\",\"India\",\"India\",\"India\",\"India\",\"India\",\"India\",\"India\",\"India\",\"India\",\"India\",\"India\",\"India\",\"India\",\"India\",\"India\",\"India\",\"India\",\"United States\",\"India\",\"India\",\"India\",\"India\",\"India\",\"India\",\"India\",\"India\",\"United States\",\"Indonesia\",\"Switzerland\",\"Ghana\",\"Brazil\",\"Italy\",\"Spain\",\"Turkey\",\"Canada\",\"United States\",\"Turkey\",\"United Kingdom\",\"United States\",\"Spain\",\"United States\",\"Italy\",\"United States\",\"United Kingdom\",\"Indonesia\",\"Nigeria\",\"Australia\",\"United States\",\"Nigeria\",\"Philippines\",\"India\",\"India\",\"India\",\"India\",\"India\",\"United States\",\"India\",\"Chile\",\"United States\",\"India\",\"Nigeria\",\"United States\",\"Nigeria\",\"India\",\"France\",\"United States\",\"United States\",\"France\",\"Turkey\",\"Egypt\",\"France\",\"Japan\",\"Egypt\",\"France\",\"Egypt\",\"Egypt\",\"Egypt\",\"Philippines\",\"Thailand\",\"Egypt\",\"Lebanon\",\"Egypt\",\"Egypt\",\"Canada\",\"United Kingdom\",\"United States\",\"Nigeria\",\"United States\",\"United Kingdom\",\"Argentina\",\"Malaysia\",\"Nigeria\",\"India\",\"Indonesia\",\"India\",\"United States\",\"United States\",\"Japan\",\"United Arab Emirates\",\"Saudi Arabia\",\"United States\",\"South Korea\",\"United States\",\"Poland\",\"India\",\"India\",\"United States\",\"Egypt\",\"United States\",\"India\",\"Nigeria\",\"United States\",\"Turkey\",\"Turkey\",\"Egypt\",\"United States\",\"United States\",\"Egypt\",\"Egypt\",\"Egypt\",\"Egypt\",\"Egypt\",\"Egypt\",\"Canada\",\"Saudi Arabia\",\"Egypt\",\"Egypt\",\"India\",\"Zimbabwe\",\"United Arab Emirates\",\"Japan\",\"United States\",\"United Kingdom\",\"Romania\",\"United Arab Emirates\",\"India\",\"France\",\"United Arab Emirates\",\"United Arab Emirates\",\"Argentina\",\"Mexico\",\"Australia\",\"China\",\"United States\",\"Indonesia\",\"Indonesia\",\"Nigeria\",\"Japan\",\"United States\",\"Indonesia\",\"Kuwait\",\"Chile\",\"Egypt\",\"Egypt\",\"Egypt\",\"Egypt\",\"Canada\",\"United States\",\"United Kingdom\",\"United States\",\"Mexico\",\"India\",\"Egypt\",\"Egypt\",\"Egypt\",\"Egypt\",\"Egypt\",\"Egypt\",\"Egypt\",\"Egypt\",\"Saudi Arabia\",\"Egypt\",\"Nigeria\",\"Kuwait\",\"Lebanon\",\"Spain\",\"Indonesia\",\"Indonesia\",\"United Arab Emirates\",\"India\",\"Mexico\",\"Nigeria\",\"Kuwait\",\"India\",\"United States\",\"United Arab Emirates\",\"United States\",\"India\",\"India\",\"United States\",\"United States\",\"Italy\",\"United Arab Emirates\",\"Kuwait\",\"Indonesia\",\"United States\",\"United States\",\"India\",\"Brazil\",\"India\",\"United States\",\"Colombia\",\"United States\",\"United States\",\"United States\",\"United States\",\"United States\",\"United States\",\"France\",\"United States\",\"United States\",\"United States\",\"South Africa\",\"India\",\"India\",\"United States\",\"United States\",\"United States\",\"United States\",\"Brazil\",\"United States\",\"Turkey\",\"Nigeria\",\"United States\",\"India\",\"Turkey\",\"Turkey\",\"Egypt\",\"Turkey\",\"Turkey\",\"Italy\",\"Turkey\",\"Turkey\",\"Turkey\",\"United States\",\"Egypt\",\"Romania\",\"India\",\"India\",\"India\",\"Egypt\",\"United Kingdom\",\"Egypt\",\"France\",\"Egypt\",\"Egypt\",\"Egypt\",\"Egypt\",\"India\",\"India\",\"Indonesia\",\"Indonesia\",\"Indonesia\",\"South Korea\",\"United States\",\"Poland\",\"Nigeria\",\"Spain\",\"Canada\",\"India\",\"Turkey\",\"France\",\"Germany\",\"United States\",\"Spain\",\"Uruguay\",\"United States\",\"United States\",\"Brazil\",\"United States\",\"Turkey\",\"Philippines\",\"India\",\"India\",\"United States\",\"Nigeria\",\"Nigeria\",\"United States\",\"Canada\",\"United States\",\"United Kingdom\",\"France\",\"United States\",\"United States\",\"Philippines\",\"United States\",\"United States\",\"United States\",\"United States\",\"United States\",\"Ireland\",\"United States\",\"United States\",\"Spain\",\"United Kingdom\",\"Japan\",\"Japan\",\"India\",\"India\",\"India\",\"Sweden\",\"India\",\"India\",\"India\",\"India\",\"India\",\"India\",\"India\",\"India\",\"India\",\"India\",\"India\",\"India\",\"India\",\"India\",\"India\",\"India\",\"India\",\"India\",\"Netherlands\",\"United States\",\"India\",\"United States\",\"India\",\"United States\",\"United States\",\"Canada\",\"India\",\"United States\",\"Canada\",\"India\",\"United States\",\"United States\",\"India\",\"Canada\",\"Canada\",\"Canada\",\"United States\",\"Hungary\",\"Thailand\",\"Germany\",\"United States\",\"United States\",\"Hungary\",\"Spain\",\"United States\",\"Argentina\",\"Mexico\",\"Italy\",\"United States\",\"Japan\",\"Saudi Arabia\",\"United States\",\"Japan\",\"United Kingdom\",\"United States\",\"United States\",\"India\",\"India\",\"South Africa\",\"Australia\",\"United States\",\"United States\",\"Turkey\",\"Canada\",\"United States\",\"Pakistan\",\"South Africa\",\"India\",\"France\",\"United States\",\"United States\",\"Spain\",\"Nigeria\",\"Thailand\",\"Romania\",\"United States\",\"Romania\",\"United States\",\"Brazil\",\"United States\",\"India\",\"South Africa\",\"United Kingdom\",\"United States\",\"India\",\"United States\",\"United Kingdom\",\"United States\",\"South Africa\",\"United States\",\"France\",\"United Kingdom\",\"United States\",\"India\",\"India\",\"Japan\",\"Nigeria\",\"Nigeria\",\"Nigeria\",\"Nigeria\",\"Nigeria\",\"United States\",\"United States\",\"United States\",\"Germany\",\"India\",\"United States\",\"India\",\"South Africa\",\"Romania\",\"France\",\"United States\",\"United States\",\"United States\",\"United States\",\"United Kingdom\",\"Philippines\",\"Poland\",\"Germany\",\"South Africa\",\"India\",\"Nigeria\",\"Japan\",\"South Africa\",\"United States\",\"United States\",\"United States\",\"Mexico\",\"Indonesia\",\"United States\",\"United States\",\"Poland\",\"India\",\"Ghana\",\"United States\",\"India\",\"United States\",\"Kenya\",\"United States\",\"United States\",\"United States\",\"United States\",\"India\",\"Spain\",\"United States\",\"India\",\"United States\",\"Canada\",\"Netherlands\",\"United Kingdom\",\"United States\",\"India\",\"Japan\",\"France\",\"Nigeria\",\"United States\",\"United States\",\"France\",\"India\",\"India\",\"India\",\"United States\",\"Taiwan\",\"South Africa\",\"United States\",\"Mexico\",\"Uruguay\",\"United States\",\"India\",\"India\",\"United States\",\"United States\",\"United States\",\"United States\",\"United States\",\"United States\",\"United Kingdom\",\"Japan\",\"United Kingdom\",\"India\",\"Spain\",\"Austria\",\"United States\",\"United States\",\"Poland\",\"United States\",\"India\",\"United Kingdom\",\"United States\",\"United States\",\"Spain\",\"Mexico\",\"India\",\"Indonesia\",\"United Kingdom\",\"United States\",\"United States\",\"South Korea\",\"India\",\"United States\",\"United States\",\"Mexico\",\"Japan\",\"Indonesia\",\"United States\",\"India\",\"India\",\"United States\",\"United States\",\"Japan\",\"South Africa\",\"Argentina\",\"Italy\",\"United States\",\"Japan\",\"United States\",\"Israel\",\"France\",\"United States\",\"Mexico\",\"United States\",\"United States\",\"Australia\",\"Nigeria\",\"Nigeria\",\"Nigeria\",\"United Kingdom\",\"United States\",\"United States\",\"Bangladesh\",\"United Kingdom\",\"India\",\"India\",\"India\",\"India\",\"India\",\"India\",\"India\",\"India\",\"Nigeria\",\"India\",\"India\",\"India\",\"Ghana\",\"India\",\"India\",\"India\",\"United States\",\"Nigeria\",\"South Africa\",\"Nigeria\",\"Taiwan\",\"United Kingdom\",\"India\",\"Egypt\",\"United States\",\"United States\",\"United States\",\"India\",\"Brazil\",\"Nigeria\",\"United Kingdom\",\"Japan\",\"Nigeria\",\"United States\",\"Nigeria\",\"United Kingdom\",\"United States\",\"United States\",\"United States\",\"United States\",\"India\",\"United States\",\"Philippines\",\"India\",\"Australia\",\"India\",\"India\",\"United Kingdom\",\"India\",\"Thailand\",\"India\",\"France\",\"Romania\",\"Uruguay\",\"India\",\"France\",\"Nigeria\",\"France\",\"South Africa\",\"Nigeria\",\"Nigeria\",\"Nigeria\",\"United States\",\"United States\",\"India\",\"Canada\",\"United States\",\"United States\",\"United States\",\"India\",\"Spain\",\"United States\",\"France\",\"Japan\",\"United States\",\"United States\",\"United States\",\"United States\",\"India\",\"Mexico\",\"India\",\"United States\",\"Finland\",\"United States\",\"United Kingdom\",\"United States\",\"United Kingdom\",\"Colombia\",\"Argentina\",\"India\",\"India\",\"Japan\",\"Spain\",\"India\",\"Japan\",\"France\",\"United States\",\"United States\",\"United States\",\"United States\",\"France\",\"India\",\"United States\",\"China\",\"Brazil\",\"United States\",\"United States\",\"South Korea\",\"United States\",\"United States\",\"India\",\"United States\",\"United States\",\"United States\",\"United States\",\"United States\",\"United States\",\"United States\",\"United States\",\"United States\",\"United States\",\"Spain\",\"United States\",\"United States\",\"United Kingdom\",\"India\",\"United States\",\"United States\",\"United States\",\"United States\",\"United Kingdom\",\"Italy\",\"Mexico\",\"Canada\",\"Mexico\",\"Argentina\",\"India\",\"United States\",\"United States\",\"Mexico\",\"United Kingdom\",\"Turkey\",\"United States\",\"United States\",\"United States\",\"Switzerland\",\"United States\",\"Singapore\",\"United States\",\"Hong Kong\",\"United States\",\"United Kingdom\",\"France\",\"South Africa\",\"United States\",\"Turkey\",\"Spain\",\"Nigeria\",\"United Kingdom\",\"United States\",\"Nigeria\",\"India\",\"Indonesia\",\"United States\",\"United States\",\"South Korea\",\"United States\",\"United States\",\"Canada\",\"France\",\"Turkey\",\"United States\",\"United States\",\"Nigeria\",\"Japan\",\"Spain\",\"United States\",\"United States\",\"United States\",\"United States\",\"Indonesia\",\"India\",\"United Kingdom\",\"Turkey\",\"Canada\",\"Turkey\",\"United States\",\"Mexico\",\"United States\",\"Netherlands\",\"India\",\"United States\",\"Germany\",\"United States\",\"United States\",\"United Kingdom\",\"Japan\",\"Turkey\",\"United States\",\"United States\",\"India\",\"Hong Kong\",\"United States\",\"United States\",\"United States\",\"India\",\"United States\",\"India\",\"United States\",\"Turkey\",\"Canada\",\"India\",\"United Kingdom\",\"United States\",\"United States\",\"United States\",\"India\",\"United States\",\"United States\",\"Turkey\",\"China\",\"United States\",\"United States\",\"United Kingdom\",\"India\",\"India\",\"India\",\"Turkey\",\"United States\",\"Pakistan\",\"India\",\"Brazil\",\"Denmark\",\"United States\",\"United Arab Emirates\",\"Colombia\",\"Chile\",\"Spain\",\"United States\",\"Brazil\",\"United States\",\"United States\",\"Hong Kong\",\"India\",\"India\",\"China\",\"India\",\"United States\",\"India\",\"Philippines\",\"United Kingdom\",\"United Kingdom\",\"South Korea\",\"United States\",\"United States\",\"Canada\",\"Spain\",\"Brazil\",\"India\",\"India\",\"United States\",\"Mexico\",\"India\",\"United States\",\"India\",\"United States\",\"Philippines\",\"United States\",\"United States\",\"United States\",\"United States\",\"United States\",\"Mexico\",\"Netherlands\",\"United Kingdom\",\"India\",\"India\",\"Canada\",\"Spain\",\"Philippines\",\"France\",\"Argentina\",\"United States\",\"United States\",\"United States\",\"Hong Kong\",\"Hong Kong\",\"Hong Kong\",\"Hong Kong\",\"Spain\",\"United States\",\"India\",\"India\",\"United States\",\"Spain\",\"Taiwan\",\"Germany\",\"France\",\"Germany\",\"Spain\",\"United States\",\"Argentina\",\"United States\",\"United States\",\"United States\",\"Thailand\",\"India\",\"India\",\"Colombia\",\"Mexico\",\"United Kingdom\",\"Mexico\",\"Japan\",\"India\",\"India\",\"United States\",\"Thailand\",\"Argentina\",\"Japan\",\"Japan\",\"India\",\"France\",\"United States\",\"Brazil\",\"United States\",\"United States\",\"Germany\",\"Sweden\",\"India\",\"India\",\"Brazil\",\"United States\",\"United States\",\"Indonesia\",\"United States\",\"United States\",\"Uruguay\",\"Spain\",\"Australia\",\"India\",\"France\",\"Germany\",\"India\",\"United States\",\"Germany\",\"Japan\",\"Netherlands\",\"United States\",\"United States\",\"India\",\"India\",\"Romania\",\"Hong Kong\",\"India\",\"India\",\"China\",\"South Korea\",\"United States\",\"Austria\",\"United States\",\"United States\",\"United States\",\"India\",\"United States\",\"Spain\",\"Denmark\",\"Spain\",\"Philippines\",\"Italy\",\"United States\",\"United States\",\"India\",\"United Kingdom\",\"India\",\"United States\",\"United States\",\"United States\",\"United States\",\"New Zealand\",\"Chile\",\"France\",\"Hong Kong\",\"Spain\",\"United States\",\"Taiwan\",\"United Kingdom\",\"China\",\"United States\",\"Spain\",\"United States\",\"South Korea\",\"United States\",\"India\",\"United States\",\"United Kingdom\",\"United States\",\"Malaysia\",\"India\",\"Hong Kong\",\"United States\",\"India\",\"Colombia\",\"Turkey\",\"India\",\"United States\",\"Denmark\",\"India\",\"United States\",\"Italy\",\"United Kingdom\",\"Mexico\",\"United Kingdom\",\"India\",\"India\",\"United States\",\"India\",\"India\",\"India\",\"India\",\"India\",\"India\",\"United States\",\"Spain\",\"Turkey\",\"Turkey\",\"Italy\",\"United States\",\"Brazil\",\"Canada\",\"India\",\"United States\",\"India\",\"United States\",\"Indonesia\",\"India\",\"Malaysia\",\"United States\",\"China\",\"Pakistan\",\"United States\",\"United States\",\"Ghana\",\"India\",\"Mexico\",\"United States\",\"United States\",\"Indonesia\",\"Indonesia\",\"United States\",\"India\",\"Spain\",\"Thailand\",\"Spain\",\"United States\",\"United States\",\"Philippines\",\"Philippines\",\"Philippines\",\"Philippines\",\"Philippines\",\"Uruguay\",\"India\",\"United States\",\"United States\",\"United Arab Emirates\",\"France\",\"Italy\",\"Netherlands\",\"United States\",\"United States\",\"United States\",\"United States\",\"United States\",\"Malaysia\",\"Philippines\",\"Philippines\",\"Philippines\",\"Philippines\",\"Philippines\",\"United States\",\"United Arab Emirates\",\"United States\",\"France\",\"United States\",\"United States\",\"Philippines\",\"Philippines\",\"Philippines\",\"Philippines\",\"United States\",\"Philippines\",\"Philippines\",\"Japan\",\"Austria\",\"Thailand\",\"Thailand\",\"France\",\"Canada\",\"United States\",\"United States\",\"United Kingdom\",\"Paraguay\",\"United States\",\"Spain\",\"Spain\",\"Philippines\",\"Philippines\",\"Philippines\",\"Philippines\",\"India\",\"Philippines\",\"Philippines\",\"Philippines\",\"Philippines\",\"Philippines\",\"Philippines\",\"United States\",\"India\",\"Spain\",\"United States\",\"India\",\"United States\",\"France\",\"India\",\"South Korea\",\"United States\",\"Canada\",\"India\",\"United Kingdom\",\"United States\",\"India\",\"India\",\"United States\",\"Brazil\",\"India\",\"India\",\"India\",\"India\",\"India\",\"India\",\"New Zealand\",\"India\",\"Spain\",\"United States\",\"United States\",\"United States\",\"United States\",\"United States\",\"Spain\",\"United States\",\"United Kingdom\",\"India\",\"United States\",\"Taiwan\",\"United States\",\"United States\",\"United States\",\"United States\",\"United States\",\"United States\",\"Malaysia\",\"China\",\"India\",\"India\",\"South Korea\",\"Spain\",\"Indonesia\",\"India\",\"Indonesia\",\"Indonesia\",\"Indonesia\",\"Philippines\",\"Spain\",\"Argentina\",\"United States\",\"Argentina\",\"United Kingdom\",\"United States\",\"United States\",\"Brazil\",\"Mexico\",\"India\",\"United States\",\"Pakistan\",\"India\",\"India\",\"India\",\"Pakistan\",\"South Korea\",\"United States\",\"Indonesia\",\"Indonesia\",\"India\",\"Philippines\",\"United States\",\"Spain\",\"United States\",\"Japan\",\"India\",\"Bangladesh\",\"Thailand\",\"Iceland\",\"Nigeria\",\"United Kingdom\",\"Thailand\",\"India\",\"United States\",\"Japan\",\"India\",\"India\",\"United States\",\"United Kingdom\",\"United Kingdom\",\"United Kingdom\",\"United States\",\"United Kingdom\",\"Mexico\",\"United States\",\"United States\",\"United States\",\"United States\",\"Taiwan\",\"Japan\",\"United States\",\"United States\",\"United Kingdom\",\"United Kingdom\",\"United States\",\"United States\",\"Uruguay\",\"United States\",\"India\",\"Spain\",\"France\",\"United States\",\"Poland\",\"Singapore\",\"Japan\",\"Singapore\",\"Singapore\",\"Singapore\",\"India\",\"India\",\"United States\",\"India\",\"United States\",\"United States\",\"Canada\",\"United States\",\"United Kingdom\",\"United States\",\"Philippines\",\"United States\",\"United States\",\"United States\",\"United States\",\"Spain\",\"India\",\"Mexico\",\"United States\",\"United States\",\"Italy\",\"United States\",\"United Kingdom\",\"United States\",\"Pakistan\",\"China\",\"Hong Kong\",\"Mexico\",\"Norway\",\"Hong Kong\",\"Hong Kong\",\"India\",\"Malaysia\",\"Hong Kong\",\"Hong Kong\",\"Australia\",\"Hong Kong\",\"China\",\"Hong Kong\",\"Hong Kong\",\"India\",\"United States\",\"Hong Kong\",\"China\",\"United States\",\"Ireland\",\"Mexico\",\"Italy\",\"India\",\"India\",\"France\",\"Mexico\",\"United States\",\"United States\",\"Spain\",\"United States\",\"Indonesia\",\"Indonesia\",\"United States\",\"United States\",\"United States\",\"France\",\"United States\",\"United States\",\"India\",\"Canada\",\"India\",\"Indonesia\",\"India\",\"India\",\"India\",\"Spain\",\"Philippines\",\"Hong Kong\",\"Germany\",\"United Kingdom\",\"India\",\"United States\",\"Brazil\",\"United States\",\"United States\",\"France\",\"United States\",\"India\",\"India\",\"India\",\"India\",\"India\",\"India\",\"India\",\"India\",\"Canada\",\"India\",\"United Kingdom\",\"India\",\"India\",\"United States\",\"Brazil\",\"India\",\"India\",\"India\",\"India\",\"India\",\"India\",\"India\",\"India\",\"India\",\"India\",\"United States\",\"India\",\"India\",\"United States\",\"India\",\"India\",\"India\",\"India\",\"India\",\"India\",\"India\",\"India\",\"India\",\"United States\",\"United States\",\"South Africa\",\"India\",\"India\",\"India\",\"Spain\",\"Philippines\",\"Hong Kong\",\"Russia\",\"Spain\",\"Colombia\",\"United States\",\"India\",\"United States\",\"United States\",\"United States\",\"Peru\",\"Mexico\",\"United Kingdom\",\"South Korea\",\"India\",\"Hong Kong\",\"Indonesia\",\"India\",\"United States\",\"India\",\"India\",\"India\",\"United Kingdom\",\"Spain\",\"United States\",\"Indonesia\",\"United States\",\"United States\",\"Norway\",\"United States\",\"United States\",\"Malaysia\",\"United States\",\"United Kingdom\",\"United States\",\"United Kingdom\",\"United States\",\"United States\",\"United States\",\"United Kingdom\",\"United Kingdom\",\"United States\",\"United Kingdom\",\"United Kingdom\",\"United Kingdom\",\"United Kingdom\",\"United Kingdom\",\"India\",\"Canada\",\"India\",\"India\",\"India\",\"India\",\"India\",\"India\",\"India\",\"India\",\"India\",\"India\",\"India\",\"India\",\"India\",\"India\",\"India\",\"India\",\"India\",\"India\",\"India\",\"India\",\"India\",\"India\",\"India\",\"India\",\"India\",\"India\",\"India\",\"India\",\"United States\",\"United States\",\"United States\",\"India\",\"India\",\"India\",\"India\",\"India\",\"India\",\"India\",\"India\",\"India\",\"India\",\"India\",\"India\",\"India\",\"India\",\"India\",\"India\",\"India\",\"India\",\"India\",\"India\",\"Pakistan\",\"United States\",\"Brazil\",\"China\",\"United States\",\"United States\",\"Indonesia\",\"Spain\",\"United Kingdom\",\"United States\",\"Brazil\",\"Israel\",\"United States\",\"United States\",\"Italy\",\"Netherlands\",\"United States\",\"China\",\"United States\",\"Belgium\",\"India\",\"United Kingdom\",\"France\",\"India\",\"India\",\"India\",\"India\",\"France\",\"Spain\",\"India\",\"India\",\"India\",\"United States\",\"Canada\",\"United States\",\"India\",\"India\",\"India\",\"India\",\"India\",\"United States\",\"Spain\",\"United States\",\"South Korea\",\"India\",\"United States\",\"United Kingdom\",\"United States\",\"United States\",\"Argentina\",\"India\",\"India\",\"India\",\"China\",\"United States\",\"India\",\"India\",\"India\",\"India\",\"India\",\"India\",\"India\",\"India\",\"India\",\"India\",\"India\",\"India\",\"India\",\"India\",\"India\",\"India\",\"India\",\"India\",\"India\",\"United States\",\"Argentina\",\"Australia\",\"Australia\",\"France\",\"Mexico\",\"United States\",\"Australia\",\"India\",\"United States\",\"Spain\",\"China\",\"United States\",\"Brazil\",\"Spain\",\"Spain\",\"Japan\",\"Australia\",\"United States\",\"United States\",\"Mexico\",\"Argentina\",\"United States\",\"Spain\",\"France\",\"United States\",\"United States\",\"United States\",\"United States\",\"China\",\"India\",\"United States\",\"India\",\"India\",\"United States\",\"India\",\"India\",\"India\",\"Mexico\",\"India\",\"United States\",\"India\",\"United States\",\"Spain\",\"United Kingdom\",\"Chile\",\"Colombia\",\"United States\",\"United States\",\"United States\",\"Japan\",\"France\",\"United States\",\"United Kingdom\",\"China\",\"Australia\",\"India\",\"Israel\",\"Peru\",\"United States\",\"Spain\",\"Chile\",\"United States\",\"Australia\",\"Mexico\",\"India\",\"Thailand\",\"United States\",\"Germany\",\"Spain\",\"Argentina\",\"United States\",\"United States\",\"United States\",\"South Africa\",\"United States\",\"Argentina\",\"India\",\"Japan\",\"United States\",\"United States\",\"Mexico\",\"United Kingdom\",\"United States\",\"Germany\",\"United States\",\"Canada\",\"United Kingdom\",\"France\",\"United States\",\"Italy\",\"Mexico\",\"China\",\"Spain\",\"Colombia\",\"Cambodia\",\"India\",\"India\",\"Italy\",\"United States\",\"Argentina\",\"United States\",\"Canada\",\"Spain\",\"United States\",\"India\",\"United States\",\"Spain\",\"India\",\"France\",\"United States\",\"Spain\",\"United States\",\"United States\",\"Germany\",\"United States\",\"Brazil\",\"South Korea\",\"United States\",\"United States\",\"Canada\",\"United States\",\"Brazil\",\"United States\",\"United States\",\"France\",\"Colombia\",\"United Kingdom\",\"United States\",\"United States\",\"Spain\",\"United States\",\"United States\",\"Mexico\",\"Argentina\",\"Bulgaria\",\"France\",\"India\",\"Argentina\",\"India\",\"United States\",\"India\",\"India\",\"India\",\"India\",\"India\",\"United Kingdom\",\"United States\",\"United States\",\"Mexico\",\"United Kingdom\",\"Canada\",\"Canada\",\"Philippines\",\"United States\",\"Netherlands\",\"United States\",\"United States\",\"India\",\"United Arab Emirates\",\"United States\",\"Japan\",\"Sweden\",\"Poland\",\"South Korea\",\"United Kingdom\",\"United States\",\"United States\",\"India\",\"Bulgaria\",\"United States\",\"Argentina\",\"Chile\",\"Canada\",\"United States\",\"United States\",\"India\",\"India\",\"India\",\"United States\",\"Germany\",\"India\",\"Spain\",\"India\",\"Canada\",\"Canada\",\"Canada\",\"Canada\",\"Canada\",\"India\",\"India\",\"South Korea\",\"United Kingdom\",\"United States\",\"Spain\",\"United Kingdom\",\"South Korea\",\"Japan\",\"Argentina\",\"United States\",\"United States\",\"India\",\"United States\",\"United Kingdom\",\"Georgia\",\"United States\",\"United States\",\"Hungary\",\"South Korea\",\"United States\",\"United States\",\"Germany\",\"United States\",\"Spain\",\"United States\",\"Singapore\",\"Mexico\",\"Argentina\",\"Bulgaria\",\"Colombia\",\"United States\",\"United States\",\"United States\",\"Canada\",\"United Kingdom\",\"Colombia\",\"United States\",\"Soviet Union\",\"India\",\"Australia\",\"Czech Republic\",\"United States\",\"South Korea\",\"United States\",\"Colombia\",\"India\",\"United States\",\"United States\",\"Spain\",\"United States\",\"Canada\",\"France\",\"Germany\",\"United States\",\"United States\",\"United States\",\"United States\",\"Argentina\",\"Canada\",\"Mexico\",\"United Kingdom\",\"United States\",\"India\",\"United States\",\"South Korea\",\"United States\",\"United States\",\"India\",\"India\",\"Australia\",\"United States\",\"United States\",\"India\",\"Japan\",\"United States\",\"United States\",\"India\",\"Georgia\",\"United Arab Emirates\",\"United States\",\"India\",\"United States\",\"Spain\",\"United States\",\"Australia\",\"United States\",\"United States\",\"United States\",\"Canada\",\"United States\",\"United States\",\"Canada\",\"Mexico\",\"Brazil\",\"United States\",\"United States\",\"United States\",\"India\",\"India\",\"Spain\",\"United Arab Emirates\",\"Germany\",\"China\",\"United States\",\"United States\",\"United States\",\"Canada\",\"United States\",\"United States\",\"United States\",\"United Kingdom\",\"United States\",\"United States\",\"United States\",\"France\",\"United States\",\"India\",\"India\",\"New Zealand\",\"India\",\"Germany\",\"Turkey\",\"Mexico\",\"United Kingdom\",\"United States\",\"United States\",\"Saudi Arabia\",\"Spain\",\"United States\",\"Greece\",\"United States\",\"South Korea\",\"Spain\",\"United States\",\"United States\",\"Canada\",\"Norway\",\"Mexico\",\"United States\",\"United States\",\"United States\",\"France\",\"United States\",\"Canada\",\"Spain\",\"United States\",\"United States\",\"United States\",\"United States\",\"Cambodia\",\"United States\",\"United States\",\"United States\",\"United States\",\"United States\",\"Chile\",\"United States\",\"United States\",\"India\",\"Japan\",\"Japan\",\"United States\",\"India\",\"India\",\"India\",\"United States\",\"India\",\"India\",\"Germany\",\"United States\",\"France\",\"India\",\"Argentina\",\"China\",\"United Kingdom\",\"Argentina\",\"Argentina\",\"United States\",\"United States\",\"Australia\",\"United States\",\"United States\",\"United States\",\"United Kingdom\",\"United States\",\"United States\",\"United States\",\"United States\",\"Mexico\",\"United States\",\"United States\",\"United States\",\"India\",\"India\",\"United States\",\"France\",\"Mexico\",\"United States\",\"United Kingdom\",\"Spain\",\"Ireland\",\"United States\",\"United States\",\"Australia\",\"Chile\",\"France\",\"United States\",\"United States\",\"Sweden\",\"India\",\"Spain\",\"Spain\",\"United States\",\"United States\",\"United States\",\"United States\",\"United States\",\"United States\",\"France\",\"Australia\",\"India\",\"Netherlands\",\"India\",\"India\",\"India\",\"Spain\",\"India\",\"Spain\",\"South Korea\",\"United States\",\"United States\",\"Netherlands\",\"United States\",\"India\",\"United States\",\"United States\",\"United States\",\"United States\",\"India\",\"Brazil\",\"United Kingdom\",\"United States\",\"Canada\",\"India\",\"Indonesia\",\"Spain\",\"South Korea\",\"India\",\"United Kingdom\",\"United States\",\"United Kingdom\",\"United Kingdom\",\"India\",\"United States\",\"Brazil\",\"France\",\"Canada\",\"India\",\"India\",\"India\",\"Spain\",\"United Kingdom\",\"United Kingdom\",\"United States\",\"India\",\"United States\",\"India\",\"United States\",\"France\",\"Japan\",\"Brazil\",\"United States\",\"India\",\"India\",\"United States\",\"United States\",\"India\",\"Czech Republic\",\"Germany\",\"United States\",\"United Kingdom\",\"France\",\"United States\",\"United States\",\"Mexico\",\"United States\",\"United States\",\"Singapore\",\"India\",\"India\",\"France\",\"France\",\"United Kingdom\",\"Canada\",\"India\",\"Canada\",\"Spain\",\"United States\",\"United States\",\"Canada\",\"India\",\"South Africa\",\"Sweden\",\"United States\",\"United States\",\"United States\",\"United States\",\"Germany\",\"Germany\",\"Germany\",\"Italy\",\"Nigeria\",\"France\",\"Spain\",\"United States\",\"Mexico\",\"United States\",\"United States\",\"Spain\",\"United States\",\"United States\",\"Brazil\",\"United States\",\"India\",\"United States\",\"India\",\"United States\",\"India\",\"Spain\",\"Argentina\",\"Spain\",\"United Kingdom\",\"United States\",\"United States\",\"Brazil\",\"United States\",\"United States\",\"United States\",\"United States\",\"South Korea\",\"United Kingdom\",\"India\",\"Canada\",\"United Kingdom\",\"India\",\"United States\",\"Portugal\",\"United States\",\"Turkey\",\"United States\",\"India\",\"United States\",\"India\",\"Brazil\",\"Brazil\",\"United States\",\"United States\",\"Spain\",\"United States\",\"Spain\",\"India\",\"Germany\",\"Canada\",\"Spain\",\"Chile\",\"United States\",\"United Kingdom\",\"United Kingdom\",\"Italy\",\"West Germany\",\"United States\",\"Mexico\",\"United States\",\"India\",\"India\",\"India\",\"Spain\",\"Spain\",\"Canada\",\"United States\",\"Mexico\",\"France\",\"United Kingdom\",\"Brazil\",\"United States\",\"France\",\"India\",\"United States\",\"United States\",\"Germany\",\"Austria\",\"Germany\",\"Germany\",\"France\",\"United States\",\"Lebanon\",\"United States\",\"United Kingdom\",\"United States\",\"United States\",\"Canada\",\"United States\",\"United States\",\"India\",\"United States\",\"France\",\"India\",\"Mexico\",\"Mexico\",\"United States\",\"France\",\"United States\",\"United States\",\"United States\",\"Germany\",\"United Kingdom\",\"Israel\",\"Mexico\",\"United States\",\"United States\",\"United States\",\"United States\",\"United States\",\"United States\",\"United States\",\"France\",\"Canada\",\"United States\",\"United States\",\"India\",\"United States\",\"Peru\",\"India\",\"United States\",\"United States\",\"India\",\"Mexico\",\"United States\",\"United States\",\"India\",\"Mexico\",\"United States\",\"United States\",\"France\",\"Germany\",\"India\",\"United States\",\"United States\",\"United States\",\"Austria\",\"United Kingdom\",\"United States\",\"Spain\",\"Canada\",\"Canada\",\"United Kingdom\",\"France\",\"France\",\"France\",\"Spain\",\"United States\",\"France\",\"Japan\",\"Japan\",\"Japan\",\"France\",\"United States\",\"United States\",\"United States\",\"United States\",\"United States\",\"Ireland\",\"United States\",\"New Zealand\",\"Brazil\",\"India\",\"Chile\",\"Spain\",\"United States\",\"Netherlands\",\"India\",\"United States\",\"Italy\",\"Denmark\",\"United States\",\"United States\",\"Canada\",\"United States\",\"United States\",\"United Kingdom\",\"United States\",\"United States\",\"United Kingdom\",\"United Kingdom\",\"United States\",\"United States\",\"United States\",\"United States\",\"United Kingdom\",\"United States\",\"United States\",\"United States\",\"United States\",\"United States\",\"United States\",\"United Kingdom\",\"United States\",\"United Kingdom\",\"United States\",\"United States\",\"United States\",\"Canada\",\"India\",\"United States\",\"India\",\"Mexico\",\"United States\",\"China\",\"United States\",\"United States\",\"United States\",\"Canada\",\"United States\",\"United States\",\"Belgium\",\"United States\",\"United States\",\"United States\",\"Canada\",\"United Kingdom\",\"United Kingdom\",\"United States\",\"China\",\"United States\",\"United States\",\"Mexico\",\"Hong Kong\",\"Hong Kong\",\"United States\",\"United States\",\"United States\",\"United States\",\"Canada\",\"United States\",\"United States\",\"United States\",\"United States\",\"United States\",\"United States\",\"United States\",\"United States\",\"United States\",\"United Kingdom\",\"United States\",\"United States\",\"United States\",\"United States\",\"United States\",\"United States\",\"United States\",\"United States\",\"United States\",\"United States\",\"United States\",\"Mexico\",\"United States\",\"United States\",\"United States\",\"United States\",\"United States\",\"United States\",\"United States\",\"United States\",\"United States\",\"United States\",\"United States\",\"United Kingdom\",\"United States\",\"United States\",\"United States\",\"United States\",\"United States\",\"United States\",\"United States\",\"United States\",\"United Kingdom\",\"United States\",\"United States\",\"United States\",\"United States\",\"United States\",\"United States\",\"United States\",\"United States\",\"United States\",\"United States\",\"United States\",\"United States\",\"United States\",\"United States\",\"United States\",\"United States\",\"Spain\",\"United States\",\"Denmark\",\"United States\",\"United States\",\"United States\",\"United States\",\"India\",\"India\",\"Nigeria\",\"Norway\",\"India\",\"United Kingdom\",\"India\",\"India\",\"India\",\"United States\",\"Canada\",\"Canada\",\"Iceland\",\"Turkey\",\"United States\",\"United States\",\"United States\",\"United States\",\"Spain\",\"United States\",\"United States\",\"United States\",\"United States\",\"Hong Kong\",\"United States\",\"United States\",\"United States\",\"United States\",\"United States\",\"United States\",\"South Korea\",\"United Kingdom\",\"United States\",\"United States\",\"United States\",\"South Africa\",\"Argentina\",\"United Kingdom\",\"United States\",\"United States\",\"Indonesia\",\"Canada\",\"Egypt\",\"United States\",\"Denmark\",\"United States\",\"United States\",\"United States\",\"United States\",\"United States\",\"Indonesia\",\"New Zealand\",\"India\",\"United States\",\"Pakistan\",\"United States\",\"India\",\"United States\",\"United States\",\"United Kingdom\",\"United States\",\"Netherlands\",\"Canada\",\"India\",\"United States\",\"United States\",\"United States\",\"United States\",\"United States\",\"United States\",\"United States\",\"United Arab Emirates\",\"United States\",\"Brazil\",\"United States\",\"Netherlands\",\"United Kingdom\",\"United States\",\"United States\",\"Canada\",\"India\",\"Iran\",\"United States\",\"United States\",\"Israel\",\"United States\",\"United States\",\"United States\",\"India\",\"United States\",\"United States\",\"Canada\",\"United States\",\"Turkey\",\"India\",\"India\",\"India\",\"India\",\"India\",\"India\",\"Egypt\",\"India\",\"United States\",\"United Kingdom\",\"Argentina\",\"Mexico\",\"Canada\",\"United States\",\"United States\",\"Turkey\",\"Canada\",\"France\",\"Australia\",\"India\",\"Canada\",\"United States\",\"United States\",\"United States\",\"United States\",\"United Kingdom\",\"India\",\"United States\",\"India\",\"India\",\"Egypt\",\"United States\",\"Spain\",\"United States\",\"United States\",\"United States\",\"Sweden\",\"United States\",\"Ireland\",\"Spain\",\"United States\",\"United States\",\"United States\",\"United Kingdom\",\"United Kingdom\",\"United States\",\"United States\",\"United States\",\"United States\",\"United States\",\"United Kingdom\",\"India\",\"Egypt\",\"United States\",\"United States\",\"United States\",\"United States\",\"United States\",\"United States\",\"Canada\",\"Canada\",\"United States\",\"United Kingdom\",\"United States\",\"United States\",\"United States\",\"United Kingdom\",\"India\",\"United States\",\"United States\",\"United States\",\"United States\",\"Egypt\",\"United States\",\"Egypt\",\"India\",\"Spain\",\"United States\",\"United States\",\"United States\",\"India\",\"India\",\"United States\",\"Brazil\",\"United States\",\"Egypt\",\"United States\",\"India\",\"United States\",\"United States\",\"United States\",\"France\",\"United States\",\"Egypt\",\"Indonesia\",\"United States\",\"United Kingdom\",\"United States\",\"United States\",\"United States\",\"South Korea\",\"United States\",\"Canada\",\"United States\",\"United Kingdom\",\"Chile\",\"United Kingdom\",\"Bulgaria\",\"United States\",\"Sweden\",\"India\",\"India\",\"Turkey\",\"France\",\"India\",\"Brazil\",\"Canada\",\"United States\",\"Australia\",\"United States\",\"United States\",\"Singapore\",\"United States\",\"India\",\"United States\",\"United States\",\"United States\",\"United States\",\"Pakistan\",\"Turkey\",\"United States\",\"United States\",\"Thailand\",\"Thailand\",\"Thailand\",\"Spain\",\"India\",\"Australia\",\"United States\",\"United States\",\"United States\",\"United States\",\"United States\",\"United States\",\"United States\",\"United States\",\"United States\",\"United States\",\"United States\",\"Chile\",\"India\",\"United States\",\"United States\",\"United States\",\"India\",\"India\",\"United States\",\"United States\",\"Germany\",\"United Kingdom\",\"United States\",\"United States\",\"United States\",\"Indonesia\",\"Egypt\",\"United Kingdom\",\"United States\",\"United States\",\"Japan\",\"United States\",\"India\",\"United Kingdom\",\"Canada\",\"United States\",\"United States\",\"United States\",\"Turkey\",\"Germany\",\"United States\",\"India\",\"Egypt\",\"United States\",\"India\",\"India\",\"India\",\"India\",\"India\",\"United States\",\"United States\",\"United States\",\"United States\",\"Denmark\",\"United States\",\"United Kingdom\",\"United States\",\"United Kingdom\",\"United States\",\"India\",\"India\",\"Canada\",\"United States\",\"Vietnam\",\"India\",\"United States\",\"United States\",\"Spain\",\"United States\",\"United States\",\"United States\",\"Argentina\",\"United States\",\"United States\",\"United States\",\"United States\",\"Australia\",\"France\",\"France\",\"United States\",\"France\",\"United States\",\"United States\",\"United States\",\"Germany\",\"United States\",\"Canada\",\"United States\",\"Canada\",\"Denmark\",\"India\",\"United Kingdom\",\"Ireland\",\"United States\",\"United States\",\"United States\",\"Netherlands\",\"United States\",\"India\",\"United States\",\"United Kingdom\",\"Canada\",\"Brazil\",\"United States\",\"United States\",\"United States\",\"United States\",\"India\",\"Australia\",\"United States\",\"United States\",\"United States\",\"China\",\"Canada\",\"Canada\",\"Canada\",\"Indonesia\",\"Netherlands\",\"United States\",\"United States\",\"United States\",\"South Korea\",\"United States\",\"United States\",\"Belgium\",\"United States\",\"Indonesia\",\"Argentina\",\"United Kingdom\",\"India\",\"United States\",\"United States\",\"United States\",\"United States\",\"United States\",\"France\",\"India\",\"Ireland\",\"Philippines\",\"United Kingdom\",\"United States\",\"United States\",\"United States\",\"United Kingdom\",\"Hong Kong\",\"Hong Kong\",\"United States\",\"China\",\"United States\",\"Canada\",\"Norway\",\"India\",\"United States\",\"India\",\"India\",\"India\",\"Pakistan\",\"Germany\",\"United States\",\"Indonesia\",\"United States\",\"United Kingdom\",\"United States\",\"United States\",\"India\",\"United States\",\"Hong Kong\",\"United States\",\"India\",\"United States\",\"India\",\"India\",\"United States\",\"Nigeria\",\"United States\",\"China\",\"United States\",\"United Kingdom\",\"United States\",\"United States\",\"United States\",\"Canada\",\"United States\",\"United States\",\"United States\",\"Argentina\",\"Pakistan\",\"India\",\"United States\",\"Brazil\",\"United Kingdom\",\"United States\",\"United States\",\"United States\",\"United States\",\"United States\",\"United States\",\"United States\",\"United Kingdom\",\"Germany\",\"France\",\"United States\",\"United States\",\"United States\",\"India\",\"India\",\"Germany\",\"India\",\"Canada\",\"United States\",\"India\",\"United Kingdom\",\"Czech Republic\",\"United States\",\"Vietnam\",\"Ireland\",\"Turkey\",\"India\",\"United States\",\"Canada\",\"United States\",\"Canada\",\"United States\",\"United States\",\"India\",\"Taiwan\",\"United States\",\"United States\",\"India\",\"Turkey\",\"United States\",\"United States\",\"United States\",\"Argentina\",\"India\",\"United States\",\"United States\",\"Germany\",\"Germany\",\"United States\",\"United States\",\"Ireland\",\"India\",\"United Kingdom\",\"United States\",\"India\",\"India\",\"United Kingdom\",\"United States\",\"Netherlands\",\"United States\",\"United Kingdom\",\"India\",\"United States\",\"United States\",\"India\",\"United States\",\"Canada\",\"United States\",\"United States\",\"United Kingdom\",\"India\",\"United States\",\"United States\",\"Denmark\",\"United States\",\"United States\",\"United States\",\"Egypt\",\"United Kingdom\",\"United States\",\"Finland\",\"Canada\",\"India\",\"India\",\"China\",\"United Kingdom\",\"United Kingdom\",\"France\",\"United Kingdom\",\"India\",\"United States\",\"Hong Kong\",\"United States\",\"United States\",\"South Africa\",\"United States\",\"United States\",\"United States\",\"United States\",\"Denmark\",\"United States\",\"United States\",\"United States\",\"France\",\"France\",\"France\",\"United Kingdom\",\"United Kingdom\",\"United States\",\"United States\",\"United Kingdom\",\"Hong Kong\",\"United States\",\"United States\",\"United States\",\"France\",\"United States\",\"United States\",\"United States\",\"United States\",\"United States\",\"Germany\",\"Germany\",\"United States\",\"Pakistan\",\"India\",\"United States\",\"United Kingdom\",\"United States\",\"United States\",\"United States\",\"United States\",\"United States\",\"India\",\"India\",\"India\",\"India\",\"United States\",\"Venezuela\",\"Spain\",\"Netherlands\",\"United Kingdom\",\"United States\",\"France\",\"United Kingdom\",\"United States\",\"Indonesia\",\"Australia\",\"Canada\",\"United States\",\"India\",\"United States\",\"Canada\",\"United States\",\"Canada\",\"Hong Kong\",\"United States\",\"United States\",\"Poland\",\"Argentina\",\"Mexico\",\"India\",\"Italy\",\"United States\",\"United Kingdom\",\"United States\",\"Spain\",\"United States\",\"United Kingdom\",\"United States\",\"Norway\",\"United States\",\"United States\",\"United States\",\"Turkey\",\"Turkey\",\"Turkey\",\"United States\",\"United States\",\"India\",\"United States\",\"United States\",\"Germany\",\"India\",\"United States\",\"India\",\"Egypt\",\"United States\",\"United States\",\"United States\",\"Nigeria\",\"United Kingdom\",\"United States\",\"United States\",\"Indonesia\",\"United States\",\"United States\",\"United States\",\"Italy\",\"India\",\"United States\",\"United Kingdom\",\"United Kingdom\",\"United States\",\"United Arab Emirates\",\"Hong Kong\",\"Canada\",\"Egypt\",\"United States\",\"Hong Kong\",\"United Arab Emirates\",\"Spain\",\"United States\",\"United States\",\"Mexico\",\"United Kingdom\",\"United States\",\"United States\",\"United Kingdom\",\"United States\",\"Brazil\",\"United Kingdom\",\"United States\",\"Germany\",\"United Kingdom\",\"United States\",\"United States\",\"United States\",\"United States\",\"United States\",\"United States\",\"Egypt\",\"United States\",\"United States\",\"United States\",\"Germany\",\"Egypt\",\"France\",\"United States\",\"United Kingdom\",\"United Kingdom\",\"United States\",\"Canada\",\"United States\",\"Vietnam\",\"United States\",\"United States\",\"Brazil\",\"Russia\",\"Indonesia\",\"United States\",\"Indonesia\",\"Indonesia\",\"Japan\",\"India\",\"India\",\"United States\",\"United States\",\"United States\",\"United Kingdom\",\"United States\",\"United States\",\"India\",\"Thailand\",\"Japan\",\"United States\",\"Japan\",\"Japan\",\"India\",\"Indonesia\",\"United States\",\"United Kingdom\",\"Philippines\",\"United States\",\"United States\",\"United States\",\"China\",\"United States\",\"United States\",\"United Kingdom\",\"India\",\"Japan\",\"United Kingdom\",\"United States\",\"Australia\",\"India\",\"United States\",\"United States\",\"United States\",\"United States\",\"Egypt\",\"United States\",\"United States\",\"United States\",\"United States\",\"United States\",\"United States\",\"United States\",\"United States\",\"India\",\"Germany\",\"India\",\"United States\",\"United States\",\"United States\",\"Nigeria\",\"United States\",\"United States\",\"Canada\",\"United Kingdom\",\"Chile\",\"Turkey\",\"Turkey\",\"India\",\"Turkey\",\"United States\",\"United States\",\"United States\",\"India\",\"United States\",\"Egypt\",\"United States\",\"United States\",\"United Kingdom\",\"United States\",\"Mexico\",\"United Kingdom\",\"Russia\",\"United States\",\"United States\",\"United States\",\"United States\",\"United States\",\"United States\",\"India\",\"United States\",\"United States\",\"Australia\",\"United States\",\"Ireland\",\"United States\",\"United States\",\"United States\",\"Australia\",\"United States\",\"United States\",\"United States\",\"United States\",\"United States\",\"United States\",\"United States\",\"United States\",\"United States\",\"India\",\"United States\",\"Hong Kong\",\"United States\",\"India\",\"China\",\"Australia\",\"United Kingdom\",\"India\",\"India\",\"United States\",\"United Kingdom\",\"France\",\"Pakistan\",\"Turkey\",\"Australia\",\"United States\",\"United States\",\"Thailand\",\"Thailand\",\"India\",\"United States\",\"United States\",\"United States\",\"India\",\"United States\",\"United States\",\"United States\",\"India\",\"Ireland\",\"United States\",\"United States\",\"United Kingdom\",\"United States\",\"Poland\",\"United States\",\"United States\",\"United States\",\"Slovenia\",\"United States\",\"United States\",\"Mexico\",\"United States\",\"Canada\",\"United States\",\"United States\",\"India\",\"United States\",\"India\",\"India\",\"United Kingdom\",\"Canada\",\"United States\",\"United States\",\"United States\",\"United States\",\"Argentina\",\"India\",\"United Kingdom\",\"United States\",\"United States\",\"China\",\"China\",\"United Kingdom\",\"United States\",\"United States\",\"Thailand\",\"United Kingdom\",\"United States\",\"United States\",\"Canada\",\"China\",\"India\",\"United States\",\"United States\",\"United States\",\"France\",\"United States\",\"United Kingdom\",\"Turkey\",\"Serbia\",\"India\",\"United Kingdom\",\"United States\",\"United States\",\"India\",\"United States\",\"United States\",\"United States\",\"United States\",\"United States\",\"United States\",\"United Kingdom\",\"Germany\",\"Germany\",\"India\",\"Mexico\",\"United States\",\"Canada\",\"Japan\",\"Japan\",\"Japan\",\"United States\",\"Canada\",\"South Africa\",\"India\",\"India\",\"United States\",\"United States\",\"India\",\"India\",\"United States\",\"Spain\",\"Egypt\",\"United States\",\"India\",\"France\",\"Canada\",\"United States\",\"Vietnam\",\"India\",\"India\",\"India\",\"Pakistan\",\"United States\",\"Poland\",\"United States\",\"United States\",\"Ireland\",\"United States\",\"United States\",\"United States\",\"United Kingdom\",\"India\",\"United States\",\"India\",\"United States\",\"India\",\"India\",\"United States\",\"United States\",\"United States\",\"United States\",\"United States\",\"Germany\",\"Hong Kong\",\"United States\",\"United Kingdom\",\"India\",\"India\",\"India\",\"India\",\"India\",\"India\",\"United States\",\"India\",\"United Kingdom\",\"India\",\"India\",\"India\",\"United States\",\"India\",\"United States\",\"India\",\"India\",\"United States\",\"United States\",\"United States\",\"United States\",\"India\",\"India\",\"India\",\"India\",\"India\",\"United States\",\"United States\",\"United States\",\"Philippines\",\"Netherlands\",\"United States\",\"United States\",\"United Kingdom\",\"France\",\"United States\",\"United States\",\"United States\",\"United States\",\"Hungary\",\"United Kingdom\",\"United States\",\"United States\",\"United States\",\"France\",\"India\",\"United States\",\"Malaysia\",\"United States\",\"United States\",\"United States\",\"United Kingdom\",\"United Kingdom\",\"India\",\"Norway\",\"India\",\"United States\",\"United States\",\"United States\",\"India\",\"Hong Kong\",\"Mexico\",\"United States\",\"China\",\"United Kingdom\",\"Turkey\",\"India\",\"United States\",\"India\",\"Argentina\",\"United States\",\"United States\",\"Italy\",\"India\",\"Thailand\",\"Hong Kong\",\"United States\",\"United States\",\"India\",\"United States\",\"United States\",\"United Kingdom\",\"United States\",\"France\",\"France\",\"United States\",\"United States\",\"United States\",\"United States\",\"India\",\"United States\",\"United States\",\"China\",\"Hong Kong\",\"United States\",\"Denmark\",\"United States\",\"France\",\"United States\",\"United States\",\"United States\",\"United States\",\"Canada\",\"Hong Kong\",\"United States\",\"Mexico\",\"United States\",\"United States\",\"Egypt\",\"Hong Kong\",\"Australia\",\"Australia\",\"United States\",\"United States\",\"United States\",\"United States\",\"United States\",\"United Kingdom\",\"United Kingdom\",\"France\",\"Mexico\",\"United States\",\"United Kingdom\",\"Canada\",\"Hong Kong\",\"Germany\",\"India\",\"United States\",\"United States\",\"Hong Kong\",\"India\",\"Hong Kong\",\"United States\",\"Egypt\",\"Indonesia\",\"Germany\",\"United States\",\"United States\",\"Hong Kong\",\"Argentina\",\"India\",\"India\",\"Argentina\",\"India\",\"India\",\"United States\",\"India\",\"Australia\",\"United States\",\"United States\",\"Hong Kong\",\"India\",\"United States\",\"Chile\",\"France\",\"France\",\"Norway\",\"India\",\"Hong Kong\",\"India\",\"India\",\"India\",\"United States\",\"United States\",\"United Kingdom\",\"India\",\"India\",\"United States\",\"United States\",\"United States\",\"United Kingdom\",\"United Kingdom\",\"India\",\"India\",\"United Kingdom\",\"Canada\",\"India\",\"Hong Kong\",\"United States\",\"United States\",\"India\",\"United States\",\"Japan\",\"United States\",\"India\",\"South Korea\",\"Argentina\",\"India\",\"United States\",\"Hong Kong\",\"Egypt\",\"United States\",\"United States\",\"India\",\"Mexico\",\"Canada\",\"United States\",\"Canada\",\"Poland\",\"United Kingdom\",\"India\",\"United States\",\"South Korea\",\"Germany\",\"United States\",\"United States\",\"Canada\",\"Indonesia\",\"Nigeria\",\"India\",\"United Kingdom\",\"United States\",\"United States\",\"United States\",\"India\",\"Canada\",\"United States\",\"India\",\"Japan\",\"Norway\",\"United States\",\"United States\",\"United States\",\"United States\",\"United States\",\"United Kingdom\",\"Malaysia\",\"United States\",\"India\",\"United States\",\"United States\",\"Nigeria\",\"China\",\"United States\",\"United States\",\"United States\",\"Canada\",\"Egypt\",\"Germany\",\"United States\",\"United States\",\"United States\",\"United States\",\"United States\",\"United States\",\"United States\",\"United States\",\"United States\",\"United States\",\"United States\",\"United States\",\"United States\",\"United States\",\"United Kingdom\",\"United States\",\"France\",\"Pakistan\",\"Germany\",\"United States\",\"India\",\"India\",\"Australia\",\"United States\",\"United States\",\"United States\",\"Israel\",\"Hong Kong\",\"United States\",\"Egypt\",\"United States\",\"India\",\"France\",\"United States\",\"United States\",\"United States\",\"Canada\",\"India\",\"United States\",\"Egypt\",\"United States\",\"Canada\",\"Italy\",\"Switzerland\",\"United States\",\"United States\",\"Hong Kong\",\"United Kingdom\",\"United States\",\"Thailand\",\"United Kingdom\",\"India\",\"United States\",\"Italy\",\"Ireland\",\"United States\",\"India\",\"United States\",\"Japan\",\"United States\",\"United States\",\"United States\",\"United States\",\"India\",\"United States\",\"United States\",\"United States\",\"United States\",\"Chile\",\"United States\",\"United States\",\"United States\",\"United States\",\"India\",\"United States\",\"United States\",\"United States\",\"United States\",\"India\",\"Chile\",\"United States\",\"United States\",\"India\",\"United States\",\"United States\",\"United States\",\"United States\",\"United States\",\"United States\",\"United States\",\"United States\",\"United States\",\"United States\",\"United States\",\"United States\",\"United States\",\"United States\",\"United States\",\"United States\",\"United States\",\"United States\",\"United States\",\"United States\",\"United States\",\"United States\",\"United States\",\"United States\",\"United States\",\"United Kingdom\",\"Israel\",\"Italy\",\"Denmark\",\"Denmark\",\"United Kingdom\",\"United States\",\"France\",\"Australia\",\"United States\",\"United States\",\"United States\",\"Spain\",\"United States\",\"Thailand\",\"Thailand\",\"United States\",\"Egypt\",\"Hong Kong\",\"Brazil\",\"India\",\"United States\",\"United States\",\"United States\",\"United States\",\"United Kingdom\",\"Italy\",\"Thailand\",\"United States\",\"India\",\"United States\",\"United States\",\"India\",\"Denmark\",\"Australia\",\"United States\",\"South Korea\",\"China\",\"China\",\"United States\",\"Hong Kong\",\"India\",\"Australia\",\"India\",\"United Kingdom\",\"Canada\",\"China\",\"United Kingdom\",\"United Kingdom\",\"India\",\"United States\",\"India\",\"Venezuela\",\"Thailand\",\"United States\",\"United States\",\"Hong Kong\",\"United Kingdom\",\"Spain\",\"United States\",\"India\",\"Canada\",\"United States\",\"India\",\"India\",\"United States\",\"United States\",\"India\",\"United States\",\"United States\",\"Turkey\",\"United States\",\"India\",\"India\",\"Thailand\",\"United States\",\"Malaysia\",\"United Kingdom\",\"United States\",\"Canada\",\"United States\",\"France\",\"United States\",\"United States\",\"France\",\"United States\",\"India\",\"Thailand\",\"Nigeria\",\"India\",\"United States\",\"United States\",\"India\",\"India\",\"Argentina\",\"France\",\"United States\",\"France\",\"United States\",\"United States\",\"Canada\",\"Switzerland\",\"United States\",\"Portugal\",\"United Kingdom\",\"United States\",\"United States\",\"United States\",\"United States\",\"United States\",\"United States\",\"United States\",\"United States\",\"India\",\"United States\",\"India\",\"United States\",\"United States\",\"Hong Kong\",\"United States\",\"United States\",\"Canada\",\"India\",\"United States\",\"Canada\",\"United Kingdom\",\"India\",\"United States\",\"United Kingdom\",\"United States\",\"United States\",\"United States\",\"United States\",\"Brazil\",\"India\",\"United States\",\"India\",\"United States\",\"China\",\"India\",\"India\",\"United States\",\"India\",\"Singapore\",\"India\",\"South Korea\",\"India\",\"Pakistan\",\"United States\",\"Egypt\",\"India\",\"United States\",\"Canada\",\"Australia\",\"United States\",\"India\",\"United Kingdom\",\"Egypt\",\"United States\",\"Malaysia\",\"Canada\",\"United States\",\"United Kingdom\",\"Germany\",\"United States\",\"United States\",\"Hong Kong\",\"India\",\"Hong Kong\",\"United States\",\"Mexico\",\"United States\",\"India\",\"India\",\"India\",\"India\",\"Nigeria\",\"Italy\",\"United Kingdom\",\"United States\",\"United States\",\"United States\",\"United States\",\"United States\",\"United States\",\"Egypt\",\"United States\",\"United States\",\"India\",\"Ireland\",\"Canada\",\"United Kingdom\",\"United States\",\"United States\",\"India\",\"Mexico\",\"Hong Kong\",\"United States\",\"India\",\"United States\",\"United States\",\"United States\",\"United States\",\"United States\",\"India\",\"Italy\",\"United States\",\"India\",\"Italy\",\"Turkey\",\"Canada\",\"India\",\"India\",\"United States\",\"India\",\"India\",\"India\",\"Egypt\",\"India\",\"India\",\"Egypt\",\"South Africa\",\"United States\",\"India\",\"India\",\"United States\",\"Australia\",\"France\",\"Canada\",\"Australia\",\"India\",\"India\",\"India\",\"United States\",\"India\",\"India\",\"United States\",\"United States\",\"Egypt\",\"United States\",\"United States\",\"United States\",\"United States\",\"Italy\",\"United States\",\"United States\",\"United States\",\"United States\",\"United States\",\"United States\",\"United States\",\"United States\",\"United States\",\"United States\",\"Sweden\",\"United States\",\"Hong Kong\",\"United States\",\"United States\",\"United States\",\"United States\",\"United Kingdom\",\"United States\",\"United Kingdom\",\"United States\",\"United Kingdom\",\"United Kingdom\",\"United States\",\"Turkey\",\"United Kingdom\",\"Guatemala\",\"United States\",\"United States\",\"United States\",\"United Kingdom\",\"Mexico\",\"United States\",\"India\",\"India\",\"India\",\"India\",\"Hong Kong\",\"United States\",\"India\",\"United States\",\"United States\",\"United States\",\"India\",\"United States\",\"Australia\",\"Australia\",\"India\",\"United States\",\"United States\",\"United Kingdom\",\"India\",\"Thailand\",\"Italy\",\"India\",\"United States\",\"Canada\",\"United States\",\"India\",\"Indonesia\",\"Switzerland\",\"Peru\",\"United States\",\"United States\",\"Thailand\",\"China\",\"China\",\"United States\",\"United States\",\"United States\",\"United States\",\"United States\",\"United States\",\"United Kingdom\",\"United States\",\"United States\",\"United States\",\"United States\",\"United States\",\"India\",\"United States\",\"Indonesia\",\"Mexico\",\"United States\",\"United States\",\"Czech Republic\",\"United States\",\"United States\",\"Australia\",\"United States\",\"United States\",\"United States\",\"United Kingdom\",\"United States\",\"United States\",\"United Kingdom\",\"United States\",\"United States\",\"United Kingdom\",\"United States\",\"United States\",\"Jamaica\",\"United States\",\"United States\",\"United States\",\"Spain\",\"United States\",\"United States\",\"Canada\",\"Canada\",\"United States\",\"United Kingdom\",\"United States\",\"United States\",\"Egypt\",\"United States\",\"India\",\"Thailand\",\"United States\",\"United States\",\"Australia\",\"India\",\"United States\",\"Canada\",\"United States\",\"Australia\",\"Netherlands\",\"United States\",\"United States\",\"Brazil\",\"United States\",\"United States\",\"Italy\",\"Thailand\",\"India\",\"Israel\",\"United Kingdom\",\"United States\",\"Denmark\",\"India\",\"India\",\"United States\",\"India\",\"United States\",\"United States\",\"United States\",\"United States\",\"Indonesia\",\"United States\",\"United States\",\"United States\",\"India\",\"United States\",\"United States\",\"United States\",\"China\",\"Hong Kong\",\"India\",\"India\",\"United States\",\"India\",\"France\",\"United States\",\"United States\",\"Egypt\",\"United States\",\"United States\",\"India\",\"United States\",\"Hong Kong\",\"United States\",\"India\",\"United States\",\"Argentina\",\"Hong Kong\",\"United States\",\"United States\",\"France\",\"United States\",\"India\",\"United Kingdom\",\"United States\",\"Mexico\",\"Canada\",\"United States\",\"Canada\",\"United States\",\"United States\",\"Argentina\",\"South Korea\",\"United States\",\"United States\",\"Finland\",\"United States\",\"Egypt\",\"Spain\",\"Canada\",\"United States\",\"France\",\"United Kingdom\",\"United States\",\"United Kingdom\",\"United States\",\"Hong Kong\",\"United States\",\"United States\",\"United States\",\"United States\",\"Canada\",\"United States\",\"United States\",\"United States\",\"France\",\"United States\",\"United States\",\"United States\",\"United Kingdom\",\"United States\",\"United States\",\"Ireland\",\"United States\",\"Nigeria\",\"United States\",\"United States\",\"Hong Kong\",\"United States\",\"United States\",\"Israel\",\"Canada\",\"United States\",\"United States\",\"United States\",\"Egypt\",\"Nigeria\",\"United States\",\"Egypt\",\"Spain\",\"Mexico\",\"United Kingdom\",\"United States\",\"United States\",\"United States\",\"United States\",\"Canada\",\"Israel\",\"Egypt\",\"United States\",\"United States\",\"United States\",\"Poland\",\"United Kingdom\",\"United Kingdom\",\"India\",\"Indonesia\",\"United States\",\"India\",\"United Kingdom\",\"Australia\",\"Austria\",\"United States\",\"Argentina\",\"United States\",\"Italy\",\"United States\",\"United States\",\"United States\",\"Indonesia\",\"United States\",\"United States\",\"United States\",\"United States\",\"United Kingdom\",\"United States\",\"United States\",\"United States\",\"United Kingdom\",\"United States\",\"United Kingdom\",\"United States\",\"United States\",\"Nigeria\",\"United States\",\"United States\",\"Brazil\",\"United States\",\"Hong Kong\",\"United States\",\"United States\",\"Hong Kong\",\"United States\",\"United States\",\"United Kingdom\",\"United Kingdom\",\"United States\",\"New Zealand\",\"United States\",\"Indonesia\",\"United States\",\"United States\",\"United States\",\"Israel\",\"United States\",\"United States\",\"United States\",\"United Kingdom\",\"United States\",\"South Korea\",\"India\",\"United States\",\"United States\",\"United States\",\"United States\",\"Spain\",\"Canada\",\"United States\",\"Canada\",\"Spain\",\"United States\",\"United States\",\"Thailand\",\"United States\",\"India\",\"Canada\",\"United States\",\"United Kingdom\",\"United States\",\"United Kingdom\",\"Mexico\",\"Denmark\",\"United States\",\"United States\",\"United States\",\"United Kingdom\",\"United Kingdom\",\"United States\",\"United States\",\"United Kingdom\",\"France\",\"United States\",\"Indonesia\",\"United States\",\"United Kingdom\",\"United States\",\"United States\",\"Belgium\",\"Australia\",\"France\",\"United States\",\"Brazil\",\"United Kingdom\",\"United States\",\"United States\",\"United States\",\"India\",\"Canada\",\"United States\",\"France\",\"Germany\",\"Ireland\",\"Ireland\",\"United States\",\"United States\",\"United States\",\"Denmark\",\"New Zealand\",\"New Zealand\",\"United Kingdom\",\"United Kingdom\",\"Poland\",\"Hong Kong\",\"United States\",\"United States\",\"United States\",\"United States\",\"United States\",\"United States\",\"United States\",\"South Korea\",\"United States\",\"United States\",\"Denmark\",\"United States\",\"New Zealand\",\"United States\",\"Italy\",\"United States\",\"United States\",\"United States\",\"Canada\",\"Germany\",\"United States\",\"United States\",\"Philippines\",\"United States\",\"United Kingdom\",\"United Kingdom\",\"United States\",\"United States\",\"United States\",\"United Kingdom\",\"Germany\",\"United States\",\"United States\",\"Somalia\",\"United Kingdom\",\"United States\",\"India\",\"Egypt\",\"United States\",\"Canada\",\"South Korea\",\"United States\",\"United States\",\"United States\",\"South Korea\",\"United States\",\"United States\",\"United States\",\"Indonesia\",\"United States\",\"India\",\"United States\",\"United States\",\"United States\",\"New Zealand\",\"United Kingdom\",\"Serbia\",\"Egypt\",\"United States\",\"United Kingdom\",\"United States\",\"United States\",\"United Kingdom\",\"United States\",\"Australia\",\"United States\",\"United States\",\"Denmark\",\"Australia\",\"Germany\",\"United States\",\"United States\",\"United States\",\"United States\",\"India\",\"United States\",\"Italy\",\"United States\",\"Mexico\",\"Indonesia\",\"United States\",\"United States\",\"United States\",\"Poland\",\"United States\",\"United Kingdom\",\"United States\",\"United States\",\"United Kingdom\",\"United States\",\"United States\",\"United States\",\"United States\",\"United States\",\"Egypt\",\"United States\",\"United Kingdom\",\"United States\",\"United States\",\"United States\",\"United States\",\"United Kingdom\",\"United States\",\"United Kingdom\",\"United States\",\"United States\",\"Thailand\",\"Belgium\",\"United States\",\"United States\",\"Egypt\",\"Australia\",\"New Zealand\",\"United States\",\"Philippines\",\"Nigeria\",\"United Kingdom\",\"United States\",\"United Kingdom\",\"Israel\",\"France\",\"United Kingdom\",\"United Kingdom\",\"Canada\",\"Ireland\",\"Hong Kong\",\"Canada\",\"India\",\"United States\",\"United States\",\"China\",\"Belgium\",\"India\",\"Thailand\",\"United States\",\"United States\",\"United Kingdom\",\"United Kingdom\",\"Hong Kong\",\"United States\",\"United States\",\"China\",\"India\",\"India\",\"United States\",\"United States\",\"United States\",\"United States\",\"United Kingdom\",\"United Kingdom\",\"India\",\"United States\",\"United States\",\"United States\",\"India\",\"Thailand\",\"South Korea\",\"United Kingdom\",\"United States\",\"United Kingdom\",\"United Kingdom\",\"United States\",\"United Kingdom\",\"Canada\",\"United States\",\"United States\",\"United States\",\"South Africa\",\"United States\",\"United Kingdom\",\"India\",\"India\",\"India\",\"United States\",\"United Kingdom\",\"United States\",\"United States\",\"United States\",\"United States\",\"Canada\",\"India\",\"United States\",\"United States\",\"United States\",\"Japan\",\"United States\",\"India\",\"United Kingdom\",\"Canada\",\"Australia\",\"United States\",\"India\",\"United Kingdom\",\"United States\",\"United States\",\"United States\",\"Switzerland\",\"Canada\",\"United States\",\"United Kingdom\",\"Canada\",\"Egypt\",\"United States\",\"India\",\"Egypt\",\"United States\",\"United States\",\"United States\",\"India\",\"India\",\"United States\",\"United Kingdom\",\"United States\",\"United Kingdom\",\"United States\",\"United States\",\"India\",\"India\",\"Turkey\",\"India\",\"United Kingdom\",\"Pakistan\",\"India\",\"India\",\"United States\",\"United States\",\"United Kingdom\",\"United States\",\"United States\",\"India\",\"United States\",\"United Kingdom\",\"Egypt\",\"Mexico\",\"United States\",\"United States\",\"United Kingdom\",\"United States\",\"Spain\",\"United States\",\"United States\",\"United States\",\"Poland\",\"Hong Kong\",\"India\",\"United States\",\"United States\",\"United States\",\"Poland\",\"China\",\"United States\",\"United Kingdom\",\"United States\",\"Indonesia\",\"United Kingdom\",\"Peru\",\"Germany\",\"United States\",\"United States\",\"United Kingdom\",\"United Kingdom\",\"United States\",\"United States\",\"United Kingdom\",\"Canada\",\"United States\",\"United States\",\"United States\",\"United Kingdom\",\"United States\",\"France\",\"Australia\",\"United States\",\"United States\",\"United States\",\"Canada\",\"United States\",\"United States\",\"United States\",\"United States\",\"Pakistan\",\"India\",\"United States\",\"United States\",\"Canada\",\"United States\",\"United States\",\"Mexico\",\"India\",\"India\",\"India\",\"India\",\"India\",\"Egypt\",\"France\",\"Thailand\",\"Thailand\",\"Thailand\",\"Japan\",\"United States\",\"Russia\",\"United Kingdom\",\"United States\",\"Croatia\",\"Philippines\",\"United States\",\"United States\",\"Hong Kong\",\"United States\",\"Egypt\",\"India\",\"India\",\"United Arab Emirates\",\"United States\",\"United States\",\"United States\",\"India\",\"Ghana\",\"Czech Republic\",\"India\",\"Canada\",\"United States\",\"United States\",\"United States\",\"Australia\",\"United States\",\"Australia\",\"Canada\",\"United States\",\"United States\",\"Mexico\",\"Italy\",\"Italy\",\"United States\",\"Venezuela\",\"United Kingdom\",\"United States\",\"Hong Kong\",\"United States\",\"China\",\"United States\",\"Canada\",\"Germany\",\"United States\",\"Canada\",\"United Kingdom\",\"Nepal\",\"Australia\",\"Brazil\",\"Japan\",\"United Kingdom\",\"United States\",\"United Kingdom\",\"United States\",\"Spain\",\"Nigeria\",\"United Kingdom\",\"United States\",\"Canada\",\"Canada\",\"Mexico\",\"Canada\",\"United Kingdom\",\"Canada\",\"United Kingdom\",\"United States\",\"Germany\",\"China\",\"France\",\"France\",\"France\",\"Israel\",\"Denmark\",\"Canada\",\"Canada\",\"Switzerland\",\"Canada\",\"United States\",\"Canada\",\"Netherlands\",\"Czech Republic\",\"United States\",\"Germany\",\"Germany\",\"Belgium\",\"China\",\"China\",\"Australia\",\"Japan\",\"United Kingdom\",\"United States\",\"Germany\",\"United States\",\"United Kingdom\",\"Germany\",\"United States\",\"Germany\",\"France\",\"United Kingdom\",\"Canada\",\"New Zealand\",\"New Zealand\",\"Canada\",\"Syria\",\"United Kingdom\",\"India\",\"United States\",\"United Arab Emirates\",\"United States\",\"France\",\"United Kingdom\",\"United States\",\"United States\",\"Canada\",\"United States\",\"United States\",\"Bulgaria\",\"France\",\"France\",\"Netherlands\",\"South Africa\",\"Brazil\",\"United States\",\"United States\",\"France\",\"France\",\"United States\",\"Canada\",\"Australia\",\"France\",\"United Kingdom\",\"Russia\",\"United Kingdom\",\"United States\",\"United Kingdom\",\"United States\",\"Nigeria\",\"United States\",\"United Kingdom\",\"United States\",\"Germany\",\"United Kingdom\",\"Taiwan\",\"China\",\"Canada\",\"Canada\",\"United States\",\"United Kingdom\",\"Palestine\",\"Canada\",\"Canada\",\"United States\",\"Japan\",\"Saudi Arabia\",\"France\",\"United Kingdom\",\"Switzerland\",\"United Kingdom\",\"South Africa\",\"United Kingdom\",\"United States\",\"United States\",\"United States\",\"\",\"United States\",\"India\",\"Argentina\",\"United Kingdom\",\"United Kingdom\",\"Germany\",\"France\",\"Chile\",\"Thailand\",\"Brazil\",\"United States\",\"United States\",\"Cambodia\",\"Belgium\",\"United States\",\"United States\",\"United States\",\"Spain\",\"France\",\"United States\",\"Ireland\",\"Spain\",\"Thailand\",\"United States\",\"South Korea\",\"United States\",\"France\",\"Canada\",\"Hungary\",\"Canada\",\"Germany\",\"Canada\",\"Algeria\",\"United Kingdom\",\"Canada\",\"France\",\"United States\",\"Belgium\",\"France\",\"Italy\",\"United States\",\"United States\",\"Malta\",\"China\",\"United States\",\"Russia\",\"Japan\",\"United States\",\"Canada\",\"Canada\",\"Canada\",\"France\",\"United States\",\"China\",\"France\",\"Thailand\",\"Spain\",\"Luxembourg\",\"United States\",\"Belgium\",\"United Kingdom\",\"United Arab Emirates\",\"Belgium\",\"United States\",\"France\",\"Lebanon\",\"Lebanon\",\"Norway\",\"Canada\",\"Czech Republic\",\"United Kingdom\",\"Russia\",\"Netherlands\",\"South Korea\",\"United Kingdom\",\"United States\",\"Mexico\",\"United Kingdom\",\"Bulgaria\",\"Kenya\",\"United States\",\"India\",\"France\",\"United States\",\"United States\",\"France\",\"China\",\"United States\",\"Iceland\",\"United States\",\"Belgium\",\"Angola\",\"Philippines\",\"United States\",\"United Kingdom\",\"Nigeria\",\"United States\",\"France\",\"Canada\",\"United States\",\"Germany\",\"France\",\"Spain\",\"Germany\",\"United States\",\"China\",\"Belgium\",\"Belgium\",\"France\",\"China\",\"United Kingdom\",\"France\",\"Germany\",\"United States\",\"France\",\"Mexico\",\"Nigeria\",\"Egypt\",\"France\",\"Brazil\",\"Algeria\",\"Egypt\",\"South Korea\",\"United States\",\"United Kingdom\",\"United States\",\"Spain\",\"Jordan\",\"United Arab Emirates\",\"United States\",\"Germany\",\"United States\",\"Egypt\",\"United States\",\"Nigeria\",\"Netherlands\",\"United Kingdom\",\"Belgium\",\"United Kingdom\",\"India\",\"Turkey\",\"United States\",\"Belgium\",\"United States\",\"Belgium\",\"Germany\",\"Argentina\",\"United Kingdom\",\"Argentina\",\"Italy\",\"United Kingdom\",\"France\",\"United States\",\"United States\",\"Germany\",\"United States\",\"United States\",\"United States\",\"United States\",\"France\",\"Canada\",\"United States\",\"Canada\",\"United Kingdom\",\"Malta\",\"France\",\"Norway\",\"United States\",\"United States\",\"South Africa\",\"Belgium\",\"Argentina\",\"United Kingdom\",\"France\",\"France\",\"United States\",\"France\",\"South Korea\",\"South Korea\",\"United States\",\"Spain\",\"Spain\",\"Uruguay\",\"United States\",\"Japan\",\"Italy\",\"Mexico\",\"United States\",\"Germany\",\"United Kingdom\",\"United States\",\"Nigeria\",\"United States\",\"Bulgaria\",\"Guatemala\",\"Senegal\",\"Norway\",\"Germany\",\"France\",\"Chile\",\"Japan\",\"United Kingdom\",\"United States\",\"Hong Kong\",\"Canada\",\"South Korea\",\"Canada\",\"Canada\",\"Hungary\",\"Belgium\",\"United States\",\"United Kingdom\",\"Malaysia\",\"China\",\"Belgium\",\"Nigeria\",\"United Kingdom\",\"France\",\"Hong Kong\",\"United States\",\"United States\",\"Canada\",\"China\",\"Mexico\",\"United Kingdom\",\"United States\",\"Brazil\",\"Taiwan\",\"Turkey\",\"United States\",\"Japan\",\"United States\",\"Singapore\",\"Belgium\",\"China\",\"China\",\"China\",\"United States\",\"Italy\",\"Spain\",\"Peru\",\"China\",\"United States\",\"United States\",\"Spain\",\"Luxembourg\",\"Mexico\",\"Spain\",\"Argentina\",\"China\",\"Belgium\",\"France\",\"France\",\"Germany\",\"United Arab Emirates\",\"United States\",\"Finland\",\"United Kingdom\",\"Belgium\",\"Belgium\",\"Taiwan\",\"Iraq\",\"Belgium\",\"France\",\"Malawi\",\"Argentina\",\"France\",\"France\",\"Russia\",\"Canada\",\"Hong Kong\",\"Pakistan\",\"Singapore\",\"Belgium\",\"Spain\",\"Germany\",\"United States\",\"Sweden\",\"Argentina\",\"Belgium\",\"United States\",\"Germany\",\"Japan\",\"United States\",\"United States\",\"Hong Kong\",\"Denmark\",\"China\",\"China\",\"China\",\"Hong Kong\",\"Canada\",\"Switzerland\",\"Netherlands\",\"Canada\",\"Belgium\",\"United States\",\"Iran\",\"India\",\"France\",\"China\",\"Poland\",\"Portugal\",\"United Kingdom\",\"Argentina\",\"Canada\",\"China\",\"United States\",\"United States\",\"France\",\"Israel\",\"Iceland\",\"India\",\"Bulgaria\",\"Canada\",\"United States\",\"Australia\",\"United Kingdom\",\"United States\",\"United States\",\"\",\"Canada\",\"United Kingdom\",\"United States\",\"Belgium\",\"Germany\",\"Mexico\",\"India\",\"France\",\"Spain\",\"Japan\",\"France\",\"Belgium\",\"United States\",\"United States\",\"Luxembourg\",\"United States\",\"Mexico\",\"Canada\",\"Peru\",\"Italy\",\"United States\",\"Japan\",\"Canada\",\"Switzerland\",\"Hong Kong\",\"United States\",\"Spain\",\"United States\",\"Canada\",\"Colombia\",\"United States\",\"Brazil\",\"Spain\",\"Qatar\",\"Belgium\",\"United States\",\"United States\",\"Germany\",\"Canada\",\"Mexico\",\"United States\",\"United States\",\"India\",\"United Arab Emirates\",\"United States\",\"United States\",\"China\",\"Soviet Union\",\"United States\",\"United States\",\"Mexico\",\"Germany\",\"Romania\",\"Canada\",\"United States\",\"Malaysia\",\"Jordan\",\"France\",\"United States\",\"Italy\",\"Germany\",\"Morocco\",\"Argentina\",\"Canada\",\"United States\",\"Denmark\",\"Soviet Union\",\"Spain\",\"Italy\",\"Uruguay\",\"France\",\"Canada\",\"France\",\"Germany\",\"France\",\"United States\",\"United States\",\"United States\",\"United States\",\"United Kingdom\",\"United States\",\"Slovakia\",\"United States\",\"Canada\",\"France\",\"Belgium\",\"Belgium\",\"Switzerland\",\"Australia\",\"United States\",\"United States\",\"Belgium\",\"Argentina\",\"Japan\",\"Spain\",\"Italy\",\"Spain\",\"United States\",\"United States\",\"Czech Republic\",\"Qatar\",\"Jordan\",\"Belgium\",\"South Korea\",\"Germany\",\"Hungary\",\"United States\",\"Qatar\",\"United States\",\"Germany\",\"Belgium\",\"South Africa\",\"United States\",\"Canada\",\"United States\",\"United States\",\"United Kingdom\",\"Hong Kong\",\"United Kingdom\",\"France\",\"United States\",\"China\",\"China\",\"Ukraine\",\"\",\"Bermuda\",\"Egypt\",\"France\",\"Mexico\",\"Iceland\",\"South Africa\",\"China\",\"Germany\",\"China\",\"France\",\"United Kingdom\",\"China\",\"United Kingdom\",\"United States\",\"Denmark\",\"United States\",\"United States\",\"France\",\"United Kingdom\",\"United States\",\"United States\",\"United Kingdom\",\"United States\",\"France\",\"United States\",\"Chile\",\"Bulgaria\",\"United States\",\"United Kingdom\",\"Italy\",\"France\",\"Germany\",\"India\",\"Luxembourg\",\"United States\",\"Canada\",\"Germany\",\"Netherlands\",\"Canada\",\"Canada\",\"United States\",\"Canada\",\"United States\",\"Netherlands\",\"United States\",\"United Kingdom\",\"United States\",\"Canada\",\"Armenia\",\"Canada\",\"Canada\",\"France\",\"Australia\",\"United States\",\"Ireland\",\"United States\",\"India\",\"Iran\",\"Germany\",\"France\",\"United Kingdom\",\"Spain\",\"United States\",\"Belgium\",\"France\",\"United States\",\"Sweden\",\"United Kingdom\",\"Iceland\",\"Russia\",\"United States\",\"Singapore\",\"Denmark\",\"Japan\",\"France\",\"Pakistan\",\"United Kingdom\",\"New Zealand\",\"United States\",\"Mexico\",\"Czech Republic\",\"Germany\",\"Australia\",\"Sri Lanka\",\"Sweden\",\"United States\",\"China\",\"France\",\"India\",\"United States\",\"Canada\",\"United States\",\"France\",\"United Kingdom\",\"United States\",\"United States\",\"Germany\",\"Germany\",\"France\",\"United States\",\"Canada\",\"France\",\"Germany\",\"Hong Kong\",\"India\",\"Australia\",\"Poland\",\"United Kingdom\",\"United States\",\"Zimbabwe\",\"South Africa\",\"Sweden\",\"Hong Kong\",\"Belgium\",\"United States\",\"United States\",\"Italy\",\"France\",\"Australia\",\"Czech Republic\",\"China\",\"Belgium\",\"Norway\",\"Canada\",\"France\",\"Spain\",\"United States\",\"Indonesia\",\"United States\",\"France\",\"Canada\",\"Germany\",\"France\",\"Canada\",\"United States\",\"United States\",\"Israel\",\"United States\",\"Germany\",\"Brazil\",\"France\",\"Nicaragua\",\"United Kingdom\",\"United States\",\"United States\",\"United States\",\"United Kingdom\",\"France\",\"Italy\",\"United States\",\"Australia\",\"United States\",\"United States\",\"Australia\",\"Denmark\",\"Hong Kong\",\"United States\",\"France\",\"United Kingdom\",\"Canada\",\"United Kingdom\",\"United Kingdom\",\"France\",\"United States\",\"United Kingdom\",\"Japan\",\"United States\",\"Canada\",\"Canada\",\"United States\",\"United Arab Emirates\",\"China\",\"China\",\"United States\",\"Ireland\",\"South Africa\",\"Canada\",\"United Kingdom\",\"\",\"Canada\",\"Canada\",\"Croatia\",\"United Kingdom\",\"United States\",\"United Kingdom\",\"Spain\",\"Japan\",\"South Korea\",\"France\",\"Ireland\",\"Hong Kong\",\"France\",\"Germany\",\"United States\",\"United States\",\"United States\",\"Senegal\",\"United States\",\"United Kingdom\",\"Germany\",\"Belgium\",\"United States\",\"Australia\",\"United States\",\"Germany\",\"France\",\"Belgium\",\"Japan\",\"Canada\",\"Belgium\",\"Chile\",\"United Kingdom\",\"Norway\",\"Denmark\",\"China\",\"United States\",\"India\",\"Mexico\",\"South Korea\",\"France\",\"Ireland\",\"Canada\",\"Australia\",\"China\",\"Italy\",\"India\",\"Greece\",\"United States\",\"United States\",\"United States\",\"Australia\",\"United Kingdom\",\"Chile\",\"France\",\"United States\",\"Belgium\",\"China\",\"France\",\"United States\",\"China\",\"United Kingdom\",\"West Germany\",\"United States\",\"Spain\",\"Cambodia\",\"Greece\",\"United States\",\"Canada\",\"United Kingdom\",\"United Kingdom\",\"Poland\",\"Canada\",\"Spain\",\"United Kingdom\",\"Germany\",\"United States\",\"Belgium\",\"United States\",\"United States\",\"Sweden\",\"France\",\"Canada\",\"Canada\",\"United States\",\"Mexico\",\"India\",\"Botswana\",\"Argentina\",\"Australia\",\"United States\",\"India\",\"Canada\",\"Germany\",\"Germany\",\"Switzerland\",\"India\",\"United States\",\"France\",\"Iraq\",\"Hong Kong\",\"Morocco\",\"United Arab Emirates\",\"United States\",\"Thailand\",\"Colombia\",\"United States\",\"Spain\",\"Germany\",\"Australia\",\"Belgium\",\"Belgium\",\"United Kingdom\",\"United States\",\"Vatican City\",\"France\",\"Switzerland\",\"India\",\"United States\",\"Morocco\",\"Japan\",\"Mexico\",\"United States\",\"France\",\"United States\",\"United Kingdom\",\"Uruguay\",\"Canada\",\"Canada\",\"Germany\",\"Germany\",\"France\",\"United States\",\"France\",\"India\",\"United Kingdom\",\"France\",\"United Kingdom\",\"United Kingdom\",\"Taiwan\",\"United Kingdom\",\"United Kingdom\",\"France\",\"France\",\"Germany\",\"United Arab Emirates\",\"United States\",\"United States\",\"France\",\"France\",\"United States\",\"Canada\",\"Hong Kong\",\"Hong Kong\",\"France\",\"New Zealand\",\"United Kingdom\",\"United Kingdom\",\"France\",\"United States\",\"United States\",\"United Kingdom\",\"United Kingdom\",\"United Kingdom\",\"Belgium\",\"France\",\"France\",\"United Kingdom\",\"France\",\"United Kingdom\",\"Canada\",\"Sweden\",\"Hong Kong\",\"Germany\",\"United States\",\"Hong Kong\",\"Kazakhstan\",\"France\",\"Germany\",\"Germany\",\"India\",\"Spain\",\"New Zealand\",\"United States\",\"France\",\"United States\",\"Canada\",\"Canada\",\"United States\",\"United States\",\"Canada\",\"United States\",\"Canada\",\"Czech Republic\",\"China\",\"Germany\",\"Mexico\",\"France\",\"United States\",\"Germany\",\"Japan\",\"United States\",\"United Kingdom\",\"United States\",\"Hong Kong\",\"Chile\",\"United States\",\"Hong Kong\",\"Lithuania\",\"United States\",\"Greece\",\"China\",\"China\",\"Greece\",\"Sweden\",\"United States\",\"United Kingdom\",\"Australia\",\"Canada\",\"India\",\"United States\",\"Canada\",\"France\",\"United States\",\"Ireland\",\"United States\",\"United States\",\"Canada\",\"United Kingdom\",\"Indonesia\",\"United States\",\"United States\",\"Germany\",\"Australia\",\"Germany\",\"United Kingdom\",\"Canada\",\"United States\",\"Czech Republic\",\"Kenya\",\"United States\",\"United States\",\"United Kingdom\",\"Czech Republic\",\"Germany\",\"Canada\",\"Spain\",\"South Korea\",\"United States\",\"United Kingdom\",\"United Kingdom\",\"Canada\",\"France\",\"United Kingdom\",\"United Arab Emirates\",\"France\",\"United States\",\"United Kingdom\",\"Canada\",\"United States\",\"United States\",\"Canada\",\"Australia\",\"China\",\"Venezuela\",\"Canada\",\"United States\",\"China\",\"Brazil\",\"United States\",\"South Africa\",\"Namibia\",\"United States\",\"United Kingdom\",\"United States\",\"France\",\"Canada\",\"United Kingdom\",\"Germany\",\"India\",\"United Kingdom\",\"India\",\"Belgium\",\"Canada\",\"India\",\"Brazil\",\"France\",\"Argentina\",\"France\",\"India\",\"United States\",\"United States\",\"India\",\"East Germany\",\"Netherlands\",\"United States\",\"Austria\",\"Belgium\",\"United States\",\"Spain\",\"Slovenia\",\"France\",\"Jordan\",\"Burkina Faso\",\"France\",\"United States\",\"Japan\",\"France\",\"France\",\"France\",\"Romania\",\"Canada\",\"Hong Kong\",\"United States\",\"France\",\"Greece\",\"Australia\",\"United States\",\"United Kingdom\",\"Algeria\",\"Germany\",\"Germany\",\"United States\",\"United States\",\"Singapore\",\"United States\",\"United States\",\"Spain\",\"France\",\"Canada\",\"Italy\",\"Germany\",\"Canada\",\"Denmark\",\"Colombia\",\"France\",\"Germany\",\"Lebanon\",\"Spain\",\"United States\",\"France\",\"New Zealand\",\"United States\",\"United Kingdom\",\"Mexico\",\"United States\",\"United States\",\"United Kingdom\",\"France\",\"Denmark\",\"Poland\",\"United Kingdom\",\"France\",\"France\",\"France\",\"United Kingdom\",\"France\",\"United Kingdom\",\"Romania\",\"United States\",\"Australia\",\"United States\",\"Cayman Islands\",\"United States\",\"France\",\"United Kingdom\",\"Iceland\",\"Serbia\",\"France\",\"Canada\",\"France\",\"Canada\",\"Colombia\",\"Germany\",\"United States\",\"Belgium\",\"France\",\"Italy\",\"United Arab Emirates\",\"United Kingdom\",\"Lebanon\",\"France\",\"United Kingdom\",\"India\",\"United States\",\"Canada\",\"United Kingdom\",\"United States\",\"Canada\",\"Canada\",\"United Kingdom\",\"Norway\",\"South Korea\",\"Luxembourg\",\"Belgium\",\"Canada\",\"Canada\",\"Spain\",\"United States\",\"Lebanon\",\"United Arab Emirates\",\"Germany\",\"China\",\"Japan\",\"United States\",\"United Kingdom\",\"Japan\",\"Belgium\",\"Denmark\",\"Switzerland\",\"France\",\"United States\",\"United States\",\"Belgium\",\"Canada\",\"Germany\",\"France\",\"Japan\",\"United States\",\"United States\",\"Singapore\",\"Serbia\",\"Germany\",\"Canada\",\"Hungary\",\"Belgium\",\"Belgium\",\"United States\",\"Japan\",\"Australia\",\"Germany\",\"Luxembourg\",\"France\",\"France\",\"United Kingdom\",\"United States\",\"Mexico\",\"Canada\",\"Sweden\",\"India\",\"United States\",\"United States\",\"Belgium\",\"Spain\",\"France\",\"Netherlands\",\"United States\",\"France\",\"United States\",\"Serbia\",\"United States\",\"United Kingdom\",\"United States\",\"United States\",\"United States\",\"United States\",\"Austria\",\"United States\",\"United Kingdom\",\"United States\",\"Australia\",\"Ireland\",\"United States\",\"United States\",\"Albania\",\"Argentina\",\"Indonesia\",\"France\",\"United States\",\"Germany\",\"United States\",\"France\",\"Netherlands\",\"Germany\",\"Israel\",\"Spain\",\"United States\",\"China\",\"Belgium\",\"India\",\"China\",\"Germany\",\"United States\",\"Argentina\",\"Argentina\",\"Qatar\",\"Japan\",\"France\",\"Canada\",\"France\",\"United States\",\"Netherlands\",\"United States\",\"Ecuador\",\"United States\",\"United Kingdom\",\"France\",\"United States\",\"Singapore\",\"United States\",\"Poland\",\"South Africa\",\"France\",\"France\",\"United States\",\"Germany\",\"Canada\",\"United States\",\"Belgium\",\"Spain\",\"Mexico\",\"United Arab Emirates\",\"Japan\",\"Spain\",\"Israel\",\"France\",\"Australia\",\"United States\",\"India\",\"Bangladesh\",\"France\",\"Germany\",\"Australia\",\"Hong Kong\",\"Switzerland\",\"Luxembourg\",\"United Kingdom\",\"Italy\",\"United States\",\"United States\",\"France\",\"Norway\",\"New Zealand\",\"United Kingdom\",\"Belgium\",\"Mexico\",\"Germany\",\"Japan\",\"United States\",\"Belgium\",\"Italy\",\"France\",\"Italy\",\"United States\",\"United Kingdom\",\"Russia\",\"Mexico\",\"United States\",\"Spain\",\"Spain\",\"Canada\",\"United Kingdom\",\"Denmark\",\"Italy\",\"Canada\",\"Canada\",\"China\",\"Germany\",\"Italy\",\"Germany\",\"Netherlands\",\"Germany\",\"United States\",\"Belgium\",\"United States\",\"Dominican Republic\",\"United States\",\"Netherlands\",\"France\",\"Canada\",\"Canada\",\"Canada\",\"United Kingdom\",\"China\",\"Israel\",\"Australia\",\"Denmark\",\"Sweden\",\"United States\",\"Nepal\",\"Brazil\",\"Samoa\",\"Peru\",\"Hong Kong\",\"Sweden\",\"France\",\"United States\",\"Germany\",\"France\",\"South Korea\",\"Belgium\",\"Belgium\",\"Spain\",\"China\",\"United States\",\"Hong Kong\",\"Germany\",\"Czech Republic\",\"Italy\",\"Poland\",\"France\",\"Germany\",\"Canada\",\"United States\",\"United Kingdom\",\"Australia\",\"Ireland\",\"Australia\",\"Canada\",\"Finland\",\"Spain\",\"United States\",\"United Kingdom\",\"Switzerland\",\"United States\",\"United States\",\"United States\",\"France\",\"Canada\",\"United Kingdom\",\"United States\",\"Canada\",\"Sweden\",\"United States\",\"United Kingdom\",\"United Kingdom\",\"United Kingdom\",\"Uruguay\",\"United States\",\"China\",\"Luxembourg\",\"United Kingdom\",\"Poland\",\"United States\",\"United Kingdom\",\"United States\",\"Norway\",\"Morocco\",\"Morocco\",\"United States\",\"United Arab Emirates\",\"France\",\"Australia\",\"Netherlands\",\"Italy\",\"Greece\",\"Finland\",\"United States\",\"South Africa\",\"Mexico\",\"Sudan\",\"Japan\",\"Belgium\",\"Slovenia\",\"South Africa\",\"United States\",\"Japan\",\"Australia\",\"United States\",\"Canada\",\"Japan\",\"United States\",\"Germany\",\"South Africa\",\"India\",\"United States\",\"United States\",\"Germany\",\"Sweden\",\"India\",\"United States\",\"United States\",\"United Kingdom\",\"United Kingdom\",\"Thailand\",\"West Germany\",\"South Africa\",\"United States\",\"Serbia\",\"United Kingdom\",\"United States\",\"Japan\",\"United Kingdom\",\"United States\",\"United States\",\"United States\",\"Spain\",\"United States\",\"Italy\",\"United Kingdom\",\"Hungary\",\"United States\",\"Qatar\",\"United States\",\"Canada\",\"Qatar\",\"Germany\",\"France\",\"Germany\",\"Qatar\",\"United States\",\"United States\",\"United States\",\"United Kingdom\",\"United States\",\"Switzerland\",\"Belgium\",\"Denmark\",\"Belgium\",\"Belgium\",\"France\",\"China\",\"United States\",\"Cambodia\",\"United States\",\"United States\",\"Belgium\",\"Saudi Arabia\",\"New Zealand\",\"Jordan\",\"Canada\",\"Canada\",\"United Kingdom\",\"Germany\",\"Ireland\",\"Spain\",\"Germany\",\"Denmark\",\"United States\",\"Romania\",\"Portugal\",\"United States\",\"United States\",\"Sweden\",\"Germany\",\"Cayman Islands\",\"Canada\",\"Germany\",\"Poland\",\"United Kingdom\",\"Poland\",\"Germany\",\"Jordan\",\"Poland\",\"Peru\",\"France\",\"Belgium\",\"Cambodia\",\"United States\",\"Germany\",\"Iran\",\"Germany\",\"Colombia\",\"Canada\",\"Canada\",\"Jordan\",\"United States\",\"Germany\",\"Germany\",\"United States\",\"Singapore\",\"United Kingdom\",\"China\",\"Latvia\",\"Canada\",\"Liechtenstein\",\"Italy\",\"United States\",\"United States\",\"United Kingdom\",\"Morocco\",\"Germany\",\"Germany\",\"Croatia\",\"Japan\",\"Sweden\",\"Spain\",\"United States\",\"Czech Republic\",\"France\",\"United States\",\"Lebanon\",\"United States\",\"United States\",\"Germany\",\"United Kingdom\",\"Ireland\",\"Netherlands\",\"Spain\",\"China\",\"United Kingdom\",\"United Kingdom\",\"United States\",\"United States\",\"Sweden\",\"Belgium\",\"Germany\",\"United States\",\"South Africa\",\"Canada\",\"United States\",\"Japan\",\"South Korea\",\"Australia\",\"New Zealand\",\"Belgium\",\"Germany\",\"Italy\",\"United States\",\"Luxembourg\",\"India\",\"United States\",\"Germany\",\"United States\",\"France\",\"Norway\",\"United Kingdom\",\"South Africa\",\"Panama\",\"Sweden\",\"United States\",\"Zimbabwe\",\"United Kingdom\",\"Uganda\",\"Canada\",\"United States\",\"Finland\",\"Montenegro\",\"Germany\",\"United Kingdom\",\"United States\",\"United States\",\"Mexico\",\"Germany\",\"Netherlands\",\"Luxembourg\",\"\",\"United Arab Emirates\",\"Japan\",\"United States\",\"United States\",\"Japan\",\"Belgium\",\"Canada\",\"Sweden\",\"China\",\"Germany\",\"United States\",\"Austria\",\"Mexico\",\"Bahamas\",\"United States\",\"Germany\",\"Netherlands\",\"United States\",\"Greece\",\"Greece\",\"Qatar\",\"Qatar\",\"Sweden\",\"United States\",\"France\",\"France\",\"United Arab Emirates\",\"France\",\"United Kingdom\",\"Italy\",\"United States\",\"Qatar\",\"United Kingdom\",\"Belgium\",\"Afghanistan\",\"China\",\"Netherlands\",\"United Kingdom\",\"United States\",\"Belgium\",\"United States\",\"China\",\"United Arab Emirates\",\"Ethiopia\",\"Belgium\",\"China\",\"United States\",\"South Korea\",\"Japan\",\"United States\",\"Singapore\",\"Denmark\",\"Germany\",\"Mongolia\",\"United States\",\"Canada\",\"Canada\",\"Sweden\",\"France\",\"Philippines\",\"France\",\"Israel\",\"United Kingdom\",\"Germany\",\"United States\",\"New Zealand\",\"United Kingdom\",\"India\",\"United States\",\"France\",\"Hong Kong\",\"Philippines\",\"United States\",\"South Africa\",\"Germany\",\"Sweden\",\"Netherlands\",\"United States\",\"Uruguay\"],\"xaxis\":\"x\",\"yaxis\":\"y\",\"type\":\"histogram\"},{\"alignmentgroup\":\"True\",\"bingroup\":\"x\",\"hovertemplate\":\"type=TV Show<br>country=%{x}<br>count=%{y}<extra></extra>\",\"legendgroup\":\"TV Show\",\"marker\":{\"color\":\"#EF553B\",\"pattern\":{\"shape\":\"\"}},\"name\":\"TV Show\",\"offsetgroup\":\"TV Show\",\"orientation\":\"v\",\"showlegend\":true,\"x\":[\"South Africa\",\"India\",\"United Kingdom\",\"United States\",\"Mexico\",\"Turkey\",\"Australia\",\"United Kingdom\",\"Finland\",\"India\",\"United States\",\"Nigeria\",\"India\",\"United States\",\"United Kingdom\",\"India\",\"United States\",\"India\",\"United Kingdom\",\"Japan\",\"United States\",\"Belgium\",\"United States\",\"United States\",\"United Kingdom\",\"France\",\"South Korea\",\"United States\",\"Australia\",\"Spain\",\"United States\",\"Australia\",\"South Korea\",\"United States\",\"Russia\",\"Japan\",\"United States\",\"United States\",\"\",\"Nigeria\",\"Ireland\",\"Japan\",\"United States\",\"United States\",\"United States\",\"United States\",\"United States\",\"Japan\",\"India\",\"Italy\",\"United States\",\"United States\",\"France\",\"United States\",\"Argentina\",\"Spain\",\"Jordan\",\"United States\",\"United States\",\"Colombia\",\"South Korea\",\"Japan\",\"Israel\",\"India\",\"United States\",\"Mexico\",\"United States\",\"Taiwan\",\"Taiwan\",\"Taiwan\",\"Taiwan\",\"Taiwan\",\"United States\",\"Italy\",\"Japan\",\"United States\",\"United Kingdom\",\"United States\",\"United States\",\"United States\",\"Germany\",\"United States\",\"United States\",\"Canada\",\"Spain\",\"United States\",\"United States\",\"Argentina\",\"United States\",\"United States\",\"Japan\",\"South Korea\",\"United States\",\"United States\",\"United States\",\"Germany\",\"United States\",\"United States\",\"United States\",\"Poland\",\"United States\",\"Canada\",\"United States\",\"France\",\"United States\",\"United Kingdom\",\"United Kingdom\",\"Thailand\",\"Japan\",\"United Kingdom\",\"United States\",\"Canada\",\"Russia\",\"United Kingdom\",\"Japan\",\"United States\",\"United States\",\"Ireland\",\"United States\",\"United States\",\"Israel\",\"Canada\",\"Australia\",\"Japan\",\"United Kingdom\",\"Australia\",\"United Kingdom\",\"Belgium\",\"Canada\",\"South Korea\",\"United States\",\"United States\",\"France\",\"Australia\",\"United States\",\"Sweden\",\"United States\",\"Mexico\",\"China\",\"United States\",\"Japan\",\"United States\",\"Japan\",\"United States\",\"United States\",\"Thailand\",\"United States\",\"France\",\"United States\",\"Spain\",\"Finland\",\"United States\",\"United States\",\"Spain\",\"Argentina\",\"United States\",\"Japan\",\"United States\",\"Canada\",\"United States\",\"Thailand\",\"United States\",\"United Kingdom\",\"Australia\",\"Spain\",\"South Korea\",\"Canada\",\"Iceland\",\"Turkey\",\"Argentina\",\"United States\",\"United States\",\"United States\",\"United States\",\"South Korea\",\"Denmark\",\"France\",\"Philippines\",\"Colombia\",\"United States\",\"United States\",\"Colombia\",\"United Kingdom\",\"United States\",\"Japan\",\"Italy\",\"Japan\",\"United Kingdom\",\"United States\",\"United Kingdom\",\"United States\",\"Japan\",\"United States\",\"United Arab Emirates\",\"United States\",\"United States\",\"Israel\",\"Norway\",\"Japan\",\"United States\",\"United States\",\"Spain\",\"United States\",\"Canada\",\"Mexico\",\"United Kingdom\",\"India\",\"United States\",\"United States\",\"United States\",\"South Korea\",\"United States\",\"United States\",\"United States\",\"South Korea\",\"United States\",\"India\",\"India\",\"United States\",\"Mexico\",\"United States\",\"Poland\",\"Turkey\",\"Thailand\",\"United States\",\"Australia\",\"Italy\",\"Australia\",\"Mexico\",\"France\",\"South Korea\",\"Japan\",\"United States\",\"United States\",\"Japan\",\"United States\",\"Lebanon\",\"United States\",\"China\",\"Japan\",\"United States\",\"Italy\",\"United States\",\"United States\",\"United States\",\"South Korea\",\"United States\",\"South Korea\",\"Canada\",\"Thailand\",\"United States\",\"United States\",\"Israel\",\"United States\",\"China\",\"Japan\",\"India\",\"Uruguay\",\"United Kingdom\",\"United States\",\"United Kingdom\",\"United States\",\"United States\",\"South Korea\",\"Japan\",\"United States\",\"United States\",\"Spain\",\"United Kingdom\",\"United States\",\"Japan\",\"South Korea\",\"South Korea\",\"United States\",\"United States\",\"United Kingdom\",\"Japan\",\"Belgium\",\"United States\",\"Egypt\",\"United States\",\"United Kingdom\",\"South Korea\",\"United States\",\"United Kingdom\",\"France\",\"Germany\",\"India\",\"Egypt\",\"United States\",\"Spain\",\"United States\",\"United States\",\"United States\",\"Japan\",\"United States\",\"United States\",\"United States\",\"United States\",\"United States\",\"United States\",\"India\",\"South Korea\",\"India\",\"Germany\",\"South Korea\",\"South Korea\",\"United States\",\"United Kingdom\",\"United States\",\"United States\",\"United Kingdom\",\"United States\",\"United States\",\"United States\",\"United Kingdom\",\"Luxembourg\",\"Mexico\",\"United States\",\"United States\",\"United States\",\"United States\",\"Spain\",\"Brazil\",\"United States\",\"Colombia\",\"United States\",\"United States\",\"Canada\",\"United States\",\"United States\",\"Philippines\",\"United States\",\"Canada\",\"United States\",\"France\",\"United States\",\"Turkey\",\"United States\",\"United States\",\"United States\",\"Canada\",\"South Korea\",\"Japan\",\"Mexico\",\"United States\",\"United States\",\"United States\",\"United States\",\"United States\",\"United States\",\"United States\",\"United States\",\"United Kingdom\",\"United Kingdom\",\"India\",\"United States\",\"Spain\",\"United States\",\"United States\",\"Mexico\",\"United States\",\"United States\",\"United States\",\"United States\",\"United States\",\"Mexico\",\"Canada\",\"United States\",\"United States\",\"United States\",\"United States\",\"Denmark\",\"Italy\",\"United Kingdom\",\"South Korea\",\"Senegal\",\"India\",\"United States\",\"South Korea\",\"United States\",\"United Kingdom\",\"United Kingdom\",\"South Africa\",\"Norway\",\"India\",\"Netherlands\",\"South Korea\",\"United States\",\"Brazil\",\"South Africa\",\"United States\",\"Japan\",\"United Kingdom\",\"United States\",\"United States\",\"United States\",\"United States\",\"United States\",\"United Kingdom\",\"United States\",\"Lebanon\",\"France\",\"Spain\",\"Japan\",\"Saudi Arabia\",\"Egypt\",\"United States\",\"United States\",\"United States\",\"Kuwait\",\"United States\",\"South Korea\",\"France\",\"Taiwan\",\"India\",\"United States\",\"South Africa\",\"United Kingdom\",\"Indonesia\",\"United States\",\"Spain\",\"United States\",\"United States\",\"United Kingdom\",\"United States\",\"United States\",\"South Korea\",\"United States\",\"United Kingdom\",\"South Korea\",\"India\",\"Australia\",\"Germany\",\"United States\",\"Japan\",\"Nigeria\",\"Egypt\",\"South Korea\",\"China\",\"India\",\"United States\",\"United States\",\"United States\",\"United States\",\"United States\",\"Japan\",\"Canada\",\"United States\",\"United Kingdom\",\"United States\",\"Spain\",\"Turkey\",\"South Korea\",\"Brazil\",\"Australia\",\"United States\",\"United States\",\"United States\",\"United States\",\"Japan\",\"United States\",\"Australia\",\"Argentina\",\"Egypt\",\"Sweden\",\"Canada\",\"United States\",\"United States\",\"United States\",\"United States\",\"United States\",\"United States\",\"Canada\",\"Denmark\",\"United States\",\"France\",\"South Korea\",\"South Korea\",\"Brazil\",\"Australia\",\"United States\",\"United States\",\"Italy\",\"United States\",\"United States\",\"Taiwan\",\"Germany\",\"United States\",\"Spain\",\"United States\",\"United States\",\"South Korea\",\"United States\",\"France\",\"Mexico\",\"United States\",\"United Kingdom\",\"United States\",\"United States\",\"United States\",\"United States\",\"United States\",\"United States\",\"United States\",\"United States\",\"South Korea\",\"South Korea\",\"United States\",\"Russia\",\"India\",\"United States\",\"United States\",\"Australia\",\"United States\",\"South Korea\",\"Japan\",\"Brazil\",\"Germany\",\"Argentina\",\"Japan\",\"United States\",\"United States\",\"Mexico\",\"Japan\",\"United States\",\"Australia\",\"United States\",\"United States\",\"United States\",\"Germany\",\"United States\",\"South Korea\",\"United States\",\"United States\",\"United States\",\"United States\",\"United States\",\"Germany\",\"Italy\",\"United States\",\"United Kingdom\",\"Poland\",\"United States\",\"United Kingdom\",\"United States\",\"United Kingdom\",\"France\",\"United States\",\"Spain\",\"United Kingdom\",\"United States\",\"United States\",\"United States\",\"Spain\",\"South Korea\",\"Australia\",\"United States\",\"United States\",\"United Kingdom\",\"United States\",\"Japan\",\"United States\",\"Denmark\",\"Japan\",\"United States\",\"France\",\"France\",\"United States\",\"Japan\",\"United Kingdom\",\"United Kingdom\",\"India\",\"Japan\",\"Colombia\",\"United States\",\"United States\",\"United States\",\"Nigeria\",\"United States\",\"Canada\",\"South Korea\",\"United States\",\"United States\",\"United States\",\"South Korea\",\"Denmark\",\"Saudi Arabia\",\"Brazil\",\"United States\",\"Colombia\",\"United States\",\"Japan\",\"United States\",\"United States\",\"Japan\",\"Nigeria\",\"Spain\",\"Germany\",\"United States\",\"United States\",\"United States\",\"Canada\",\"Denmark\",\"United States\",\"Brazil\",\"United States\",\"United States\",\"Canada\",\"Japan\",\"Canada\",\"Japan\",\"United States\",\"United Kingdom\",\"United States\",\"United States\",\"United States\",\"United States\",\"United States\",\"Spain\",\"United States\",\"United States\",\"Norway\",\"United Kingdom\",\"France\",\"Australia\",\"United Kingdom\",\"United States\",\"Brazil\",\"Mexico\",\"United States\",\"Belarus\",\"United States\",\"Brazil\",\"United States\",\"United States\",\"Belgium\",\"Japan\",\"Turkey\",\"South Korea\",\"Australia\",\"Thailand\",\"India\",\"Spain\",\"Japan\",\"United States\",\"United States\",\"United States\",\"United States\",\"United Kingdom\",\"Taiwan\",\"United States\",\"United States\",\"France\",\"Japan\",\"Chile\",\"Germany\",\"Colombia\",\"United States\",\"South Korea\",\"United Kingdom\",\"United States\",\"South Korea\",\"United States\",\"United States\",\"Brazil\",\"United States\",\"United States\",\"United States\",\"United States\",\"United States\",\"United States\",\"Germany\",\"Japan\",\"Mexico\",\"Poland\",\"Italy\",\"United States\",\"United States\",\"South Korea\",\"Brazil\",\"United States\",\"United States\",\"United States\",\"United States\",\"Japan\",\"Japan\",\"South Korea\",\"Japan\",\"Japan\",\"South Korea\",\"South Korea\",\"United States\",\"Ireland\",\"Japan\",\"Australia\",\"United States\",\"India\",\"United States\",\"United Kingdom\",\"Canada\",\"South Korea\",\"Colombia\",\"United States\",\"United States\",\"United Kingdom\",\"United States\",\"South Korea\",\"South Korea\",\"United States\",\"France\",\"United States\",\"United States\",\"Japan\",\"United States\",\"Thailand\",\"South Korea\",\"Australia\",\"United Kingdom\",\"Canada\",\"Finland\",\"United States\",\"United States\",\"Canada\",\"United Kingdom\",\"Canada\",\"China\",\"Argentina\",\"United States\",\"United States\",\"Russia\",\"Italy\",\"Japan\",\"Canada\",\"Australia\",\"Japan\",\"United States\",\"United States\",\"Japan\",\"Taiwan\",\"South Korea\",\"United Kingdom\",\"South Africa\",\"United States\",\"United Kingdom\",\"South Korea\",\"United Kingdom\",\"Turkey\",\"Japan\",\"Mexico\",\"United States\",\"United Kingdom\",\"Japan\",\"United States\",\"Puerto Rico\",\"United States\",\"United States\",\"India\",\"South Korea\",\"United States\",\"Mexico\",\"India\",\"France\",\"Israel\",\"United States\",\"United States\",\"Italy\",\"Japan\",\"Chile\",\"United States\",\"United States\",\"United States\",\"United Kingdom\",\"Japan\",\"United Kingdom\",\"United States\",\"United Kingdom\",\"China\",\"India\",\"South Korea\",\"United States\",\"India\",\"United States\",\"Germany\",\"Austria\",\"Taiwan\",\"United States\",\"United States\",\"United States\",\"India\",\"United Kingdom\",\"United Kingdom\",\"United States\",\"France\",\"Sweden\",\"Netherlands\",\"United Kingdom\",\"United States\",\"United States\",\"United States\",\"Norway\",\"South Korea\",\"Iceland\",\"United States\",\"United States\",\"Brazil\",\"United States\",\"India\",\"Spain\",\"Japan\",\"Germany\",\"Colombia\",\"South Africa\",\"Spain\",\"Mexico\",\"United States\",\"Japan\",\"Saudi Arabia\",\"United States\",\"United States\",\"South Korea\",\"Canada\",\"United States\",\"South Korea\",\"Argentina\",\"Brazil\",\"United States\",\"Nigeria\",\"Cyprus\",\"India\",\"United States\",\"Mexico\",\"Thailand\",\"United States\",\"United States\",\"United States\",\"Nigeria\",\"Canada\",\"United States\",\"Japan\",\"United States\",\"United States\",\"United States\",\"Japan\",\"South Korea\",\"France\",\"Japan\",\"Japan\",\"United States\",\"Mexico\",\"Italy\",\"Spain\",\"Japan\",\"United Kingdom\",\"United States\",\"United Kingdom\",\"Brazil\",\"Nigeria\",\"United States\",\"United States\",\"United States\",\"Japan\",\"Taiwan\",\"United States\",\"United States\",\"United States\",\"Netherlands\",\"Canada\",\"Germany\",\"United States\",\"China\",\"Japan\",\"United States\",\"France\",\"United States\",\"United Kingdom\",\"United States\",\"India\",\"United States\",\"Australia\",\"France\",\"United States\",\"United Kingdom\",\"Canada\",\"United States\",\"Belgium\",\"South Korea\",\"Canada\",\"Japan\",\"South Korea\",\"United States\",\"Netherlands\",\"Spain\",\"South Korea\",\"South Korea\",\"United States\",\"South Korea\",\"Japan\",\"Norway\",\"South Korea\",\"South Korea\",\"China\",\"Japan\",\"United States\",\"France\",\"United States\",\"Japan\",\"United States\",\"United States\",\"Mauritius\",\"United States\",\"France\",\"Poland\",\"United Kingdom\",\"United States\",\"South Korea\",\"United States\",\"South Korea\",\"Nigeria\",\"Japan\",\"United States\",\"United States\",\"United States\",\"United States\",\"Japan\",\"Brazil\",\"United States\",\"Spain\",\"United States\",\"United States\",\"China\",\"Colombia\",\"United States\",\"United States\",\"South Korea\",\"United Kingdom\",\"Mexico\",\"Japan\",\"Brazil\",\"United States\",\"France\",\"Poland\",\"Mexico\",\"China\",\"United States\",\"United States\",\"United States\",\"Brazil\",\"Singapore\",\"United States\",\"United States\",\"Thailand\",\"Germany\",\"France\",\"Taiwan\",\"Taiwan\",\"United States\",\"South Korea\",\"Japan\",\"Taiwan\",\"United States\",\"Taiwan\",\"South Korea\",\"Mexico\",\"Thailand\",\"United States\",\"Turkey\",\"Thailand\",\"Argentina\",\"South Korea\",\"China\",\"India\",\"United Kingdom\",\"United Kingdom\",\"Colombia\",\"Japan\",\"United States\",\"United Kingdom\",\"United Kingdom\",\"United States\",\"United States\",\"United States\",\"United States\",\"France\",\"United States\",\"Japan\",\"Japan\",\"Japan\",\"Japan\",\"Japan\",\"United States\",\"United States\",\"Canada\",\"Argentina\",\"Germany\",\"United States\",\"Taiwan\",\"South Korea\",\"South Korea\",\"United States\",\"China\",\"China\",\"United States\",\"Brazil\",\"Spain\",\"Argentina\",\"France\",\"Spain\",\"China\",\"United States\",\"United States\",\"United Kingdom\",\"United Kingdom\",\"India\",\"United States\",\"Netherlands\",\"China\",\"Australia\",\"South Korea\",\"South Korea\",\"Turkey\",\"South Korea\",\"United States\",\"France\",\"Japan\",\"United States\",\"Mexico\",\"South Korea\",\"United Kingdom\",\"United Kingdom\",\"United States\",\"United States\",\"United States\",\"United States\",\"South Korea\",\"South Korea\",\"India\",\"India\",\"India\",\"India\",\"South Korea\",\"South Korea\",\"South Korea\",\"United States\",\"India\",\"Argentina\",\"Mexico\",\"United States\",\"Australia\",\"South Korea\",\"Germany\",\"Spain\",\"United States\",\"United States\",\"Spain\",\"South Korea\",\"United States\",\"Japan\",\"France\",\"United States\",\"United States\",\"United States\",\"France\",\"United States\",\"Japan\",\"United Kingdom\",\"China\",\"United Kingdom\",\"Colombia\",\"United States\",\"United Kingdom\",\"United States\",\"United States\",\"Spain\",\"Argentina\",\"Russia\",\"United States\",\"Colombia\",\"United States\",\"China\",\"Spain\",\"United States\",\"India\",\"Taiwan\",\"United States\",\"United States\",\"United States\",\"United States\",\"Brazil\",\"United States\",\"South Korea\",\"Lebanon\",\"United States\",\"Malaysia\",\"South Korea\",\"South Korea\",\"South Korea\",\"South Korea\",\"South Korea\",\"United States\",\"United States\",\"United States\",\"Thailand\",\"Australia\",\"United States\",\"South Korea\",\"United States\",\"Australia\",\"Hong Kong\",\"United States\",\"United States\",\"India\",\"South Korea\",\"United States\",\"China\",\"Japan\",\"Japan\",\"Japan\",\"Japan\",\"United States\",\"Sweden\",\"South Korea\",\"United States\",\"China\",\"United States\",\"United States\",\"Australia\",\"Thailand\",\"Thailand\",\"South Korea\",\"United States\",\"United States\",\"France\",\"France\",\"Japan\",\"United States\",\"United States\",\"United States\",\"Australia\",\"Australia\",\"Spain\",\"Japan\",\"Colombia\",\"United States\",\"Argentina\",\"Japan\",\"Japan\",\"United States\",\"New Zealand\",\"United States\",\"Japan\",\"Japan\",\"Japan\",\"China\",\"Spain\",\"Belgium\",\"United States\",\"France\",\"United States\",\"India\",\"United States\",\"United States\",\"Mexico\",\"Jordan\",\"Malaysia\",\"United States\",\"United States\",\"United States\",\"United Kingdom\",\"United States\",\"United States\",\"South Korea\",\"Taiwan\",\"Japan\",\"Canada\",\"United States\",\"United States\",\"United States\",\"United States\",\"United States\",\"Mexico\",\"Mexico\",\"United States\",\"United Kingdom\",\"United Kingdom\",\"Argentina\",\"Japan\",\"China\",\"United States\",\"Brazil\",\"China\",\"United States\",\"South Korea\",\"Kuwait\",\"Lebanon\",\"Mexico\",\"Canada\",\"United Kingdom\",\"United States\",\"Japan\",\"Taiwan\",\"Hong Kong\",\"Japan\",\"Taiwan\",\"Taiwan\",\"United States\",\"Mexico\",\"United States\",\"United States\",\"Taiwan\",\"Australia\",\"Taiwan\",\"Japan\",\"Brazil\",\"United States\",\"United States\",\"United States\",\"South Korea\",\"United States\",\"United States\",\"United Kingdom\",\"United States\",\"United States\",\"Sweden\",\"Malaysia\",\"Canada\",\"United States\",\"Mexico\",\"South Korea\",\"Lebanon\",\"South Korea\",\"United States\",\"United Kingdom\",\"France\",\"United States\",\"United Kingdom\",\"France\",\"Japan\",\"United States\",\"Mexico\",\"India\",\"United States\",\"Canada\",\"Japan\",\"Japan\",\"Taiwan\",\"Spain\",\"United Kingdom\",\"United Kingdom\",\"Egypt\",\"Egypt\",\"Egypt\",\"Egypt\",\"United States\",\"Egypt\",\"Turkey\",\"United States\",\"Australia\",\"South Korea\",\"India\",\"Canada\",\"Japan\",\"United States\",\"United States\",\"United Kingdom\",\"Brazil\",\"Denmark\",\"Argentina\",\"United States\",\"Spain\",\"Taiwan\",\"Belgium\",\"United States\",\"Egypt\",\"Egypt\",\"South Korea\",\"United Kingdom\",\"Egypt\",\"Japan\",\"South Korea\",\"United States\",\"United States\",\"Russia\",\"Japan\",\"Taiwan\",\"United States\",\"United Kingdom\",\"Mexico\",\"Spain\",\"United States\",\"Turkey\",\"United States\",\"United Kingdom\",\"Taiwan\",\"Taiwan\",\"United States\",\"Ireland\",\"United Kingdom\",\"Spain\",\"Israel\",\"United States\",\"United States\",\"Croatia\",\"United States\",\"Thailand\",\"Israel\",\"United States\",\"India\",\"United States\",\"Taiwan\",\"United Kingdom\",\"United Kingdom\",\"United States\",\"Taiwan\",\"Japan\",\"Taiwan\",\"Taiwan\",\"Germany\",\"Japan\",\"Turkey\",\"Japan\",\"United States\",\"China\",\"United States\",\"United Kingdom\",\"South Korea\",\"United States\",\"United States\",\"Australia\",\"Canada\",\"United States\",\"Japan\",\"Germany\",\"United States\",\"Australia\",\"South Korea\",\"South Korea\",\"Poland\",\"United States\",\"Japan\",\"United States\",\"United States\",\"United States\",\"Canada\",\"Spain\",\"United Kingdom\",\"United States\",\"United States\",\"China\",\"United States\",\"United States\",\"Canada\",\"Brazil\",\"Denmark\",\"Germany\",\"United States\",\"Brazil\",\"Colombia\",\"South Korea\",\"United States\",\"France\",\"United States\",\"Malaysia\",\"Argentina\",\"United States\",\"Japan\",\"United States\",\"United States\",\"United States\",\"China\",\"United States\",\"China\",\"Australia\",\"United States\",\"United States\",\"United States\",\"Thailand\",\"United Kingdom\",\"Canada\",\"Australia\",\"United Kingdom\",\"United States\",\"United States\",\"Brazil\",\"United States\",\"Czech Republic\",\"Japan\",\"South Korea\",\"United Kingdom\",\"United Kingdom\",\"United Kingdom\",\"United Kingdom\",\"United States\",\"United States\",\"United States\",\"United Kingdom\",\"United States\",\"Canada\",\"South Korea\",\"Japan\",\"United States\",\"United States\",\"Japan\",\"Canada\",\"Lebanon\",\"United States\",\"Mexico\",\"United States\",\"China\",\"South Korea\",\"United States\",\"United States\",\"United States\",\"United States\",\"United States\",\"Thailand\",\"United States\",\"Taiwan\",\"Australia\",\"Spain\",\"United States\",\"United States\",\"United States\",\"Colombia\",\"United States\",\"India\",\"China\",\"United Kingdom\",\"United States\",\"Australia\",\"United States\",\"United States\",\"United States\",\"Taiwan\",\"Spain\",\"Mexico\",\"Japan\",\"Japan\",\"France\",\"Japan\",\"Australia\",\"Mexico\",\"Japan\",\"Spain\",\"United Kingdom\",\"New Zealand\",\"United States\",\"Japan\",\"Canada\",\"United States\",\"China\",\"Israel\",\"United Kingdom\",\"United States\",\"South Korea\",\"United States\",\"United States\",\"United States\",\"United Kingdom\",\"United Kingdom\",\"United States\",\"Brazil\",\"United States\",\"United States\",\"United States\",\"France\",\"United States\",\"Japan\",\"France\",\"United States\",\"United States\",\"United States\",\"South Korea\",\"United States\",\"Japan\",\"Canada\",\"Japan\",\"United States\",\"United States\",\"United States\",\"United States\",\"United States\",\"France\",\"Saudi Arabia\",\"Germany\",\"France\",\"United States\",\"United States\",\"Philippines\",\"United Kingdom\",\"France\",\"United States\",\"Sweden\",\"United Kingdom\",\"United Kingdom\",\"United States\",\"Canada\",\"United Kingdom\",\"United Kingdom\",\"United Kingdom\",\"United States\",\"Argentina\",\"United States\",\"Egypt\",\"Belgium\",\"Japan\",\"Japan\",\"United Kingdom\",\"South Korea\",\"Norway\",\"United States\",\"Canada\",\"South Korea\",\"France\",\"United States\",\"United Kingdom\",\"United Kingdom\",\"United States\",\"United States\",\"Japan\",\"United States\",\"United States\",\"United States\",\"United Kingdom\",\"United States\",\"South Korea\",\"United States\",\"Japan\",\"Spain\",\"Japan\",\"United States\",\"United Kingdom\",\"Japan\",\"Japan\",\"Japan\",\"United Kingdom\",\"Japan\",\"France\",\"United States\",\"France\",\"United Kingdom\",\"Australia\",\"Canada\",\"South Korea\",\"United States\",\"United States\",\"United States\",\"Malaysia\",\"Japan\",\"France\",\"United States\",\"United Kingdom\",\"United Kingdom\",\"Japan\",\"South Korea\",\"United States\",\"United States\",\"United States\",\"United States\",\"Japan\",\"Russia\",\"Japan\",\"Japan\",\"United States\",\"Japan\",\"United States\",\"Canada\",\"Singapore\",\"United States\",\"Canada\",\"United Kingdom\",\"United States\",\"United States\",\"France\",\"United States\",\"Japan\",\"China\",\"Japan\",\"United States\",\"France\",\"United States\",\"United States\",\"Singapore\",\"Singapore\",\"Taiwan\",\"United Kingdom\",\"United Kingdom\",\"United States\",\"United States\",\"Canada\",\"United States\",\"Australia\",\"Spain\",\"United States\",\"United States\",\"United States\",\"United States\",\"United States\",\"Taiwan\",\"Taiwan\",\"Japan\",\"Japan\",\"United States\",\"United States\",\"United States\",\"United States\",\"United States\",\"Turkey\",\"Japan\",\"United States\",\"Singapore\",\"Taiwan\",\"South Korea\",\"Russia\",\"Taiwan\",\"Russia\",\"Singapore\",\"United Kingdom\",\"United Kingdom\",\"United Kingdom\",\"United States\",\"United States\",\"United States\",\"Canada\",\"China\",\"China\",\"China\",\"China\",\"Turkey\",\"Singapore\",\"United States\",\"Turkey\",\"United Kingdom\",\"Singapore\",\"Singapore\",\"Singapore\",\"Singapore\",\"Singapore\",\"Singapore\",\"Singapore\",\"Singapore\",\"United States\",\"United States\",\"Japan\",\"United States\",\"United States\",\"United States\",\"Italy\",\"South Korea\",\"South Korea\",\"South Korea\",\"South Korea\",\"China\",\"South Korea\",\"South Korea\",\"United Kingdom\",\"United States\",\"Singapore\",\"United States\",\"Denmark\",\"Singapore\",\"United States\",\"Thailand\",\"United States\",\"Australia\",\"South Korea\",\"South Korea\",\"South Korea\",\"Spain\",\"Canada\",\"United States\",\"United States\",\"United States\",\"South Korea\",\"United States\",\"Turkey\",\"United Kingdom\",\"United States\",\"United States\",\"Japan\",\"United States\",\"Australia\",\"Japan\",\"United States\",\"United States\",\"South Korea\",\"United Kingdom\",\"South Korea\",\"Mexico\",\"South Korea\",\"Turkey\",\"South Korea\",\"South Korea\",\"South Korea\",\"South Korea\",\"Japan\",\"United States\",\"United States\",\"South Korea\",\"Japan\",\"United States\",\"United States\",\"United Kingdom\",\"South Korea\",\"South Korea\",\"South Korea\",\"South Korea\",\"China\",\"South Korea\",\"Japan\",\"South Korea\",\"United Kingdom\",\"South Korea\",\"Canada\",\"United Kingdom\",\"United States\",\"Taiwan\",\"France\",\"United States\",\"Canada\",\"Taiwan\",\"Taiwan\",\"Taiwan\",\"United States\",\"Colombia\",\"United Kingdom\",\"France\",\"Iceland\",\"United Kingdom\",\"Taiwan\",\"Taiwan\",\"Taiwan\",\"Taiwan\",\"Taiwan\",\"Taiwan\",\"Canada\",\"United States\",\"Japan\",\"United Kingdom\",\"Japan\",\"United States\",\"Taiwan\",\"Taiwan\",\"Taiwan\",\"Taiwan\",\"United States\",\"Taiwan\",\"United States\",\"Taiwan\",\"Taiwan\",\"United States\",\"United States\",\"United Kingdom\",\"United Kingdom\",\"United States\",\"Taiwan\",\"United Kingdom\",\"Japan\",\"United States\",\"United Kingdom\",\"United Kingdom\",\"United Kingdom\",\"Colombia\",\"United States\",\"United States\",\"Japan\",\"United States\",\"Japan\",\"Australia\",\"Australia\",\"Japan\",\"Canada\",\"Japan\",\"United States\",\"Japan\",\"United States\",\"United States\",\"United States\",\"United States\",\"France\",\"Japan\",\"United States\",\"United States\",\"United States\",\"Germany\",\"United Kingdom\",\"France\",\"Norway\",\"Canada\",\"United States\",\"United States\",\"United States\",\"Turkey\",\"United Kingdom\",\"South Korea\",\"India\",\"India\",\"United States\",\"Taiwan\",\"South Korea\",\"United Kingdom\",\"United States\",\"South Korea\",\"United States\",\"United Kingdom\",\"United Kingdom\",\"India\",\"United Kingdom\",\"United Kingdom\",\"United States\",\"United States\",\"United States\",\"United States\",\"Taiwan\",\"United States\",\"India\",\"India\",\"United States\",\"Japan\",\"Canada\",\"Australia\",\"United Kingdom\",\"India\",\"Chile\",\"Italy\",\"United States\",\"United States\",\"United Kingdom\",\"Russia\",\"Canada\",\"South Korea\",\"Canada\",\"Turkey\",\"United States\",\"United States\",\"Japan\",\"India\",\"India\",\"United States\",\"United Kingdom\",\"Canada\",\"Spain\",\"Turkey\",\"Thailand\",\"United Kingdom\",\"Australia\",\"United Kingdom\",\"United Kingdom\",\"United States\",\"United States\",\"United States\",\"United States\",\"United Kingdom\",\"United Kingdom\",\"South Korea\",\"Italy\",\"Mexico\",\"Canada\",\"South Korea\",\"France\",\"United States\",\"Japan\",\"Canada\",\"Australia\",\"United States\",\"South Korea\",\"United Kingdom\",\"United Kingdom\",\"United States\",\"Malaysia\",\"United Kingdom\",\"United Kingdom\",\"India\",\"United Kingdom\",\"United States\",\"United States\",\"United States\",\"United States\",\"United States\",\"Australia\",\"France\",\"United Kingdom\",\"Australia\",\"Mexico\",\"United Kingdom\",\"India\",\"China\",\"Taiwan\",\"United States\",\"Australia\",\"India\",\"United States\",\"United States\",\"Canada\",\"United States\",\"United States\",\"United States\",\"United States\",\"Brazil\",\"United Kingdom\",\"Taiwan\",\"Spain\",\"Colombia\",\"Colombia\",\"Mexico\",\"United States\",\"United States\",\"United States\",\"United Kingdom\",\"United Kingdom\",\"China\",\"United Kingdom\",\"Turkey\",\"Japan\",\"United Kingdom\",\"United Kingdom\",\"India\",\"Turkey\",\"United States\",\"South Korea\",\"United States\",\"United States\",\"United Kingdom\",\"United Kingdom\",\"Spain\",\"United States\",\"United States\",\"United States\",\"United Kingdom\",\"India\",\"United States\",\"Taiwan\",\"India\",\"Japan\",\"United Kingdom\",\"United Kingdom\",\"Sweden\",\"Italy\",\"United States\",\"United States\",\"United States\",\"Italy\",\"Turkey\",\"United States\",\"United Kingdom\",\"Spain\",\"United Kingdom\",\"United Kingdom\",\"Japan\",\"United States\",\"Taiwan\",\"United Kingdom\",\"United States\",\"United Kingdom\",\"Malaysia\",\"United States\",\"Indonesia\",\"Canada\",\"Canada\",\"United States\",\"Canada\",\"Denmark\",\"South Korea\",\"Canada\",\"United States\",\"United Kingdom\",\"Argentina\",\"Australia\",\"United States\",\"Thailand\",\"United Kingdom\",\"Belgium\",\"Pakistan\",\"United Kingdom\",\"United States\",\"Mexico\",\"United States\",\"United States\",\"Taiwan\",\"United Kingdom\",\"United Kingdom\",\"United States\",\"Israel\",\"United Kingdom\",\"Canada\",\"Canada\",\"United Kingdom\",\"South Korea\",\"United States\",\"Japan\",\"United States\",\"United States\",\"India\",\"Russia\",\"United Kingdom\",\"Chile\",\"Mexico\",\"United States\",\"Japan\",\"Turkey\",\"United States\",\"United States\",\"United States\",\"Pakistan\",\"India\",\"India\",\"India\",\"United Kingdom\",\"Japan\",\"Turkey\",\"United States\",\"Mexico\",\"Mexico\",\"Colombia\",\"Colombia\",\"United Kingdom\",\"South Korea\",\"United Kingdom\",\"United States\",\"Denmark\",\"Turkey\",\"Canada\",\"United States\",\"United Kingdom\",\"United Kingdom\",\"Australia\",\"United States\",\"Spain\",\"Mexico\",\"South Korea\",\"United Kingdom\",\"Colombia\",\"Canada\",\"Taiwan\",\"South Korea\",\"United Kingdom\",\"China\",\"United States\",\"Italy\",\"Japan\",\"India\",\"India\",\"India\",\"Turkey\",\"United States\",\"United States\",\"United States\",\"United States\",\"United Kingdom\",\"United Kingdom\",\"Australia\",\"Spain\",\"United States\",\"India\",\"France\",\"United States\",\"Mexico\",\"Taiwan\",\"South Korea\",\"United Kingdom\",\"Canada\",\"United Kingdom\",\"United Kingdom\",\"Canada\",\"United States\",\"Spain\",\"United Kingdom\",\"United Kingdom\",\"United States\",\"United Kingdom\",\"United States\",\"United States\",\"United States\",\"United Kingdom\",\"United Kingdom\",\"United States\",\"Japan\",\"Canada\",\"Norway\",\"United Kingdom\",\"Germany\",\"Japan\",\"United States\",\"United Kingdom\",\"Hong Kong\",\"Canada\",\"United States\",\"France\",\"United States\",\"United Kingdom\",\"United Kingdom\",\"South Korea\",\"United States\",\"United States\",\"Australia\",\"United States\",\"Canada\",\"United States\",\"Colombia\",\"United States\",\"United States\",\"Ireland\",\"United States\",\"United States\",\"United Kingdom\",\"United Kingdom\",\"United States\",\"India\",\"United States\",\"United States\",\"United States\",\"United States\",\"France\",\"United States\",\"United States\",\"United States\",\"United States\",\"United States\",\"United States\",\"United States\",\"United States\",\"United States\",\"United States\",\"United States\",\"United States\",\"United States\",\"Argentina\",\"India\",\"United States\",\"Taiwan\",\"India\",\"India\",\"Mexico\",\"United States\",\"United States\",\"United Kingdom\",\"Canada\",\"United Kingdom\",\"United States\",\"United Kingdom\",\"India\",\"United States\",\"Thailand\",\"United States\",\"Mexico\",\"Japan\",\"United States\",\"Pakistan\",\"United States\",\"United States\",\"South Korea\",\"Canada\",\"Ukraine\",\"Israel\",\"Italy\",\"United Kingdom\",\"United States\",\"Russia\",\"Colombia\",\"United States\",\"United States\",\"United States\",\"United States\",\"Thailand\",\"United States\",\"United States\",\"United States\",\"United States\",\"Switzerland\",\"United States\",\"South Korea\",\"United States\",\"France\",\"South Korea\",\"South Korea\",\"India\",\"United States\",\"United Kingdom\",\"United States\",\"United States\",\"France\",\"United Kingdom\",\"Mexico\",\"India\",\"India\",\"United States\",\"United States\",\"Australia\",\"United States\",\"Singapore\",\"Brazil\",\"United Kingdom\",\"United Kingdom\",\"United Kingdom\",\"United Kingdom\",\"India\",\"Australia\",\"United Kingdom\",\"South Korea\",\"United States\",\"Canada\",\"Japan\",\"Canada\",\"United States\",\"United Kingdom\",\"United Kingdom\",\"United States\",\"United Kingdom\",\"Norway\",\"India\",\"United Kingdom\",\"United Kingdom\",\"United States\",\"India\",\"United Kingdom\",\"United Kingdom\",\"United Kingdom\",\"United States\",\"India\",\"Canada\",\"South Korea\",\"United States\",\"United Kingdom\",\"United States\",\"United States\",\"France\",\"Spain\",\"United States\",\"Sweden\",\"United Kingdom\",\"United States\",\"United States\",\"United States\",\"Canada\",\"United States\",\"United Kingdom\",\"France\",\"Russia\",\"United States\",\"Ukraine\",\"United States\",\"United States\",\"United States\",\"United States\",\"Ireland\",\"United States\",\"United States\",\"United States\",\"United States\",\"United States\",\"China\",\"Taiwan\",\"Thailand\",\"South Korea\",\"China\",\"Germany\",\"United Kingdom\",\"Canada\",\"United Kingdom\",\"United States\",\"Russia\",\"United States\",\"United Kingdom\",\"Thailand\",\"United States\",\"South Korea\",\"Poland\",\"United States\",\"United Kingdom\",\"Turkey\",\"Taiwan\",\"United States\",\"Taiwan\",\"United Kingdom\",\"United Kingdom\",\"United States\",\"Turkey\",\"United States\",\"United Kingdom\",\"India\",\"United States\",\"Japan\",\"Turkey\",\"United States\",\"Pakistan\",\"United Kingdom\",\"United States\",\"Singapore\",\"South Korea\",\"United States\",\"Canada\",\"United States\",\"Canada\",\"Japan\",\"Belgium\",\"Canada\",\"United States\",\"New Zealand\",\"Germany\",\"Netherlands\",\"Germany\",\"Germany\",\"United States\",\"United States\",\"United States\",\"Singapore\",\"Canada\",\"Denmark\",\"United States\",\"Czech Republic\",\"United States\",\"United Kingdom\",\"United Kingdom\",\"France\",\"United Kingdom\",\"United Kingdom\",\"India\",\"Brazil\",\"United States\",\"Germany\",\"Mexico\",\"Japan\",\"United Kingdom\",\"Australia\",\"Colombia\",\"Colombia\",\"United States\",\"United Kingdom\",\"Canada\",\"United States\",\"United Kingdom\",\"United States\",\"Finland\",\"Japan\",\"Canada\",\"Italy\",\"Ireland\",\"Singapore\",\"Canada\",\"United States\",\"United States\",\"Canada\",\"Singapore\",\"France\",\"United States\",\"Spain\",\"Canada\",\"Czech Republic\",\"France\",\"China\",\"New Zealand\",\"Australia\",\"United States\",\"United States\",\"Canada\",\"Australia\",\"Canada\",\"Italy\",\"United States\",\"France\",\"United States\",\"Mexico\",\"Canada\",\"Spain\",\"France\",\"Germany\",\"United Kingdom\",\"United States\",\"Mexico\",\"Canada\",\"United States\",\"United States\",\"Germany\",\"China\",\"Japan\",\"United States\",\"United States\",\"United Kingdom\",\"United States\",\"United States\",\"South Korea\",\"Malaysia\",\"Germany\",\"Germany\",\"Sweden\",\"Canada\",\"South Africa\",\"Poland\",\"United States\",\"Canada\",\"United States\",\"United States\",\"Canada\",\"United States\",\"Canada\",\"Japan\",\"Australia\",\"Spain\",\"Japan\",\"Canada\",\"United Kingdom\",\"United States\",\"Canada\",\"Japan\",\"United States\",\"Singapore\",\"Canada\",\"United States\",\"Belgium\",\"Hong Kong\",\"Brazil\",\"United States\",\"United States\",\"United Kingdom\",\"United States\",\"Japan\",\"Canada\",\"Canada\",\"United Kingdom\",\"Ireland\",\"United States\",\"United States\",\"Canada\",\"Sweden\",\"Mexico\",\"France\",\"United States\",\"Belgium\",\"Czech Republic\",\"United States\",\"West Germany\",\"United Kingdom\",\"United States\",\"United States\",\"Czech Republic\",\"Brazil\",\"United States\",\"United States\",\"United States\",\"Canada\",\"Mexico\",\"United States\",\"Japan\",\"Syria\",\"South Africa\",\"United States\",\"Germany\",\"China\",\"New Zealand\",\"United States\",\"United States\",\"Germany\",\"United States\",\"Canada\",\"United Kingdom\",\"Japan\",\"Colombia\",\"Canada\",\"Canada\",\"United Kingdom\",\"Japan\",\"United States\",\"United Kingdom\",\"Japan\",\"Germany\",\"France\",\"Russia\",\"France\",\"United States\",\"Australia\",\"United States\",\"Hungary\",\"United Kingdom\",\"France\",\"France\",\"Israel\",\"United States\",\"South Korea\",\"Chile\",\"United States\",\"Cuba\",\"United States\",\"Canada\",\"Germany\",\"United States\",\"Canada\",\"United Kingdom\",\"Italy\",\"United States\",\"Ireland\",\"Mexico\",\"France\",\"Azerbaijan\",\"United States\",\"United Kingdom\",\"United Kingdom\",\"United States\",\"United States\",\"United Kingdom\",\"France\",\"Japan\",\"France\",\"New Zealand\",\"New Zealand\",\"New Zealand\",\"France\",\"Netherlands\",\"France\",\"Ireland\",\"Japan\",\"South Africa\",\"United States\",\"Mexico\",\"Colombia\",\"Canada\",\"United States\",\"South Korea\",\"United States\",\"United States\",\"Australia\",\"United States\",\"Germany\",\"United States\",\"United States\",\"Canada\",\"Canada\",\"United States\",\"United States\",\"Canada\",\"France\",\"United Kingdom\",\"Indonesia\",\"Japan\",\"France\",\"United States\",\"Germany\",\"United States\",\"United Kingdom\",\"Ireland\",\"United States\",\"Canada\",\"Denmark\",\"Germany\",\"United States\",\"Germany\",\"Canada\",\"Spain\",\"United States\",\"France\",\"Colombia\",\"Colombia\",\"Ireland\",\"Japan\",\"Italy\",\"Denmark\",\"United States\",\"Spain\",\"Mexico\",\"United States\",\"Hong Kong\",\"United States\",\"Russia\",\"South Korea\",\"France\",\"Canada\",\"Egypt\",\"Australia\",\"Sweden\",\"South Africa\",\"United States\",\"Mexico\",\"Canada\",\"Australia\",\"Netherlands\",\"France\",\"Ireland\",\"Japan\",\"Italy\",\"China\",\"Spain\",\"France\",\"United Kingdom\",\"United States\",\"United States\",\"Japan\",\"United States\",\"Japan\",\"Japan\",\"Japan\",\"Japan\",\"Japan\",\"West Germany\",\"United States\",\"Canada\",\"China\",\"France\",\"Spain\",\"United States\",\"Italy\",\"Czech Republic\",\"South Korea\",\"Spain\",\"United States\",\"India\",\"United States\",\"Spain\",\"Malta\",\"France\",\"United States\",\"Canada\",\"United States\",\"China\",\"Colombia\",\"Mexico\",\"Lebanon\",\"United States\",\"China\",\"Canada\",\"South Africa\",\"Germany\",\"France\",\"France\",\"Australia\",\"Germany\",\"United Kingdom\",\"Indonesia\",\"India\",\"Australia\",\"Japan\",\"Kuwait\",\"Greece\",\"Luxembourg\",\"United States\",\"Greece\",\"Japan\",\"Germany\",\"Canada\",\"Canada\",\"France\",\"Ireland\"],\"xaxis\":\"x\",\"yaxis\":\"y\",\"type\":\"histogram\"}],                        {\"template\":{\"data\":{\"bar\":[{\"error_x\":{\"color\":\"#2a3f5f\"},\"error_y\":{\"color\":\"#2a3f5f\"},\"marker\":{\"line\":{\"color\":\"#E5ECF6\",\"width\":0.5},\"pattern\":{\"fillmode\":\"overlay\",\"size\":10,\"solidity\":0.2}},\"type\":\"bar\"}],\"barpolar\":[{\"marker\":{\"line\":{\"color\":\"#E5ECF6\",\"width\":0.5},\"pattern\":{\"fillmode\":\"overlay\",\"size\":10,\"solidity\":0.2}},\"type\":\"barpolar\"}],\"carpet\":[{\"aaxis\":{\"endlinecolor\":\"#2a3f5f\",\"gridcolor\":\"white\",\"linecolor\":\"white\",\"minorgridcolor\":\"white\",\"startlinecolor\":\"#2a3f5f\"},\"baxis\":{\"endlinecolor\":\"#2a3f5f\",\"gridcolor\":\"white\",\"linecolor\":\"white\",\"minorgridcolor\":\"white\",\"startlinecolor\":\"#2a3f5f\"},\"type\":\"carpet\"}],\"choropleth\":[{\"colorbar\":{\"outlinewidth\":0,\"ticks\":\"\"},\"type\":\"choropleth\"}],\"contour\":[{\"colorbar\":{\"outlinewidth\":0,\"ticks\":\"\"},\"colorscale\":[[0.0,\"#0d0887\"],[0.1111111111111111,\"#46039f\"],[0.2222222222222222,\"#7201a8\"],[0.3333333333333333,\"#9c179e\"],[0.4444444444444444,\"#bd3786\"],[0.5555555555555556,\"#d8576b\"],[0.6666666666666666,\"#ed7953\"],[0.7777777777777778,\"#fb9f3a\"],[0.8888888888888888,\"#fdca26\"],[1.0,\"#f0f921\"]],\"type\":\"contour\"}],\"contourcarpet\":[{\"colorbar\":{\"outlinewidth\":0,\"ticks\":\"\"},\"type\":\"contourcarpet\"}],\"heatmap\":[{\"colorbar\":{\"outlinewidth\":0,\"ticks\":\"\"},\"colorscale\":[[0.0,\"#0d0887\"],[0.1111111111111111,\"#46039f\"],[0.2222222222222222,\"#7201a8\"],[0.3333333333333333,\"#9c179e\"],[0.4444444444444444,\"#bd3786\"],[0.5555555555555556,\"#d8576b\"],[0.6666666666666666,\"#ed7953\"],[0.7777777777777778,\"#fb9f3a\"],[0.8888888888888888,\"#fdca26\"],[1.0,\"#f0f921\"]],\"type\":\"heatmap\"}],\"heatmapgl\":[{\"colorbar\":{\"outlinewidth\":0,\"ticks\":\"\"},\"colorscale\":[[0.0,\"#0d0887\"],[0.1111111111111111,\"#46039f\"],[0.2222222222222222,\"#7201a8\"],[0.3333333333333333,\"#9c179e\"],[0.4444444444444444,\"#bd3786\"],[0.5555555555555556,\"#d8576b\"],[0.6666666666666666,\"#ed7953\"],[0.7777777777777778,\"#fb9f3a\"],[0.8888888888888888,\"#fdca26\"],[1.0,\"#f0f921\"]],\"type\":\"heatmapgl\"}],\"histogram\":[{\"marker\":{\"pattern\":{\"fillmode\":\"overlay\",\"size\":10,\"solidity\":0.2}},\"type\":\"histogram\"}],\"histogram2d\":[{\"colorbar\":{\"outlinewidth\":0,\"ticks\":\"\"},\"colorscale\":[[0.0,\"#0d0887\"],[0.1111111111111111,\"#46039f\"],[0.2222222222222222,\"#7201a8\"],[0.3333333333333333,\"#9c179e\"],[0.4444444444444444,\"#bd3786\"],[0.5555555555555556,\"#d8576b\"],[0.6666666666666666,\"#ed7953\"],[0.7777777777777778,\"#fb9f3a\"],[0.8888888888888888,\"#fdca26\"],[1.0,\"#f0f921\"]],\"type\":\"histogram2d\"}],\"histogram2dcontour\":[{\"colorbar\":{\"outlinewidth\":0,\"ticks\":\"\"},\"colorscale\":[[0.0,\"#0d0887\"],[0.1111111111111111,\"#46039f\"],[0.2222222222222222,\"#7201a8\"],[0.3333333333333333,\"#9c179e\"],[0.4444444444444444,\"#bd3786\"],[0.5555555555555556,\"#d8576b\"],[0.6666666666666666,\"#ed7953\"],[0.7777777777777778,\"#fb9f3a\"],[0.8888888888888888,\"#fdca26\"],[1.0,\"#f0f921\"]],\"type\":\"histogram2dcontour\"}],\"mesh3d\":[{\"colorbar\":{\"outlinewidth\":0,\"ticks\":\"\"},\"type\":\"mesh3d\"}],\"parcoords\":[{\"line\":{\"colorbar\":{\"outlinewidth\":0,\"ticks\":\"\"}},\"type\":\"parcoords\"}],\"pie\":[{\"automargin\":true,\"type\":\"pie\"}],\"scatter\":[{\"marker\":{\"colorbar\":{\"outlinewidth\":0,\"ticks\":\"\"}},\"type\":\"scatter\"}],\"scatter3d\":[{\"line\":{\"colorbar\":{\"outlinewidth\":0,\"ticks\":\"\"}},\"marker\":{\"colorbar\":{\"outlinewidth\":0,\"ticks\":\"\"}},\"type\":\"scatter3d\"}],\"scattercarpet\":[{\"marker\":{\"colorbar\":{\"outlinewidth\":0,\"ticks\":\"\"}},\"type\":\"scattercarpet\"}],\"scattergeo\":[{\"marker\":{\"colorbar\":{\"outlinewidth\":0,\"ticks\":\"\"}},\"type\":\"scattergeo\"}],\"scattergl\":[{\"marker\":{\"colorbar\":{\"outlinewidth\":0,\"ticks\":\"\"}},\"type\":\"scattergl\"}],\"scattermapbox\":[{\"marker\":{\"colorbar\":{\"outlinewidth\":0,\"ticks\":\"\"}},\"type\":\"scattermapbox\"}],\"scatterpolar\":[{\"marker\":{\"colorbar\":{\"outlinewidth\":0,\"ticks\":\"\"}},\"type\":\"scatterpolar\"}],\"scatterpolargl\":[{\"marker\":{\"colorbar\":{\"outlinewidth\":0,\"ticks\":\"\"}},\"type\":\"scatterpolargl\"}],\"scatterternary\":[{\"marker\":{\"colorbar\":{\"outlinewidth\":0,\"ticks\":\"\"}},\"type\":\"scatterternary\"}],\"surface\":[{\"colorbar\":{\"outlinewidth\":0,\"ticks\":\"\"},\"colorscale\":[[0.0,\"#0d0887\"],[0.1111111111111111,\"#46039f\"],[0.2222222222222222,\"#7201a8\"],[0.3333333333333333,\"#9c179e\"],[0.4444444444444444,\"#bd3786\"],[0.5555555555555556,\"#d8576b\"],[0.6666666666666666,\"#ed7953\"],[0.7777777777777778,\"#fb9f3a\"],[0.8888888888888888,\"#fdca26\"],[1.0,\"#f0f921\"]],\"type\":\"surface\"}],\"table\":[{\"cells\":{\"fill\":{\"color\":\"#EBF0F8\"},\"line\":{\"color\":\"white\"}},\"header\":{\"fill\":{\"color\":\"#C8D4E3\"},\"line\":{\"color\":\"white\"}},\"type\":\"table\"}]},\"layout\":{\"annotationdefaults\":{\"arrowcolor\":\"#2a3f5f\",\"arrowhead\":0,\"arrowwidth\":1},\"autotypenumbers\":\"strict\",\"coloraxis\":{\"colorbar\":{\"outlinewidth\":0,\"ticks\":\"\"}},\"colorscale\":{\"diverging\":[[0,\"#8e0152\"],[0.1,\"#c51b7d\"],[0.2,\"#de77ae\"],[0.3,\"#f1b6da\"],[0.4,\"#fde0ef\"],[0.5,\"#f7f7f7\"],[0.6,\"#e6f5d0\"],[0.7,\"#b8e186\"],[0.8,\"#7fbc41\"],[0.9,\"#4d9221\"],[1,\"#276419\"]],\"sequential\":[[0.0,\"#0d0887\"],[0.1111111111111111,\"#46039f\"],[0.2222222222222222,\"#7201a8\"],[0.3333333333333333,\"#9c179e\"],[0.4444444444444444,\"#bd3786\"],[0.5555555555555556,\"#d8576b\"],[0.6666666666666666,\"#ed7953\"],[0.7777777777777778,\"#fb9f3a\"],[0.8888888888888888,\"#fdca26\"],[1.0,\"#f0f921\"]],\"sequentialminus\":[[0.0,\"#0d0887\"],[0.1111111111111111,\"#46039f\"],[0.2222222222222222,\"#7201a8\"],[0.3333333333333333,\"#9c179e\"],[0.4444444444444444,\"#bd3786\"],[0.5555555555555556,\"#d8576b\"],[0.6666666666666666,\"#ed7953\"],[0.7777777777777778,\"#fb9f3a\"],[0.8888888888888888,\"#fdca26\"],[1.0,\"#f0f921\"]]},\"colorway\":[\"#636efa\",\"#EF553B\",\"#00cc96\",\"#ab63fa\",\"#FFA15A\",\"#19d3f3\",\"#FF6692\",\"#B6E880\",\"#FF97FF\",\"#FECB52\"],\"font\":{\"color\":\"#2a3f5f\"},\"geo\":{\"bgcolor\":\"white\",\"lakecolor\":\"white\",\"landcolor\":\"#E5ECF6\",\"showlakes\":true,\"showland\":true,\"subunitcolor\":\"white\"},\"hoverlabel\":{\"align\":\"left\"},\"hovermode\":\"closest\",\"mapbox\":{\"style\":\"light\"},\"paper_bgcolor\":\"white\",\"plot_bgcolor\":\"#E5ECF6\",\"polar\":{\"angularaxis\":{\"gridcolor\":\"white\",\"linecolor\":\"white\",\"ticks\":\"\"},\"bgcolor\":\"#E5ECF6\",\"radialaxis\":{\"gridcolor\":\"white\",\"linecolor\":\"white\",\"ticks\":\"\"}},\"scene\":{\"xaxis\":{\"backgroundcolor\":\"#E5ECF6\",\"gridcolor\":\"white\",\"gridwidth\":2,\"linecolor\":\"white\",\"showbackground\":true,\"ticks\":\"\",\"zerolinecolor\":\"white\"},\"yaxis\":{\"backgroundcolor\":\"#E5ECF6\",\"gridcolor\":\"white\",\"gridwidth\":2,\"linecolor\":\"white\",\"showbackground\":true,\"ticks\":\"\",\"zerolinecolor\":\"white\"},\"zaxis\":{\"backgroundcolor\":\"#E5ECF6\",\"gridcolor\":\"white\",\"gridwidth\":2,\"linecolor\":\"white\",\"showbackground\":true,\"ticks\":\"\",\"zerolinecolor\":\"white\"}},\"shapedefaults\":{\"line\":{\"color\":\"#2a3f5f\"}},\"ternary\":{\"aaxis\":{\"gridcolor\":\"white\",\"linecolor\":\"white\",\"ticks\":\"\"},\"baxis\":{\"gridcolor\":\"white\",\"linecolor\":\"white\",\"ticks\":\"\"},\"bgcolor\":\"#E5ECF6\",\"caxis\":{\"gridcolor\":\"white\",\"linecolor\":\"white\",\"ticks\":\"\"}},\"title\":{\"x\":0.05},\"xaxis\":{\"automargin\":true,\"gridcolor\":\"white\",\"linecolor\":\"white\",\"ticks\":\"\",\"title\":{\"standoff\":15},\"zerolinecolor\":\"white\",\"zerolinewidth\":2},\"yaxis\":{\"automargin\":true,\"gridcolor\":\"white\",\"linecolor\":\"white\",\"ticks\":\"\",\"title\":{\"standoff\":15},\"zerolinecolor\":\"white\",\"zerolinewidth\":2}}},\"xaxis\":{\"anchor\":\"y\",\"domain\":[0.0,1.0],\"title\":{\"text\":\"country\"},\"categoryorder\":\"total descending\"},\"yaxis\":{\"anchor\":\"x\",\"domain\":[0.0,1.0],\"title\":{\"text\":\"count\"}},\"legend\":{\"title\":{\"text\":\"type\"},\"tracegroupgap\":0},\"margin\":{\"t\":60},\"barmode\":\"relative\"},                        {\"responsive\": true}                    ).then(function(){\n",
              "                            \n",
              "var gd = document.getElementById('7d6d2b64-b4ce-46b5-940b-042c5f798278');\n",
              "var x = new MutationObserver(function (mutations, observer) {{\n",
              "        var display = window.getComputedStyle(gd).display;\n",
              "        if (!display || display === 'none') {{\n",
              "            console.log([gd, 'removed!']);\n",
              "            Plotly.purge(gd);\n",
              "            observer.disconnect();\n",
              "        }}\n",
              "}});\n",
              "\n",
              "// Listen for the removal of the full notebook cells\n",
              "var notebookContainer = gd.closest('#notebook-container');\n",
              "if (notebookContainer) {{\n",
              "    x.observe(notebookContainer, {childList: true});\n",
              "}}\n",
              "\n",
              "// Listen for the clearing of the current output cell\n",
              "var outputEl = gd.closest('.output');\n",
              "if (outputEl) {{\n",
              "    x.observe(outputEl, {childList: true});\n",
              "}}\n",
              "\n",
              "                        })                };                            </script>        </div>\n",
              "</body>\n",
              "</html>"
            ]
          },
          "metadata": {}
        }
      ]
    },
    {
      "cell_type": "markdown",
      "source": [
        "### 날짜별"
      ],
      "metadata": {
        "id": "Cvib6CjoNMDT"
      }
    },
    {
      "cell_type": "markdown",
      "source": [
        "#### release year 시각화"
      ],
      "metadata": {
        "id": "sLTZ4K7jz3Hv"
      }
    },
    {
      "cell_type": "code",
      "source": [
        "# release_year column 시각화\n",
        "\n",
        "px.histogram(netflix, x = \"release_year\", color = \"release_year\")"
      ],
      "metadata": {
        "id": "utLUsbQSO3TB",
        "colab": {
          "base_uri": "https://localhost:8080/",
          "height": 542
        },
        "outputId": "45fc3ce1-93c7-42a5-a82e-e921ceb8d876"
      },
      "execution_count": null,
      "outputs": [
        {
          "output_type": "display_data",
          "data": {
            "text/html": [
              "<html>\n",
              "<head><meta charset=\"utf-8\" /></head>\n",
              "<body>\n",
              "    <div>            <script src=\"https://cdnjs.cloudflare.com/ajax/libs/mathjax/2.7.5/MathJax.js?config=TeX-AMS-MML_SVG\"></script><script type=\"text/javascript\">if (window.MathJax) {MathJax.Hub.Config({SVG: {font: \"STIX-Web\"}});}</script>                <script type=\"text/javascript\">window.PlotlyConfig = {MathJaxConfig: 'local'};</script>\n",
              "        <script src=\"https://cdn.plot.ly/plotly-2.8.3.min.js\"></script>                <div id=\"3d9d41eb-0486-443d-a014-8a51a86737b2\" class=\"plotly-graph-div\" style=\"height:525px; width:100%;\"></div>            <script type=\"text/javascript\">                                    window.PLOTLYENV=window.PLOTLYENV || {};                                    if (document.getElementById(\"3d9d41eb-0486-443d-a014-8a51a86737b2\")) {                    Plotly.newPlot(                        \"3d9d41eb-0486-443d-a014-8a51a86737b2\",                        [{\"alignmentgroup\":\"True\",\"bingroup\":\"x\",\"hovertemplate\":\"release_year=%{x}<br>count=%{y}<extra></extra>\",\"legendgroup\":\"2020\",\"marker\":{\"color\":\"#636efa\",\"pattern\":{\"shape\":\"\"}},\"name\":\"2020\",\"offsetgroup\":\"2020\",\"orientation\":\"v\",\"showlegend\":true,\"x\":[2020,2020,2020,2020,2020,2020,2020,2020,2020,2020,2020,2020,2020,2020,2020,2020,2020,2020,2020,2020,2020,2020,2020,2020,2020,2020,2020,2020,2020,2020,2020,2020,2020,2020,2020,2020,2020,2020,2020,2020,2020,2020,2020,2020,2020,2020,2020,2020,2020,2020,2020,2020,2020,2020,2020,2020,2020,2020,2020,2020,2020,2020,2020,2020,2020,2020,2020,2020,2020,2020,2020,2020,2020,2020,2020,2020,2020,2020,2020,2020,2020,2020,2020,2020,2020,2020,2020,2020,2020,2020,2020,2020,2020,2020,2020,2020,2020,2020,2020,2020,2020,2020,2020,2020,2020,2020,2020,2020,2020,2020,2020,2020,2020,2020,2020,2020,2020,2020,2020,2020,2020,2020,2020,2020,2020,2020,2020,2020,2020,2020,2020,2020,2020,2020,2020,2020,2020,2020,2020,2020,2020,2020,2020,2020,2020,2020,2020,2020,2020,2020,2020,2020,2020,2020,2020,2020,2020,2020,2020,2020,2020,2020,2020,2020,2020,2020,2020,2020,2020,2020,2020,2020,2020,2020,2020,2020,2020,2020,2020,2020,2020,2020,2020,2020,2020,2020,2020,2020,2020,2020,2020,2020,2020,2020,2020,2020,2020,2020,2020,2020,2020,2020,2020,2020,2020,2020,2020,2020,2020,2020,2020,2020,2020,2020,2020,2020,2020,2020,2020,2020,2020,2020,2020,2020,2020,2020,2020,2020,2020,2020,2020,2020,2020,2020,2020,2020,2020,2020,2020,2020,2020,2020,2020,2020,2020,2020,2020,2020,2020,2020,2020,2020,2020,2020,2020,2020,2020,2020,2020,2020,2020,2020,2020,2020,2020,2020,2020,2020,2020,2020,2020,2020,2020,2020,2020,2020,2020,2020,2020,2020,2020,2020,2020,2020,2020,2020,2020,2020,2020,2020,2020,2020,2020,2020,2020,2020,2020,2020,2020,2020,2020,2020,2020,2020,2020,2020,2020,2020,2020,2020,2020,2020,2020,2020,2020,2020,2020,2020,2020,2020,2020,2020,2020,2020,2020,2020,2020,2020,2020,2020,2020,2020,2020,2020,2020,2020,2020,2020,2020,2020,2020,2020,2020,2020,2020,2020,2020,2020,2020,2020,2020,2020,2020,2020,2020,2020,2020,2020,2020,2020,2020,2020,2020,2020,2020,2020,2020,2020,2020,2020,2020,2020,2020,2020,2020,2020,2020,2020,2020,2020,2020,2020,2020,2020,2020,2020,2020,2020,2020,2020,2020,2020,2020,2020,2020,2020,2020,2020,2020,2020,2020,2020,2020,2020,2020,2020,2020,2020,2020,2020,2020,2020,2020,2020,2020,2020,2020,2020,2020,2020,2020,2020,2020,2020,2020,2020,2020,2020,2020,2020,2020,2020,2020,2020,2020,2020,2020,2020,2020,2020,2020,2020,2020,2020,2020,2020,2020,2020,2020,2020,2020,2020,2020,2020,2020,2020,2020,2020,2020,2020,2020,2020,2020,2020,2020,2020,2020,2020,2020,2020,2020,2020,2020,2020,2020,2020,2020,2020,2020,2020,2020,2020,2020,2020,2020,2020,2020,2020,2020,2020,2020,2020,2020,2020,2020,2020,2020,2020,2020,2020,2020,2020,2020,2020,2020,2020,2020,2020,2020,2020,2020,2020,2020,2020,2020,2020,2020,2020,2020,2020,2020,2020,2020,2020,2020,2020,2020,2020,2020,2020,2020,2020,2020,2020,2020,2020,2020,2020,2020,2020,2020,2020,2020,2020,2020,2020,2020,2020,2020,2020,2020,2020,2020,2020,2020,2020,2020,2020,2020,2020,2020,2020,2020,2020,2020,2020,2020,2020,2020,2020,2020,2020,2020,2020,2020,2020,2020,2020,2020,2020,2020,2020,2020,2020,2020,2020,2020,2020,2020,2020,2020,2020,2020,2020,2020,2020,2020,2020,2020,2020,2020,2020,2020,2020,2020,2020,2020,2020,2020,2020,2020,2020,2020,2020,2020,2020,2020,2020,2020,2020,2020,2020,2020,2020,2020,2020,2020,2020,2020,2020,2020,2020,2020,2020,2020,2020,2020,2020,2020,2020,2020,2020,2020,2020,2020,2020,2020,2020,2020,2020,2020,2020,2020,2020,2020,2020,2020,2020,2020,2020,2020,2020,2020,2020,2020,2020,2020,2020,2020,2020,2020,2020,2020,2020,2020,2020,2020,2020,2020,2020,2020,2020,2020,2020,2020,2020,2020,2020,2020,2020,2020,2020,2020,2020,2020,2020,2020,2020,2020,2020,2020,2020,2020,2020,2020,2020,2020,2020,2020,2020,2020,2020,2020,2020,2020,2020,2020,2020,2020,2020,2020,2020,2020,2020,2020,2020,2020,2020,2020,2020,2020,2020,2020,2020,2020,2020,2020,2020,2020,2020,2020,2020,2020,2020,2020,2020,2020,2020,2020,2020,2020,2020,2020,2020,2020,2020,2020,2020,2020,2020,2020,2020,2020,2020,2020,2020,2020,2020,2020,2020,2020,2020,2020,2020,2020,2020,2020,2020,2020,2020,2020,2020,2020,2020,2020,2020,2020,2020,2020,2020,2020,2020,2020,2020,2020,2020,2020,2020,2020,2020,2020,2020,2020,2020,2020,2020,2020,2020,2020,2020,2020,2020,2020,2020,2020,2020,2020,2020,2020,2020,2020,2020,2020,2020,2020,2020,2020,2020,2020,2020,2020,2020,2020,2020,2020,2020,2020,2020,2020,2020,2020,2020,2020,2020,2020,2020,2020,2020,2020,2020,2020,2020,2020,2020,2020,2020,2020,2020,2020,2020,2020,2020,2020,2020,2020,2020,2020,2020,2020,2020,2020,2020,2020,2020,2020,2020,2020,2020,2020,2020,2020,2020,2020,2020,2020,2020,2020,2020,2020,2020,2020,2020,2020,2020,2020,2020,2020,2020,2020,2020,2020,2020,2020,2020,2020,2020,2020,2020,2020,2020,2020,2020,2020,2020,2020,2020,2020,2020,2020,2020,2020,2020,2020,2020,2020,2020,2020,2020,2020,2020,2020,2020,2020,2020,2020,2020,2020,2020,2020,2020,2020,2020,2020,2020,2020,2020,2020,2020,2020,2020,2020,2020,2020],\"xaxis\":\"x\",\"yaxis\":\"y\",\"type\":\"histogram\"},{\"alignmentgroup\":\"True\",\"bingroup\":\"x\",\"hovertemplate\":\"release_year=%{x}<br>count=%{y}<extra></extra>\",\"legendgroup\":\"2021\",\"marker\":{\"color\":\"#EF553B\",\"pattern\":{\"shape\":\"\"}},\"name\":\"2021\",\"offsetgroup\":\"2021\",\"orientation\":\"v\",\"showlegend\":true,\"x\":[2021,2021,2021,2021,2021,2021,2021,2021,2021,2021,2021,2021,2021,2021,2021,2021,2021,2021,2021,2021,2021,2021,2021,2021,2021,2021,2021,2021,2021,2021,2021,2021,2021,2021,2021,2021,2021,2021,2021,2021,2021,2021,2021,2021,2021,2021,2021,2021,2021,2021,2021,2021,2021,2021,2021,2021,2021,2021,2021,2021,2021,2021,2021,2021,2021,2021,2021,2021,2021,2021,2021,2021,2021,2021,2021,2021,2021,2021,2021,2021,2021,2021,2021,2021,2021,2021,2021,2021,2021,2021,2021,2021,2021,2021,2021,2021,2021,2021,2021,2021,2021,2021,2021,2021,2021,2021,2021,2021,2021,2021,2021,2021,2021,2021,2021,2021,2021,2021,2021,2021,2021,2021,2021,2021,2021,2021,2021,2021,2021,2021,2021,2021,2021,2021,2021,2021,2021,2021,2021,2021,2021,2021,2021,2021,2021,2021,2021,2021,2021,2021,2021,2021,2021,2021,2021,2021,2021,2021,2021,2021,2021,2021,2021,2021,2021,2021,2021,2021,2021,2021,2021,2021,2021,2021,2021,2021,2021,2021,2021,2021,2021,2021,2021,2021,2021,2021,2021,2021,2021,2021,2021,2021,2021,2021,2021,2021,2021,2021,2021,2021,2021,2021,2021,2021,2021,2021,2021,2021,2021,2021,2021,2021,2021,2021,2021,2021,2021,2021,2021,2021,2021,2021,2021,2021,2021,2021,2021,2021,2021,2021,2021,2021,2021,2021,2021,2021,2021,2021,2021,2021,2021,2021,2021,2021,2021,2021,2021,2021,2021,2021,2021,2021,2021,2021,2021,2021,2021,2021,2021,2021,2021,2021,2021,2021,2021,2021,2021,2021,2021,2021,2021,2021,2021,2021,2021,2021,2021,2021,2021,2021,2021,2021,2021,2021,2021,2021,2021,2021,2021,2021,2021,2021,2021,2021,2021,2021,2021,2021,2021,2021,2021,2021,2021,2021,2021,2021,2021,2021,2021,2021,2021,2021,2021,2021,2021,2021,2021,2021,2021,2021,2021,2021,2021,2021,2021,2021,2021,2021,2021,2021,2021,2021,2021,2021,2021,2021,2021,2021,2021,2021,2021,2021,2021,2021,2021,2021,2021,2021,2021,2021,2021,2021,2021,2021,2021,2021,2021,2021,2021,2021,2021,2021,2021,2021,2021,2021,2021,2021,2021,2021,2021,2021,2021,2021,2021,2021,2021,2021,2021,2021,2021,2021,2021,2021,2021,2021,2021,2021,2021,2021,2021,2021,2021,2021,2021,2021,2021,2021,2021,2021,2021,2021,2021,2021,2021,2021,2021,2021,2021,2021,2021,2021,2021,2021,2021,2021,2021,2021,2021,2021,2021,2021,2021,2021,2021,2021,2021,2021,2021,2021,2021,2021,2021,2021,2021,2021,2021,2021,2021,2021,2021,2021,2021,2021,2021,2021,2021,2021,2021,2021,2021,2021,2021,2021,2021,2021,2021,2021,2021,2021,2021,2021,2021,2021,2021,2021,2021,2021,2021,2021,2021,2021,2021,2021,2021,2021,2021,2021,2021,2021,2021,2021,2021,2021,2021,2021,2021,2021,2021,2021,2021,2021,2021,2021,2021,2021,2021,2021,2021,2021,2021,2021,2021,2021,2021,2021,2021,2021,2021,2021,2021,2021,2021,2021,2021,2021,2021,2021,2021,2021,2021,2021,2021,2021,2021,2021,2021,2021,2021,2021,2021,2021,2021,2021,2021,2021,2021,2021,2021,2021,2021,2021,2021,2021,2021,2021,2021,2021,2021,2021,2021,2021,2021,2021,2021,2021,2021,2021,2021,2021,2021,2021,2021,2021,2021,2021,2021,2021,2021,2021,2021,2021,2021,2021,2021,2021,2021,2021,2021,2021,2021,2021,2021,2021,2021,2021,2021,2021,2021,2021,2021,2021],\"xaxis\":\"x\",\"yaxis\":\"y\",\"type\":\"histogram\"},{\"alignmentgroup\":\"True\",\"bingroup\":\"x\",\"hovertemplate\":\"release_year=%{x}<br>count=%{y}<extra></extra>\",\"legendgroup\":\"1993\",\"marker\":{\"color\":\"#00cc96\",\"pattern\":{\"shape\":\"\"}},\"name\":\"1993\",\"offsetgroup\":\"1993\",\"orientation\":\"v\",\"showlegend\":true,\"x\":[1993,1993,1993,1993,1993,1993,1993,1993,1993,1993,1993,1993,1993,1993,1993,1993,1993,1993,1993,1993,1993,1993,1993,1993,1993,1993,1993,1993],\"xaxis\":\"x\",\"yaxis\":\"y\",\"type\":\"histogram\"},{\"alignmentgroup\":\"True\",\"bingroup\":\"x\",\"hovertemplate\":\"release_year=%{x}<br>count=%{y}<extra></extra>\",\"legendgroup\":\"2018\",\"marker\":{\"color\":\"#ab63fa\",\"pattern\":{\"shape\":\"\"}},\"name\":\"2018\",\"offsetgroup\":\"2018\",\"orientation\":\"v\",\"showlegend\":true,\"x\":[2018,2018,2018,2018,2018,2018,2018,2018,2018,2018,2018,2018,2018,2018,2018,2018,2018,2018,2018,2018,2018,2018,2018,2018,2018,2018,2018,2018,2018,2018,2018,2018,2018,2018,2018,2018,2018,2018,2018,2018,2018,2018,2018,2018,2018,2018,2018,2018,2018,2018,2018,2018,2018,2018,2018,2018,2018,2018,2018,2018,2018,2018,2018,2018,2018,2018,2018,2018,2018,2018,2018,2018,2018,2018,2018,2018,2018,2018,2018,2018,2018,2018,2018,2018,2018,2018,2018,2018,2018,2018,2018,2018,2018,2018,2018,2018,2018,2018,2018,2018,2018,2018,2018,2018,2018,2018,2018,2018,2018,2018,2018,2018,2018,2018,2018,2018,2018,2018,2018,2018,2018,2018,2018,2018,2018,2018,2018,2018,2018,2018,2018,2018,2018,2018,2018,2018,2018,2018,2018,2018,2018,2018,2018,2018,2018,2018,2018,2018,2018,2018,2018,2018,2018,2018,2018,2018,2018,2018,2018,2018,2018,2018,2018,2018,2018,2018,2018,2018,2018,2018,2018,2018,2018,2018,2018,2018,2018,2018,2018,2018,2018,2018,2018,2018,2018,2018,2018,2018,2018,2018,2018,2018,2018,2018,2018,2018,2018,2018,2018,2018,2018,2018,2018,2018,2018,2018,2018,2018,2018,2018,2018,2018,2018,2018,2018,2018,2018,2018,2018,2018,2018,2018,2018,2018,2018,2018,2018,2018,2018,2018,2018,2018,2018,2018,2018,2018,2018,2018,2018,2018,2018,2018,2018,2018,2018,2018,2018,2018,2018,2018,2018,2018,2018,2018,2018,2018,2018,2018,2018,2018,2018,2018,2018,2018,2018,2018,2018,2018,2018,2018,2018,2018,2018,2018,2018,2018,2018,2018,2018,2018,2018,2018,2018,2018,2018,2018,2018,2018,2018,2018,2018,2018,2018,2018,2018,2018,2018,2018,2018,2018,2018,2018,2018,2018,2018,2018,2018,2018,2018,2018,2018,2018,2018,2018,2018,2018,2018,2018,2018,2018,2018,2018,2018,2018,2018,2018,2018,2018,2018,2018,2018,2018,2018,2018,2018,2018,2018,2018,2018,2018,2018,2018,2018,2018,2018,2018,2018,2018,2018,2018,2018,2018,2018,2018,2018,2018,2018,2018,2018,2018,2018,2018,2018,2018,2018,2018,2018,2018,2018,2018,2018,2018,2018,2018,2018,2018,2018,2018,2018,2018,2018,2018,2018,2018,2018,2018,2018,2018,2018,2018,2018,2018,2018,2018,2018,2018,2018,2018,2018,2018,2018,2018,2018,2018,2018,2018,2018,2018,2018,2018,2018,2018,2018,2018,2018,2018,2018,2018,2018,2018,2018,2018,2018,2018,2018,2018,2018,2018,2018,2018,2018,2018,2018,2018,2018,2018,2018,2018,2018,2018,2018,2018,2018,2018,2018,2018,2018,2018,2018,2018,2018,2018,2018,2018,2018,2018,2018,2018,2018,2018,2018,2018,2018,2018,2018,2018,2018,2018,2018,2018,2018,2018,2018,2018,2018,2018,2018,2018,2018,2018,2018,2018,2018,2018,2018,2018,2018,2018,2018,2018,2018,2018,2018,2018,2018,2018,2018,2018,2018,2018,2018,2018,2018,2018,2018,2018,2018,2018,2018,2018,2018,2018,2018,2018,2018,2018,2018,2018,2018,2018,2018,2018,2018,2018,2018,2018,2018,2018,2018,2018,2018,2018,2018,2018,2018,2018,2018,2018,2018,2018,2018,2018,2018,2018,2018,2018,2018,2018,2018,2018,2018,2018,2018,2018,2018,2018,2018,2018,2018,2018,2018,2018,2018,2018,2018,2018,2018,2018,2018,2018,2018,2018,2018,2018,2018,2018,2018,2018,2018,2018,2018,2018,2018,2018,2018,2018,2018,2018,2018,2018,2018,2018,2018,2018,2018,2018,2018,2018,2018,2018,2018,2018,2018,2018,2018,2018,2018,2018,2018,2018,2018,2018,2018,2018,2018,2018,2018,2018,2018,2018,2018,2018,2018,2018,2018,2018,2018,2018,2018,2018,2018,2018,2018,2018,2018,2018,2018,2018,2018,2018,2018,2018,2018,2018,2018,2018,2018,2018,2018,2018,2018,2018,2018,2018,2018,2018,2018,2018,2018,2018,2018,2018,2018,2018,2018,2018,2018,2018,2018,2018,2018,2018,2018,2018,2018,2018,2018,2018,2018,2018,2018,2018,2018,2018,2018,2018,2018,2018,2018,2018,2018,2018,2018,2018,2018,2018,2018,2018,2018,2018,2018,2018,2018,2018,2018,2018,2018,2018,2018,2018,2018,2018,2018,2018,2018,2018,2018,2018,2018,2018,2018,2018,2018,2018,2018,2018,2018,2018,2018,2018,2018,2018,2018,2018,2018,2018,2018,2018,2018,2018,2018,2018,2018,2018,2018,2018,2018,2018,2018,2018,2018,2018,2018,2018,2018,2018,2018,2018,2018,2018,2018,2018,2018,2018,2018,2018,2018,2018,2018,2018,2018,2018,2018,2018,2018,2018,2018,2018,2018,2018,2018,2018,2018,2018,2018,2018,2018,2018,2018,2018,2018,2018,2018,2018,2018,2018,2018,2018,2018,2018,2018,2018,2018,2018,2018,2018,2018,2018,2018,2018,2018,2018,2018,2018,2018,2018,2018,2018,2018,2018,2018,2018,2018,2018,2018,2018,2018,2018,2018,2018,2018,2018,2018,2018,2018,2018,2018,2018,2018,2018,2018,2018,2018,2018,2018,2018,2018,2018,2018,2018,2018,2018,2018,2018,2018,2018,2018,2018,2018,2018,2018,2018,2018,2018,2018,2018,2018,2018,2018,2018,2018,2018,2018,2018,2018,2018,2018,2018,2018,2018,2018,2018,2018,2018,2018,2018,2018,2018,2018,2018,2018,2018,2018,2018,2018,2018,2018,2018,2018,2018,2018,2018,2018,2018,2018,2018,2018,2018,2018,2018,2018,2018,2018,2018,2018,2018,2018,2018,2018,2018,2018,2018,2018,2018,2018,2018,2018,2018,2018,2018,2018,2018,2018,2018,2018,2018,2018,2018,2018,2018,2018,2018,2018,2018,2018,2018,2018,2018,2018,2018,2018,2018,2018,2018,2018,2018,2018,2018,2018,2018,2018,2018,2018,2018,2018,2018,2018,2018,2018,2018,2018,2018,2018,2018,2018,2018,2018,2018,2018,2018,2018,2018,2018,2018,2018,2018,2018,2018,2018,2018,2018,2018,2018,2018,2018,2018,2018,2018,2018,2018,2018,2018,2018,2018,2018,2018,2018,2018,2018,2018,2018,2018,2018,2018,2018,2018,2018,2018,2018,2018,2018,2018,2018,2018,2018,2018,2018,2018,2018,2018,2018,2018,2018,2018,2018,2018,2018,2018,2018,2018,2018,2018,2018,2018,2018,2018,2018,2018,2018,2018,2018,2018,2018,2018,2018,2018,2018,2018,2018,2018,2018,2018,2018,2018,2018,2018,2018,2018,2018,2018,2018,2018,2018,2018,2018,2018,2018,2018,2018,2018,2018,2018,2018,2018,2018,2018,2018,2018,2018,2018,2018,2018,2018,2018,2018,2018,2018,2018,2018,2018,2018,2018,2018,2018,2018,2018,2018,2018,2018,2018,2018,2018,2018,2018,2018,2018,2018,2018,2018,2018,2018,2018,2018,2018,2018,2018,2018,2018,2018,2018,2018,2018,2018,2018,2018,2018,2018,2018,2018,2018,2018,2018,2018,2018,2018,2018,2018],\"xaxis\":\"x\",\"yaxis\":\"y\",\"type\":\"histogram\"},{\"alignmentgroup\":\"True\",\"bingroup\":\"x\",\"hovertemplate\":\"release_year=%{x}<br>count=%{y}<extra></extra>\",\"legendgroup\":\"1996\",\"marker\":{\"color\":\"#FFA15A\",\"pattern\":{\"shape\":\"\"}},\"name\":\"1996\",\"offsetgroup\":\"1996\",\"orientation\":\"v\",\"showlegend\":true,\"x\":[1996,1996,1996,1996,1996,1996,1996,1996,1996,1996,1996,1996,1996,1996,1996,1996,1996,1996,1996,1996,1996,1996,1996,1996],\"xaxis\":\"x\",\"yaxis\":\"y\",\"type\":\"histogram\"},{\"alignmentgroup\":\"True\",\"bingroup\":\"x\",\"hovertemplate\":\"release_year=%{x}<br>count=%{y}<extra></extra>\",\"legendgroup\":\"1998\",\"marker\":{\"color\":\"#19d3f3\",\"pattern\":{\"shape\":\"\"}},\"name\":\"1998\",\"offsetgroup\":\"1998\",\"orientation\":\"v\",\"showlegend\":true,\"x\":[1998,1998,1998,1998,1998,1998,1998,1998,1998,1998,1998,1998,1998,1998,1998,1998,1998,1998,1998,1998,1998,1998,1998,1998,1998,1998,1998,1998,1998,1998,1998,1998,1998,1998,1998,1998],\"xaxis\":\"x\",\"yaxis\":\"y\",\"type\":\"histogram\"},{\"alignmentgroup\":\"True\",\"bingroup\":\"x\",\"hovertemplate\":\"release_year=%{x}<br>count=%{y}<extra></extra>\",\"legendgroup\":\"1997\",\"marker\":{\"color\":\"#FF6692\",\"pattern\":{\"shape\":\"\"}},\"name\":\"1997\",\"offsetgroup\":\"1997\",\"orientation\":\"v\",\"showlegend\":true,\"x\":[1997,1997,1997,1997,1997,1997,1997,1997,1997,1997,1997,1997,1997,1997,1997,1997,1997,1997,1997,1997,1997,1997,1997,1997,1997,1997,1997,1997,1997,1997,1997,1997,1997,1997,1997,1997,1997,1997],\"xaxis\":\"x\",\"yaxis\":\"y\",\"type\":\"histogram\"},{\"alignmentgroup\":\"True\",\"bingroup\":\"x\",\"hovertemplate\":\"release_year=%{x}<br>count=%{y}<extra></extra>\",\"legendgroup\":\"2010\",\"marker\":{\"color\":\"#B6E880\",\"pattern\":{\"shape\":\"\"}},\"name\":\"2010\",\"offsetgroup\":\"2010\",\"orientation\":\"v\",\"showlegend\":true,\"x\":[2010,2010,2010,2010,2010,2010,2010,2010,2010,2010,2010,2010,2010,2010,2010,2010,2010,2010,2010,2010,2010,2010,2010,2010,2010,2010,2010,2010,2010,2010,2010,2010,2010,2010,2010,2010,2010,2010,2010,2010,2010,2010,2010,2010,2010,2010,2010,2010,2010,2010,2010,2010,2010,2010,2010,2010,2010,2010,2010,2010,2010,2010,2010,2010,2010,2010,2010,2010,2010,2010,2010,2010,2010,2010,2010,2010,2010,2010,2010,2010,2010,2010,2010,2010,2010,2010,2010,2010,2010,2010,2010,2010,2010,2010,2010,2010,2010,2010,2010,2010,2010,2010,2010,2010,2010,2010,2010,2010,2010,2010,2010,2010,2010,2010,2010,2010,2010,2010,2010,2010,2010,2010,2010,2010,2010,2010,2010,2010,2010,2010,2010,2010,2010,2010,2010,2010,2010,2010,2010,2010,2010,2010,2010,2010,2010,2010,2010,2010,2010,2010,2010,2010,2010,2010,2010,2010,2010,2010,2010,2010,2010,2010,2010,2010,2010,2010,2010,2010,2010,2010,2010,2010,2010,2010,2010,2010,2010,2010,2010,2010,2010,2010,2010,2010,2010,2010,2010,2010,2010,2010,2010,2010,2010,2010],\"xaxis\":\"x\",\"yaxis\":\"y\",\"type\":\"histogram\"},{\"alignmentgroup\":\"True\",\"bingroup\":\"x\",\"hovertemplate\":\"release_year=%{x}<br>count=%{y}<extra></extra>\",\"legendgroup\":\"2013\",\"marker\":{\"color\":\"#FF97FF\",\"pattern\":{\"shape\":\"\"}},\"name\":\"2013\",\"offsetgroup\":\"2013\",\"orientation\":\"v\",\"showlegend\":true,\"x\":[2013,2013,2013,2013,2013,2013,2013,2013,2013,2013,2013,2013,2013,2013,2013,2013,2013,2013,2013,2013,2013,2013,2013,2013,2013,2013,2013,2013,2013,2013,2013,2013,2013,2013,2013,2013,2013,2013,2013,2013,2013,2013,2013,2013,2013,2013,2013,2013,2013,2013,2013,2013,2013,2013,2013,2013,2013,2013,2013,2013,2013,2013,2013,2013,2013,2013,2013,2013,2013,2013,2013,2013,2013,2013,2013,2013,2013,2013,2013,2013,2013,2013,2013,2013,2013,2013,2013,2013,2013,2013,2013,2013,2013,2013,2013,2013,2013,2013,2013,2013,2013,2013,2013,2013,2013,2013,2013,2013,2013,2013,2013,2013,2013,2013,2013,2013,2013,2013,2013,2013,2013,2013,2013,2013,2013,2013,2013,2013,2013,2013,2013,2013,2013,2013,2013,2013,2013,2013,2013,2013,2013,2013,2013,2013,2013,2013,2013,2013,2013,2013,2013,2013,2013,2013,2013,2013,2013,2013,2013,2013,2013,2013,2013,2013,2013,2013,2013,2013,2013,2013,2013,2013,2013,2013,2013,2013,2013,2013,2013,2013,2013,2013,2013,2013,2013,2013,2013,2013,2013,2013,2013,2013,2013,2013,2013,2013,2013,2013,2013,2013,2013,2013,2013,2013,2013,2013,2013,2013,2013,2013,2013,2013,2013,2013,2013,2013,2013,2013,2013,2013,2013,2013,2013,2013,2013,2013,2013,2013,2013,2013,2013,2013,2013,2013,2013,2013,2013,2013,2013,2013,2013,2013,2013,2013,2013,2013,2013,2013,2013,2013,2013,2013,2013,2013,2013,2013,2013,2013,2013,2013,2013,2013,2013,2013,2013,2013,2013,2013,2013,2013,2013,2013,2013,2013,2013,2013,2013,2013,2013,2013,2013,2013,2013,2013,2013,2013,2013,2013],\"xaxis\":\"x\",\"yaxis\":\"y\",\"type\":\"histogram\"},{\"alignmentgroup\":\"True\",\"bingroup\":\"x\",\"hovertemplate\":\"release_year=%{x}<br>count=%{y}<extra></extra>\",\"legendgroup\":\"2017\",\"marker\":{\"color\":\"#FECB52\",\"pattern\":{\"shape\":\"\"}},\"name\":\"2017\",\"offsetgroup\":\"2017\",\"orientation\":\"v\",\"showlegend\":true,\"x\":[2017,2017,2017,2017,2017,2017,2017,2017,2017,2017,2017,2017,2017,2017,2017,2017,2017,2017,2017,2017,2017,2017,2017,2017,2017,2017,2017,2017,2017,2017,2017,2017,2017,2017,2017,2017,2017,2017,2017,2017,2017,2017,2017,2017,2017,2017,2017,2017,2017,2017,2017,2017,2017,2017,2017,2017,2017,2017,2017,2017,2017,2017,2017,2017,2017,2017,2017,2017,2017,2017,2017,2017,2017,2017,2017,2017,2017,2017,2017,2017,2017,2017,2017,2017,2017,2017,2017,2017,2017,2017,2017,2017,2017,2017,2017,2017,2017,2017,2017,2017,2017,2017,2017,2017,2017,2017,2017,2017,2017,2017,2017,2017,2017,2017,2017,2017,2017,2017,2017,2017,2017,2017,2017,2017,2017,2017,2017,2017,2017,2017,2017,2017,2017,2017,2017,2017,2017,2017,2017,2017,2017,2017,2017,2017,2017,2017,2017,2017,2017,2017,2017,2017,2017,2017,2017,2017,2017,2017,2017,2017,2017,2017,2017,2017,2017,2017,2017,2017,2017,2017,2017,2017,2017,2017,2017,2017,2017,2017,2017,2017,2017,2017,2017,2017,2017,2017,2017,2017,2017,2017,2017,2017,2017,2017,2017,2017,2017,2017,2017,2017,2017,2017,2017,2017,2017,2017,2017,2017,2017,2017,2017,2017,2017,2017,2017,2017,2017,2017,2017,2017,2017,2017,2017,2017,2017,2017,2017,2017,2017,2017,2017,2017,2017,2017,2017,2017,2017,2017,2017,2017,2017,2017,2017,2017,2017,2017,2017,2017,2017,2017,2017,2017,2017,2017,2017,2017,2017,2017,2017,2017,2017,2017,2017,2017,2017,2017,2017,2017,2017,2017,2017,2017,2017,2017,2017,2017,2017,2017,2017,2017,2017,2017,2017,2017,2017,2017,2017,2017,2017,2017,2017,2017,2017,2017,2017,2017,2017,2017,2017,2017,2017,2017,2017,2017,2017,2017,2017,2017,2017,2017,2017,2017,2017,2017,2017,2017,2017,2017,2017,2017,2017,2017,2017,2017,2017,2017,2017,2017,2017,2017,2017,2017,2017,2017,2017,2017,2017,2017,2017,2017,2017,2017,2017,2017,2017,2017,2017,2017,2017,2017,2017,2017,2017,2017,2017,2017,2017,2017,2017,2017,2017,2017,2017,2017,2017,2017,2017,2017,2017,2017,2017,2017,2017,2017,2017,2017,2017,2017,2017,2017,2017,2017,2017,2017,2017,2017,2017,2017,2017,2017,2017,2017,2017,2017,2017,2017,2017,2017,2017,2017,2017,2017,2017,2017,2017,2017,2017,2017,2017,2017,2017,2017,2017,2017,2017,2017,2017,2017,2017,2017,2017,2017,2017,2017,2017,2017,2017,2017,2017,2017,2017,2017,2017,2017,2017,2017,2017,2017,2017,2017,2017,2017,2017,2017,2017,2017,2017,2017,2017,2017,2017,2017,2017,2017,2017,2017,2017,2017,2017,2017,2017,2017,2017,2017,2017,2017,2017,2017,2017,2017,2017,2017,2017,2017,2017,2017,2017,2017,2017,2017,2017,2017,2017,2017,2017,2017,2017,2017,2017,2017,2017,2017,2017,2017,2017,2017,2017,2017,2017,2017,2017,2017,2017,2017,2017,2017,2017,2017,2017,2017,2017,2017,2017,2017,2017,2017,2017,2017,2017,2017,2017,2017,2017,2017,2017,2017,2017,2017,2017,2017,2017,2017,2017,2017,2017,2017,2017,2017,2017,2017,2017,2017,2017,2017,2017,2017,2017,2017,2017,2017,2017,2017,2017,2017,2017,2017,2017,2017,2017,2017,2017,2017,2017,2017,2017,2017,2017,2017,2017,2017,2017,2017,2017,2017,2017,2017,2017,2017,2017,2017,2017,2017,2017,2017,2017,2017,2017,2017,2017,2017,2017,2017,2017,2017,2017,2017,2017,2017,2017,2017,2017,2017,2017,2017,2017,2017,2017,2017,2017,2017,2017,2017,2017,2017,2017,2017,2017,2017,2017,2017,2017,2017,2017,2017,2017,2017,2017,2017,2017,2017,2017,2017,2017,2017,2017,2017,2017,2017,2017,2017,2017,2017,2017,2017,2017,2017,2017,2017,2017,2017,2017,2017,2017,2017,2017,2017,2017,2017,2017,2017,2017,2017,2017,2017,2017,2017,2017,2017,2017,2017,2017,2017,2017,2017,2017,2017,2017,2017,2017,2017,2017,2017,2017,2017,2017,2017,2017,2017,2017,2017,2017,2017,2017,2017,2017,2017,2017,2017,2017,2017,2017,2017,2017,2017,2017,2017,2017,2017,2017,2017,2017,2017,2017,2017,2017,2017,2017,2017,2017,2017,2017,2017,2017,2017,2017,2017,2017,2017,2017,2017,2017,2017,2017,2017,2017,2017,2017,2017,2017,2017,2017,2017,2017,2017,2017,2017,2017,2017,2017,2017,2017,2017,2017,2017,2017,2017,2017,2017,2017,2017,2017,2017,2017,2017,2017,2017,2017,2017,2017,2017,2017,2017,2017,2017,2017,2017,2017,2017,2017,2017,2017,2017,2017,2017,2017,2017,2017,2017,2017,2017,2017,2017,2017,2017,2017,2017,2017,2017,2017,2017,2017,2017,2017,2017,2017,2017,2017,2017,2017,2017,2017,2017,2017,2017,2017,2017,2017,2017,2017,2017,2017,2017,2017,2017,2017,2017,2017,2017,2017,2017,2017,2017,2017,2017,2017,2017,2017,2017,2017,2017,2017,2017,2017,2017,2017,2017,2017,2017,2017,2017,2017,2017,2017,2017,2017,2017,2017,2017,2017,2017,2017,2017,2017,2017,2017,2017,2017,2017,2017,2017,2017,2017,2017,2017,2017,2017,2017,2017,2017,2017,2017,2017,2017,2017,2017,2017,2017,2017,2017,2017,2017,2017,2017,2017,2017,2017,2017,2017,2017,2017,2017,2017,2017,2017,2017,2017,2017,2017,2017,2017,2017,2017,2017,2017,2017,2017,2017,2017,2017,2017,2017,2017,2017,2017,2017,2017,2017,2017,2017,2017,2017,2017,2017,2017,2017,2017,2017,2017,2017,2017,2017,2017,2017,2017,2017,2017,2017,2017,2017,2017,2017,2017,2017,2017,2017,2017,2017,2017,2017,2017,2017,2017,2017,2017,2017,2017,2017,2017,2017,2017,2017,2017,2017,2017,2017,2017,2017,2017,2017,2017,2017,2017,2017,2017,2017,2017,2017,2017,2017,2017,2017,2017,2017,2017,2017,2017,2017,2017,2017,2017,2017,2017,2017,2017,2017,2017,2017,2017,2017,2017,2017,2017,2017,2017,2017,2017,2017,2017,2017,2017,2017,2017,2017,2017,2017,2017,2017,2017,2017,2017,2017,2017],\"xaxis\":\"x\",\"yaxis\":\"y\",\"type\":\"histogram\"},{\"alignmentgroup\":\"True\",\"bingroup\":\"x\",\"hovertemplate\":\"release_year=%{x}<br>count=%{y}<extra></extra>\",\"legendgroup\":\"1975\",\"marker\":{\"color\":\"#636efa\",\"pattern\":{\"shape\":\"\"}},\"name\":\"1975\",\"offsetgroup\":\"1975\",\"orientation\":\"v\",\"showlegend\":true,\"x\":[1975,1975,1975,1975,1975,1975,1975],\"xaxis\":\"x\",\"yaxis\":\"y\",\"type\":\"histogram\"},{\"alignmentgroup\":\"True\",\"bingroup\":\"x\",\"hovertemplate\":\"release_year=%{x}<br>count=%{y}<extra></extra>\",\"legendgroup\":\"1978\",\"marker\":{\"color\":\"#EF553B\",\"pattern\":{\"shape\":\"\"}},\"name\":\"1978\",\"offsetgroup\":\"1978\",\"orientation\":\"v\",\"showlegend\":true,\"x\":[1978,1978,1978,1978,1978,1978,1978],\"xaxis\":\"x\",\"yaxis\":\"y\",\"type\":\"histogram\"},{\"alignmentgroup\":\"True\",\"bingroup\":\"x\",\"hovertemplate\":\"release_year=%{x}<br>count=%{y}<extra></extra>\",\"legendgroup\":\"1983\",\"marker\":{\"color\":\"#00cc96\",\"pattern\":{\"shape\":\"\"}},\"name\":\"1983\",\"offsetgroup\":\"1983\",\"orientation\":\"v\",\"showlegend\":true,\"x\":[1983,1983,1983,1983,1983,1983,1983,1983,1983,1983,1983],\"xaxis\":\"x\",\"yaxis\":\"y\",\"type\":\"histogram\"},{\"alignmentgroup\":\"True\",\"bingroup\":\"x\",\"hovertemplate\":\"release_year=%{x}<br>count=%{y}<extra></extra>\",\"legendgroup\":\"1987\",\"marker\":{\"color\":\"#ab63fa\",\"pattern\":{\"shape\":\"\"}},\"name\":\"1987\",\"offsetgroup\":\"1987\",\"orientation\":\"v\",\"showlegend\":true,\"x\":[1987,1987,1987,1987,1987,1987,1987,1987],\"xaxis\":\"x\",\"yaxis\":\"y\",\"type\":\"histogram\"},{\"alignmentgroup\":\"True\",\"bingroup\":\"x\",\"hovertemplate\":\"release_year=%{x}<br>count=%{y}<extra></extra>\",\"legendgroup\":\"2012\",\"marker\":{\"color\":\"#FFA15A\",\"pattern\":{\"shape\":\"\"}},\"name\":\"2012\",\"offsetgroup\":\"2012\",\"orientation\":\"v\",\"showlegend\":true,\"x\":[2012,2012,2012,2012,2012,2012,2012,2012,2012,2012,2012,2012,2012,2012,2012,2012,2012,2012,2012,2012,2012,2012,2012,2012,2012,2012,2012,2012,2012,2012,2012,2012,2012,2012,2012,2012,2012,2012,2012,2012,2012,2012,2012,2012,2012,2012,2012,2012,2012,2012,2012,2012,2012,2012,2012,2012,2012,2012,2012,2012,2012,2012,2012,2012,2012,2012,2012,2012,2012,2012,2012,2012,2012,2012,2012,2012,2012,2012,2012,2012,2012,2012,2012,2012,2012,2012,2012,2012,2012,2012,2012,2012,2012,2012,2012,2012,2012,2012,2012,2012,2012,2012,2012,2012,2012,2012,2012,2012,2012,2012,2012,2012,2012,2012,2012,2012,2012,2012,2012,2012,2012,2012,2012,2012,2012,2012,2012,2012,2012,2012,2012,2012,2012,2012,2012,2012,2012,2012,2012,2012,2012,2012,2012,2012,2012,2012,2012,2012,2012,2012,2012,2012,2012,2012,2012,2012,2012,2012,2012,2012,2012,2012,2012,2012,2012,2012,2012,2012,2012,2012,2012,2012,2012,2012,2012,2012,2012,2012,2012,2012,2012,2012,2012,2012,2012,2012,2012,2012,2012,2012,2012,2012,2012,2012,2012,2012,2012,2012,2012,2012,2012,2012,2012,2012,2012,2012,2012,2012,2012,2012,2012,2012,2012,2012,2012,2012,2012,2012,2012,2012,2012,2012,2012,2012,2012,2012,2012,2012,2012,2012,2012,2012,2012,2012,2012,2012,2012],\"xaxis\":\"x\",\"yaxis\":\"y\",\"type\":\"histogram\"},{\"alignmentgroup\":\"True\",\"bingroup\":\"x\",\"hovertemplate\":\"release_year=%{x}<br>count=%{y}<extra></extra>\",\"legendgroup\":\"2001\",\"marker\":{\"color\":\"#19d3f3\",\"pattern\":{\"shape\":\"\"}},\"name\":\"2001\",\"offsetgroup\":\"2001\",\"orientation\":\"v\",\"showlegend\":true,\"x\":[2001,2001,2001,2001,2001,2001,2001,2001,2001,2001,2001,2001,2001,2001,2001,2001,2001,2001,2001,2001,2001,2001,2001,2001,2001,2001,2001,2001,2001,2001,2001,2001,2001,2001,2001,2001,2001,2001,2001,2001,2001,2001,2001,2001,2001],\"xaxis\":\"x\",\"yaxis\":\"y\",\"type\":\"histogram\"},{\"alignmentgroup\":\"True\",\"bingroup\":\"x\",\"hovertemplate\":\"release_year=%{x}<br>count=%{y}<extra></extra>\",\"legendgroup\":\"2014\",\"marker\":{\"color\":\"#FF6692\",\"pattern\":{\"shape\":\"\"}},\"name\":\"2014\",\"offsetgroup\":\"2014\",\"orientation\":\"v\",\"showlegend\":true,\"x\":[2014,2014,2014,2014,2014,2014,2014,2014,2014,2014,2014,2014,2014,2014,2014,2014,2014,2014,2014,2014,2014,2014,2014,2014,2014,2014,2014,2014,2014,2014,2014,2014,2014,2014,2014,2014,2014,2014,2014,2014,2014,2014,2014,2014,2014,2014,2014,2014,2014,2014,2014,2014,2014,2014,2014,2014,2014,2014,2014,2014,2014,2014,2014,2014,2014,2014,2014,2014,2014,2014,2014,2014,2014,2014,2014,2014,2014,2014,2014,2014,2014,2014,2014,2014,2014,2014,2014,2014,2014,2014,2014,2014,2014,2014,2014,2014,2014,2014,2014,2014,2014,2014,2014,2014,2014,2014,2014,2014,2014,2014,2014,2014,2014,2014,2014,2014,2014,2014,2014,2014,2014,2014,2014,2014,2014,2014,2014,2014,2014,2014,2014,2014,2014,2014,2014,2014,2014,2014,2014,2014,2014,2014,2014,2014,2014,2014,2014,2014,2014,2014,2014,2014,2014,2014,2014,2014,2014,2014,2014,2014,2014,2014,2014,2014,2014,2014,2014,2014,2014,2014,2014,2014,2014,2014,2014,2014,2014,2014,2014,2014,2014,2014,2014,2014,2014,2014,2014,2014,2014,2014,2014,2014,2014,2014,2014,2014,2014,2014,2014,2014,2014,2014,2014,2014,2014,2014,2014,2014,2014,2014,2014,2014,2014,2014,2014,2014,2014,2014,2014,2014,2014,2014,2014,2014,2014,2014,2014,2014,2014,2014,2014,2014,2014,2014,2014,2014,2014,2014,2014,2014,2014,2014,2014,2014,2014,2014,2014,2014,2014,2014,2014,2014,2014,2014,2014,2014,2014,2014,2014,2014,2014,2014,2014,2014,2014,2014,2014,2014,2014,2014,2014,2014,2014,2014,2014,2014,2014,2014,2014,2014,2014,2014,2014,2014,2014,2014,2014,2014,2014,2014,2014,2014,2014,2014,2014,2014,2014,2014,2014,2014,2014,2014,2014,2014,2014,2014,2014,2014,2014,2014,2014,2014,2014,2014,2014,2014,2014,2014,2014,2014,2014,2014,2014,2014,2014,2014,2014,2014,2014,2014,2014,2014,2014,2014,2014,2014,2014,2014,2014,2014,2014,2014,2014,2014,2014,2014,2014,2014,2014,2014,2014,2014],\"xaxis\":\"x\",\"yaxis\":\"y\",\"type\":\"histogram\"},{\"alignmentgroup\":\"True\",\"bingroup\":\"x\",\"hovertemplate\":\"release_year=%{x}<br>count=%{y}<extra></extra>\",\"legendgroup\":\"2002\",\"marker\":{\"color\":\"#B6E880\",\"pattern\":{\"shape\":\"\"}},\"name\":\"2002\",\"offsetgroup\":\"2002\",\"orientation\":\"v\",\"showlegend\":true,\"x\":[2002,2002,2002,2002,2002,2002,2002,2002,2002,2002,2002,2002,2002,2002,2002,2002,2002,2002,2002,2002,2002,2002,2002,2002,2002,2002,2002,2002,2002,2002,2002,2002,2002,2002,2002,2002,2002,2002,2002,2002,2002,2002,2002,2002,2002,2002,2002,2002,2002,2002,2002],\"xaxis\":\"x\",\"yaxis\":\"y\",\"type\":\"histogram\"},{\"alignmentgroup\":\"True\",\"bingroup\":\"x\",\"hovertemplate\":\"release_year=%{x}<br>count=%{y}<extra></extra>\",\"legendgroup\":\"2003\",\"marker\":{\"color\":\"#FF97FF\",\"pattern\":{\"shape\":\"\"}},\"name\":\"2003\",\"offsetgroup\":\"2003\",\"orientation\":\"v\",\"showlegend\":true,\"x\":[2003,2003,2003,2003,2003,2003,2003,2003,2003,2003,2003,2003,2003,2003,2003,2003,2003,2003,2003,2003,2003,2003,2003,2003,2003,2003,2003,2003,2003,2003,2003,2003,2003,2003,2003,2003,2003,2003,2003,2003,2003,2003,2003,2003,2003,2003,2003,2003,2003,2003,2003,2003,2003,2003,2003,2003,2003,2003,2003,2003,2003],\"xaxis\":\"x\",\"yaxis\":\"y\",\"type\":\"histogram\"},{\"alignmentgroup\":\"True\",\"bingroup\":\"x\",\"hovertemplate\":\"release_year=%{x}<br>count=%{y}<extra></extra>\",\"legendgroup\":\"2004\",\"marker\":{\"color\":\"#FECB52\",\"pattern\":{\"shape\":\"\"}},\"name\":\"2004\",\"offsetgroup\":\"2004\",\"orientation\":\"v\",\"showlegend\":true,\"x\":[2004,2004,2004,2004,2004,2004,2004,2004,2004,2004,2004,2004,2004,2004,2004,2004,2004,2004,2004,2004,2004,2004,2004,2004,2004,2004,2004,2004,2004,2004,2004,2004,2004,2004,2004,2004,2004,2004,2004,2004,2004,2004,2004,2004,2004,2004,2004,2004,2004,2004,2004,2004,2004,2004,2004,2004,2004,2004,2004,2004,2004,2004,2004,2004],\"xaxis\":\"x\",\"yaxis\":\"y\",\"type\":\"histogram\"},{\"alignmentgroup\":\"True\",\"bingroup\":\"x\",\"hovertemplate\":\"release_year=%{x}<br>count=%{y}<extra></extra>\",\"legendgroup\":\"2011\",\"marker\":{\"color\":\"#636efa\",\"pattern\":{\"shape\":\"\"}},\"name\":\"2011\",\"offsetgroup\":\"2011\",\"orientation\":\"v\",\"showlegend\":true,\"x\":[2011,2011,2011,2011,2011,2011,2011,2011,2011,2011,2011,2011,2011,2011,2011,2011,2011,2011,2011,2011,2011,2011,2011,2011,2011,2011,2011,2011,2011,2011,2011,2011,2011,2011,2011,2011,2011,2011,2011,2011,2011,2011,2011,2011,2011,2011,2011,2011,2011,2011,2011,2011,2011,2011,2011,2011,2011,2011,2011,2011,2011,2011,2011,2011,2011,2011,2011,2011,2011,2011,2011,2011,2011,2011,2011,2011,2011,2011,2011,2011,2011,2011,2011,2011,2011,2011,2011,2011,2011,2011,2011,2011,2011,2011,2011,2011,2011,2011,2011,2011,2011,2011,2011,2011,2011,2011,2011,2011,2011,2011,2011,2011,2011,2011,2011,2011,2011,2011,2011,2011,2011,2011,2011,2011,2011,2011,2011,2011,2011,2011,2011,2011,2011,2011,2011,2011,2011,2011,2011,2011,2011,2011,2011,2011,2011,2011,2011,2011,2011,2011,2011,2011,2011,2011,2011,2011,2011,2011,2011,2011,2011,2011,2011,2011,2011,2011,2011,2011,2011,2011,2011,2011,2011,2011,2011,2011,2011,2011,2011,2011,2011,2011,2011,2011,2011],\"xaxis\":\"x\",\"yaxis\":\"y\",\"type\":\"histogram\"},{\"alignmentgroup\":\"True\",\"bingroup\":\"x\",\"hovertemplate\":\"release_year=%{x}<br>count=%{y}<extra></extra>\",\"legendgroup\":\"2008\",\"marker\":{\"color\":\"#EF553B\",\"pattern\":{\"shape\":\"\"}},\"name\":\"2008\",\"offsetgroup\":\"2008\",\"orientation\":\"v\",\"showlegend\":true,\"x\":[2008,2008,2008,2008,2008,2008,2008,2008,2008,2008,2008,2008,2008,2008,2008,2008,2008,2008,2008,2008,2008,2008,2008,2008,2008,2008,2008,2008,2008,2008,2008,2008,2008,2008,2008,2008,2008,2008,2008,2008,2008,2008,2008,2008,2008,2008,2008,2008,2008,2008,2008,2008,2008,2008,2008,2008,2008,2008,2008,2008,2008,2008,2008,2008,2008,2008,2008,2008,2008,2008,2008,2008,2008,2008,2008,2008,2008,2008,2008,2008,2008,2008,2008,2008,2008,2008,2008,2008,2008,2008,2008,2008,2008,2008,2008,2008,2008,2008,2008,2008,2008,2008,2008,2008,2008,2008,2008,2008,2008,2008,2008,2008,2008,2008,2008,2008,2008,2008,2008,2008,2008,2008,2008,2008,2008,2008,2008,2008,2008,2008,2008,2008,2008,2008,2008,2008],\"xaxis\":\"x\",\"yaxis\":\"y\",\"type\":\"histogram\"},{\"alignmentgroup\":\"True\",\"bingroup\":\"x\",\"hovertemplate\":\"release_year=%{x}<br>count=%{y}<extra></extra>\",\"legendgroup\":\"2009\",\"marker\":{\"color\":\"#00cc96\",\"pattern\":{\"shape\":\"\"}},\"name\":\"2009\",\"offsetgroup\":\"2009\",\"orientation\":\"v\",\"showlegend\":true,\"x\":[2009,2009,2009,2009,2009,2009,2009,2009,2009,2009,2009,2009,2009,2009,2009,2009,2009,2009,2009,2009,2009,2009,2009,2009,2009,2009,2009,2009,2009,2009,2009,2009,2009,2009,2009,2009,2009,2009,2009,2009,2009,2009,2009,2009,2009,2009,2009,2009,2009,2009,2009,2009,2009,2009,2009,2009,2009,2009,2009,2009,2009,2009,2009,2009,2009,2009,2009,2009,2009,2009,2009,2009,2009,2009,2009,2009,2009,2009,2009,2009,2009,2009,2009,2009,2009,2009,2009,2009,2009,2009,2009,2009,2009,2009,2009,2009,2009,2009,2009,2009,2009,2009,2009,2009,2009,2009,2009,2009,2009,2009,2009,2009,2009,2009,2009,2009,2009,2009,2009,2009,2009,2009,2009,2009,2009,2009,2009,2009,2009,2009,2009,2009,2009,2009,2009,2009,2009,2009,2009,2009,2009,2009,2009,2009,2009,2009,2009,2009,2009,2009,2009,2009],\"xaxis\":\"x\",\"yaxis\":\"y\",\"type\":\"histogram\"},{\"alignmentgroup\":\"True\",\"bingroup\":\"x\",\"hovertemplate\":\"release_year=%{x}<br>count=%{y}<extra></extra>\",\"legendgroup\":\"2007\",\"marker\":{\"color\":\"#ab63fa\",\"pattern\":{\"shape\":\"\"}},\"name\":\"2007\",\"offsetgroup\":\"2007\",\"orientation\":\"v\",\"showlegend\":true,\"x\":[2007,2007,2007,2007,2007,2007,2007,2007,2007,2007,2007,2007,2007,2007,2007,2007,2007,2007,2007,2007,2007,2007,2007,2007,2007,2007,2007,2007,2007,2007,2007,2007,2007,2007,2007,2007,2007,2007,2007,2007,2007,2007,2007,2007,2007,2007,2007,2007,2007,2007,2007,2007,2007,2007,2007,2007,2007,2007,2007,2007,2007,2007,2007,2007,2007,2007,2007,2007,2007,2007,2007,2007,2007,2007,2007,2007,2007,2007,2007,2007,2007,2007,2007,2007,2007,2007,2007,2007],\"xaxis\":\"x\",\"yaxis\":\"y\",\"type\":\"histogram\"},{\"alignmentgroup\":\"True\",\"bingroup\":\"x\",\"hovertemplate\":\"release_year=%{x}<br>count=%{y}<extra></extra>\",\"legendgroup\":\"2005\",\"marker\":{\"color\":\"#FFA15A\",\"pattern\":{\"shape\":\"\"}},\"name\":\"2005\",\"offsetgroup\":\"2005\",\"orientation\":\"v\",\"showlegend\":true,\"x\":[2005,2005,2005,2005,2005,2005,2005,2005,2005,2005,2005,2005,2005,2005,2005,2005,2005,2005,2005,2005,2005,2005,2005,2005,2005,2005,2005,2005,2005,2005,2005,2005,2005,2005,2005,2005,2005,2005,2005,2005,2005,2005,2005,2005,2005,2005,2005,2005,2005,2005,2005,2005,2005,2005,2005,2005,2005,2005,2005,2005,2005,2005,2005,2005,2005,2005,2005,2005,2005,2005,2005,2005,2005,2005,2005,2005,2005,2005,2005,2005],\"xaxis\":\"x\",\"yaxis\":\"y\",\"type\":\"histogram\"},{\"alignmentgroup\":\"True\",\"bingroup\":\"x\",\"hovertemplate\":\"release_year=%{x}<br>count=%{y}<extra></extra>\",\"legendgroup\":\"2006\",\"marker\":{\"color\":\"#19d3f3\",\"pattern\":{\"shape\":\"\"}},\"name\":\"2006\",\"offsetgroup\":\"2006\",\"orientation\":\"v\",\"showlegend\":true,\"x\":[2006,2006,2006,2006,2006,2006,2006,2006,2006,2006,2006,2006,2006,2006,2006,2006,2006,2006,2006,2006,2006,2006,2006,2006,2006,2006,2006,2006,2006,2006,2006,2006,2006,2006,2006,2006,2006,2006,2006,2006,2006,2006,2006,2006,2006,2006,2006,2006,2006,2006,2006,2006,2006,2006,2006,2006,2006,2006,2006,2006,2006,2006,2006,2006,2006,2006,2006,2006,2006,2006,2006,2006,2006,2006,2006,2006,2006,2006,2006,2006,2006,2006,2006,2006,2006,2006,2006,2006,2006,2006,2006,2006,2006,2006,2006,2006],\"xaxis\":\"x\",\"yaxis\":\"y\",\"type\":\"histogram\"},{\"alignmentgroup\":\"True\",\"bingroup\":\"x\",\"hovertemplate\":\"release_year=%{x}<br>count=%{y}<extra></extra>\",\"legendgroup\":\"1994\",\"marker\":{\"color\":\"#FF6692\",\"pattern\":{\"shape\":\"\"}},\"name\":\"1994\",\"offsetgroup\":\"1994\",\"orientation\":\"v\",\"showlegend\":true,\"x\":[1994,1994,1994,1994,1994,1994,1994,1994,1994,1994,1994,1994,1994,1994,1994,1994,1994,1994,1994,1994,1994,1994],\"xaxis\":\"x\",\"yaxis\":\"y\",\"type\":\"histogram\"},{\"alignmentgroup\":\"True\",\"bingroup\":\"x\",\"hovertemplate\":\"release_year=%{x}<br>count=%{y}<extra></extra>\",\"legendgroup\":\"2015\",\"marker\":{\"color\":\"#B6E880\",\"pattern\":{\"shape\":\"\"}},\"name\":\"2015\",\"offsetgroup\":\"2015\",\"orientation\":\"v\",\"showlegend\":true,\"x\":[2015,2015,2015,2015,2015,2015,2015,2015,2015,2015,2015,2015,2015,2015,2015,2015,2015,2015,2015,2015,2015,2015,2015,2015,2015,2015,2015,2015,2015,2015,2015,2015,2015,2015,2015,2015,2015,2015,2015,2015,2015,2015,2015,2015,2015,2015,2015,2015,2015,2015,2015,2015,2015,2015,2015,2015,2015,2015,2015,2015,2015,2015,2015,2015,2015,2015,2015,2015,2015,2015,2015,2015,2015,2015,2015,2015,2015,2015,2015,2015,2015,2015,2015,2015,2015,2015,2015,2015,2015,2015,2015,2015,2015,2015,2015,2015,2015,2015,2015,2015,2015,2015,2015,2015,2015,2015,2015,2015,2015,2015,2015,2015,2015,2015,2015,2015,2015,2015,2015,2015,2015,2015,2015,2015,2015,2015,2015,2015,2015,2015,2015,2015,2015,2015,2015,2015,2015,2015,2015,2015,2015,2015,2015,2015,2015,2015,2015,2015,2015,2015,2015,2015,2015,2015,2015,2015,2015,2015,2015,2015,2015,2015,2015,2015,2015,2015,2015,2015,2015,2015,2015,2015,2015,2015,2015,2015,2015,2015,2015,2015,2015,2015,2015,2015,2015,2015,2015,2015,2015,2015,2015,2015,2015,2015,2015,2015,2015,2015,2015,2015,2015,2015,2015,2015,2015,2015,2015,2015,2015,2015,2015,2015,2015,2015,2015,2015,2015,2015,2015,2015,2015,2015,2015,2015,2015,2015,2015,2015,2015,2015,2015,2015,2015,2015,2015,2015,2015,2015,2015,2015,2015,2015,2015,2015,2015,2015,2015,2015,2015,2015,2015,2015,2015,2015,2015,2015,2015,2015,2015,2015,2015,2015,2015,2015,2015,2015,2015,2015,2015,2015,2015,2015,2015,2015,2015,2015,2015,2015,2015,2015,2015,2015,2015,2015,2015,2015,2015,2015,2015,2015,2015,2015,2015,2015,2015,2015,2015,2015,2015,2015,2015,2015,2015,2015,2015,2015,2015,2015,2015,2015,2015,2015,2015,2015,2015,2015,2015,2015,2015,2015,2015,2015,2015,2015,2015,2015,2015,2015,2015,2015,2015,2015,2015,2015,2015,2015,2015,2015,2015,2015,2015,2015,2015,2015,2015,2015,2015,2015,2015,2015,2015,2015,2015,2015,2015,2015,2015,2015,2015,2015,2015,2015,2015,2015,2015,2015,2015,2015,2015,2015,2015,2015,2015,2015,2015,2015,2015,2015,2015,2015,2015,2015,2015,2015,2015,2015,2015,2015,2015,2015,2015,2015,2015,2015,2015,2015,2015,2015,2015,2015,2015,2015,2015,2015,2015,2015,2015,2015,2015,2015,2015,2015,2015,2015,2015,2015,2015,2015,2015,2015,2015,2015,2015,2015,2015,2015,2015,2015,2015,2015,2015,2015,2015,2015,2015,2015,2015,2015,2015,2015,2015,2015,2015,2015,2015,2015,2015,2015,2015,2015,2015,2015,2015,2015,2015,2015,2015,2015,2015,2015,2015,2015,2015,2015,2015,2015,2015,2015,2015,2015,2015,2015,2015,2015,2015,2015,2015,2015,2015,2015,2015,2015,2015,2015,2015,2015,2015,2015,2015,2015,2015,2015,2015,2015,2015,2015,2015,2015,2015,2015,2015,2015,2015,2015,2015,2015,2015,2015,2015,2015,2015,2015,2015,2015,2015,2015,2015,2015,2015,2015,2015,2015,2015,2015,2015,2015,2015,2015,2015,2015,2015,2015,2015,2015,2015,2015,2015,2015,2015,2015,2015,2015,2015,2015,2015,2015,2015,2015,2015,2015,2015,2015,2015,2015,2015,2015,2015,2015,2015,2015],\"xaxis\":\"x\",\"yaxis\":\"y\",\"type\":\"histogram\"},{\"alignmentgroup\":\"True\",\"bingroup\":\"x\",\"hovertemplate\":\"release_year=%{x}<br>count=%{y}<extra></extra>\",\"legendgroup\":\"2019\",\"marker\":{\"color\":\"#FF97FF\",\"pattern\":{\"shape\":\"\"}},\"name\":\"2019\",\"offsetgroup\":\"2019\",\"orientation\":\"v\",\"showlegend\":true,\"x\":[2019,2019,2019,2019,2019,2019,2019,2019,2019,2019,2019,2019,2019,2019,2019,2019,2019,2019,2019,2019,2019,2019,2019,2019,2019,2019,2019,2019,2019,2019,2019,2019,2019,2019,2019,2019,2019,2019,2019,2019,2019,2019,2019,2019,2019,2019,2019,2019,2019,2019,2019,2019,2019,2019,2019,2019,2019,2019,2019,2019,2019,2019,2019,2019,2019,2019,2019,2019,2019,2019,2019,2019,2019,2019,2019,2019,2019,2019,2019,2019,2019,2019,2019,2019,2019,2019,2019,2019,2019,2019,2019,2019,2019,2019,2019,2019,2019,2019,2019,2019,2019,2019,2019,2019,2019,2019,2019,2019,2019,2019,2019,2019,2019,2019,2019,2019,2019,2019,2019,2019,2019,2019,2019,2019,2019,2019,2019,2019,2019,2019,2019,2019,2019,2019,2019,2019,2019,2019,2019,2019,2019,2019,2019,2019,2019,2019,2019,2019,2019,2019,2019,2019,2019,2019,2019,2019,2019,2019,2019,2019,2019,2019,2019,2019,2019,2019,2019,2019,2019,2019,2019,2019,2019,2019,2019,2019,2019,2019,2019,2019,2019,2019,2019,2019,2019,2019,2019,2019,2019,2019,2019,2019,2019,2019,2019,2019,2019,2019,2019,2019,2019,2019,2019,2019,2019,2019,2019,2019,2019,2019,2019,2019,2019,2019,2019,2019,2019,2019,2019,2019,2019,2019,2019,2019,2019,2019,2019,2019,2019,2019,2019,2019,2019,2019,2019,2019,2019,2019,2019,2019,2019,2019,2019,2019,2019,2019,2019,2019,2019,2019,2019,2019,2019,2019,2019,2019,2019,2019,2019,2019,2019,2019,2019,2019,2019,2019,2019,2019,2019,2019,2019,2019,2019,2019,2019,2019,2019,2019,2019,2019,2019,2019,2019,2019,2019,2019,2019,2019,2019,2019,2019,2019,2019,2019,2019,2019,2019,2019,2019,2019,2019,2019,2019,2019,2019,2019,2019,2019,2019,2019,2019,2019,2019,2019,2019,2019,2019,2019,2019,2019,2019,2019,2019,2019,2019,2019,2019,2019,2019,2019,2019,2019,2019,2019,2019,2019,2019,2019,2019,2019,2019,2019,2019,2019,2019,2019,2019,2019,2019,2019,2019,2019,2019,2019,2019,2019,2019,2019,2019,2019,2019,2019,2019,2019,2019,2019,2019,2019,2019,2019,2019,2019,2019,2019,2019,2019,2019,2019,2019,2019,2019,2019,2019,2019,2019,2019,2019,2019,2019,2019,2019,2019,2019,2019,2019,2019,2019,2019,2019,2019,2019,2019,2019,2019,2019,2019,2019,2019,2019,2019,2019,2019,2019,2019,2019,2019,2019,2019,2019,2019,2019,2019,2019,2019,2019,2019,2019,2019,2019,2019,2019,2019,2019,2019,2019,2019,2019,2019,2019,2019,2019,2019,2019,2019,2019,2019,2019,2019,2019,2019,2019,2019,2019,2019,2019,2019,2019,2019,2019,2019,2019,2019,2019,2019,2019,2019,2019,2019,2019,2019,2019,2019,2019,2019,2019,2019,2019,2019,2019,2019,2019,2019,2019,2019,2019,2019,2019,2019,2019,2019,2019,2019,2019,2019,2019,2019,2019,2019,2019,2019,2019,2019,2019,2019,2019,2019,2019,2019,2019,2019,2019,2019,2019,2019,2019,2019,2019,2019,2019,2019,2019,2019,2019,2019,2019,2019,2019,2019,2019,2019,2019,2019,2019,2019,2019,2019,2019,2019,2019,2019,2019,2019,2019,2019,2019,2019,2019,2019,2019,2019,2019,2019,2019,2019,2019,2019,2019,2019,2019,2019,2019,2019,2019,2019,2019,2019,2019,2019,2019,2019,2019,2019,2019,2019,2019,2019,2019,2019,2019,2019,2019,2019,2019,2019,2019,2019,2019,2019,2019,2019,2019,2019,2019,2019,2019,2019,2019,2019,2019,2019,2019,2019,2019,2019,2019,2019,2019,2019,2019,2019,2019,2019,2019,2019,2019,2019,2019,2019,2019,2019,2019,2019,2019,2019,2019,2019,2019,2019,2019,2019,2019,2019,2019,2019,2019,2019,2019,2019,2019,2019,2019,2019,2019,2019,2019,2019,2019,2019,2019,2019,2019,2019,2019,2019,2019,2019,2019,2019,2019,2019,2019,2019,2019,2019,2019,2019,2019,2019,2019,2019,2019,2019,2019,2019,2019,2019,2019,2019,2019,2019,2019,2019,2019,2019,2019,2019,2019,2019,2019,2019,2019,2019,2019,2019,2019,2019,2019,2019,2019,2019,2019,2019,2019,2019,2019,2019,2019,2019,2019,2019,2019,2019,2019,2019,2019,2019,2019,2019,2019,2019,2019,2019,2019,2019,2019,2019,2019,2019,2019,2019,2019,2019,2019,2019,2019,2019,2019,2019,2019,2019,2019,2019,2019,2019,2019,2019,2019,2019,2019,2019,2019,2019,2019,2019,2019,2019,2019,2019,2019,2019,2019,2019,2019,2019,2019,2019,2019,2019,2019,2019,2019,2019,2019,2019,2019,2019,2019,2019,2019,2019,2019,2019,2019,2019,2019,2019,2019,2019,2019,2019,2019,2019,2019,2019,2019,2019,2019,2019,2019,2019,2019,2019,2019,2019,2019,2019,2019,2019,2019,2019,2019,2019,2019,2019,2019,2019,2019,2019,2019,2019,2019,2019,2019,2019,2019,2019,2019,2019,2019,2019,2019,2019,2019,2019,2019,2019,2019,2019,2019,2019,2019,2019,2019,2019,2019,2019,2019,2019,2019,2019,2019,2019,2019,2019,2019,2019,2019,2019,2019,2019,2019,2019,2019,2019,2019,2019,2019,2019,2019,2019,2019,2019,2019,2019,2019,2019,2019,2019,2019,2019,2019,2019,2019,2019,2019,2019,2019,2019,2019,2019,2019,2019,2019,2019,2019,2019,2019,2019,2019,2019,2019,2019,2019,2019,2019,2019,2019,2019,2019,2019,2019,2019,2019,2019,2019,2019,2019,2019,2019,2019,2019,2019,2019,2019,2019,2019,2019,2019,2019,2019,2019,2019,2019,2019,2019,2019,2019,2019,2019,2019,2019,2019,2019,2019,2019,2019,2019,2019,2019,2019,2019,2019,2019,2019,2019,2019,2019,2019,2019,2019,2019,2019,2019,2019,2019,2019,2019,2019,2019,2019,2019,2019,2019,2019,2019,2019,2019,2019,2019,2019,2019,2019,2019,2019,2019,2019,2019,2019,2019,2019,2019,2019,2019,2019,2019,2019,2019,2019,2019,2019,2019,2019,2019,2019,2019,2019,2019,2019,2019,2019,2019,2019,2019,2019,2019,2019,2019,2019,2019,2019,2019,2019,2019,2019,2019,2019,2019,2019,2019,2019],\"xaxis\":\"x\",\"yaxis\":\"y\",\"type\":\"histogram\"},{\"alignmentgroup\":\"True\",\"bingroup\":\"x\",\"hovertemplate\":\"release_year=%{x}<br>count=%{y}<extra></extra>\",\"legendgroup\":\"2016\",\"marker\":{\"color\":\"#FECB52\",\"pattern\":{\"shape\":\"\"}},\"name\":\"2016\",\"offsetgroup\":\"2016\",\"orientation\":\"v\",\"showlegend\":true,\"x\":[2016,2016,2016,2016,2016,2016,2016,2016,2016,2016,2016,2016,2016,2016,2016,2016,2016,2016,2016,2016,2016,2016,2016,2016,2016,2016,2016,2016,2016,2016,2016,2016,2016,2016,2016,2016,2016,2016,2016,2016,2016,2016,2016,2016,2016,2016,2016,2016,2016,2016,2016,2016,2016,2016,2016,2016,2016,2016,2016,2016,2016,2016,2016,2016,2016,2016,2016,2016,2016,2016,2016,2016,2016,2016,2016,2016,2016,2016,2016,2016,2016,2016,2016,2016,2016,2016,2016,2016,2016,2016,2016,2016,2016,2016,2016,2016,2016,2016,2016,2016,2016,2016,2016,2016,2016,2016,2016,2016,2016,2016,2016,2016,2016,2016,2016,2016,2016,2016,2016,2016,2016,2016,2016,2016,2016,2016,2016,2016,2016,2016,2016,2016,2016,2016,2016,2016,2016,2016,2016,2016,2016,2016,2016,2016,2016,2016,2016,2016,2016,2016,2016,2016,2016,2016,2016,2016,2016,2016,2016,2016,2016,2016,2016,2016,2016,2016,2016,2016,2016,2016,2016,2016,2016,2016,2016,2016,2016,2016,2016,2016,2016,2016,2016,2016,2016,2016,2016,2016,2016,2016,2016,2016,2016,2016,2016,2016,2016,2016,2016,2016,2016,2016,2016,2016,2016,2016,2016,2016,2016,2016,2016,2016,2016,2016,2016,2016,2016,2016,2016,2016,2016,2016,2016,2016,2016,2016,2016,2016,2016,2016,2016,2016,2016,2016,2016,2016,2016,2016,2016,2016,2016,2016,2016,2016,2016,2016,2016,2016,2016,2016,2016,2016,2016,2016,2016,2016,2016,2016,2016,2016,2016,2016,2016,2016,2016,2016,2016,2016,2016,2016,2016,2016,2016,2016,2016,2016,2016,2016,2016,2016,2016,2016,2016,2016,2016,2016,2016,2016,2016,2016,2016,2016,2016,2016,2016,2016,2016,2016,2016,2016,2016,2016,2016,2016,2016,2016,2016,2016,2016,2016,2016,2016,2016,2016,2016,2016,2016,2016,2016,2016,2016,2016,2016,2016,2016,2016,2016,2016,2016,2016,2016,2016,2016,2016,2016,2016,2016,2016,2016,2016,2016,2016,2016,2016,2016,2016,2016,2016,2016,2016,2016,2016,2016,2016,2016,2016,2016,2016,2016,2016,2016,2016,2016,2016,2016,2016,2016,2016,2016,2016,2016,2016,2016,2016,2016,2016,2016,2016,2016,2016,2016,2016,2016,2016,2016,2016,2016,2016,2016,2016,2016,2016,2016,2016,2016,2016,2016,2016,2016,2016,2016,2016,2016,2016,2016,2016,2016,2016,2016,2016,2016,2016,2016,2016,2016,2016,2016,2016,2016,2016,2016,2016,2016,2016,2016,2016,2016,2016,2016,2016,2016,2016,2016,2016,2016,2016,2016,2016,2016,2016,2016,2016,2016,2016,2016,2016,2016,2016,2016,2016,2016,2016,2016,2016,2016,2016,2016,2016,2016,2016,2016,2016,2016,2016,2016,2016,2016,2016,2016,2016,2016,2016,2016,2016,2016,2016,2016,2016,2016,2016,2016,2016,2016,2016,2016,2016,2016,2016,2016,2016,2016,2016,2016,2016,2016,2016,2016,2016,2016,2016,2016,2016,2016,2016,2016,2016,2016,2016,2016,2016,2016,2016,2016,2016,2016,2016,2016,2016,2016,2016,2016,2016,2016,2016,2016,2016,2016,2016,2016,2016,2016,2016,2016,2016,2016,2016,2016,2016,2016,2016,2016,2016,2016,2016,2016,2016,2016,2016,2016,2016,2016,2016,2016,2016,2016,2016,2016,2016,2016,2016,2016,2016,2016,2016,2016,2016,2016,2016,2016,2016,2016,2016,2016,2016,2016,2016,2016,2016,2016,2016,2016,2016,2016,2016,2016,2016,2016,2016,2016,2016,2016,2016,2016,2016,2016,2016,2016,2016,2016,2016,2016,2016,2016,2016,2016,2016,2016,2016,2016,2016,2016,2016,2016,2016,2016,2016,2016,2016,2016,2016,2016,2016,2016,2016,2016,2016,2016,2016,2016,2016,2016,2016,2016,2016,2016,2016,2016,2016,2016,2016,2016,2016,2016,2016,2016,2016,2016,2016,2016,2016,2016,2016,2016,2016,2016,2016,2016,2016,2016,2016,2016,2016,2016,2016,2016,2016,2016,2016,2016,2016,2016,2016,2016,2016,2016,2016,2016,2016,2016,2016,2016,2016,2016,2016,2016,2016,2016,2016,2016,2016,2016,2016,2016,2016,2016,2016,2016,2016,2016,2016,2016,2016,2016,2016,2016,2016,2016,2016,2016,2016,2016,2016,2016,2016,2016,2016,2016,2016,2016,2016,2016,2016,2016,2016,2016,2016,2016,2016,2016,2016,2016,2016,2016,2016,2016,2016,2016,2016,2016,2016,2016,2016,2016,2016,2016,2016,2016,2016,2016,2016,2016,2016,2016,2016,2016,2016,2016,2016,2016,2016,2016,2016,2016,2016,2016,2016,2016,2016,2016,2016,2016,2016,2016,2016,2016,2016,2016,2016,2016,2016,2016,2016,2016,2016,2016,2016,2016,2016,2016,2016,2016,2016,2016,2016,2016,2016,2016,2016,2016,2016,2016,2016,2016,2016,2016,2016,2016,2016,2016,2016,2016,2016,2016,2016,2016,2016,2016,2016,2016,2016,2016,2016,2016,2016,2016,2016,2016,2016,2016,2016,2016,2016,2016,2016,2016,2016,2016,2016,2016,2016,2016,2016,2016,2016,2016,2016,2016,2016,2016,2016,2016,2016,2016,2016,2016,2016,2016,2016,2016,2016,2016,2016,2016,2016,2016,2016,2016,2016,2016,2016,2016,2016,2016,2016,2016,2016,2016,2016,2016,2016,2016,2016,2016,2016,2016,2016,2016,2016,2016,2016,2016,2016,2016,2016,2016,2016,2016,2016,2016,2016,2016,2016],\"xaxis\":\"x\",\"yaxis\":\"y\",\"type\":\"histogram\"},{\"alignmentgroup\":\"True\",\"bingroup\":\"x\",\"hovertemplate\":\"release_year=%{x}<br>count=%{y}<extra></extra>\",\"legendgroup\":\"1982\",\"marker\":{\"color\":\"#636efa\",\"pattern\":{\"shape\":\"\"}},\"name\":\"1982\",\"offsetgroup\":\"1982\",\"orientation\":\"v\",\"showlegend\":true,\"x\":[1982,1982,1982,1982,1982,1982,1982,1982,1982,1982,1982,1982,1982,1982,1982,1982,1982],\"xaxis\":\"x\",\"yaxis\":\"y\",\"type\":\"histogram\"},{\"alignmentgroup\":\"True\",\"bingroup\":\"x\",\"hovertemplate\":\"release_year=%{x}<br>count=%{y}<extra></extra>\",\"legendgroup\":\"1989\",\"marker\":{\"color\":\"#EF553B\",\"pattern\":{\"shape\":\"\"}},\"name\":\"1989\",\"offsetgroup\":\"1989\",\"orientation\":\"v\",\"showlegend\":true,\"x\":[1989,1989,1989,1989,1989,1989,1989,1989,1989,1989,1989,1989,1989,1989,1989,1989],\"xaxis\":\"x\",\"yaxis\":\"y\",\"type\":\"histogram\"},{\"alignmentgroup\":\"True\",\"bingroup\":\"x\",\"hovertemplate\":\"release_year=%{x}<br>count=%{y}<extra></extra>\",\"legendgroup\":\"1990\",\"marker\":{\"color\":\"#00cc96\",\"pattern\":{\"shape\":\"\"}},\"name\":\"1990\",\"offsetgroup\":\"1990\",\"orientation\":\"v\",\"showlegend\":true,\"x\":[1990,1990,1990,1990,1990,1990,1990,1990,1990,1990,1990,1990,1990,1990,1990,1990,1990,1990,1990,1990,1990,1990],\"xaxis\":\"x\",\"yaxis\":\"y\",\"type\":\"histogram\"},{\"alignmentgroup\":\"True\",\"bingroup\":\"x\",\"hovertemplate\":\"release_year=%{x}<br>count=%{y}<extra></extra>\",\"legendgroup\":\"1991\",\"marker\":{\"color\":\"#ab63fa\",\"pattern\":{\"shape\":\"\"}},\"name\":\"1991\",\"offsetgroup\":\"1991\",\"orientation\":\"v\",\"showlegend\":true,\"x\":[1991,1991,1991,1991,1991,1991,1991,1991,1991,1991,1991,1991,1991,1991,1991,1991,1991],\"xaxis\":\"x\",\"yaxis\":\"y\",\"type\":\"histogram\"},{\"alignmentgroup\":\"True\",\"bingroup\":\"x\",\"hovertemplate\":\"release_year=%{x}<br>count=%{y}<extra></extra>\",\"legendgroup\":\"1999\",\"marker\":{\"color\":\"#FFA15A\",\"pattern\":{\"shape\":\"\"}},\"name\":\"1999\",\"offsetgroup\":\"1999\",\"orientation\":\"v\",\"showlegend\":true,\"x\":[1999,1999,1999,1999,1999,1999,1999,1999,1999,1999,1999,1999,1999,1999,1999,1999,1999,1999,1999,1999,1999,1999,1999,1999,1999,1999,1999,1999,1999,1999,1999,1999,1999,1999,1999,1999,1999,1999,1999],\"xaxis\":\"x\",\"yaxis\":\"y\",\"type\":\"histogram\"},{\"alignmentgroup\":\"True\",\"bingroup\":\"x\",\"hovertemplate\":\"release_year=%{x}<br>count=%{y}<extra></extra>\",\"legendgroup\":\"1986\",\"marker\":{\"color\":\"#19d3f3\",\"pattern\":{\"shape\":\"\"}},\"name\":\"1986\",\"offsetgroup\":\"1986\",\"orientation\":\"v\",\"showlegend\":true,\"x\":[1986,1986,1986,1986,1986,1986,1986,1986,1986,1986,1986,1986,1986],\"xaxis\":\"x\",\"yaxis\":\"y\",\"type\":\"histogram\"},{\"alignmentgroup\":\"True\",\"bingroup\":\"x\",\"hovertemplate\":\"release_year=%{x}<br>count=%{y}<extra></extra>\",\"legendgroup\":\"1992\",\"marker\":{\"color\":\"#FF6692\",\"pattern\":{\"shape\":\"\"}},\"name\":\"1992\",\"offsetgroup\":\"1992\",\"orientation\":\"v\",\"showlegend\":true,\"x\":[1992,1992,1992,1992,1992,1992,1992,1992,1992,1992,1992,1992,1992,1992,1992,1992,1992,1992,1992,1992,1992,1992,1992],\"xaxis\":\"x\",\"yaxis\":\"y\",\"type\":\"histogram\"},{\"alignmentgroup\":\"True\",\"bingroup\":\"x\",\"hovertemplate\":\"release_year=%{x}<br>count=%{y}<extra></extra>\",\"legendgroup\":\"1984\",\"marker\":{\"color\":\"#B6E880\",\"pattern\":{\"shape\":\"\"}},\"name\":\"1984\",\"offsetgroup\":\"1984\",\"orientation\":\"v\",\"showlegend\":true,\"x\":[1984,1984,1984,1984,1984,1984,1984,1984,1984,1984,1984,1984],\"xaxis\":\"x\",\"yaxis\":\"y\",\"type\":\"histogram\"},{\"alignmentgroup\":\"True\",\"bingroup\":\"x\",\"hovertemplate\":\"release_year=%{x}<br>count=%{y}<extra></extra>\",\"legendgroup\":\"1980\",\"marker\":{\"color\":\"#FF97FF\",\"pattern\":{\"shape\":\"\"}},\"name\":\"1980\",\"offsetgroup\":\"1980\",\"orientation\":\"v\",\"showlegend\":true,\"x\":[1980,1980,1980,1980,1980,1980,1980,1980,1980,1980,1980],\"xaxis\":\"x\",\"yaxis\":\"y\",\"type\":\"histogram\"},{\"alignmentgroup\":\"True\",\"bingroup\":\"x\",\"hovertemplate\":\"release_year=%{x}<br>count=%{y}<extra></extra>\",\"legendgroup\":\"1961\",\"marker\":{\"color\":\"#FECB52\",\"pattern\":{\"shape\":\"\"}},\"name\":\"1961\",\"offsetgroup\":\"1961\",\"orientation\":\"v\",\"showlegend\":true,\"x\":[1961],\"xaxis\":\"x\",\"yaxis\":\"y\",\"type\":\"histogram\"},{\"alignmentgroup\":\"True\",\"bingroup\":\"x\",\"hovertemplate\":\"release_year=%{x}<br>count=%{y}<extra></extra>\",\"legendgroup\":\"2000\",\"marker\":{\"color\":\"#636efa\",\"pattern\":{\"shape\":\"\"}},\"name\":\"2000\",\"offsetgroup\":\"2000\",\"orientation\":\"v\",\"showlegend\":true,\"x\":[2000,2000,2000,2000,2000,2000,2000,2000,2000,2000,2000,2000,2000,2000,2000,2000,2000,2000,2000,2000,2000,2000,2000,2000,2000,2000,2000,2000,2000,2000,2000,2000,2000,2000,2000,2000,2000],\"xaxis\":\"x\",\"yaxis\":\"y\",\"type\":\"histogram\"},{\"alignmentgroup\":\"True\",\"bingroup\":\"x\",\"hovertemplate\":\"release_year=%{x}<br>count=%{y}<extra></extra>\",\"legendgroup\":\"1995\",\"marker\":{\"color\":\"#EF553B\",\"pattern\":{\"shape\":\"\"}},\"name\":\"1995\",\"offsetgroup\":\"1995\",\"orientation\":\"v\",\"showlegend\":true,\"x\":[1995,1995,1995,1995,1995,1995,1995,1995,1995,1995,1995,1995,1995,1995,1995,1995,1995,1995,1995,1995,1995,1995,1995,1995,1995],\"xaxis\":\"x\",\"yaxis\":\"y\",\"type\":\"histogram\"},{\"alignmentgroup\":\"True\",\"bingroup\":\"x\",\"hovertemplate\":\"release_year=%{x}<br>count=%{y}<extra></extra>\",\"legendgroup\":\"1985\",\"marker\":{\"color\":\"#00cc96\",\"pattern\":{\"shape\":\"\"}},\"name\":\"1985\",\"offsetgroup\":\"1985\",\"orientation\":\"v\",\"showlegend\":true,\"x\":[1985,1985,1985,1985,1985,1985,1985,1985,1985,1985],\"xaxis\":\"x\",\"yaxis\":\"y\",\"type\":\"histogram\"},{\"alignmentgroup\":\"True\",\"bingroup\":\"x\",\"hovertemplate\":\"release_year=%{x}<br>count=%{y}<extra></extra>\",\"legendgroup\":\"1976\",\"marker\":{\"color\":\"#ab63fa\",\"pattern\":{\"shape\":\"\"}},\"name\":\"1976\",\"offsetgroup\":\"1976\",\"orientation\":\"v\",\"showlegend\":true,\"x\":[1976,1976,1976,1976,1976,1976,1976,1976,1976],\"xaxis\":\"x\",\"yaxis\":\"y\",\"type\":\"histogram\"},{\"alignmentgroup\":\"True\",\"bingroup\":\"x\",\"hovertemplate\":\"release_year=%{x}<br>count=%{y}<extra></extra>\",\"legendgroup\":\"1959\",\"marker\":{\"color\":\"#FFA15A\",\"pattern\":{\"shape\":\"\"}},\"name\":\"1959\",\"offsetgroup\":\"1959\",\"orientation\":\"v\",\"showlegend\":true,\"x\":[1959],\"xaxis\":\"x\",\"yaxis\":\"y\",\"type\":\"histogram\"},{\"alignmentgroup\":\"True\",\"bingroup\":\"x\",\"hovertemplate\":\"release_year=%{x}<br>count=%{y}<extra></extra>\",\"legendgroup\":\"1988\",\"marker\":{\"color\":\"#19d3f3\",\"pattern\":{\"shape\":\"\"}},\"name\":\"1988\",\"offsetgroup\":\"1988\",\"orientation\":\"v\",\"showlegend\":true,\"x\":[1988,1988,1988,1988,1988,1988,1988,1988,1988,1988,1988,1988,1988,1988,1988,1988,1988,1988],\"xaxis\":\"x\",\"yaxis\":\"y\",\"type\":\"histogram\"},{\"alignmentgroup\":\"True\",\"bingroup\":\"x\",\"hovertemplate\":\"release_year=%{x}<br>count=%{y}<extra></extra>\",\"legendgroup\":\"1981\",\"marker\":{\"color\":\"#FF6692\",\"pattern\":{\"shape\":\"\"}},\"name\":\"1981\",\"offsetgroup\":\"1981\",\"orientation\":\"v\",\"showlegend\":true,\"x\":[1981,1981,1981,1981,1981,1981,1981,1981,1981,1981,1981,1981,1981],\"xaxis\":\"x\",\"yaxis\":\"y\",\"type\":\"histogram\"},{\"alignmentgroup\":\"True\",\"bingroup\":\"x\",\"hovertemplate\":\"release_year=%{x}<br>count=%{y}<extra></extra>\",\"legendgroup\":\"1972\",\"marker\":{\"color\":\"#B6E880\",\"pattern\":{\"shape\":\"\"}},\"name\":\"1972\",\"offsetgroup\":\"1972\",\"orientation\":\"v\",\"showlegend\":true,\"x\":[1972,1972,1972,1972,1972],\"xaxis\":\"x\",\"yaxis\":\"y\",\"type\":\"histogram\"},{\"alignmentgroup\":\"True\",\"bingroup\":\"x\",\"hovertemplate\":\"release_year=%{x}<br>count=%{y}<extra></extra>\",\"legendgroup\":\"1964\",\"marker\":{\"color\":\"#FF97FF\",\"pattern\":{\"shape\":\"\"}},\"name\":\"1964\",\"offsetgroup\":\"1964\",\"orientation\":\"v\",\"showlegend\":true,\"x\":[1964,1964],\"xaxis\":\"x\",\"yaxis\":\"y\",\"type\":\"histogram\"},{\"alignmentgroup\":\"True\",\"bingroup\":\"x\",\"hovertemplate\":\"release_year=%{x}<br>count=%{y}<extra></extra>\",\"legendgroup\":\"1945\",\"marker\":{\"color\":\"#FECB52\",\"pattern\":{\"shape\":\"\"}},\"name\":\"1945\",\"offsetgroup\":\"1945\",\"orientation\":\"v\",\"showlegend\":true,\"x\":[1945,1945,1945,1945],\"xaxis\":\"x\",\"yaxis\":\"y\",\"type\":\"histogram\"},{\"alignmentgroup\":\"True\",\"bingroup\":\"x\",\"hovertemplate\":\"release_year=%{x}<br>count=%{y}<extra></extra>\",\"legendgroup\":\"1954\",\"marker\":{\"color\":\"#636efa\",\"pattern\":{\"shape\":\"\"}},\"name\":\"1954\",\"offsetgroup\":\"1954\",\"orientation\":\"v\",\"showlegend\":true,\"x\":[1954,1954],\"xaxis\":\"x\",\"yaxis\":\"y\",\"type\":\"histogram\"},{\"alignmentgroup\":\"True\",\"bingroup\":\"x\",\"hovertemplate\":\"release_year=%{x}<br>count=%{y}<extra></extra>\",\"legendgroup\":\"1979\",\"marker\":{\"color\":\"#EF553B\",\"pattern\":{\"shape\":\"\"}},\"name\":\"1979\",\"offsetgroup\":\"1979\",\"orientation\":\"v\",\"showlegend\":true,\"x\":[1979,1979,1979,1979,1979,1979,1979,1979,1979,1979,1979],\"xaxis\":\"x\",\"yaxis\":\"y\",\"type\":\"histogram\"},{\"alignmentgroup\":\"True\",\"bingroup\":\"x\",\"hovertemplate\":\"release_year=%{x}<br>count=%{y}<extra></extra>\",\"legendgroup\":\"1958\",\"marker\":{\"color\":\"#00cc96\",\"pattern\":{\"shape\":\"\"}},\"name\":\"1958\",\"offsetgroup\":\"1958\",\"orientation\":\"v\",\"showlegend\":true,\"x\":[1958,1958,1958],\"xaxis\":\"x\",\"yaxis\":\"y\",\"type\":\"histogram\"},{\"alignmentgroup\":\"True\",\"bingroup\":\"x\",\"hovertemplate\":\"release_year=%{x}<br>count=%{y}<extra></extra>\",\"legendgroup\":\"1956\",\"marker\":{\"color\":\"#ab63fa\",\"pattern\":{\"shape\":\"\"}},\"name\":\"1956\",\"offsetgroup\":\"1956\",\"orientation\":\"v\",\"showlegend\":true,\"x\":[1956,1956],\"xaxis\":\"x\",\"yaxis\":\"y\",\"type\":\"histogram\"},{\"alignmentgroup\":\"True\",\"bingroup\":\"x\",\"hovertemplate\":\"release_year=%{x}<br>count=%{y}<extra></extra>\",\"legendgroup\":\"1963\",\"marker\":{\"color\":\"#FFA15A\",\"pattern\":{\"shape\":\"\"}},\"name\":\"1963\",\"offsetgroup\":\"1963\",\"orientation\":\"v\",\"showlegend\":true,\"x\":[1963,1963],\"xaxis\":\"x\",\"yaxis\":\"y\",\"type\":\"histogram\"},{\"alignmentgroup\":\"True\",\"bingroup\":\"x\",\"hovertemplate\":\"release_year=%{x}<br>count=%{y}<extra></extra>\",\"legendgroup\":\"1970\",\"marker\":{\"color\":\"#19d3f3\",\"pattern\":{\"shape\":\"\"}},\"name\":\"1970\",\"offsetgroup\":\"1970\",\"orientation\":\"v\",\"showlegend\":true,\"x\":[1970,1970],\"xaxis\":\"x\",\"yaxis\":\"y\",\"type\":\"histogram\"},{\"alignmentgroup\":\"True\",\"bingroup\":\"x\",\"hovertemplate\":\"release_year=%{x}<br>count=%{y}<extra></extra>\",\"legendgroup\":\"1973\",\"marker\":{\"color\":\"#FF6692\",\"pattern\":{\"shape\":\"\"}},\"name\":\"1973\",\"offsetgroup\":\"1973\",\"orientation\":\"v\",\"showlegend\":true,\"x\":[1973,1973,1973,1973,1973,1973,1973,1973,1973,1973],\"xaxis\":\"x\",\"yaxis\":\"y\",\"type\":\"histogram\"},{\"alignmentgroup\":\"True\",\"bingroup\":\"x\",\"hovertemplate\":\"release_year=%{x}<br>count=%{y}<extra></extra>\",\"legendgroup\":\"1925\",\"marker\":{\"color\":\"#B6E880\",\"pattern\":{\"shape\":\"\"}},\"name\":\"1925\",\"offsetgroup\":\"1925\",\"orientation\":\"v\",\"showlegend\":true,\"x\":[1925],\"xaxis\":\"x\",\"yaxis\":\"y\",\"type\":\"histogram\"},{\"alignmentgroup\":\"True\",\"bingroup\":\"x\",\"hovertemplate\":\"release_year=%{x}<br>count=%{y}<extra></extra>\",\"legendgroup\":\"1974\",\"marker\":{\"color\":\"#FF97FF\",\"pattern\":{\"shape\":\"\"}},\"name\":\"1974\",\"offsetgroup\":\"1974\",\"orientation\":\"v\",\"showlegend\":true,\"x\":[1974,1974,1974,1974,1974,1974,1974],\"xaxis\":\"x\",\"yaxis\":\"y\",\"type\":\"histogram\"},{\"alignmentgroup\":\"True\",\"bingroup\":\"x\",\"hovertemplate\":\"release_year=%{x}<br>count=%{y}<extra></extra>\",\"legendgroup\":\"1960\",\"marker\":{\"color\":\"#FECB52\",\"pattern\":{\"shape\":\"\"}},\"name\":\"1960\",\"offsetgroup\":\"1960\",\"orientation\":\"v\",\"showlegend\":true,\"x\":[1960,1960,1960,1960],\"xaxis\":\"x\",\"yaxis\":\"y\",\"type\":\"histogram\"},{\"alignmentgroup\":\"True\",\"bingroup\":\"x\",\"hovertemplate\":\"release_year=%{x}<br>count=%{y}<extra></extra>\",\"legendgroup\":\"1966\",\"marker\":{\"color\":\"#636efa\",\"pattern\":{\"shape\":\"\"}},\"name\":\"1966\",\"offsetgroup\":\"1966\",\"orientation\":\"v\",\"showlegend\":true,\"x\":[1966],\"xaxis\":\"x\",\"yaxis\":\"y\",\"type\":\"histogram\"},{\"alignmentgroup\":\"True\",\"bingroup\":\"x\",\"hovertemplate\":\"release_year=%{x}<br>count=%{y}<extra></extra>\",\"legendgroup\":\"1971\",\"marker\":{\"color\":\"#EF553B\",\"pattern\":{\"shape\":\"\"}},\"name\":\"1971\",\"offsetgroup\":\"1971\",\"orientation\":\"v\",\"showlegend\":true,\"x\":[1971,1971,1971,1971,1971],\"xaxis\":\"x\",\"yaxis\":\"y\",\"type\":\"histogram\"},{\"alignmentgroup\":\"True\",\"bingroup\":\"x\",\"hovertemplate\":\"release_year=%{x}<br>count=%{y}<extra></extra>\",\"legendgroup\":\"1962\",\"marker\":{\"color\":\"#00cc96\",\"pattern\":{\"shape\":\"\"}},\"name\":\"1962\",\"offsetgroup\":\"1962\",\"orientation\":\"v\",\"showlegend\":true,\"x\":[1962,1962,1962],\"xaxis\":\"x\",\"yaxis\":\"y\",\"type\":\"histogram\"},{\"alignmentgroup\":\"True\",\"bingroup\":\"x\",\"hovertemplate\":\"release_year=%{x}<br>count=%{y}<extra></extra>\",\"legendgroup\":\"1969\",\"marker\":{\"color\":\"#ab63fa\",\"pattern\":{\"shape\":\"\"}},\"name\":\"1969\",\"offsetgroup\":\"1969\",\"orientation\":\"v\",\"showlegend\":true,\"x\":[1969,1969],\"xaxis\":\"x\",\"yaxis\":\"y\",\"type\":\"histogram\"},{\"alignmentgroup\":\"True\",\"bingroup\":\"x\",\"hovertemplate\":\"release_year=%{x}<br>count=%{y}<extra></extra>\",\"legendgroup\":\"1977\",\"marker\":{\"color\":\"#FFA15A\",\"pattern\":{\"shape\":\"\"}},\"name\":\"1977\",\"offsetgroup\":\"1977\",\"orientation\":\"v\",\"showlegend\":true,\"x\":[1977,1977,1977,1977,1977,1977,1977],\"xaxis\":\"x\",\"yaxis\":\"y\",\"type\":\"histogram\"},{\"alignmentgroup\":\"True\",\"bingroup\":\"x\",\"hovertemplate\":\"release_year=%{x}<br>count=%{y}<extra></extra>\",\"legendgroup\":\"1967\",\"marker\":{\"color\":\"#19d3f3\",\"pattern\":{\"shape\":\"\"}},\"name\":\"1967\",\"offsetgroup\":\"1967\",\"orientation\":\"v\",\"showlegend\":true,\"x\":[1967,1967,1967,1967,1967],\"xaxis\":\"x\",\"yaxis\":\"y\",\"type\":\"histogram\"},{\"alignmentgroup\":\"True\",\"bingroup\":\"x\",\"hovertemplate\":\"release_year=%{x}<br>count=%{y}<extra></extra>\",\"legendgroup\":\"1968\",\"marker\":{\"color\":\"#FF6692\",\"pattern\":{\"shape\":\"\"}},\"name\":\"1968\",\"offsetgroup\":\"1968\",\"orientation\":\"v\",\"showlegend\":true,\"x\":[1968,1968,1968],\"xaxis\":\"x\",\"yaxis\":\"y\",\"type\":\"histogram\"},{\"alignmentgroup\":\"True\",\"bingroup\":\"x\",\"hovertemplate\":\"release_year=%{x}<br>count=%{y}<extra></extra>\",\"legendgroup\":\"1965\",\"marker\":{\"color\":\"#B6E880\",\"pattern\":{\"shape\":\"\"}},\"name\":\"1965\",\"offsetgroup\":\"1965\",\"orientation\":\"v\",\"showlegend\":true,\"x\":[1965,1965],\"xaxis\":\"x\",\"yaxis\":\"y\",\"type\":\"histogram\"},{\"alignmentgroup\":\"True\",\"bingroup\":\"x\",\"hovertemplate\":\"release_year=%{x}<br>count=%{y}<extra></extra>\",\"legendgroup\":\"1946\",\"marker\":{\"color\":\"#FF97FF\",\"pattern\":{\"shape\":\"\"}},\"name\":\"1946\",\"offsetgroup\":\"1946\",\"orientation\":\"v\",\"showlegend\":true,\"x\":[1946,1946],\"xaxis\":\"x\",\"yaxis\":\"y\",\"type\":\"histogram\"},{\"alignmentgroup\":\"True\",\"bingroup\":\"x\",\"hovertemplate\":\"release_year=%{x}<br>count=%{y}<extra></extra>\",\"legendgroup\":\"1942\",\"marker\":{\"color\":\"#FECB52\",\"pattern\":{\"shape\":\"\"}},\"name\":\"1942\",\"offsetgroup\":\"1942\",\"orientation\":\"v\",\"showlegend\":true,\"x\":[1942,1942],\"xaxis\":\"x\",\"yaxis\":\"y\",\"type\":\"histogram\"},{\"alignmentgroup\":\"True\",\"bingroup\":\"x\",\"hovertemplate\":\"release_year=%{x}<br>count=%{y}<extra></extra>\",\"legendgroup\":\"1955\",\"marker\":{\"color\":\"#636efa\",\"pattern\":{\"shape\":\"\"}},\"name\":\"1955\",\"offsetgroup\":\"1955\",\"orientation\":\"v\",\"showlegend\":true,\"x\":[1955,1955,1955],\"xaxis\":\"x\",\"yaxis\":\"y\",\"type\":\"histogram\"},{\"alignmentgroup\":\"True\",\"bingroup\":\"x\",\"hovertemplate\":\"release_year=%{x}<br>count=%{y}<extra></extra>\",\"legendgroup\":\"1944\",\"marker\":{\"color\":\"#EF553B\",\"pattern\":{\"shape\":\"\"}},\"name\":\"1944\",\"offsetgroup\":\"1944\",\"orientation\":\"v\",\"showlegend\":true,\"x\":[1944,1944,1944],\"xaxis\":\"x\",\"yaxis\":\"y\",\"type\":\"histogram\"},{\"alignmentgroup\":\"True\",\"bingroup\":\"x\",\"hovertemplate\":\"release_year=%{x}<br>count=%{y}<extra></extra>\",\"legendgroup\":\"1947\",\"marker\":{\"color\":\"#00cc96\",\"pattern\":{\"shape\":\"\"}},\"name\":\"1947\",\"offsetgroup\":\"1947\",\"orientation\":\"v\",\"showlegend\":true,\"x\":[1947],\"xaxis\":\"x\",\"yaxis\":\"y\",\"type\":\"histogram\"},{\"alignmentgroup\":\"True\",\"bingroup\":\"x\",\"hovertemplate\":\"release_year=%{x}<br>count=%{y}<extra></extra>\",\"legendgroup\":\"1943\",\"marker\":{\"color\":\"#ab63fa\",\"pattern\":{\"shape\":\"\"}},\"name\":\"1943\",\"offsetgroup\":\"1943\",\"orientation\":\"v\",\"showlegend\":true,\"x\":[1943,1943,1943],\"xaxis\":\"x\",\"yaxis\":\"y\",\"type\":\"histogram\"}],                        {\"template\":{\"data\":{\"bar\":[{\"error_x\":{\"color\":\"#2a3f5f\"},\"error_y\":{\"color\":\"#2a3f5f\"},\"marker\":{\"line\":{\"color\":\"#E5ECF6\",\"width\":0.5},\"pattern\":{\"fillmode\":\"overlay\",\"size\":10,\"solidity\":0.2}},\"type\":\"bar\"}],\"barpolar\":[{\"marker\":{\"line\":{\"color\":\"#E5ECF6\",\"width\":0.5},\"pattern\":{\"fillmode\":\"overlay\",\"size\":10,\"solidity\":0.2}},\"type\":\"barpolar\"}],\"carpet\":[{\"aaxis\":{\"endlinecolor\":\"#2a3f5f\",\"gridcolor\":\"white\",\"linecolor\":\"white\",\"minorgridcolor\":\"white\",\"startlinecolor\":\"#2a3f5f\"},\"baxis\":{\"endlinecolor\":\"#2a3f5f\",\"gridcolor\":\"white\",\"linecolor\":\"white\",\"minorgridcolor\":\"white\",\"startlinecolor\":\"#2a3f5f\"},\"type\":\"carpet\"}],\"choropleth\":[{\"colorbar\":{\"outlinewidth\":0,\"ticks\":\"\"},\"type\":\"choropleth\"}],\"contour\":[{\"colorbar\":{\"outlinewidth\":0,\"ticks\":\"\"},\"colorscale\":[[0.0,\"#0d0887\"],[0.1111111111111111,\"#46039f\"],[0.2222222222222222,\"#7201a8\"],[0.3333333333333333,\"#9c179e\"],[0.4444444444444444,\"#bd3786\"],[0.5555555555555556,\"#d8576b\"],[0.6666666666666666,\"#ed7953\"],[0.7777777777777778,\"#fb9f3a\"],[0.8888888888888888,\"#fdca26\"],[1.0,\"#f0f921\"]],\"type\":\"contour\"}],\"contourcarpet\":[{\"colorbar\":{\"outlinewidth\":0,\"ticks\":\"\"},\"type\":\"contourcarpet\"}],\"heatmap\":[{\"colorbar\":{\"outlinewidth\":0,\"ticks\":\"\"},\"colorscale\":[[0.0,\"#0d0887\"],[0.1111111111111111,\"#46039f\"],[0.2222222222222222,\"#7201a8\"],[0.3333333333333333,\"#9c179e\"],[0.4444444444444444,\"#bd3786\"],[0.5555555555555556,\"#d8576b\"],[0.6666666666666666,\"#ed7953\"],[0.7777777777777778,\"#fb9f3a\"],[0.8888888888888888,\"#fdca26\"],[1.0,\"#f0f921\"]],\"type\":\"heatmap\"}],\"heatmapgl\":[{\"colorbar\":{\"outlinewidth\":0,\"ticks\":\"\"},\"colorscale\":[[0.0,\"#0d0887\"],[0.1111111111111111,\"#46039f\"],[0.2222222222222222,\"#7201a8\"],[0.3333333333333333,\"#9c179e\"],[0.4444444444444444,\"#bd3786\"],[0.5555555555555556,\"#d8576b\"],[0.6666666666666666,\"#ed7953\"],[0.7777777777777778,\"#fb9f3a\"],[0.8888888888888888,\"#fdca26\"],[1.0,\"#f0f921\"]],\"type\":\"heatmapgl\"}],\"histogram\":[{\"marker\":{\"pattern\":{\"fillmode\":\"overlay\",\"size\":10,\"solidity\":0.2}},\"type\":\"histogram\"}],\"histogram2d\":[{\"colorbar\":{\"outlinewidth\":0,\"ticks\":\"\"},\"colorscale\":[[0.0,\"#0d0887\"],[0.1111111111111111,\"#46039f\"],[0.2222222222222222,\"#7201a8\"],[0.3333333333333333,\"#9c179e\"],[0.4444444444444444,\"#bd3786\"],[0.5555555555555556,\"#d8576b\"],[0.6666666666666666,\"#ed7953\"],[0.7777777777777778,\"#fb9f3a\"],[0.8888888888888888,\"#fdca26\"],[1.0,\"#f0f921\"]],\"type\":\"histogram2d\"}],\"histogram2dcontour\":[{\"colorbar\":{\"outlinewidth\":0,\"ticks\":\"\"},\"colorscale\":[[0.0,\"#0d0887\"],[0.1111111111111111,\"#46039f\"],[0.2222222222222222,\"#7201a8\"],[0.3333333333333333,\"#9c179e\"],[0.4444444444444444,\"#bd3786\"],[0.5555555555555556,\"#d8576b\"],[0.6666666666666666,\"#ed7953\"],[0.7777777777777778,\"#fb9f3a\"],[0.8888888888888888,\"#fdca26\"],[1.0,\"#f0f921\"]],\"type\":\"histogram2dcontour\"}],\"mesh3d\":[{\"colorbar\":{\"outlinewidth\":0,\"ticks\":\"\"},\"type\":\"mesh3d\"}],\"parcoords\":[{\"line\":{\"colorbar\":{\"outlinewidth\":0,\"ticks\":\"\"}},\"type\":\"parcoords\"}],\"pie\":[{\"automargin\":true,\"type\":\"pie\"}],\"scatter\":[{\"marker\":{\"colorbar\":{\"outlinewidth\":0,\"ticks\":\"\"}},\"type\":\"scatter\"}],\"scatter3d\":[{\"line\":{\"colorbar\":{\"outlinewidth\":0,\"ticks\":\"\"}},\"marker\":{\"colorbar\":{\"outlinewidth\":0,\"ticks\":\"\"}},\"type\":\"scatter3d\"}],\"scattercarpet\":[{\"marker\":{\"colorbar\":{\"outlinewidth\":0,\"ticks\":\"\"}},\"type\":\"scattercarpet\"}],\"scattergeo\":[{\"marker\":{\"colorbar\":{\"outlinewidth\":0,\"ticks\":\"\"}},\"type\":\"scattergeo\"}],\"scattergl\":[{\"marker\":{\"colorbar\":{\"outlinewidth\":0,\"ticks\":\"\"}},\"type\":\"scattergl\"}],\"scattermapbox\":[{\"marker\":{\"colorbar\":{\"outlinewidth\":0,\"ticks\":\"\"}},\"type\":\"scattermapbox\"}],\"scatterpolar\":[{\"marker\":{\"colorbar\":{\"outlinewidth\":0,\"ticks\":\"\"}},\"type\":\"scatterpolar\"}],\"scatterpolargl\":[{\"marker\":{\"colorbar\":{\"outlinewidth\":0,\"ticks\":\"\"}},\"type\":\"scatterpolargl\"}],\"scatterternary\":[{\"marker\":{\"colorbar\":{\"outlinewidth\":0,\"ticks\":\"\"}},\"type\":\"scatterternary\"}],\"surface\":[{\"colorbar\":{\"outlinewidth\":0,\"ticks\":\"\"},\"colorscale\":[[0.0,\"#0d0887\"],[0.1111111111111111,\"#46039f\"],[0.2222222222222222,\"#7201a8\"],[0.3333333333333333,\"#9c179e\"],[0.4444444444444444,\"#bd3786\"],[0.5555555555555556,\"#d8576b\"],[0.6666666666666666,\"#ed7953\"],[0.7777777777777778,\"#fb9f3a\"],[0.8888888888888888,\"#fdca26\"],[1.0,\"#f0f921\"]],\"type\":\"surface\"}],\"table\":[{\"cells\":{\"fill\":{\"color\":\"#EBF0F8\"},\"line\":{\"color\":\"white\"}},\"header\":{\"fill\":{\"color\":\"#C8D4E3\"},\"line\":{\"color\":\"white\"}},\"type\":\"table\"}]},\"layout\":{\"annotationdefaults\":{\"arrowcolor\":\"#2a3f5f\",\"arrowhead\":0,\"arrowwidth\":1},\"autotypenumbers\":\"strict\",\"coloraxis\":{\"colorbar\":{\"outlinewidth\":0,\"ticks\":\"\"}},\"colorscale\":{\"diverging\":[[0,\"#8e0152\"],[0.1,\"#c51b7d\"],[0.2,\"#de77ae\"],[0.3,\"#f1b6da\"],[0.4,\"#fde0ef\"],[0.5,\"#f7f7f7\"],[0.6,\"#e6f5d0\"],[0.7,\"#b8e186\"],[0.8,\"#7fbc41\"],[0.9,\"#4d9221\"],[1,\"#276419\"]],\"sequential\":[[0.0,\"#0d0887\"],[0.1111111111111111,\"#46039f\"],[0.2222222222222222,\"#7201a8\"],[0.3333333333333333,\"#9c179e\"],[0.4444444444444444,\"#bd3786\"],[0.5555555555555556,\"#d8576b\"],[0.6666666666666666,\"#ed7953\"],[0.7777777777777778,\"#fb9f3a\"],[0.8888888888888888,\"#fdca26\"],[1.0,\"#f0f921\"]],\"sequentialminus\":[[0.0,\"#0d0887\"],[0.1111111111111111,\"#46039f\"],[0.2222222222222222,\"#7201a8\"],[0.3333333333333333,\"#9c179e\"],[0.4444444444444444,\"#bd3786\"],[0.5555555555555556,\"#d8576b\"],[0.6666666666666666,\"#ed7953\"],[0.7777777777777778,\"#fb9f3a\"],[0.8888888888888888,\"#fdca26\"],[1.0,\"#f0f921\"]]},\"colorway\":[\"#636efa\",\"#EF553B\",\"#00cc96\",\"#ab63fa\",\"#FFA15A\",\"#19d3f3\",\"#FF6692\",\"#B6E880\",\"#FF97FF\",\"#FECB52\"],\"font\":{\"color\":\"#2a3f5f\"},\"geo\":{\"bgcolor\":\"white\",\"lakecolor\":\"white\",\"landcolor\":\"#E5ECF6\",\"showlakes\":true,\"showland\":true,\"subunitcolor\":\"white\"},\"hoverlabel\":{\"align\":\"left\"},\"hovermode\":\"closest\",\"mapbox\":{\"style\":\"light\"},\"paper_bgcolor\":\"white\",\"plot_bgcolor\":\"#E5ECF6\",\"polar\":{\"angularaxis\":{\"gridcolor\":\"white\",\"linecolor\":\"white\",\"ticks\":\"\"},\"bgcolor\":\"#E5ECF6\",\"radialaxis\":{\"gridcolor\":\"white\",\"linecolor\":\"white\",\"ticks\":\"\"}},\"scene\":{\"xaxis\":{\"backgroundcolor\":\"#E5ECF6\",\"gridcolor\":\"white\",\"gridwidth\":2,\"linecolor\":\"white\",\"showbackground\":true,\"ticks\":\"\",\"zerolinecolor\":\"white\"},\"yaxis\":{\"backgroundcolor\":\"#E5ECF6\",\"gridcolor\":\"white\",\"gridwidth\":2,\"linecolor\":\"white\",\"showbackground\":true,\"ticks\":\"\",\"zerolinecolor\":\"white\"},\"zaxis\":{\"backgroundcolor\":\"#E5ECF6\",\"gridcolor\":\"white\",\"gridwidth\":2,\"linecolor\":\"white\",\"showbackground\":true,\"ticks\":\"\",\"zerolinecolor\":\"white\"}},\"shapedefaults\":{\"line\":{\"color\":\"#2a3f5f\"}},\"ternary\":{\"aaxis\":{\"gridcolor\":\"white\",\"linecolor\":\"white\",\"ticks\":\"\"},\"baxis\":{\"gridcolor\":\"white\",\"linecolor\":\"white\",\"ticks\":\"\"},\"bgcolor\":\"#E5ECF6\",\"caxis\":{\"gridcolor\":\"white\",\"linecolor\":\"white\",\"ticks\":\"\"}},\"title\":{\"x\":0.05},\"xaxis\":{\"automargin\":true,\"gridcolor\":\"white\",\"linecolor\":\"white\",\"ticks\":\"\",\"title\":{\"standoff\":15},\"zerolinecolor\":\"white\",\"zerolinewidth\":2},\"yaxis\":{\"automargin\":true,\"gridcolor\":\"white\",\"linecolor\":\"white\",\"ticks\":\"\",\"title\":{\"standoff\":15},\"zerolinecolor\":\"white\",\"zerolinewidth\":2}}},\"xaxis\":{\"anchor\":\"y\",\"domain\":[0.0,1.0],\"title\":{\"text\":\"release_year\"},\"categoryorder\":\"array\",\"categoryarray\":[2020,2021,1993,2018,1996,1998,1997,2010,2013,2017,1975,1978,1983,1987,2012,2001,2014,2002,2003,2004,2011,2008,2009,2007,2005,2006,1994,2015,2019,2016,1982,1989,1990,1991,1999,1986,1992,1984,1980,1961,2000,1995,1985,1976,1959,1988,1981,1972,1964,1945,1954,1979,1958,1956,1963,1970,1973,1925,1974,1960,1966,1971,1962,1969,1977,1967,1968,1965,1946,1942,1955,1944,1947,1943]},\"yaxis\":{\"anchor\":\"x\",\"domain\":[0.0,1.0],\"title\":{\"text\":\"count\"}},\"legend\":{\"title\":{\"text\":\"release_year\"},\"tracegroupgap\":0},\"margin\":{\"t\":60},\"barmode\":\"relative\"},                        {\"responsive\": true}                    ).then(function(){\n",
              "                            \n",
              "var gd = document.getElementById('3d9d41eb-0486-443d-a014-8a51a86737b2');\n",
              "var x = new MutationObserver(function (mutations, observer) {{\n",
              "        var display = window.getComputedStyle(gd).display;\n",
              "        if (!display || display === 'none') {{\n",
              "            console.log([gd, 'removed!']);\n",
              "            Plotly.purge(gd);\n",
              "            observer.disconnect();\n",
              "        }}\n",
              "}});\n",
              "\n",
              "// Listen for the removal of the full notebook cells\n",
              "var notebookContainer = gd.closest('#notebook-container');\n",
              "if (notebookContainer) {{\n",
              "    x.observe(notebookContainer, {childList: true});\n",
              "}}\n",
              "\n",
              "// Listen for the clearing of the current output cell\n",
              "var outputEl = gd.closest('.output');\n",
              "if (outputEl) {{\n",
              "    x.observe(outputEl, {childList: true});\n",
              "}}\n",
              "\n",
              "                        })                };                            </script>        </div>\n",
              "</body>\n",
              "</html>"
            ]
          },
          "metadata": {}
        }
      ]
    },
    {
      "cell_type": "markdown",
      "source": [
        "* **release year**은 실제 작품이 출시된 날짜를 의미한다.\n",
        "* 2018년에 출시된 작품이 가장 많이 등록되어 있다.\n",
        "* 최근에 출시된 작품들이 주를 이루고 있음을 확인할 수 있다.\n",
        "* 드물게 고전 영화들도 있다."
      ],
      "metadata": {
        "id": "yEYdcOKsjrz0"
      }
    },
    {
      "cell_type": "markdown",
      "source": [
        "#### date_added column을 datetime 자료형으로 변환"
      ],
      "metadata": {
        "id": "Mfy2vkXJzfGW"
      }
    },
    {
      "cell_type": "code",
      "source": [
        "# date_added column을 datetime 자료형으로 변환\n",
        "\n",
        "netflix['date_added'] = pd.to_datetime(netflix['date_added'])\n",
        "netflix.dtypes"
      ],
      "metadata": {
        "id": "cyWGejPkNMQt",
        "colab": {
          "base_uri": "https://localhost:8080/"
        },
        "outputId": "2a8cf11a-0e4f-4836-d513-53f87ee0aa00"
      },
      "execution_count": null,
      "outputs": [
        {
          "output_type": "execute_result",
          "data": {
            "text/plain": [
              "show_id                 object\n",
              "type                    object\n",
              "title                   object\n",
              "director                object\n",
              "cast                    object\n",
              "country                 object\n",
              "date_added      datetime64[ns]\n",
              "release_year             int64\n",
              "rating                  object\n",
              "duration                object\n",
              "listed_in               object\n",
              "description             object\n",
              "dtype: object"
            ]
          },
          "metadata": {},
          "execution_count": 22
        }
      ]
    },
    {
      "cell_type": "code",
      "source": [
        "# date_added column이 잘 바뀌었는지 샘플 확인\n",
        "\n",
        "netflix.sample()"
      ],
      "metadata": {
        "id": "EfCm2ByZNMYF",
        "colab": {
          "base_uri": "https://localhost:8080/"
        },
        "outputId": "379b767f-10a6-4359-99c2-73d70c427a45"
      },
      "execution_count": null,
      "outputs": [
        {
          "output_type": "execute_result",
          "data": {
            "text/html": [
              "\n",
              "  <div id=\"df-fe888777-09b6-4ba5-812a-a6be32e0dfb5\">\n",
              "    <div class=\"colab-df-container\">\n",
              "      <div>\n",
              "<style scoped>\n",
              "    .dataframe tbody tr th:only-of-type {\n",
              "        vertical-align: middle;\n",
              "    }\n",
              "\n",
              "    .dataframe tbody tr th {\n",
              "        vertical-align: top;\n",
              "    }\n",
              "\n",
              "    .dataframe thead th {\n",
              "        text-align: right;\n",
              "    }\n",
              "</style>\n",
              "<table border=\"1\" class=\"dataframe\">\n",
              "  <thead>\n",
              "    <tr style=\"text-align: right;\">\n",
              "      <th></th>\n",
              "      <th>show_id</th>\n",
              "      <th>type</th>\n",
              "      <th>title</th>\n",
              "      <th>director</th>\n",
              "      <th>cast</th>\n",
              "      <th>country</th>\n",
              "      <th>date_added</th>\n",
              "      <th>release_year</th>\n",
              "      <th>rating</th>\n",
              "      <th>duration</th>\n",
              "      <th>listed_in</th>\n",
              "      <th>description</th>\n",
              "    </tr>\n",
              "  </thead>\n",
              "  <tbody>\n",
              "    <tr>\n",
              "      <th>4522</th>\n",
              "      <td>s4523</td>\n",
              "      <td>Movie</td>\n",
              "      <td>22 July</td>\n",
              "      <td>Paul Greengrass</td>\n",
              "      <td>Anders Danielsen Lie, Jon Øigarden, Jonas Stra...</td>\n",
              "      <td>Norway, Iceland, United States</td>\n",
              "      <td>2018-10-10</td>\n",
              "      <td>2018</td>\n",
              "      <td>R</td>\n",
              "      <td>144 min</td>\n",
              "      <td>Dramas, Thrillers</td>\n",
              "      <td>After devastating terror attacks in Norway, a ...</td>\n",
              "    </tr>\n",
              "  </tbody>\n",
              "</table>\n",
              "</div>\n",
              "      <button class=\"colab-df-convert\" onclick=\"convertToInteractive('df-fe888777-09b6-4ba5-812a-a6be32e0dfb5')\"\n",
              "              title=\"Convert this dataframe to an interactive table.\"\n",
              "              style=\"display:none;\">\n",
              "        \n",
              "  <svg xmlns=\"http://www.w3.org/2000/svg\" height=\"24px\"viewBox=\"0 0 24 24\"\n",
              "       width=\"24px\">\n",
              "    <path d=\"M0 0h24v24H0V0z\" fill=\"none\"/>\n",
              "    <path d=\"M18.56 5.44l.94 2.06.94-2.06 2.06-.94-2.06-.94-.94-2.06-.94 2.06-2.06.94zm-11 1L8.5 8.5l.94-2.06 2.06-.94-2.06-.94L8.5 2.5l-.94 2.06-2.06.94zm10 10l.94 2.06.94-2.06 2.06-.94-2.06-.94-.94-2.06-.94 2.06-2.06.94z\"/><path d=\"M17.41 7.96l-1.37-1.37c-.4-.4-.92-.59-1.43-.59-.52 0-1.04.2-1.43.59L10.3 9.45l-7.72 7.72c-.78.78-.78 2.05 0 2.83L4 21.41c.39.39.9.59 1.41.59.51 0 1.02-.2 1.41-.59l7.78-7.78 2.81-2.81c.8-.78.8-2.07 0-2.86zM5.41 20L4 18.59l7.72-7.72 1.47 1.35L5.41 20z\"/>\n",
              "  </svg>\n",
              "      </button>\n",
              "      \n",
              "  <style>\n",
              "    .colab-df-container {\n",
              "      display:flex;\n",
              "      flex-wrap:wrap;\n",
              "      gap: 12px;\n",
              "    }\n",
              "\n",
              "    .colab-df-convert {\n",
              "      background-color: #E8F0FE;\n",
              "      border: none;\n",
              "      border-radius: 50%;\n",
              "      cursor: pointer;\n",
              "      display: none;\n",
              "      fill: #1967D2;\n",
              "      height: 32px;\n",
              "      padding: 0 0 0 0;\n",
              "      width: 32px;\n",
              "    }\n",
              "\n",
              "    .colab-df-convert:hover {\n",
              "      background-color: #E2EBFA;\n",
              "      box-shadow: 0px 1px 2px rgba(60, 64, 67, 0.3), 0px 1px 3px 1px rgba(60, 64, 67, 0.15);\n",
              "      fill: #174EA6;\n",
              "    }\n",
              "\n",
              "    [theme=dark] .colab-df-convert {\n",
              "      background-color: #3B4455;\n",
              "      fill: #D2E3FC;\n",
              "    }\n",
              "\n",
              "    [theme=dark] .colab-df-convert:hover {\n",
              "      background-color: #434B5C;\n",
              "      box-shadow: 0px 1px 3px 1px rgba(0, 0, 0, 0.15);\n",
              "      filter: drop-shadow(0px 1px 2px rgba(0, 0, 0, 0.3));\n",
              "      fill: #FFFFFF;\n",
              "    }\n",
              "  </style>\n",
              "\n",
              "      <script>\n",
              "        const buttonEl =\n",
              "          document.querySelector('#df-fe888777-09b6-4ba5-812a-a6be32e0dfb5 button.colab-df-convert');\n",
              "        buttonEl.style.display =\n",
              "          google.colab.kernel.accessAllowed ? 'block' : 'none';\n",
              "\n",
              "        async function convertToInteractive(key) {\n",
              "          const element = document.querySelector('#df-fe888777-09b6-4ba5-812a-a6be32e0dfb5');\n",
              "          const dataTable =\n",
              "            await google.colab.kernel.invokeFunction('convertToInteractive',\n",
              "                                                     [key], {});\n",
              "          if (!dataTable) return;\n",
              "\n",
              "          const docLinkHtml = 'Like what you see? Visit the ' +\n",
              "            '<a target=\"_blank\" href=https://colab.research.google.com/notebooks/data_table.ipynb>data table notebook</a>'\n",
              "            + ' to learn more about interactive tables.';\n",
              "          element.innerHTML = '';\n",
              "          dataTable['output_type'] = 'display_data';\n",
              "          await google.colab.output.renderOutput(dataTable, element);\n",
              "          const docLink = document.createElement('div');\n",
              "          docLink.innerHTML = docLinkHtml;\n",
              "          element.appendChild(docLink);\n",
              "        }\n",
              "      </script>\n",
              "    </div>\n",
              "  </div>\n",
              "  "
            ],
            "text/plain": [
              "     show_id   type    title         director  \\\n",
              "4522   s4523  Movie  22 July  Paul Greengrass   \n",
              "\n",
              "                                                   cast  \\\n",
              "4522  Anders Danielsen Lie, Jon Øigarden, Jonas Stra...   \n",
              "\n",
              "                             country date_added  release_year rating duration  \\\n",
              "4522  Norway, Iceland, United States 2018-10-10          2018      R  144 min   \n",
              "\n",
              "              listed_in                                        description  \n",
              "4522  Dramas, Thrillers  After devastating terror attacks in Norway, a ...  "
            ]
          },
          "metadata": {},
          "execution_count": 23
        }
      ]
    },
    {
      "cell_type": "markdown",
      "source": [
        "#### date added"
      ],
      "metadata": {
        "id": "ezWyg-O3zODA"
      }
    },
    {
      "cell_type": "code",
      "source": [
        "# 넷플릭스에 추가된 날짜\n",
        "\n",
        "netflix[\"date_added\"].hist()"
      ],
      "metadata": {
        "id": "jLdmF8bYAuzz",
        "colab": {
          "base_uri": "https://localhost:8080/",
          "height": 283
        },
        "outputId": "c29d5182-6e6c-432c-b3b3-ff815c68850a"
      },
      "execution_count": null,
      "outputs": [
        {
          "output_type": "execute_result",
          "data": {
            "text/plain": [
              "<matplotlib.axes._subplots.AxesSubplot at 0x7f937f832250>"
            ]
          },
          "metadata": {},
          "execution_count": 24
        },
        {
          "output_type": "display_data",
          "data": {
            "image/png": "[encoded data removed]",
            "text/plain": [
              "<Figure size 432x288 with 1 Axes>"
            ]
          },
          "metadata": {
            "needs_background": "light"
          }
        }
      ]
    },
    {
      "cell_type": "markdown",
      "source": [
        "* **date added**는 작품이 넷플릭스에 추가된 날짜를 의미한다.\n",
        "* 최근 5년 간 대부분의 작품이 넷플릭스에 업로드 됨을 확인할 수 있다."
      ],
      "metadata": {
        "id": "GQfhk94QkSBU"
      }
    },
    {
      "cell_type": "markdown",
      "source": [
        "#### 'year_added', 'month_added', 'day_added' column 추가"
      ],
      "metadata": {
        "id": "mGJ_GvdIzH8Z"
      }
    },
    {
      "cell_type": "code",
      "source": [
        "# 'year_added', 'month_added', 'day_added' column을 새로 만들어 준다.\n",
        "\n",
        "netflix['year_added'] = netflix['date_added'].dt.year\n",
        "netflix['month_added'] = netflix['date_added'].dt.month\n",
        "netflix['day_added'] = netflix['date_added'].dt.day"
      ],
      "metadata": {
        "id": "HZtTWkQq0GDU"
      },
      "execution_count": null,
      "outputs": []
    },
    {
      "cell_type": "markdown",
      "source": [
        "#### 연도별 작품 수 셋업"
      ],
      "metadata": {
        "id": "fvyzkCROy9gd"
      }
    },
    {
      "cell_type": "code",
      "source": [
        "# 넷플릭스에 추가된 연도별 작품 수\n",
        "\n",
        "d1 = netflix[netflix[\"type\"] == \"TV Show\"]\n",
        "d2 = netflix[netflix[\"type\"] == \"Movie\"]\n",
        "\n",
        "col = \"year_added\"\n",
        "\n",
        "vc1 = d1[col].value_counts().reset_index()\n",
        "vc1 = vc1.rename(columns = {col : \"count\", \"index\" : col})\n",
        "vc1 = vc1.sort_values(col)\n",
        "\n",
        "vc2 = d2[col].value_counts().reset_index()\n",
        "vc2 = vc2.rename(columns = {col : \"count\", \"index\" : col})\n",
        "vc2 = vc2.sort_values(col)\n",
        "\n",
        "trace1 = go.Scatter(x=vc1[col], y=vc1[\"count\"], name=\"TV Shows\", marker=dict(color=\"#b20710\"))\n",
        "trace2 = go.Scatter(x=vc2[col], y=vc2[\"count\"], name=\"Movies\", marker=dict(color=\"#221f1f\"))\n",
        "data = [trace1, trace2]\n",
        "layout = go.Layout(title=\"연도별 작품 수 증가 추이\", legend=dict(x=0.1, y=1.1, orientation=\"h\"))\n",
        "fig = go.Figure(data, layout=layout)\n",
        "#fig.show()"
      ],
      "metadata": {
        "id": "CV9pA1VKVjxV"
      },
      "execution_count": null,
      "outputs": []
    },
    {
      "cell_type": "markdown",
      "source": [
        "#### 넷플릭스에 추가된 연도별 작품 수"
      ],
      "metadata": {
        "id": "pOON3mGcyxxU"
      }
    },
    {
      "cell_type": "code",
      "source": [
        "fig.show()"
      ],
      "metadata": {
        "colab": {
          "base_uri": "https://localhost:8080/",
          "height": 542
        },
        "id": "VYebWA2-ynqP",
        "outputId": "c71a39c2-0fb5-4535-d2ad-adb7b5e4f694"
      },
      "execution_count": null,
      "outputs": [
        {
          "output_type": "display_data",
          "data": {
            "text/html": [
              "<html>\n",
              "<head><meta charset=\"utf-8\" /></head>\n",
              "<body>\n",
              "    <div>            <script src=\"https://cdnjs.cloudflare.com/ajax/libs/mathjax/2.7.5/MathJax.js?config=TeX-AMS-MML_SVG\"></script><script type=\"text/javascript\">if (window.MathJax) {MathJax.Hub.Config({SVG: {font: \"STIX-Web\"}});}</script>                <script type=\"text/javascript\">window.PlotlyConfig = {MathJaxConfig: 'local'};</script>\n",
              "        <script src=\"https://cdn.plot.ly/plotly-2.8.3.min.js\"></script>                <div id=\"e615334d-5853-440e-b5fb-75eb73753aee\" class=\"plotly-graph-div\" style=\"height:525px; width:100%;\"></div>            <script type=\"text/javascript\">                                    window.PLOTLYENV=window.PLOTLYENV || {};                                    if (document.getElementById(\"e615334d-5853-440e-b5fb-75eb73753aee\")) {                    Plotly.newPlot(                        \"e615334d-5853-440e-b5fb-75eb73753aee\",                        [{\"marker\":{\"color\":\"#b20710\"},\"name\":\"TV Shows\",\"x\":[2008.0,2013.0,2014.0,2015.0,2016.0,2017.0,2018.0,2019.0,2020.0,2021.0],\"y\":[1,5,5,26,176,349,412,592,595,505],\"type\":\"scatter\"},{\"marker\":{\"color\":\"#221f1f\"},\"name\":\"Movies\",\"x\":[2008.0,2009.0,2010.0,2011.0,2012.0,2013.0,2014.0,2015.0,2016.0,2017.0,2018.0,2019.0,2020.0,2021.0],\"y\":[1,2,1,13,3,6,19,56,253,839,1237,1424,1284,993],\"type\":\"scatter\"}],                        {\"legend\":{\"orientation\":\"h\",\"x\":0.1,\"y\":1.1},\"title\":{\"text\":\"\\uc5f0\\ub3c4\\ubcc4 \\uc791\\ud488 \\uc218 \\uc99d\\uac00 \\ucd94\\uc774\"},\"template\":{\"data\":{\"bar\":[{\"error_x\":{\"color\":\"#2a3f5f\"},\"error_y\":{\"color\":\"#2a3f5f\"},\"marker\":{\"line\":{\"color\":\"#E5ECF6\",\"width\":0.5},\"pattern\":{\"fillmode\":\"overlay\",\"size\":10,\"solidity\":0.2}},\"type\":\"bar\"}],\"barpolar\":[{\"marker\":{\"line\":{\"color\":\"#E5ECF6\",\"width\":0.5},\"pattern\":{\"fillmode\":\"overlay\",\"size\":10,\"solidity\":0.2}},\"type\":\"barpolar\"}],\"carpet\":[{\"aaxis\":{\"endlinecolor\":\"#2a3f5f\",\"gridcolor\":\"white\",\"linecolor\":\"white\",\"minorgridcolor\":\"white\",\"startlinecolor\":\"#2a3f5f\"},\"baxis\":{\"endlinecolor\":\"#2a3f5f\",\"gridcolor\":\"white\",\"linecolor\":\"white\",\"minorgridcolor\":\"white\",\"startlinecolor\":\"#2a3f5f\"},\"type\":\"carpet\"}],\"choropleth\":[{\"colorbar\":{\"outlinewidth\":0,\"ticks\":\"\"},\"type\":\"choropleth\"}],\"contour\":[{\"colorbar\":{\"outlinewidth\":0,\"ticks\":\"\"},\"colorscale\":[[0.0,\"#0d0887\"],[0.1111111111111111,\"#46039f\"],[0.2222222222222222,\"#7201a8\"],[0.3333333333333333,\"#9c179e\"],[0.4444444444444444,\"#bd3786\"],[0.5555555555555556,\"#d8576b\"],[0.6666666666666666,\"#ed7953\"],[0.7777777777777778,\"#fb9f3a\"],[0.8888888888888888,\"#fdca26\"],[1.0,\"#f0f921\"]],\"type\":\"contour\"}],\"contourcarpet\":[{\"colorbar\":{\"outlinewidth\":0,\"ticks\":\"\"},\"type\":\"contourcarpet\"}],\"heatmap\":[{\"colorbar\":{\"outlinewidth\":0,\"ticks\":\"\"},\"colorscale\":[[0.0,\"#0d0887\"],[0.1111111111111111,\"#46039f\"],[0.2222222222222222,\"#7201a8\"],[0.3333333333333333,\"#9c179e\"],[0.4444444444444444,\"#bd3786\"],[0.5555555555555556,\"#d8576b\"],[0.6666666666666666,\"#ed7953\"],[0.7777777777777778,\"#fb9f3a\"],[0.8888888888888888,\"#fdca26\"],[1.0,\"#f0f921\"]],\"type\":\"heatmap\"}],\"heatmapgl\":[{\"colorbar\":{\"outlinewidth\":0,\"ticks\":\"\"},\"colorscale\":[[0.0,\"#0d0887\"],[0.1111111111111111,\"#46039f\"],[0.2222222222222222,\"#7201a8\"],[0.3333333333333333,\"#9c179e\"],[0.4444444444444444,\"#bd3786\"],[0.5555555555555556,\"#d8576b\"],[0.6666666666666666,\"#ed7953\"],[0.7777777777777778,\"#fb9f3a\"],[0.8888888888888888,\"#fdca26\"],[1.0,\"#f0f921\"]],\"type\":\"heatmapgl\"}],\"histogram\":[{\"marker\":{\"pattern\":{\"fillmode\":\"overlay\",\"size\":10,\"solidity\":0.2}},\"type\":\"histogram\"}],\"histogram2d\":[{\"colorbar\":{\"outlinewidth\":0,\"ticks\":\"\"},\"colorscale\":[[0.0,\"#0d0887\"],[0.1111111111111111,\"#46039f\"],[0.2222222222222222,\"#7201a8\"],[0.3333333333333333,\"#9c179e\"],[0.4444444444444444,\"#bd3786\"],[0.5555555555555556,\"#d8576b\"],[0.6666666666666666,\"#ed7953\"],[0.7777777777777778,\"#fb9f3a\"],[0.8888888888888888,\"#fdca26\"],[1.0,\"#f0f921\"]],\"type\":\"histogram2d\"}],\"histogram2dcontour\":[{\"colorbar\":{\"outlinewidth\":0,\"ticks\":\"\"},\"colorscale\":[[0.0,\"#0d0887\"],[0.1111111111111111,\"#46039f\"],[0.2222222222222222,\"#7201a8\"],[0.3333333333333333,\"#9c179e\"],[0.4444444444444444,\"#bd3786\"],[0.5555555555555556,\"#d8576b\"],[0.6666666666666666,\"#ed7953\"],[0.7777777777777778,\"#fb9f3a\"],[0.8888888888888888,\"#fdca26\"],[1.0,\"#f0f921\"]],\"type\":\"histogram2dcontour\"}],\"mesh3d\":[{\"colorbar\":{\"outlinewidth\":0,\"ticks\":\"\"},\"type\":\"mesh3d\"}],\"parcoords\":[{\"line\":{\"colorbar\":{\"outlinewidth\":0,\"ticks\":\"\"}},\"type\":\"parcoords\"}],\"pie\":[{\"automargin\":true,\"type\":\"pie\"}],\"scatter\":[{\"marker\":{\"colorbar\":{\"outlinewidth\":0,\"ticks\":\"\"}},\"type\":\"scatter\"}],\"scatter3d\":[{\"line\":{\"colorbar\":{\"outlinewidth\":0,\"ticks\":\"\"}},\"marker\":{\"colorbar\":{\"outlinewidth\":0,\"ticks\":\"\"}},\"type\":\"scatter3d\"}],\"scattercarpet\":[{\"marker\":{\"colorbar\":{\"outlinewidth\":0,\"ticks\":\"\"}},\"type\":\"scattercarpet\"}],\"scattergeo\":[{\"marker\":{\"colorbar\":{\"outlinewidth\":0,\"ticks\":\"\"}},\"type\":\"scattergeo\"}],\"scattergl\":[{\"marker\":{\"colorbar\":{\"outlinewidth\":0,\"ticks\":\"\"}},\"type\":\"scattergl\"}],\"scattermapbox\":[{\"marker\":{\"colorbar\":{\"outlinewidth\":0,\"ticks\":\"\"}},\"type\":\"scattermapbox\"}],\"scatterpolar\":[{\"marker\":{\"colorbar\":{\"outlinewidth\":0,\"ticks\":\"\"}},\"type\":\"scatterpolar\"}],\"scatterpolargl\":[{\"marker\":{\"colorbar\":{\"outlinewidth\":0,\"ticks\":\"\"}},\"type\":\"scatterpolargl\"}],\"scatterternary\":[{\"marker\":{\"colorbar\":{\"outlinewidth\":0,\"ticks\":\"\"}},\"type\":\"scatterternary\"}],\"surface\":[{\"colorbar\":{\"outlinewidth\":0,\"ticks\":\"\"},\"colorscale\":[[0.0,\"#0d0887\"],[0.1111111111111111,\"#46039f\"],[0.2222222222222222,\"#7201a8\"],[0.3333333333333333,\"#9c179e\"],[0.4444444444444444,\"#bd3786\"],[0.5555555555555556,\"#d8576b\"],[0.6666666666666666,\"#ed7953\"],[0.7777777777777778,\"#fb9f3a\"],[0.8888888888888888,\"#fdca26\"],[1.0,\"#f0f921\"]],\"type\":\"surface\"}],\"table\":[{\"cells\":{\"fill\":{\"color\":\"#EBF0F8\"},\"line\":{\"color\":\"white\"}},\"header\":{\"fill\":{\"color\":\"#C8D4E3\"},\"line\":{\"color\":\"white\"}},\"type\":\"table\"}]},\"layout\":{\"annotationdefaults\":{\"arrowcolor\":\"#2a3f5f\",\"arrowhead\":0,\"arrowwidth\":1},\"autotypenumbers\":\"strict\",\"coloraxis\":{\"colorbar\":{\"outlinewidth\":0,\"ticks\":\"\"}},\"colorscale\":{\"diverging\":[[0,\"#8e0152\"],[0.1,\"#c51b7d\"],[0.2,\"#de77ae\"],[0.3,\"#f1b6da\"],[0.4,\"#fde0ef\"],[0.5,\"#f7f7f7\"],[0.6,\"#e6f5d0\"],[0.7,\"#b8e186\"],[0.8,\"#7fbc41\"],[0.9,\"#4d9221\"],[1,\"#276419\"]],\"sequential\":[[0.0,\"#0d0887\"],[0.1111111111111111,\"#46039f\"],[0.2222222222222222,\"#7201a8\"],[0.3333333333333333,\"#9c179e\"],[0.4444444444444444,\"#bd3786\"],[0.5555555555555556,\"#d8576b\"],[0.6666666666666666,\"#ed7953\"],[0.7777777777777778,\"#fb9f3a\"],[0.8888888888888888,\"#fdca26\"],[1.0,\"#f0f921\"]],\"sequentialminus\":[[0.0,\"#0d0887\"],[0.1111111111111111,\"#46039f\"],[0.2222222222222222,\"#7201a8\"],[0.3333333333333333,\"#9c179e\"],[0.4444444444444444,\"#bd3786\"],[0.5555555555555556,\"#d8576b\"],[0.6666666666666666,\"#ed7953\"],[0.7777777777777778,\"#fb9f3a\"],[0.8888888888888888,\"#fdca26\"],[1.0,\"#f0f921\"]]},\"colorway\":[\"#636efa\",\"#EF553B\",\"#00cc96\",\"#ab63fa\",\"#FFA15A\",\"#19d3f3\",\"#FF6692\",\"#B6E880\",\"#FF97FF\",\"#FECB52\"],\"font\":{\"color\":\"#2a3f5f\"},\"geo\":{\"bgcolor\":\"white\",\"lakecolor\":\"white\",\"landcolor\":\"#E5ECF6\",\"showlakes\":true,\"showland\":true,\"subunitcolor\":\"white\"},\"hoverlabel\":{\"align\":\"left\"},\"hovermode\":\"closest\",\"mapbox\":{\"style\":\"light\"},\"paper_bgcolor\":\"white\",\"plot_bgcolor\":\"#E5ECF6\",\"polar\":{\"angularaxis\":{\"gridcolor\":\"white\",\"linecolor\":\"white\",\"ticks\":\"\"},\"bgcolor\":\"#E5ECF6\",\"radialaxis\":{\"gridcolor\":\"white\",\"linecolor\":\"white\",\"ticks\":\"\"}},\"scene\":{\"xaxis\":{\"backgroundcolor\":\"#E5ECF6\",\"gridcolor\":\"white\",\"gridwidth\":2,\"linecolor\":\"white\",\"showbackground\":true,\"ticks\":\"\",\"zerolinecolor\":\"white\"},\"yaxis\":{\"backgroundcolor\":\"#E5ECF6\",\"gridcolor\":\"white\",\"gridwidth\":2,\"linecolor\":\"white\",\"showbackground\":true,\"ticks\":\"\",\"zerolinecolor\":\"white\"},\"zaxis\":{\"backgroundcolor\":\"#E5ECF6\",\"gridcolor\":\"white\",\"gridwidth\":2,\"linecolor\":\"white\",\"showbackground\":true,\"ticks\":\"\",\"zerolinecolor\":\"white\"}},\"shapedefaults\":{\"line\":{\"color\":\"#2a3f5f\"}},\"ternary\":{\"aaxis\":{\"gridcolor\":\"white\",\"linecolor\":\"white\",\"ticks\":\"\"},\"baxis\":{\"gridcolor\":\"white\",\"linecolor\":\"white\",\"ticks\":\"\"},\"bgcolor\":\"#E5ECF6\",\"caxis\":{\"gridcolor\":\"white\",\"linecolor\":\"white\",\"ticks\":\"\"}},\"title\":{\"x\":0.05},\"xaxis\":{\"automargin\":true,\"gridcolor\":\"white\",\"linecolor\":\"white\",\"ticks\":\"\",\"title\":{\"standoff\":15},\"zerolinecolor\":\"white\",\"zerolinewidth\":2},\"yaxis\":{\"automargin\":true,\"gridcolor\":\"white\",\"linecolor\":\"white\",\"ticks\":\"\",\"title\":{\"standoff\":15},\"zerolinecolor\":\"white\",\"zerolinewidth\":2}}}},                        {\"responsive\": true}                    ).then(function(){\n",
              "                            \n",
              "var gd = document.getElementById('e615334d-5853-440e-b5fb-75eb73753aee');\n",
              "var x = new MutationObserver(function (mutations, observer) {{\n",
              "        var display = window.getComputedStyle(gd).display;\n",
              "        if (!display || display === 'none') {{\n",
              "            console.log([gd, 'removed!']);\n",
              "            Plotly.purge(gd);\n",
              "            observer.disconnect();\n",
              "        }}\n",
              "}});\n",
              "\n",
              "// Listen for the removal of the full notebook cells\n",
              "var notebookContainer = gd.closest('#notebook-container');\n",
              "if (notebookContainer) {{\n",
              "    x.observe(notebookContainer, {childList: true});\n",
              "}}\n",
              "\n",
              "// Listen for the clearing of the current output cell\n",
              "var outputEl = gd.closest('.output');\n",
              "if (outputEl) {{\n",
              "    x.observe(outputEl, {childList: true});\n",
              "}}\n",
              "\n",
              "                        })                };                            </script>        </div>\n",
              "</body>\n",
              "</html>"
            ]
          },
          "metadata": {}
        }
      ]
    },
    {
      "cell_type": "markdown",
      "source": [
        "* 2019년에 가장 많이 업로드 됨을 알 수 있다.\n",
        "* 넷플릭스가 많이 상용화되면서 지속적으로 넷플릭스에 업로드되는 작품 수가 증가하는 추세이다.\n",
        "* 2021년 전체의 데이터가 아니라 2021년에 업로드 된 작품 수가 줄어드는 것처럼 보이지만 전년도보다 늘었을 것으로 기대된다."
      ],
      "metadata": {
        "id": "26PpwiNC8u-a"
      }
    },
    {
      "cell_type": "markdown",
      "source": [
        "#### 월별 작품 수 셋업"
      ],
      "metadata": {
        "id": "kDESxzG_yh6K"
      }
    },
    {
      "cell_type": "code",
      "source": [
        "# 넷플릭스에 추가된 월별 작품 수\n",
        "\n",
        "d1 = netflix[netflix[\"type\"] == \"TV Show\"]\n",
        "d2 = netflix[netflix[\"type\"] == \"Movie\"]\n",
        "\n",
        "col = 'month_added'\n",
        "\n",
        "vc1 = d1[col].value_counts().reset_index()\n",
        "vc1 = vc1.rename(columns = {col : \"count\", \"index\" : col})\n",
        "vc1 = vc1.sort_values(col)\n",
        "\n",
        "vc2 = d2[col].value_counts().reset_index()\n",
        "vc2 = vc2.rename(columns = {col : \"count\", \"index\" : col})\n",
        "vc2 = vc2.sort_values(col)\n",
        "\n",
        "trace1 = go.Bar(x=vc1[col], y=vc1[\"count\"], name=\"TV Shows\", marker=dict(color=\"#b20710\"))\n",
        "trace2 = go.Bar(x=vc2[col], y=vc2[\"count\"], name=\"Movies\", marker=dict(color=\"#221f1f\"))\n",
        "data = [trace1, trace2]\n",
        "layout = go.Layout(title=\"월별 작품 수 증가 추이\", legend=dict(x=0.1, y=1.1, orientation=\"h\"))\n",
        "fig = go.Figure(data, layout=layout)\n",
        "#fig.show()"
      ],
      "metadata": {
        "id": "fi5fzqnsyrQM"
      },
      "execution_count": null,
      "outputs": []
    },
    {
      "cell_type": "markdown",
      "source": [
        "#### 넷플릭스에 추가된 월별 작품 수"
      ],
      "metadata": {
        "id": "cndr4gwgyeo6"
      }
    },
    {
      "cell_type": "code",
      "source": [
        "fig.show()"
      ],
      "metadata": {
        "colab": {
          "base_uri": "https://localhost:8080/",
          "height": 542
        },
        "id": "enzonS9SyXeI",
        "outputId": "a2e7d0e4-f617-48b2-8f25-98403ddbea27"
      },
      "execution_count": null,
      "outputs": [
        {
          "output_type": "display_data",
          "data": {
            "text/html": [
              "<html>\n",
              "<head><meta charset=\"utf-8\" /></head>\n",
              "<body>\n",
              "    <div>            <script src=\"https://cdnjs.cloudflare.com/ajax/libs/mathjax/2.7.5/MathJax.js?config=TeX-AMS-MML_SVG\"></script><script type=\"text/javascript\">if (window.MathJax) {MathJax.Hub.Config({SVG: {font: \"STIX-Web\"}});}</script>                <script type=\"text/javascript\">window.PlotlyConfig = {MathJaxConfig: 'local'};</script>\n",
              "        <script src=\"https://cdn.plot.ly/plotly-2.8.3.min.js\"></script>                <div id=\"4d3e5571-db18-45db-86f9-1892d55636b4\" class=\"plotly-graph-div\" style=\"height:525px; width:100%;\"></div>            <script type=\"text/javascript\">                                    window.PLOTLYENV=window.PLOTLYENV || {};                                    if (document.getElementById(\"4d3e5571-db18-45db-86f9-1892d55636b4\")) {                    Plotly.newPlot(                        \"4d3e5571-db18-45db-86f9-1892d55636b4\",                        [{\"marker\":{\"color\":\"#b20710\"},\"name\":\"TV Shows\",\"x\":[1.0,2.0,3.0,4.0,5.0,6.0,7.0,8.0,9.0,10.0,11.0,12.0],\"y\":[192,181,213,214,193,236,262,236,251,215,207,266],\"type\":\"bar\"},{\"marker\":{\"color\":\"#221f1f\"},\"name\":\"Movies\",\"x\":[1.0,2.0,3.0,4.0,5.0,6.0,7.0,8.0,9.0,10.0,11.0,12.0],\"y\":[546,382,529,550,439,492,565,519,519,545,498,547],\"type\":\"bar\"}],                        {\"legend\":{\"orientation\":\"h\",\"x\":0.1,\"y\":1.1},\"title\":{\"text\":\"\\uc6d4\\ubcc4 \\uc791\\ud488 \\uc218 \\uc99d\\uac00 \\ucd94\\uc774\"},\"template\":{\"data\":{\"bar\":[{\"error_x\":{\"color\":\"#2a3f5f\"},\"error_y\":{\"color\":\"#2a3f5f\"},\"marker\":{\"line\":{\"color\":\"#E5ECF6\",\"width\":0.5},\"pattern\":{\"fillmode\":\"overlay\",\"size\":10,\"solidity\":0.2}},\"type\":\"bar\"}],\"barpolar\":[{\"marker\":{\"line\":{\"color\":\"#E5ECF6\",\"width\":0.5},\"pattern\":{\"fillmode\":\"overlay\",\"size\":10,\"solidity\":0.2}},\"type\":\"barpolar\"}],\"carpet\":[{\"aaxis\":{\"endlinecolor\":\"#2a3f5f\",\"gridcolor\":\"white\",\"linecolor\":\"white\",\"minorgridcolor\":\"white\",\"startlinecolor\":\"#2a3f5f\"},\"baxis\":{\"endlinecolor\":\"#2a3f5f\",\"gridcolor\":\"white\",\"linecolor\":\"white\",\"minorgridcolor\":\"white\",\"startlinecolor\":\"#2a3f5f\"},\"type\":\"carpet\"}],\"choropleth\":[{\"colorbar\":{\"outlinewidth\":0,\"ticks\":\"\"},\"type\":\"choropleth\"}],\"contour\":[{\"colorbar\":{\"outlinewidth\":0,\"ticks\":\"\"},\"colorscale\":[[0.0,\"#0d0887\"],[0.1111111111111111,\"#46039f\"],[0.2222222222222222,\"#7201a8\"],[0.3333333333333333,\"#9c179e\"],[0.4444444444444444,\"#bd3786\"],[0.5555555555555556,\"#d8576b\"],[0.6666666666666666,\"#ed7953\"],[0.7777777777777778,\"#fb9f3a\"],[0.8888888888888888,\"#fdca26\"],[1.0,\"#f0f921\"]],\"type\":\"contour\"}],\"contourcarpet\":[{\"colorbar\":{\"outlinewidth\":0,\"ticks\":\"\"},\"type\":\"contourcarpet\"}],\"heatmap\":[{\"colorbar\":{\"outlinewidth\":0,\"ticks\":\"\"},\"colorscale\":[[0.0,\"#0d0887\"],[0.1111111111111111,\"#46039f\"],[0.2222222222222222,\"#7201a8\"],[0.3333333333333333,\"#9c179e\"],[0.4444444444444444,\"#bd3786\"],[0.5555555555555556,\"#d8576b\"],[0.6666666666666666,\"#ed7953\"],[0.7777777777777778,\"#fb9f3a\"],[0.8888888888888888,\"#fdca26\"],[1.0,\"#f0f921\"]],\"type\":\"heatmap\"}],\"heatmapgl\":[{\"colorbar\":{\"outlinewidth\":0,\"ticks\":\"\"},\"colorscale\":[[0.0,\"#0d0887\"],[0.1111111111111111,\"#46039f\"],[0.2222222222222222,\"#7201a8\"],[0.3333333333333333,\"#9c179e\"],[0.4444444444444444,\"#bd3786\"],[0.5555555555555556,\"#d8576b\"],[0.6666666666666666,\"#ed7953\"],[0.7777777777777778,\"#fb9f3a\"],[0.8888888888888888,\"#fdca26\"],[1.0,\"#f0f921\"]],\"type\":\"heatmapgl\"}],\"histogram\":[{\"marker\":{\"pattern\":{\"fillmode\":\"overlay\",\"size\":10,\"solidity\":0.2}},\"type\":\"histogram\"}],\"histogram2d\":[{\"colorbar\":{\"outlinewidth\":0,\"ticks\":\"\"},\"colorscale\":[[0.0,\"#0d0887\"],[0.1111111111111111,\"#46039f\"],[0.2222222222222222,\"#7201a8\"],[0.3333333333333333,\"#9c179e\"],[0.4444444444444444,\"#bd3786\"],[0.5555555555555556,\"#d8576b\"],[0.6666666666666666,\"#ed7953\"],[0.7777777777777778,\"#fb9f3a\"],[0.8888888888888888,\"#fdca26\"],[1.0,\"#f0f921\"]],\"type\":\"histogram2d\"}],\"histogram2dcontour\":[{\"colorbar\":{\"outlinewidth\":0,\"ticks\":\"\"},\"colorscale\":[[0.0,\"#0d0887\"],[0.1111111111111111,\"#46039f\"],[0.2222222222222222,\"#7201a8\"],[0.3333333333333333,\"#9c179e\"],[0.4444444444444444,\"#bd3786\"],[0.5555555555555556,\"#d8576b\"],[0.6666666666666666,\"#ed7953\"],[0.7777777777777778,\"#fb9f3a\"],[0.8888888888888888,\"#fdca26\"],[1.0,\"#f0f921\"]],\"type\":\"histogram2dcontour\"}],\"mesh3d\":[{\"colorbar\":{\"outlinewidth\":0,\"ticks\":\"\"},\"type\":\"mesh3d\"}],\"parcoords\":[{\"line\":{\"colorbar\":{\"outlinewidth\":0,\"ticks\":\"\"}},\"type\":\"parcoords\"}],\"pie\":[{\"automargin\":true,\"type\":\"pie\"}],\"scatter\":[{\"marker\":{\"colorbar\":{\"outlinewidth\":0,\"ticks\":\"\"}},\"type\":\"scatter\"}],\"scatter3d\":[{\"line\":{\"colorbar\":{\"outlinewidth\":0,\"ticks\":\"\"}},\"marker\":{\"colorbar\":{\"outlinewidth\":0,\"ticks\":\"\"}},\"type\":\"scatter3d\"}],\"scattercarpet\":[{\"marker\":{\"colorbar\":{\"outlinewidth\":0,\"ticks\":\"\"}},\"type\":\"scattercarpet\"}],\"scattergeo\":[{\"marker\":{\"colorbar\":{\"outlinewidth\":0,\"ticks\":\"\"}},\"type\":\"scattergeo\"}],\"scattergl\":[{\"marker\":{\"colorbar\":{\"outlinewidth\":0,\"ticks\":\"\"}},\"type\":\"scattergl\"}],\"scattermapbox\":[{\"marker\":{\"colorbar\":{\"outlinewidth\":0,\"ticks\":\"\"}},\"type\":\"scattermapbox\"}],\"scatterpolar\":[{\"marker\":{\"colorbar\":{\"outlinewidth\":0,\"ticks\":\"\"}},\"type\":\"scatterpolar\"}],\"scatterpolargl\":[{\"marker\":{\"colorbar\":{\"outlinewidth\":0,\"ticks\":\"\"}},\"type\":\"scatterpolargl\"}],\"scatterternary\":[{\"marker\":{\"colorbar\":{\"outlinewidth\":0,\"ticks\":\"\"}},\"type\":\"scatterternary\"}],\"surface\":[{\"colorbar\":{\"outlinewidth\":0,\"ticks\":\"\"},\"colorscale\":[[0.0,\"#0d0887\"],[0.1111111111111111,\"#46039f\"],[0.2222222222222222,\"#7201a8\"],[0.3333333333333333,\"#9c179e\"],[0.4444444444444444,\"#bd3786\"],[0.5555555555555556,\"#d8576b\"],[0.6666666666666666,\"#ed7953\"],[0.7777777777777778,\"#fb9f3a\"],[0.8888888888888888,\"#fdca26\"],[1.0,\"#f0f921\"]],\"type\":\"surface\"}],\"table\":[{\"cells\":{\"fill\":{\"color\":\"#EBF0F8\"},\"line\":{\"color\":\"white\"}},\"header\":{\"fill\":{\"color\":\"#C8D4E3\"},\"line\":{\"color\":\"white\"}},\"type\":\"table\"}]},\"layout\":{\"annotationdefaults\":{\"arrowcolor\":\"#2a3f5f\",\"arrowhead\":0,\"arrowwidth\":1},\"autotypenumbers\":\"strict\",\"coloraxis\":{\"colorbar\":{\"outlinewidth\":0,\"ticks\":\"\"}},\"colorscale\":{\"diverging\":[[0,\"#8e0152\"],[0.1,\"#c51b7d\"],[0.2,\"#de77ae\"],[0.3,\"#f1b6da\"],[0.4,\"#fde0ef\"],[0.5,\"#f7f7f7\"],[0.6,\"#e6f5d0\"],[0.7,\"#b8e186\"],[0.8,\"#7fbc41\"],[0.9,\"#4d9221\"],[1,\"#276419\"]],\"sequential\":[[0.0,\"#0d0887\"],[0.1111111111111111,\"#46039f\"],[0.2222222222222222,\"#7201a8\"],[0.3333333333333333,\"#9c179e\"],[0.4444444444444444,\"#bd3786\"],[0.5555555555555556,\"#d8576b\"],[0.6666666666666666,\"#ed7953\"],[0.7777777777777778,\"#fb9f3a\"],[0.8888888888888888,\"#fdca26\"],[1.0,\"#f0f921\"]],\"sequentialminus\":[[0.0,\"#0d0887\"],[0.1111111111111111,\"#46039f\"],[0.2222222222222222,\"#7201a8\"],[0.3333333333333333,\"#9c179e\"],[0.4444444444444444,\"#bd3786\"],[0.5555555555555556,\"#d8576b\"],[0.6666666666666666,\"#ed7953\"],[0.7777777777777778,\"#fb9f3a\"],[0.8888888888888888,\"#fdca26\"],[1.0,\"#f0f921\"]]},\"colorway\":[\"#636efa\",\"#EF553B\",\"#00cc96\",\"#ab63fa\",\"#FFA15A\",\"#19d3f3\",\"#FF6692\",\"#B6E880\",\"#FF97FF\",\"#FECB52\"],\"font\":{\"color\":\"#2a3f5f\"},\"geo\":{\"bgcolor\":\"white\",\"lakecolor\":\"white\",\"landcolor\":\"#E5ECF6\",\"showlakes\":true,\"showland\":true,\"subunitcolor\":\"white\"},\"hoverlabel\":{\"align\":\"left\"},\"hovermode\":\"closest\",\"mapbox\":{\"style\":\"light\"},\"paper_bgcolor\":\"white\",\"plot_bgcolor\":\"#E5ECF6\",\"polar\":{\"angularaxis\":{\"gridcolor\":\"white\",\"linecolor\":\"white\",\"ticks\":\"\"},\"bgcolor\":\"#E5ECF6\",\"radialaxis\":{\"gridcolor\":\"white\",\"linecolor\":\"white\",\"ticks\":\"\"}},\"scene\":{\"xaxis\":{\"backgroundcolor\":\"#E5ECF6\",\"gridcolor\":\"white\",\"gridwidth\":2,\"linecolor\":\"white\",\"showbackground\":true,\"ticks\":\"\",\"zerolinecolor\":\"white\"},\"yaxis\":{\"backgroundcolor\":\"#E5ECF6\",\"gridcolor\":\"white\",\"gridwidth\":2,\"linecolor\":\"white\",\"showbackground\":true,\"ticks\":\"\",\"zerolinecolor\":\"white\"},\"zaxis\":{\"backgroundcolor\":\"#E5ECF6\",\"gridcolor\":\"white\",\"gridwidth\":2,\"linecolor\":\"white\",\"showbackground\":true,\"ticks\":\"\",\"zerolinecolor\":\"white\"}},\"shapedefaults\":{\"line\":{\"color\":\"#2a3f5f\"}},\"ternary\":{\"aaxis\":{\"gridcolor\":\"white\",\"linecolor\":\"white\",\"ticks\":\"\"},\"baxis\":{\"gridcolor\":\"white\",\"linecolor\":\"white\",\"ticks\":\"\"},\"bgcolor\":\"#E5ECF6\",\"caxis\":{\"gridcolor\":\"white\",\"linecolor\":\"white\",\"ticks\":\"\"}},\"title\":{\"x\":0.05},\"xaxis\":{\"automargin\":true,\"gridcolor\":\"white\",\"linecolor\":\"white\",\"ticks\":\"\",\"title\":{\"standoff\":15},\"zerolinecolor\":\"white\",\"zerolinewidth\":2},\"yaxis\":{\"automargin\":true,\"gridcolor\":\"white\",\"linecolor\":\"white\",\"ticks\":\"\",\"title\":{\"standoff\":15},\"zerolinecolor\":\"white\",\"zerolinewidth\":2}}}},                        {\"responsive\": true}                    ).then(function(){\n",
              "                            \n",
              "var gd = document.getElementById('4d3e5571-db18-45db-86f9-1892d55636b4');\n",
              "var x = new MutationObserver(function (mutations, observer) {{\n",
              "        var display = window.getComputedStyle(gd).display;\n",
              "        if (!display || display === 'none') {{\n",
              "            console.log([gd, 'removed!']);\n",
              "            Plotly.purge(gd);\n",
              "            observer.disconnect();\n",
              "        }}\n",
              "}});\n",
              "\n",
              "// Listen for the removal of the full notebook cells\n",
              "var notebookContainer = gd.closest('#notebook-container');\n",
              "if (notebookContainer) {{\n",
              "    x.observe(notebookContainer, {childList: true});\n",
              "}}\n",
              "\n",
              "// Listen for the clearing of the current output cell\n",
              "var outputEl = gd.closest('.output');\n",
              "if (outputEl) {{\n",
              "    x.observe(outputEl, {childList: true});\n",
              "}}\n",
              "\n",
              "                        })                };                            </script>        </div>\n",
              "</body>\n",
              "</html>"
            ]
          },
          "metadata": {}
        }
      ]
    },
    {
      "cell_type": "markdown",
      "source": [
        "* 월별 작품 업로드 수의 차이는 크게 없는 것으로 보인다."
      ],
      "metadata": {
        "id": "kQCKCTaR_kX0"
      }
    },
    {
      "cell_type": "markdown",
      "source": [
        "#### 일별 작품 수 셋업"
      ],
      "metadata": {
        "id": "jMsq6fyqyRaO"
      }
    },
    {
      "cell_type": "code",
      "source": [
        "# 넷플릭스에 추가된 일별 작품 수\n",
        "\n",
        "d1 = netflix[netflix[\"type\"] == \"TV Show\"]\n",
        "d2 = netflix[netflix[\"type\"] == \"Movie\"]\n",
        "\n",
        "col = 'day_added'\n",
        "\n",
        "vc1 = d1[col].value_counts().reset_index()\n",
        "vc1 = vc1.rename(columns = {col : \"count\", \"index\" : col})\n",
        "vc1 = vc1.sort_values(col)\n",
        "\n",
        "vc2 = d2[col].value_counts().reset_index()\n",
        "vc2 = vc2.rename(columns = {col : \"count\", \"index\" : col})\n",
        "vc2 = vc2.sort_values(col)\n",
        "\n",
        "trace1 = go.Bar(x=vc1[col], y=vc1[\"count\"], name=\"TV Shows\", marker=dict(color=\"#b20710\"))\n",
        "trace2 = go.Bar(x=vc2[col], y=vc2[\"count\"], name=\"Movies\", marker=dict(color=\"#221f1f\"))\n",
        "data = [trace1, trace2]\n",
        "layout = go.Layout(title=\"일별 작품 수 증가 추이\", legend=dict(x=0.1, y=1.1, orientation=\"h\"))\n",
        "fig = go.Figure(data, layout=layout)\n",
        "#fig.show()"
      ],
      "metadata": {
        "id": "WbAB-u1W69t7"
      },
      "execution_count": null,
      "outputs": []
    },
    {
      "cell_type": "markdown",
      "source": [
        "#### 넷플릭스에 추가된 일별 작품 수"
      ],
      "metadata": {
        "id": "Q0IQ21p2yOio"
      }
    },
    {
      "cell_type": "code",
      "source": [
        "fig.show()"
      ],
      "metadata": {
        "colab": {
          "base_uri": "https://localhost:8080/",
          "height": 542
        },
        "id": "YxAIuB0LyCp7",
        "outputId": "f23483bd-dbf3-47bb-894f-f8d70800f12a"
      },
      "execution_count": null,
      "outputs": [
        {
          "output_type": "display_data",
          "data": {
            "text/html": [
              "<html>\n",
              "<head><meta charset=\"utf-8\" /></head>\n",
              "<body>\n",
              "    <div>            <script src=\"https://cdnjs.cloudflare.com/ajax/libs/mathjax/2.7.5/MathJax.js?config=TeX-AMS-MML_SVG\"></script><script type=\"text/javascript\">if (window.MathJax) {MathJax.Hub.Config({SVG: {font: \"STIX-Web\"}});}</script>                <script type=\"text/javascript\">window.PlotlyConfig = {MathJaxConfig: 'local'};</script>\n",
              "        <script src=\"https://cdn.plot.ly/plotly-2.8.3.min.js\"></script>                <div id=\"10e7c1e3-ce8b-473c-833d-e43bdbbb414b\" class=\"plotly-graph-div\" style=\"height:525px; width:100%;\"></div>            <script type=\"text/javascript\">                                    window.PLOTLYENV=window.PLOTLYENV || {};                                    if (document.getElementById(\"10e7c1e3-ce8b-473c-833d-e43bdbbb414b\")) {                    Plotly.newPlot(                        \"10e7c1e3-ce8b-473c-833d-e43bdbbb414b\",                        [{\"marker\":{\"color\":\"#b20710\"},\"name\":\"TV Shows\",\"x\":[1.0,2.0,3.0,4.0,5.0,6.0,7.0,8.0,9.0,10.0,11.0,12.0,13.0,14.0,15.0,16.0,17.0,18.0,19.0,20.0,21.0,22.0,23.0,24.0,25.0,26.0,27.0,28.0,29.0,30.0,31.0],\"y\":[522,86,52,59,63,69,63,72,54,80,49,59,53,77,228,74,71,67,75,80,60,80,60,57,57,54,66,56,44,91,88],\"type\":\"bar\"},{\"marker\":{\"color\":\"#221f1f\"},\"name\":\"Movies\",\"x\":[1.0,2.0,3.0,4.0,5.0,6.0,7.0,8.0,9.0,10.0,11.0,12.0,13.0,14.0,15.0,16.0,17.0,18.0,19.0,20.0,21.0,22.0,23.0,24.0,25.0,26.0,27.0,28.0,29.0,30.0,31.0],\"y\":[1690,239,99,116,168,141,131,129,93,134,100,122,122,121,459,215,109,140,168,169,133,150,124,102,140,152,129,134,97,119,186],\"type\":\"bar\"}],                        {\"legend\":{\"orientation\":\"h\",\"x\":0.1,\"y\":1.1},\"title\":{\"text\":\"\\uc77c\\ubcc4 \\uc791\\ud488 \\uc218 \\uc99d\\uac00 \\ucd94\\uc774\"},\"template\":{\"data\":{\"bar\":[{\"error_x\":{\"color\":\"#2a3f5f\"},\"error_y\":{\"color\":\"#2a3f5f\"},\"marker\":{\"line\":{\"color\":\"#E5ECF6\",\"width\":0.5},\"pattern\":{\"fillmode\":\"overlay\",\"size\":10,\"solidity\":0.2}},\"type\":\"bar\"}],\"barpolar\":[{\"marker\":{\"line\":{\"color\":\"#E5ECF6\",\"width\":0.5},\"pattern\":{\"fillmode\":\"overlay\",\"size\":10,\"solidity\":0.2}},\"type\":\"barpolar\"}],\"carpet\":[{\"aaxis\":{\"endlinecolor\":\"#2a3f5f\",\"gridcolor\":\"white\",\"linecolor\":\"white\",\"minorgridcolor\":\"white\",\"startlinecolor\":\"#2a3f5f\"},\"baxis\":{\"endlinecolor\":\"#2a3f5f\",\"gridcolor\":\"white\",\"linecolor\":\"white\",\"minorgridcolor\":\"white\",\"startlinecolor\":\"#2a3f5f\"},\"type\":\"carpet\"}],\"choropleth\":[{\"colorbar\":{\"outlinewidth\":0,\"ticks\":\"\"},\"type\":\"choropleth\"}],\"contour\":[{\"colorbar\":{\"outlinewidth\":0,\"ticks\":\"\"},\"colorscale\":[[0.0,\"#0d0887\"],[0.1111111111111111,\"#46039f\"],[0.2222222222222222,\"#7201a8\"],[0.3333333333333333,\"#9c179e\"],[0.4444444444444444,\"#bd3786\"],[0.5555555555555556,\"#d8576b\"],[0.6666666666666666,\"#ed7953\"],[0.7777777777777778,\"#fb9f3a\"],[0.8888888888888888,\"#fdca26\"],[1.0,\"#f0f921\"]],\"type\":\"contour\"}],\"contourcarpet\":[{\"colorbar\":{\"outlinewidth\":0,\"ticks\":\"\"},\"type\":\"contourcarpet\"}],\"heatmap\":[{\"colorbar\":{\"outlinewidth\":0,\"ticks\":\"\"},\"colorscale\":[[0.0,\"#0d0887\"],[0.1111111111111111,\"#46039f\"],[0.2222222222222222,\"#7201a8\"],[0.3333333333333333,\"#9c179e\"],[0.4444444444444444,\"#bd3786\"],[0.5555555555555556,\"#d8576b\"],[0.6666666666666666,\"#ed7953\"],[0.7777777777777778,\"#fb9f3a\"],[0.8888888888888888,\"#fdca26\"],[1.0,\"#f0f921\"]],\"type\":\"heatmap\"}],\"heatmapgl\":[{\"colorbar\":{\"outlinewidth\":0,\"ticks\":\"\"},\"colorscale\":[[0.0,\"#0d0887\"],[0.1111111111111111,\"#46039f\"],[0.2222222222222222,\"#7201a8\"],[0.3333333333333333,\"#9c179e\"],[0.4444444444444444,\"#bd3786\"],[0.5555555555555556,\"#d8576b\"],[0.6666666666666666,\"#ed7953\"],[0.7777777777777778,\"#fb9f3a\"],[0.8888888888888888,\"#fdca26\"],[1.0,\"#f0f921\"]],\"type\":\"heatmapgl\"}],\"histogram\":[{\"marker\":{\"pattern\":{\"fillmode\":\"overlay\",\"size\":10,\"solidity\":0.2}},\"type\":\"histogram\"}],\"histogram2d\":[{\"colorbar\":{\"outlinewidth\":0,\"ticks\":\"\"},\"colorscale\":[[0.0,\"#0d0887\"],[0.1111111111111111,\"#46039f\"],[0.2222222222222222,\"#7201a8\"],[0.3333333333333333,\"#9c179e\"],[0.4444444444444444,\"#bd3786\"],[0.5555555555555556,\"#d8576b\"],[0.6666666666666666,\"#ed7953\"],[0.7777777777777778,\"#fb9f3a\"],[0.8888888888888888,\"#fdca26\"],[1.0,\"#f0f921\"]],\"type\":\"histogram2d\"}],\"histogram2dcontour\":[{\"colorbar\":{\"outlinewidth\":0,\"ticks\":\"\"},\"colorscale\":[[0.0,\"#0d0887\"],[0.1111111111111111,\"#46039f\"],[0.2222222222222222,\"#7201a8\"],[0.3333333333333333,\"#9c179e\"],[0.4444444444444444,\"#bd3786\"],[0.5555555555555556,\"#d8576b\"],[0.6666666666666666,\"#ed7953\"],[0.7777777777777778,\"#fb9f3a\"],[0.8888888888888888,\"#fdca26\"],[1.0,\"#f0f921\"]],\"type\":\"histogram2dcontour\"}],\"mesh3d\":[{\"colorbar\":{\"outlinewidth\":0,\"ticks\":\"\"},\"type\":\"mesh3d\"}],\"parcoords\":[{\"line\":{\"colorbar\":{\"outlinewidth\":0,\"ticks\":\"\"}},\"type\":\"parcoords\"}],\"pie\":[{\"automargin\":true,\"type\":\"pie\"}],\"scatter\":[{\"marker\":{\"colorbar\":{\"outlinewidth\":0,\"ticks\":\"\"}},\"type\":\"scatter\"}],\"scatter3d\":[{\"line\":{\"colorbar\":{\"outlinewidth\":0,\"ticks\":\"\"}},\"marker\":{\"colorbar\":{\"outlinewidth\":0,\"ticks\":\"\"}},\"type\":\"scatter3d\"}],\"scattercarpet\":[{\"marker\":{\"colorbar\":{\"outlinewidth\":0,\"ticks\":\"\"}},\"type\":\"scattercarpet\"}],\"scattergeo\":[{\"marker\":{\"colorbar\":{\"outlinewidth\":0,\"ticks\":\"\"}},\"type\":\"scattergeo\"}],\"scattergl\":[{\"marker\":{\"colorbar\":{\"outlinewidth\":0,\"ticks\":\"\"}},\"type\":\"scattergl\"}],\"scattermapbox\":[{\"marker\":{\"colorbar\":{\"outlinewidth\":0,\"ticks\":\"\"}},\"type\":\"scattermapbox\"}],\"scatterpolar\":[{\"marker\":{\"colorbar\":{\"outlinewidth\":0,\"ticks\":\"\"}},\"type\":\"scatterpolar\"}],\"scatterpolargl\":[{\"marker\":{\"colorbar\":{\"outlinewidth\":0,\"ticks\":\"\"}},\"type\":\"scatterpolargl\"}],\"scatterternary\":[{\"marker\":{\"colorbar\":{\"outlinewidth\":0,\"ticks\":\"\"}},\"type\":\"scatterternary\"}],\"surface\":[{\"colorbar\":{\"outlinewidth\":0,\"ticks\":\"\"},\"colorscale\":[[0.0,\"#0d0887\"],[0.1111111111111111,\"#46039f\"],[0.2222222222222222,\"#7201a8\"],[0.3333333333333333,\"#9c179e\"],[0.4444444444444444,\"#bd3786\"],[0.5555555555555556,\"#d8576b\"],[0.6666666666666666,\"#ed7953\"],[0.7777777777777778,\"#fb9f3a\"],[0.8888888888888888,\"#fdca26\"],[1.0,\"#f0f921\"]],\"type\":\"surface\"}],\"table\":[{\"cells\":{\"fill\":{\"color\":\"#EBF0F8\"},\"line\":{\"color\":\"white\"}},\"header\":{\"fill\":{\"color\":\"#C8D4E3\"},\"line\":{\"color\":\"white\"}},\"type\":\"table\"}]},\"layout\":{\"annotationdefaults\":{\"arrowcolor\":\"#2a3f5f\",\"arrowhead\":0,\"arrowwidth\":1},\"autotypenumbers\":\"strict\",\"coloraxis\":{\"colorbar\":{\"outlinewidth\":0,\"ticks\":\"\"}},\"colorscale\":{\"diverging\":[[0,\"#8e0152\"],[0.1,\"#c51b7d\"],[0.2,\"#de77ae\"],[0.3,\"#f1b6da\"],[0.4,\"#fde0ef\"],[0.5,\"#f7f7f7\"],[0.6,\"#e6f5d0\"],[0.7,\"#b8e186\"],[0.8,\"#7fbc41\"],[0.9,\"#4d9221\"],[1,\"#276419\"]],\"sequential\":[[0.0,\"#0d0887\"],[0.1111111111111111,\"#46039f\"],[0.2222222222222222,\"#7201a8\"],[0.3333333333333333,\"#9c179e\"],[0.4444444444444444,\"#bd3786\"],[0.5555555555555556,\"#d8576b\"],[0.6666666666666666,\"#ed7953\"],[0.7777777777777778,\"#fb9f3a\"],[0.8888888888888888,\"#fdca26\"],[1.0,\"#f0f921\"]],\"sequentialminus\":[[0.0,\"#0d0887\"],[0.1111111111111111,\"#46039f\"],[0.2222222222222222,\"#7201a8\"],[0.3333333333333333,\"#9c179e\"],[0.4444444444444444,\"#bd3786\"],[0.5555555555555556,\"#d8576b\"],[0.6666666666666666,\"#ed7953\"],[0.7777777777777778,\"#fb9f3a\"],[0.8888888888888888,\"#fdca26\"],[1.0,\"#f0f921\"]]},\"colorway\":[\"#636efa\",\"#EF553B\",\"#00cc96\",\"#ab63fa\",\"#FFA15A\",\"#19d3f3\",\"#FF6692\",\"#B6E880\",\"#FF97FF\",\"#FECB52\"],\"font\":{\"color\":\"#2a3f5f\"},\"geo\":{\"bgcolor\":\"white\",\"lakecolor\":\"white\",\"landcolor\":\"#E5ECF6\",\"showlakes\":true,\"showland\":true,\"subunitcolor\":\"white\"},\"hoverlabel\":{\"align\":\"left\"},\"hovermode\":\"closest\",\"mapbox\":{\"style\":\"light\"},\"paper_bgcolor\":\"white\",\"plot_bgcolor\":\"#E5ECF6\",\"polar\":{\"angularaxis\":{\"gridcolor\":\"white\",\"linecolor\":\"white\",\"ticks\":\"\"},\"bgcolor\":\"#E5ECF6\",\"radialaxis\":{\"gridcolor\":\"white\",\"linecolor\":\"white\",\"ticks\":\"\"}},\"scene\":{\"xaxis\":{\"backgroundcolor\":\"#E5ECF6\",\"gridcolor\":\"white\",\"gridwidth\":2,\"linecolor\":\"white\",\"showbackground\":true,\"ticks\":\"\",\"zerolinecolor\":\"white\"},\"yaxis\":{\"backgroundcolor\":\"#E5ECF6\",\"gridcolor\":\"white\",\"gridwidth\":2,\"linecolor\":\"white\",\"showbackground\":true,\"ticks\":\"\",\"zerolinecolor\":\"white\"},\"zaxis\":{\"backgroundcolor\":\"#E5ECF6\",\"gridcolor\":\"white\",\"gridwidth\":2,\"linecolor\":\"white\",\"showbackground\":true,\"ticks\":\"\",\"zerolinecolor\":\"white\"}},\"shapedefaults\":{\"line\":{\"color\":\"#2a3f5f\"}},\"ternary\":{\"aaxis\":{\"gridcolor\":\"white\",\"linecolor\":\"white\",\"ticks\":\"\"},\"baxis\":{\"gridcolor\":\"white\",\"linecolor\":\"white\",\"ticks\":\"\"},\"bgcolor\":\"#E5ECF6\",\"caxis\":{\"gridcolor\":\"white\",\"linecolor\":\"white\",\"ticks\":\"\"}},\"title\":{\"x\":0.05},\"xaxis\":{\"automargin\":true,\"gridcolor\":\"white\",\"linecolor\":\"white\",\"ticks\":\"\",\"title\":{\"standoff\":15},\"zerolinecolor\":\"white\",\"zerolinewidth\":2},\"yaxis\":{\"automargin\":true,\"gridcolor\":\"white\",\"linecolor\":\"white\",\"ticks\":\"\",\"title\":{\"standoff\":15},\"zerolinecolor\":\"white\",\"zerolinewidth\":2}}}},                        {\"responsive\": true}                    ).then(function(){\n",
              "                            \n",
              "var gd = document.getElementById('10e7c1e3-ce8b-473c-833d-e43bdbbb414b');\n",
              "var x = new MutationObserver(function (mutations, observer) {{\n",
              "        var display = window.getComputedStyle(gd).display;\n",
              "        if (!display || display === 'none') {{\n",
              "            console.log([gd, 'removed!']);\n",
              "            Plotly.purge(gd);\n",
              "            observer.disconnect();\n",
              "        }}\n",
              "}});\n",
              "\n",
              "// Listen for the removal of the full notebook cells\n",
              "var notebookContainer = gd.closest('#notebook-container');\n",
              "if (notebookContainer) {{\n",
              "    x.observe(notebookContainer, {childList: true});\n",
              "}}\n",
              "\n",
              "// Listen for the clearing of the current output cell\n",
              "var outputEl = gd.closest('.output');\n",
              "if (outputEl) {{\n",
              "    x.observe(outputEl, {childList: true});\n",
              "}}\n",
              "\n",
              "                        })                };                            </script>        </div>\n",
              "</body>\n",
              "</html>"
            ]
          },
          "metadata": {}
        }
      ]
    },
    {
      "cell_type": "markdown",
      "source": [
        "* 매월 1일에 작품이 가장 많이 업로드 된 것을 알 수 있다.\n",
        "* 매월 1일에 새롭게 볼만한 작품을 등록해서 구독자를 잡으려는 전략이 아닐까 싶다.\n",
        "* 다음으로는 15일이 많고 나머지의 증가 추이는 비슷한 것을 파악할 수 있다."
      ],
      "metadata": {
        "id": "sf8ZlWj78SjX"
      }
    },
    {
      "cell_type": "markdown",
      "source": [
        "### 등급별"
      ],
      "metadata": {
        "id": "hXDnaPnVAufu"
      }
    },
    {
      "cell_type": "code",
      "source": [
        "# 등급별 작품 수\n",
        "\n",
        "plt.figure(figsize = (20, 5))\n",
        "plt.style.use('seaborn-whitegrid')\n",
        "ax = sns.countplot(x = 'rating', data = netflix)\n",
        "plt.xlabel('Rating')\n",
        "plt.ylabel('Count')\n",
        "plt.xticks(rotation = 45)\n",
        "for p in ax.patches:\n",
        "    ax.annotate(int(p.get_height()), (p.get_x()+0.25, p.get_height()+1), va = 'bottom', color = 'black')"
      ],
      "metadata": {
        "id": "9pgnKDZ3Aumc",
        "colab": {
          "base_uri": "https://localhost:8080/",
          "height": 313
        },
        "outputId": "c7ea1ad1-a2f2-4e67-93f9-2e5ab9c1a7a6"
      },
      "execution_count": null,
      "outputs": [
        {
          "output_type": "display_data",
          "data": {
            "image/png": "[encoded data removed]",
            "text/plain": [
              "<Figure size 1440x360 with 1 Axes>"
            ]
          },
          "metadata": {
            "needs_background": "light"
          }
        }
      ]
    },
    {
      "cell_type": "markdown",
      "source": [
        "* **rating column**에 **duration column**의 값인 74min, 84min, 66min이 있다.\n",
        "* 74min, 84min, 66min 값을 없애고 시각화한다."
      ],
      "metadata": {
        "id": "i6VkC5F_Nzk0"
      }
    },
    {
      "cell_type": "markdown",
      "source": [
        "#### 등급별 셋업"
      ],
      "metadata": {
        "id": "ed7DqbkC0ofH"
      }
    },
    {
      "cell_type": "code",
      "source": [
        "# 결측치가 많은 column의 결측치를 No data로 채워줌\n",
        "\n",
        "netflix['country'].replace(np.nan, 'No Data',inplace  = True)\n",
        "netflix['cast'].replace(np.nan, 'No Data',inplace  = True)\n",
        "netflix['director'].replace(np.nan, 'No Data',inplace  = True)\n",
        "\n",
        "# 나머지 결측치들을 제거\n",
        "\n",
        "netflix.dropna(inplace=True)\n",
        "\n",
        "# 중복값 제거\n",
        "\n",
        "netflix.drop_duplicates(inplace= True)"
      ],
      "metadata": {
        "id": "PPHqjikcOZvF"
      },
      "execution_count": null,
      "outputs": []
    },
    {
      "cell_type": "code",
      "source": [
        "# 등급별 작품 수(Content Type)\n",
        "\n",
        "d1 = netflix[netflix[\"type\"] == \"TV Show\"]\n",
        "d2 = netflix[netflix[\"type\"] == \"Movie\"]\n",
        "\n",
        "col = \"rating\"\n",
        "\n",
        "vc1 = d1[col].value_counts().reset_index()\n",
        "vc1 = vc1.rename(columns = {col : \"count\", \"index\" : col})\n",
        "vc1 = vc1.sort_values(col)\n",
        "\n",
        "vc2 = d2[col].value_counts().reset_index()\n",
        "vc2 = vc2.rename(columns = {col : \"count\", \"index\" : col})\n",
        "vc2 = vc2.sort_values(col)\n",
        "\n",
        "trace1 = go.Bar(x=vc1[col], y=vc1[\"count\"], name=\"TV Shows\", marker=dict(color=\"#b20710\"))\n",
        "trace2 = go.Bar(x=vc2[col], y=vc2[\"count\"], name=\"Movies\", marker=dict(color=\"#221f1f\"))\n",
        "data = [trace1, trace2]\n",
        "layout = go.Layout(title=\"등급별 작품 수\", legend=dict(x=0.1, y=1.1, orientation=\"h\"))\n",
        "fig = go.Figure(data, layout=layout)\n",
        "#fig.show()"
      ],
      "metadata": {
        "id": "2XJovIXqlKsv"
      },
      "execution_count": null,
      "outputs": []
    },
    {
      "cell_type": "markdown",
      "source": [
        "#### 디즈니플러스 등급별(Movie & TV Show) 작품 수"
      ],
      "metadata": {
        "id": "tVt6oldZ0blJ"
      }
    },
    {
      "cell_type": "code",
      "source": [
        "fig.show()"
      ],
      "metadata": {
        "colab": {
          "base_uri": "https://localhost:8080/",
          "height": 542
        },
        "id": "kQogVke40cfG",
        "outputId": "d190cd25-66db-49be-f3b0-54a9308c244b"
      },
      "execution_count": null,
      "outputs": [
        {
          "output_type": "display_data",
          "data": {
            "text/html": [
              "<html>\n",
              "<head><meta charset=\"utf-8\" /></head>\n",
              "<body>\n",
              "    <div>            <script src=\"https://cdnjs.cloudflare.com/ajax/libs/mathjax/2.7.5/MathJax.js?config=TeX-AMS-MML_SVG\"></script><script type=\"text/javascript\">if (window.MathJax) {MathJax.Hub.Config({SVG: {font: \"STIX-Web\"}});}</script>                <script type=\"text/javascript\">window.PlotlyConfig = {MathJaxConfig: 'local'};</script>\n",
              "        <script src=\"https://cdn.plot.ly/plotly-2.8.3.min.js\"></script>                <div id=\"007043df-5911-4d99-a055-3c4521262a3c\" class=\"plotly-graph-div\" style=\"height:525px; width:100%;\"></div>            <script type=\"text/javascript\">                                    window.PLOTLYENV=window.PLOTLYENV || {};                                    if (document.getElementById(\"007043df-5911-4d99-a055-3c4521262a3c\")) {                    Plotly.newPlot(                        \"007043df-5911-4d99-a055-3c4521262a3c\",                        [{\"marker\":{\"color\":\"#b20710\"},\"name\":\"TV Shows\",\"x\":[\"NR\",\"R\",\"TV-14\",\"TV-G\",\"TV-MA\",\"TV-PG\",\"TV-Y\",\"TV-Y7\",\"TV-Y7-FV\"],\"y\":[4,2,730,94,1143,321,175,194,1],\"type\":\"bar\"},{\"marker\":{\"color\":\"#221f1f\"},\"name\":\"Movies\",\"x\":[\"G\",\"NC-17\",\"NR\",\"PG\",\"PG-13\",\"R\",\"TV-14\",\"TV-G\",\"TV-MA\",\"TV-PG\",\"TV-Y\",\"TV-Y7\",\"TV-Y7-FV\",\"UR\"],\"y\":[41,3,75,287,490,797,1427,126,2062,540,131,139,5,3],\"type\":\"bar\"}],                        {\"legend\":{\"orientation\":\"h\",\"x\":0.1,\"y\":1.1},\"title\":{\"text\":\"\\ub4f1\\uae09\\ubcc4 \\uc791\\ud488 \\uc218\"},\"template\":{\"data\":{\"bar\":[{\"error_x\":{\"color\":\"#2a3f5f\"},\"error_y\":{\"color\":\"#2a3f5f\"},\"marker\":{\"line\":{\"color\":\"#E5ECF6\",\"width\":0.5},\"pattern\":{\"fillmode\":\"overlay\",\"size\":10,\"solidity\":0.2}},\"type\":\"bar\"}],\"barpolar\":[{\"marker\":{\"line\":{\"color\":\"#E5ECF6\",\"width\":0.5},\"pattern\":{\"fillmode\":\"overlay\",\"size\":10,\"solidity\":0.2}},\"type\":\"barpolar\"}],\"carpet\":[{\"aaxis\":{\"endlinecolor\":\"#2a3f5f\",\"gridcolor\":\"white\",\"linecolor\":\"white\",\"minorgridcolor\":\"white\",\"startlinecolor\":\"#2a3f5f\"},\"baxis\":{\"endlinecolor\":\"#2a3f5f\",\"gridcolor\":\"white\",\"linecolor\":\"white\",\"minorgridcolor\":\"white\",\"startlinecolor\":\"#2a3f5f\"},\"type\":\"carpet\"}],\"choropleth\":[{\"colorbar\":{\"outlinewidth\":0,\"ticks\":\"\"},\"type\":\"choropleth\"}],\"contour\":[{\"colorbar\":{\"outlinewidth\":0,\"ticks\":\"\"},\"colorscale\":[[0.0,\"#0d0887\"],[0.1111111111111111,\"#46039f\"],[0.2222222222222222,\"#7201a8\"],[0.3333333333333333,\"#9c179e\"],[0.4444444444444444,\"#bd3786\"],[0.5555555555555556,\"#d8576b\"],[0.6666666666666666,\"#ed7953\"],[0.7777777777777778,\"#fb9f3a\"],[0.8888888888888888,\"#fdca26\"],[1.0,\"#f0f921\"]],\"type\":\"contour\"}],\"contourcarpet\":[{\"colorbar\":{\"outlinewidth\":0,\"ticks\":\"\"},\"type\":\"contourcarpet\"}],\"heatmap\":[{\"colorbar\":{\"outlinewidth\":0,\"ticks\":\"\"},\"colorscale\":[[0.0,\"#0d0887\"],[0.1111111111111111,\"#46039f\"],[0.2222222222222222,\"#7201a8\"],[0.3333333333333333,\"#9c179e\"],[0.4444444444444444,\"#bd3786\"],[0.5555555555555556,\"#d8576b\"],[0.6666666666666666,\"#ed7953\"],[0.7777777777777778,\"#fb9f3a\"],[0.8888888888888888,\"#fdca26\"],[1.0,\"#f0f921\"]],\"type\":\"heatmap\"}],\"heatmapgl\":[{\"colorbar\":{\"outlinewidth\":0,\"ticks\":\"\"},\"colorscale\":[[0.0,\"#0d0887\"],[0.1111111111111111,\"#46039f\"],[0.2222222222222222,\"#7201a8\"],[0.3333333333333333,\"#9c179e\"],[0.4444444444444444,\"#bd3786\"],[0.5555555555555556,\"#d8576b\"],[0.6666666666666666,\"#ed7953\"],[0.7777777777777778,\"#fb9f3a\"],[0.8888888888888888,\"#fdca26\"],[1.0,\"#f0f921\"]],\"type\":\"heatmapgl\"}],\"histogram\":[{\"marker\":{\"pattern\":{\"fillmode\":\"overlay\",\"size\":10,\"solidity\":0.2}},\"type\":\"histogram\"}],\"histogram2d\":[{\"colorbar\":{\"outlinewidth\":0,\"ticks\":\"\"},\"colorscale\":[[0.0,\"#0d0887\"],[0.1111111111111111,\"#46039f\"],[0.2222222222222222,\"#7201a8\"],[0.3333333333333333,\"#9c179e\"],[0.4444444444444444,\"#bd3786\"],[0.5555555555555556,\"#d8576b\"],[0.6666666666666666,\"#ed7953\"],[0.7777777777777778,\"#fb9f3a\"],[0.8888888888888888,\"#fdca26\"],[1.0,\"#f0f921\"]],\"type\":\"histogram2d\"}],\"histogram2dcontour\":[{\"colorbar\":{\"outlinewidth\":0,\"ticks\":\"\"},\"colorscale\":[[0.0,\"#0d0887\"],[0.1111111111111111,\"#46039f\"],[0.2222222222222222,\"#7201a8\"],[0.3333333333333333,\"#9c179e\"],[0.4444444444444444,\"#bd3786\"],[0.5555555555555556,\"#d8576b\"],[0.6666666666666666,\"#ed7953\"],[0.7777777777777778,\"#fb9f3a\"],[0.8888888888888888,\"#fdca26\"],[1.0,\"#f0f921\"]],\"type\":\"histogram2dcontour\"}],\"mesh3d\":[{\"colorbar\":{\"outlinewidth\":0,\"ticks\":\"\"},\"type\":\"mesh3d\"}],\"parcoords\":[{\"line\":{\"colorbar\":{\"outlinewidth\":0,\"ticks\":\"\"}},\"type\":\"parcoords\"}],\"pie\":[{\"automargin\":true,\"type\":\"pie\"}],\"scatter\":[{\"marker\":{\"colorbar\":{\"outlinewidth\":0,\"ticks\":\"\"}},\"type\":\"scatter\"}],\"scatter3d\":[{\"line\":{\"colorbar\":{\"outlinewidth\":0,\"ticks\":\"\"}},\"marker\":{\"colorbar\":{\"outlinewidth\":0,\"ticks\":\"\"}},\"type\":\"scatter3d\"}],\"scattercarpet\":[{\"marker\":{\"colorbar\":{\"outlinewidth\":0,\"ticks\":\"\"}},\"type\":\"scattercarpet\"}],\"scattergeo\":[{\"marker\":{\"colorbar\":{\"outlinewidth\":0,\"ticks\":\"\"}},\"type\":\"scattergeo\"}],\"scattergl\":[{\"marker\":{\"colorbar\":{\"outlinewidth\":0,\"ticks\":\"\"}},\"type\":\"scattergl\"}],\"scattermapbox\":[{\"marker\":{\"colorbar\":{\"outlinewidth\":0,\"ticks\":\"\"}},\"type\":\"scattermapbox\"}],\"scatterpolar\":[{\"marker\":{\"colorbar\":{\"outlinewidth\":0,\"ticks\":\"\"}},\"type\":\"scatterpolar\"}],\"scatterpolargl\":[{\"marker\":{\"colorbar\":{\"outlinewidth\":0,\"ticks\":\"\"}},\"type\":\"scatterpolargl\"}],\"scatterternary\":[{\"marker\":{\"colorbar\":{\"outlinewidth\":0,\"ticks\":\"\"}},\"type\":\"scatterternary\"}],\"surface\":[{\"colorbar\":{\"outlinewidth\":0,\"ticks\":\"\"},\"colorscale\":[[0.0,\"#0d0887\"],[0.1111111111111111,\"#46039f\"],[0.2222222222222222,\"#7201a8\"],[0.3333333333333333,\"#9c179e\"],[0.4444444444444444,\"#bd3786\"],[0.5555555555555556,\"#d8576b\"],[0.6666666666666666,\"#ed7953\"],[0.7777777777777778,\"#fb9f3a\"],[0.8888888888888888,\"#fdca26\"],[1.0,\"#f0f921\"]],\"type\":\"surface\"}],\"table\":[{\"cells\":{\"fill\":{\"color\":\"#EBF0F8\"},\"line\":{\"color\":\"white\"}},\"header\":{\"fill\":{\"color\":\"#C8D4E3\"},\"line\":{\"color\":\"white\"}},\"type\":\"table\"}]},\"layout\":{\"annotationdefaults\":{\"arrowcolor\":\"#2a3f5f\",\"arrowhead\":0,\"arrowwidth\":1},\"autotypenumbers\":\"strict\",\"coloraxis\":{\"colorbar\":{\"outlinewidth\":0,\"ticks\":\"\"}},\"colorscale\":{\"diverging\":[[0,\"#8e0152\"],[0.1,\"#c51b7d\"],[0.2,\"#de77ae\"],[0.3,\"#f1b6da\"],[0.4,\"#fde0ef\"],[0.5,\"#f7f7f7\"],[0.6,\"#e6f5d0\"],[0.7,\"#b8e186\"],[0.8,\"#7fbc41\"],[0.9,\"#4d9221\"],[1,\"#276419\"]],\"sequential\":[[0.0,\"#0d0887\"],[0.1111111111111111,\"#46039f\"],[0.2222222222222222,\"#7201a8\"],[0.3333333333333333,\"#9c179e\"],[0.4444444444444444,\"#bd3786\"],[0.5555555555555556,\"#d8576b\"],[0.6666666666666666,\"#ed7953\"],[0.7777777777777778,\"#fb9f3a\"],[0.8888888888888888,\"#fdca26\"],[1.0,\"#f0f921\"]],\"sequentialminus\":[[0.0,\"#0d0887\"],[0.1111111111111111,\"#46039f\"],[0.2222222222222222,\"#7201a8\"],[0.3333333333333333,\"#9c179e\"],[0.4444444444444444,\"#bd3786\"],[0.5555555555555556,\"#d8576b\"],[0.6666666666666666,\"#ed7953\"],[0.7777777777777778,\"#fb9f3a\"],[0.8888888888888888,\"#fdca26\"],[1.0,\"#f0f921\"]]},\"colorway\":[\"#636efa\",\"#EF553B\",\"#00cc96\",\"#ab63fa\",\"#FFA15A\",\"#19d3f3\",\"#FF6692\",\"#B6E880\",\"#FF97FF\",\"#FECB52\"],\"font\":{\"color\":\"#2a3f5f\"},\"geo\":{\"bgcolor\":\"white\",\"lakecolor\":\"white\",\"landcolor\":\"#E5ECF6\",\"showlakes\":true,\"showland\":true,\"subunitcolor\":\"white\"},\"hoverlabel\":{\"align\":\"left\"},\"hovermode\":\"closest\",\"mapbox\":{\"style\":\"light\"},\"paper_bgcolor\":\"white\",\"plot_bgcolor\":\"#E5ECF6\",\"polar\":{\"angularaxis\":{\"gridcolor\":\"white\",\"linecolor\":\"white\",\"ticks\":\"\"},\"bgcolor\":\"#E5ECF6\",\"radialaxis\":{\"gridcolor\":\"white\",\"linecolor\":\"white\",\"ticks\":\"\"}},\"scene\":{\"xaxis\":{\"backgroundcolor\":\"#E5ECF6\",\"gridcolor\":\"white\",\"gridwidth\":2,\"linecolor\":\"white\",\"showbackground\":true,\"ticks\":\"\",\"zerolinecolor\":\"white\"},\"yaxis\":{\"backgroundcolor\":\"#E5ECF6\",\"gridcolor\":\"white\",\"gridwidth\":2,\"linecolor\":\"white\",\"showbackground\":true,\"ticks\":\"\",\"zerolinecolor\":\"white\"},\"zaxis\":{\"backgroundcolor\":\"#E5ECF6\",\"gridcolor\":\"white\",\"gridwidth\":2,\"linecolor\":\"white\",\"showbackground\":true,\"ticks\":\"\",\"zerolinecolor\":\"white\"}},\"shapedefaults\":{\"line\":{\"color\":\"#2a3f5f\"}},\"ternary\":{\"aaxis\":{\"gridcolor\":\"white\",\"linecolor\":\"white\",\"ticks\":\"\"},\"baxis\":{\"gridcolor\":\"white\",\"linecolor\":\"white\",\"ticks\":\"\"},\"bgcolor\":\"#E5ECF6\",\"caxis\":{\"gridcolor\":\"white\",\"linecolor\":\"white\",\"ticks\":\"\"}},\"title\":{\"x\":0.05},\"xaxis\":{\"automargin\":true,\"gridcolor\":\"white\",\"linecolor\":\"white\",\"ticks\":\"\",\"title\":{\"standoff\":15},\"zerolinecolor\":\"white\",\"zerolinewidth\":2},\"yaxis\":{\"automargin\":true,\"gridcolor\":\"white\",\"linecolor\":\"white\",\"ticks\":\"\",\"title\":{\"standoff\":15},\"zerolinecolor\":\"white\",\"zerolinewidth\":2}}}},                        {\"responsive\": true}                    ).then(function(){\n",
              "                            \n",
              "var gd = document.getElementById('007043df-5911-4d99-a055-3c4521262a3c');\n",
              "var x = new MutationObserver(function (mutations, observer) {{\n",
              "        var display = window.getComputedStyle(gd).display;\n",
              "        if (!display || display === 'none') {{\n",
              "            console.log([gd, 'removed!']);\n",
              "            Plotly.purge(gd);\n",
              "            observer.disconnect();\n",
              "        }}\n",
              "}});\n",
              "\n",
              "// Listen for the removal of the full notebook cells\n",
              "var notebookContainer = gd.closest('#notebook-container');\n",
              "if (notebookContainer) {{\n",
              "    x.observe(notebookContainer, {childList: true});\n",
              "}}\n",
              "\n",
              "// Listen for the clearing of the current output cell\n",
              "var outputEl = gd.closest('.output');\n",
              "if (outputEl) {{\n",
              "    x.observe(outputEl, {childList: true});\n",
              "}}\n",
              "\n",
              "                        })                };                            </script>        </div>\n",
              "</body>\n",
              "</html>"
            ]
          },
          "metadata": {}
        }
      ]
    },
    {
      "cell_type": "markdown",
      "source": [
        "* TV-14는 **청소년(16세 이상)** 등급\n",
        "* TV-MA, NC-17, NR, R은 **성인(18세 이상)** 등급\n",
        "* TV-MA, TV-14, R 등급이 대부분을 차지한다.\n",
        "* **넷플릭스**의 **타겟층**은 <mark>성인</mark>임을 알 수 있다."
      ],
      "metadata": {
        "id": "N_apvtjXs-9n"
      }
    },
    {
      "cell_type": "markdown",
      "source": [
        "# Disney Plus"
      ],
      "metadata": {
        "id": "LOhr7rOlkzU3"
      }
    },
    {
      "cell_type": "markdown",
      "source": [
        "### Load Data"
      ],
      "metadata": {
        "id": "iC0nkOWGlezK"
      }
    },
    {
      "cell_type": "code",
      "source": [
        "disney.head()"
      ],
      "metadata": {
        "colab": {
          "base_uri": "https://localhost:8080/"
        },
        "id": "nDRfwOpiAhOz",
        "outputId": "2962731a-e499-4948-d7f1-d35b356214cf"
      },
      "execution_count": null,
      "outputs": [
        {
          "output_type": "execute_result",
          "data": {
            "text/html": [
              "\n",
              "  <div id=\"df-7e9f82fa-0322-49f6-b85a-4fc5bec07e2b\">\n",
              "    <div class=\"colab-df-container\">\n",
              "      <div>\n",
              "<style scoped>\n",
              "    .dataframe tbody tr th:only-of-type {\n",
              "        vertical-align: middle;\n",
              "    }\n",
              "\n",
              "    .dataframe tbody tr th {\n",
              "        vertical-align: top;\n",
              "    }\n",
              "\n",
              "    .dataframe thead th {\n",
              "        text-align: right;\n",
              "    }\n",
              "</style>\n",
              "<table border=\"1\" class=\"dataframe\">\n",
              "  <thead>\n",
              "    <tr style=\"text-align: right;\">\n",
              "      <th></th>\n",
              "      <th>show_id</th>\n",
              "      <th>type</th>\n",
              "      <th>title</th>\n",
              "      <th>director</th>\n",
              "      <th>cast</th>\n",
              "      <th>country</th>\n",
              "      <th>date_added</th>\n",
              "      <th>release_year</th>\n",
              "      <th>rating</th>\n",
              "      <th>duration</th>\n",
              "      <th>listed_in</th>\n",
              "      <th>description</th>\n",
              "    </tr>\n",
              "  </thead>\n",
              "  <tbody>\n",
              "    <tr>\n",
              "      <th>0</th>\n",
              "      <td>s1</td>\n",
              "      <td>Movie</td>\n",
              "      <td>Duck the Halls: A Mickey Mouse Christmas Special</td>\n",
              "      <td>Alonso Ramirez Ramos, Dave Wasson</td>\n",
              "      <td>Chris Diamantopoulos, Tony Anselmo, Tress MacN...</td>\n",
              "      <td>NaN</td>\n",
              "      <td>November 26, 2021</td>\n",
              "      <td>2016</td>\n",
              "      <td>TV-G</td>\n",
              "      <td>23 min</td>\n",
              "      <td>Animation, Family</td>\n",
              "      <td>Join Mickey and the gang as they duck the halls!</td>\n",
              "    </tr>\n",
              "    <tr>\n",
              "      <th>1</th>\n",
              "      <td>s2</td>\n",
              "      <td>Movie</td>\n",
              "      <td>Ernest Saves Christmas</td>\n",
              "      <td>John Cherry</td>\n",
              "      <td>Jim Varney, Noelle Parker, Douglas Seale</td>\n",
              "      <td>NaN</td>\n",
              "      <td>November 26, 2021</td>\n",
              "      <td>1988</td>\n",
              "      <td>PG</td>\n",
              "      <td>91 min</td>\n",
              "      <td>Comedy</td>\n",
              "      <td>Santa Claus passes his magic bag to a new St. ...</td>\n",
              "    </tr>\n",
              "    <tr>\n",
              "      <th>2</th>\n",
              "      <td>s3</td>\n",
              "      <td>Movie</td>\n",
              "      <td>Ice Age: A Mammoth Christmas</td>\n",
              "      <td>Karen Disher</td>\n",
              "      <td>Raymond Albert Romano, John Leguizamo, Denis L...</td>\n",
              "      <td>United States</td>\n",
              "      <td>November 26, 2021</td>\n",
              "      <td>2011</td>\n",
              "      <td>TV-G</td>\n",
              "      <td>23 min</td>\n",
              "      <td>Animation, Comedy, Family</td>\n",
              "      <td>Sid the Sloth is on Santa's naughty list.</td>\n",
              "    </tr>\n",
              "    <tr>\n",
              "      <th>3</th>\n",
              "      <td>s4</td>\n",
              "      <td>Movie</td>\n",
              "      <td>The Queen Family Singalong</td>\n",
              "      <td>Hamish Hamilton</td>\n",
              "      <td>Darren Criss, Adam Lambert, Derek Hough, Alexa...</td>\n",
              "      <td>NaN</td>\n",
              "      <td>November 26, 2021</td>\n",
              "      <td>2021</td>\n",
              "      <td>TV-PG</td>\n",
              "      <td>41 min</td>\n",
              "      <td>Musical</td>\n",
              "      <td>This is real life, not just fantasy!</td>\n",
              "    </tr>\n",
              "    <tr>\n",
              "      <th>4</th>\n",
              "      <td>s5</td>\n",
              "      <td>TV Show</td>\n",
              "      <td>The Beatles: Get Back</td>\n",
              "      <td>NaN</td>\n",
              "      <td>John Lennon, Paul McCartney, George Harrison, ...</td>\n",
              "      <td>NaN</td>\n",
              "      <td>November 25, 2021</td>\n",
              "      <td>2021</td>\n",
              "      <td>NaN</td>\n",
              "      <td>1 Season</td>\n",
              "      <td>Docuseries, Historical, Music</td>\n",
              "      <td>A three-part documentary from Peter Jackson ca...</td>\n",
              "    </tr>\n",
              "  </tbody>\n",
              "</table>\n",
              "</div>\n",
              "      <button class=\"colab-df-convert\" onclick=\"convertToInteractive('df-7e9f82fa-0322-49f6-b85a-4fc5bec07e2b')\"\n",
              "              title=\"Convert this dataframe to an interactive table.\"\n",
              "              style=\"display:none;\">\n",
              "        \n",
              "  <svg xmlns=\"http://www.w3.org/2000/svg\" height=\"24px\"viewBox=\"0 0 24 24\"\n",
              "       width=\"24px\">\n",
              "    <path d=\"M0 0h24v24H0V0z\" fill=\"none\"/>\n",
              "    <path d=\"M18.56 5.44l.94 2.06.94-2.06 2.06-.94-2.06-.94-.94-2.06-.94 2.06-2.06.94zm-11 1L8.5 8.5l.94-2.06 2.06-.94-2.06-.94L8.5 2.5l-.94 2.06-2.06.94zm10 10l.94 2.06.94-2.06 2.06-.94-2.06-.94-.94-2.06-.94 2.06-2.06.94z\"/><path d=\"M17.41 7.96l-1.37-1.37c-.4-.4-.92-.59-1.43-.59-.52 0-1.04.2-1.43.59L10.3 9.45l-7.72 7.72c-.78.78-.78 2.05 0 2.83L4 21.41c.39.39.9.59 1.41.59.51 0 1.02-.2 1.41-.59l7.78-7.78 2.81-2.81c.8-.78.8-2.07 0-2.86zM5.41 20L4 18.59l7.72-7.72 1.47 1.35L5.41 20z\"/>\n",
              "  </svg>\n",
              "      </button>\n",
              "      \n",
              "  <style>\n",
              "    .colab-df-container {\n",
              "      display:flex;\n",
              "      flex-wrap:wrap;\n",
              "      gap: 12px;\n",
              "    }\n",
              "\n",
              "    .colab-df-convert {\n",
              "      background-color: #E8F0FE;\n",
              "      border: none;\n",
              "      border-radius: 50%;\n",
              "      cursor: pointer;\n",
              "      display: none;\n",
              "      fill: #1967D2;\n",
              "      height: 32px;\n",
              "      padding: 0 0 0 0;\n",
              "      width: 32px;\n",
              "    }\n",
              "\n",
              "    .colab-df-convert:hover {\n",
              "      background-color: #E2EBFA;\n",
              "      box-shadow: 0px 1px 2px rgba(60, 64, 67, 0.3), 0px 1px 3px 1px rgba(60, 64, 67, 0.15);\n",
              "      fill: #174EA6;\n",
              "    }\n",
              "\n",
              "    [theme=dark] .colab-df-convert {\n",
              "      background-color: #3B4455;\n",
              "      fill: #D2E3FC;\n",
              "    }\n",
              "\n",
              "    [theme=dark] .colab-df-convert:hover {\n",
              "      background-color: #434B5C;\n",
              "      box-shadow: 0px 1px 3px 1px rgba(0, 0, 0, 0.15);\n",
              "      filter: drop-shadow(0px 1px 2px rgba(0, 0, 0, 0.3));\n",
              "      fill: #FFFFFF;\n",
              "    }\n",
              "  </style>\n",
              "\n",
              "      <script>\n",
              "        const buttonEl =\n",
              "          document.querySelector('#df-7e9f82fa-0322-49f6-b85a-4fc5bec07e2b button.colab-df-convert');\n",
              "        buttonEl.style.display =\n",
              "          google.colab.kernel.accessAllowed ? 'block' : 'none';\n",
              "\n",
              "        async function convertToInteractive(key) {\n",
              "          const element = document.querySelector('#df-7e9f82fa-0322-49f6-b85a-4fc5bec07e2b');\n",
              "          const dataTable =\n",
              "            await google.colab.kernel.invokeFunction('convertToInteractive',\n",
              "                                                     [key], {});\n",
              "          if (!dataTable) return;\n",
              "\n",
              "          const docLinkHtml = 'Like what you see? Visit the ' +\n",
              "            '<a target=\"_blank\" href=https://colab.research.google.com/notebooks/data_table.ipynb>data table notebook</a>'\n",
              "            + ' to learn more about interactive tables.';\n",
              "          element.innerHTML = '';\n",
              "          dataTable['output_type'] = 'display_data';\n",
              "          await google.colab.output.renderOutput(dataTable, element);\n",
              "          const docLink = document.createElement('div');\n",
              "          docLink.innerHTML = docLinkHtml;\n",
              "          element.appendChild(docLink);\n",
              "        }\n",
              "      </script>\n",
              "    </div>\n",
              "  </div>\n",
              "  "
            ],
            "text/plain": [
              "  show_id     type                                             title  \\\n",
              "0      s1    Movie  Duck the Halls: A Mickey Mouse Christmas Special   \n",
              "1      s2    Movie                            Ernest Saves Christmas   \n",
              "2      s3    Movie                      Ice Age: A Mammoth Christmas   \n",
              "3      s4    Movie                        The Queen Family Singalong   \n",
              "4      s5  TV Show                             The Beatles: Get Back   \n",
              "\n",
              "                            director  \\\n",
              "0  Alonso Ramirez Ramos, Dave Wasson   \n",
              "1                        John Cherry   \n",
              "2                       Karen Disher   \n",
              "3                    Hamish Hamilton   \n",
              "4                                NaN   \n",
              "\n",
              "                                                cast        country  \\\n",
              "0  Chris Diamantopoulos, Tony Anselmo, Tress MacN...            NaN   \n",
              "1           Jim Varney, Noelle Parker, Douglas Seale            NaN   \n",
              "2  Raymond Albert Romano, John Leguizamo, Denis L...  United States   \n",
              "3  Darren Criss, Adam Lambert, Derek Hough, Alexa...            NaN   \n",
              "4  John Lennon, Paul McCartney, George Harrison, ...            NaN   \n",
              "\n",
              "          date_added  release_year rating  duration  \\\n",
              "0  November 26, 2021          2016   TV-G    23 min   \n",
              "1  November 26, 2021          1988     PG    91 min   \n",
              "2  November 26, 2021          2011   TV-G    23 min   \n",
              "3  November 26, 2021          2021  TV-PG    41 min   \n",
              "4  November 25, 2021          2021    NaN  1 Season   \n",
              "\n",
              "                       listed_in  \\\n",
              "0              Animation, Family   \n",
              "1                         Comedy   \n",
              "2      Animation, Comedy, Family   \n",
              "3                        Musical   \n",
              "4  Docuseries, Historical, Music   \n",
              "\n",
              "                                         description  \n",
              "0   Join Mickey and the gang as they duck the halls!  \n",
              "1  Santa Claus passes his magic bag to a new St. ...  \n",
              "2          Sid the Sloth is on Santa's naughty list.  \n",
              "3               This is real life, not just fantasy!  \n",
              "4  A three-part documentary from Peter Jackson ca...  "
            ]
          },
          "metadata": {},
          "execution_count": 36
        }
      ]
    },
    {
      "cell_type": "code",
      "source": [
        "disney.shape"
      ],
      "metadata": {
        "colab": {
          "base_uri": "https://localhost:8080/"
        },
        "outputId": "390d1ee6-a266-43fb-c291-75d6bd77f351",
        "id": "2QajGn1AlpIj"
      },
      "execution_count": null,
      "outputs": [
        {
          "output_type": "execute_result",
          "data": {
            "text/plain": [
              "(1450, 12)"
            ]
          },
          "metadata": {},
          "execution_count": 37
        }
      ]
    },
    {
      "cell_type": "code",
      "source": [
        "disney.info()"
      ],
      "metadata": {
        "colab": {
          "base_uri": "https://localhost:8080/"
        },
        "outputId": "9b4c5f79-f551-46a2-8415-1967769a6747",
        "id": "Y_TyXvoTlpIk"
      },
      "execution_count": null,
      "outputs": [
        {
          "output_type": "stream",
          "name": "stdout",
          "text": [
            "<class 'pandas.core.frame.DataFrame'>\n",
            "RangeIndex: 1450 entries, 0 to 1449\n",
            "Data columns (total 12 columns):\n",
            " #   Column        Non-Null Count  Dtype \n",
            "---  ------        --------------  ----- \n",
            " 0   show_id       1450 non-null   object\n",
            " 1   type          1450 non-null   object\n",
            " 2   title         1450 non-null   object\n",
            " 3   director      977 non-null    object\n",
            " 4   cast          1260 non-null   object\n",
            " 5   country       1231 non-null   object\n",
            " 6   date_added    1447 non-null   object\n",
            " 7   release_year  1450 non-null   int64 \n",
            " 8   rating        1447 non-null   object\n",
            " 9   duration      1450 non-null   object\n",
            " 10  listed_in     1450 non-null   object\n",
            " 11  description   1450 non-null   object\n",
            "dtypes: int64(1), object(11)\n",
            "memory usage: 136.1+ KB\n"
          ]
        }
      ]
    },
    {
      "cell_type": "code",
      "source": [
        "# 결측치가 있는 column이 있는지 확인\n",
        "\n",
        "disney.isnull().sum()"
      ],
      "metadata": {
        "colab": {
          "base_uri": "https://localhost:8080/"
        },
        "outputId": "fcb486af-77a6-4181-daed-21ce710e933d",
        "id": "w0EYEOEqlpIk"
      },
      "execution_count": null,
      "outputs": [
        {
          "output_type": "execute_result",
          "data": {
            "text/plain": [
              "show_id           0\n",
              "type              0\n",
              "title             0\n",
              "director        473\n",
              "cast            190\n",
              "country         219\n",
              "date_added        3\n",
              "release_year      0\n",
              "rating            3\n",
              "duration          0\n",
              "listed_in         0\n",
              "description       0\n",
              "dtype: int64"
            ]
          },
          "metadata": {},
          "execution_count": 39
        }
      ]
    },
    {
      "cell_type": "markdown",
      "source": [
        "\n",
        "\n",
        "* 5개의 column에서 결측치가 발견\n",
        "\n"
      ],
      "metadata": {
        "id": "q_L1EdoGlpIk"
      }
    },
    {
      "cell_type": "markdown",
      "source": [
        "## 시각화"
      ],
      "metadata": {
        "id": "JCq50_mXlpIk"
      }
    },
    {
      "cell_type": "markdown",
      "source": [
        "### Content Type"
      ],
      "metadata": {
        "id": "IBDgBA85562E"
      }
    },
    {
      "cell_type": "code",
      "source": [
        "col = \"type\"\n",
        "grouped = disney[col].value_counts().reset_index() # type의 unique value들을 count 하고, 인덱스를 reset 시킴.\n",
        "grouped = grouped.rename(columns = {col : \"count\", \"index\" : col})\n",
        "\n",
        "grouped"
      ],
      "metadata": {
        "colab": {
          "base_uri": "https://localhost:8080/"
        },
        "id": "QG1Q53Sm52Vn",
        "outputId": "5d718557-32d6-4e69-a4e0-f92e0aa5709f"
      },
      "execution_count": null,
      "outputs": [
        {
          "output_type": "execute_result",
          "data": {
            "text/html": [
              "\n",
              "  <div id=\"df-23392c8c-81d9-450d-9617-e38f040aaf3c\">\n",
              "    <div class=\"colab-df-container\">\n",
              "      <div>\n",
              "<style scoped>\n",
              "    .dataframe tbody tr th:only-of-type {\n",
              "        vertical-align: middle;\n",
              "    }\n",
              "\n",
              "    .dataframe tbody tr th {\n",
              "        vertical-align: top;\n",
              "    }\n",
              "\n",
              "    .dataframe thead th {\n",
              "        text-align: right;\n",
              "    }\n",
              "</style>\n",
              "<table border=\"1\" class=\"dataframe\">\n",
              "  <thead>\n",
              "    <tr style=\"text-align: right;\">\n",
              "      <th></th>\n",
              "      <th>type</th>\n",
              "      <th>count</th>\n",
              "    </tr>\n",
              "  </thead>\n",
              "  <tbody>\n",
              "    <tr>\n",
              "      <th>0</th>\n",
              "      <td>Movie</td>\n",
              "      <td>1052</td>\n",
              "    </tr>\n",
              "    <tr>\n",
              "      <th>1</th>\n",
              "      <td>TV Show</td>\n",
              "      <td>398</td>\n",
              "    </tr>\n",
              "  </tbody>\n",
              "</table>\n",
              "</div>\n",
              "      <button class=\"colab-df-convert\" onclick=\"convertToInteractive('df-23392c8c-81d9-450d-9617-e38f040aaf3c')\"\n",
              "              title=\"Convert this dataframe to an interactive table.\"\n",
              "              style=\"display:none;\">\n",
              "        \n",
              "  <svg xmlns=\"http://www.w3.org/2000/svg\" height=\"24px\"viewBox=\"0 0 24 24\"\n",
              "       width=\"24px\">\n",
              "    <path d=\"M0 0h24v24H0V0z\" fill=\"none\"/>\n",
              "    <path d=\"M18.56 5.44l.94 2.06.94-2.06 2.06-.94-2.06-.94-.94-2.06-.94 2.06-2.06.94zm-11 1L8.5 8.5l.94-2.06 2.06-.94-2.06-.94L8.5 2.5l-.94 2.06-2.06.94zm10 10l.94 2.06.94-2.06 2.06-.94-2.06-.94-.94-2.06-.94 2.06-2.06.94z\"/><path d=\"M17.41 7.96l-1.37-1.37c-.4-.4-.92-.59-1.43-.59-.52 0-1.04.2-1.43.59L10.3 9.45l-7.72 7.72c-.78.78-.78 2.05 0 2.83L4 21.41c.39.39.9.59 1.41.59.51 0 1.02-.2 1.41-.59l7.78-7.78 2.81-2.81c.8-.78.8-2.07 0-2.86zM5.41 20L4 18.59l7.72-7.72 1.47 1.35L5.41 20z\"/>\n",
              "  </svg>\n",
              "      </button>\n",
              "      \n",
              "  <style>\n",
              "    .colab-df-container {\n",
              "      display:flex;\n",
              "      flex-wrap:wrap;\n",
              "      gap: 12px;\n",
              "    }\n",
              "\n",
              "    .colab-df-convert {\n",
              "      background-color: #E8F0FE;\n",
              "      border: none;\n",
              "      border-radius: 50%;\n",
              "      cursor: pointer;\n",
              "      display: none;\n",
              "      fill: #1967D2;\n",
              "      height: 32px;\n",
              "      padding: 0 0 0 0;\n",
              "      width: 32px;\n",
              "    }\n",
              "\n",
              "    .colab-df-convert:hover {\n",
              "      background-color: #E2EBFA;\n",
              "      box-shadow: 0px 1px 2px rgba(60, 64, 67, 0.3), 0px 1px 3px 1px rgba(60, 64, 67, 0.15);\n",
              "      fill: #174EA6;\n",
              "    }\n",
              "\n",
              "    [theme=dark] .colab-df-convert {\n",
              "      background-color: #3B4455;\n",
              "      fill: #D2E3FC;\n",
              "    }\n",
              "\n",
              "    [theme=dark] .colab-df-convert:hover {\n",
              "      background-color: #434B5C;\n",
              "      box-shadow: 0px 1px 3px 1px rgba(0, 0, 0, 0.15);\n",
              "      filter: drop-shadow(0px 1px 2px rgba(0, 0, 0, 0.3));\n",
              "      fill: #FFFFFF;\n",
              "    }\n",
              "  </style>\n",
              "\n",
              "      <script>\n",
              "        const buttonEl =\n",
              "          document.querySelector('#df-23392c8c-81d9-450d-9617-e38f040aaf3c button.colab-df-convert');\n",
              "        buttonEl.style.display =\n",
              "          google.colab.kernel.accessAllowed ? 'block' : 'none';\n",
              "\n",
              "        async function convertToInteractive(key) {\n",
              "          const element = document.querySelector('#df-23392c8c-81d9-450d-9617-e38f040aaf3c');\n",
              "          const dataTable =\n",
              "            await google.colab.kernel.invokeFunction('convertToInteractive',\n",
              "                                                     [key], {});\n",
              "          if (!dataTable) return;\n",
              "\n",
              "          const docLinkHtml = 'Like what you see? Visit the ' +\n",
              "            '<a target=\"_blank\" href=https://colab.research.google.com/notebooks/data_table.ipynb>data table notebook</a>'\n",
              "            + ' to learn more about interactive tables.';\n",
              "          element.innerHTML = '';\n",
              "          dataTable['output_type'] = 'display_data';\n",
              "          await google.colab.output.renderOutput(dataTable, element);\n",
              "          const docLink = document.createElement('div');\n",
              "          docLink.innerHTML = docLinkHtml;\n",
              "          element.appendChild(docLink);\n",
              "        }\n",
              "      </script>\n",
              "    </div>\n",
              "  </div>\n",
              "  "
            ],
            "text/plain": [
              "      type  count\n",
              "0    Movie   1052\n",
              "1  TV Show    398"
            ]
          },
          "metadata": {},
          "execution_count": 40
        }
      ]
    },
    {
      "cell_type": "code",
      "source": [
        "## Content Type을 시각화\n",
        "\n",
        "trace = go.Pie(labels=grouped[col], values=grouped['count'], pull=[0.05, 0], marker=dict(colors=['#08306b', '#9ecae1']))\n",
        "layout = go.Layout(title=\"\", height=400, legend=dict(x=0.1, y=1.1))\n",
        "fig = go.Figure(data = [trace], layout = layout)\n",
        "iplot(fig)"
      ],
      "metadata": {
        "colab": {
          "base_uri": "https://localhost:8080/"
        },
        "id": "HyYxokWG6kwN",
        "outputId": "a64c4a95-5542-4441-e183-8f518e5a9b71"
      },
      "execution_count": null,
      "outputs": [
        {
          "output_type": "display_data",
          "data": {
            "text/html": [
              "<html>\n",
              "<head><meta charset=\"utf-8\" /></head>\n",
              "<body>\n",
              "    <div>            <script src=\"https://cdnjs.cloudflare.com/ajax/libs/mathjax/2.7.5/MathJax.js?config=TeX-AMS-MML_SVG\"></script><script type=\"text/javascript\">if (window.MathJax) {MathJax.Hub.Config({SVG: {font: \"STIX-Web\"}});}</script>                <script type=\"text/javascript\">window.PlotlyConfig = {MathJaxConfig: 'local'};</script>\n",
              "        <script src=\"https://cdn.plot.ly/plotly-2.8.3.min.js\"></script>                <div id=\"3f03e397-89ff-43e8-a2a8-95a8489be8e0\" class=\"plotly-graph-div\" style=\"height:400px; width:100%;\"></div>            <script type=\"text/javascript\">                                    window.PLOTLYENV=window.PLOTLYENV || {};                                    if (document.getElementById(\"3f03e397-89ff-43e8-a2a8-95a8489be8e0\")) {                    Plotly.newPlot(                        \"3f03e397-89ff-43e8-a2a8-95a8489be8e0\",                        [{\"labels\":[\"Movie\",\"TV Show\"],\"marker\":{\"colors\":[\"#08306b\",\"#9ecae1\"]},\"pull\":[0.05,0],\"values\":[1052,398],\"type\":\"pie\"}],                        {\"height\":400,\"legend\":{\"x\":0.1,\"y\":1.1},\"template\":{\"data\":{\"barpolar\":[{\"marker\":{\"line\":{\"color\":\"#E5ECF6\",\"width\":0.5},\"pattern\":{\"fillmode\":\"overlay\",\"size\":10,\"solidity\":0.2}},\"type\":\"barpolar\"}],\"bar\":[{\"error_x\":{\"color\":\"#2a3f5f\"},\"error_y\":{\"color\":\"#2a3f5f\"},\"marker\":{\"line\":{\"color\":\"#E5ECF6\",\"width\":0.5},\"pattern\":{\"fillmode\":\"overlay\",\"size\":10,\"solidity\":0.2}},\"type\":\"bar\"}],\"carpet\":[{\"aaxis\":{\"endlinecolor\":\"#2a3f5f\",\"gridcolor\":\"white\",\"linecolor\":\"white\",\"minorgridcolor\":\"white\",\"startlinecolor\":\"#2a3f5f\"},\"baxis\":{\"endlinecolor\":\"#2a3f5f\",\"gridcolor\":\"white\",\"linecolor\":\"white\",\"minorgridcolor\":\"white\",\"startlinecolor\":\"#2a3f5f\"},\"type\":\"carpet\"}],\"choropleth\":[{\"colorbar\":{\"outlinewidth\":0,\"ticks\":\"\"},\"type\":\"choropleth\"}],\"contourcarpet\":[{\"colorbar\":{\"outlinewidth\":0,\"ticks\":\"\"},\"type\":\"contourcarpet\"}],\"contour\":[{\"colorbar\":{\"outlinewidth\":0,\"ticks\":\"\"},\"colorscale\":[[0.0,\"#0d0887\"],[0.1111111111111111,\"#46039f\"],[0.2222222222222222,\"#7201a8\"],[0.3333333333333333,\"#9c179e\"],[0.4444444444444444,\"#bd3786\"],[0.5555555555555556,\"#d8576b\"],[0.6666666666666666,\"#ed7953\"],[0.7777777777777778,\"#fb9f3a\"],[0.8888888888888888,\"#fdca26\"],[1.0,\"#f0f921\"]],\"type\":\"contour\"}],\"heatmapgl\":[{\"colorbar\":{\"outlinewidth\":0,\"ticks\":\"\"},\"colorscale\":[[0.0,\"#0d0887\"],[0.1111111111111111,\"#46039f\"],[0.2222222222222222,\"#7201a8\"],[0.3333333333333333,\"#9c179e\"],[0.4444444444444444,\"#bd3786\"],[0.5555555555555556,\"#d8576b\"],[0.6666666666666666,\"#ed7953\"],[0.7777777777777778,\"#fb9f3a\"],[0.8888888888888888,\"#fdca26\"],[1.0,\"#f0f921\"]],\"type\":\"heatmapgl\"}],\"heatmap\":[{\"colorbar\":{\"outlinewidth\":0,\"ticks\":\"\"},\"colorscale\":[[0.0,\"#0d0887\"],[0.1111111111111111,\"#46039f\"],[0.2222222222222222,\"#7201a8\"],[0.3333333333333333,\"#9c179e\"],[0.4444444444444444,\"#bd3786\"],[0.5555555555555556,\"#d8576b\"],[0.6666666666666666,\"#ed7953\"],[0.7777777777777778,\"#fb9f3a\"],[0.8888888888888888,\"#fdca26\"],[1.0,\"#f0f921\"]],\"type\":\"heatmap\"}],\"histogram2dcontour\":[{\"colorbar\":{\"outlinewidth\":0,\"ticks\":\"\"},\"colorscale\":[[0.0,\"#0d0887\"],[0.1111111111111111,\"#46039f\"],[0.2222222222222222,\"#7201a8\"],[0.3333333333333333,\"#9c179e\"],[0.4444444444444444,\"#bd3786\"],[0.5555555555555556,\"#d8576b\"],[0.6666666666666666,\"#ed7953\"],[0.7777777777777778,\"#fb9f3a\"],[0.8888888888888888,\"#fdca26\"],[1.0,\"#f0f921\"]],\"type\":\"histogram2dcontour\"}],\"histogram2d\":[{\"colorbar\":{\"outlinewidth\":0,\"ticks\":\"\"},\"colorscale\":[[0.0,\"#0d0887\"],[0.1111111111111111,\"#46039f\"],[0.2222222222222222,\"#7201a8\"],[0.3333333333333333,\"#9c179e\"],[0.4444444444444444,\"#bd3786\"],[0.5555555555555556,\"#d8576b\"],[0.6666666666666666,\"#ed7953\"],[0.7777777777777778,\"#fb9f3a\"],[0.8888888888888888,\"#fdca26\"],[1.0,\"#f0f921\"]],\"type\":\"histogram2d\"}],\"histogram\":[{\"marker\":{\"pattern\":{\"fillmode\":\"overlay\",\"size\":10,\"solidity\":0.2}},\"type\":\"histogram\"}],\"mesh3d\":[{\"colorbar\":{\"outlinewidth\":0,\"ticks\":\"\"},\"type\":\"mesh3d\"}],\"parcoords\":[{\"line\":{\"colorbar\":{\"outlinewidth\":0,\"ticks\":\"\"}},\"type\":\"parcoords\"}],\"pie\":[{\"automargin\":true,\"type\":\"pie\"}],\"scatter3d\":[{\"line\":{\"colorbar\":{\"outlinewidth\":0,\"ticks\":\"\"}},\"marker\":{\"colorbar\":{\"outlinewidth\":0,\"ticks\":\"\"}},\"type\":\"scatter3d\"}],\"scattercarpet\":[{\"marker\":{\"colorbar\":{\"outlinewidth\":0,\"ticks\":\"\"}},\"type\":\"scattercarpet\"}],\"scattergeo\":[{\"marker\":{\"colorbar\":{\"outlinewidth\":0,\"ticks\":\"\"}},\"type\":\"scattergeo\"}],\"scattergl\":[{\"marker\":{\"colorbar\":{\"outlinewidth\":0,\"ticks\":\"\"}},\"type\":\"scattergl\"}],\"scattermapbox\":[{\"marker\":{\"colorbar\":{\"outlinewidth\":0,\"ticks\":\"\"}},\"type\":\"scattermapbox\"}],\"scatterpolargl\":[{\"marker\":{\"colorbar\":{\"outlinewidth\":0,\"ticks\":\"\"}},\"type\":\"scatterpolargl\"}],\"scatterpolar\":[{\"marker\":{\"colorbar\":{\"outlinewidth\":0,\"ticks\":\"\"}},\"type\":\"scatterpolar\"}],\"scatter\":[{\"marker\":{\"colorbar\":{\"outlinewidth\":0,\"ticks\":\"\"}},\"type\":\"scatter\"}],\"scatterternary\":[{\"marker\":{\"colorbar\":{\"outlinewidth\":0,\"ticks\":\"\"}},\"type\":\"scatterternary\"}],\"surface\":[{\"colorbar\":{\"outlinewidth\":0,\"ticks\":\"\"},\"colorscale\":[[0.0,\"#0d0887\"],[0.1111111111111111,\"#46039f\"],[0.2222222222222222,\"#7201a8\"],[0.3333333333333333,\"#9c179e\"],[0.4444444444444444,\"#bd3786\"],[0.5555555555555556,\"#d8576b\"],[0.6666666666666666,\"#ed7953\"],[0.7777777777777778,\"#fb9f3a\"],[0.8888888888888888,\"#fdca26\"],[1.0,\"#f0f921\"]],\"type\":\"surface\"}],\"table\":[{\"cells\":{\"fill\":{\"color\":\"#EBF0F8\"},\"line\":{\"color\":\"white\"}},\"header\":{\"fill\":{\"color\":\"#C8D4E3\"},\"line\":{\"color\":\"white\"}},\"type\":\"table\"}]},\"layout\":{\"annotationdefaults\":{\"arrowcolor\":\"#2a3f5f\",\"arrowhead\":0,\"arrowwidth\":1},\"autotypenumbers\":\"strict\",\"coloraxis\":{\"colorbar\":{\"outlinewidth\":0,\"ticks\":\"\"}},\"colorscale\":{\"diverging\":[[0,\"#8e0152\"],[0.1,\"#c51b7d\"],[0.2,\"#de77ae\"],[0.3,\"#f1b6da\"],[0.4,\"#fde0ef\"],[0.5,\"#f7f7f7\"],[0.6,\"#e6f5d0\"],[0.7,\"#b8e186\"],[0.8,\"#7fbc41\"],[0.9,\"#4d9221\"],[1,\"#276419\"]],\"sequential\":[[0.0,\"#0d0887\"],[0.1111111111111111,\"#46039f\"],[0.2222222222222222,\"#7201a8\"],[0.3333333333333333,\"#9c179e\"],[0.4444444444444444,\"#bd3786\"],[0.5555555555555556,\"#d8576b\"],[0.6666666666666666,\"#ed7953\"],[0.7777777777777778,\"#fb9f3a\"],[0.8888888888888888,\"#fdca26\"],[1.0,\"#f0f921\"]],\"sequentialminus\":[[0.0,\"#0d0887\"],[0.1111111111111111,\"#46039f\"],[0.2222222222222222,\"#7201a8\"],[0.3333333333333333,\"#9c179e\"],[0.4444444444444444,\"#bd3786\"],[0.5555555555555556,\"#d8576b\"],[0.6666666666666666,\"#ed7953\"],[0.7777777777777778,\"#fb9f3a\"],[0.8888888888888888,\"#fdca26\"],[1.0,\"#f0f921\"]]},\"colorway\":[\"#636efa\",\"#EF553B\",\"#00cc96\",\"#ab63fa\",\"#FFA15A\",\"#19d3f3\",\"#FF6692\",\"#B6E880\",\"#FF97FF\",\"#FECB52\"],\"font\":{\"color\":\"#2a3f5f\"},\"geo\":{\"bgcolor\":\"white\",\"lakecolor\":\"white\",\"landcolor\":\"#E5ECF6\",\"showlakes\":true,\"showland\":true,\"subunitcolor\":\"white\"},\"hoverlabel\":{\"align\":\"left\"},\"hovermode\":\"closest\",\"mapbox\":{\"style\":\"light\"},\"paper_bgcolor\":\"white\",\"plot_bgcolor\":\"#E5ECF6\",\"polar\":{\"angularaxis\":{\"gridcolor\":\"white\",\"linecolor\":\"white\",\"ticks\":\"\"},\"bgcolor\":\"#E5ECF6\",\"radialaxis\":{\"gridcolor\":\"white\",\"linecolor\":\"white\",\"ticks\":\"\"}},\"scene\":{\"xaxis\":{\"backgroundcolor\":\"#E5ECF6\",\"gridcolor\":\"white\",\"gridwidth\":2,\"linecolor\":\"white\",\"showbackground\":true,\"ticks\":\"\",\"zerolinecolor\":\"white\"},\"yaxis\":{\"backgroundcolor\":\"#E5ECF6\",\"gridcolor\":\"white\",\"gridwidth\":2,\"linecolor\":\"white\",\"showbackground\":true,\"ticks\":\"\",\"zerolinecolor\":\"white\"},\"zaxis\":{\"backgroundcolor\":\"#E5ECF6\",\"gridcolor\":\"white\",\"gridwidth\":2,\"linecolor\":\"white\",\"showbackground\":true,\"ticks\":\"\",\"zerolinecolor\":\"white\"}},\"shapedefaults\":{\"line\":{\"color\":\"#2a3f5f\"}},\"ternary\":{\"aaxis\":{\"gridcolor\":\"white\",\"linecolor\":\"white\",\"ticks\":\"\"},\"baxis\":{\"gridcolor\":\"white\",\"linecolor\":\"white\",\"ticks\":\"\"},\"bgcolor\":\"#E5ECF6\",\"caxis\":{\"gridcolor\":\"white\",\"linecolor\":\"white\",\"ticks\":\"\"}},\"title\":{\"x\":0.05},\"xaxis\":{\"automargin\":true,\"gridcolor\":\"white\",\"linecolor\":\"white\",\"ticks\":\"\",\"title\":{\"standoff\":15},\"zerolinecolor\":\"white\",\"zerolinewidth\":2},\"yaxis\":{\"automargin\":true,\"gridcolor\":\"white\",\"linecolor\":\"white\",\"ticks\":\"\",\"title\":{\"standoff\":15},\"zerolinecolor\":\"white\",\"zerolinewidth\":2}}},\"title\":{\"text\":\"\"}},                        {\"responsive\": true}                    ).then(function(){\n",
              "                            \n",
              "var gd = document.getElementById('3f03e397-89ff-43e8-a2a8-95a8489be8e0');\n",
              "var x = new MutationObserver(function (mutations, observer) {{\n",
              "        var display = window.getComputedStyle(gd).display;\n",
              "        if (!display || display === 'none') {{\n",
              "            console.log([gd, 'removed!']);\n",
              "            Plotly.purge(gd);\n",
              "            observer.disconnect();\n",
              "        }}\n",
              "}});\n",
              "\n",
              "// Listen for the removal of the full notebook cells\n",
              "var notebookContainer = gd.closest('#notebook-container');\n",
              "if (notebookContainer) {{\n",
              "    x.observe(notebookContainer, {childList: true});\n",
              "}}\n",
              "\n",
              "// Listen for the clearing of the current output cell\n",
              "var outputEl = gd.closest('.output');\n",
              "if (outputEl) {{\n",
              "    x.observe(outputEl, {childList: true});\n",
              "}}\n",
              "\n",
              "                        })                };                            </script>        </div>\n",
              "</body>\n",
              "</html>"
            ]
          },
          "metadata": {}
        }
      ]
    },
    {
      "cell_type": "markdown",
      "source": [
        "### 국가별"
      ],
      "metadata": {
        "id": "U21nG2E9mexm"
      }
    },
    {
      "cell_type": "markdown",
      "source": [
        "#### country count 셋업"
      ],
      "metadata": {
        "id": "7rVh1HM8voAR"
      }
    },
    {
      "cell_type": "code",
      "source": [
        "country_count = disney.copy()\n",
        "country_count = pd.concat([country_count, disney[\"country\"].str.split(\",\", expand = True)], axis = 1)\n",
        "country_count"
      ],
      "metadata": {
        "colab": {
          "base_uri": "https://localhost:8080/"
        },
        "outputId": "51596823-a379-41e3-fb3e-8e97a0e01e05",
        "id": "7qQDwoDRmexn"
      },
      "execution_count": null,
      "outputs": [
        {
          "output_type": "execute_result",
          "data": {
            "text/html": [
              "\n",
              "  <div id=\"df-2ebf092f-7331-48c6-a042-a34db2090ee7\">\n",
              "    <div class=\"colab-df-container\">\n",
              "      <div>\n",
              "<style scoped>\n",
              "    .dataframe tbody tr th:only-of-type {\n",
              "        vertical-align: middle;\n",
              "    }\n",
              "\n",
              "    .dataframe tbody tr th {\n",
              "        vertical-align: top;\n",
              "    }\n",
              "\n",
              "    .dataframe thead th {\n",
              "        text-align: right;\n",
              "    }\n",
              "</style>\n",
              "<table border=\"1\" class=\"dataframe\">\n",
              "  <thead>\n",
              "    <tr style=\"text-align: right;\">\n",
              "      <th></th>\n",
              "      <th>show_id</th>\n",
              "      <th>type</th>\n",
              "      <th>title</th>\n",
              "      <th>director</th>\n",
              "      <th>cast</th>\n",
              "      <th>country</th>\n",
              "      <th>date_added</th>\n",
              "      <th>release_year</th>\n",
              "      <th>rating</th>\n",
              "      <th>duration</th>\n",
              "      <th>...</th>\n",
              "      <th>5</th>\n",
              "      <th>6</th>\n",
              "      <th>7</th>\n",
              "      <th>8</th>\n",
              "      <th>9</th>\n",
              "      <th>10</th>\n",
              "      <th>11</th>\n",
              "      <th>12</th>\n",
              "      <th>13</th>\n",
              "      <th>14</th>\n",
              "    </tr>\n",
              "  </thead>\n",
              "  <tbody>\n",
              "    <tr>\n",
              "      <th>0</th>\n",
              "      <td>s1</td>\n",
              "      <td>Movie</td>\n",
              "      <td>Duck the Halls: A Mickey Mouse Christmas Special</td>\n",
              "      <td>Alonso Ramirez Ramos, Dave Wasson</td>\n",
              "      <td>Chris Diamantopoulos, Tony Anselmo, Tress MacN...</td>\n",
              "      <td>NaN</td>\n",
              "      <td>November 26, 2021</td>\n",
              "      <td>2016</td>\n",
              "      <td>TV-G</td>\n",
              "      <td>23 min</td>\n",
              "      <td>...</td>\n",
              "      <td>NaN</td>\n",
              "      <td>NaN</td>\n",
              "      <td>NaN</td>\n",
              "      <td>NaN</td>\n",
              "      <td>NaN</td>\n",
              "      <td>NaN</td>\n",
              "      <td>NaN</td>\n",
              "      <td>NaN</td>\n",
              "      <td>NaN</td>\n",
              "      <td>NaN</td>\n",
              "    </tr>\n",
              "    <tr>\n",
              "      <th>1</th>\n",
              "      <td>s2</td>\n",
              "      <td>Movie</td>\n",
              "      <td>Ernest Saves Christmas</td>\n",
              "      <td>John Cherry</td>\n",
              "      <td>Jim Varney, Noelle Parker, Douglas Seale</td>\n",
              "      <td>NaN</td>\n",
              "      <td>November 26, 2021</td>\n",
              "      <td>1988</td>\n",
              "      <td>PG</td>\n",
              "      <td>91 min</td>\n",
              "      <td>...</td>\n",
              "      <td>NaN</td>\n",
              "      <td>NaN</td>\n",
              "      <td>NaN</td>\n",
              "      <td>NaN</td>\n",
              "      <td>NaN</td>\n",
              "      <td>NaN</td>\n",
              "      <td>NaN</td>\n",
              "      <td>NaN</td>\n",
              "      <td>NaN</td>\n",
              "      <td>NaN</td>\n",
              "    </tr>\n",
              "    <tr>\n",
              "      <th>2</th>\n",
              "      <td>s3</td>\n",
              "      <td>Movie</td>\n",
              "      <td>Ice Age: A Mammoth Christmas</td>\n",
              "      <td>Karen Disher</td>\n",
              "      <td>Raymond Albert Romano, John Leguizamo, Denis L...</td>\n",
              "      <td>United States</td>\n",
              "      <td>November 26, 2021</td>\n",
              "      <td>2011</td>\n",
              "      <td>TV-G</td>\n",
              "      <td>23 min</td>\n",
              "      <td>...</td>\n",
              "      <td>NaN</td>\n",
              "      <td>NaN</td>\n",
              "      <td>NaN</td>\n",
              "      <td>NaN</td>\n",
              "      <td>NaN</td>\n",
              "      <td>NaN</td>\n",
              "      <td>NaN</td>\n",
              "      <td>NaN</td>\n",
              "      <td>NaN</td>\n",
              "      <td>NaN</td>\n",
              "    </tr>\n",
              "    <tr>\n",
              "      <th>3</th>\n",
              "      <td>s4</td>\n",
              "      <td>Movie</td>\n",
              "      <td>The Queen Family Singalong</td>\n",
              "      <td>Hamish Hamilton</td>\n",
              "      <td>Darren Criss, Adam Lambert, Derek Hough, Alexa...</td>\n",
              "      <td>NaN</td>\n",
              "      <td>November 26, 2021</td>\n",
              "      <td>2021</td>\n",
              "      <td>TV-PG</td>\n",
              "      <td>41 min</td>\n",
              "      <td>...</td>\n",
              "      <td>NaN</td>\n",
              "      <td>NaN</td>\n",
              "      <td>NaN</td>\n",
              "      <td>NaN</td>\n",
              "      <td>NaN</td>\n",
              "      <td>NaN</td>\n",
              "      <td>NaN</td>\n",
              "      <td>NaN</td>\n",
              "      <td>NaN</td>\n",
              "      <td>NaN</td>\n",
              "    </tr>\n",
              "    <tr>\n",
              "      <th>4</th>\n",
              "      <td>s5</td>\n",
              "      <td>TV Show</td>\n",
              "      <td>The Beatles: Get Back</td>\n",
              "      <td>NaN</td>\n",
              "      <td>John Lennon, Paul McCartney, George Harrison, ...</td>\n",
              "      <td>NaN</td>\n",
              "      <td>November 25, 2021</td>\n",
              "      <td>2021</td>\n",
              "      <td>NaN</td>\n",
              "      <td>1 Season</td>\n",
              "      <td>...</td>\n",
              "      <td>NaN</td>\n",
              "      <td>NaN</td>\n",
              "      <td>NaN</td>\n",
              "      <td>NaN</td>\n",
              "      <td>NaN</td>\n",
              "      <td>NaN</td>\n",
              "      <td>NaN</td>\n",
              "      <td>NaN</td>\n",
              "      <td>NaN</td>\n",
              "      <td>NaN</td>\n",
              "    </tr>\n",
              "    <tr>\n",
              "      <th>...</th>\n",
              "      <td>...</td>\n",
              "      <td>...</td>\n",
              "      <td>...</td>\n",
              "      <td>...</td>\n",
              "      <td>...</td>\n",
              "      <td>...</td>\n",
              "      <td>...</td>\n",
              "      <td>...</td>\n",
              "      <td>...</td>\n",
              "      <td>...</td>\n",
              "      <td>...</td>\n",
              "      <td>...</td>\n",
              "      <td>...</td>\n",
              "      <td>...</td>\n",
              "      <td>...</td>\n",
              "      <td>...</td>\n",
              "      <td>...</td>\n",
              "      <td>...</td>\n",
              "      <td>...</td>\n",
              "      <td>...</td>\n",
              "      <td>...</td>\n",
              "    </tr>\n",
              "    <tr>\n",
              "      <th>1445</th>\n",
              "      <td>s1446</td>\n",
              "      <td>Movie</td>\n",
              "      <td>X-Men Origins: Wolverine</td>\n",
              "      <td>Gavin Hood</td>\n",
              "      <td>Hugh Jackman, Liev Schreiber, Danny Huston, wi...</td>\n",
              "      <td>United States, United Kingdom</td>\n",
              "      <td>June 4, 2021</td>\n",
              "      <td>2009</td>\n",
              "      <td>PG-13</td>\n",
              "      <td>108 min</td>\n",
              "      <td>...</td>\n",
              "      <td>None</td>\n",
              "      <td>None</td>\n",
              "      <td>None</td>\n",
              "      <td>None</td>\n",
              "      <td>None</td>\n",
              "      <td>None</td>\n",
              "      <td>None</td>\n",
              "      <td>None</td>\n",
              "      <td>None</td>\n",
              "      <td>None</td>\n",
              "    </tr>\n",
              "    <tr>\n",
              "      <th>1446</th>\n",
              "      <td>s1447</td>\n",
              "      <td>Movie</td>\n",
              "      <td>Night at the Museum: Battle of the Smithsonian</td>\n",
              "      <td>Shawn Levy</td>\n",
              "      <td>Ben Stiller, Amy Adams, Owen Wilson, Hank Azar...</td>\n",
              "      <td>United States, Canada</td>\n",
              "      <td>April 2, 2021</td>\n",
              "      <td>2009</td>\n",
              "      <td>PG</td>\n",
              "      <td>106 min</td>\n",
              "      <td>...</td>\n",
              "      <td>None</td>\n",
              "      <td>None</td>\n",
              "      <td>None</td>\n",
              "      <td>None</td>\n",
              "      <td>None</td>\n",
              "      <td>None</td>\n",
              "      <td>None</td>\n",
              "      <td>None</td>\n",
              "      <td>None</td>\n",
              "      <td>None</td>\n",
              "    </tr>\n",
              "    <tr>\n",
              "      <th>1447</th>\n",
              "      <td>s1448</td>\n",
              "      <td>Movie</td>\n",
              "      <td>Eddie the Eagle</td>\n",
              "      <td>Dexter Fletcher</td>\n",
              "      <td>Tom Costello, Jo Hartley, Keith Allen, Dickon ...</td>\n",
              "      <td>United Kingdom, Germany, United States</td>\n",
              "      <td>December 18, 2020</td>\n",
              "      <td>2016</td>\n",
              "      <td>PG-13</td>\n",
              "      <td>107 min</td>\n",
              "      <td>...</td>\n",
              "      <td>None</td>\n",
              "      <td>None</td>\n",
              "      <td>None</td>\n",
              "      <td>None</td>\n",
              "      <td>None</td>\n",
              "      <td>None</td>\n",
              "      <td>None</td>\n",
              "      <td>None</td>\n",
              "      <td>None</td>\n",
              "      <td>None</td>\n",
              "    </tr>\n",
              "    <tr>\n",
              "      <th>1448</th>\n",
              "      <td>s1449</td>\n",
              "      <td>Movie</td>\n",
              "      <td>Bend It Like Beckham</td>\n",
              "      <td>Gurinder Chadha</td>\n",
              "      <td>Parminder Nagra, Keira Knightley, Jonathan Rhy...</td>\n",
              "      <td>United Kingdom, Germany, United States</td>\n",
              "      <td>September 18, 2020</td>\n",
              "      <td>2003</td>\n",
              "      <td>PG-13</td>\n",
              "      <td>112 min</td>\n",
              "      <td>...</td>\n",
              "      <td>None</td>\n",
              "      <td>None</td>\n",
              "      <td>None</td>\n",
              "      <td>None</td>\n",
              "      <td>None</td>\n",
              "      <td>None</td>\n",
              "      <td>None</td>\n",
              "      <td>None</td>\n",
              "      <td>None</td>\n",
              "      <td>None</td>\n",
              "    </tr>\n",
              "    <tr>\n",
              "      <th>1449</th>\n",
              "      <td>s1450</td>\n",
              "      <td>Movie</td>\n",
              "      <td>Captain Sparky vs. The Flying Saucers</td>\n",
              "      <td>Mark Waring</td>\n",
              "      <td>Charlie Tahan</td>\n",
              "      <td>United States</td>\n",
              "      <td>April 1, 2020</td>\n",
              "      <td>2012</td>\n",
              "      <td>TV-G</td>\n",
              "      <td>2 min</td>\n",
              "      <td>...</td>\n",
              "      <td>None</td>\n",
              "      <td>None</td>\n",
              "      <td>None</td>\n",
              "      <td>None</td>\n",
              "      <td>None</td>\n",
              "      <td>None</td>\n",
              "      <td>None</td>\n",
              "      <td>None</td>\n",
              "      <td>None</td>\n",
              "      <td>None</td>\n",
              "    </tr>\n",
              "  </tbody>\n",
              "</table>\n",
              "<p>1450 rows × 27 columns</p>\n",
              "</div>\n",
              "      <button class=\"colab-df-convert\" onclick=\"convertToInteractive('df-2ebf092f-7331-48c6-a042-a34db2090ee7')\"\n",
              "              title=\"Convert this dataframe to an interactive table.\"\n",
              "              style=\"display:none;\">\n",
              "        \n",
              "  <svg xmlns=\"http://www.w3.org/2000/svg\" height=\"24px\"viewBox=\"0 0 24 24\"\n",
              "       width=\"24px\">\n",
              "    <path d=\"M0 0h24v24H0V0z\" fill=\"none\"/>\n",
              "    <path d=\"M18.56 5.44l.94 2.06.94-2.06 2.06-.94-2.06-.94-.94-2.06-.94 2.06-2.06.94zm-11 1L8.5 8.5l.94-2.06 2.06-.94-2.06-.94L8.5 2.5l-.94 2.06-2.06.94zm10 10l.94 2.06.94-2.06 2.06-.94-2.06-.94-.94-2.06-.94 2.06-2.06.94z\"/><path d=\"M17.41 7.96l-1.37-1.37c-.4-.4-.92-.59-1.43-.59-.52 0-1.04.2-1.43.59L10.3 9.45l-7.72 7.72c-.78.78-.78 2.05 0 2.83L4 21.41c.39.39.9.59 1.41.59.51 0 1.02-.2 1.41-.59l7.78-7.78 2.81-2.81c.8-.78.8-2.07 0-2.86zM5.41 20L4 18.59l7.72-7.72 1.47 1.35L5.41 20z\"/>\n",
              "  </svg>\n",
              "      </button>\n",
              "      \n",
              "  <style>\n",
              "    .colab-df-container {\n",
              "      display:flex;\n",
              "      flex-wrap:wrap;\n",
              "      gap: 12px;\n",
              "    }\n",
              "\n",
              "    .colab-df-convert {\n",
              "      background-color: #E8F0FE;\n",
              "      border: none;\n",
              "      border-radius: 50%;\n",
              "      cursor: pointer;\n",
              "      display: none;\n",
              "      fill: #1967D2;\n",
              "      height: 32px;\n",
              "      padding: 0 0 0 0;\n",
              "      width: 32px;\n",
              "    }\n",
              "\n",
              "    .colab-df-convert:hover {\n",
              "      background-color: #E2EBFA;\n",
              "      box-shadow: 0px 1px 2px rgba(60, 64, 67, 0.3), 0px 1px 3px 1px rgba(60, 64, 67, 0.15);\n",
              "      fill: #174EA6;\n",
              "    }\n",
              "\n",
              "    [theme=dark] .colab-df-convert {\n",
              "      background-color: #3B4455;\n",
              "      fill: #D2E3FC;\n",
              "    }\n",
              "\n",
              "    [theme=dark] .colab-df-convert:hover {\n",
              "      background-color: #434B5C;\n",
              "      box-shadow: 0px 1px 3px 1px rgba(0, 0, 0, 0.15);\n",
              "      filter: drop-shadow(0px 1px 2px rgba(0, 0, 0, 0.3));\n",
              "      fill: #FFFFFF;\n",
              "    }\n",
              "  </style>\n",
              "\n",
              "      <script>\n",
              "        const buttonEl =\n",
              "          document.querySelector('#df-2ebf092f-7331-48c6-a042-a34db2090ee7 button.colab-df-convert');\n",
              "        buttonEl.style.display =\n",
              "          google.colab.kernel.accessAllowed ? 'block' : 'none';\n",
              "\n",
              "        async function convertToInteractive(key) {\n",
              "          const element = document.querySelector('#df-2ebf092f-7331-48c6-a042-a34db2090ee7');\n",
              "          const dataTable =\n",
              "            await google.colab.kernel.invokeFunction('convertToInteractive',\n",
              "                                                     [key], {});\n",
              "          if (!dataTable) return;\n",
              "\n",
              "          const docLinkHtml = 'Like what you see? Visit the ' +\n",
              "            '<a target=\"_blank\" href=https://colab.research.google.com/notebooks/data_table.ipynb>data table notebook</a>'\n",
              "            + ' to learn more about interactive tables.';\n",
              "          element.innerHTML = '';\n",
              "          dataTable['output_type'] = 'display_data';\n",
              "          await google.colab.output.renderOutput(dataTable, element);\n",
              "          const docLink = document.createElement('div');\n",
              "          docLink.innerHTML = docLinkHtml;\n",
              "          element.appendChild(docLink);\n",
              "        }\n",
              "      </script>\n",
              "    </div>\n",
              "  </div>\n",
              "  "
            ],
            "text/plain": [
              "     show_id     type                                             title  \\\n",
              "0         s1    Movie  Duck the Halls: A Mickey Mouse Christmas Special   \n",
              "1         s2    Movie                            Ernest Saves Christmas   \n",
              "2         s3    Movie                      Ice Age: A Mammoth Christmas   \n",
              "3         s4    Movie                        The Queen Family Singalong   \n",
              "4         s5  TV Show                             The Beatles: Get Back   \n",
              "...      ...      ...                                               ...   \n",
              "1445   s1446    Movie                          X-Men Origins: Wolverine   \n",
              "1446   s1447    Movie    Night at the Museum: Battle of the Smithsonian   \n",
              "1447   s1448    Movie                                   Eddie the Eagle   \n",
              "1448   s1449    Movie                              Bend It Like Beckham   \n",
              "1449   s1450    Movie             Captain Sparky vs. The Flying Saucers   \n",
              "\n",
              "                               director  \\\n",
              "0     Alonso Ramirez Ramos, Dave Wasson   \n",
              "1                           John Cherry   \n",
              "2                          Karen Disher   \n",
              "3                       Hamish Hamilton   \n",
              "4                                   NaN   \n",
              "...                                 ...   \n",
              "1445                         Gavin Hood   \n",
              "1446                         Shawn Levy   \n",
              "1447                    Dexter Fletcher   \n",
              "1448                    Gurinder Chadha   \n",
              "1449                        Mark Waring   \n",
              "\n",
              "                                                   cast  \\\n",
              "0     Chris Diamantopoulos, Tony Anselmo, Tress MacN...   \n",
              "1              Jim Varney, Noelle Parker, Douglas Seale   \n",
              "2     Raymond Albert Romano, John Leguizamo, Denis L...   \n",
              "3     Darren Criss, Adam Lambert, Derek Hough, Alexa...   \n",
              "4     John Lennon, Paul McCartney, George Harrison, ...   \n",
              "...                                                 ...   \n",
              "1445  Hugh Jackman, Liev Schreiber, Danny Huston, wi...   \n",
              "1446  Ben Stiller, Amy Adams, Owen Wilson, Hank Azar...   \n",
              "1447  Tom Costello, Jo Hartley, Keith Allen, Dickon ...   \n",
              "1448  Parminder Nagra, Keira Knightley, Jonathan Rhy...   \n",
              "1449                                      Charlie Tahan   \n",
              "\n",
              "                                     country          date_added  \\\n",
              "0                                        NaN   November 26, 2021   \n",
              "1                                        NaN   November 26, 2021   \n",
              "2                              United States   November 26, 2021   \n",
              "3                                        NaN   November 26, 2021   \n",
              "4                                        NaN   November 25, 2021   \n",
              "...                                      ...                 ...   \n",
              "1445           United States, United Kingdom        June 4, 2021   \n",
              "1446                   United States, Canada       April 2, 2021   \n",
              "1447  United Kingdom, Germany, United States   December 18, 2020   \n",
              "1448  United Kingdom, Germany, United States  September 18, 2020   \n",
              "1449                           United States       April 1, 2020   \n",
              "\n",
              "      release_year rating  duration  ...     5     6     7     8     9    10  \\\n",
              "0             2016   TV-G    23 min  ...   NaN   NaN   NaN   NaN   NaN   NaN   \n",
              "1             1988     PG    91 min  ...   NaN   NaN   NaN   NaN   NaN   NaN   \n",
              "2             2011   TV-G    23 min  ...   NaN   NaN   NaN   NaN   NaN   NaN   \n",
              "3             2021  TV-PG    41 min  ...   NaN   NaN   NaN   NaN   NaN   NaN   \n",
              "4             2021    NaN  1 Season  ...   NaN   NaN   NaN   NaN   NaN   NaN   \n",
              "...            ...    ...       ...  ...   ...   ...   ...   ...   ...   ...   \n",
              "1445          2009  PG-13   108 min  ...  None  None  None  None  None  None   \n",
              "1446          2009     PG   106 min  ...  None  None  None  None  None  None   \n",
              "1447          2016  PG-13   107 min  ...  None  None  None  None  None  None   \n",
              "1448          2003  PG-13   112 min  ...  None  None  None  None  None  None   \n",
              "1449          2012   TV-G     2 min  ...  None  None  None  None  None  None   \n",
              "\n",
              "        11    12    13    14  \n",
              "0      NaN   NaN   NaN   NaN  \n",
              "1      NaN   NaN   NaN   NaN  \n",
              "2      NaN   NaN   NaN   NaN  \n",
              "3      NaN   NaN   NaN   NaN  \n",
              "4      NaN   NaN   NaN   NaN  \n",
              "...    ...   ...   ...   ...  \n",
              "1445  None  None  None  None  \n",
              "1446  None  None  None  None  \n",
              "1447  None  None  None  None  \n",
              "1448  None  None  None  None  \n",
              "1449  None  None  None  None  \n",
              "\n",
              "[1450 rows x 27 columns]"
            ]
          },
          "metadata": {},
          "execution_count": 42
        }
      ]
    },
    {
      "cell_type": "code",
      "source": [
        "country_count = country_count.melt(id_vars = [\"type\", \"title\"], value_vars = range(12), value_name = \"country\")\n",
        "country_count = country_count[country_count[\"country\"].notna()]\n",
        "country_count"
      ],
      "metadata": {
        "id": "BH_mCXzBmexn",
        "colab": {
          "base_uri": "https://localhost:8080/"
        },
        "outputId": "595bdc33-1f20-4800-a8fe-7d847da05327"
      },
      "execution_count": null,
      "outputs": [
        {
          "output_type": "execute_result",
          "data": {
            "text/html": [
              "\n",
              "  <div id=\"df-0e7c1a4e-3ac2-4584-bfec-3ae7ed558f6a\">\n",
              "    <div class=\"colab-df-container\">\n",
              "      <div>\n",
              "<style scoped>\n",
              "    .dataframe tbody tr th:only-of-type {\n",
              "        vertical-align: middle;\n",
              "    }\n",
              "\n",
              "    .dataframe tbody tr th {\n",
              "        vertical-align: top;\n",
              "    }\n",
              "\n",
              "    .dataframe thead th {\n",
              "        text-align: right;\n",
              "    }\n",
              "</style>\n",
              "<table border=\"1\" class=\"dataframe\">\n",
              "  <thead>\n",
              "    <tr style=\"text-align: right;\">\n",
              "      <th></th>\n",
              "      <th>type</th>\n",
              "      <th>title</th>\n",
              "      <th>variable</th>\n",
              "      <th>country</th>\n",
              "    </tr>\n",
              "  </thead>\n",
              "  <tbody>\n",
              "    <tr>\n",
              "      <th>2</th>\n",
              "      <td>Movie</td>\n",
              "      <td>Ice Age: A Mammoth Christmas</td>\n",
              "      <td>0</td>\n",
              "      <td>United States</td>\n",
              "    </tr>\n",
              "    <tr>\n",
              "      <th>5</th>\n",
              "      <td>Movie</td>\n",
              "      <td>Becoming Cousteau</td>\n",
              "      <td>0</td>\n",
              "      <td>United States</td>\n",
              "    </tr>\n",
              "    <tr>\n",
              "      <th>7</th>\n",
              "      <td>TV Show</td>\n",
              "      <td>Port Protection Alaska</td>\n",
              "      <td>0</td>\n",
              "      <td>United States</td>\n",
              "    </tr>\n",
              "    <tr>\n",
              "      <th>8</th>\n",
              "      <td>TV Show</td>\n",
              "      <td>Secrets of the Zoo: Tampa</td>\n",
              "      <td>0</td>\n",
              "      <td>United States</td>\n",
              "    </tr>\n",
              "    <tr>\n",
              "      <th>9</th>\n",
              "      <td>Movie</td>\n",
              "      <td>A Muppets Christmas: Letters To Santa</td>\n",
              "      <td>0</td>\n",
              "      <td>United States</td>\n",
              "    </tr>\n",
              "    <tr>\n",
              "      <th>...</th>\n",
              "      <td>...</td>\n",
              "      <td>...</td>\n",
              "      <td>...</td>\n",
              "      <td>...</td>\n",
              "    </tr>\n",
              "    <tr>\n",
              "      <th>13807</th>\n",
              "      <td>TV Show</td>\n",
              "      <td>Bonkers</td>\n",
              "      <td>9</td>\n",
              "      <td>Taiwan</td>\n",
              "    </tr>\n",
              "    <tr>\n",
              "      <th>14146</th>\n",
              "      <td>Movie</td>\n",
              "      <td>Mulan II</td>\n",
              "      <td>9</td>\n",
              "      <td>China</td>\n",
              "    </tr>\n",
              "    <tr>\n",
              "      <th>15257</th>\n",
              "      <td>TV Show</td>\n",
              "      <td>Bonkers</td>\n",
              "      <td>10</td>\n",
              "      <td>Philippines</td>\n",
              "    </tr>\n",
              "    <tr>\n",
              "      <th>15596</th>\n",
              "      <td>Movie</td>\n",
              "      <td>Mulan II</td>\n",
              "      <td>10</td>\n",
              "      <td>India</td>\n",
              "    </tr>\n",
              "    <tr>\n",
              "      <th>17046</th>\n",
              "      <td>Movie</td>\n",
              "      <td>Mulan II</td>\n",
              "      <td>11</td>\n",
              "      <td>Syria</td>\n",
              "    </tr>\n",
              "  </tbody>\n",
              "</table>\n",
              "<p>1525 rows × 4 columns</p>\n",
              "</div>\n",
              "      <button class=\"colab-df-convert\" onclick=\"convertToInteractive('df-0e7c1a4e-3ac2-4584-bfec-3ae7ed558f6a')\"\n",
              "              title=\"Convert this dataframe to an interactive table.\"\n",
              "              style=\"display:none;\">\n",
              "        \n",
              "  <svg xmlns=\"http://www.w3.org/2000/svg\" height=\"24px\"viewBox=\"0 0 24 24\"\n",
              "       width=\"24px\">\n",
              "    <path d=\"M0 0h24v24H0V0z\" fill=\"none\"/>\n",
              "    <path d=\"M18.56 5.44l.94 2.06.94-2.06 2.06-.94-2.06-.94-.94-2.06-.94 2.06-2.06.94zm-11 1L8.5 8.5l.94-2.06 2.06-.94-2.06-.94L8.5 2.5l-.94 2.06-2.06.94zm10 10l.94 2.06.94-2.06 2.06-.94-2.06-.94-.94-2.06-.94 2.06-2.06.94z\"/><path d=\"M17.41 7.96l-1.37-1.37c-.4-.4-.92-.59-1.43-.59-.52 0-1.04.2-1.43.59L10.3 9.45l-7.72 7.72c-.78.78-.78 2.05 0 2.83L4 21.41c.39.39.9.59 1.41.59.51 0 1.02-.2 1.41-.59l7.78-7.78 2.81-2.81c.8-.78.8-2.07 0-2.86zM5.41 20L4 18.59l7.72-7.72 1.47 1.35L5.41 20z\"/>\n",
              "  </svg>\n",
              "      </button>\n",
              "      \n",
              "  <style>\n",
              "    .colab-df-container {\n",
              "      display:flex;\n",
              "      flex-wrap:wrap;\n",
              "      gap: 12px;\n",
              "    }\n",
              "\n",
              "    .colab-df-convert {\n",
              "      background-color: #E8F0FE;\n",
              "      border: none;\n",
              "      border-radius: 50%;\n",
              "      cursor: pointer;\n",
              "      display: none;\n",
              "      fill: #1967D2;\n",
              "      height: 32px;\n",
              "      padding: 0 0 0 0;\n",
              "      width: 32px;\n",
              "    }\n",
              "\n",
              "    .colab-df-convert:hover {\n",
              "      background-color: #E2EBFA;\n",
              "      box-shadow: 0px 1px 2px rgba(60, 64, 67, 0.3), 0px 1px 3px 1px rgba(60, 64, 67, 0.15);\n",
              "      fill: #174EA6;\n",
              "    }\n",
              "\n",
              "    [theme=dark] .colab-df-convert {\n",
              "      background-color: #3B4455;\n",
              "      fill: #D2E3FC;\n",
              "    }\n",
              "\n",
              "    [theme=dark] .colab-df-convert:hover {\n",
              "      background-color: #434B5C;\n",
              "      box-shadow: 0px 1px 3px 1px rgba(0, 0, 0, 0.15);\n",
              "      filter: drop-shadow(0px 1px 2px rgba(0, 0, 0, 0.3));\n",
              "      fill: #FFFFFF;\n",
              "    }\n",
              "  </style>\n",
              "\n",
              "      <script>\n",
              "        const buttonEl =\n",
              "          document.querySelector('#df-0e7c1a4e-3ac2-4584-bfec-3ae7ed558f6a button.colab-df-convert');\n",
              "        buttonEl.style.display =\n",
              "          google.colab.kernel.accessAllowed ? 'block' : 'none';\n",
              "\n",
              "        async function convertToInteractive(key) {\n",
              "          const element = document.querySelector('#df-0e7c1a4e-3ac2-4584-bfec-3ae7ed558f6a');\n",
              "          const dataTable =\n",
              "            await google.colab.kernel.invokeFunction('convertToInteractive',\n",
              "                                                     [key], {});\n",
              "          if (!dataTable) return;\n",
              "\n",
              "          const docLinkHtml = 'Like what you see? Visit the ' +\n",
              "            '<a target=\"_blank\" href=https://colab.research.google.com/notebooks/data_table.ipynb>data table notebook</a>'\n",
              "            + ' to learn more about interactive tables.';\n",
              "          element.innerHTML = '';\n",
              "          dataTable['output_type'] = 'display_data';\n",
              "          await google.colab.output.renderOutput(dataTable, element);\n",
              "          const docLink = document.createElement('div');\n",
              "          docLink.innerHTML = docLinkHtml;\n",
              "          element.appendChild(docLink);\n",
              "        }\n",
              "      </script>\n",
              "    </div>\n",
              "  </div>\n",
              "  "
            ],
            "text/plain": [
              "          type                                  title variable        country\n",
              "2        Movie           Ice Age: A Mammoth Christmas        0  United States\n",
              "5        Movie                      Becoming Cousteau        0  United States\n",
              "7      TV Show                 Port Protection Alaska        0  United States\n",
              "8      TV Show              Secrets of the Zoo: Tampa        0  United States\n",
              "9        Movie  A Muppets Christmas: Letters To Santa        0  United States\n",
              "...        ...                                    ...      ...            ...\n",
              "13807  TV Show                                Bonkers        9         Taiwan\n",
              "14146    Movie                               Mulan II        9          China\n",
              "15257  TV Show                                Bonkers       10    Philippines\n",
              "15596    Movie                               Mulan II       10          India\n",
              "17046    Movie                               Mulan II       11          Syria\n",
              "\n",
              "[1525 rows x 4 columns]"
            ]
          },
          "metadata": {},
          "execution_count": 43
        }
      ]
    },
    {
      "cell_type": "markdown",
      "source": [
        "#### 디즈니플러스에 작품을 업로드한 국가의 수"
      ],
      "metadata": {
        "id": "qAj-iXWyrk8W"
      }
    },
    {
      "cell_type": "code",
      "source": [
        "# 국가의 수\n",
        "\n",
        "country_count[\"country\"].nunique()"
      ],
      "metadata": {
        "id": "U3Pgg1Xemexo",
        "colab": {
          "base_uri": "https://localhost:8080/"
        },
        "outputId": "a88688dd-14a6-48d7-c68d-5b7015897f87"
      },
      "execution_count": null,
      "outputs": [
        {
          "output_type": "execute_result",
          "data": {
            "text/plain": [
              "57"
            ]
          },
          "metadata": {},
          "execution_count": 44
        }
      ]
    },
    {
      "cell_type": "markdown",
      "source": [
        "* \b**44개국**의 작품이 **디즈니플러스**에 업로드되어 있다."
      ],
      "metadata": {
        "id": "ZwFfClGGnBvG"
      }
    },
    {
      "cell_type": "markdown",
      "source": [
        "#### 띄어쓰기 삭제"
      ],
      "metadata": {
        "id": "x1djpsbzsUVk"
      }
    },
    {
      "cell_type": "code",
      "source": [
        "# 국가별 작품 수 Top 10\n",
        "\n",
        "country_count[\"country\"].value_counts()[:10]"
      ],
      "metadata": {
        "id": "haYMakfsmexo",
        "colab": {
          "base_uri": "https://localhost:8080/"
        },
        "outputId": "1331701d-2c7a-4670-dbca-6c28aa9d0458"
      },
      "execution_count": null,
      "outputs": [
        {
          "output_type": "execute_result",
          "data": {
            "text/plain": [
              "United States      1121\n",
              " United States       63\n",
              " Canada              51\n",
              " United Kingdom      51\n",
              "United Kingdom       50\n",
              "Canada               26\n",
              " Australia           19\n",
              " South Korea         12\n",
              " France              12\n",
              " Japan               10\n",
              "Name: country, dtype: int64"
            ]
          },
          "metadata": {},
          "execution_count": 45
        }
      ]
    },
    {
      "cell_type": "markdown",
      "source": [
        "* United States가 두 개 있는 것을 확인\n",
        "* 하나로 합쳐 줌"
      ],
      "metadata": {
        "id": "exZ0kxilmexo"
      }
    },
    {
      "cell_type": "code",
      "source": [
        "# 위의 country를 보면 띄어쓰기가 되어있다. 없애주자.\n",
        "\n",
        "country_count[\"country\"] = country_count[\"country\"].str.strip()"
      ],
      "metadata": {
        "id": "iv5K3heKmexo"
      },
      "execution_count": null,
      "outputs": []
    },
    {
      "cell_type": "code",
      "source": [
        "# 국가별 작품 수 Top 10\n",
        "\n",
        "country_count[\"country\"].value_counts()[:10]"
      ],
      "metadata": {
        "id": "GzJfslJLmexo",
        "colab": {
          "base_uri": "https://localhost:8080/"
        },
        "outputId": "dbbb3afb-093e-4b6a-e447-eaca62c576a7"
      },
      "execution_count": null,
      "outputs": [
        {
          "output_type": "execute_result",
          "data": {
            "text/plain": [
              "United States     1184\n",
              "United Kingdom     101\n",
              "Canada              77\n",
              "Australia           23\n",
              "France              22\n",
              "South Korea         13\n",
              "China               10\n",
              "Japan               10\n",
              "Germany              9\n",
              "Ireland              8\n",
              "Name: country, dtype: int64"
            ]
          },
          "metadata": {},
          "execution_count": 47
        }
      ]
    },
    {
      "cell_type": "markdown",
      "source": [
        "#### 지도 셋업"
      ],
      "metadata": {
        "id": "68O2KOsuuezt"
      }
    },
    {
      "cell_type": "code",
      "source": [
        "# 지도\n",
        "\n",
        "country_codes = {'afghanistan': 'AFG',\n",
        " 'albania': 'ALB',\n",
        " 'algeria': 'DZA',\n",
        " 'american samoa': 'ASM',\n",
        " 'andorra': 'AND',\n",
        " 'angola': 'AGO',\n",
        " 'anguilla': 'AIA',\n",
        " 'antigua and barbuda': 'ATG',\n",
        " 'argentina': 'ARG',\n",
        " 'armenia': 'ARM',\n",
        " 'aruba': 'ABW',\n",
        " 'australia': 'AUS',\n",
        " 'austria': 'AUT',\n",
        " 'azerbaijan': 'AZE',\n",
        " 'bahamas': 'BHM',\n",
        " 'bahrain': 'BHR',\n",
        " 'bangladesh': 'BGD',\n",
        " 'barbados': 'BRB',\n",
        " 'belarus': 'BLR',\n",
        " 'belgium': 'BEL',\n",
        " 'belize': 'BLZ',\n",
        " 'benin': 'BEN',\n",
        " 'bermuda': 'BMU',\n",
        " 'bhutan': 'BTN',\n",
        " 'bolivia': 'BOL',\n",
        " 'bosnia and herzegovina': 'BIH',\n",
        " 'botswana': 'BWA',\n",
        " 'brazil': 'BRA',\n",
        " 'british virgin islands': 'VGB',\n",
        " 'brunei': 'BRN',\n",
        " 'bulgaria': 'BGR',\n",
        " 'burkina faso': 'BFA',\n",
        " 'burma': 'MMR',\n",
        " 'burundi': 'BDI',\n",
        " 'cabo verde': 'CPV',\n",
        " 'cambodia': 'KHM',\n",
        " 'cameroon': 'CMR',\n",
        " 'canada': 'CAN',\n",
        " 'cayman islands': 'CYM',\n",
        " 'central african republic': 'CAF',\n",
        " 'chad': 'TCD',\n",
        " 'chile': 'CHL',\n",
        " 'china': 'CHN',\n",
        " 'colombia': 'COL',\n",
        " 'comoros': 'COM',\n",
        " 'congo democratic': 'COD',\n",
        " 'Congo republic': 'COG',\n",
        " 'cook islands': 'COK',\n",
        " 'costa rica': 'CRI',\n",
        " \"cote d'ivoire\": 'CIV',\n",
        " 'croatia': 'HRV',\n",
        " 'cuba': 'CUB',\n",
        " 'curacao': 'CUW',\n",
        " 'cyprus': 'CYP',\n",
        " 'czech republic': 'CZE',\n",
        " 'denmark': 'DNK',\n",
        " 'djibouti': 'DJI',\n",
        " 'dominica': 'DMA',\n",
        " 'dominican republic': 'DOM',\n",
        " 'ecuador': 'ECU',\n",
        " 'egypt': 'EGY',\n",
        " 'el salvador': 'SLV',\n",
        " 'equatorial guinea': 'GNQ',\n",
        " 'eritrea': 'ERI',\n",
        " 'estonia': 'EST',\n",
        " 'ethiopia': 'ETH',\n",
        " 'falkland islands': 'FLK',\n",
        " 'faroe islands': 'FRO',\n",
        " 'fiji': 'FJI',\n",
        " 'finland': 'FIN',\n",
        " 'france': 'FRA',\n",
        " 'french polynesia': 'PYF',\n",
        " 'gabon': 'GAB',\n",
        " 'gambia, the': 'GMB',\n",
        " 'georgia': 'GEO',\n",
        " 'germany': 'DEU',\n",
        " 'ghana': 'GHA',\n",
        " 'gibraltar': 'GIB',\n",
        " 'greece': 'GRC',\n",
        " 'greenland': 'GRL',\n",
        " 'grenada': 'GRD',\n",
        " 'guam': 'GUM',\n",
        " 'guatemala': 'GTM',\n",
        " 'guernsey': 'GGY',\n",
        " 'guinea-bissau': 'GNB',\n",
        " 'guinea': 'GIN',\n",
        " 'guyana': 'GUY',\n",
        " 'haiti': 'HTI',\n",
        " 'honduras': 'HND',\n",
        " 'hong kong': 'HKG',\n",
        " 'hungary': 'HUN',\n",
        " 'iceland': 'ISL',\n",
        " 'india': 'IND',\n",
        " 'indonesia': 'IDN',\n",
        " 'iran': 'IRN',\n",
        " 'iraq': 'IRQ',\n",
        " 'ireland': 'IRL',\n",
        " 'isle of man': 'IMN',\n",
        " 'israel': 'ISR',\n",
        " 'italy': 'ITA',\n",
        " 'jamaica': 'JAM',\n",
        " 'japan': 'JPN',\n",
        " 'jersey': 'JEY',\n",
        " 'jordan': 'JOR',\n",
        " 'kazakhstan': 'KAZ',\n",
        " 'kenya': 'KEN',\n",
        " 'kiribati': 'KIR',\n",
        " 'north korea': 'PRK',\n",
        " 'south korea': 'KOR',\n",
        " 'kosovo': 'KSV',\n",
        " 'kuwait': 'KWT',\n",
        " 'kyrgyzstan': 'KGZ',\n",
        " 'laos': 'LAO',\n",
        " 'latvia': 'LVA',\n",
        " 'lebanon': 'LBN',\n",
        " 'lesotho': 'LSO',\n",
        " 'liberia': 'LBR',\n",
        " 'libya': 'LBY',\n",
        " 'liechtenstein': 'LIE',\n",
        " 'lithuania': 'LTU',\n",
        " 'luxembourg': 'LUX',\n",
        " 'macau': 'MAC',\n",
        " 'macedonia': 'MKD',\n",
        " 'madagascar': 'MDG',\n",
        " 'malawi': 'MWI',\n",
        " 'malaysia': 'MYS',\n",
        " 'maldives': 'MDV',\n",
        " 'mali': 'MLI',\n",
        " 'malta': 'MLT',\n",
        " 'marshall islands': 'MHL',\n",
        " 'mauritania': 'MRT',\n",
        " 'mauritius': 'MUS',\n",
        " 'mexico': 'MEX',\n",
        " 'micronesia': 'FSM',\n",
        " 'moldova': 'MDA',\n",
        " 'monaco': 'MCO',\n",
        " 'mongolia': 'MNG',\n",
        " 'montenegro': 'MNE',\n",
        " 'morocco': 'MAR',\n",
        " 'mozambique': 'MOZ',\n",
        " 'namibia': 'NAM',\n",
        " 'nepal': 'NPL',\n",
        " 'netherlands': 'NLD',\n",
        " 'new caledonia': 'NCL',\n",
        " 'new zealand': 'NZL',\n",
        " 'nicaragua': 'NIC',\n",
        " 'nigeria': 'NGA',\n",
        " 'niger': 'NER',\n",
        " 'niue': 'NIU',\n",
        " 'northern mariana islands': 'MNP',\n",
        " 'norway': 'NOR',\n",
        " 'oman': 'OMN',\n",
        " 'pakistan': 'PAK',\n",
        " 'palau': 'PLW',\n",
        " 'panama': 'PAN',\n",
        " 'papua new guinea': 'PNG',\n",
        " 'paraguay': 'PRY',\n",
        " 'peru': 'PER',\n",
        " 'philippines': 'PHL',\n",
        " 'poland': 'POL',\n",
        " 'portugal': 'PRT',\n",
        " 'puerto rico': 'PRI',\n",
        " 'qatar': 'QAT',\n",
        " 'romania': 'ROU',\n",
        " 'russia': 'RUS',\n",
        " 'rwanda': 'RWA',\n",
        " 'saint kitts and nevis': 'KNA',\n",
        " 'saint lucia': 'LCA',\n",
        " 'saint martin': 'MAF',\n",
        " 'saint pierre and miquelon': 'SPM',\n",
        " 'saint vincent and the grenadines': 'VCT',\n",
        " 'samoa': 'WSM',\n",
        " 'san marino': 'SMR',\n",
        " 'sao tome and principe': 'STP',\n",
        " 'saudi arabia': 'SAU',\n",
        " 'senegal': 'SEN',\n",
        " 'serbia': 'SRB',\n",
        " 'seychelles': 'SYC',\n",
        " 'sierra leone': 'SLE',\n",
        " 'singapore': 'SGP',\n",
        " 'sint maarten': 'SXM',\n",
        " 'slovakia': 'SVK',\n",
        " 'slovenia': 'SVN',\n",
        " 'solomon islands': 'SLB',\n",
        " 'somalia': 'SOM',\n",
        " 'south africa': 'ZAF',\n",
        " 'south sudan': 'SSD',\n",
        " 'spain': 'ESP',\n",
        " 'sri lanka': 'LKA',\n",
        " 'sudan': 'SDN',\n",
        " 'suriname': 'SUR',\n",
        " 'swaziland': 'SWZ',\n",
        " 'sweden': 'SWE',\n",
        " 'switzerland': 'CHE',\n",
        " 'syria': 'SYR',\n",
        " 'taiwan': 'TWN',\n",
        " 'tajikistan': 'TJK',\n",
        " 'tanzania': 'TZA',\n",
        " 'thailand': 'THA',\n",
        " 'timor-leste': 'TLS',\n",
        " 'togo': 'TGO',\n",
        " 'tonga': 'TON',\n",
        " 'trinidad and tobago': 'TTO',\n",
        " 'tunisia': 'TUN',\n",
        " 'turkey': 'TUR',\n",
        " 'turkmenistan': 'TKM',\n",
        " 'tuvalu': 'TUV',\n",
        " 'uganda': 'UGA',\n",
        " 'ukraine': 'UKR',\n",
        " 'united arab emirates': 'ARE',\n",
        " 'united kingdom': 'GBR',\n",
        " 'united states': 'USA',\n",
        " 'uruguay': 'URY',\n",
        " 'uzbekistan': 'UZB',\n",
        " 'vanuatu': 'VUT',\n",
        " 'venezuela': 'VEN',\n",
        " 'vietnam': 'VNM',\n",
        " 'virgin islands': 'VGB',\n",
        " 'west bank': 'WBG',\n",
        " 'yemen': 'YEM',\n",
        " 'zambia': 'ZMB',\n",
        " 'zimbabwe': 'ZWE'}\n",
        "\n",
        "## countries \n",
        "from collections import Counter\n",
        "colorscale = [\"#f7fbff\", \"#ebf3fb\", \"#deebf7\", \"#d2e3f3\", \"#c6dbef\", \"#b3d2e9\", \"#9ecae1\",\n",
        "    \"#85bcdb\", \"#6baed6\", \"#57a0ce\", \"#4292c6\", \"#3082be\", \"#2171b5\", \"#1361a9\",\n",
        "    \"#08519c\", \"#0b4083\", \"#08306b\"\n",
        "]\n",
        "    \n",
        "def geoplot(ddf):\n",
        "    country_with_code, country = {}, {}\n",
        "    shows_countries = \", \".join(ddf['country'].dropna()).split(\", \")\n",
        "    for c,v in dict(Counter(shows_countries)).items():\n",
        "        code = \"\"\n",
        "        if c.lower() in country_codes:\n",
        "            code = country_codes[c.lower()]\n",
        "        country_with_code[code] = v\n",
        "        country[c] = v\n",
        "\n",
        "    data = [dict(\n",
        "            type = 'choropleth',\n",
        "            locations = list(country_with_code.keys()),\n",
        "            z = list(country_with_code.values()),\n",
        "            colorscale = [[0,\"rgb(5, 10, 172)\"],[0.65,\"rgb(40, 60, 190)\"],[0.75,\"rgb(70, 100, 245)\"],\\\n",
        "                        [0.80,\"rgb(90, 120, 245)\"],[0.9,\"rgb(106, 137, 247)\"],[1,\"rgb(220, 220, 220)\"]],\n",
        "            autocolorscale = False,\n",
        "            reversescale = True,\n",
        "            marker = dict(\n",
        "                line = dict (\n",
        "                    color = 'gray',\n",
        "                    width = 0.5\n",
        "                ) ),\n",
        "            colorbar = dict(\n",
        "                autotick = False,\n",
        "                title = ''),\n",
        "          ) ]\n",
        "\n",
        "    layout = dict(\n",
        "        title = '',\n",
        "        geo = dict(\n",
        "            showframe = False,\n",
        "            showcoastlines = False,\n",
        "            projection = dict(\n",
        "                type = 'Mercator'\n",
        "            )\n",
        "        )\n",
        "    )\n",
        "\n",
        "    fig = dict( data=data, layout=layout )\n",
        "    iplot( fig, validate=False, filename='d3-world-map' )\n",
        "    return country\n",
        "\n",
        "#country_vals = geoplot(disney)"
      ],
      "metadata": {
        "id": "vACK7S68mexo"
      },
      "execution_count": null,
      "outputs": []
    },
    {
      "cell_type": "markdown",
      "source": [
        "#### 지도: 국가별 작품 수(디즈니플러스)"
      ],
      "metadata": {
        "id": "FQuuN_VDsaER"
      }
    },
    {
      "cell_type": "code",
      "source": [
        "country_vals = geoplot(disney)"
      ],
      "metadata": {
        "colab": {
          "base_uri": "https://localhost:8080/",
          "height": 542
        },
        "id": "d-EPT0J-uUL6",
        "outputId": "08b6dbc3-b3b1-43f4-c693-b2108c477351"
      },
      "execution_count": null,
      "outputs": [
        {
          "output_type": "display_data",
          "data": {
            "text/html": [
              "<html>\n",
              "<head><meta charset=\"utf-8\" /></head>\n",
              "<body>\n",
              "    <div>            <script src=\"https://cdnjs.cloudflare.com/ajax/libs/mathjax/2.7.5/MathJax.js?config=TeX-AMS-MML_SVG\"></script><script type=\"text/javascript\">if (window.MathJax) {MathJax.Hub.Config({SVG: {font: \"STIX-Web\"}});}</script>                <script type=\"text/javascript\">window.PlotlyConfig = {MathJaxConfig: 'local'};</script>\n",
              "        <script src=\"https://cdn.plot.ly/plotly-2.8.3.min.js\"></script>                <div id=\"45801a22-4ffb-422c-9167-4627058585c6\" class=\"plotly-graph-div\" style=\"height:525px; width:100%;\"></div>            <script type=\"text/javascript\">                                    window.PLOTLYENV=window.PLOTLYENV || {};                                    if (document.getElementById(\"45801a22-4ffb-422c-9167-4627058585c6\")) {                    Plotly.newPlot(                        \"45801a22-4ffb-422c-9167-4627058585c6\",                        [{\"type\":\"choropleth\",\"locations\":[\"USA\",\"CAN\",\"AUS\",\"GBR\",\"KOR\",\"IRL\",\"DNK\",\"ESP\",\"POL\",\"HUN\",\"FRA\",\"JPN\",\"DEU\",\"IND\",\"SGP\",\"THA\",\"CHN\",\"BRA\",\"BEL\",\"AUT\",\"ZAF\",\"HKG\",\"ARG\",\"ARE\",\"MEX\",\"CHE\",\"TWN\",\"PHL\",\"TZA\",\"PAN\",\"AGO\",\"BWA\",\"NAM\",\"LUX\",\"GTM\",\"RUS\",\"MYS\",\"KAZ\",\"SYR\",\"IRN\",\"EGY\",\"PAK\",\"NZL\",\"NOR\",\"SWE\",\"SVN\",\"CZE\"],\"z\":[1184,77,23,101,13,8,3,4,2,3,22,10,9,5,2,1,10,1,1,2,3,4,3,2,4,1,6,2,1,1,1,1,1,1,1,1,2,1,1,1,1,1,3,1,1,1,1],\"colorscale\":[[0,\"rgb(5, 10, 172)\"],[0.65,\"rgb(40, 60, 190)\"],[0.75,\"rgb(70, 100, 245)\"],[0.8,\"rgb(90, 120, 245)\"],[0.9,\"rgb(106, 137, 247)\"],[1,\"rgb(220, 220, 220)\"]],\"autocolorscale\":false,\"reversescale\":true,\"marker\":{\"line\":{\"color\":\"gray\",\"width\":0.5}},\"colorbar\":{\"autotick\":false,\"title\":\"\"}}],                        {\"title\":\"\",\"geo\":{\"showframe\":false,\"showcoastlines\":false,\"projection\":{\"type\":\"Mercator\"}}},                        {\"responsive\": true}                    ).then(function(){\n",
              "                            \n",
              "var gd = document.getElementById('45801a22-4ffb-422c-9167-4627058585c6');\n",
              "var x = new MutationObserver(function (mutations, observer) {{\n",
              "        var display = window.getComputedStyle(gd).display;\n",
              "        if (!display || display === 'none') {{\n",
              "            console.log([gd, 'removed!']);\n",
              "            Plotly.purge(gd);\n",
              "            observer.disconnect();\n",
              "        }}\n",
              "}});\n",
              "\n",
              "// Listen for the removal of the full notebook cells\n",
              "var notebookContainer = gd.closest('#notebook-container');\n",
              "if (notebookContainer) {{\n",
              "    x.observe(notebookContainer, {childList: true});\n",
              "}}\n",
              "\n",
              "// Listen for the clearing of the current output cell\n",
              "var outputEl = gd.closest('.output');\n",
              "if (outputEl) {{\n",
              "    x.observe(outputEl, {childList: true});\n",
              "}}\n",
              "\n",
              "                        })                };                            </script>        </div>\n",
              "</body>\n",
              "</html>"
            ]
          },
          "metadata": {}
        }
      ]
    },
    {
      "cell_type": "markdown",
      "source": [
        "#### 국가별 작품 수(디즈니플러스)"
      ],
      "metadata": {
        "id": "-fz5Vip6uivS"
      }
    },
    {
      "cell_type": "code",
      "source": [
        "tabs = Counter(country_vals).most_common(25)\n",
        "\n",
        "labels = [_[0] for _ in tabs][::-1]\n",
        "values = [_[1] for _ in tabs][::-1]\n",
        "trace1 = go.Bar(y=labels, x=values, orientation=\"h\", name=\"\", marker=dict(color=\"#08306b\"))\n",
        "\n",
        "data = [trace1]\n",
        "layout = go.Layout(title=\"국가별 작품 수\", height=700, legend=dict(x=0.1, y=1.1, orientation=\"h\"))\n",
        "fig = go.Figure(data, layout=layout)\n",
        "fig.show()"
      ],
      "metadata": {
        "colab": {
          "base_uri": "https://localhost:8080/",
          "height": 717
        },
        "id": "0x9MznQLuCRr",
        "outputId": "efc0e8cf-4c18-444c-cb16-df4467f52ece"
      },
      "execution_count": null,
      "outputs": [
        {
          "output_type": "display_data",
          "data": {
            "text/html": [
              "<html>\n",
              "<head><meta charset=\"utf-8\" /></head>\n",
              "<body>\n",
              "    <div>            <script src=\"https://cdnjs.cloudflare.com/ajax/libs/mathjax/2.7.5/MathJax.js?config=TeX-AMS-MML_SVG\"></script><script type=\"text/javascript\">if (window.MathJax) {MathJax.Hub.Config({SVG: {font: \"STIX-Web\"}});}</script>                <script type=\"text/javascript\">window.PlotlyConfig = {MathJaxConfig: 'local'};</script>\n",
              "        <script src=\"https://cdn.plot.ly/plotly-2.8.3.min.js\"></script>                <div id=\"36229d97-d21b-460f-83f5-2c592572a486\" class=\"plotly-graph-div\" style=\"height:700px; width:100%;\"></div>            <script type=\"text/javascript\">                                    window.PLOTLYENV=window.PLOTLYENV || {};                                    if (document.getElementById(\"36229d97-d21b-460f-83f5-2c592572a486\")) {                    Plotly.newPlot(                        \"36229d97-d21b-460f-83f5-2c592572a486\",                        [{\"marker\":{\"color\":\"#08306b\"},\"name\":\"\",\"orientation\":\"h\",\"x\":[2,2,2,2,2,3,3,3,3,3,4,4,4,5,6,8,9,10,10,13,22,23,77,101,1184],\"y\":[\"Philippines\",\"United Arab Emirates\",\"Austria\",\"Singapore\",\"Poland\",\"New Zealand\",\"Argentina\",\"South Africa\",\"Hungary\",\"Denmark\",\"Mexico\",\"Hong Kong\",\"Spain\",\"India\",\"Taiwan\",\"Ireland\",\"Germany\",\"China\",\"Japan\",\"South Korea\",\"France\",\"Australia\",\"Canada\",\"United Kingdom\",\"United States\"],\"type\":\"bar\"}],                        {\"height\":700,\"legend\":{\"orientation\":\"h\",\"x\":0.1,\"y\":1.1},\"title\":{\"text\":\"\\uad6d\\uac00\\ubcc4 \\uc791\\ud488 \\uc218\"},\"template\":{\"data\":{\"bar\":[{\"error_x\":{\"color\":\"#2a3f5f\"},\"error_y\":{\"color\":\"#2a3f5f\"},\"marker\":{\"line\":{\"color\":\"#E5ECF6\",\"width\":0.5},\"pattern\":{\"fillmode\":\"overlay\",\"size\":10,\"solidity\":0.2}},\"type\":\"bar\"}],\"barpolar\":[{\"marker\":{\"line\":{\"color\":\"#E5ECF6\",\"width\":0.5},\"pattern\":{\"fillmode\":\"overlay\",\"size\":10,\"solidity\":0.2}},\"type\":\"barpolar\"}],\"carpet\":[{\"aaxis\":{\"endlinecolor\":\"#2a3f5f\",\"gridcolor\":\"white\",\"linecolor\":\"white\",\"minorgridcolor\":\"white\",\"startlinecolor\":\"#2a3f5f\"},\"baxis\":{\"endlinecolor\":\"#2a3f5f\",\"gridcolor\":\"white\",\"linecolor\":\"white\",\"minorgridcolor\":\"white\",\"startlinecolor\":\"#2a3f5f\"},\"type\":\"carpet\"}],\"choropleth\":[{\"colorbar\":{\"outlinewidth\":0,\"ticks\":\"\"},\"type\":\"choropleth\"}],\"contour\":[{\"colorbar\":{\"outlinewidth\":0,\"ticks\":\"\"},\"colorscale\":[[0.0,\"#0d0887\"],[0.1111111111111111,\"#46039f\"],[0.2222222222222222,\"#7201a8\"],[0.3333333333333333,\"#9c179e\"],[0.4444444444444444,\"#bd3786\"],[0.5555555555555556,\"#d8576b\"],[0.6666666666666666,\"#ed7953\"],[0.7777777777777778,\"#fb9f3a\"],[0.8888888888888888,\"#fdca26\"],[1.0,\"#f0f921\"]],\"type\":\"contour\"}],\"contourcarpet\":[{\"colorbar\":{\"outlinewidth\":0,\"ticks\":\"\"},\"type\":\"contourcarpet\"}],\"heatmap\":[{\"colorbar\":{\"outlinewidth\":0,\"ticks\":\"\"},\"colorscale\":[[0.0,\"#0d0887\"],[0.1111111111111111,\"#46039f\"],[0.2222222222222222,\"#7201a8\"],[0.3333333333333333,\"#9c179e\"],[0.4444444444444444,\"#bd3786\"],[0.5555555555555556,\"#d8576b\"],[0.6666666666666666,\"#ed7953\"],[0.7777777777777778,\"#fb9f3a\"],[0.8888888888888888,\"#fdca26\"],[1.0,\"#f0f921\"]],\"type\":\"heatmap\"}],\"heatmapgl\":[{\"colorbar\":{\"outlinewidth\":0,\"ticks\":\"\"},\"colorscale\":[[0.0,\"#0d0887\"],[0.1111111111111111,\"#46039f\"],[0.2222222222222222,\"#7201a8\"],[0.3333333333333333,\"#9c179e\"],[0.4444444444444444,\"#bd3786\"],[0.5555555555555556,\"#d8576b\"],[0.6666666666666666,\"#ed7953\"],[0.7777777777777778,\"#fb9f3a\"],[0.8888888888888888,\"#fdca26\"],[1.0,\"#f0f921\"]],\"type\":\"heatmapgl\"}],\"histogram\":[{\"marker\":{\"pattern\":{\"fillmode\":\"overlay\",\"size\":10,\"solidity\":0.2}},\"type\":\"histogram\"}],\"histogram2d\":[{\"colorbar\":{\"outlinewidth\":0,\"ticks\":\"\"},\"colorscale\":[[0.0,\"#0d0887\"],[0.1111111111111111,\"#46039f\"],[0.2222222222222222,\"#7201a8\"],[0.3333333333333333,\"#9c179e\"],[0.4444444444444444,\"#bd3786\"],[0.5555555555555556,\"#d8576b\"],[0.6666666666666666,\"#ed7953\"],[0.7777777777777778,\"#fb9f3a\"],[0.8888888888888888,\"#fdca26\"],[1.0,\"#f0f921\"]],\"type\":\"histogram2d\"}],\"histogram2dcontour\":[{\"colorbar\":{\"outlinewidth\":0,\"ticks\":\"\"},\"colorscale\":[[0.0,\"#0d0887\"],[0.1111111111111111,\"#46039f\"],[0.2222222222222222,\"#7201a8\"],[0.3333333333333333,\"#9c179e\"],[0.4444444444444444,\"#bd3786\"],[0.5555555555555556,\"#d8576b\"],[0.6666666666666666,\"#ed7953\"],[0.7777777777777778,\"#fb9f3a\"],[0.8888888888888888,\"#fdca26\"],[1.0,\"#f0f921\"]],\"type\":\"histogram2dcontour\"}],\"mesh3d\":[{\"colorbar\":{\"outlinewidth\":0,\"ticks\":\"\"},\"type\":\"mesh3d\"}],\"parcoords\":[{\"line\":{\"colorbar\":{\"outlinewidth\":0,\"ticks\":\"\"}},\"type\":\"parcoords\"}],\"pie\":[{\"automargin\":true,\"type\":\"pie\"}],\"scatter\":[{\"marker\":{\"colorbar\":{\"outlinewidth\":0,\"ticks\":\"\"}},\"type\":\"scatter\"}],\"scatter3d\":[{\"line\":{\"colorbar\":{\"outlinewidth\":0,\"ticks\":\"\"}},\"marker\":{\"colorbar\":{\"outlinewidth\":0,\"ticks\":\"\"}},\"type\":\"scatter3d\"}],\"scattercarpet\":[{\"marker\":{\"colorbar\":{\"outlinewidth\":0,\"ticks\":\"\"}},\"type\":\"scattercarpet\"}],\"scattergeo\":[{\"marker\":{\"colorbar\":{\"outlinewidth\":0,\"ticks\":\"\"}},\"type\":\"scattergeo\"}],\"scattergl\":[{\"marker\":{\"colorbar\":{\"outlinewidth\":0,\"ticks\":\"\"}},\"type\":\"scattergl\"}],\"scattermapbox\":[{\"marker\":{\"colorbar\":{\"outlinewidth\":0,\"ticks\":\"\"}},\"type\":\"scattermapbox\"}],\"scatterpolar\":[{\"marker\":{\"colorbar\":{\"outlinewidth\":0,\"ticks\":\"\"}},\"type\":\"scatterpolar\"}],\"scatterpolargl\":[{\"marker\":{\"colorbar\":{\"outlinewidth\":0,\"ticks\":\"\"}},\"type\":\"scatterpolargl\"}],\"scatterternary\":[{\"marker\":{\"colorbar\":{\"outlinewidth\":0,\"ticks\":\"\"}},\"type\":\"scatterternary\"}],\"surface\":[{\"colorbar\":{\"outlinewidth\":0,\"ticks\":\"\"},\"colorscale\":[[0.0,\"#0d0887\"],[0.1111111111111111,\"#46039f\"],[0.2222222222222222,\"#7201a8\"],[0.3333333333333333,\"#9c179e\"],[0.4444444444444444,\"#bd3786\"],[0.5555555555555556,\"#d8576b\"],[0.6666666666666666,\"#ed7953\"],[0.7777777777777778,\"#fb9f3a\"],[0.8888888888888888,\"#fdca26\"],[1.0,\"#f0f921\"]],\"type\":\"surface\"}],\"table\":[{\"cells\":{\"fill\":{\"color\":\"#EBF0F8\"},\"line\":{\"color\":\"white\"}},\"header\":{\"fill\":{\"color\":\"#C8D4E3\"},\"line\":{\"color\":\"white\"}},\"type\":\"table\"}]},\"layout\":{\"annotationdefaults\":{\"arrowcolor\":\"#2a3f5f\",\"arrowhead\":0,\"arrowwidth\":1},\"autotypenumbers\":\"strict\",\"coloraxis\":{\"colorbar\":{\"outlinewidth\":0,\"ticks\":\"\"}},\"colorscale\":{\"diverging\":[[0,\"#8e0152\"],[0.1,\"#c51b7d\"],[0.2,\"#de77ae\"],[0.3,\"#f1b6da\"],[0.4,\"#fde0ef\"],[0.5,\"#f7f7f7\"],[0.6,\"#e6f5d0\"],[0.7,\"#b8e186\"],[0.8,\"#7fbc41\"],[0.9,\"#4d9221\"],[1,\"#276419\"]],\"sequential\":[[0.0,\"#0d0887\"],[0.1111111111111111,\"#46039f\"],[0.2222222222222222,\"#7201a8\"],[0.3333333333333333,\"#9c179e\"],[0.4444444444444444,\"#bd3786\"],[0.5555555555555556,\"#d8576b\"],[0.6666666666666666,\"#ed7953\"],[0.7777777777777778,\"#fb9f3a\"],[0.8888888888888888,\"#fdca26\"],[1.0,\"#f0f921\"]],\"sequentialminus\":[[0.0,\"#0d0887\"],[0.1111111111111111,\"#46039f\"],[0.2222222222222222,\"#7201a8\"],[0.3333333333333333,\"#9c179e\"],[0.4444444444444444,\"#bd3786\"],[0.5555555555555556,\"#d8576b\"],[0.6666666666666666,\"#ed7953\"],[0.7777777777777778,\"#fb9f3a\"],[0.8888888888888888,\"#fdca26\"],[1.0,\"#f0f921\"]]},\"colorway\":[\"#636efa\",\"#EF553B\",\"#00cc96\",\"#ab63fa\",\"#FFA15A\",\"#19d3f3\",\"#FF6692\",\"#B6E880\",\"#FF97FF\",\"#FECB52\"],\"font\":{\"color\":\"#2a3f5f\"},\"geo\":{\"bgcolor\":\"white\",\"lakecolor\":\"white\",\"landcolor\":\"#E5ECF6\",\"showlakes\":true,\"showland\":true,\"subunitcolor\":\"white\"},\"hoverlabel\":{\"align\":\"left\"},\"hovermode\":\"closest\",\"mapbox\":{\"style\":\"light\"},\"paper_bgcolor\":\"white\",\"plot_bgcolor\":\"#E5ECF6\",\"polar\":{\"angularaxis\":{\"gridcolor\":\"white\",\"linecolor\":\"white\",\"ticks\":\"\"},\"bgcolor\":\"#E5ECF6\",\"radialaxis\":{\"gridcolor\":\"white\",\"linecolor\":\"white\",\"ticks\":\"\"}},\"scene\":{\"xaxis\":{\"backgroundcolor\":\"#E5ECF6\",\"gridcolor\":\"white\",\"gridwidth\":2,\"linecolor\":\"white\",\"showbackground\":true,\"ticks\":\"\",\"zerolinecolor\":\"white\"},\"yaxis\":{\"backgroundcolor\":\"#E5ECF6\",\"gridcolor\":\"white\",\"gridwidth\":2,\"linecolor\":\"white\",\"showbackground\":true,\"ticks\":\"\",\"zerolinecolor\":\"white\"},\"zaxis\":{\"backgroundcolor\":\"#E5ECF6\",\"gridcolor\":\"white\",\"gridwidth\":2,\"linecolor\":\"white\",\"showbackground\":true,\"ticks\":\"\",\"zerolinecolor\":\"white\"}},\"shapedefaults\":{\"line\":{\"color\":\"#2a3f5f\"}},\"ternary\":{\"aaxis\":{\"gridcolor\":\"white\",\"linecolor\":\"white\",\"ticks\":\"\"},\"baxis\":{\"gridcolor\":\"white\",\"linecolor\":\"white\",\"ticks\":\"\"},\"bgcolor\":\"#E5ECF6\",\"caxis\":{\"gridcolor\":\"white\",\"linecolor\":\"white\",\"ticks\":\"\"}},\"title\":{\"x\":0.05},\"xaxis\":{\"automargin\":true,\"gridcolor\":\"white\",\"linecolor\":\"white\",\"ticks\":\"\",\"title\":{\"standoff\":15},\"zerolinecolor\":\"white\",\"zerolinewidth\":2},\"yaxis\":{\"automargin\":true,\"gridcolor\":\"white\",\"linecolor\":\"white\",\"ticks\":\"\",\"title\":{\"standoff\":15},\"zerolinecolor\":\"white\",\"zerolinewidth\":2}}}},                        {\"responsive\": true}                    ).then(function(){\n",
              "                            \n",
              "var gd = document.getElementById('36229d97-d21b-460f-83f5-2c592572a486');\n",
              "var x = new MutationObserver(function (mutations, observer) {{\n",
              "        var display = window.getComputedStyle(gd).display;\n",
              "        if (!display || display === 'none') {{\n",
              "            console.log([gd, 'removed!']);\n",
              "            Plotly.purge(gd);\n",
              "            observer.disconnect();\n",
              "        }}\n",
              "}});\n",
              "\n",
              "// Listen for the removal of the full notebook cells\n",
              "var notebookContainer = gd.closest('#notebook-container');\n",
              "if (notebookContainer) {{\n",
              "    x.observe(notebookContainer, {childList: true});\n",
              "}}\n",
              "\n",
              "// Listen for the clearing of the current output cell\n",
              "var outputEl = gd.closest('.output');\n",
              "if (outputEl) {{\n",
              "    x.observe(outputEl, {childList: true});\n",
              "}}\n",
              "\n",
              "                        })                };                            </script>        </div>\n",
              "</body>\n",
              "</html>"
            ]
          },
          "metadata": {}
        }
      ]
    },
    {
      "cell_type": "markdown",
      "source": [
        "* 디즈니플러스에 업로드된 작품의 수도 미국이 압도적으로 많음을 확인할 수 있다.\n",
        "* 미국 작품의 수가 많은 이유 또한 디즈니 회사 자체가 미국 회사인 이유가 있을 것이다.\n",
        "* 또한 할리우드 작품과 같은 주목 받는 많은 컨텐츠들이 미국에서 만들어지는 것도 한몫 한다고 생각한다.\n",
        "* 미국 다음으로는 영국, 캐나다, 호주, 프랑스 등이 있다."
      ],
      "metadata": {
        "id": "D2SdJ1vsnUQY"
      }
    },
    {
      "cell_type": "code",
      "source": [
        "# 국가별 작품수 Movie & TV Show\n",
        "\n",
        "px.histogram(country_count, \"country\", color = \"type\").update_xaxes(categoryorder = \"total descending\")"
      ],
      "metadata": {
        "id": "WMhZCG_wmexp",
        "colab": {
          "base_uri": "https://localhost:8080/",
          "height": 542
        },
        "outputId": "f0b4dbaf-a474-44ff-a039-751e52bbc36c"
      },
      "execution_count": null,
      "outputs": [
        {
          "output_type": "display_data",
          "data": {
            "text/html": [
              "<html>\n",
              "<head><meta charset=\"utf-8\" /></head>\n",
              "<body>\n",
              "    <div>            <script src=\"https://cdnjs.cloudflare.com/ajax/libs/mathjax/2.7.5/MathJax.js?config=TeX-AMS-MML_SVG\"></script><script type=\"text/javascript\">if (window.MathJax) {MathJax.Hub.Config({SVG: {font: \"STIX-Web\"}});}</script>                <script type=\"text/javascript\">window.PlotlyConfig = {MathJaxConfig: 'local'};</script>\n",
              "        <script src=\"https://cdn.plot.ly/plotly-2.8.3.min.js\"></script>                <div id=\"36db9929-111c-4257-bdd0-45151b6b6636\" class=\"plotly-graph-div\" style=\"height:525px; width:100%;\"></div>            <script type=\"text/javascript\">                                    window.PLOTLYENV=window.PLOTLYENV || {};                                    if (document.getElementById(\"36db9929-111c-4257-bdd0-45151b6b6636\")) {                    Plotly.newPlot(                        \"36db9929-111c-4257-bdd0-45151b6b6636\",                        [{\"alignmentgroup\":\"True\",\"bingroup\":\"x\",\"hovertemplate\":\"type=Movie<br>country=%{x}<br>count=%{y}<extra></extra>\",\"legendgroup\":\"Movie\",\"marker\":{\"color\":\"#636efa\",\"pattern\":{\"shape\":\"\"}},\"name\":\"Movie\",\"offsetgroup\":\"Movie\",\"orientation\":\"v\",\"showlegend\":true,\"x\":[\"United States\",\"United States\",\"United States\",\"United States\",\"United States\",\"United States\",\"United States\",\"United States\",\"United States\",\"United States\",\"United States\",\"United States\",\"United States\",\"United States\",\"United States\",\"United States\",\"United States\",\"United States\",\"United States\",\"United States\",\"United States\",\"Canada\",\"United States\",\"United States\",\"United States\",\"Ireland\",\"United States\",\"United States\",\"United States\",\"United States\",\"United States\",\"United States\",\"United States\",\"United States\",\"United States\",\"United States\",\"United States\",\"United States\",\"United States\",\"United States\",\"United States\",\"United States\",\"United States\",\"United States\",\"United States\",\"United States\",\"United States\",\"United States\",\"United States\",\"United States\",\"United States\",\"United States\",\"United States\",\"United States\",\"United States\",\"United States\",\"United States\",\"United States\",\"United States\",\"Canada\",\"United States\",\"United States\",\"United States\",\"United States\",\"United States\",\"United States\",\"United States\",\"United States\",\"United States\",\"United States\",\"United Kingdom\",\"United States\",\"United States\",\"United States\",\"United States\",\"Canada\",\"United States\",\"United States\",\"United States\",\"United States\",\"United States\",\"United States\",\"United States\",\"United Kingdom\",\"United States\",\"United Kingdom\",\"United States\",\"Austria\",\"United States\",\"United States\",\"United States\",\"United States\",\"United States\",\"United States\",\"United States\",\"United States\",\"United States\",\"United States\",\"United States\",\"France\",\"United States\",\"United States\",\"United States\",\"United States\",\"United States\",\"United States\",\"United States\",\"United States\",\"United States\",\"United Kingdom\",\"United States\",\"United States\",\"United States\",\"United States\",\"United States\",\"United States\",\"United States\",\"United States\",\"United States\",\"United States\",\"United States\",\"United States\",\"United States\",\"United States\",\"United States\",\"United Kingdom\",\"United States\",\"United States\",\"United States\",\"United States\",\"United States\",\"United States\",\"United States\",\"United States\",\"United Arab Emirates\",\"United States\",\"United States\",\"United States\",\"United States\",\"United States\",\"United States\",\"United States\",\"United States\",\"United States\",\"United States\",\"United States\",\"United States\",\"United States\",\"United States\",\"Canada\",\"United States\",\"France\",\"United States\",\"United States\",\"United States\",\"United States\",\"United States\",\"United Kingdom\",\"United Kingdom\",\"United States\",\"United States\",\"United States\",\"United States\",\"United States\",\"United Kingdom\",\"United States\",\"United States\",\"United States\",\"United States\",\"India\",\"United States\",\"United States\",\"United States\",\"United States\",\"United States\",\"United States\",\"United States\",\"United States\",\"United States\",\"United Kingdom\",\"United States\",\"United States\",\"United Kingdom\",\"United States\",\"United States\",\"United States\",\"United States\",\"United States\",\"United States\",\"United States\",\"United States\",\"United States\",\"United States\",\"United States\",\"United States\",\"United States\",\"United States\",\"United States\",\"United States\",\"United States\",\"United States\",\"United States\",\"United States\",\"United States\",\"United States\",\"United States\",\"United Kingdom\",\"United Kingdom\",\"United States\",\"United States\",\"United States\",\"United States\",\"United States\",\"United States\",\"United States\",\"United States\",\"United Kingdom\",\"United States\",\"United States\",\"United States\",\"United States\",\"United States\",\"United States\",\"United States\",\"United States\",\"United States\",\"United States\",\"United States\",\"United States\",\"United States\",\"United States\",\"United States\",\"United States\",\"United States\",\"United States\",\"United States\",\"United Kingdom\",\"United States\",\"United States\",\"United States\",\"United States\",\"United States\",\"United States\",\"United States\",\"United States\",\"United States\",\"United States\",\"United States\",\"United States\",\"United States\",\"United States\",\"United States\",\"United States\",\"United States\",\"United States\",\"United States\",\"United States\",\"United States\",\"United States\",\"United States\",\"United States\",\"United States\",\"United States\",\"United States\",\"United States\",\"United States\",\"United States\",\"United States\",\"United States\",\"France\",\"United States\",\"United States\",\"United States\",\"United States\",\"United States\",\"United States\",\"United States\",\"United States\",\"United States\",\"United States\",\"United States\",\"United States\",\"United States\",\"United States\",\"United Kingdom\",\"United States\",\"United States\",\"United States\",\"United States\",\"United States\",\"United States\",\"United States\",\"United States\",\"United States\",\"United States\",\"United States\",\"United States\",\"United States\",\"France\",\"United States\",\"United States\",\"United States\",\"United States\",\"United States\",\"United States\",\"United States\",\"United States\",\"United States\",\"United States\",\"United States\",\"United States\",\"United States\",\"United States\",\"United States\",\"United Kingdom\",\"United States\",\"United Kingdom\",\"United Kingdom\",\"United States\",\"United States\",\"United States\",\"United States\",\"United States\",\"United States\",\"United States\",\"United States\",\"United States\",\"United States\",\"United States\",\"United States\",\"United States\",\"United States\",\"United States\",\"United States\",\"United States\",\"United States\",\"United States\",\"United States\",\"United States\",\"United States\",\"United States\",\"United States\",\"United States\",\"United States\",\"United States\",\"United States\",\"United States\",\"United States\",\"United States\",\"United States\",\"United States\",\"United States\",\"United States\",\"United States\",\"United States\",\"United States\",\"United States\",\"United States\",\"United States\",\"United States\",\"United States\",\"United States\",\"United States\",\"United States\",\"United States\",\"United States\",\"Canada\",\"United States\",\"United States\",\"United States\",\"United States\",\"United States\",\"United States\",\"United States\",\"United States\",\"United States\",\"United States\",\"United States\",\"United States\",\"Canada\",\"United States\",\"United States\",\"United States\",\"United States\",\"United States\",\"United States\",\"United States\",\"United States\",\"United States\",\"United States\",\"United States\",\"United States\",\"United States\",\"United States\",\"United States\",\"United States\",\"United States\",\"United States\",\"United States\",\"United States\",\"United States\",\"United States\",\"United States\",\"United Kingdom\",\"United States\",\"United States\",\"United States\",\"United States\",\"United States\",\"United States\",\"United States\",\"United States\",\"United States\",\"United States\",\"United States\",\"United States\",\"United States\",\"United States\",\"United States\",\"United States\",\"United States\",\"United States\",\"United States\",\"United States\",\"United States\",\"United States\",\"Germany\",\"United States\",\"United States\",\"United States\",\"United States\",\"United States\",\"United States\",\"United States\",\"United States\",\"United Kingdom\",\"United States\",\"United States\",\"United States\",\"United States\",\"United States\",\"Canada\",\"United States\",\"United States\",\"United States\",\"United States\",\"United States\",\"United States\",\"United States\",\"United Kingdom\",\"Tanzania\",\"United States\",\"United States\",\"United States\",\"United States\",\"United States\",\"United States\",\"United States\",\"United States\",\"France\",\"United States\",\"United States\",\"United States\",\"United States\",\"United States\",\"United States\",\"United States\",\"United States\",\"United States\",\"United States\",\"United States\",\"United States\",\"United States\",\"United States\",\"United States\",\"United States\",\"United States\",\"United States\",\"United States\",\"United States\",\"United States\",\"United States\",\"United States\",\"United States\",\"United States\",\"United States\",\"United States\",\"United States\",\"United States\",\"United States\",\"United States\",\"United States\",\"United States\",\"United States\",\"United States\",\"United States\",\"United States\",\"United States\",\"United States\",\"United States\",\"United States\",\"United States\",\"United States\",\"United States\",\"United States\",\"United States\",\"United States\",\"United States\",\"United States\",\"United States\",\"United States\",\"United States\",\"United States\",\"United States\",\"United States\",\"United States\",\"United States\",\"United States\",\"United States\",\"United States\",\"United States\",\"United States\",\"United States\",\"United States\",\"United States\",\"United States\",\"United States\",\"United States\",\"United States\",\"United States\",\"United States\",\"United States\",\"United States\",\"United States\",\"United States\",\"United States\",\"United States\",\"United States\",\"United States\",\"United States\",\"United States\",\"United States\",\"United States\",\"United States\",\"United States\",\"United States\",\"United Kingdom\",\"United States\",\"United States\",\"United States\",\"United States\",\"United States\",\"United States\",\"United States\",\"Australia\",\"United States\",\"United States\",\"United States\",\"United States\",\"United States\",\"United States\",\"United States\",\"United States\",\"United States\",\"United States\",\"United States\",\"United States\",\"Denmark\",\"United States\",\"United States\",\"United States\",\"United States\",\"United States\",\"United States\",\"United States\",\"United States\",\"United States\",\"United States\",\"United States\",\"United States\",\"United States\",\"United States\",\"United States\",\"United States\",\"United States\",\"United States\",\"United States\",\"United States\",\"United States\",\"United States\",\"United States\",\"United States\",\"United States\",\"United States\",\"United States\",\"United States\",\"United States\",\"United States\",\"United States\",\"United States\",\"United States\",\"United States\",\"United States\",\"United States\",\"United States\",\"United States\",\"United States\",\"United States\",\"United States\",\"United States\",\"United States\",\"United States\",\"United States\",\"United States\",\"United States\",\"United States\",\"United States\",\"United States\",\"United States\",\"United States\",\"United States\",\"United States\",\"United States\",\"United States\",\"Canada\",\"United States\",\"United States\",\"United States\",\"United States\",\"United States\",\"Canada\",\"United States\",\"United States\",\"United States\",\"United States\",\"United States\",\"United States\",\"United States\",\"United States\",\"United States\",\"United States\",\"United States\",\"United States\",\"United States\",\"United States\",\"United States\",\"United States\",\"United States\",\"United States\",\"United States\",\"Canada\",\"United States\",\"United States\",\"United States\",\"United States\",\"United States\",\"United States\",\"United States\",\"United States\",\"United States\",\"United States\",\"United States\",\"United States\",\"United States\",\"United States\",\"United States\",\"United States\",\"United States\",\"United States\",\"United States\",\"United States\",\"United States\",\"United States\",\"United States\",\"United States\",\"United States\",\"United States\",\"United States\",\"United States\",\"United States\",\"United States\",\"United States\",\"Canada\",\"United States\",\"United States\",\"United States\",\"United States\",\"United States\",\"United States\",\"United States\",\"United States\",\"United States\",\"United States\",\"United States\",\"United Kingdom\",\"United States\",\"United States\",\"United States\",\"Australia\",\"United States\",\"United States\",\"United States\",\"United States\",\"Canada\",\"United States\",\"United States\",\"United States\",\"United States\",\"United States\",\"United States\",\"United States\",\"United States\",\"United States\",\"United States\",\"United States\",\"United States\",\"India\",\"United States\",\"United States\",\"Norway\",\"United States\",\"United States\",\"United States\",\"United States\",\"United States\",\"United States\",\"United States\",\"United States\",\"United States\",\"United States\",\"United States\",\"United States\",\"United States\",\"United States\",\"United States\",\"United States\",\"United States\",\"United States\",\"United States\",\"United States\",\"United States\",\"United States\",\"United Kingdom\",\"United States\",\"United States\",\"United States\",\"United States\",\"United States\",\"United States\",\"United States\",\"United States\",\"United States\",\"United States\",\"United States\",\"United States\",\"United States\",\"United States\",\"United States\",\"United States\",\"United States\",\"United States\",\"United States\",\"United States\",\"United States\",\"United States\",\"United States\",\"United States\",\"United States\",\"United States\",\"United States\",\"United States\",\"United States\",\"United States\",\"United States\",\"United States\",\"United States\",\"Canada\",\"United States\",\"United States\",\"Canada\",\"United States\",\"United Kingdom\",\"Canada\",\"United States\",\"United States\",\"United States\",\"United States\",\"United States\",\"United States\",\"United States\",\"United States\",\"United States\",\"United States\",\"United States\",\"United States\",\"United Kingdom\",\"United States\",\"United States\",\"United States\",\"United States\",\"United States\",\"Canada\",\"United States\",\"United States\",\"United States\",\"United States\",\"United States\",\"Australia\",\"United States\",\"United States\",\"United States\",\"United States\",\"United States\",\"United States\",\"United States\",\"United Kingdom\",\"United States\",\"United States\",\"United States\",\"United States\",\"United States\",\"United Kingdom\",\"United States\",\"United States\",\"United States\",\"United States\",\"United States\",\"United States\",\"United States\",\"United States\",\"United Kingdom\",\"United States\",\"United States\",\"United States\",\"United States\",\"United States\",\"United States\",\"United States\",\"United States\",\"United States\",\"United States\",\"United States\",\"United States\",\"China\",\"United States\",\"United States\",\"United States\",\"United States\",\"United States\",\"United Kingdom\",\"United States\",\"United States\",\"United States\",\"United States\",\"United States\",\"Austria\",\"United States\",\"United States\",\"United States\",\"United States\",\"Canada\",\"United States\",\"Canada\",\"United States\",\"United States\",\"United States\",\"United States\",\"United States\",\"United States\",\"United States\",\"United States\",\"United States\",\"United States\",\"United States\",\"United States\",\"United States\",\"United States\",\"United States\",\"United States\",\"United States\",\"United States\",\"United States\",\"United States\",\"United States\",\"United States\",\"United States\",\"United States\",\"United States\",\"China\",\"United States\",\"United Kingdom\",\"United States\",\"United States\",\"United States\",\"United States\",\"United States\",\"United States\",\"United States\",\"United States\",\"United States\",\"United States\",\"United States\",\"Canada\",\"United Kingdom\",\"United States\",\"United States\",\"United States\",\"United States\",\"United States\",\"United States\",\"United States\",\"United States\",\"United States\",\"United States\",\"United States\",\"United States\",\"United States\",\"United States\",\"United States\",\"United States\",\"United States\",\"New Zealand\",\"United States\",\"United States\",\"Canada\",\"United States\",\"United States\",\"United States\",\"United States\",\"United States\",\"United States\",\"United States\",\"United States\",\"United States\",\"United States\",\"United States\",\"United States\",\"United States\",\"United States\",\"United States\",\"United States\",\"United States\",\"United States\",\"United Kingdom\",\"United Kingdom\",\"United States\",\"Australia\",\"Canada\",\"Canada\",\"United Kingdom\",\"United States\",\"United Kingdom\",\"Canada\",\"United Kingdom\",\"Canada\",\"United Kingdom\",\"United Kingdom\",\"Germany\",\"United Kingdom\",\"United Kingdom\",\"Canada\",\"United States\",\"United Kingdom\",\"Germany\",\"Brazil\",\"United States\",\"Canada\",\"United States\",\"Canada\",\"United Kingdom\",\"Canada\",\"United Kingdom\",\"United States\",\"United Kingdom\",\"United States\",\"South Africa\",\"Canada\",\"Japan\",\"Canada\",\"Germany\",\"United Kingdom\",\"Spain\",\"United States\",\"Canada\",\"Mexico\",\"United Kingdom\",\"United States\",\"Switzerland\",\"France\",\"United States\",\"United Kingdom\",\"United Kingdom\",\"United Kingdom\",\"United States\",\"Canada\",\"United Kingdom\",\"United Kingdom\",\"United States\",\"United Kingdom\",\"Canada\",\"Germany\",\"United Kingdom\",\"United States\",\"Canada\",\"Canada\",\"Australia\",\"United Kingdom\",\"Australia\",\"Hungary\",\"Canada\",\"Australia\",\"Canada\",\"United States\",\"United Kingdom\",\"Canada\",\"Canada\",\"United States\",\"United States\",\"Germany\",\"United Kingdom\",\"Canada\",\"China\",\"United States\",\"United Kingdom\",\"Panama\",\"United States\",\"United Kingdom\",\"Australia\",\"France\",\"Mexico\",\"Canada\",\"Canada\",\"Angola\",\"United States\",\"United States\",\"France\",\"China\",\"Australia\",\"Canada\",\"United States\",\"United States\",\"South Korea\",\"United States\",\"Canada\",\"Canada\",\"Taiwan\",\"United States\",\"New Zealand\",\"Japan\",\"United States\",\"United States\",\"Malaysia\",\"United Kingdom\",\"India\",\"Sweden\",\"United Kingdom\",\"United States\",\"United States\",\"Poland\",\"United States\",\"United States\",\"United States\",\"Canada\",\"France\",\"United States\",\"Australia\",\"United States\",\"Australia\",\"Canada\",\"United Kingdom\",\"United States\",\"United Kingdom\",\"United Kingdom\",\"Canada\",\"Canada\",\"Canada\",\"Hong Kong\",\"United Kingdom\",\"Japan\",\"United States\",\"United States\",\"France\",\"United States\",\"Canada\",\"United States\",\"United States\",\"United States\",\"United States\",\"New Zealand\",\"Australia\",\"Spain\",\"United Kingdom\",\"United Kingdom\",\"Canada\",\"Germany\",\"Germany\",\"Canada\",\"Hungary\",\"Australia\",\"United Kingdom\",\"Canada\",\"United Kingdom\",\"Canada\",\"Belgium\",\"United Kingdom\",\"France\",\"Hong Kong\",\"Spain\",\"Canada\",\"Australia\",\"United States\",\"Canada\",\"United States\",\"Ireland\",\"South Africa\",\"United States\",\"United States\",\"France\",\"United Kingdom\",\"United States\",\"Mexico\",\"Australia\",\"Botswana\",\"Singapore\",\"Australia\",\"China\",\"United States\",\"Australia\",\"United Kingdom\",\"United States\",\"Slovenia\",\"Australia\",\"United States\",\"United States\",\"France\",\"Australia\",\"United States\",\"United States\",\"United Kingdom\",\"Singapore\",\"Ireland\",\"Canada\",\"United States\",\"United Kingdom\",\"Canada\",\"Canada\",\"Namibia\",\"Russia\",\"Czech Republic\",\"Taiwan\",\"Canada\",\"Denmark\",\"Australia\",\"United Arab Emirates\",\"South Africa\",\"Malaysia\",\"United Kingdom\",\"United Kingdom\",\"Spain\",\"Thailand\",\"Kazakhstan\",\"Poland\",\"Taiwan\",\"Hungary\",\"Hong Kong\",\"Japan\",\"China\",\"India\",\"Syria\"],\"xaxis\":\"x\",\"yaxis\":\"y\",\"type\":\"histogram\"},{\"alignmentgroup\":\"True\",\"bingroup\":\"x\",\"hovertemplate\":\"type=TV Show<br>country=%{x}<br>count=%{y}<extra></extra>\",\"legendgroup\":\"TV Show\",\"marker\":{\"color\":\"#EF553B\",\"pattern\":{\"shape\":\"\"}},\"name\":\"TV Show\",\"offsetgroup\":\"TV Show\",\"orientation\":\"v\",\"showlegend\":true,\"x\":[\"United States\",\"United States\",\"United States\",\"United States\",\"United States\",\"United States\",\"France\",\"United Kingdom\",\"United States\",\"United States\",\"Ireland\",\"United States\",\"Canada\",\"United States\",\"United States\",\"United States\",\"United States\",\"France\",\"United States\",\"United States\",\"United States\",\"United States\",\"United States\",\"United States\",\"France\",\"United States\",\"United States\",\"United States\",\"United States\",\"United States\",\"United States\",\"United States\",\"United States\",\"United States\",\"United States\",\"United States\",\"United States\",\"United States\",\"United States\",\"United States\",\"Canada\",\"United States\",\"United States\",\"United States\",\"United States\",\"United States\",\"South Korea\",\"Australia\",\"United States\",\"United States\",\"United States\",\"United Kingdom\",\"United States\",\"United States\",\"United States\",\"United States\",\"United States\",\"United States\",\"United States\",\"United States\",\"United States\",\"United States\",\"United States\",\"United States\",\"United States\",\"United States\",\"United States\",\"United States\",\"United States\",\"United Kingdom\",\"United States\",\"United States\",\"United States\",\"United States\",\"United States\",\"United States\",\"United States\",\"United States\",\"United States\",\"United States\",\"United States\",\"United States\",\"United States\",\"United States\",\"Canada\",\"Argentina\",\"United States\",\"United States\",\"United States\",\"United States\",\"United States\",\"United States\",\"United States\",\"United States\",\"United States\",\"United States\",\"United States\",\"United Kingdom\",\"United States\",\"United States\",\"United States\",\"United Kingdom\",\"United States\",\"United States\",\"Argentina\",\"Argentina\",\"United States\",\"United States\",\"United States\",\"United States\",\"United States\",\"United States\",\"United States\",\"United Kingdom\",\"United States\",\"United Kingdom\",\"United States\",\"United Kingdom\",\"United States\",\"United States\",\"United States\",\"United States\",\"United States\",\"United States\",\"United States\",\"France\",\"United Kingdom\",\"United States\",\"United States\",\"United Kingdom\",\"United States\",\"United States\",\"United States\",\"United Kingdom\",\"United States\",\"United Kingdom\",\"United States\",\"United States\",\"United States\",\"United States\",\"United States\",\"United States\",\"United States\",\"United States\",\"United Kingdom\",\"United States\",\"United States\",\"United States\",\"United States\",\"United Kingdom\",\"United States\",\"United States\",\"United States\",\"United States\",\"United States\",\"United States\",\"United States\",\"United States\",\"United Kingdom\",\"United Kingdom\",\"United States\",\"United States\",\"United States\",\"United States\",\"United States\",\"United States\",\"United States\",\"United States\",\"United States\",\"United States\",\"Ireland\",\"United States\",\"United States\",\"United States\",\"United States\",\"United States\",\"United States\",\"United States\",\"United States\",\"United States\",\"United States\",\"United States\",\"United States\",\"United States\",\"United States\",\"United States\",\"United States\",\"United States\",\"United States\",\"United States\",\"United States\",\"United States\",\"United States\",\"United States\",\"United States\",\"United States\",\"United States\",\"United States\",\"United States\",\"United States\",\"United States\",\"United States\",\"United States\",\"United States\",\"United States\",\"United States\",\"United States\",\"United States\",\"United States\",\"United States\",\"United States\",\"United States\",\"United States\",\"United States\",\"United States\",\"United States\",\"United States\",\"United States\",\"United States\",\"United States\",\"United States\",\"United States\",\"United States\",\"Canada\",\"United States\",\"United States\",\"United States\",\"United States\",\"United States\",\"United States\",\"United States\",\"United States\",\"United States\",\"United States\",\"United States\",\"United States\",\"United States\",\"United States\",\"United States\",\"United States\",\"United States\",\"United States\",\"United States\",\"United States\",\"United States\",\"United States\",\"United States\",\"United States\",\"United States\",\"United States\",\"United States\",\"United States\",\"United States\",\"United States\",\"United States\",\"United States\",\"United States\",\"Canada\",\"United States\",\"United States\",\"United States\",\"United States\",\"United States\",\"United States\",\"United States\",\"United States\",\"United States\",\"France\",\"United States\",\"United States\",\"United States\",\"United States\",\"United States\",\"United States\",\"United States\",\"United States\",\"United States\",\"Germany\",\"United States\",\"United States\",\"United States\",\"United States\",\"United States\",\"Canada\",\"United States\",\"Canada\",\"South Korea\",\"United Kingdom\",\"Australia\",\"United States\",\"United States\",\"South Korea\",\"United Kingdom\",\"India\",\"United States\",\"United Kingdom\",\"South Korea\",\"United Kingdom\",\"Canada\",\"South Korea\",\"United Kingdom\",\"United States\",\"Mexico\",\"Japan\",\"Japan\",\"United States\",\"Ireland\",\"United States\",\"United States\",\"United Kingdom\",\"South Korea\",\"Hong Kong\",\"Taiwan\",\"Philippines\",\"Canada\",\"United States\",\"Denmark\",\"Guatemala\",\"Canada\",\"South Korea\",\"Canada\",\"Canada\",\"Canada\",\"France\",\"Japan\",\"China\",\"South Korea\",\"Ireland\",\"Canada\",\"Ireland\",\"United States\",\"France\",\"South Korea\",\"South Korea\",\"South Korea\",\"United Kingdom\",\"China\",\"United States\",\"United States\",\"Japan\",\"South Korea\",\"France\",\"China\",\"France\",\"Taiwan\",\"Canada\",\"Canada\",\"Japan\",\"Luxembourg\",\"China\",\"United Kingdom\",\"United Kingdom\",\"Australia\",\"Japan\",\"Taiwan\",\"Philippines\"],\"xaxis\":\"x\",\"yaxis\":\"y\",\"type\":\"histogram\"}],                        {\"template\":{\"data\":{\"bar\":[{\"error_x\":{\"color\":\"#2a3f5f\"},\"error_y\":{\"color\":\"#2a3f5f\"},\"marker\":{\"line\":{\"color\":\"#E5ECF6\",\"width\":0.5},\"pattern\":{\"fillmode\":\"overlay\",\"size\":10,\"solidity\":0.2}},\"type\":\"bar\"}],\"barpolar\":[{\"marker\":{\"line\":{\"color\":\"#E5ECF6\",\"width\":0.5},\"pattern\":{\"fillmode\":\"overlay\",\"size\":10,\"solidity\":0.2}},\"type\":\"barpolar\"}],\"carpet\":[{\"aaxis\":{\"endlinecolor\":\"#2a3f5f\",\"gridcolor\":\"white\",\"linecolor\":\"white\",\"minorgridcolor\":\"white\",\"startlinecolor\":\"#2a3f5f\"},\"baxis\":{\"endlinecolor\":\"#2a3f5f\",\"gridcolor\":\"white\",\"linecolor\":\"white\",\"minorgridcolor\":\"white\",\"startlinecolor\":\"#2a3f5f\"},\"type\":\"carpet\"}],\"choropleth\":[{\"colorbar\":{\"outlinewidth\":0,\"ticks\":\"\"},\"type\":\"choropleth\"}],\"contour\":[{\"colorbar\":{\"outlinewidth\":0,\"ticks\":\"\"},\"colorscale\":[[0.0,\"#0d0887\"],[0.1111111111111111,\"#46039f\"],[0.2222222222222222,\"#7201a8\"],[0.3333333333333333,\"#9c179e\"],[0.4444444444444444,\"#bd3786\"],[0.5555555555555556,\"#d8576b\"],[0.6666666666666666,\"#ed7953\"],[0.7777777777777778,\"#fb9f3a\"],[0.8888888888888888,\"#fdca26\"],[1.0,\"#f0f921\"]],\"type\":\"contour\"}],\"contourcarpet\":[{\"colorbar\":{\"outlinewidth\":0,\"ticks\":\"\"},\"type\":\"contourcarpet\"}],\"heatmap\":[{\"colorbar\":{\"outlinewidth\":0,\"ticks\":\"\"},\"colorscale\":[[0.0,\"#0d0887\"],[0.1111111111111111,\"#46039f\"],[0.2222222222222222,\"#7201a8\"],[0.3333333333333333,\"#9c179e\"],[0.4444444444444444,\"#bd3786\"],[0.5555555555555556,\"#d8576b\"],[0.6666666666666666,\"#ed7953\"],[0.7777777777777778,\"#fb9f3a\"],[0.8888888888888888,\"#fdca26\"],[1.0,\"#f0f921\"]],\"type\":\"heatmap\"}],\"heatmapgl\":[{\"colorbar\":{\"outlinewidth\":0,\"ticks\":\"\"},\"colorscale\":[[0.0,\"#0d0887\"],[0.1111111111111111,\"#46039f\"],[0.2222222222222222,\"#7201a8\"],[0.3333333333333333,\"#9c179e\"],[0.4444444444444444,\"#bd3786\"],[0.5555555555555556,\"#d8576b\"],[0.6666666666666666,\"#ed7953\"],[0.7777777777777778,\"#fb9f3a\"],[0.8888888888888888,\"#fdca26\"],[1.0,\"#f0f921\"]],\"type\":\"heatmapgl\"}],\"histogram\":[{\"marker\":{\"pattern\":{\"fillmode\":\"overlay\",\"size\":10,\"solidity\":0.2}},\"type\":\"histogram\"}],\"histogram2d\":[{\"colorbar\":{\"outlinewidth\":0,\"ticks\":\"\"},\"colorscale\":[[0.0,\"#0d0887\"],[0.1111111111111111,\"#46039f\"],[0.2222222222222222,\"#7201a8\"],[0.3333333333333333,\"#9c179e\"],[0.4444444444444444,\"#bd3786\"],[0.5555555555555556,\"#d8576b\"],[0.6666666666666666,\"#ed7953\"],[0.7777777777777778,\"#fb9f3a\"],[0.8888888888888888,\"#fdca26\"],[1.0,\"#f0f921\"]],\"type\":\"histogram2d\"}],\"histogram2dcontour\":[{\"colorbar\":{\"outlinewidth\":0,\"ticks\":\"\"},\"colorscale\":[[0.0,\"#0d0887\"],[0.1111111111111111,\"#46039f\"],[0.2222222222222222,\"#7201a8\"],[0.3333333333333333,\"#9c179e\"],[0.4444444444444444,\"#bd3786\"],[0.5555555555555556,\"#d8576b\"],[0.6666666666666666,\"#ed7953\"],[0.7777777777777778,\"#fb9f3a\"],[0.8888888888888888,\"#fdca26\"],[1.0,\"#f0f921\"]],\"type\":\"histogram2dcontour\"}],\"mesh3d\":[{\"colorbar\":{\"outlinewidth\":0,\"ticks\":\"\"},\"type\":\"mesh3d\"}],\"parcoords\":[{\"line\":{\"colorbar\":{\"outlinewidth\":0,\"ticks\":\"\"}},\"type\":\"parcoords\"}],\"pie\":[{\"automargin\":true,\"type\":\"pie\"}],\"scatter\":[{\"marker\":{\"colorbar\":{\"outlinewidth\":0,\"ticks\":\"\"}},\"type\":\"scatter\"}],\"scatter3d\":[{\"line\":{\"colorbar\":{\"outlinewidth\":0,\"ticks\":\"\"}},\"marker\":{\"colorbar\":{\"outlinewidth\":0,\"ticks\":\"\"}},\"type\":\"scatter3d\"}],\"scattercarpet\":[{\"marker\":{\"colorbar\":{\"outlinewidth\":0,\"ticks\":\"\"}},\"type\":\"scattercarpet\"}],\"scattergeo\":[{\"marker\":{\"colorbar\":{\"outlinewidth\":0,\"ticks\":\"\"}},\"type\":\"scattergeo\"}],\"scattergl\":[{\"marker\":{\"colorbar\":{\"outlinewidth\":0,\"ticks\":\"\"}},\"type\":\"scattergl\"}],\"scattermapbox\":[{\"marker\":{\"colorbar\":{\"outlinewidth\":0,\"ticks\":\"\"}},\"type\":\"scattermapbox\"}],\"scatterpolar\":[{\"marker\":{\"colorbar\":{\"outlinewidth\":0,\"ticks\":\"\"}},\"type\":\"scatterpolar\"}],\"scatterpolargl\":[{\"marker\":{\"colorbar\":{\"outlinewidth\":0,\"ticks\":\"\"}},\"type\":\"scatterpolargl\"}],\"scatterternary\":[{\"marker\":{\"colorbar\":{\"outlinewidth\":0,\"ticks\":\"\"}},\"type\":\"scatterternary\"}],\"surface\":[{\"colorbar\":{\"outlinewidth\":0,\"ticks\":\"\"},\"colorscale\":[[0.0,\"#0d0887\"],[0.1111111111111111,\"#46039f\"],[0.2222222222222222,\"#7201a8\"],[0.3333333333333333,\"#9c179e\"],[0.4444444444444444,\"#bd3786\"],[0.5555555555555556,\"#d8576b\"],[0.6666666666666666,\"#ed7953\"],[0.7777777777777778,\"#fb9f3a\"],[0.8888888888888888,\"#fdca26\"],[1.0,\"#f0f921\"]],\"type\":\"surface\"}],\"table\":[{\"cells\":{\"fill\":{\"color\":\"#EBF0F8\"},\"line\":{\"color\":\"white\"}},\"header\":{\"fill\":{\"color\":\"#C8D4E3\"},\"line\":{\"color\":\"white\"}},\"type\":\"table\"}]},\"layout\":{\"annotationdefaults\":{\"arrowcolor\":\"#2a3f5f\",\"arrowhead\":0,\"arrowwidth\":1},\"autotypenumbers\":\"strict\",\"coloraxis\":{\"colorbar\":{\"outlinewidth\":0,\"ticks\":\"\"}},\"colorscale\":{\"diverging\":[[0,\"#8e0152\"],[0.1,\"#c51b7d\"],[0.2,\"#de77ae\"],[0.3,\"#f1b6da\"],[0.4,\"#fde0ef\"],[0.5,\"#f7f7f7\"],[0.6,\"#e6f5d0\"],[0.7,\"#b8e186\"],[0.8,\"#7fbc41\"],[0.9,\"#4d9221\"],[1,\"#276419\"]],\"sequential\":[[0.0,\"#0d0887\"],[0.1111111111111111,\"#46039f\"],[0.2222222222222222,\"#7201a8\"],[0.3333333333333333,\"#9c179e\"],[0.4444444444444444,\"#bd3786\"],[0.5555555555555556,\"#d8576b\"],[0.6666666666666666,\"#ed7953\"],[0.7777777777777778,\"#fb9f3a\"],[0.8888888888888888,\"#fdca26\"],[1.0,\"#f0f921\"]],\"sequentialminus\":[[0.0,\"#0d0887\"],[0.1111111111111111,\"#46039f\"],[0.2222222222222222,\"#7201a8\"],[0.3333333333333333,\"#9c179e\"],[0.4444444444444444,\"#bd3786\"],[0.5555555555555556,\"#d8576b\"],[0.6666666666666666,\"#ed7953\"],[0.7777777777777778,\"#fb9f3a\"],[0.8888888888888888,\"#fdca26\"],[1.0,\"#f0f921\"]]},\"colorway\":[\"#636efa\",\"#EF553B\",\"#00cc96\",\"#ab63fa\",\"#FFA15A\",\"#19d3f3\",\"#FF6692\",\"#B6E880\",\"#FF97FF\",\"#FECB52\"],\"font\":{\"color\":\"#2a3f5f\"},\"geo\":{\"bgcolor\":\"white\",\"lakecolor\":\"white\",\"landcolor\":\"#E5ECF6\",\"showlakes\":true,\"showland\":true,\"subunitcolor\":\"white\"},\"hoverlabel\":{\"align\":\"left\"},\"hovermode\":\"closest\",\"mapbox\":{\"style\":\"light\"},\"paper_bgcolor\":\"white\",\"plot_bgcolor\":\"#E5ECF6\",\"polar\":{\"angularaxis\":{\"gridcolor\":\"white\",\"linecolor\":\"white\",\"ticks\":\"\"},\"bgcolor\":\"#E5ECF6\",\"radialaxis\":{\"gridcolor\":\"white\",\"linecolor\":\"white\",\"ticks\":\"\"}},\"scene\":{\"xaxis\":{\"backgroundcolor\":\"#E5ECF6\",\"gridcolor\":\"white\",\"gridwidth\":2,\"linecolor\":\"white\",\"showbackground\":true,\"ticks\":\"\",\"zerolinecolor\":\"white\"},\"yaxis\":{\"backgroundcolor\":\"#E5ECF6\",\"gridcolor\":\"white\",\"gridwidth\":2,\"linecolor\":\"white\",\"showbackground\":true,\"ticks\":\"\",\"zerolinecolor\":\"white\"},\"zaxis\":{\"backgroundcolor\":\"#E5ECF6\",\"gridcolor\":\"white\",\"gridwidth\":2,\"linecolor\":\"white\",\"showbackground\":true,\"ticks\":\"\",\"zerolinecolor\":\"white\"}},\"shapedefaults\":{\"line\":{\"color\":\"#2a3f5f\"}},\"ternary\":{\"aaxis\":{\"gridcolor\":\"white\",\"linecolor\":\"white\",\"ticks\":\"\"},\"baxis\":{\"gridcolor\":\"white\",\"linecolor\":\"white\",\"ticks\":\"\"},\"bgcolor\":\"#E5ECF6\",\"caxis\":{\"gridcolor\":\"white\",\"linecolor\":\"white\",\"ticks\":\"\"}},\"title\":{\"x\":0.05},\"xaxis\":{\"automargin\":true,\"gridcolor\":\"white\",\"linecolor\":\"white\",\"ticks\":\"\",\"title\":{\"standoff\":15},\"zerolinecolor\":\"white\",\"zerolinewidth\":2},\"yaxis\":{\"automargin\":true,\"gridcolor\":\"white\",\"linecolor\":\"white\",\"ticks\":\"\",\"title\":{\"standoff\":15},\"zerolinecolor\":\"white\",\"zerolinewidth\":2}}},\"xaxis\":{\"anchor\":\"y\",\"domain\":[0.0,1.0],\"title\":{\"text\":\"country\"},\"categoryorder\":\"total descending\"},\"yaxis\":{\"anchor\":\"x\",\"domain\":[0.0,1.0],\"title\":{\"text\":\"count\"}},\"legend\":{\"title\":{\"text\":\"type\"},\"tracegroupgap\":0},\"margin\":{\"t\":60},\"barmode\":\"relative\"},                        {\"responsive\": true}                    ).then(function(){\n",
              "                            \n",
              "var gd = document.getElementById('36db9929-111c-4257-bdd0-45151b6b6636');\n",
              "var x = new MutationObserver(function (mutations, observer) {{\n",
              "        var display = window.getComputedStyle(gd).display;\n",
              "        if (!display || display === 'none') {{\n",
              "            console.log([gd, 'removed!']);\n",
              "            Plotly.purge(gd);\n",
              "            observer.disconnect();\n",
              "        }}\n",
              "}});\n",
              "\n",
              "// Listen for the removal of the full notebook cells\n",
              "var notebookContainer = gd.closest('#notebook-container');\n",
              "if (notebookContainer) {{\n",
              "    x.observe(notebookContainer, {childList: true});\n",
              "}}\n",
              "\n",
              "// Listen for the clearing of the current output cell\n",
              "var outputEl = gd.closest('.output');\n",
              "if (outputEl) {{\n",
              "    x.observe(outputEl, {childList: true});\n",
              "}}\n",
              "\n",
              "                        })                };                            </script>        </div>\n",
              "</body>\n",
              "</html>"
            ]
          },
          "metadata": {}
        }
      ]
    },
    {
      "cell_type": "markdown",
      "source": [
        "### 날짜별"
      ],
      "metadata": {
        "id": "m1goDQuymexq"
      }
    },
    {
      "cell_type": "markdown",
      "source": [
        "#### release year 시각화"
      ],
      "metadata": {
        "id": "3u2XlGtGqlF5"
      }
    },
    {
      "cell_type": "code",
      "source": [
        "# release_year column 시각화\n",
        "\n",
        "px.histogram(disney, x = \"release_year\", color = \"release_year\")"
      ],
      "metadata": {
        "id": "g1dFgxPAmexq",
        "colab": {
          "base_uri": "https://localhost:8080/",
          "height": 542
        },
        "outputId": "9973712d-0a36-4e36-db65-84936c674a67"
      },
      "execution_count": null,
      "outputs": [
        {
          "output_type": "display_data",
          "data": {
            "text/html": [
              "<html>\n",
              "<head><meta charset=\"utf-8\" /></head>\n",
              "<body>\n",
              "    <div>            <script src=\"https://cdnjs.cloudflare.com/ajax/libs/mathjax/2.7.5/MathJax.js?config=TeX-AMS-MML_SVG\"></script><script type=\"text/javascript\">if (window.MathJax) {MathJax.Hub.Config({SVG: {font: \"STIX-Web\"}});}</script>                <script type=\"text/javascript\">window.PlotlyConfig = {MathJaxConfig: 'local'};</script>\n",
              "        <script src=\"https://cdn.plot.ly/plotly-2.8.3.min.js\"></script>                <div id=\"8eeb6dc2-1211-44d5-9450-680fc9b07945\" class=\"plotly-graph-div\" style=\"height:525px; width:100%;\"></div>            <script type=\"text/javascript\">                                    window.PLOTLYENV=window.PLOTLYENV || {};                                    if (document.getElementById(\"8eeb6dc2-1211-44d5-9450-680fc9b07945\")) {                    Plotly.newPlot(                        \"8eeb6dc2-1211-44d5-9450-680fc9b07945\",                        [{\"alignmentgroup\":\"True\",\"bingroup\":\"x\",\"hovertemplate\":\"release_year=%{x}<br>count=%{y}<extra></extra>\",\"legendgroup\":\"2016\",\"marker\":{\"color\":\"#636efa\",\"pattern\":{\"shape\":\"\"}},\"name\":\"2016\",\"offsetgroup\":\"2016\",\"orientation\":\"v\",\"showlegend\":true,\"x\":[2016,2016,2016,2016,2016,2016,2016,2016,2016,2016,2016,2016,2016,2016,2016,2016,2016,2016,2016,2016,2016,2016,2016,2016,2016,2016,2016,2016,2016,2016,2016,2016,2016,2016,2016,2016,2016,2016,2016,2016,2016,2016,2016,2016,2016,2016,2016,2016,2016,2016,2016,2016,2016,2016,2016,2016,2016,2016,2016,2016,2016],\"xaxis\":\"x\",\"yaxis\":\"y\",\"type\":\"histogram\"},{\"alignmentgroup\":\"True\",\"bingroup\":\"x\",\"hovertemplate\":\"release_year=%{x}<br>count=%{y}<extra></extra>\",\"legendgroup\":\"1988\",\"marker\":{\"color\":\"#EF553B\",\"pattern\":{\"shape\":\"\"}},\"name\":\"1988\",\"offsetgroup\":\"1988\",\"orientation\":\"v\",\"showlegend\":true,\"x\":[1988,1988,1988,1988,1988,1988],\"xaxis\":\"x\",\"yaxis\":\"y\",\"type\":\"histogram\"},{\"alignmentgroup\":\"True\",\"bingroup\":\"x\",\"hovertemplate\":\"release_year=%{x}<br>count=%{y}<extra></extra>\",\"legendgroup\":\"2011\",\"marker\":{\"color\":\"#00cc96\",\"pattern\":{\"shape\":\"\"}},\"name\":\"2011\",\"offsetgroup\":\"2011\",\"orientation\":\"v\",\"showlegend\":true,\"x\":[2011,2011,2011,2011,2011,2011,2011,2011,2011,2011,2011,2011,2011,2011,2011,2011,2011,2011,2011,2011,2011,2011,2011,2011,2011,2011,2011,2011,2011,2011,2011,2011,2011,2011,2011,2011,2011,2011,2011,2011,2011,2011,2011,2011,2011,2011,2011,2011,2011,2011,2011,2011],\"xaxis\":\"x\",\"yaxis\":\"y\",\"type\":\"histogram\"},{\"alignmentgroup\":\"True\",\"bingroup\":\"x\",\"hovertemplate\":\"release_year=%{x}<br>count=%{y}<extra></extra>\",\"legendgroup\":\"2021\",\"marker\":{\"color\":\"#ab63fa\",\"pattern\":{\"shape\":\"\"}},\"name\":\"2021\",\"offsetgroup\":\"2021\",\"orientation\":\"v\",\"showlegend\":true,\"x\":[2021,2021,2021,2021,2021,2021,2021,2021,2021,2021,2021,2021,2021,2021,2021,2021,2021,2021,2021,2021,2021,2021,2021,2021,2021,2021,2021,2021,2021,2021,2021,2021,2021,2021,2021,2021,2021,2021,2021,2021,2021,2021,2021,2021,2021,2021,2021,2021,2021,2021,2021,2021,2021,2021,2021,2021,2021,2021,2021,2021,2021,2021,2021,2021,2021,2021,2021,2021,2021,2021,2021,2021,2021,2021,2021,2021,2021,2021,2021,2021,2021,2021,2021,2021,2021,2021,2021,2021,2021,2021,2021,2021,2021,2021,2021,2021,2021,2021,2021,2021,2021,2021,2021,2021,2021,2021,2021,2021,2021,2021,2021,2021,2021,2021,2021,2021,2021,2021,2021,2021,2021,2021,2021,2021,2021],\"xaxis\":\"x\",\"yaxis\":\"y\",\"type\":\"histogram\"},{\"alignmentgroup\":\"True\",\"bingroup\":\"x\",\"hovertemplate\":\"release_year=%{x}<br>count=%{y}<extra></extra>\",\"legendgroup\":\"2015\",\"marker\":{\"color\":\"#FFA15A\",\"pattern\":{\"shape\":\"\"}},\"name\":\"2015\",\"offsetgroup\":\"2015\",\"orientation\":\"v\",\"showlegend\":true,\"x\":[2015,2015,2015,2015,2015,2015,2015,2015,2015,2015,2015,2015,2015,2015,2015,2015,2015,2015,2015,2015,2015,2015,2015,2015,2015,2015,2015,2015,2015,2015,2015,2015,2015,2015,2015,2015,2015,2015,2015,2015,2015,2015,2015,2015,2015,2015],\"xaxis\":\"x\",\"yaxis\":\"y\",\"type\":\"histogram\"},{\"alignmentgroup\":\"True\",\"bingroup\":\"x\",\"hovertemplate\":\"release_year=%{x}<br>count=%{y}<extra></extra>\",\"legendgroup\":\"2019\",\"marker\":{\"color\":\"#19d3f3\",\"pattern\":{\"shape\":\"\"}},\"name\":\"2019\",\"offsetgroup\":\"2019\",\"orientation\":\"v\",\"showlegend\":true,\"x\":[2019,2019,2019,2019,2019,2019,2019,2019,2019,2019,2019,2019,2019,2019,2019,2019,2019,2019,2019,2019,2019,2019,2019,2019,2019,2019,2019,2019,2019,2019,2019,2019,2019,2019,2019,2019,2019,2019,2019,2019,2019,2019,2019,2019,2019,2019,2019,2019,2019,2019,2019,2019,2019,2019,2019,2019,2019,2019,2019,2019,2019,2019,2019,2019,2019,2019,2019,2019,2019,2019,2019,2019,2019,2019,2019,2019,2019,2019,2019,2019,2019,2019,2019,2019,2019,2019,2019,2019,2019,2019,2019,2019,2019,2019,2019,2019,2019,2019,2019],\"xaxis\":\"x\",\"yaxis\":\"y\",\"type\":\"histogram\"},{\"alignmentgroup\":\"True\",\"bingroup\":\"x\",\"hovertemplate\":\"release_year=%{x}<br>count=%{y}<extra></extra>\",\"legendgroup\":\"2008\",\"marker\":{\"color\":\"#FF6692\",\"pattern\":{\"shape\":\"\"}},\"name\":\"2008\",\"offsetgroup\":\"2008\",\"orientation\":\"v\",\"showlegend\":true,\"x\":[2008,2008,2008,2008,2008,2008,2008,2008,2008,2008,2008,2008,2008,2008,2008,2008,2008,2008,2008,2008,2008,2008,2008,2008,2008,2008,2008,2008,2008,2008,2008,2008,2008],\"xaxis\":\"x\",\"yaxis\":\"y\",\"type\":\"histogram\"},{\"alignmentgroup\":\"True\",\"bingroup\":\"x\",\"hovertemplate\":\"release_year=%{x}<br>count=%{y}<extra></extra>\",\"legendgroup\":\"2020\",\"marker\":{\"color\":\"#B6E880\",\"pattern\":{\"shape\":\"\"}},\"name\":\"2020\",\"offsetgroup\":\"2020\",\"orientation\":\"v\",\"showlegend\":true,\"x\":[2020,2020,2020,2020,2020,2020,2020,2020,2020,2020,2020,2020,2020,2020,2020,2020,2020,2020,2020,2020,2020,2020,2020,2020,2020,2020,2020,2020,2020,2020,2020,2020,2020,2020,2020,2020,2020,2020,2020,2020,2020,2020,2020,2020,2020,2020,2020,2020,2020,2020,2020,2020,2020,2020,2020,2020,2020,2020,2020,2020,2020,2020,2020,2020,2020,2020,2020,2020,2020,2020,2020,2020,2020,2020,2020,2020,2020,2020,2020,2020,2020,2020,2020,2020,2020,2020,2020,2020,2020,2020,2020,2020,2020,2020,2020,2020,2020,2020,2020,2020,2020,2020,2020,2020,2020,2020,2020,2020,2020,2020,2020,2020,2020,2020],\"xaxis\":\"x\",\"yaxis\":\"y\",\"type\":\"histogram\"},{\"alignmentgroup\":\"True\",\"bingroup\":\"x\",\"hovertemplate\":\"release_year=%{x}<br>count=%{y}<extra></extra>\",\"legendgroup\":\"2007\",\"marker\":{\"color\":\"#FF97FF\",\"pattern\":{\"shape\":\"\"}},\"name\":\"2007\",\"offsetgroup\":\"2007\",\"orientation\":\"v\",\"showlegend\":true,\"x\":[2007,2007,2007,2007,2007,2007,2007,2007,2007,2007,2007,2007,2007,2007,2007,2007,2007,2007,2007,2007,2007,2007,2007],\"xaxis\":\"x\",\"yaxis\":\"y\",\"type\":\"histogram\"},{\"alignmentgroup\":\"True\",\"bingroup\":\"x\",\"hovertemplate\":\"release_year=%{x}<br>count=%{y}<extra></extra>\",\"legendgroup\":\"2013\",\"marker\":{\"color\":\"#FECB52\",\"pattern\":{\"shape\":\"\"}},\"name\":\"2013\",\"offsetgroup\":\"2013\",\"orientation\":\"v\",\"showlegend\":true,\"x\":[2013,2013,2013,2013,2013,2013,2013,2013,2013,2013,2013,2013,2013,2013,2013,2013,2013,2013,2013,2013,2013,2013,2013,2013,2013,2013,2013,2013,2013,2013,2013,2013],\"xaxis\":\"x\",\"yaxis\":\"y\",\"type\":\"histogram\"},{\"alignmentgroup\":\"True\",\"bingroup\":\"x\",\"hovertemplate\":\"release_year=%{x}<br>count=%{y}<extra></extra>\",\"legendgroup\":\"2018\",\"marker\":{\"color\":\"#636efa\",\"pattern\":{\"shape\":\"\"}},\"name\":\"2018\",\"offsetgroup\":\"2018\",\"orientation\":\"v\",\"showlegend\":true,\"x\":[2018,2018,2018,2018,2018,2018,2018,2018,2018,2018,2018,2018,2018,2018,2018,2018,2018,2018,2018,2018,2018,2018,2018,2018,2018,2018,2018,2018,2018,2018,2018,2018,2018,2018,2018,2018,2018,2018,2018,2018,2018,2018,2018,2018,2018,2018,2018,2018,2018,2018,2018,2018,2018,2018,2018,2018,2018,2018,2018,2018,2018,2018,2018,2018,2018],\"xaxis\":\"x\",\"yaxis\":\"y\",\"type\":\"histogram\"},{\"alignmentgroup\":\"True\",\"bingroup\":\"x\",\"hovertemplate\":\"release_year=%{x}<br>count=%{y}<extra></extra>\",\"legendgroup\":\"2014\",\"marker\":{\"color\":\"#EF553B\",\"pattern\":{\"shape\":\"\"}},\"name\":\"2014\",\"offsetgroup\":\"2014\",\"orientation\":\"v\",\"showlegend\":true,\"x\":[2014,2014,2014,2014,2014,2014,2014,2014,2014,2014,2014,2014,2014,2014,2014,2014,2014,2014,2014,2014,2014,2014,2014,2014,2014,2014,2014,2014,2014,2014,2014,2014,2014,2014,2014,2014,2014,2014,2014,2014,2014,2014,2014,2014,2014,2014,2014,2014,2014,2014],\"xaxis\":\"x\",\"yaxis\":\"y\",\"type\":\"histogram\"},{\"alignmentgroup\":\"True\",\"bingroup\":\"x\",\"hovertemplate\":\"release_year=%{x}<br>count=%{y}<extra></extra>\",\"legendgroup\":\"2012\",\"marker\":{\"color\":\"#00cc96\",\"pattern\":{\"shape\":\"\"}},\"name\":\"2012\",\"offsetgroup\":\"2012\",\"orientation\":\"v\",\"showlegend\":true,\"x\":[2012,2012,2012,2012,2012,2012,2012,2012,2012,2012,2012,2012,2012,2012,2012,2012,2012,2012,2012,2012,2012,2012,2012,2012,2012,2012,2012,2012,2012,2012,2012,2012,2012,2012,2012,2012,2012,2012,2012,2012,2012],\"xaxis\":\"x\",\"yaxis\":\"y\",\"type\":\"histogram\"},{\"alignmentgroup\":\"True\",\"bingroup\":\"x\",\"hovertemplate\":\"release_year=%{x}<br>count=%{y}<extra></extra>\",\"legendgroup\":\"2006\",\"marker\":{\"color\":\"#ab63fa\",\"pattern\":{\"shape\":\"\"}},\"name\":\"2006\",\"offsetgroup\":\"2006\",\"orientation\":\"v\",\"showlegend\":true,\"x\":[2006,2006,2006,2006,2006,2006,2006,2006,2006,2006,2006,2006,2006,2006,2006,2006,2006,2006,2006,2006,2006,2006,2006,2006,2006,2006,2006,2006,2006,2006,2006,2006],\"xaxis\":\"x\",\"yaxis\":\"y\",\"type\":\"histogram\"},{\"alignmentgroup\":\"True\",\"bingroup\":\"x\",\"hovertemplate\":\"release_year=%{x}<br>count=%{y}<extra></extra>\",\"legendgroup\":\"2010\",\"marker\":{\"color\":\"#FFA15A\",\"pattern\":{\"shape\":\"\"}},\"name\":\"2010\",\"offsetgroup\":\"2010\",\"orientation\":\"v\",\"showlegend\":true,\"x\":[2010,2010,2010,2010,2010,2010,2010,2010,2010,2010,2010,2010,2010,2010,2010,2010,2010,2010,2010,2010,2010,2010,2010,2010,2010,2010,2010,2010,2010,2010,2010,2010,2010,2010,2010,2010,2010,2010,2010],\"xaxis\":\"x\",\"yaxis\":\"y\",\"type\":\"histogram\"},{\"alignmentgroup\":\"True\",\"bingroup\":\"x\",\"hovertemplate\":\"release_year=%{x}<br>count=%{y}<extra></extra>\",\"legendgroup\":\"1996\",\"marker\":{\"color\":\"#19d3f3\",\"pattern\":{\"shape\":\"\"}},\"name\":\"1996\",\"offsetgroup\":\"1996\",\"orientation\":\"v\",\"showlegend\":true,\"x\":[1996,1996,1996,1996,1996,1996,1996,1996,1996,1996,1996,1996,1996,1996,1996,1996,1996],\"xaxis\":\"x\",\"yaxis\":\"y\",\"type\":\"histogram\"},{\"alignmentgroup\":\"True\",\"bingroup\":\"x\",\"hovertemplate\":\"release_year=%{x}<br>count=%{y}<extra></extra>\",\"legendgroup\":\"2009\",\"marker\":{\"color\":\"#FF6692\",\"pattern\":{\"shape\":\"\"}},\"name\":\"2009\",\"offsetgroup\":\"2009\",\"orientation\":\"v\",\"showlegend\":true,\"x\":[2009,2009,2009,2009,2009,2009,2009,2009,2009,2009,2009,2009,2009,2009,2009,2009,2009,2009,2009,2009,2009,2009,2009,2009,2009,2009,2009,2009,2009,2009,2009,2009,2009,2009,2009],\"xaxis\":\"x\",\"yaxis\":\"y\",\"type\":\"histogram\"},{\"alignmentgroup\":\"True\",\"bingroup\":\"x\",\"hovertemplate\":\"release_year=%{x}<br>count=%{y}<extra></extra>\",\"legendgroup\":\"2017\",\"marker\":{\"color\":\"#B6E880\",\"pattern\":{\"shape\":\"\"}},\"name\":\"2017\",\"offsetgroup\":\"2017\",\"orientation\":\"v\",\"showlegend\":true,\"x\":[2017,2017,2017,2017,2017,2017,2017,2017,2017,2017,2017,2017,2017,2017,2017,2017,2017,2017,2017,2017,2017,2017,2017,2017,2017,2017,2017,2017,2017,2017,2017,2017,2017,2017,2017,2017,2017,2017,2017,2017,2017,2017,2017,2017,2017,2017,2017,2017,2017,2017,2017,2017,2017,2017,2017,2017,2017,2017,2017,2017,2017,2017,2017,2017,2017,2017,2017,2017,2017],\"xaxis\":\"x\",\"yaxis\":\"y\",\"type\":\"histogram\"},{\"alignmentgroup\":\"True\",\"bingroup\":\"x\",\"hovertemplate\":\"release_year=%{x}<br>count=%{y}<extra></extra>\",\"legendgroup\":\"1993\",\"marker\":{\"color\":\"#FF97FF\",\"pattern\":{\"shape\":\"\"}},\"name\":\"1993\",\"offsetgroup\":\"1993\",\"orientation\":\"v\",\"showlegend\":true,\"x\":[1993,1993,1993,1993,1993,1993,1993,1993,1993,1993,1993,1993,1993,1993],\"xaxis\":\"x\",\"yaxis\":\"y\",\"type\":\"histogram\"},{\"alignmentgroup\":\"True\",\"bingroup\":\"x\",\"hovertemplate\":\"release_year=%{x}<br>count=%{y}<extra></extra>\",\"legendgroup\":\"1994\",\"marker\":{\"color\":\"#FECB52\",\"pattern\":{\"shape\":\"\"}},\"name\":\"1994\",\"offsetgroup\":\"1994\",\"orientation\":\"v\",\"showlegend\":true,\"x\":[1994,1994,1994,1994,1994,1994,1994,1994,1994,1994,1994,1994,1994,1994],\"xaxis\":\"x\",\"yaxis\":\"y\",\"type\":\"histogram\"},{\"alignmentgroup\":\"True\",\"bingroup\":\"x\",\"hovertemplate\":\"release_year=%{x}<br>count=%{y}<extra></extra>\",\"legendgroup\":\"1998\",\"marker\":{\"color\":\"#636efa\",\"pattern\":{\"shape\":\"\"}},\"name\":\"1998\",\"offsetgroup\":\"1998\",\"orientation\":\"v\",\"showlegend\":true,\"x\":[1998,1998,1998,1998,1998,1998,1998,1998,1998,1998,1998,1998,1998,1998,1998,1998,1998,1998,1998,1998],\"xaxis\":\"x\",\"yaxis\":\"y\",\"type\":\"histogram\"},{\"alignmentgroup\":\"True\",\"bingroup\":\"x\",\"hovertemplate\":\"release_year=%{x}<br>count=%{y}<extra></extra>\",\"legendgroup\":\"1989\",\"marker\":{\"color\":\"#EF553B\",\"pattern\":{\"shape\":\"\"}},\"name\":\"1989\",\"offsetgroup\":\"1989\",\"orientation\":\"v\",\"showlegend\":true,\"x\":[1989,1989,1989,1989,1989,1989,1989],\"xaxis\":\"x\",\"yaxis\":\"y\",\"type\":\"histogram\"},{\"alignmentgroup\":\"True\",\"bingroup\":\"x\",\"hovertemplate\":\"release_year=%{x}<br>count=%{y}<extra></extra>\",\"legendgroup\":\"1997\",\"marker\":{\"color\":\"#00cc96\",\"pattern\":{\"shape\":\"\"}},\"name\":\"1997\",\"offsetgroup\":\"1997\",\"orientation\":\"v\",\"showlegend\":true,\"x\":[1997,1997,1997,1997,1997,1997,1997,1997,1997,1997,1997,1997,1997,1997,1997,1997,1997],\"xaxis\":\"x\",\"yaxis\":\"y\",\"type\":\"histogram\"},{\"alignmentgroup\":\"True\",\"bingroup\":\"x\",\"hovertemplate\":\"release_year=%{x}<br>count=%{y}<extra></extra>\",\"legendgroup\":\"2005\",\"marker\":{\"color\":\"#ab63fa\",\"pattern\":{\"shape\":\"\"}},\"name\":\"2005\",\"offsetgroup\":\"2005\",\"orientation\":\"v\",\"showlegend\":true,\"x\":[2005,2005,2005,2005,2005,2005,2005,2005,2005,2005,2005,2005,2005,2005,2005,2005,2005,2005,2005,2005,2005,2005,2005,2005,2005,2005,2005,2005,2005,2005,2005,2005],\"xaxis\":\"x\",\"yaxis\":\"y\",\"type\":\"histogram\"},{\"alignmentgroup\":\"True\",\"bingroup\":\"x\",\"hovertemplate\":\"release_year=%{x}<br>count=%{y}<extra></extra>\",\"legendgroup\":\"2000\",\"marker\":{\"color\":\"#FFA15A\",\"pattern\":{\"shape\":\"\"}},\"name\":\"2000\",\"offsetgroup\":\"2000\",\"orientation\":\"v\",\"showlegend\":true,\"x\":[2000,2000,2000,2000,2000,2000,2000,2000,2000,2000,2000,2000,2000,2000,2000,2000,2000,2000,2000,2000,2000,2000,2000,2000,2000,2000],\"xaxis\":\"x\",\"yaxis\":\"y\",\"type\":\"histogram\"},{\"alignmentgroup\":\"True\",\"bingroup\":\"x\",\"hovertemplate\":\"release_year=%{x}<br>count=%{y}<extra></extra>\",\"legendgroup\":\"2004\",\"marker\":{\"color\":\"#19d3f3\",\"pattern\":{\"shape\":\"\"}},\"name\":\"2004\",\"offsetgroup\":\"2004\",\"orientation\":\"v\",\"showlegend\":true,\"x\":[2004,2004,2004,2004,2004,2004,2004,2004,2004,2004,2004,2004,2004,2004,2004,2004,2004,2004,2004,2004,2004,2004,2004,2004,2004,2004,2004,2004],\"xaxis\":\"x\",\"yaxis\":\"y\",\"type\":\"histogram\"},{\"alignmentgroup\":\"True\",\"bingroup\":\"x\",\"hovertemplate\":\"release_year=%{x}<br>count=%{y}<extra></extra>\",\"legendgroup\":\"1987\",\"marker\":{\"color\":\"#FF6692\",\"pattern\":{\"shape\":\"\"}},\"name\":\"1987\",\"offsetgroup\":\"1987\",\"orientation\":\"v\",\"showlegend\":true,\"x\":[1987,1987,1987,1987,1987,1987],\"xaxis\":\"x\",\"yaxis\":\"y\",\"type\":\"histogram\"},{\"alignmentgroup\":\"True\",\"bingroup\":\"x\",\"hovertemplate\":\"release_year=%{x}<br>count=%{y}<extra></extra>\",\"legendgroup\":\"1985\",\"marker\":{\"color\":\"#B6E880\",\"pattern\":{\"shape\":\"\"}},\"name\":\"1985\",\"offsetgroup\":\"1985\",\"orientation\":\"v\",\"showlegend\":true,\"x\":[1985,1985,1985,1985,1985,1985,1985,1985],\"xaxis\":\"x\",\"yaxis\":\"y\",\"type\":\"histogram\"},{\"alignmentgroup\":\"True\",\"bingroup\":\"x\",\"hovertemplate\":\"release_year=%{x}<br>count=%{y}<extra></extra>\",\"legendgroup\":\"1967\",\"marker\":{\"color\":\"#FF97FF\",\"pattern\":{\"shape\":\"\"}},\"name\":\"1967\",\"offsetgroup\":\"1967\",\"orientation\":\"v\",\"showlegend\":true,\"x\":[1967,1967],\"xaxis\":\"x\",\"yaxis\":\"y\",\"type\":\"histogram\"},{\"alignmentgroup\":\"True\",\"bingroup\":\"x\",\"hovertemplate\":\"release_year=%{x}<br>count=%{y}<extra></extra>\",\"legendgroup\":\"1973\",\"marker\":{\"color\":\"#FECB52\",\"pattern\":{\"shape\":\"\"}},\"name\":\"1973\",\"offsetgroup\":\"1973\",\"orientation\":\"v\",\"showlegend\":true,\"x\":[1973,1973],\"xaxis\":\"x\",\"yaxis\":\"y\",\"type\":\"histogram\"},{\"alignmentgroup\":\"True\",\"bingroup\":\"x\",\"hovertemplate\":\"release_year=%{x}<br>count=%{y}<extra></extra>\",\"legendgroup\":\"1991\",\"marker\":{\"color\":\"#636efa\",\"pattern\":{\"shape\":\"\"}},\"name\":\"1991\",\"offsetgroup\":\"1991\",\"orientation\":\"v\",\"showlegend\":true,\"x\":[1991,1991,1991,1991,1991,1991],\"xaxis\":\"x\",\"yaxis\":\"y\",\"type\":\"histogram\"},{\"alignmentgroup\":\"True\",\"bingroup\":\"x\",\"hovertemplate\":\"release_year=%{x}<br>count=%{y}<extra></extra>\",\"legendgroup\":\"1956\",\"marker\":{\"color\":\"#EF553B\",\"pattern\":{\"shape\":\"\"}},\"name\":\"1956\",\"offsetgroup\":\"1956\",\"orientation\":\"v\",\"showlegend\":true,\"x\":[1956,1956,1956,1956],\"xaxis\":\"x\",\"yaxis\":\"y\",\"type\":\"histogram\"},{\"alignmentgroup\":\"True\",\"bingroup\":\"x\",\"hovertemplate\":\"release_year=%{x}<br>count=%{y}<extra></extra>\",\"legendgroup\":\"1995\",\"marker\":{\"color\":\"#00cc96\",\"pattern\":{\"shape\":\"\"}},\"name\":\"1995\",\"offsetgroup\":\"1995\",\"orientation\":\"v\",\"showlegend\":true,\"x\":[1995,1995,1995,1995,1995,1995,1995,1995,1995,1995,1995,1995,1995],\"xaxis\":\"x\",\"yaxis\":\"y\",\"type\":\"histogram\"},{\"alignmentgroup\":\"True\",\"bingroup\":\"x\",\"hovertemplate\":\"release_year=%{x}<br>count=%{y}<extra></extra>\",\"legendgroup\":\"1984\",\"marker\":{\"color\":\"#ab63fa\",\"pattern\":{\"shape\":\"\"}},\"name\":\"1984\",\"offsetgroup\":\"1984\",\"orientation\":\"v\",\"showlegend\":true,\"x\":[1984,1984,1984,1984],\"xaxis\":\"x\",\"yaxis\":\"y\",\"type\":\"histogram\"},{\"alignmentgroup\":\"True\",\"bingroup\":\"x\",\"hovertemplate\":\"release_year=%{x}<br>count=%{y}<extra></extra>\",\"legendgroup\":\"1974\",\"marker\":{\"color\":\"#FFA15A\",\"pattern\":{\"shape\":\"\"}},\"name\":\"1974\",\"offsetgroup\":\"1974\",\"orientation\":\"v\",\"showlegend\":true,\"x\":[1974,1974,1974,1974],\"xaxis\":\"x\",\"yaxis\":\"y\",\"type\":\"histogram\"},{\"alignmentgroup\":\"True\",\"bingroup\":\"x\",\"hovertemplate\":\"release_year=%{x}<br>count=%{y}<extra></extra>\",\"legendgroup\":\"1959\",\"marker\":{\"color\":\"#19d3f3\",\"pattern\":{\"shape\":\"\"}},\"name\":\"1959\",\"offsetgroup\":\"1959\",\"orientation\":\"v\",\"showlegend\":true,\"x\":[1959,1959,1959,1959,1959],\"xaxis\":\"x\",\"yaxis\":\"y\",\"type\":\"histogram\"},{\"alignmentgroup\":\"True\",\"bingroup\":\"x\",\"hovertemplate\":\"release_year=%{x}<br>count=%{y}<extra></extra>\",\"legendgroup\":\"2003\",\"marker\":{\"color\":\"#FF6692\",\"pattern\":{\"shape\":\"\"}},\"name\":\"2003\",\"offsetgroup\":\"2003\",\"orientation\":\"v\",\"showlegend\":true,\"x\":[2003,2003,2003,2003,2003,2003,2003,2003,2003,2003,2003,2003,2003,2003,2003,2003,2003,2003,2003,2003,2003,2003,2003,2003,2003,2003,2003,2003,2003],\"xaxis\":\"x\",\"yaxis\":\"y\",\"type\":\"histogram\"},{\"alignmentgroup\":\"True\",\"bingroup\":\"x\",\"hovertemplate\":\"release_year=%{x}<br>count=%{y}<extra></extra>\",\"legendgroup\":\"1976\",\"marker\":{\"color\":\"#B6E880\",\"pattern\":{\"shape\":\"\"}},\"name\":\"1976\",\"offsetgroup\":\"1976\",\"orientation\":\"v\",\"showlegend\":true,\"x\":[1976,1976,1976,1976],\"xaxis\":\"x\",\"yaxis\":\"y\",\"type\":\"histogram\"},{\"alignmentgroup\":\"True\",\"bingroup\":\"x\",\"hovertemplate\":\"release_year=%{x}<br>count=%{y}<extra></extra>\",\"legendgroup\":\"2001\",\"marker\":{\"color\":\"#FF97FF\",\"pattern\":{\"shape\":\"\"}},\"name\":\"2001\",\"offsetgroup\":\"2001\",\"orientation\":\"v\",\"showlegend\":true,\"x\":[2001,2001,2001,2001,2001,2001,2001,2001,2001,2001,2001,2001,2001,2001,2001,2001,2001,2001],\"xaxis\":\"x\",\"yaxis\":\"y\",\"type\":\"histogram\"},{\"alignmentgroup\":\"True\",\"bingroup\":\"x\",\"hovertemplate\":\"release_year=%{x}<br>count=%{y}<extra></extra>\",\"legendgroup\":\"1990\",\"marker\":{\"color\":\"#FECB52\",\"pattern\":{\"shape\":\"\"}},\"name\":\"1990\",\"offsetgroup\":\"1990\",\"orientation\":\"v\",\"showlegend\":true,\"x\":[1990,1990,1990,1990,1990],\"xaxis\":\"x\",\"yaxis\":\"y\",\"type\":\"histogram\"},{\"alignmentgroup\":\"True\",\"bingroup\":\"x\",\"hovertemplate\":\"release_year=%{x}<br>count=%{y}<extra></extra>\",\"legendgroup\":\"1992\",\"marker\":{\"color\":\"#636efa\",\"pattern\":{\"shape\":\"\"}},\"name\":\"1992\",\"offsetgroup\":\"1992\",\"orientation\":\"v\",\"showlegend\":true,\"x\":[1992,1992,1992,1992,1992,1992,1992,1992,1992,1992],\"xaxis\":\"x\",\"yaxis\":\"y\",\"type\":\"histogram\"},{\"alignmentgroup\":\"True\",\"bingroup\":\"x\",\"hovertemplate\":\"release_year=%{x}<br>count=%{y}<extra></extra>\",\"legendgroup\":\"1952\",\"marker\":{\"color\":\"#EF553B\",\"pattern\":{\"shape\":\"\"}},\"name\":\"1952\",\"offsetgroup\":\"1952\",\"orientation\":\"v\",\"showlegend\":true,\"x\":[1952,1952,1952,1952,1952,1952,1952,1952],\"xaxis\":\"x\",\"yaxis\":\"y\",\"type\":\"histogram\"},{\"alignmentgroup\":\"True\",\"bingroup\":\"x\",\"hovertemplate\":\"release_year=%{x}<br>count=%{y}<extra></extra>\",\"legendgroup\":\"1955\",\"marker\":{\"color\":\"#00cc96\",\"pattern\":{\"shape\":\"\"}},\"name\":\"1955\",\"offsetgroup\":\"1955\",\"orientation\":\"v\",\"showlegend\":true,\"x\":[1955,1955,1955,1955,1955,1955,1955,1955,1955],\"xaxis\":\"x\",\"yaxis\":\"y\",\"type\":\"histogram\"},{\"alignmentgroup\":\"True\",\"bingroup\":\"x\",\"hovertemplate\":\"release_year=%{x}<br>count=%{y}<extra></extra>\",\"legendgroup\":\"1977\",\"marker\":{\"color\":\"#ab63fa\",\"pattern\":{\"shape\":\"\"}},\"name\":\"1977\",\"offsetgroup\":\"1977\",\"orientation\":\"v\",\"showlegend\":true,\"x\":[1977,1977,1977,1977,1977,1977],\"xaxis\":\"x\",\"yaxis\":\"y\",\"type\":\"histogram\"},{\"alignmentgroup\":\"True\",\"bingroup\":\"x\",\"hovertemplate\":\"release_year=%{x}<br>count=%{y}<extra></extra>\",\"legendgroup\":\"1957\",\"marker\":{\"color\":\"#FFA15A\",\"pattern\":{\"shape\":\"\"}},\"name\":\"1957\",\"offsetgroup\":\"1957\",\"orientation\":\"v\",\"showlegend\":true,\"x\":[1957,1957,1957,1957],\"xaxis\":\"x\",\"yaxis\":\"y\",\"type\":\"histogram\"},{\"alignmentgroup\":\"True\",\"bingroup\":\"x\",\"hovertemplate\":\"release_year=%{x}<br>count=%{y}<extra></extra>\",\"legendgroup\":\"1999\",\"marker\":{\"color\":\"#19d3f3\",\"pattern\":{\"shape\":\"\"}},\"name\":\"1999\",\"offsetgroup\":\"1999\",\"orientation\":\"v\",\"showlegend\":true,\"x\":[1999,1999,1999,1999,1999,1999,1999,1999,1999,1999,1999,1999,1999,1999,1999,1999,1999,1999,1999,1999,1999,1999],\"xaxis\":\"x\",\"yaxis\":\"y\",\"type\":\"histogram\"},{\"alignmentgroup\":\"True\",\"bingroup\":\"x\",\"hovertemplate\":\"release_year=%{x}<br>count=%{y}<extra></extra>\",\"legendgroup\":\"1948\",\"marker\":{\"color\":\"#FF6692\",\"pattern\":{\"shape\":\"\"}},\"name\":\"1948\",\"offsetgroup\":\"1948\",\"orientation\":\"v\",\"showlegend\":true,\"x\":[1948,1948,1948,1948,1948],\"xaxis\":\"x\",\"yaxis\":\"y\",\"type\":\"histogram\"},{\"alignmentgroup\":\"True\",\"bingroup\":\"x\",\"hovertemplate\":\"release_year=%{x}<br>count=%{y}<extra></extra>\",\"legendgroup\":\"1964\",\"marker\":{\"color\":\"#B6E880\",\"pattern\":{\"shape\":\"\"}},\"name\":\"1964\",\"offsetgroup\":\"1964\",\"orientation\":\"v\",\"showlegend\":true,\"x\":[1964,1964,1964],\"xaxis\":\"x\",\"yaxis\":\"y\",\"type\":\"histogram\"},{\"alignmentgroup\":\"True\",\"bingroup\":\"x\",\"hovertemplate\":\"release_year=%{x}<br>count=%{y}<extra></extra>\",\"legendgroup\":\"1969\",\"marker\":{\"color\":\"#FF97FF\",\"pattern\":{\"shape\":\"\"}},\"name\":\"1969\",\"offsetgroup\":\"1969\",\"orientation\":\"v\",\"showlegend\":true,\"x\":[1969,1969,1969,1969],\"xaxis\":\"x\",\"yaxis\":\"y\",\"type\":\"histogram\"},{\"alignmentgroup\":\"True\",\"bingroup\":\"x\",\"hovertemplate\":\"release_year=%{x}<br>count=%{y}<extra></extra>\",\"legendgroup\":\"1942\",\"marker\":{\"color\":\"#FECB52\",\"pattern\":{\"shape\":\"\"}},\"name\":\"1942\",\"offsetgroup\":\"1942\",\"orientation\":\"v\",\"showlegend\":true,\"x\":[1942,1942,1942,1942,1942,1942],\"xaxis\":\"x\",\"yaxis\":\"y\",\"type\":\"histogram\"},{\"alignmentgroup\":\"True\",\"bingroup\":\"x\",\"hovertemplate\":\"release_year=%{x}<br>count=%{y}<extra></extra>\",\"legendgroup\":\"1950\",\"marker\":{\"color\":\"#636efa\",\"pattern\":{\"shape\":\"\"}},\"name\":\"1950\",\"offsetgroup\":\"1950\",\"orientation\":\"v\",\"showlegend\":true,\"x\":[1950,1950,1950,1950,1950,1950],\"xaxis\":\"x\",\"yaxis\":\"y\",\"type\":\"histogram\"},{\"alignmentgroup\":\"True\",\"bingroup\":\"x\",\"hovertemplate\":\"release_year=%{x}<br>count=%{y}<extra></extra>\",\"legendgroup\":\"1951\",\"marker\":{\"color\":\"#EF553B\",\"pattern\":{\"shape\":\"\"}},\"name\":\"1951\",\"offsetgroup\":\"1951\",\"orientation\":\"v\",\"showlegend\":true,\"x\":[1951,1951,1951,1951],\"xaxis\":\"x\",\"yaxis\":\"y\",\"type\":\"histogram\"},{\"alignmentgroup\":\"True\",\"bingroup\":\"x\",\"hovertemplate\":\"release_year=%{x}<br>count=%{y}<extra></extra>\",\"legendgroup\":\"1953\",\"marker\":{\"color\":\"#00cc96\",\"pattern\":{\"shape\":\"\"}},\"name\":\"1953\",\"offsetgroup\":\"1953\",\"orientation\":\"v\",\"showlegend\":true,\"x\":[1953,1953,1953,1953,1953,1953],\"xaxis\":\"x\",\"yaxis\":\"y\",\"type\":\"histogram\"},{\"alignmentgroup\":\"True\",\"bingroup\":\"x\",\"hovertemplate\":\"release_year=%{x}<br>count=%{y}<extra></extra>\",\"legendgroup\":\"1949\",\"marker\":{\"color\":\"#ab63fa\",\"pattern\":{\"shape\":\"\"}},\"name\":\"1949\",\"offsetgroup\":\"1949\",\"orientation\":\"v\",\"showlegend\":true,\"x\":[1949,1949,1949,1949,1949],\"xaxis\":\"x\",\"yaxis\":\"y\",\"type\":\"histogram\"},{\"alignmentgroup\":\"True\",\"bingroup\":\"x\",\"hovertemplate\":\"release_year=%{x}<br>count=%{y}<extra></extra>\",\"legendgroup\":\"1940\",\"marker\":{\"color\":\"#FFA15A\",\"pattern\":{\"shape\":\"\"}},\"name\":\"1940\",\"offsetgroup\":\"1940\",\"orientation\":\"v\",\"showlegend\":true,\"x\":[1940,1940,1940,1940,1940,1940,1940],\"xaxis\":\"x\",\"yaxis\":\"y\",\"type\":\"histogram\"},{\"alignmentgroup\":\"True\",\"bingroup\":\"x\",\"hovertemplate\":\"release_year=%{x}<br>count=%{y}<extra></extra>\",\"legendgroup\":\"1946\",\"marker\":{\"color\":\"#19d3f3\",\"pattern\":{\"shape\":\"\"}},\"name\":\"1946\",\"offsetgroup\":\"1946\",\"orientation\":\"v\",\"showlegend\":true,\"x\":[1946,1946],\"xaxis\":\"x\",\"yaxis\":\"y\",\"type\":\"histogram\"},{\"alignmentgroup\":\"True\",\"bingroup\":\"x\",\"hovertemplate\":\"release_year=%{x}<br>count=%{y}<extra></extra>\",\"legendgroup\":\"1954\",\"marker\":{\"color\":\"#FF6692\",\"pattern\":{\"shape\":\"\"}},\"name\":\"1954\",\"offsetgroup\":\"1954\",\"orientation\":\"v\",\"showlegend\":true,\"x\":[1954,1954,1954,1954],\"xaxis\":\"x\",\"yaxis\":\"y\",\"type\":\"histogram\"},{\"alignmentgroup\":\"True\",\"bingroup\":\"x\",\"hovertemplate\":\"release_year=%{x}<br>count=%{y}<extra></extra>\",\"legendgroup\":\"1936\",\"marker\":{\"color\":\"#B6E880\",\"pattern\":{\"shape\":\"\"}},\"name\":\"1936\",\"offsetgroup\":\"1936\",\"orientation\":\"v\",\"showlegend\":true,\"x\":[1936,1936,1936,1936,1936,1936],\"xaxis\":\"x\",\"yaxis\":\"y\",\"type\":\"histogram\"},{\"alignmentgroup\":\"True\",\"bingroup\":\"x\",\"hovertemplate\":\"release_year=%{x}<br>count=%{y}<extra></extra>\",\"legendgroup\":\"1944\",\"marker\":{\"color\":\"#FF97FF\",\"pattern\":{\"shape\":\"\"}},\"name\":\"1944\",\"offsetgroup\":\"1944\",\"orientation\":\"v\",\"showlegend\":true,\"x\":[1944],\"xaxis\":\"x\",\"yaxis\":\"y\",\"type\":\"histogram\"},{\"alignmentgroup\":\"True\",\"bingroup\":\"x\",\"hovertemplate\":\"release_year=%{x}<br>count=%{y}<extra></extra>\",\"legendgroup\":\"1935\",\"marker\":{\"color\":\"#FECB52\",\"pattern\":{\"shape\":\"\"}},\"name\":\"1935\",\"offsetgroup\":\"1935\",\"orientation\":\"v\",\"showlegend\":true,\"x\":[1935,1935,1935,1935],\"xaxis\":\"x\",\"yaxis\":\"y\",\"type\":\"histogram\"},{\"alignmentgroup\":\"True\",\"bingroup\":\"x\",\"hovertemplate\":\"release_year=%{x}<br>count=%{y}<extra></extra>\",\"legendgroup\":\"1939\",\"marker\":{\"color\":\"#636efa\",\"pattern\":{\"shape\":\"\"}},\"name\":\"1939\",\"offsetgroup\":\"1939\",\"orientation\":\"v\",\"showlegend\":true,\"x\":[1939,1939,1939,1939,1939],\"xaxis\":\"x\",\"yaxis\":\"y\",\"type\":\"histogram\"},{\"alignmentgroup\":\"True\",\"bingroup\":\"x\",\"hovertemplate\":\"release_year=%{x}<br>count=%{y}<extra></extra>\",\"legendgroup\":\"1975\",\"marker\":{\"color\":\"#EF553B\",\"pattern\":{\"shape\":\"\"}},\"name\":\"1975\",\"offsetgroup\":\"1975\",\"orientation\":\"v\",\"showlegend\":true,\"x\":[1975,1975,1975,1975],\"xaxis\":\"x\",\"yaxis\":\"y\",\"type\":\"histogram\"},{\"alignmentgroup\":\"True\",\"bingroup\":\"x\",\"hovertemplate\":\"release_year=%{x}<br>count=%{y}<extra></extra>\",\"legendgroup\":\"1978\",\"marker\":{\"color\":\"#00cc96\",\"pattern\":{\"shape\":\"\"}},\"name\":\"1978\",\"offsetgroup\":\"1978\",\"orientation\":\"v\",\"showlegend\":true,\"x\":[1978,1978,1978,1978],\"xaxis\":\"x\",\"yaxis\":\"y\",\"type\":\"histogram\"},{\"alignmentgroup\":\"True\",\"bingroup\":\"x\",\"hovertemplate\":\"release_year=%{x}<br>count=%{y}<extra></extra>\",\"legendgroup\":\"2002\",\"marker\":{\"color\":\"#ab63fa\",\"pattern\":{\"shape\":\"\"}},\"name\":\"2002\",\"offsetgroup\":\"2002\",\"orientation\":\"v\",\"showlegend\":true,\"x\":[2002,2002,2002,2002,2002,2002,2002,2002,2002,2002,2002,2002,2002,2002,2002,2002,2002,2002,2002,2002,2002],\"xaxis\":\"x\",\"yaxis\":\"y\",\"type\":\"histogram\"},{\"alignmentgroup\":\"True\",\"bingroup\":\"x\",\"hovertemplate\":\"release_year=%{x}<br>count=%{y}<extra></extra>\",\"legendgroup\":\"1971\",\"marker\":{\"color\":\"#FFA15A\",\"pattern\":{\"shape\":\"\"}},\"name\":\"1971\",\"offsetgroup\":\"1971\",\"orientation\":\"v\",\"showlegend\":true,\"x\":[1971,1971,1971],\"xaxis\":\"x\",\"yaxis\":\"y\",\"type\":\"histogram\"},{\"alignmentgroup\":\"True\",\"bingroup\":\"x\",\"hovertemplate\":\"release_year=%{x}<br>count=%{y}<extra></extra>\",\"legendgroup\":\"1961\",\"marker\":{\"color\":\"#19d3f3\",\"pattern\":{\"shape\":\"\"}},\"name\":\"1961\",\"offsetgroup\":\"1961\",\"orientation\":\"v\",\"showlegend\":true,\"x\":[1961,1961,1961,1961,1961],\"xaxis\":\"x\",\"yaxis\":\"y\",\"type\":\"histogram\"},{\"alignmentgroup\":\"True\",\"bingroup\":\"x\",\"hovertemplate\":\"release_year=%{x}<br>count=%{y}<extra></extra>\",\"legendgroup\":\"1962\",\"marker\":{\"color\":\"#FF6692\",\"pattern\":{\"shape\":\"\"}},\"name\":\"1962\",\"offsetgroup\":\"1962\",\"orientation\":\"v\",\"showlegend\":true,\"x\":[1962,1962,1962],\"xaxis\":\"x\",\"yaxis\":\"y\",\"type\":\"histogram\"},{\"alignmentgroup\":\"True\",\"bingroup\":\"x\",\"hovertemplate\":\"release_year=%{x}<br>count=%{y}<extra></extra>\",\"legendgroup\":\"1981\",\"marker\":{\"color\":\"#B6E880\",\"pattern\":{\"shape\":\"\"}},\"name\":\"1981\",\"offsetgroup\":\"1981\",\"orientation\":\"v\",\"showlegend\":true,\"x\":[1981,1981,1981],\"xaxis\":\"x\",\"yaxis\":\"y\",\"type\":\"histogram\"},{\"alignmentgroup\":\"True\",\"bingroup\":\"x\",\"hovertemplate\":\"release_year=%{x}<br>count=%{y}<extra></extra>\",\"legendgroup\":\"1932\",\"marker\":{\"color\":\"#FF97FF\",\"pattern\":{\"shape\":\"\"}},\"name\":\"1932\",\"offsetgroup\":\"1932\",\"orientation\":\"v\",\"showlegend\":true,\"x\":[1932,1932,1932],\"xaxis\":\"x\",\"yaxis\":\"y\",\"type\":\"histogram\"},{\"alignmentgroup\":\"True\",\"bingroup\":\"x\",\"hovertemplate\":\"release_year=%{x}<br>count=%{y}<extra></extra>\",\"legendgroup\":\"1938\",\"marker\":{\"color\":\"#FECB52\",\"pattern\":{\"shape\":\"\"}},\"name\":\"1938\",\"offsetgroup\":\"1938\",\"orientation\":\"v\",\"showlegend\":true,\"x\":[1938,1938,1938,1938,1938],\"xaxis\":\"x\",\"yaxis\":\"y\",\"type\":\"histogram\"},{\"alignmentgroup\":\"True\",\"bingroup\":\"x\",\"hovertemplate\":\"release_year=%{x}<br>count=%{y}<extra></extra>\",\"legendgroup\":\"1941\",\"marker\":{\"color\":\"#636efa\",\"pattern\":{\"shape\":\"\"}},\"name\":\"1941\",\"offsetgroup\":\"1941\",\"orientation\":\"v\",\"showlegend\":true,\"x\":[1941,1941,1941,1941,1941,1941,1941],\"xaxis\":\"x\",\"yaxis\":\"y\",\"type\":\"histogram\"},{\"alignmentgroup\":\"True\",\"bingroup\":\"x\",\"hovertemplate\":\"release_year=%{x}<br>count=%{y}<extra></extra>\",\"legendgroup\":\"1986\",\"marker\":{\"color\":\"#EF553B\",\"pattern\":{\"shape\":\"\"}},\"name\":\"1986\",\"offsetgroup\":\"1986\",\"orientation\":\"v\",\"showlegend\":true,\"x\":[1986,1986,1986,1986,1986,1986,1986],\"xaxis\":\"x\",\"yaxis\":\"y\",\"type\":\"histogram\"},{\"alignmentgroup\":\"True\",\"bingroup\":\"x\",\"hovertemplate\":\"release_year=%{x}<br>count=%{y}<extra></extra>\",\"legendgroup\":\"1947\",\"marker\":{\"color\":\"#00cc96\",\"pattern\":{\"shape\":\"\"}},\"name\":\"1947\",\"offsetgroup\":\"1947\",\"orientation\":\"v\",\"showlegend\":true,\"x\":[1947,1947,1947,1947,1947],\"xaxis\":\"x\",\"yaxis\":\"y\",\"type\":\"histogram\"},{\"alignmentgroup\":\"True\",\"bingroup\":\"x\",\"hovertemplate\":\"release_year=%{x}<br>count=%{y}<extra></extra>\",\"legendgroup\":\"1937\",\"marker\":{\"color\":\"#ab63fa\",\"pattern\":{\"shape\":\"\"}},\"name\":\"1937\",\"offsetgroup\":\"1937\",\"orientation\":\"v\",\"showlegend\":true,\"x\":[1937,1937,1937,1937,1937,1937],\"xaxis\":\"x\",\"yaxis\":\"y\",\"type\":\"histogram\"},{\"alignmentgroup\":\"True\",\"bingroup\":\"x\",\"hovertemplate\":\"release_year=%{x}<br>count=%{y}<extra></extra>\",\"legendgroup\":\"1966\",\"marker\":{\"color\":\"#FFA15A\",\"pattern\":{\"shape\":\"\"}},\"name\":\"1966\",\"offsetgroup\":\"1966\",\"orientation\":\"v\",\"showlegend\":true,\"x\":[1966,1966],\"xaxis\":\"x\",\"yaxis\":\"y\",\"type\":\"histogram\"},{\"alignmentgroup\":\"True\",\"bingroup\":\"x\",\"hovertemplate\":\"release_year=%{x}<br>count=%{y}<extra></extra>\",\"legendgroup\":\"1943\",\"marker\":{\"color\":\"#19d3f3\",\"pattern\":{\"shape\":\"\"}},\"name\":\"1943\",\"offsetgroup\":\"1943\",\"orientation\":\"v\",\"showlegend\":true,\"x\":[1943,1943],\"xaxis\":\"x\",\"yaxis\":\"y\",\"type\":\"histogram\"},{\"alignmentgroup\":\"True\",\"bingroup\":\"x\",\"hovertemplate\":\"release_year=%{x}<br>count=%{y}<extra></extra>\",\"legendgroup\":\"1934\",\"marker\":{\"color\":\"#FF6692\",\"pattern\":{\"shape\":\"\"}},\"name\":\"1934\",\"offsetgroup\":\"1934\",\"orientation\":\"v\",\"showlegend\":true,\"x\":[1934,1934,1934,1934],\"xaxis\":\"x\",\"yaxis\":\"y\",\"type\":\"histogram\"},{\"alignmentgroup\":\"True\",\"bingroup\":\"x\",\"hovertemplate\":\"release_year=%{x}<br>count=%{y}<extra></extra>\",\"legendgroup\":\"1980\",\"marker\":{\"color\":\"#B6E880\",\"pattern\":{\"shape\":\"\"}},\"name\":\"1980\",\"offsetgroup\":\"1980\",\"orientation\":\"v\",\"showlegend\":true,\"x\":[1980,1980,1980,1980],\"xaxis\":\"x\",\"yaxis\":\"y\",\"type\":\"histogram\"},{\"alignmentgroup\":\"True\",\"bingroup\":\"x\",\"hovertemplate\":\"release_year=%{x}<br>count=%{y}<extra></extra>\",\"legendgroup\":\"1960\",\"marker\":{\"color\":\"#FF97FF\",\"pattern\":{\"shape\":\"\"}},\"name\":\"1960\",\"offsetgroup\":\"1960\",\"orientation\":\"v\",\"showlegend\":true,\"x\":[1960,1960,1960],\"xaxis\":\"x\",\"yaxis\":\"y\",\"type\":\"histogram\"},{\"alignmentgroup\":\"True\",\"bingroup\":\"x\",\"hovertemplate\":\"release_year=%{x}<br>count=%{y}<extra></extra>\",\"legendgroup\":\"1983\",\"marker\":{\"color\":\"#FECB52\",\"pattern\":{\"shape\":\"\"}},\"name\":\"1983\",\"offsetgroup\":\"1983\",\"orientation\":\"v\",\"showlegend\":true,\"x\":[1983,1983],\"xaxis\":\"x\",\"yaxis\":\"y\",\"type\":\"histogram\"},{\"alignmentgroup\":\"True\",\"bingroup\":\"x\",\"hovertemplate\":\"release_year=%{x}<br>count=%{y}<extra></extra>\",\"legendgroup\":\"1972\",\"marker\":{\"color\":\"#636efa\",\"pattern\":{\"shape\":\"\"}},\"name\":\"1972\",\"offsetgroup\":\"1972\",\"orientation\":\"v\",\"showlegend\":true,\"x\":[1972,1972,1972],\"xaxis\":\"x\",\"yaxis\":\"y\",\"type\":\"histogram\"},{\"alignmentgroup\":\"True\",\"bingroup\":\"x\",\"hovertemplate\":\"release_year=%{x}<br>count=%{y}<extra></extra>\",\"legendgroup\":\"1982\",\"marker\":{\"color\":\"#EF553B\",\"pattern\":{\"shape\":\"\"}},\"name\":\"1982\",\"offsetgroup\":\"1982\",\"orientation\":\"v\",\"showlegend\":true,\"x\":[1982,1982],\"xaxis\":\"x\",\"yaxis\":\"y\",\"type\":\"histogram\"},{\"alignmentgroup\":\"True\",\"bingroup\":\"x\",\"hovertemplate\":\"release_year=%{x}<br>count=%{y}<extra></extra>\",\"legendgroup\":\"1979\",\"marker\":{\"color\":\"#00cc96\",\"pattern\":{\"shape\":\"\"}},\"name\":\"1979\",\"offsetgroup\":\"1979\",\"orientation\":\"v\",\"showlegend\":true,\"x\":[1979,1979,1979,1979,1979],\"xaxis\":\"x\",\"yaxis\":\"y\",\"type\":\"histogram\"},{\"alignmentgroup\":\"True\",\"bingroup\":\"x\",\"hovertemplate\":\"release_year=%{x}<br>count=%{y}<extra></extra>\",\"legendgroup\":\"1928\",\"marker\":{\"color\":\"#ab63fa\",\"pattern\":{\"shape\":\"\"}},\"name\":\"1928\",\"offsetgroup\":\"1928\",\"orientation\":\"v\",\"showlegend\":true,\"x\":[1928],\"xaxis\":\"x\",\"yaxis\":\"y\",\"type\":\"histogram\"},{\"alignmentgroup\":\"True\",\"bingroup\":\"x\",\"hovertemplate\":\"release_year=%{x}<br>count=%{y}<extra></extra>\",\"legendgroup\":\"1965\",\"marker\":{\"color\":\"#FFA15A\",\"pattern\":{\"shape\":\"\"}},\"name\":\"1965\",\"offsetgroup\":\"1965\",\"orientation\":\"v\",\"showlegend\":true,\"x\":[1965,1965,1965],\"xaxis\":\"x\",\"yaxis\":\"y\",\"type\":\"histogram\"},{\"alignmentgroup\":\"True\",\"bingroup\":\"x\",\"hovertemplate\":\"release_year=%{x}<br>count=%{y}<extra></extra>\",\"legendgroup\":\"1970\",\"marker\":{\"color\":\"#19d3f3\",\"pattern\":{\"shape\":\"\"}},\"name\":\"1970\",\"offsetgroup\":\"1970\",\"orientation\":\"v\",\"showlegend\":true,\"x\":[1970],\"xaxis\":\"x\",\"yaxis\":\"y\",\"type\":\"histogram\"},{\"alignmentgroup\":\"True\",\"bingroup\":\"x\",\"hovertemplate\":\"release_year=%{x}<br>count=%{y}<extra></extra>\",\"legendgroup\":\"1963\",\"marker\":{\"color\":\"#FF6692\",\"pattern\":{\"shape\":\"\"}},\"name\":\"1963\",\"offsetgroup\":\"1963\",\"orientation\":\"v\",\"showlegend\":true,\"x\":[1963,1963,1963],\"xaxis\":\"x\",\"yaxis\":\"y\",\"type\":\"histogram\"},{\"alignmentgroup\":\"True\",\"bingroup\":\"x\",\"hovertemplate\":\"release_year=%{x}<br>count=%{y}<extra></extra>\",\"legendgroup\":\"1933\",\"marker\":{\"color\":\"#B6E880\",\"pattern\":{\"shape\":\"\"}},\"name\":\"1933\",\"offsetgroup\":\"1933\",\"orientation\":\"v\",\"showlegend\":true,\"x\":[1933,1933,1933],\"xaxis\":\"x\",\"yaxis\":\"y\",\"type\":\"histogram\"},{\"alignmentgroup\":\"True\",\"bingroup\":\"x\",\"hovertemplate\":\"release_year=%{x}<br>count=%{y}<extra></extra>\",\"legendgroup\":\"1945\",\"marker\":{\"color\":\"#FF97FF\",\"pattern\":{\"shape\":\"\"}},\"name\":\"1945\",\"offsetgroup\":\"1945\",\"orientation\":\"v\",\"showlegend\":true,\"x\":[1945],\"xaxis\":\"x\",\"yaxis\":\"y\",\"type\":\"histogram\"},{\"alignmentgroup\":\"True\",\"bingroup\":\"x\",\"hovertemplate\":\"release_year=%{x}<br>count=%{y}<extra></extra>\",\"legendgroup\":\"1968\",\"marker\":{\"color\":\"#FECB52\",\"pattern\":{\"shape\":\"\"}},\"name\":\"1968\",\"offsetgroup\":\"1968\",\"orientation\":\"v\",\"showlegend\":true,\"x\":[1968],\"xaxis\":\"x\",\"yaxis\":\"y\",\"type\":\"histogram\"}],                        {\"template\":{\"data\":{\"bar\":[{\"error_x\":{\"color\":\"#2a3f5f\"},\"error_y\":{\"color\":\"#2a3f5f\"},\"marker\":{\"line\":{\"color\":\"#E5ECF6\",\"width\":0.5},\"pattern\":{\"fillmode\":\"overlay\",\"size\":10,\"solidity\":0.2}},\"type\":\"bar\"}],\"barpolar\":[{\"marker\":{\"line\":{\"color\":\"#E5ECF6\",\"width\":0.5},\"pattern\":{\"fillmode\":\"overlay\",\"size\":10,\"solidity\":0.2}},\"type\":\"barpolar\"}],\"carpet\":[{\"aaxis\":{\"endlinecolor\":\"#2a3f5f\",\"gridcolor\":\"white\",\"linecolor\":\"white\",\"minorgridcolor\":\"white\",\"startlinecolor\":\"#2a3f5f\"},\"baxis\":{\"endlinecolor\":\"#2a3f5f\",\"gridcolor\":\"white\",\"linecolor\":\"white\",\"minorgridcolor\":\"white\",\"startlinecolor\":\"#2a3f5f\"},\"type\":\"carpet\"}],\"choropleth\":[{\"colorbar\":{\"outlinewidth\":0,\"ticks\":\"\"},\"type\":\"choropleth\"}],\"contour\":[{\"colorbar\":{\"outlinewidth\":0,\"ticks\":\"\"},\"colorscale\":[[0.0,\"#0d0887\"],[0.1111111111111111,\"#46039f\"],[0.2222222222222222,\"#7201a8\"],[0.3333333333333333,\"#9c179e\"],[0.4444444444444444,\"#bd3786\"],[0.5555555555555556,\"#d8576b\"],[0.6666666666666666,\"#ed7953\"],[0.7777777777777778,\"#fb9f3a\"],[0.8888888888888888,\"#fdca26\"],[1.0,\"#f0f921\"]],\"type\":\"contour\"}],\"contourcarpet\":[{\"colorbar\":{\"outlinewidth\":0,\"ticks\":\"\"},\"type\":\"contourcarpet\"}],\"heatmap\":[{\"colorbar\":{\"outlinewidth\":0,\"ticks\":\"\"},\"colorscale\":[[0.0,\"#0d0887\"],[0.1111111111111111,\"#46039f\"],[0.2222222222222222,\"#7201a8\"],[0.3333333333333333,\"#9c179e\"],[0.4444444444444444,\"#bd3786\"],[0.5555555555555556,\"#d8576b\"],[0.6666666666666666,\"#ed7953\"],[0.7777777777777778,\"#fb9f3a\"],[0.8888888888888888,\"#fdca26\"],[1.0,\"#f0f921\"]],\"type\":\"heatmap\"}],\"heatmapgl\":[{\"colorbar\":{\"outlinewidth\":0,\"ticks\":\"\"},\"colorscale\":[[0.0,\"#0d0887\"],[0.1111111111111111,\"#46039f\"],[0.2222222222222222,\"#7201a8\"],[0.3333333333333333,\"#9c179e\"],[0.4444444444444444,\"#bd3786\"],[0.5555555555555556,\"#d8576b\"],[0.6666666666666666,\"#ed7953\"],[0.7777777777777778,\"#fb9f3a\"],[0.8888888888888888,\"#fdca26\"],[1.0,\"#f0f921\"]],\"type\":\"heatmapgl\"}],\"histogram\":[{\"marker\":{\"pattern\":{\"fillmode\":\"overlay\",\"size\":10,\"solidity\":0.2}},\"type\":\"histogram\"}],\"histogram2d\":[{\"colorbar\":{\"outlinewidth\":0,\"ticks\":\"\"},\"colorscale\":[[0.0,\"#0d0887\"],[0.1111111111111111,\"#46039f\"],[0.2222222222222222,\"#7201a8\"],[0.3333333333333333,\"#9c179e\"],[0.4444444444444444,\"#bd3786\"],[0.5555555555555556,\"#d8576b\"],[0.6666666666666666,\"#ed7953\"],[0.7777777777777778,\"#fb9f3a\"],[0.8888888888888888,\"#fdca26\"],[1.0,\"#f0f921\"]],\"type\":\"histogram2d\"}],\"histogram2dcontour\":[{\"colorbar\":{\"outlinewidth\":0,\"ticks\":\"\"},\"colorscale\":[[0.0,\"#0d0887\"],[0.1111111111111111,\"#46039f\"],[0.2222222222222222,\"#7201a8\"],[0.3333333333333333,\"#9c179e\"],[0.4444444444444444,\"#bd3786\"],[0.5555555555555556,\"#d8576b\"],[0.6666666666666666,\"#ed7953\"],[0.7777777777777778,\"#fb9f3a\"],[0.8888888888888888,\"#fdca26\"],[1.0,\"#f0f921\"]],\"type\":\"histogram2dcontour\"}],\"mesh3d\":[{\"colorbar\":{\"outlinewidth\":0,\"ticks\":\"\"},\"type\":\"mesh3d\"}],\"parcoords\":[{\"line\":{\"colorbar\":{\"outlinewidth\":0,\"ticks\":\"\"}},\"type\":\"parcoords\"}],\"pie\":[{\"automargin\":true,\"type\":\"pie\"}],\"scatter\":[{\"marker\":{\"colorbar\":{\"outlinewidth\":0,\"ticks\":\"\"}},\"type\":\"scatter\"}],\"scatter3d\":[{\"line\":{\"colorbar\":{\"outlinewidth\":0,\"ticks\":\"\"}},\"marker\":{\"colorbar\":{\"outlinewidth\":0,\"ticks\":\"\"}},\"type\":\"scatter3d\"}],\"scattercarpet\":[{\"marker\":{\"colorbar\":{\"outlinewidth\":0,\"ticks\":\"\"}},\"type\":\"scattercarpet\"}],\"scattergeo\":[{\"marker\":{\"colorbar\":{\"outlinewidth\":0,\"ticks\":\"\"}},\"type\":\"scattergeo\"}],\"scattergl\":[{\"marker\":{\"colorbar\":{\"outlinewidth\":0,\"ticks\":\"\"}},\"type\":\"scattergl\"}],\"scattermapbox\":[{\"marker\":{\"colorbar\":{\"outlinewidth\":0,\"ticks\":\"\"}},\"type\":\"scattermapbox\"}],\"scatterpolar\":[{\"marker\":{\"colorbar\":{\"outlinewidth\":0,\"ticks\":\"\"}},\"type\":\"scatterpolar\"}],\"scatterpolargl\":[{\"marker\":{\"colorbar\":{\"outlinewidth\":0,\"ticks\":\"\"}},\"type\":\"scatterpolargl\"}],\"scatterternary\":[{\"marker\":{\"colorbar\":{\"outlinewidth\":0,\"ticks\":\"\"}},\"type\":\"scatterternary\"}],\"surface\":[{\"colorbar\":{\"outlinewidth\":0,\"ticks\":\"\"},\"colorscale\":[[0.0,\"#0d0887\"],[0.1111111111111111,\"#46039f\"],[0.2222222222222222,\"#7201a8\"],[0.3333333333333333,\"#9c179e\"],[0.4444444444444444,\"#bd3786\"],[0.5555555555555556,\"#d8576b\"],[0.6666666666666666,\"#ed7953\"],[0.7777777777777778,\"#fb9f3a\"],[0.8888888888888888,\"#fdca26\"],[1.0,\"#f0f921\"]],\"type\":\"surface\"}],\"table\":[{\"cells\":{\"fill\":{\"color\":\"#EBF0F8\"},\"line\":{\"color\":\"white\"}},\"header\":{\"fill\":{\"color\":\"#C8D4E3\"},\"line\":{\"color\":\"white\"}},\"type\":\"table\"}]},\"layout\":{\"annotationdefaults\":{\"arrowcolor\":\"#2a3f5f\",\"arrowhead\":0,\"arrowwidth\":1},\"autotypenumbers\":\"strict\",\"coloraxis\":{\"colorbar\":{\"outlinewidth\":0,\"ticks\":\"\"}},\"colorscale\":{\"diverging\":[[0,\"#8e0152\"],[0.1,\"#c51b7d\"],[0.2,\"#de77ae\"],[0.3,\"#f1b6da\"],[0.4,\"#fde0ef\"],[0.5,\"#f7f7f7\"],[0.6,\"#e6f5d0\"],[0.7,\"#b8e186\"],[0.8,\"#7fbc41\"],[0.9,\"#4d9221\"],[1,\"#276419\"]],\"sequential\":[[0.0,\"#0d0887\"],[0.1111111111111111,\"#46039f\"],[0.2222222222222222,\"#7201a8\"],[0.3333333333333333,\"#9c179e\"],[0.4444444444444444,\"#bd3786\"],[0.5555555555555556,\"#d8576b\"],[0.6666666666666666,\"#ed7953\"],[0.7777777777777778,\"#fb9f3a\"],[0.8888888888888888,\"#fdca26\"],[1.0,\"#f0f921\"]],\"sequentialminus\":[[0.0,\"#0d0887\"],[0.1111111111111111,\"#46039f\"],[0.2222222222222222,\"#7201a8\"],[0.3333333333333333,\"#9c179e\"],[0.4444444444444444,\"#bd3786\"],[0.5555555555555556,\"#d8576b\"],[0.6666666666666666,\"#ed7953\"],[0.7777777777777778,\"#fb9f3a\"],[0.8888888888888888,\"#fdca26\"],[1.0,\"#f0f921\"]]},\"colorway\":[\"#636efa\",\"#EF553B\",\"#00cc96\",\"#ab63fa\",\"#FFA15A\",\"#19d3f3\",\"#FF6692\",\"#B6E880\",\"#FF97FF\",\"#FECB52\"],\"font\":{\"color\":\"#2a3f5f\"},\"geo\":{\"bgcolor\":\"white\",\"lakecolor\":\"white\",\"landcolor\":\"#E5ECF6\",\"showlakes\":true,\"showland\":true,\"subunitcolor\":\"white\"},\"hoverlabel\":{\"align\":\"left\"},\"hovermode\":\"closest\",\"mapbox\":{\"style\":\"light\"},\"paper_bgcolor\":\"white\",\"plot_bgcolor\":\"#E5ECF6\",\"polar\":{\"angularaxis\":{\"gridcolor\":\"white\",\"linecolor\":\"white\",\"ticks\":\"\"},\"bgcolor\":\"#E5ECF6\",\"radialaxis\":{\"gridcolor\":\"white\",\"linecolor\":\"white\",\"ticks\":\"\"}},\"scene\":{\"xaxis\":{\"backgroundcolor\":\"#E5ECF6\",\"gridcolor\":\"white\",\"gridwidth\":2,\"linecolor\":\"white\",\"showbackground\":true,\"ticks\":\"\",\"zerolinecolor\":\"white\"},\"yaxis\":{\"backgroundcolor\":\"#E5ECF6\",\"gridcolor\":\"white\",\"gridwidth\":2,\"linecolor\":\"white\",\"showbackground\":true,\"ticks\":\"\",\"zerolinecolor\":\"white\"},\"zaxis\":{\"backgroundcolor\":\"#E5ECF6\",\"gridcolor\":\"white\",\"gridwidth\":2,\"linecolor\":\"white\",\"showbackground\":true,\"ticks\":\"\",\"zerolinecolor\":\"white\"}},\"shapedefaults\":{\"line\":{\"color\":\"#2a3f5f\"}},\"ternary\":{\"aaxis\":{\"gridcolor\":\"white\",\"linecolor\":\"white\",\"ticks\":\"\"},\"baxis\":{\"gridcolor\":\"white\",\"linecolor\":\"white\",\"ticks\":\"\"},\"bgcolor\":\"#E5ECF6\",\"caxis\":{\"gridcolor\":\"white\",\"linecolor\":\"white\",\"ticks\":\"\"}},\"title\":{\"x\":0.05},\"xaxis\":{\"automargin\":true,\"gridcolor\":\"white\",\"linecolor\":\"white\",\"ticks\":\"\",\"title\":{\"standoff\":15},\"zerolinecolor\":\"white\",\"zerolinewidth\":2},\"yaxis\":{\"automargin\":true,\"gridcolor\":\"white\",\"linecolor\":\"white\",\"ticks\":\"\",\"title\":{\"standoff\":15},\"zerolinecolor\":\"white\",\"zerolinewidth\":2}}},\"xaxis\":{\"anchor\":\"y\",\"domain\":[0.0,1.0],\"title\":{\"text\":\"release_year\"},\"categoryorder\":\"array\",\"categoryarray\":[2016,1988,2011,2021,2015,2019,2008,2020,2007,2013,2018,2014,2012,2006,2010,1996,2009,2017,1993,1994,1998,1989,1997,2005,2000,2004,1987,1985,1967,1973,1991,1956,1995,1984,1974,1959,2003,1976,2001,1990,1992,1952,1955,1977,1957,1999,1948,1964,1969,1942,1950,1951,1953,1949,1940,1946,1954,1936,1944,1935,1939,1975,1978,2002,1971,1961,1962,1981,1932,1938,1941,1986,1947,1937,1966,1943,1934,1980,1960,1983,1972,1982,1979,1928,1965,1970,1963,1933,1945,1968]},\"yaxis\":{\"anchor\":\"x\",\"domain\":[0.0,1.0],\"title\":{\"text\":\"count\"}},\"legend\":{\"title\":{\"text\":\"release_year\"},\"tracegroupgap\":0},\"margin\":{\"t\":60},\"barmode\":\"relative\"},                        {\"responsive\": true}                    ).then(function(){\n",
              "                            \n",
              "var gd = document.getElementById('8eeb6dc2-1211-44d5-9450-680fc9b07945');\n",
              "var x = new MutationObserver(function (mutations, observer) {{\n",
              "        var display = window.getComputedStyle(gd).display;\n",
              "        if (!display || display === 'none') {{\n",
              "            console.log([gd, 'removed!']);\n",
              "            Plotly.purge(gd);\n",
              "            observer.disconnect();\n",
              "        }}\n",
              "}});\n",
              "\n",
              "// Listen for the removal of the full notebook cells\n",
              "var notebookContainer = gd.closest('#notebook-container');\n",
              "if (notebookContainer) {{\n",
              "    x.observe(notebookContainer, {childList: true});\n",
              "}}\n",
              "\n",
              "// Listen for the clearing of the current output cell\n",
              "var outputEl = gd.closest('.output');\n",
              "if (outputEl) {{\n",
              "    x.observe(outputEl, {childList: true});\n",
              "}}\n",
              "\n",
              "                        })                };                            </script>        </div>\n",
              "</body>\n",
              "</html>"
            ]
          },
          "metadata": {}
        }
      ]
    },
    {
      "cell_type": "markdown",
      "source": [
        "* **release year**은 실제 작품이 출시된 날짜를 의미한다.\n",
        "* 최근에 출시된 작품들이 주를 이루고 있음을 확인할 수 있다.\n",
        "* 넷플릭스에 비해 **고전 영화**의 비중이 높다."
      ],
      "metadata": {
        "id": "tmjk8SrZon0J"
      }
    },
    {
      "cell_type": "markdown",
      "source": [
        "#### date_added column을 datetime 자료형으로 변환"
      ],
      "metadata": {
        "id": "kblHce7yqrQB"
      }
    },
    {
      "cell_type": "code",
      "source": [
        "# date_added column을 datetime 자료형으로 변환\n",
        "\n",
        "disney['date_added'] = pd.to_datetime(disney['date_added'])\n",
        "disney.dtypes"
      ],
      "metadata": {
        "id": "OCkyMrDSmexq",
        "colab": {
          "base_uri": "https://localhost:8080/"
        },
        "outputId": "d0717954-4dbd-4ebe-c8be-4b7233c4ab60"
      },
      "execution_count": null,
      "outputs": [
        {
          "output_type": "execute_result",
          "data": {
            "text/plain": [
              "show_id                 object\n",
              "type                    object\n",
              "title                   object\n",
              "director                object\n",
              "cast                    object\n",
              "country                 object\n",
              "date_added      datetime64[ns]\n",
              "release_year             int64\n",
              "rating                  object\n",
              "duration                object\n",
              "listed_in               object\n",
              "description             object\n",
              "dtype: object"
            ]
          },
          "metadata": {},
          "execution_count": 53
        }
      ]
    },
    {
      "cell_type": "code",
      "source": [
        "# date_added column이 잘 바뀌었는지 샘플 확인\n",
        "\n",
        "disney.sample()"
      ],
      "metadata": {
        "id": "RnYadIT1mexq",
        "colab": {
          "base_uri": "https://localhost:8080/",
          "height": 249
        },
        "outputId": "9c33cd72-6954-42da-c3a6-37988227acf1"
      },
      "execution_count": null,
      "outputs": [
        {
          "output_type": "execute_result",
          "data": {
            "text/html": [
              "\n",
              "  <div id=\"df-11d80333-58c4-48ec-938b-ea3711e7d7b3\">\n",
              "    <div class=\"colab-df-container\">\n",
              "      <div>\n",
              "<style scoped>\n",
              "    .dataframe tbody tr th:only-of-type {\n",
              "        vertical-align: middle;\n",
              "    }\n",
              "\n",
              "    .dataframe tbody tr th {\n",
              "        vertical-align: top;\n",
              "    }\n",
              "\n",
              "    .dataframe thead th {\n",
              "        text-align: right;\n",
              "    }\n",
              "</style>\n",
              "<table border=\"1\" class=\"dataframe\">\n",
              "  <thead>\n",
              "    <tr style=\"text-align: right;\">\n",
              "      <th></th>\n",
              "      <th>show_id</th>\n",
              "      <th>type</th>\n",
              "      <th>title</th>\n",
              "      <th>director</th>\n",
              "      <th>cast</th>\n",
              "      <th>country</th>\n",
              "      <th>date_added</th>\n",
              "      <th>release_year</th>\n",
              "      <th>rating</th>\n",
              "      <th>duration</th>\n",
              "      <th>listed_in</th>\n",
              "      <th>description</th>\n",
              "    </tr>\n",
              "  </thead>\n",
              "  <tbody>\n",
              "    <tr>\n",
              "      <th>1346</th>\n",
              "      <td>s1347</td>\n",
              "      <td>Movie</td>\n",
              "      <td>The Thirteenth Year</td>\n",
              "      <td>Duwayne Dunham</td>\n",
              "      <td>Chez Starbuck, Dave Coulier, Lisa Sullivan, Ju...</td>\n",
              "      <td>United States</td>\n",
              "      <td>2019-11-12</td>\n",
              "      <td>1999</td>\n",
              "      <td>TV-G</td>\n",
              "      <td>89 min</td>\n",
              "      <td>Coming of Age, Fantasy</td>\n",
              "      <td>Cody learns he can communicate with fish as he...</td>\n",
              "    </tr>\n",
              "  </tbody>\n",
              "</table>\n",
              "</div>\n",
              "      <button class=\"colab-df-convert\" onclick=\"convertToInteractive('df-11d80333-58c4-48ec-938b-ea3711e7d7b3')\"\n",
              "              title=\"Convert this dataframe to an interactive table.\"\n",
              "              style=\"display:none;\">\n",
              "        \n",
              "  <svg xmlns=\"http://www.w3.org/2000/svg\" height=\"24px\"viewBox=\"0 0 24 24\"\n",
              "       width=\"24px\">\n",
              "    <path d=\"M0 0h24v24H0V0z\" fill=\"none\"/>\n",
              "    <path d=\"M18.56 5.44l.94 2.06.94-2.06 2.06-.94-2.06-.94-.94-2.06-.94 2.06-2.06.94zm-11 1L8.5 8.5l.94-2.06 2.06-.94-2.06-.94L8.5 2.5l-.94 2.06-2.06.94zm10 10l.94 2.06.94-2.06 2.06-.94-2.06-.94-.94-2.06-.94 2.06-2.06.94z\"/><path d=\"M17.41 7.96l-1.37-1.37c-.4-.4-.92-.59-1.43-.59-.52 0-1.04.2-1.43.59L10.3 9.45l-7.72 7.72c-.78.78-.78 2.05 0 2.83L4 21.41c.39.39.9.59 1.41.59.51 0 1.02-.2 1.41-.59l7.78-7.78 2.81-2.81c.8-.78.8-2.07 0-2.86zM5.41 20L4 18.59l7.72-7.72 1.47 1.35L5.41 20z\"/>\n",
              "  </svg>\n",
              "      </button>\n",
              "      \n",
              "  <style>\n",
              "    .colab-df-container {\n",
              "      display:flex;\n",
              "      flex-wrap:wrap;\n",
              "      gap: 12px;\n",
              "    }\n",
              "\n",
              "    .colab-df-convert {\n",
              "      background-color: #E8F0FE;\n",
              "      border: none;\n",
              "      border-radius: 50%;\n",
              "      cursor: pointer;\n",
              "      display: none;\n",
              "      fill: #1967D2;\n",
              "      height: 32px;\n",
              "      padding: 0 0 0 0;\n",
              "      width: 32px;\n",
              "    }\n",
              "\n",
              "    .colab-df-convert:hover {\n",
              "      background-color: #E2EBFA;\n",
              "      box-shadow: 0px 1px 2px rgba(60, 64, 67, 0.3), 0px 1px 3px 1px rgba(60, 64, 67, 0.15);\n",
              "      fill: #174EA6;\n",
              "    }\n",
              "\n",
              "    [theme=dark] .colab-df-convert {\n",
              "      background-color: #3B4455;\n",
              "      fill: #D2E3FC;\n",
              "    }\n",
              "\n",
              "    [theme=dark] .colab-df-convert:hover {\n",
              "      background-color: #434B5C;\n",
              "      box-shadow: 0px 1px 3px 1px rgba(0, 0, 0, 0.15);\n",
              "      filter: drop-shadow(0px 1px 2px rgba(0, 0, 0, 0.3));\n",
              "      fill: #FFFFFF;\n",
              "    }\n",
              "  </style>\n",
              "\n",
              "      <script>\n",
              "        const buttonEl =\n",
              "          document.querySelector('#df-11d80333-58c4-48ec-938b-ea3711e7d7b3 button.colab-df-convert');\n",
              "        buttonEl.style.display =\n",
              "          google.colab.kernel.accessAllowed ? 'block' : 'none';\n",
              "\n",
              "        async function convertToInteractive(key) {\n",
              "          const element = document.querySelector('#df-11d80333-58c4-48ec-938b-ea3711e7d7b3');\n",
              "          const dataTable =\n",
              "            await google.colab.kernel.invokeFunction('convertToInteractive',\n",
              "                                                     [key], {});\n",
              "          if (!dataTable) return;\n",
              "\n",
              "          const docLinkHtml = 'Like what you see? Visit the ' +\n",
              "            '<a target=\"_blank\" href=https://colab.research.google.com/notebooks/data_table.ipynb>data table notebook</a>'\n",
              "            + ' to learn more about interactive tables.';\n",
              "          element.innerHTML = '';\n",
              "          dataTable['output_type'] = 'display_data';\n",
              "          await google.colab.output.renderOutput(dataTable, element);\n",
              "          const docLink = document.createElement('div');\n",
              "          docLink.innerHTML = docLinkHtml;\n",
              "          element.appendChild(docLink);\n",
              "        }\n",
              "      </script>\n",
              "    </div>\n",
              "  </div>\n",
              "  "
            ],
            "text/plain": [
              "     show_id   type                title        director  \\\n",
              "1346   s1347  Movie  The Thirteenth Year  Duwayne Dunham   \n",
              "\n",
              "                                                   cast        country  \\\n",
              "1346  Chez Starbuck, Dave Coulier, Lisa Sullivan, Ju...  United States   \n",
              "\n",
              "     date_added  release_year rating duration               listed_in  \\\n",
              "1346 2019-11-12          1999   TV-G   89 min  Coming of Age, Fantasy   \n",
              "\n",
              "                                            description  \n",
              "1346  Cody learns he can communicate with fish as he...  "
            ]
          },
          "metadata": {},
          "execution_count": 54
        }
      ]
    },
    {
      "cell_type": "markdown",
      "source": [
        "#### date added"
      ],
      "metadata": {
        "id": "Y6N_lkXxq4ri"
      }
    },
    {
      "cell_type": "code",
      "source": [
        "# 디즈니플러스에 추가된 날짜\n",
        "\n",
        "disney[\"date_added\"].hist()"
      ],
      "metadata": {
        "id": "Ebdkc2zZmexq",
        "colab": {
          "base_uri": "https://localhost:8080/",
          "height": 280
        },
        "outputId": "8c99a30c-33c7-4c13-8654-c4f883e5e3f6"
      },
      "execution_count": null,
      "outputs": [
        {
          "output_type": "execute_result",
          "data": {
            "text/plain": [
              "<matplotlib.axes._subplots.AxesSubplot at 0x7f937f154d90>"
            ]
          },
          "metadata": {},
          "execution_count": 55
        },
        {
          "output_type": "display_data",
          "data": {
            "image/png": "[encoded data removed]",
            "text/plain": [
              "<Figure size 432x288 with 1 Axes>"
            ]
          },
          "metadata": {}
        }
      ]
    },
    {
      "cell_type": "markdown",
      "source": [
        "* **date added**는 작품이 디즈니플러스에 추가된 날짜를 의미한다.\n",
        "* 2019년에 등록된 작품의 수가 압도적으로 많다."
      ],
      "metadata": {
        "id": "cqx_NujopjS6"
      }
    },
    {
      "cell_type": "markdown",
      "source": [
        "#### 'year_added', 'month_added', 'day_added' column 추가"
      ],
      "metadata": {
        "id": "LSAOcEEfqARZ"
      }
    },
    {
      "cell_type": "code",
      "source": [
        "# 'year_added', 'month_added', 'day_added' column을 새로 만들어 준다.\n",
        "\n",
        "disney['year_added'] = disney['date_added'].dt.year\n",
        "disney['month_added'] = disney['date_added'].dt.month\n",
        "disney['day_added'] = disney['date_added'].dt.day"
      ],
      "metadata": {
        "id": "xTB7WnsKD9Wq"
      },
      "execution_count": null,
      "outputs": []
    },
    {
      "cell_type": "markdown",
      "source": [
        "#### 연도별 작품 수 셋업"
      ],
      "metadata": {
        "id": "HUII4N7tqILW"
      }
    },
    {
      "cell_type": "code",
      "source": [
        "# 디즈니플러스에 추가된 연도별 작품 수\n",
        "\n",
        "d1 = disney[disney[\"type\"] == \"TV Show\"]\n",
        "d2 = disney[disney[\"type\"] == \"Movie\"]\n",
        "\n",
        "col = \"year_added\"\n",
        "\n",
        "vc1 = d1[col].value_counts().reset_index()\n",
        "vc1 = vc1.rename(columns = {col : \"count\", \"index\" : col})\n",
        "vc1 = vc1.sort_values(col)\n",
        "\n",
        "vc2 = d2[col].value_counts().reset_index()\n",
        "vc2 = vc2.rename(columns = {col : \"count\", \"index\" : col})\n",
        "vc2 = vc2.sort_values(col)\n",
        "\n",
        "trace1 = go.Scatter(x=vc1[col], y=vc1[\"count\"], name=\"TV Shows\", marker=dict(color=\"#9ecae1\"))\n",
        "trace2 = go.Scatter(x=vc2[col], y=vc2[\"count\"], name=\"Movies\", marker=dict(color=\"#08306b\"))\n",
        "data = [trace1, trace2]\n",
        "layout = go.Layout(title=\"연도별 작품 수 증가 추이\", legend=dict(x=0.1, y=1.1, orientation=\"h\"))\n",
        "fig = go.Figure(data, layout=layout)\n",
        "#fig.show()"
      ],
      "metadata": {
        "id": "2o2YquZwD9Wz"
      },
      "execution_count": null,
      "outputs": []
    },
    {
      "cell_type": "markdown",
      "source": [
        "#### 디즈니플러스에 추가된 연도별 작품 수"
      ],
      "metadata": {
        "id": "jN2lIKl0w_yw"
      }
    },
    {
      "cell_type": "code",
      "source": [
        "fig.show()"
      ],
      "metadata": {
        "colab": {
          "base_uri": "https://localhost:8080/",
          "height": 542
        },
        "id": "ClntiFJywyhW",
        "outputId": "931c08df-6ba3-4647-ea9d-600d329e5757"
      },
      "execution_count": null,
      "outputs": [
        {
          "output_type": "display_data",
          "data": {
            "text/html": [
              "<html>\n",
              "<head><meta charset=\"utf-8\" /></head>\n",
              "<body>\n",
              "    <div>            <script src=\"https://cdnjs.cloudflare.com/ajax/libs/mathjax/2.7.5/MathJax.js?config=TeX-AMS-MML_SVG\"></script><script type=\"text/javascript\">if (window.MathJax) {MathJax.Hub.Config({SVG: {font: \"STIX-Web\"}});}</script>                <script type=\"text/javascript\">window.PlotlyConfig = {MathJaxConfig: 'local'};</script>\n",
              "        <script src=\"https://cdn.plot.ly/plotly-2.8.3.min.js\"></script>                <div id=\"91892a7c-6908-4924-9e85-f1b92f75439a\" class=\"plotly-graph-div\" style=\"height:525px; width:100%;\"></div>            <script type=\"text/javascript\">                                    window.PLOTLYENV=window.PLOTLYENV || {};                                    if (document.getElementById(\"91892a7c-6908-4924-9e85-f1b92f75439a\")) {                    Plotly.newPlot(                        \"91892a7c-6908-4924-9e85-f1b92f75439a\",                        [{\"marker\":{\"color\":\"#9ecae1\"},\"name\":\"TV Shows\",\"x\":[2019.0,2020.0,2021.0],\"y\":[135,122,138],\"type\":\"scatter\"},{\"marker\":{\"color\":\"#08306b\"},\"name\":\"Movies\",\"x\":[2019.0,2020.0,2021.0],\"y\":[630,230,192],\"type\":\"scatter\"}],                        {\"legend\":{\"orientation\":\"h\",\"x\":0.1,\"y\":1.1},\"title\":{\"text\":\"\\uc5f0\\ub3c4\\ubcc4 \\uc791\\ud488 \\uc218 \\uc99d\\uac00 \\ucd94\\uc774\"},\"template\":{\"data\":{\"bar\":[{\"error_x\":{\"color\":\"#2a3f5f\"},\"error_y\":{\"color\":\"#2a3f5f\"},\"marker\":{\"line\":{\"color\":\"#E5ECF6\",\"width\":0.5},\"pattern\":{\"fillmode\":\"overlay\",\"size\":10,\"solidity\":0.2}},\"type\":\"bar\"}],\"barpolar\":[{\"marker\":{\"line\":{\"color\":\"#E5ECF6\",\"width\":0.5},\"pattern\":{\"fillmode\":\"overlay\",\"size\":10,\"solidity\":0.2}},\"type\":\"barpolar\"}],\"carpet\":[{\"aaxis\":{\"endlinecolor\":\"#2a3f5f\",\"gridcolor\":\"white\",\"linecolor\":\"white\",\"minorgridcolor\":\"white\",\"startlinecolor\":\"#2a3f5f\"},\"baxis\":{\"endlinecolor\":\"#2a3f5f\",\"gridcolor\":\"white\",\"linecolor\":\"white\",\"minorgridcolor\":\"white\",\"startlinecolor\":\"#2a3f5f\"},\"type\":\"carpet\"}],\"choropleth\":[{\"colorbar\":{\"outlinewidth\":0,\"ticks\":\"\"},\"type\":\"choropleth\"}],\"contour\":[{\"colorbar\":{\"outlinewidth\":0,\"ticks\":\"\"},\"colorscale\":[[0.0,\"#0d0887\"],[0.1111111111111111,\"#46039f\"],[0.2222222222222222,\"#7201a8\"],[0.3333333333333333,\"#9c179e\"],[0.4444444444444444,\"#bd3786\"],[0.5555555555555556,\"#d8576b\"],[0.6666666666666666,\"#ed7953\"],[0.7777777777777778,\"#fb9f3a\"],[0.8888888888888888,\"#fdca26\"],[1.0,\"#f0f921\"]],\"type\":\"contour\"}],\"contourcarpet\":[{\"colorbar\":{\"outlinewidth\":0,\"ticks\":\"\"},\"type\":\"contourcarpet\"}],\"heatmap\":[{\"colorbar\":{\"outlinewidth\":0,\"ticks\":\"\"},\"colorscale\":[[0.0,\"#0d0887\"],[0.1111111111111111,\"#46039f\"],[0.2222222222222222,\"#7201a8\"],[0.3333333333333333,\"#9c179e\"],[0.4444444444444444,\"#bd3786\"],[0.5555555555555556,\"#d8576b\"],[0.6666666666666666,\"#ed7953\"],[0.7777777777777778,\"#fb9f3a\"],[0.8888888888888888,\"#fdca26\"],[1.0,\"#f0f921\"]],\"type\":\"heatmap\"}],\"heatmapgl\":[{\"colorbar\":{\"outlinewidth\":0,\"ticks\":\"\"},\"colorscale\":[[0.0,\"#0d0887\"],[0.1111111111111111,\"#46039f\"],[0.2222222222222222,\"#7201a8\"],[0.3333333333333333,\"#9c179e\"],[0.4444444444444444,\"#bd3786\"],[0.5555555555555556,\"#d8576b\"],[0.6666666666666666,\"#ed7953\"],[0.7777777777777778,\"#fb9f3a\"],[0.8888888888888888,\"#fdca26\"],[1.0,\"#f0f921\"]],\"type\":\"heatmapgl\"}],\"histogram\":[{\"marker\":{\"pattern\":{\"fillmode\":\"overlay\",\"size\":10,\"solidity\":0.2}},\"type\":\"histogram\"}],\"histogram2d\":[{\"colorbar\":{\"outlinewidth\":0,\"ticks\":\"\"},\"colorscale\":[[0.0,\"#0d0887\"],[0.1111111111111111,\"#46039f\"],[0.2222222222222222,\"#7201a8\"],[0.3333333333333333,\"#9c179e\"],[0.4444444444444444,\"#bd3786\"],[0.5555555555555556,\"#d8576b\"],[0.6666666666666666,\"#ed7953\"],[0.7777777777777778,\"#fb9f3a\"],[0.8888888888888888,\"#fdca26\"],[1.0,\"#f0f921\"]],\"type\":\"histogram2d\"}],\"histogram2dcontour\":[{\"colorbar\":{\"outlinewidth\":0,\"ticks\":\"\"},\"colorscale\":[[0.0,\"#0d0887\"],[0.1111111111111111,\"#46039f\"],[0.2222222222222222,\"#7201a8\"],[0.3333333333333333,\"#9c179e\"],[0.4444444444444444,\"#bd3786\"],[0.5555555555555556,\"#d8576b\"],[0.6666666666666666,\"#ed7953\"],[0.7777777777777778,\"#fb9f3a\"],[0.8888888888888888,\"#fdca26\"],[1.0,\"#f0f921\"]],\"type\":\"histogram2dcontour\"}],\"mesh3d\":[{\"colorbar\":{\"outlinewidth\":0,\"ticks\":\"\"},\"type\":\"mesh3d\"}],\"parcoords\":[{\"line\":{\"colorbar\":{\"outlinewidth\":0,\"ticks\":\"\"}},\"type\":\"parcoords\"}],\"pie\":[{\"automargin\":true,\"type\":\"pie\"}],\"scatter\":[{\"marker\":{\"colorbar\":{\"outlinewidth\":0,\"ticks\":\"\"}},\"type\":\"scatter\"}],\"scatter3d\":[{\"line\":{\"colorbar\":{\"outlinewidth\":0,\"ticks\":\"\"}},\"marker\":{\"colorbar\":{\"outlinewidth\":0,\"ticks\":\"\"}},\"type\":\"scatter3d\"}],\"scattercarpet\":[{\"marker\":{\"colorbar\":{\"outlinewidth\":0,\"ticks\":\"\"}},\"type\":\"scattercarpet\"}],\"scattergeo\":[{\"marker\":{\"colorbar\":{\"outlinewidth\":0,\"ticks\":\"\"}},\"type\":\"scattergeo\"}],\"scattergl\":[{\"marker\":{\"colorbar\":{\"outlinewidth\":0,\"ticks\":\"\"}},\"type\":\"scattergl\"}],\"scattermapbox\":[{\"marker\":{\"colorbar\":{\"outlinewidth\":0,\"ticks\":\"\"}},\"type\":\"scattermapbox\"}],\"scatterpolar\":[{\"marker\":{\"colorbar\":{\"outlinewidth\":0,\"ticks\":\"\"}},\"type\":\"scatterpolar\"}],\"scatterpolargl\":[{\"marker\":{\"colorbar\":{\"outlinewidth\":0,\"ticks\":\"\"}},\"type\":\"scatterpolargl\"}],\"scatterternary\":[{\"marker\":{\"colorbar\":{\"outlinewidth\":0,\"ticks\":\"\"}},\"type\":\"scatterternary\"}],\"surface\":[{\"colorbar\":{\"outlinewidth\":0,\"ticks\":\"\"},\"colorscale\":[[0.0,\"#0d0887\"],[0.1111111111111111,\"#46039f\"],[0.2222222222222222,\"#7201a8\"],[0.3333333333333333,\"#9c179e\"],[0.4444444444444444,\"#bd3786\"],[0.5555555555555556,\"#d8576b\"],[0.6666666666666666,\"#ed7953\"],[0.7777777777777778,\"#fb9f3a\"],[0.8888888888888888,\"#fdca26\"],[1.0,\"#f0f921\"]],\"type\":\"surface\"}],\"table\":[{\"cells\":{\"fill\":{\"color\":\"#EBF0F8\"},\"line\":{\"color\":\"white\"}},\"header\":{\"fill\":{\"color\":\"#C8D4E3\"},\"line\":{\"color\":\"white\"}},\"type\":\"table\"}]},\"layout\":{\"annotationdefaults\":{\"arrowcolor\":\"#2a3f5f\",\"arrowhead\":0,\"arrowwidth\":1},\"autotypenumbers\":\"strict\",\"coloraxis\":{\"colorbar\":{\"outlinewidth\":0,\"ticks\":\"\"}},\"colorscale\":{\"diverging\":[[0,\"#8e0152\"],[0.1,\"#c51b7d\"],[0.2,\"#de77ae\"],[0.3,\"#f1b6da\"],[0.4,\"#fde0ef\"],[0.5,\"#f7f7f7\"],[0.6,\"#e6f5d0\"],[0.7,\"#b8e186\"],[0.8,\"#7fbc41\"],[0.9,\"#4d9221\"],[1,\"#276419\"]],\"sequential\":[[0.0,\"#0d0887\"],[0.1111111111111111,\"#46039f\"],[0.2222222222222222,\"#7201a8\"],[0.3333333333333333,\"#9c179e\"],[0.4444444444444444,\"#bd3786\"],[0.5555555555555556,\"#d8576b\"],[0.6666666666666666,\"#ed7953\"],[0.7777777777777778,\"#fb9f3a\"],[0.8888888888888888,\"#fdca26\"],[1.0,\"#f0f921\"]],\"sequentialminus\":[[0.0,\"#0d0887\"],[0.1111111111111111,\"#46039f\"],[0.2222222222222222,\"#7201a8\"],[0.3333333333333333,\"#9c179e\"],[0.4444444444444444,\"#bd3786\"],[0.5555555555555556,\"#d8576b\"],[0.6666666666666666,\"#ed7953\"],[0.7777777777777778,\"#fb9f3a\"],[0.8888888888888888,\"#fdca26\"],[1.0,\"#f0f921\"]]},\"colorway\":[\"#636efa\",\"#EF553B\",\"#00cc96\",\"#ab63fa\",\"#FFA15A\",\"#19d3f3\",\"#FF6692\",\"#B6E880\",\"#FF97FF\",\"#FECB52\"],\"font\":{\"color\":\"#2a3f5f\"},\"geo\":{\"bgcolor\":\"white\",\"lakecolor\":\"white\",\"landcolor\":\"#E5ECF6\",\"showlakes\":true,\"showland\":true,\"subunitcolor\":\"white\"},\"hoverlabel\":{\"align\":\"left\"},\"hovermode\":\"closest\",\"mapbox\":{\"style\":\"light\"},\"paper_bgcolor\":\"white\",\"plot_bgcolor\":\"#E5ECF6\",\"polar\":{\"angularaxis\":{\"gridcolor\":\"white\",\"linecolor\":\"white\",\"ticks\":\"\"},\"bgcolor\":\"#E5ECF6\",\"radialaxis\":{\"gridcolor\":\"white\",\"linecolor\":\"white\",\"ticks\":\"\"}},\"scene\":{\"xaxis\":{\"backgroundcolor\":\"#E5ECF6\",\"gridcolor\":\"white\",\"gridwidth\":2,\"linecolor\":\"white\",\"showbackground\":true,\"ticks\":\"\",\"zerolinecolor\":\"white\"},\"yaxis\":{\"backgroundcolor\":\"#E5ECF6\",\"gridcolor\":\"white\",\"gridwidth\":2,\"linecolor\":\"white\",\"showbackground\":true,\"ticks\":\"\",\"zerolinecolor\":\"white\"},\"zaxis\":{\"backgroundcolor\":\"#E5ECF6\",\"gridcolor\":\"white\",\"gridwidth\":2,\"linecolor\":\"white\",\"showbackground\":true,\"ticks\":\"\",\"zerolinecolor\":\"white\"}},\"shapedefaults\":{\"line\":{\"color\":\"#2a3f5f\"}},\"ternary\":{\"aaxis\":{\"gridcolor\":\"white\",\"linecolor\":\"white\",\"ticks\":\"\"},\"baxis\":{\"gridcolor\":\"white\",\"linecolor\":\"white\",\"ticks\":\"\"},\"bgcolor\":\"#E5ECF6\",\"caxis\":{\"gridcolor\":\"white\",\"linecolor\":\"white\",\"ticks\":\"\"}},\"title\":{\"x\":0.05},\"xaxis\":{\"automargin\":true,\"gridcolor\":\"white\",\"linecolor\":\"white\",\"ticks\":\"\",\"title\":{\"standoff\":15},\"zerolinecolor\":\"white\",\"zerolinewidth\":2},\"yaxis\":{\"automargin\":true,\"gridcolor\":\"white\",\"linecolor\":\"white\",\"ticks\":\"\",\"title\":{\"standoff\":15},\"zerolinecolor\":\"white\",\"zerolinewidth\":2}}}},                        {\"responsive\": true}                    ).then(function(){\n",
              "                            \n",
              "var gd = document.getElementById('91892a7c-6908-4924-9e85-f1b92f75439a');\n",
              "var x = new MutationObserver(function (mutations, observer) {{\n",
              "        var display = window.getComputedStyle(gd).display;\n",
              "        if (!display || display === 'none') {{\n",
              "            console.log([gd, 'removed!']);\n",
              "            Plotly.purge(gd);\n",
              "            observer.disconnect();\n",
              "        }}\n",
              "}});\n",
              "\n",
              "// Listen for the removal of the full notebook cells\n",
              "var notebookContainer = gd.closest('#notebook-container');\n",
              "if (notebookContainer) {{\n",
              "    x.observe(notebookContainer, {childList: true});\n",
              "}}\n",
              "\n",
              "// Listen for the clearing of the current output cell\n",
              "var outputEl = gd.closest('.output');\n",
              "if (outputEl) {{\n",
              "    x.observe(outputEl, {childList: true});\n",
              "}}\n",
              "\n",
              "                        })                };                            </script>        </div>\n",
              "</body>\n",
              "</html>"
            ]
          },
          "metadata": {}
        }
      ]
    },
    {
      "cell_type": "markdown",
      "source": [
        "* 2019년에 디즈니 플러스가 출시되었기에 2019년에 가장 많은 업로드가 됨을 알 수 있다.\n"
      ],
      "metadata": {
        "id": "SZoCNH2-D9W0"
      }
    },
    {
      "cell_type": "markdown",
      "source": [
        "#### 월별 작품 수 셋업"
      ],
      "metadata": {
        "id": "gFJfpDseqPBr"
      }
    },
    {
      "cell_type": "code",
      "source": [
        "# 디즈니플러스에 추가된 월별 작품 수\n",
        "\n",
        "d1 = disney[disney[\"type\"] == \"TV Show\"]\n",
        "d2 = disney[disney[\"type\"] == \"Movie\"]\n",
        "\n",
        "col = 'month_added'\n",
        "\n",
        "vc1 = d1[col].value_counts().reset_index()\n",
        "vc1 = vc1.rename(columns = {col : \"count\", \"index\" : col})\n",
        "vc1 = vc1.sort_values(col)\n",
        "\n",
        "vc2 = d2[col].value_counts().reset_index()\n",
        "vc2 = vc2.rename(columns = {col : \"count\", \"index\" : col})\n",
        "vc2 = vc2.sort_values(col)\n",
        "\n",
        "trace1 = go.Bar(x=vc1[col], y=vc1[\"count\"], name=\"TV Shows\", marker=dict(color=\"#9ecae1\"))\n",
        "trace2 = go.Bar(x=vc2[col], y=vc2[\"count\"], name=\"Movies\", marker=dict(color=\"#08306b\"))\n",
        "data = [trace1, trace2]\n",
        "layout = go.Layout(title=\"월별 작품 수 증가 추이\", legend=dict(x=0.1, y=1.1, orientation=\"h\"))\n",
        "fig = go.Figure(data, layout=layout)\n",
        "#fig.show()"
      ],
      "metadata": {
        "id": "KnLbZmo_D9W0"
      },
      "execution_count": null,
      "outputs": []
    },
    {
      "cell_type": "markdown",
      "source": [
        "#### 디즈니플러스에 추가된 월별 작품 수"
      ],
      "metadata": {
        "id": "KDd0GFjdxNvI"
      }
    },
    {
      "cell_type": "code",
      "source": [
        "fig.show()"
      ],
      "metadata": {
        "colab": {
          "base_uri": "https://localhost:8080/",
          "height": 542
        },
        "id": "ezGCL7CvxHnp",
        "outputId": "914a50ac-6424-4d44-918c-bf890e3da7d9"
      },
      "execution_count": null,
      "outputs": [
        {
          "output_type": "display_data",
          "data": {
            "text/html": [
              "<html>\n",
              "<head><meta charset=\"utf-8\" /></head>\n",
              "<body>\n",
              "    <div>            <script src=\"https://cdnjs.cloudflare.com/ajax/libs/mathjax/2.7.5/MathJax.js?config=TeX-AMS-MML_SVG\"></script><script type=\"text/javascript\">if (window.MathJax) {MathJax.Hub.Config({SVG: {font: \"STIX-Web\"}});}</script>                <script type=\"text/javascript\">window.PlotlyConfig = {MathJaxConfig: 'local'};</script>\n",
              "        <script src=\"https://cdn.plot.ly/plotly-2.8.3.min.js\"></script>                <div id=\"ed6d67cd-960e-4e5d-a5d2-cb13902d56a1\" class=\"plotly-graph-div\" style=\"height:525px; width:100%;\"></div>            <script type=\"text/javascript\">                                    window.PLOTLYENV=window.PLOTLYENV || {};                                    if (document.getElementById(\"ed6d67cd-960e-4e5d-a5d2-cb13902d56a1\")) {                    Plotly.newPlot(                        \"ed6d67cd-960e-4e5d-a5d2-cb13902d56a1\",                        [{\"marker\":{\"color\":\"#9ecae1\"},\"name\":\"TV Shows\",\"x\":[1.0,2.0,3.0,4.0,5.0,6.0,7.0,8.0,9.0,10.0,11.0,12.0],\"y\":[23,18,10,25,30,22,35,21,31,22,145,13],\"type\":\"bar\"},{\"marker\":{\"color\":\"#08306b\"},\"name\":\"Movies\",\"x\":[1.0,2.0,3.0,4.0,5.0,6.0,7.0,8.0,9.0,10.0,11.0,12.0],\"y\":[38,26,14,61,32,30,50,29,28,41,664,39],\"type\":\"bar\"}],                        {\"legend\":{\"orientation\":\"h\",\"x\":0.1,\"y\":1.1},\"title\":{\"text\":\"\\uc6d4\\ubcc4 \\uc791\\ud488 \\uc218 \\uc99d\\uac00 \\ucd94\\uc774\"},\"template\":{\"data\":{\"bar\":[{\"error_x\":{\"color\":\"#2a3f5f\"},\"error_y\":{\"color\":\"#2a3f5f\"},\"marker\":{\"line\":{\"color\":\"#E5ECF6\",\"width\":0.5},\"pattern\":{\"fillmode\":\"overlay\",\"size\":10,\"solidity\":0.2}},\"type\":\"bar\"}],\"barpolar\":[{\"marker\":{\"line\":{\"color\":\"#E5ECF6\",\"width\":0.5},\"pattern\":{\"fillmode\":\"overlay\",\"size\":10,\"solidity\":0.2}},\"type\":\"barpolar\"}],\"carpet\":[{\"aaxis\":{\"endlinecolor\":\"#2a3f5f\",\"gridcolor\":\"white\",\"linecolor\":\"white\",\"minorgridcolor\":\"white\",\"startlinecolor\":\"#2a3f5f\"},\"baxis\":{\"endlinecolor\":\"#2a3f5f\",\"gridcolor\":\"white\",\"linecolor\":\"white\",\"minorgridcolor\":\"white\",\"startlinecolor\":\"#2a3f5f\"},\"type\":\"carpet\"}],\"choropleth\":[{\"colorbar\":{\"outlinewidth\":0,\"ticks\":\"\"},\"type\":\"choropleth\"}],\"contour\":[{\"colorbar\":{\"outlinewidth\":0,\"ticks\":\"\"},\"colorscale\":[[0.0,\"#0d0887\"],[0.1111111111111111,\"#46039f\"],[0.2222222222222222,\"#7201a8\"],[0.3333333333333333,\"#9c179e\"],[0.4444444444444444,\"#bd3786\"],[0.5555555555555556,\"#d8576b\"],[0.6666666666666666,\"#ed7953\"],[0.7777777777777778,\"#fb9f3a\"],[0.8888888888888888,\"#fdca26\"],[1.0,\"#f0f921\"]],\"type\":\"contour\"}],\"contourcarpet\":[{\"colorbar\":{\"outlinewidth\":0,\"ticks\":\"\"},\"type\":\"contourcarpet\"}],\"heatmap\":[{\"colorbar\":{\"outlinewidth\":0,\"ticks\":\"\"},\"colorscale\":[[0.0,\"#0d0887\"],[0.1111111111111111,\"#46039f\"],[0.2222222222222222,\"#7201a8\"],[0.3333333333333333,\"#9c179e\"],[0.4444444444444444,\"#bd3786\"],[0.5555555555555556,\"#d8576b\"],[0.6666666666666666,\"#ed7953\"],[0.7777777777777778,\"#fb9f3a\"],[0.8888888888888888,\"#fdca26\"],[1.0,\"#f0f921\"]],\"type\":\"heatmap\"}],\"heatmapgl\":[{\"colorbar\":{\"outlinewidth\":0,\"ticks\":\"\"},\"colorscale\":[[0.0,\"#0d0887\"],[0.1111111111111111,\"#46039f\"],[0.2222222222222222,\"#7201a8\"],[0.3333333333333333,\"#9c179e\"],[0.4444444444444444,\"#bd3786\"],[0.5555555555555556,\"#d8576b\"],[0.6666666666666666,\"#ed7953\"],[0.7777777777777778,\"#fb9f3a\"],[0.8888888888888888,\"#fdca26\"],[1.0,\"#f0f921\"]],\"type\":\"heatmapgl\"}],\"histogram\":[{\"marker\":{\"pattern\":{\"fillmode\":\"overlay\",\"size\":10,\"solidity\":0.2}},\"type\":\"histogram\"}],\"histogram2d\":[{\"colorbar\":{\"outlinewidth\":0,\"ticks\":\"\"},\"colorscale\":[[0.0,\"#0d0887\"],[0.1111111111111111,\"#46039f\"],[0.2222222222222222,\"#7201a8\"],[0.3333333333333333,\"#9c179e\"],[0.4444444444444444,\"#bd3786\"],[0.5555555555555556,\"#d8576b\"],[0.6666666666666666,\"#ed7953\"],[0.7777777777777778,\"#fb9f3a\"],[0.8888888888888888,\"#fdca26\"],[1.0,\"#f0f921\"]],\"type\":\"histogram2d\"}],\"histogram2dcontour\":[{\"colorbar\":{\"outlinewidth\":0,\"ticks\":\"\"},\"colorscale\":[[0.0,\"#0d0887\"],[0.1111111111111111,\"#46039f\"],[0.2222222222222222,\"#7201a8\"],[0.3333333333333333,\"#9c179e\"],[0.4444444444444444,\"#bd3786\"],[0.5555555555555556,\"#d8576b\"],[0.6666666666666666,\"#ed7953\"],[0.7777777777777778,\"#fb9f3a\"],[0.8888888888888888,\"#fdca26\"],[1.0,\"#f0f921\"]],\"type\":\"histogram2dcontour\"}],\"mesh3d\":[{\"colorbar\":{\"outlinewidth\":0,\"ticks\":\"\"},\"type\":\"mesh3d\"}],\"parcoords\":[{\"line\":{\"colorbar\":{\"outlinewidth\":0,\"ticks\":\"\"}},\"type\":\"parcoords\"}],\"pie\":[{\"automargin\":true,\"type\":\"pie\"}],\"scatter\":[{\"marker\":{\"colorbar\":{\"outlinewidth\":0,\"ticks\":\"\"}},\"type\":\"scatter\"}],\"scatter3d\":[{\"line\":{\"colorbar\":{\"outlinewidth\":0,\"ticks\":\"\"}},\"marker\":{\"colorbar\":{\"outlinewidth\":0,\"ticks\":\"\"}},\"type\":\"scatter3d\"}],\"scattercarpet\":[{\"marker\":{\"colorbar\":{\"outlinewidth\":0,\"ticks\":\"\"}},\"type\":\"scattercarpet\"}],\"scattergeo\":[{\"marker\":{\"colorbar\":{\"outlinewidth\":0,\"ticks\":\"\"}},\"type\":\"scattergeo\"}],\"scattergl\":[{\"marker\":{\"colorbar\":{\"outlinewidth\":0,\"ticks\":\"\"}},\"type\":\"scattergl\"}],\"scattermapbox\":[{\"marker\":{\"colorbar\":{\"outlinewidth\":0,\"ticks\":\"\"}},\"type\":\"scattermapbox\"}],\"scatterpolar\":[{\"marker\":{\"colorbar\":{\"outlinewidth\":0,\"ticks\":\"\"}},\"type\":\"scatterpolar\"}],\"scatterpolargl\":[{\"marker\":{\"colorbar\":{\"outlinewidth\":0,\"ticks\":\"\"}},\"type\":\"scatterpolargl\"}],\"scatterternary\":[{\"marker\":{\"colorbar\":{\"outlinewidth\":0,\"ticks\":\"\"}},\"type\":\"scatterternary\"}],\"surface\":[{\"colorbar\":{\"outlinewidth\":0,\"ticks\":\"\"},\"colorscale\":[[0.0,\"#0d0887\"],[0.1111111111111111,\"#46039f\"],[0.2222222222222222,\"#7201a8\"],[0.3333333333333333,\"#9c179e\"],[0.4444444444444444,\"#bd3786\"],[0.5555555555555556,\"#d8576b\"],[0.6666666666666666,\"#ed7953\"],[0.7777777777777778,\"#fb9f3a\"],[0.8888888888888888,\"#fdca26\"],[1.0,\"#f0f921\"]],\"type\":\"surface\"}],\"table\":[{\"cells\":{\"fill\":{\"color\":\"#EBF0F8\"},\"line\":{\"color\":\"white\"}},\"header\":{\"fill\":{\"color\":\"#C8D4E3\"},\"line\":{\"color\":\"white\"}},\"type\":\"table\"}]},\"layout\":{\"annotationdefaults\":{\"arrowcolor\":\"#2a3f5f\",\"arrowhead\":0,\"arrowwidth\":1},\"autotypenumbers\":\"strict\",\"coloraxis\":{\"colorbar\":{\"outlinewidth\":0,\"ticks\":\"\"}},\"colorscale\":{\"diverging\":[[0,\"#8e0152\"],[0.1,\"#c51b7d\"],[0.2,\"#de77ae\"],[0.3,\"#f1b6da\"],[0.4,\"#fde0ef\"],[0.5,\"#f7f7f7\"],[0.6,\"#e6f5d0\"],[0.7,\"#b8e186\"],[0.8,\"#7fbc41\"],[0.9,\"#4d9221\"],[1,\"#276419\"]],\"sequential\":[[0.0,\"#0d0887\"],[0.1111111111111111,\"#46039f\"],[0.2222222222222222,\"#7201a8\"],[0.3333333333333333,\"#9c179e\"],[0.4444444444444444,\"#bd3786\"],[0.5555555555555556,\"#d8576b\"],[0.6666666666666666,\"#ed7953\"],[0.7777777777777778,\"#fb9f3a\"],[0.8888888888888888,\"#fdca26\"],[1.0,\"#f0f921\"]],\"sequentialminus\":[[0.0,\"#0d0887\"],[0.1111111111111111,\"#46039f\"],[0.2222222222222222,\"#7201a8\"],[0.3333333333333333,\"#9c179e\"],[0.4444444444444444,\"#bd3786\"],[0.5555555555555556,\"#d8576b\"],[0.6666666666666666,\"#ed7953\"],[0.7777777777777778,\"#fb9f3a\"],[0.8888888888888888,\"#fdca26\"],[1.0,\"#f0f921\"]]},\"colorway\":[\"#636efa\",\"#EF553B\",\"#00cc96\",\"#ab63fa\",\"#FFA15A\",\"#19d3f3\",\"#FF6692\",\"#B6E880\",\"#FF97FF\",\"#FECB52\"],\"font\":{\"color\":\"#2a3f5f\"},\"geo\":{\"bgcolor\":\"white\",\"lakecolor\":\"white\",\"landcolor\":\"#E5ECF6\",\"showlakes\":true,\"showland\":true,\"subunitcolor\":\"white\"},\"hoverlabel\":{\"align\":\"left\"},\"hovermode\":\"closest\",\"mapbox\":{\"style\":\"light\"},\"paper_bgcolor\":\"white\",\"plot_bgcolor\":\"#E5ECF6\",\"polar\":{\"angularaxis\":{\"gridcolor\":\"white\",\"linecolor\":\"white\",\"ticks\":\"\"},\"bgcolor\":\"#E5ECF6\",\"radialaxis\":{\"gridcolor\":\"white\",\"linecolor\":\"white\",\"ticks\":\"\"}},\"scene\":{\"xaxis\":{\"backgroundcolor\":\"#E5ECF6\",\"gridcolor\":\"white\",\"gridwidth\":2,\"linecolor\":\"white\",\"showbackground\":true,\"ticks\":\"\",\"zerolinecolor\":\"white\"},\"yaxis\":{\"backgroundcolor\":\"#E5ECF6\",\"gridcolor\":\"white\",\"gridwidth\":2,\"linecolor\":\"white\",\"showbackground\":true,\"ticks\":\"\",\"zerolinecolor\":\"white\"},\"zaxis\":{\"backgroundcolor\":\"#E5ECF6\",\"gridcolor\":\"white\",\"gridwidth\":2,\"linecolor\":\"white\",\"showbackground\":true,\"ticks\":\"\",\"zerolinecolor\":\"white\"}},\"shapedefaults\":{\"line\":{\"color\":\"#2a3f5f\"}},\"ternary\":{\"aaxis\":{\"gridcolor\":\"white\",\"linecolor\":\"white\",\"ticks\":\"\"},\"baxis\":{\"gridcolor\":\"white\",\"linecolor\":\"white\",\"ticks\":\"\"},\"bgcolor\":\"#E5ECF6\",\"caxis\":{\"gridcolor\":\"white\",\"linecolor\":\"white\",\"ticks\":\"\"}},\"title\":{\"x\":0.05},\"xaxis\":{\"automargin\":true,\"gridcolor\":\"white\",\"linecolor\":\"white\",\"ticks\":\"\",\"title\":{\"standoff\":15},\"zerolinecolor\":\"white\",\"zerolinewidth\":2},\"yaxis\":{\"automargin\":true,\"gridcolor\":\"white\",\"linecolor\":\"white\",\"ticks\":\"\",\"title\":{\"standoff\":15},\"zerolinecolor\":\"white\",\"zerolinewidth\":2}}}},                        {\"responsive\": true}                    ).then(function(){\n",
              "                            \n",
              "var gd = document.getElementById('ed6d67cd-960e-4e5d-a5d2-cb13902d56a1');\n",
              "var x = new MutationObserver(function (mutations, observer) {{\n",
              "        var display = window.getComputedStyle(gd).display;\n",
              "        if (!display || display === 'none') {{\n",
              "            console.log([gd, 'removed!']);\n",
              "            Plotly.purge(gd);\n",
              "            observer.disconnect();\n",
              "        }}\n",
              "}});\n",
              "\n",
              "// Listen for the removal of the full notebook cells\n",
              "var notebookContainer = gd.closest('#notebook-container');\n",
              "if (notebookContainer) {{\n",
              "    x.observe(notebookContainer, {childList: true});\n",
              "}}\n",
              "\n",
              "// Listen for the clearing of the current output cell\n",
              "var outputEl = gd.closest('.output');\n",
              "if (outputEl) {{\n",
              "    x.observe(outputEl, {childList: true});\n",
              "}}\n",
              "\n",
              "                        })                };                            </script>        </div>\n",
              "</body>\n",
              "</html>"
            ]
          },
          "metadata": {}
        }
      ]
    },
    {
      "cell_type": "markdown",
      "source": [
        "* 넷플릭스와는 다르게 11월에 작품 업로드가 많은 것을 확인할 수 있다.\n",
        "* 이는 디즈니 플러스가 2019년 11월에 서비스를 시작했기에 11월에 업로드가 몰려 있다고 추측할 수 있다."
      ],
      "metadata": {
        "id": "QGiyUQGvD9W1"
      }
    },
    {
      "cell_type": "markdown",
      "source": [
        "#### 일별 작품 수 셋업"
      ],
      "metadata": {
        "id": "qXzlw9zDqYK1"
      }
    },
    {
      "cell_type": "code",
      "source": [
        "# 디즈니플러스에 추가된 일별 작품 수\n",
        "\n",
        "d1 = disney[disney[\"type\"] == \"TV Show\"]\n",
        "d2 = disney[disney[\"type\"] == \"Movie\"]\n",
        "\n",
        "col = 'day_added'\n",
        "\n",
        "vc1 = d1[col].value_counts().reset_index()\n",
        "vc1 = vc1.rename(columns = {col : \"count\", \"index\" : col})\n",
        "vc1 = vc1.sort_values(col)\n",
        "\n",
        "vc2 = d2[col].value_counts().reset_index()\n",
        "vc2 = vc2.rename(columns = {col : \"count\", \"index\" : col})\n",
        "vc2 = vc2.sort_values(col)\n",
        "\n",
        "trace1 = go.Bar(x=vc1[col], y=vc1[\"count\"], name=\"TV Shows\", marker=dict(color=\"#9ecae1\"))\n",
        "trace2 = go.Bar(x=vc2[col], y=vc2[\"count\"], name=\"Movies\", marker=dict(color=\"#08306b\"))\n",
        "data = [trace1, trace2]\n",
        "layout = go.Layout(title=\"일별 작품 수 증가 추이\", legend=dict(x=0.1, y=1.1, orientation=\"h\"))\n",
        "fig = go.Figure(data, layout=layout)\n",
        "#fig.show()"
      ],
      "metadata": {
        "id": "c6Y6UY9CD9W1"
      },
      "execution_count": null,
      "outputs": []
    },
    {
      "cell_type": "markdown",
      "source": [
        "#### 디즈니플러스에 추가된 일별 작품 수"
      ],
      "metadata": {
        "id": "L98qv1ZYxXrJ"
      }
    },
    {
      "cell_type": "code",
      "source": [
        "fig.show()"
      ],
      "metadata": {
        "colab": {
          "base_uri": "https://localhost:8080/",
          "height": 542
        },
        "id": "EhilroMOxTIy",
        "outputId": "198209ba-d00c-4847-8e68-d4926e347f16"
      },
      "execution_count": null,
      "outputs": [
        {
          "output_type": "display_data",
          "data": {
            "text/html": [
              "<html>\n",
              "<head><meta charset=\"utf-8\" /></head>\n",
              "<body>\n",
              "    <div>            <script src=\"https://cdnjs.cloudflare.com/ajax/libs/mathjax/2.7.5/MathJax.js?config=TeX-AMS-MML_SVG\"></script><script type=\"text/javascript\">if (window.MathJax) {MathJax.Hub.Config({SVG: {font: \"STIX-Web\"}});}</script>                <script type=\"text/javascript\">window.PlotlyConfig = {MathJaxConfig: 'local'};</script>\n",
              "        <script src=\"https://cdn.plot.ly/plotly-2.8.3.min.js\"></script>                <div id=\"054172d6-abd9-4036-8101-7bf0bdbe9834\" class=\"plotly-graph-div\" style=\"height:525px; width:100%;\"></div>            <script type=\"text/javascript\">                                    window.PLOTLYENV=window.PLOTLYENV || {};                                    if (document.getElementById(\"054172d6-abd9-4036-8101-7bf0bdbe9834\")) {                    Plotly.newPlot(                        \"054172d6-abd9-4036-8101-7bf0bdbe9834\",                        [{\"marker\":{\"color\":\"#9ecae1\"},\"name\":\"TV Shows\",\"x\":[1.0,2.0,3.0,4.0,5.0,6.0,7.0,8.0,9.0,10.0,11.0,12.0,13.0,14.0,15.0,16.0,17.0,18.0,19.0,20.0,21.0,22.0,23.0,24.0,25.0,26.0,27.0,28.0,29.0,30.0,31.0],\"y\":[25,7,8,7,7,8,5,7,5,6,7,131,7,14,12,6,9,17,6,9,11,8,5,8,11,12,3,12,10,4,8],\"type\":\"bar\"},{\"marker\":{\"color\":\"#08306b\"},\"name\":\"Movies\",\"x\":[1.0,2.0,3.0,4.0,5.0,6.0,7.0,8.0,9.0,10.0,11.0,12.0,13.0,14.0,15.0,16.0,17.0,18.0,19.0,20.0,21.0,22.0,23.0,24.0,25.0,26.0,27.0,28.0,29.0,30.0,31.0],\"y\":[63,15,36,19,21,13,9,8,15,11,10,632,11,10,7,16,15,12,15,8,7,9,12,6,11,14,10,12,9,8,8],\"type\":\"bar\"}],                        {\"legend\":{\"orientation\":\"h\",\"x\":0.1,\"y\":1.1},\"title\":{\"text\":\"\\uc77c\\ubcc4 \\uc791\\ud488 \\uc218 \\uc99d\\uac00 \\ucd94\\uc774\"},\"template\":{\"data\":{\"bar\":[{\"error_x\":{\"color\":\"#2a3f5f\"},\"error_y\":{\"color\":\"#2a3f5f\"},\"marker\":{\"line\":{\"color\":\"#E5ECF6\",\"width\":0.5},\"pattern\":{\"fillmode\":\"overlay\",\"size\":10,\"solidity\":0.2}},\"type\":\"bar\"}],\"barpolar\":[{\"marker\":{\"line\":{\"color\":\"#E5ECF6\",\"width\":0.5},\"pattern\":{\"fillmode\":\"overlay\",\"size\":10,\"solidity\":0.2}},\"type\":\"barpolar\"}],\"carpet\":[{\"aaxis\":{\"endlinecolor\":\"#2a3f5f\",\"gridcolor\":\"white\",\"linecolor\":\"white\",\"minorgridcolor\":\"white\",\"startlinecolor\":\"#2a3f5f\"},\"baxis\":{\"endlinecolor\":\"#2a3f5f\",\"gridcolor\":\"white\",\"linecolor\":\"white\",\"minorgridcolor\":\"white\",\"startlinecolor\":\"#2a3f5f\"},\"type\":\"carpet\"}],\"choropleth\":[{\"colorbar\":{\"outlinewidth\":0,\"ticks\":\"\"},\"type\":\"choropleth\"}],\"contour\":[{\"colorbar\":{\"outlinewidth\":0,\"ticks\":\"\"},\"colorscale\":[[0.0,\"#0d0887\"],[0.1111111111111111,\"#46039f\"],[0.2222222222222222,\"#7201a8\"],[0.3333333333333333,\"#9c179e\"],[0.4444444444444444,\"#bd3786\"],[0.5555555555555556,\"#d8576b\"],[0.6666666666666666,\"#ed7953\"],[0.7777777777777778,\"#fb9f3a\"],[0.8888888888888888,\"#fdca26\"],[1.0,\"#f0f921\"]],\"type\":\"contour\"}],\"contourcarpet\":[{\"colorbar\":{\"outlinewidth\":0,\"ticks\":\"\"},\"type\":\"contourcarpet\"}],\"heatmap\":[{\"colorbar\":{\"outlinewidth\":0,\"ticks\":\"\"},\"colorscale\":[[0.0,\"#0d0887\"],[0.1111111111111111,\"#46039f\"],[0.2222222222222222,\"#7201a8\"],[0.3333333333333333,\"#9c179e\"],[0.4444444444444444,\"#bd3786\"],[0.5555555555555556,\"#d8576b\"],[0.6666666666666666,\"#ed7953\"],[0.7777777777777778,\"#fb9f3a\"],[0.8888888888888888,\"#fdca26\"],[1.0,\"#f0f921\"]],\"type\":\"heatmap\"}],\"heatmapgl\":[{\"colorbar\":{\"outlinewidth\":0,\"ticks\":\"\"},\"colorscale\":[[0.0,\"#0d0887\"],[0.1111111111111111,\"#46039f\"],[0.2222222222222222,\"#7201a8\"],[0.3333333333333333,\"#9c179e\"],[0.4444444444444444,\"#bd3786\"],[0.5555555555555556,\"#d8576b\"],[0.6666666666666666,\"#ed7953\"],[0.7777777777777778,\"#fb9f3a\"],[0.8888888888888888,\"#fdca26\"],[1.0,\"#f0f921\"]],\"type\":\"heatmapgl\"}],\"histogram\":[{\"marker\":{\"pattern\":{\"fillmode\":\"overlay\",\"size\":10,\"solidity\":0.2}},\"type\":\"histogram\"}],\"histogram2d\":[{\"colorbar\":{\"outlinewidth\":0,\"ticks\":\"\"},\"colorscale\":[[0.0,\"#0d0887\"],[0.1111111111111111,\"#46039f\"],[0.2222222222222222,\"#7201a8\"],[0.3333333333333333,\"#9c179e\"],[0.4444444444444444,\"#bd3786\"],[0.5555555555555556,\"#d8576b\"],[0.6666666666666666,\"#ed7953\"],[0.7777777777777778,\"#fb9f3a\"],[0.8888888888888888,\"#fdca26\"],[1.0,\"#f0f921\"]],\"type\":\"histogram2d\"}],\"histogram2dcontour\":[{\"colorbar\":{\"outlinewidth\":0,\"ticks\":\"\"},\"colorscale\":[[0.0,\"#0d0887\"],[0.1111111111111111,\"#46039f\"],[0.2222222222222222,\"#7201a8\"],[0.3333333333333333,\"#9c179e\"],[0.4444444444444444,\"#bd3786\"],[0.5555555555555556,\"#d8576b\"],[0.6666666666666666,\"#ed7953\"],[0.7777777777777778,\"#fb9f3a\"],[0.8888888888888888,\"#fdca26\"],[1.0,\"#f0f921\"]],\"type\":\"histogram2dcontour\"}],\"mesh3d\":[{\"colorbar\":{\"outlinewidth\":0,\"ticks\":\"\"},\"type\":\"mesh3d\"}],\"parcoords\":[{\"line\":{\"colorbar\":{\"outlinewidth\":0,\"ticks\":\"\"}},\"type\":\"parcoords\"}],\"pie\":[{\"automargin\":true,\"type\":\"pie\"}],\"scatter\":[{\"marker\":{\"colorbar\":{\"outlinewidth\":0,\"ticks\":\"\"}},\"type\":\"scatter\"}],\"scatter3d\":[{\"line\":{\"colorbar\":{\"outlinewidth\":0,\"ticks\":\"\"}},\"marker\":{\"colorbar\":{\"outlinewidth\":0,\"ticks\":\"\"}},\"type\":\"scatter3d\"}],\"scattercarpet\":[{\"marker\":{\"colorbar\":{\"outlinewidth\":0,\"ticks\":\"\"}},\"type\":\"scattercarpet\"}],\"scattergeo\":[{\"marker\":{\"colorbar\":{\"outlinewidth\":0,\"ticks\":\"\"}},\"type\":\"scattergeo\"}],\"scattergl\":[{\"marker\":{\"colorbar\":{\"outlinewidth\":0,\"ticks\":\"\"}},\"type\":\"scattergl\"}],\"scattermapbox\":[{\"marker\":{\"colorbar\":{\"outlinewidth\":0,\"ticks\":\"\"}},\"type\":\"scattermapbox\"}],\"scatterpolar\":[{\"marker\":{\"colorbar\":{\"outlinewidth\":0,\"ticks\":\"\"}},\"type\":\"scatterpolar\"}],\"scatterpolargl\":[{\"marker\":{\"colorbar\":{\"outlinewidth\":0,\"ticks\":\"\"}},\"type\":\"scatterpolargl\"}],\"scatterternary\":[{\"marker\":{\"colorbar\":{\"outlinewidth\":0,\"ticks\":\"\"}},\"type\":\"scatterternary\"}],\"surface\":[{\"colorbar\":{\"outlinewidth\":0,\"ticks\":\"\"},\"colorscale\":[[0.0,\"#0d0887\"],[0.1111111111111111,\"#46039f\"],[0.2222222222222222,\"#7201a8\"],[0.3333333333333333,\"#9c179e\"],[0.4444444444444444,\"#bd3786\"],[0.5555555555555556,\"#d8576b\"],[0.6666666666666666,\"#ed7953\"],[0.7777777777777778,\"#fb9f3a\"],[0.8888888888888888,\"#fdca26\"],[1.0,\"#f0f921\"]],\"type\":\"surface\"}],\"table\":[{\"cells\":{\"fill\":{\"color\":\"#EBF0F8\"},\"line\":{\"color\":\"white\"}},\"header\":{\"fill\":{\"color\":\"#C8D4E3\"},\"line\":{\"color\":\"white\"}},\"type\":\"table\"}]},\"layout\":{\"annotationdefaults\":{\"arrowcolor\":\"#2a3f5f\",\"arrowhead\":0,\"arrowwidth\":1},\"autotypenumbers\":\"strict\",\"coloraxis\":{\"colorbar\":{\"outlinewidth\":0,\"ticks\":\"\"}},\"colorscale\":{\"diverging\":[[0,\"#8e0152\"],[0.1,\"#c51b7d\"],[0.2,\"#de77ae\"],[0.3,\"#f1b6da\"],[0.4,\"#fde0ef\"],[0.5,\"#f7f7f7\"],[0.6,\"#e6f5d0\"],[0.7,\"#b8e186\"],[0.8,\"#7fbc41\"],[0.9,\"#4d9221\"],[1,\"#276419\"]],\"sequential\":[[0.0,\"#0d0887\"],[0.1111111111111111,\"#46039f\"],[0.2222222222222222,\"#7201a8\"],[0.3333333333333333,\"#9c179e\"],[0.4444444444444444,\"#bd3786\"],[0.5555555555555556,\"#d8576b\"],[0.6666666666666666,\"#ed7953\"],[0.7777777777777778,\"#fb9f3a\"],[0.8888888888888888,\"#fdca26\"],[1.0,\"#f0f921\"]],\"sequentialminus\":[[0.0,\"#0d0887\"],[0.1111111111111111,\"#46039f\"],[0.2222222222222222,\"#7201a8\"],[0.3333333333333333,\"#9c179e\"],[0.4444444444444444,\"#bd3786\"],[0.5555555555555556,\"#d8576b\"],[0.6666666666666666,\"#ed7953\"],[0.7777777777777778,\"#fb9f3a\"],[0.8888888888888888,\"#fdca26\"],[1.0,\"#f0f921\"]]},\"colorway\":[\"#636efa\",\"#EF553B\",\"#00cc96\",\"#ab63fa\",\"#FFA15A\",\"#19d3f3\",\"#FF6692\",\"#B6E880\",\"#FF97FF\",\"#FECB52\"],\"font\":{\"color\":\"#2a3f5f\"},\"geo\":{\"bgcolor\":\"white\",\"lakecolor\":\"white\",\"landcolor\":\"#E5ECF6\",\"showlakes\":true,\"showland\":true,\"subunitcolor\":\"white\"},\"hoverlabel\":{\"align\":\"left\"},\"hovermode\":\"closest\",\"mapbox\":{\"style\":\"light\"},\"paper_bgcolor\":\"white\",\"plot_bgcolor\":\"#E5ECF6\",\"polar\":{\"angularaxis\":{\"gridcolor\":\"white\",\"linecolor\":\"white\",\"ticks\":\"\"},\"bgcolor\":\"#E5ECF6\",\"radialaxis\":{\"gridcolor\":\"white\",\"linecolor\":\"white\",\"ticks\":\"\"}},\"scene\":{\"xaxis\":{\"backgroundcolor\":\"#E5ECF6\",\"gridcolor\":\"white\",\"gridwidth\":2,\"linecolor\":\"white\",\"showbackground\":true,\"ticks\":\"\",\"zerolinecolor\":\"white\"},\"yaxis\":{\"backgroundcolor\":\"#E5ECF6\",\"gridcolor\":\"white\",\"gridwidth\":2,\"linecolor\":\"white\",\"showbackground\":true,\"ticks\":\"\",\"zerolinecolor\":\"white\"},\"zaxis\":{\"backgroundcolor\":\"#E5ECF6\",\"gridcolor\":\"white\",\"gridwidth\":2,\"linecolor\":\"white\",\"showbackground\":true,\"ticks\":\"\",\"zerolinecolor\":\"white\"}},\"shapedefaults\":{\"line\":{\"color\":\"#2a3f5f\"}},\"ternary\":{\"aaxis\":{\"gridcolor\":\"white\",\"linecolor\":\"white\",\"ticks\":\"\"},\"baxis\":{\"gridcolor\":\"white\",\"linecolor\":\"white\",\"ticks\":\"\"},\"bgcolor\":\"#E5ECF6\",\"caxis\":{\"gridcolor\":\"white\",\"linecolor\":\"white\",\"ticks\":\"\"}},\"title\":{\"x\":0.05},\"xaxis\":{\"automargin\":true,\"gridcolor\":\"white\",\"linecolor\":\"white\",\"ticks\":\"\",\"title\":{\"standoff\":15},\"zerolinecolor\":\"white\",\"zerolinewidth\":2},\"yaxis\":{\"automargin\":true,\"gridcolor\":\"white\",\"linecolor\":\"white\",\"ticks\":\"\",\"title\":{\"standoff\":15},\"zerolinecolor\":\"white\",\"zerolinewidth\":2}}}},                        {\"responsive\": true}                    ).then(function(){\n",
              "                            \n",
              "var gd = document.getElementById('054172d6-abd9-4036-8101-7bf0bdbe9834');\n",
              "var x = new MutationObserver(function (mutations, observer) {{\n",
              "        var display = window.getComputedStyle(gd).display;\n",
              "        if (!display || display === 'none') {{\n",
              "            console.log([gd, 'removed!']);\n",
              "            Plotly.purge(gd);\n",
              "            observer.disconnect();\n",
              "        }}\n",
              "}});\n",
              "\n",
              "// Listen for the removal of the full notebook cells\n",
              "var notebookContainer = gd.closest('#notebook-container');\n",
              "if (notebookContainer) {{\n",
              "    x.observe(notebookContainer, {childList: true});\n",
              "}}\n",
              "\n",
              "// Listen for the clearing of the current output cell\n",
              "var outputEl = gd.closest('.output');\n",
              "if (outputEl) {{\n",
              "    x.observe(outputEl, {childList: true});\n",
              "}}\n",
              "\n",
              "                        })                };                            </script>        </div>\n",
              "</body>\n",
              "</html>"
            ]
          },
          "metadata": {}
        }
      ]
    },
    {
      "cell_type": "markdown",
      "source": [
        "* 12일에 디즈니 플러스의 작품 업로드가 몰려 있음을 확인할 수 있다.\n",
        "* 이는 디즈니 플러스의 서비스 시작일이 2019년 11월 12일이기 때문이다."
      ],
      "metadata": {
        "id": "ePIktj_YD9W1"
      }
    },
    {
      "cell_type": "markdown",
      "source": [
        "### 등급별"
      ],
      "metadata": {
        "id": "1DFk3ANxmexq"
      }
    },
    {
      "cell_type": "code",
      "source": [
        "plt.figure(figsize = (20, 5))\n",
        "plt.style.use('seaborn-whitegrid')\n",
        "ax = sns.countplot(x = 'rating', data = disney)\n",
        "plt.xlabel('Rating')\n",
        "plt.ylabel('Count')\n",
        "plt.xticks(rotation = 45)\n",
        "for p in ax.patches:\n",
        "    ax.annotate(int(p.get_height()), (p.get_x()+0.25, p.get_height()+1), va = 'bottom', color = 'black')"
      ],
      "metadata": {
        "id": "hlNVGE9Tmexq",
        "colab": {
          "base_uri": "https://localhost:8080/",
          "height": 315
        },
        "outputId": "262dd02a-6331-4c01-9c7e-8e397d1a0ba0"
      },
      "execution_count": null,
      "outputs": [
        {
          "output_type": "display_data",
          "data": {
            "image/png": "[encoded data removed]",
            "text/plain": [
              "<Figure size 1440x360 with 1 Axes>"
            ]
          },
          "metadata": {}
        }
      ]
    },
    {
      "cell_type": "markdown",
      "source": [
        "#### 등급별 셋업(Movie & TV Show)"
      ],
      "metadata": {
        "id": "xojhrbXZwTMc"
      }
    },
    {
      "cell_type": "code",
      "source": [
        "d1 = disney[disney[\"type\"] == \"TV Show\"]\n",
        "d2 = disney[disney[\"type\"] == \"Movie\"]\n",
        "\n",
        "col = \"rating\"\n",
        "\n",
        "vc1 = d1[col].value_counts().reset_index()\n",
        "vc1 = vc1.rename(columns = {col : \"count\", \"index\" : col})\n",
        "vc1['percent'] = vc1['count'].apply(lambda x : 100*x/sum(vc1['count']))\n",
        "vc1 = vc1.sort_values(col)\n",
        "\n",
        "vc2 = d2[col].value_counts().reset_index()\n",
        "vc2 = vc2.rename(columns = {col : \"count\", \"index\" : col})\n",
        "vc2['percent'] = vc2['count'].apply(lambda x : 100*x/sum(vc2['count']))\n",
        "vc2 = vc2.sort_values(col)\n",
        "\n",
        "trace1 = go.Bar(x=vc1[col], y=vc1[\"count\"], name=\"TV Shows\", marker=dict(color=\"#9ecae1\"))\n",
        "trace2 = go.Bar(x=vc2[col], y=vc2[\"count\"], name=\"Movies\", marker=dict(color=\"#08306b\"))\n",
        "data = [trace1, trace2]\n",
        "layout = go.Layout(title=\"Content added over the years\", legend=dict(x=0.1, y=1.1, orientation=\"h\"))\n",
        "fig = go.Figure(data, layout=layout)\n",
        "#fig.show()"
      ],
      "metadata": {
        "id": "jwOrXkpemexq"
      },
      "execution_count": null,
      "outputs": []
    },
    {
      "cell_type": "markdown",
      "source": [
        "#### 디즈니플러스 등급별(Movie & TV Show) 작품 수"
      ],
      "metadata": {
        "id": "S6_egwonweOi"
      }
    },
    {
      "cell_type": "code",
      "source": [
        "fig.show()"
      ],
      "metadata": {
        "colab": {
          "base_uri": "https://localhost:8080/",
          "height": 542
        },
        "id": "FvhWLJspwMy5",
        "outputId": "25961071-1285-4a6a-e483-b38d89a5e3b8"
      },
      "execution_count": null,
      "outputs": [
        {
          "output_type": "display_data",
          "data": {
            "text/html": [
              "<html>\n",
              "<head><meta charset=\"utf-8\" /></head>\n",
              "<body>\n",
              "    <div>            <script src=\"https://cdnjs.cloudflare.com/ajax/libs/mathjax/2.7.5/MathJax.js?config=TeX-AMS-MML_SVG\"></script><script type=\"text/javascript\">if (window.MathJax) {MathJax.Hub.Config({SVG: {font: \"STIX-Web\"}});}</script>                <script type=\"text/javascript\">window.PlotlyConfig = {MathJaxConfig: 'local'};</script>\n",
              "        <script src=\"https://cdn.plot.ly/plotly-2.8.3.min.js\"></script>                <div id=\"e604b265-f1b8-47f6-b8e3-832f36cf4771\" class=\"plotly-graph-div\" style=\"height:525px; width:100%;\"></div>            <script type=\"text/javascript\">                                    window.PLOTLYENV=window.PLOTLYENV || {};                                    if (document.getElementById(\"e604b265-f1b8-47f6-b8e3-832f36cf4771\")) {                    Plotly.newPlot(                        \"e604b265-f1b8-47f6-b8e3-832f36cf4771\",                        [{\"marker\":{\"color\":\"#9ecae1\"},\"name\":\"TV Shows\",\"x\":[\"PG\",\"TV-14\",\"TV-G\",\"TV-PG\",\"TV-Y\",\"TV-Y7\",\"TV-Y7-FV\"],\"y\":[1,42,85,120,47,95,6],\"type\":\"bar\"},{\"marker\":{\"color\":\"#08306b\"},\"name\":\"Movies\",\"x\":[\"G\",\"PG\",\"PG-13\",\"TV-14\",\"TV-G\",\"TV-PG\",\"TV-Y\",\"TV-Y7\",\"TV-Y7-FV\"],\"y\":[253,235,66,37,233,181,3,36,7],\"type\":\"bar\"}],                        {\"legend\":{\"orientation\":\"h\",\"x\":0.1,\"y\":1.1},\"title\":{\"text\":\"Content added over the years\"},\"template\":{\"data\":{\"bar\":[{\"error_x\":{\"color\":\"#2a3f5f\"},\"error_y\":{\"color\":\"#2a3f5f\"},\"marker\":{\"line\":{\"color\":\"#E5ECF6\",\"width\":0.5},\"pattern\":{\"fillmode\":\"overlay\",\"size\":10,\"solidity\":0.2}},\"type\":\"bar\"}],\"barpolar\":[{\"marker\":{\"line\":{\"color\":\"#E5ECF6\",\"width\":0.5},\"pattern\":{\"fillmode\":\"overlay\",\"size\":10,\"solidity\":0.2}},\"type\":\"barpolar\"}],\"carpet\":[{\"aaxis\":{\"endlinecolor\":\"#2a3f5f\",\"gridcolor\":\"white\",\"linecolor\":\"white\",\"minorgridcolor\":\"white\",\"startlinecolor\":\"#2a3f5f\"},\"baxis\":{\"endlinecolor\":\"#2a3f5f\",\"gridcolor\":\"white\",\"linecolor\":\"white\",\"minorgridcolor\":\"white\",\"startlinecolor\":\"#2a3f5f\"},\"type\":\"carpet\"}],\"choropleth\":[{\"colorbar\":{\"outlinewidth\":0,\"ticks\":\"\"},\"type\":\"choropleth\"}],\"contour\":[{\"colorbar\":{\"outlinewidth\":0,\"ticks\":\"\"},\"colorscale\":[[0.0,\"#0d0887\"],[0.1111111111111111,\"#46039f\"],[0.2222222222222222,\"#7201a8\"],[0.3333333333333333,\"#9c179e\"],[0.4444444444444444,\"#bd3786\"],[0.5555555555555556,\"#d8576b\"],[0.6666666666666666,\"#ed7953\"],[0.7777777777777778,\"#fb9f3a\"],[0.8888888888888888,\"#fdca26\"],[1.0,\"#f0f921\"]],\"type\":\"contour\"}],\"contourcarpet\":[{\"colorbar\":{\"outlinewidth\":0,\"ticks\":\"\"},\"type\":\"contourcarpet\"}],\"heatmap\":[{\"colorbar\":{\"outlinewidth\":0,\"ticks\":\"\"},\"colorscale\":[[0.0,\"#0d0887\"],[0.1111111111111111,\"#46039f\"],[0.2222222222222222,\"#7201a8\"],[0.3333333333333333,\"#9c179e\"],[0.4444444444444444,\"#bd3786\"],[0.5555555555555556,\"#d8576b\"],[0.6666666666666666,\"#ed7953\"],[0.7777777777777778,\"#fb9f3a\"],[0.8888888888888888,\"#fdca26\"],[1.0,\"#f0f921\"]],\"type\":\"heatmap\"}],\"heatmapgl\":[{\"colorbar\":{\"outlinewidth\":0,\"ticks\":\"\"},\"colorscale\":[[0.0,\"#0d0887\"],[0.1111111111111111,\"#46039f\"],[0.2222222222222222,\"#7201a8\"],[0.3333333333333333,\"#9c179e\"],[0.4444444444444444,\"#bd3786\"],[0.5555555555555556,\"#d8576b\"],[0.6666666666666666,\"#ed7953\"],[0.7777777777777778,\"#fb9f3a\"],[0.8888888888888888,\"#fdca26\"],[1.0,\"#f0f921\"]],\"type\":\"heatmapgl\"}],\"histogram\":[{\"marker\":{\"pattern\":{\"fillmode\":\"overlay\",\"size\":10,\"solidity\":0.2}},\"type\":\"histogram\"}],\"histogram2d\":[{\"colorbar\":{\"outlinewidth\":0,\"ticks\":\"\"},\"colorscale\":[[0.0,\"#0d0887\"],[0.1111111111111111,\"#46039f\"],[0.2222222222222222,\"#7201a8\"],[0.3333333333333333,\"#9c179e\"],[0.4444444444444444,\"#bd3786\"],[0.5555555555555556,\"#d8576b\"],[0.6666666666666666,\"#ed7953\"],[0.7777777777777778,\"#fb9f3a\"],[0.8888888888888888,\"#fdca26\"],[1.0,\"#f0f921\"]],\"type\":\"histogram2d\"}],\"histogram2dcontour\":[{\"colorbar\":{\"outlinewidth\":0,\"ticks\":\"\"},\"colorscale\":[[0.0,\"#0d0887\"],[0.1111111111111111,\"#46039f\"],[0.2222222222222222,\"#7201a8\"],[0.3333333333333333,\"#9c179e\"],[0.4444444444444444,\"#bd3786\"],[0.5555555555555556,\"#d8576b\"],[0.6666666666666666,\"#ed7953\"],[0.7777777777777778,\"#fb9f3a\"],[0.8888888888888888,\"#fdca26\"],[1.0,\"#f0f921\"]],\"type\":\"histogram2dcontour\"}],\"mesh3d\":[{\"colorbar\":{\"outlinewidth\":0,\"ticks\":\"\"},\"type\":\"mesh3d\"}],\"parcoords\":[{\"line\":{\"colorbar\":{\"outlinewidth\":0,\"ticks\":\"\"}},\"type\":\"parcoords\"}],\"pie\":[{\"automargin\":true,\"type\":\"pie\"}],\"scatter\":[{\"marker\":{\"colorbar\":{\"outlinewidth\":0,\"ticks\":\"\"}},\"type\":\"scatter\"}],\"scatter3d\":[{\"line\":{\"colorbar\":{\"outlinewidth\":0,\"ticks\":\"\"}},\"marker\":{\"colorbar\":{\"outlinewidth\":0,\"ticks\":\"\"}},\"type\":\"scatter3d\"}],\"scattercarpet\":[{\"marker\":{\"colorbar\":{\"outlinewidth\":0,\"ticks\":\"\"}},\"type\":\"scattercarpet\"}],\"scattergeo\":[{\"marker\":{\"colorbar\":{\"outlinewidth\":0,\"ticks\":\"\"}},\"type\":\"scattergeo\"}],\"scattergl\":[{\"marker\":{\"colorbar\":{\"outlinewidth\":0,\"ticks\":\"\"}},\"type\":\"scattergl\"}],\"scattermapbox\":[{\"marker\":{\"colorbar\":{\"outlinewidth\":0,\"ticks\":\"\"}},\"type\":\"scattermapbox\"}],\"scatterpolar\":[{\"marker\":{\"colorbar\":{\"outlinewidth\":0,\"ticks\":\"\"}},\"type\":\"scatterpolar\"}],\"scatterpolargl\":[{\"marker\":{\"colorbar\":{\"outlinewidth\":0,\"ticks\":\"\"}},\"type\":\"scatterpolargl\"}],\"scatterternary\":[{\"marker\":{\"colorbar\":{\"outlinewidth\":0,\"ticks\":\"\"}},\"type\":\"scatterternary\"}],\"surface\":[{\"colorbar\":{\"outlinewidth\":0,\"ticks\":\"\"},\"colorscale\":[[0.0,\"#0d0887\"],[0.1111111111111111,\"#46039f\"],[0.2222222222222222,\"#7201a8\"],[0.3333333333333333,\"#9c179e\"],[0.4444444444444444,\"#bd3786\"],[0.5555555555555556,\"#d8576b\"],[0.6666666666666666,\"#ed7953\"],[0.7777777777777778,\"#fb9f3a\"],[0.8888888888888888,\"#fdca26\"],[1.0,\"#f0f921\"]],\"type\":\"surface\"}],\"table\":[{\"cells\":{\"fill\":{\"color\":\"#EBF0F8\"},\"line\":{\"color\":\"white\"}},\"header\":{\"fill\":{\"color\":\"#C8D4E3\"},\"line\":{\"color\":\"white\"}},\"type\":\"table\"}]},\"layout\":{\"annotationdefaults\":{\"arrowcolor\":\"#2a3f5f\",\"arrowhead\":0,\"arrowwidth\":1},\"autotypenumbers\":\"strict\",\"coloraxis\":{\"colorbar\":{\"outlinewidth\":0,\"ticks\":\"\"}},\"colorscale\":{\"diverging\":[[0,\"#8e0152\"],[0.1,\"#c51b7d\"],[0.2,\"#de77ae\"],[0.3,\"#f1b6da\"],[0.4,\"#fde0ef\"],[0.5,\"#f7f7f7\"],[0.6,\"#e6f5d0\"],[0.7,\"#b8e186\"],[0.8,\"#7fbc41\"],[0.9,\"#4d9221\"],[1,\"#276419\"]],\"sequential\":[[0.0,\"#0d0887\"],[0.1111111111111111,\"#46039f\"],[0.2222222222222222,\"#7201a8\"],[0.3333333333333333,\"#9c179e\"],[0.4444444444444444,\"#bd3786\"],[0.5555555555555556,\"#d8576b\"],[0.6666666666666666,\"#ed7953\"],[0.7777777777777778,\"#fb9f3a\"],[0.8888888888888888,\"#fdca26\"],[1.0,\"#f0f921\"]],\"sequentialminus\":[[0.0,\"#0d0887\"],[0.1111111111111111,\"#46039f\"],[0.2222222222222222,\"#7201a8\"],[0.3333333333333333,\"#9c179e\"],[0.4444444444444444,\"#bd3786\"],[0.5555555555555556,\"#d8576b\"],[0.6666666666666666,\"#ed7953\"],[0.7777777777777778,\"#fb9f3a\"],[0.8888888888888888,\"#fdca26\"],[1.0,\"#f0f921\"]]},\"colorway\":[\"#636efa\",\"#EF553B\",\"#00cc96\",\"#ab63fa\",\"#FFA15A\",\"#19d3f3\",\"#FF6692\",\"#B6E880\",\"#FF97FF\",\"#FECB52\"],\"font\":{\"color\":\"#2a3f5f\"},\"geo\":{\"bgcolor\":\"white\",\"lakecolor\":\"white\",\"landcolor\":\"#E5ECF6\",\"showlakes\":true,\"showland\":true,\"subunitcolor\":\"white\"},\"hoverlabel\":{\"align\":\"left\"},\"hovermode\":\"closest\",\"mapbox\":{\"style\":\"light\"},\"paper_bgcolor\":\"white\",\"plot_bgcolor\":\"#E5ECF6\",\"polar\":{\"angularaxis\":{\"gridcolor\":\"white\",\"linecolor\":\"white\",\"ticks\":\"\"},\"bgcolor\":\"#E5ECF6\",\"radialaxis\":{\"gridcolor\":\"white\",\"linecolor\":\"white\",\"ticks\":\"\"}},\"scene\":{\"xaxis\":{\"backgroundcolor\":\"#E5ECF6\",\"gridcolor\":\"white\",\"gridwidth\":2,\"linecolor\":\"white\",\"showbackground\":true,\"ticks\":\"\",\"zerolinecolor\":\"white\"},\"yaxis\":{\"backgroundcolor\":\"#E5ECF6\",\"gridcolor\":\"white\",\"gridwidth\":2,\"linecolor\":\"white\",\"showbackground\":true,\"ticks\":\"\",\"zerolinecolor\":\"white\"},\"zaxis\":{\"backgroundcolor\":\"#E5ECF6\",\"gridcolor\":\"white\",\"gridwidth\":2,\"linecolor\":\"white\",\"showbackground\":true,\"ticks\":\"\",\"zerolinecolor\":\"white\"}},\"shapedefaults\":{\"line\":{\"color\":\"#2a3f5f\"}},\"ternary\":{\"aaxis\":{\"gridcolor\":\"white\",\"linecolor\":\"white\",\"ticks\":\"\"},\"baxis\":{\"gridcolor\":\"white\",\"linecolor\":\"white\",\"ticks\":\"\"},\"bgcolor\":\"#E5ECF6\",\"caxis\":{\"gridcolor\":\"white\",\"linecolor\":\"white\",\"ticks\":\"\"}},\"title\":{\"x\":0.05},\"xaxis\":{\"automargin\":true,\"gridcolor\":\"white\",\"linecolor\":\"white\",\"ticks\":\"\",\"title\":{\"standoff\":15},\"zerolinecolor\":\"white\",\"zerolinewidth\":2},\"yaxis\":{\"automargin\":true,\"gridcolor\":\"white\",\"linecolor\":\"white\",\"ticks\":\"\",\"title\":{\"standoff\":15},\"zerolinecolor\":\"white\",\"zerolinewidth\":2}}}},                        {\"responsive\": true}                    ).then(function(){\n",
              "                            \n",
              "var gd = document.getElementById('e604b265-f1b8-47f6-b8e3-832f36cf4771');\n",
              "var x = new MutationObserver(function (mutations, observer) {{\n",
              "        var display = window.getComputedStyle(gd).display;\n",
              "        if (!display || display === 'none') {{\n",
              "            console.log([gd, 'removed!']);\n",
              "            Plotly.purge(gd);\n",
              "            observer.disconnect();\n",
              "        }}\n",
              "}});\n",
              "\n",
              "// Listen for the removal of the full notebook cells\n",
              "var notebookContainer = gd.closest('#notebook-container');\n",
              "if (notebookContainer) {{\n",
              "    x.observe(notebookContainer, {childList: true});\n",
              "}}\n",
              "\n",
              "// Listen for the clearing of the current output cell\n",
              "var outputEl = gd.closest('.output');\n",
              "if (outputEl) {{\n",
              "    x.observe(outputEl, {childList: true});\n",
              "}}\n",
              "\n",
              "                        })                };                            </script>        </div>\n",
              "</body>\n",
              "</html>"
            ]
          },
          "metadata": {}
        }
      ]
    },
    {
      "cell_type": "markdown",
      "source": [
        "* G, TV-G는 **키즈(전체)** 등급\n",
        "* PG, TV-PG, TV-Y7, TV-Y7-FV은 **어린이(7세 이상)** 등급\n",
        "* 대체적으로 디즈니플러스의 영상 등급이 낮은 것을 알 수 있다.\n",
        "* **디즈니플러스**의 **타겟층**은 <mark>어린이</mark>임을 알 수 있다."
      ],
      "metadata": {
        "id": "qC4qAmtiuVME"
      }
    },
    {
      "cell_type": "markdown",
      "source": [
        "# Netflix subscription fee"
      ],
      "metadata": {
        "id": "JafCGIwY-JQu"
      }
    },
    {
      "cell_type": "markdown",
      "source": [
        "### Load Data"
      ],
      "metadata": {
        "id": "xPxSt2f0-Yy8"
      }
    },
    {
      "cell_type": "code",
      "source": [
        "netflix_cost.head(10)"
      ],
      "metadata": {
        "colab": {
          "base_uri": "https://localhost:8080/"
        },
        "id": "vyIXofJg-S-j",
        "outputId": "cfee5919-ab5f-4c7d-93d8-25add8acc3c8"
      },
      "execution_count": null,
      "outputs": [
        {
          "output_type": "execute_result",
          "data": {
            "text/html": [
              "\n",
              "  <div id=\"df-b0b8d73a-cb25-44f4-8d58-80817024603a\">\n",
              "    <div class=\"colab-df-container\">\n",
              "      <div>\n",
              "<style scoped>\n",
              "    .dataframe tbody tr th:only-of-type {\n",
              "        vertical-align: middle;\n",
              "    }\n",
              "\n",
              "    .dataframe tbody tr th {\n",
              "        vertical-align: top;\n",
              "    }\n",
              "\n",
              "    .dataframe thead th {\n",
              "        text-align: right;\n",
              "    }\n",
              "</style>\n",
              "<table border=\"1\" class=\"dataframe\">\n",
              "  <thead>\n",
              "    <tr style=\"text-align: right;\">\n",
              "      <th></th>\n",
              "      <th>Country_code</th>\n",
              "      <th>Country</th>\n",
              "      <th>Total Library Size</th>\n",
              "      <th>No. of TV Shows</th>\n",
              "      <th>No. of Movies</th>\n",
              "      <th>Cost Per Month - Basic ($)</th>\n",
              "      <th>Cost Per Month - Standard ($)</th>\n",
              "      <th>Cost Per Month - Premium ($)</th>\n",
              "    </tr>\n",
              "  </thead>\n",
              "  <tbody>\n",
              "    <tr>\n",
              "      <th>0</th>\n",
              "      <td>ar</td>\n",
              "      <td>Argentina</td>\n",
              "      <td>4760</td>\n",
              "      <td>3154</td>\n",
              "      <td>1606</td>\n",
              "      <td>3.74</td>\n",
              "      <td>6.30</td>\n",
              "      <td>9.26</td>\n",
              "    </tr>\n",
              "    <tr>\n",
              "      <th>1</th>\n",
              "      <td>au</td>\n",
              "      <td>Australia</td>\n",
              "      <td>6114</td>\n",
              "      <td>4050</td>\n",
              "      <td>2064</td>\n",
              "      <td>7.84</td>\n",
              "      <td>12.12</td>\n",
              "      <td>16.39</td>\n",
              "    </tr>\n",
              "    <tr>\n",
              "      <th>2</th>\n",
              "      <td>at</td>\n",
              "      <td>Austria</td>\n",
              "      <td>5640</td>\n",
              "      <td>3779</td>\n",
              "      <td>1861</td>\n",
              "      <td>9.03</td>\n",
              "      <td>14.67</td>\n",
              "      <td>20.32</td>\n",
              "    </tr>\n",
              "    <tr>\n",
              "      <th>3</th>\n",
              "      <td>be</td>\n",
              "      <td>Belgium</td>\n",
              "      <td>4990</td>\n",
              "      <td>3374</td>\n",
              "      <td>1616</td>\n",
              "      <td>10.16</td>\n",
              "      <td>15.24</td>\n",
              "      <td>20.32</td>\n",
              "    </tr>\n",
              "    <tr>\n",
              "      <th>4</th>\n",
              "      <td>bo</td>\n",
              "      <td>Bolivia</td>\n",
              "      <td>4991</td>\n",
              "      <td>3155</td>\n",
              "      <td>1836</td>\n",
              "      <td>7.99</td>\n",
              "      <td>10.99</td>\n",
              "      <td>13.99</td>\n",
              "    </tr>\n",
              "    <tr>\n",
              "      <th>5</th>\n",
              "      <td>br</td>\n",
              "      <td>Brazil</td>\n",
              "      <td>4972</td>\n",
              "      <td>3162</td>\n",
              "      <td>1810</td>\n",
              "      <td>4.61</td>\n",
              "      <td>7.11</td>\n",
              "      <td>9.96</td>\n",
              "    </tr>\n",
              "    <tr>\n",
              "      <th>6</th>\n",
              "      <td>bg</td>\n",
              "      <td>Bulgaria</td>\n",
              "      <td>6797</td>\n",
              "      <td>4819</td>\n",
              "      <td>1978</td>\n",
              "      <td>9.03</td>\n",
              "      <td>11.29</td>\n",
              "      <td>13.54</td>\n",
              "    </tr>\n",
              "    <tr>\n",
              "      <th>7</th>\n",
              "      <td>ca</td>\n",
              "      <td>Canada</td>\n",
              "      <td>6239</td>\n",
              "      <td>4311</td>\n",
              "      <td>1928</td>\n",
              "      <td>7.91</td>\n",
              "      <td>11.87</td>\n",
              "      <td>15.03</td>\n",
              "    </tr>\n",
              "    <tr>\n",
              "      <th>8</th>\n",
              "      <td>cl</td>\n",
              "      <td>Chile</td>\n",
              "      <td>4994</td>\n",
              "      <td>3156</td>\n",
              "      <td>1838</td>\n",
              "      <td>7.07</td>\n",
              "      <td>9.91</td>\n",
              "      <td>12.74</td>\n",
              "    </tr>\n",
              "    <tr>\n",
              "      <th>9</th>\n",
              "      <td>co</td>\n",
              "      <td>Colombia</td>\n",
              "      <td>4991</td>\n",
              "      <td>3156</td>\n",
              "      <td>1835</td>\n",
              "      <td>4.31</td>\n",
              "      <td>6.86</td>\n",
              "      <td>9.93</td>\n",
              "    </tr>\n",
              "  </tbody>\n",
              "</table>\n",
              "</div>\n",
              "      <button class=\"colab-df-convert\" onclick=\"convertToInteractive('df-b0b8d73a-cb25-44f4-8d58-80817024603a')\"\n",
              "              title=\"Convert this dataframe to an interactive table.\"\n",
              "              style=\"display:none;\">\n",
              "        \n",
              "  <svg xmlns=\"http://www.w3.org/2000/svg\" height=\"24px\"viewBox=\"0 0 24 24\"\n",
              "       width=\"24px\">\n",
              "    <path d=\"M0 0h24v24H0V0z\" fill=\"none\"/>\n",
              "    <path d=\"M18.56 5.44l.94 2.06.94-2.06 2.06-.94-2.06-.94-.94-2.06-.94 2.06-2.06.94zm-11 1L8.5 8.5l.94-2.06 2.06-.94-2.06-.94L8.5 2.5l-.94 2.06-2.06.94zm10 10l.94 2.06.94-2.06 2.06-.94-2.06-.94-.94-2.06-.94 2.06-2.06.94z\"/><path d=\"M17.41 7.96l-1.37-1.37c-.4-.4-.92-.59-1.43-.59-.52 0-1.04.2-1.43.59L10.3 9.45l-7.72 7.72c-.78.78-.78 2.05 0 2.83L4 21.41c.39.39.9.59 1.41.59.51 0 1.02-.2 1.41-.59l7.78-7.78 2.81-2.81c.8-.78.8-2.07 0-2.86zM5.41 20L4 18.59l7.72-7.72 1.47 1.35L5.41 20z\"/>\n",
              "  </svg>\n",
              "      </button>\n",
              "      \n",
              "  <style>\n",
              "    .colab-df-container {\n",
              "      display:flex;\n",
              "      flex-wrap:wrap;\n",
              "      gap: 12px;\n",
              "    }\n",
              "\n",
              "    .colab-df-convert {\n",
              "      background-color: #E8F0FE;\n",
              "      border: none;\n",
              "      border-radius: 50%;\n",
              "      cursor: pointer;\n",
              "      display: none;\n",
              "      fill: #1967D2;\n",
              "      height: 32px;\n",
              "      padding: 0 0 0 0;\n",
              "      width: 32px;\n",
              "    }\n",
              "\n",
              "    .colab-df-convert:hover {\n",
              "      background-color: #E2EBFA;\n",
              "      box-shadow: 0px 1px 2px rgba(60, 64, 67, 0.3), 0px 1px 3px 1px rgba(60, 64, 67, 0.15);\n",
              "      fill: #174EA6;\n",
              "    }\n",
              "\n",
              "    [theme=dark] .colab-df-convert {\n",
              "      background-color: #3B4455;\n",
              "      fill: #D2E3FC;\n",
              "    }\n",
              "\n",
              "    [theme=dark] .colab-df-convert:hover {\n",
              "      background-color: #434B5C;\n",
              "      box-shadow: 0px 1px 3px 1px rgba(0, 0, 0, 0.15);\n",
              "      filter: drop-shadow(0px 1px 2px rgba(0, 0, 0, 0.3));\n",
              "      fill: #FFFFFF;\n",
              "    }\n",
              "  </style>\n",
              "\n",
              "      <script>\n",
              "        const buttonEl =\n",
              "          document.querySelector('#df-b0b8d73a-cb25-44f4-8d58-80817024603a button.colab-df-convert');\n",
              "        buttonEl.style.display =\n",
              "          google.colab.kernel.accessAllowed ? 'block' : 'none';\n",
              "\n",
              "        async function convertToInteractive(key) {\n",
              "          const element = document.querySelector('#df-b0b8d73a-cb25-44f4-8d58-80817024603a');\n",
              "          const dataTable =\n",
              "            await google.colab.kernel.invokeFunction('convertToInteractive',\n",
              "                                                     [key], {});\n",
              "          if (!dataTable) return;\n",
              "\n",
              "          const docLinkHtml = 'Like what you see? Visit the ' +\n",
              "            '<a target=\"_blank\" href=https://colab.research.google.com/notebooks/data_table.ipynb>data table notebook</a>'\n",
              "            + ' to learn more about interactive tables.';\n",
              "          element.innerHTML = '';\n",
              "          dataTable['output_type'] = 'display_data';\n",
              "          await google.colab.output.renderOutput(dataTable, element);\n",
              "          const docLink = document.createElement('div');\n",
              "          docLink.innerHTML = docLinkHtml;\n",
              "          element.appendChild(docLink);\n",
              "        }\n",
              "      </script>\n",
              "    </div>\n",
              "  </div>\n",
              "  "
            ],
            "text/plain": [
              "  Country_code    Country  Total Library Size  No. of TV Shows  No. of Movies  \\\n",
              "0           ar  Argentina                4760             3154           1606   \n",
              "1           au  Australia                6114             4050           2064   \n",
              "2           at    Austria                5640             3779           1861   \n",
              "3           be    Belgium                4990             3374           1616   \n",
              "4           bo    Bolivia                4991             3155           1836   \n",
              "5           br     Brazil                4972             3162           1810   \n",
              "6           bg   Bulgaria                6797             4819           1978   \n",
              "7           ca     Canada                6239             4311           1928   \n",
              "8           cl      Chile                4994             3156           1838   \n",
              "9           co   Colombia                4991             3156           1835   \n",
              "\n",
              "   Cost Per Month - Basic ($)  Cost Per Month - Standard ($)  \\\n",
              "0                        3.74                           6.30   \n",
              "1                        7.84                          12.12   \n",
              "2                        9.03                          14.67   \n",
              "3                       10.16                          15.24   \n",
              "4                        7.99                          10.99   \n",
              "5                        4.61                           7.11   \n",
              "6                        9.03                          11.29   \n",
              "7                        7.91                          11.87   \n",
              "8                        7.07                           9.91   \n",
              "9                        4.31                           6.86   \n",
              "\n",
              "   Cost Per Month - Premium ($)  \n",
              "0                          9.26  \n",
              "1                         16.39  \n",
              "2                         20.32  \n",
              "3                         20.32  \n",
              "4                         13.99  \n",
              "5                          9.96  \n",
              "6                         13.54  \n",
              "7                         15.03  \n",
              "8                         12.74  \n",
              "9                          9.93  "
            ]
          },
          "metadata": {},
          "execution_count": 66
        }
      ]
    },
    {
      "cell_type": "code",
      "source": [
        "netflix_cost.shape"
      ],
      "metadata": {
        "colab": {
          "base_uri": "https://localhost:8080/"
        },
        "id": "ldp9QTN5_JLC",
        "outputId": "d8bb0471-d3e3-4dc3-d600-156755c57ff3"
      },
      "execution_count": null,
      "outputs": [
        {
          "output_type": "execute_result",
          "data": {
            "text/plain": [
              "(65, 8)"
            ]
          },
          "metadata": {},
          "execution_count": 67
        }
      ]
    },
    {
      "cell_type": "code",
      "source": [
        "netflix_cost.info()"
      ],
      "metadata": {
        "colab": {
          "base_uri": "https://localhost:8080/"
        },
        "id": "IpKeRKpJ-pN6",
        "outputId": "a34051ad-e0a9-4ab3-f2b8-25a62eeec3f1"
      },
      "execution_count": null,
      "outputs": [
        {
          "output_type": "stream",
          "name": "stdout",
          "text": [
            "<class 'pandas.core.frame.DataFrame'>\n",
            "RangeIndex: 65 entries, 0 to 64\n",
            "Data columns (total 8 columns):\n",
            " #   Column                         Non-Null Count  Dtype  \n",
            "---  ------                         --------------  -----  \n",
            " 0   Country_code                   65 non-null     object \n",
            " 1   Country                        65 non-null     object \n",
            " 2   Total Library Size             65 non-null     int64  \n",
            " 3   No. of TV Shows                65 non-null     int64  \n",
            " 4   No. of Movies                  65 non-null     int64  \n",
            " 5   Cost Per Month - Basic ($)     65 non-null     float64\n",
            " 6   Cost Per Month - Standard ($)  65 non-null     float64\n",
            " 7   Cost Per Month - Premium ($)   65 non-null     float64\n",
            "dtypes: float64(3), int64(3), object(2)\n",
            "memory usage: 4.2+ KB\n"
          ]
        }
      ]
    },
    {
      "cell_type": "code",
      "source": [
        "netflix_cost.isnull().sum()"
      ],
      "metadata": {
        "colab": {
          "base_uri": "https://localhost:8080/"
        },
        "id": "jsaCf7f1-W2j",
        "outputId": "efcd7e88-9c86-4b8e-fb29-3f5eafc01bad"
      },
      "execution_count": null,
      "outputs": [
        {
          "output_type": "execute_result",
          "data": {
            "text/plain": [
              "Country_code                     0\n",
              "Country                          0\n",
              "Total Library Size               0\n",
              "No. of TV Shows                  0\n",
              "No. of Movies                    0\n",
              "Cost Per Month - Basic ($)       0\n",
              "Cost Per Month - Standard ($)    0\n",
              "Cost Per Month - Premium ($)     0\n",
              "dtype: int64"
            ]
          },
          "metadata": {},
          "execution_count": 69
        }
      ]
    },
    {
      "cell_type": "code",
      "source": [
        "netflix_cost.describe()"
      ],
      "metadata": {
        "colab": {
          "base_uri": "https://localhost:8080/"
        },
        "id": "k5wLe38P-vSJ",
        "outputId": "5564c6dc-d307-4c9a-aca0-a454dc779f14"
      },
      "execution_count": null,
      "outputs": [
        {
          "output_type": "execute_result",
          "data": {
            "text/html": [
              "\n",
              "  <div id=\"df-f0bbff37-c2fa-4f90-9064-499fcdd2f59b\">\n",
              "    <div class=\"colab-df-container\">\n",
              "      <div>\n",
              "<style scoped>\n",
              "    .dataframe tbody tr th:only-of-type {\n",
              "        vertical-align: middle;\n",
              "    }\n",
              "\n",
              "    .dataframe tbody tr th {\n",
              "        vertical-align: top;\n",
              "    }\n",
              "\n",
              "    .dataframe thead th {\n",
              "        text-align: right;\n",
              "    }\n",
              "</style>\n",
              "<table border=\"1\" class=\"dataframe\">\n",
              "  <thead>\n",
              "    <tr style=\"text-align: right;\">\n",
              "      <th></th>\n",
              "      <th>Total Library Size</th>\n",
              "      <th>No. of TV Shows</th>\n",
              "      <th>No. of Movies</th>\n",
              "      <th>Cost Per Month - Basic ($)</th>\n",
              "      <th>Cost Per Month - Standard ($)</th>\n",
              "      <th>Cost Per Month - Premium ($)</th>\n",
              "    </tr>\n",
              "  </thead>\n",
              "  <tbody>\n",
              "    <tr>\n",
              "      <th>count</th>\n",
              "      <td>65.000000</td>\n",
              "      <td>65.000000</td>\n",
              "      <td>65.000000</td>\n",
              "      <td>65.000000</td>\n",
              "      <td>65.000000</td>\n",
              "      <td>65.000000</td>\n",
              "    </tr>\n",
              "    <tr>\n",
              "      <th>mean</th>\n",
              "      <td>5314.415385</td>\n",
              "      <td>3518.953846</td>\n",
              "      <td>1795.461538</td>\n",
              "      <td>8.368462</td>\n",
              "      <td>11.990000</td>\n",
              "      <td>15.612923</td>\n",
              "    </tr>\n",
              "    <tr>\n",
              "      <th>std</th>\n",
              "      <td>980.322633</td>\n",
              "      <td>723.010556</td>\n",
              "      <td>327.279748</td>\n",
              "      <td>1.937819</td>\n",
              "      <td>2.863979</td>\n",
              "      <td>4.040672</td>\n",
              "    </tr>\n",
              "    <tr>\n",
              "      <th>min</th>\n",
              "      <td>2274.000000</td>\n",
              "      <td>1675.000000</td>\n",
              "      <td>373.000000</td>\n",
              "      <td>1.970000</td>\n",
              "      <td>3.000000</td>\n",
              "      <td>4.020000</td>\n",
              "    </tr>\n",
              "    <tr>\n",
              "      <th>25%</th>\n",
              "      <td>4948.000000</td>\n",
              "      <td>3154.000000</td>\n",
              "      <td>1628.000000</td>\n",
              "      <td>7.990000</td>\n",
              "      <td>10.710000</td>\n",
              "      <td>13.540000</td>\n",
              "    </tr>\n",
              "    <tr>\n",
              "      <th>50%</th>\n",
              "      <td>5195.000000</td>\n",
              "      <td>3512.000000</td>\n",
              "      <td>1841.000000</td>\n",
              "      <td>8.990000</td>\n",
              "      <td>11.490000</td>\n",
              "      <td>14.450000</td>\n",
              "    </tr>\n",
              "    <tr>\n",
              "      <th>75%</th>\n",
              "      <td>5952.000000</td>\n",
              "      <td>3832.000000</td>\n",
              "      <td>1980.000000</td>\n",
              "      <td>9.030000</td>\n",
              "      <td>13.540000</td>\n",
              "      <td>18.060000</td>\n",
              "    </tr>\n",
              "    <tr>\n",
              "      <th>max</th>\n",
              "      <td>7325.000000</td>\n",
              "      <td>5234.000000</td>\n",
              "      <td>2387.000000</td>\n",
              "      <td>12.880000</td>\n",
              "      <td>20.460000</td>\n",
              "      <td>26.960000</td>\n",
              "    </tr>\n",
              "  </tbody>\n",
              "</table>\n",
              "</div>\n",
              "      <button class=\"colab-df-convert\" onclick=\"convertToInteractive('df-f0bbff37-c2fa-4f90-9064-499fcdd2f59b')\"\n",
              "              title=\"Convert this dataframe to an interactive table.\"\n",
              "              style=\"display:none;\">\n",
              "        \n",
              "  <svg xmlns=\"http://www.w3.org/2000/svg\" height=\"24px\"viewBox=\"0 0 24 24\"\n",
              "       width=\"24px\">\n",
              "    <path d=\"M0 0h24v24H0V0z\" fill=\"none\"/>\n",
              "    <path d=\"M18.56 5.44l.94 2.06.94-2.06 2.06-.94-2.06-.94-.94-2.06-.94 2.06-2.06.94zm-11 1L8.5 8.5l.94-2.06 2.06-.94-2.06-.94L8.5 2.5l-.94 2.06-2.06.94zm10 10l.94 2.06.94-2.06 2.06-.94-2.06-.94-.94-2.06-.94 2.06-2.06.94z\"/><path d=\"M17.41 7.96l-1.37-1.37c-.4-.4-.92-.59-1.43-.59-.52 0-1.04.2-1.43.59L10.3 9.45l-7.72 7.72c-.78.78-.78 2.05 0 2.83L4 21.41c.39.39.9.59 1.41.59.51 0 1.02-.2 1.41-.59l7.78-7.78 2.81-2.81c.8-.78.8-2.07 0-2.86zM5.41 20L4 18.59l7.72-7.72 1.47 1.35L5.41 20z\"/>\n",
              "  </svg>\n",
              "      </button>\n",
              "      \n",
              "  <style>\n",
              "    .colab-df-container {\n",
              "      display:flex;\n",
              "      flex-wrap:wrap;\n",
              "      gap: 12px;\n",
              "    }\n",
              "\n",
              "    .colab-df-convert {\n",
              "      background-color: #E8F0FE;\n",
              "      border: none;\n",
              "      border-radius: 50%;\n",
              "      cursor: pointer;\n",
              "      display: none;\n",
              "      fill: #1967D2;\n",
              "      height: 32px;\n",
              "      padding: 0 0 0 0;\n",
              "      width: 32px;\n",
              "    }\n",
              "\n",
              "    .colab-df-convert:hover {\n",
              "      background-color: #E2EBFA;\n",
              "      box-shadow: 0px 1px 2px rgba(60, 64, 67, 0.3), 0px 1px 3px 1px rgba(60, 64, 67, 0.15);\n",
              "      fill: #174EA6;\n",
              "    }\n",
              "\n",
              "    [theme=dark] .colab-df-convert {\n",
              "      background-color: #3B4455;\n",
              "      fill: #D2E3FC;\n",
              "    }\n",
              "\n",
              "    [theme=dark] .colab-df-convert:hover {\n",
              "      background-color: #434B5C;\n",
              "      box-shadow: 0px 1px 3px 1px rgba(0, 0, 0, 0.15);\n",
              "      filter: drop-shadow(0px 1px 2px rgba(0, 0, 0, 0.3));\n",
              "      fill: #FFFFFF;\n",
              "    }\n",
              "  </style>\n",
              "\n",
              "      <script>\n",
              "        const buttonEl =\n",
              "          document.querySelector('#df-f0bbff37-c2fa-4f90-9064-499fcdd2f59b button.colab-df-convert');\n",
              "        buttonEl.style.display =\n",
              "          google.colab.kernel.accessAllowed ? 'block' : 'none';\n",
              "\n",
              "        async function convertToInteractive(key) {\n",
              "          const element = document.querySelector('#df-f0bbff37-c2fa-4f90-9064-499fcdd2f59b');\n",
              "          const dataTable =\n",
              "            await google.colab.kernel.invokeFunction('convertToInteractive',\n",
              "                                                     [key], {});\n",
              "          if (!dataTable) return;\n",
              "\n",
              "          const docLinkHtml = 'Like what you see? Visit the ' +\n",
              "            '<a target=\"_blank\" href=https://colab.research.google.com/notebooks/data_table.ipynb>data table notebook</a>'\n",
              "            + ' to learn more about interactive tables.';\n",
              "          element.innerHTML = '';\n",
              "          dataTable['output_type'] = 'display_data';\n",
              "          await google.colab.output.renderOutput(dataTable, element);\n",
              "          const docLink = document.createElement('div');\n",
              "          docLink.innerHTML = docLinkHtml;\n",
              "          element.appendChild(docLink);\n",
              "        }\n",
              "      </script>\n",
              "    </div>\n",
              "  </div>\n",
              "  "
            ],
            "text/plain": [
              "       Total Library Size  No. of TV Shows  No. of Movies  \\\n",
              "count           65.000000        65.000000      65.000000   \n",
              "mean          5314.415385      3518.953846    1795.461538   \n",
              "std            980.322633       723.010556     327.279748   \n",
              "min           2274.000000      1675.000000     373.000000   \n",
              "25%           4948.000000      3154.000000    1628.000000   \n",
              "50%           5195.000000      3512.000000    1841.000000   \n",
              "75%           5952.000000      3832.000000    1980.000000   \n",
              "max           7325.000000      5234.000000    2387.000000   \n",
              "\n",
              "       Cost Per Month - Basic ($)  Cost Per Month - Standard ($)  \\\n",
              "count                   65.000000                      65.000000   \n",
              "mean                     8.368462                      11.990000   \n",
              "std                      1.937819                       2.863979   \n",
              "min                      1.970000                       3.000000   \n",
              "25%                      7.990000                      10.710000   \n",
              "50%                      8.990000                      11.490000   \n",
              "75%                      9.030000                      13.540000   \n",
              "max                     12.880000                      20.460000   \n",
              "\n",
              "       Cost Per Month - Premium ($)  \n",
              "count                     65.000000  \n",
              "mean                      15.612923  \n",
              "std                        4.040672  \n",
              "min                        4.020000  \n",
              "25%                       13.540000  \n",
              "50%                       14.450000  \n",
              "75%                       18.060000  \n",
              "max                       26.960000  "
            ]
          },
          "metadata": {},
          "execution_count": 70
        }
      ]
    },
    {
      "cell_type": "code",
      "source": [
        ""
      ],
      "metadata": {
        "id": "VKTx4iu3ANkP"
      },
      "execution_count": null,
      "outputs": []
    }
  ]
}